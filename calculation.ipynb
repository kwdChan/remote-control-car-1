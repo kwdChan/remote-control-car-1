{
 "cells": [
  {
   "cell_type": "code",
   "execution_count": 171,
   "id": "6bb53066-c78d-4084-8865-d9fbcd75eaf2",
   "metadata": {},
   "outputs": [],
   "source": [
    "from sympy import *\n",
    "from sympy import cos, pi, tan, sin"
   ]
  },
  {
   "cell_type": "markdown",
   "id": "428eef0b-92cc-48e7-9c84-c20c36e3d8bd",
   "metadata": {},
   "source": [
    "# Circlar path"
   ]
  },
  {
   "cell_type": "code",
   "execution_count": 162,
   "id": "45455fd8-68fb-426b-9ee0-58eec3c3ad13",
   "metadata": {},
   "outputs": [],
   "source": [
    "x, y, a2, b2, r2, r1, tx, ty, m, c, Ix, Iy  = symbols('x y a2 b2 r2 r1 t_x t_y asm c, I_x, I_y theta')"
   ]
  },
  {
   "cell_type": "code",
   "execution_count": 188,
   "id": "469bc5fe-30e9-4cfc-ac6c-31809df915d8",
   "metadata": {},
   "outputs": [
    {
     "data": {
      "text/latex": [
       "$\\displaystyle \\left\\{\\left( - \\frac{m r_{2} \\sqrt{\\frac{1}{\\cos^{2}{\\left(\\theta \\right)}}} \\cos{\\left(\\theta \\right)}}{\\sqrt{m^{2} + 1}} - \\frac{r_{2} \\sqrt{\\frac{1}{\\cos^{2}{\\left(\\theta \\right)}}} \\sin{\\left(2 \\theta \\right)}}{2} + t_{x}, \\  \\frac{r_{2} \\left(\\sqrt{m^{2} + 1} + \\left(m^{2} + 1\\right) \\cos{\\left(\\theta \\right)}\\right) \\sqrt{\\frac{1}{\\cos^{2}{\\left(\\theta \\right)}}} \\cos{\\left(\\theta \\right)} + t_{y} \\left(m^{2} + 1\\right)}{m^{2} + 1}, \\  - \\frac{r_{2} \\tan{\\left(\\theta \\right)}}{\\sqrt{\\frac{1}{\\cos^{2}{\\left(\\theta \\right)}}}} + t_{x}, \\  \\frac{r_{2}}{\\sqrt{\\frac{1}{\\cos^{2}{\\left(\\theta \\right)}}}} + t_{y}, \\  r_{2}\\right), \\left( - \\frac{m r_{2} \\sqrt{\\frac{1}{\\cos^{2}{\\left(\\theta \\right)}}} \\cos{\\left(\\theta \\right)}}{\\sqrt{m^{2} + 1}} + \\frac{r_{2} \\sqrt{\\frac{1}{\\cos^{2}{\\left(\\theta \\right)}}} \\sin{\\left(2 \\theta \\right)}}{2} + t_{x}, \\  \\frac{r_{2} \\left(\\sqrt{m^{2} + 1} - \\left(m^{2} + 1\\right) \\cos{\\left(\\theta \\right)}\\right) \\sqrt{\\frac{1}{\\cos^{2}{\\left(\\theta \\right)}}} \\cos{\\left(\\theta \\right)} + t_{y} \\left(m^{2} + 1\\right)}{m^{2} + 1}, \\  \\frac{r_{2} \\tan{\\left(\\theta \\right)}}{\\sqrt{\\frac{1}{\\cos^{2}{\\left(\\theta \\right)}}}} + t_{x}, \\  - \\frac{r_{2}}{\\sqrt{\\frac{1}{\\cos^{2}{\\left(\\theta \\right)}}}} + t_{y}, \\  r_{2}\\right), \\left( \\frac{m r_{2} \\sqrt{\\frac{1}{\\cos^{2}{\\left(\\theta \\right)}}} \\cos{\\left(\\theta \\right)}}{\\sqrt{m^{2} + 1}} - \\frac{r_{2} \\sqrt{\\frac{1}{\\cos^{2}{\\left(\\theta \\right)}}} \\sin{\\left(2 \\theta \\right)}}{2} + t_{x}, \\  \\frac{r_{2} \\left(- \\sqrt{m^{2} + 1} + \\left(m^{2} + 1\\right) \\cos{\\left(\\theta \\right)}\\right) \\sqrt{\\frac{1}{\\cos^{2}{\\left(\\theta \\right)}}} \\cos{\\left(\\theta \\right)} + t_{y} \\left(m^{2} + 1\\right)}{m^{2} + 1}, \\  - \\frac{r_{2} \\tan{\\left(\\theta \\right)}}{\\sqrt{\\frac{1}{\\cos^{2}{\\left(\\theta \\right)}}}} + t_{x}, \\  \\frac{r_{2}}{\\sqrt{\\frac{1}{\\cos^{2}{\\left(\\theta \\right)}}}} + t_{y}, \\  r_{2}\\right), \\left( \\frac{m r_{2} \\sqrt{\\frac{1}{\\cos^{2}{\\left(\\theta \\right)}}} \\cos{\\left(\\theta \\right)}}{\\sqrt{m^{2} + 1}} + \\frac{r_{2} \\sqrt{\\frac{1}{\\cos^{2}{\\left(\\theta \\right)}}} \\sin{\\left(2 \\theta \\right)}}{2} + t_{x}, \\  \\frac{- r_{2} \\left(\\sqrt{m^{2} + 1} + \\left(m^{2} + 1\\right) \\cos{\\left(\\theta \\right)}\\right) \\sqrt{\\frac{1}{\\cos^{2}{\\left(\\theta \\right)}}} \\cos{\\left(\\theta \\right)} + t_{y} \\left(m^{2} + 1\\right)}{m^{2} + 1}, \\  \\frac{r_{2} \\tan{\\left(\\theta \\right)}}{\\sqrt{\\frac{1}{\\cos^{2}{\\left(\\theta \\right)}}}} + t_{x}, \\  - \\frac{r_{2}}{\\sqrt{\\frac{1}{\\cos^{2}{\\left(\\theta \\right)}}}} + t_{y}, \\  r_{2}\\right)\\right\\}$"
      ],
      "text/plain": [
       "{(-m*r2*sqrt(cos(theta)**(-2))*cos(theta)/sqrt(m**2 + 1) - r2*sqrt(cos(theta)**(-2))*sin(2*theta)/2 + t_x, (r2*(sqrt(m**2 + 1) + (m**2 + 1)*cos(theta))*sqrt(cos(theta)**(-2))*cos(theta) + t_y*(m**2 + 1))/(m**2 + 1), -r2*tan(theta)/sqrt(cos(theta)**(-2)) + t_x, r2/sqrt(cos(theta)**(-2)) + t_y, r2), (-m*r2*sqrt(cos(theta)**(-2))*cos(theta)/sqrt(m**2 + 1) + r2*sqrt(cos(theta)**(-2))*sin(2*theta)/2 + t_x, (r2*(sqrt(m**2 + 1) - (m**2 + 1)*cos(theta))*sqrt(cos(theta)**(-2))*cos(theta) + t_y*(m**2 + 1))/(m**2 + 1), r2*tan(theta)/sqrt(cos(theta)**(-2)) + t_x, -r2/sqrt(cos(theta)**(-2)) + t_y, r2), (m*r2*sqrt(cos(theta)**(-2))*cos(theta)/sqrt(m**2 + 1) - r2*sqrt(cos(theta)**(-2))*sin(2*theta)/2 + t_x, (r2*(-sqrt(m**2 + 1) + (m**2 + 1)*cos(theta))*sqrt(cos(theta)**(-2))*cos(theta) + t_y*(m**2 + 1))/(m**2 + 1), -r2*tan(theta)/sqrt(cos(theta)**(-2)) + t_x, r2/sqrt(cos(theta)**(-2)) + t_y, r2), (m*r2*sqrt(cos(theta)**(-2))*cos(theta)/sqrt(m**2 + 1) + r2*sqrt(cos(theta)**(-2))*sin(2*theta)/2 + t_x, (-r2*(sqrt(m**2 + 1) + (m**2 + 1)*cos(theta))*sqrt(cos(theta)**(-2))*cos(theta) + t_y*(m**2 + 1))/(m**2 + 1), r2*tan(theta)/sqrt(cos(theta)**(-2)) + t_x, -r2/sqrt(cos(theta)**(-2)) + t_y, r2)}"
      ]
     },
     "execution_count": 188,
     "metadata": {},
     "output_type": "execute_result"
    }
   ],
   "source": [
    "target_cir_eq = Eq(r2**2, (tx-a2)**2+(ty-b2)**2)\n",
    "tangent_cir_eq = Eq(r2**2, (Ix-a2)**2+(Iy-b2)**2)\n",
    "target_tangent = Eq(tan(theta), (a2-tx)/(ty-b2))\n",
    "tangent_tangent = Eq(m, (a2-Ix)/(Iy-b2))\n",
    "\n",
    "nonlinsolve([target_cir_eq, tangent_cir_eq, target_tangent, tangent_tangent], [Ix, Iy, a2, b2, r2])\n"
   ]
  },
  {
   "cell_type": "code",
   "execution_count": 189,
   "id": "ded23498-0593-419c-93cc-f8be255f673f",
   "metadata": {},
   "outputs": [
    {
     "data": {
      "text/latex": [
       "$\\displaystyle \\left\\{\\left( - \\frac{m r_{2} \\sqrt{\\frac{1}{\\cos^{2}{\\left(\\theta \\right)}}} \\cos{\\left(\\theta \\right)}}{\\sqrt{m^{2} + 1}} - r_{2} \\sqrt{\\frac{1}{\\cos^{2}{\\left(\\theta \\right)}}} \\cos^{2}{\\left(\\theta \\right)} \\tan{\\left(\\theta \\right)} + t_{x}, \\  \\frac{r_{2} \\sqrt{m^{2} + 1} \\sqrt{\\tan^{2}{\\left(\\theta \\right)} + 1} \\cos{\\left(\\theta \\right)} + r_{2} \\sqrt{\\frac{1}{\\cos^{2}{\\left(\\theta \\right)}}} + t_{y} \\sqrt{m^{2} + 1} \\sqrt{\\tan^{2}{\\left(\\theta \\right)} + 1} \\sqrt{\\frac{1}{\\cos^{2}{\\left(\\theta \\right)}}} \\cos{\\left(\\theta \\right)}}{\\sqrt{m^{2} + 1} \\sqrt{\\tan^{2}{\\left(\\theta \\right)} + 1} \\sqrt{\\frac{1}{\\cos^{2}{\\left(\\theta \\right)}}} \\cos{\\left(\\theta \\right)}}, \\  - \\frac{r_{2} \\tan{\\left(\\theta \\right)}}{\\sqrt{\\frac{1}{\\cos^{2}{\\left(\\theta \\right)}}}} + t_{x}, \\  \\frac{r_{2}}{\\sqrt{\\tan^{2}{\\left(\\theta \\right)} + 1}} + t_{y}\\right), \\left( - \\frac{m r_{2} \\sqrt{\\frac{1}{\\cos^{2}{\\left(\\theta \\right)}}} \\cos{\\left(\\theta \\right)}}{\\sqrt{m^{2} + 1}} + r_{2} \\sqrt{\\frac{1}{\\cos^{2}{\\left(\\theta \\right)}}} \\cos^{2}{\\left(\\theta \\right)} \\tan{\\left(\\theta \\right)} + t_{x}, \\  \\frac{- r_{2} \\sqrt{m^{2} + 1} \\sqrt{\\tan^{2}{\\left(\\theta \\right)} + 1} \\cos{\\left(\\theta \\right)} + r_{2} \\sqrt{\\frac{1}{\\cos^{2}{\\left(\\theta \\right)}}} + t_{y} \\sqrt{m^{2} + 1} \\sqrt{\\tan^{2}{\\left(\\theta \\right)} + 1} \\sqrt{\\frac{1}{\\cos^{2}{\\left(\\theta \\right)}}} \\cos{\\left(\\theta \\right)}}{\\sqrt{m^{2} + 1} \\sqrt{\\tan^{2}{\\left(\\theta \\right)} + 1} \\sqrt{\\frac{1}{\\cos^{2}{\\left(\\theta \\right)}}} \\cos{\\left(\\theta \\right)}}, \\  \\frac{r_{2} \\tan{\\left(\\theta \\right)}}{\\sqrt{\\frac{1}{\\cos^{2}{\\left(\\theta \\right)}}}} + t_{x}, \\  - \\frac{r_{2}}{\\sqrt{\\tan^{2}{\\left(\\theta \\right)} + 1}} + t_{y}\\right), \\left( \\frac{m r_{2} \\sqrt{\\frac{1}{\\cos^{2}{\\left(\\theta \\right)}}} \\cos{\\left(\\theta \\right)}}{\\sqrt{m^{2} + 1}} - r_{2} \\sqrt{\\frac{1}{\\cos^{2}{\\left(\\theta \\right)}}} \\cos^{2}{\\left(\\theta \\right)} \\tan{\\left(\\theta \\right)} + t_{x}, \\  \\frac{r_{2} \\sqrt{m^{2} + 1} \\sqrt{\\tan^{2}{\\left(\\theta \\right)} + 1} \\cos{\\left(\\theta \\right)} - r_{2} \\sqrt{\\frac{1}{\\cos^{2}{\\left(\\theta \\right)}}} + t_{y} \\sqrt{m^{2} + 1} \\sqrt{\\tan^{2}{\\left(\\theta \\right)} + 1} \\sqrt{\\frac{1}{\\cos^{2}{\\left(\\theta \\right)}}} \\cos{\\left(\\theta \\right)}}{\\sqrt{m^{2} + 1} \\sqrt{\\tan^{2}{\\left(\\theta \\right)} + 1} \\sqrt{\\frac{1}{\\cos^{2}{\\left(\\theta \\right)}}} \\cos{\\left(\\theta \\right)}}, \\  - \\frac{r_{2} \\tan{\\left(\\theta \\right)}}{\\sqrt{\\frac{1}{\\cos^{2}{\\left(\\theta \\right)}}}} + t_{x}, \\  \\frac{r_{2}}{\\sqrt{\\tan^{2}{\\left(\\theta \\right)} + 1}} + t_{y}\\right), \\left( \\frac{m r_{2} \\sqrt{\\frac{1}{\\cos^{2}{\\left(\\theta \\right)}}} \\cos{\\left(\\theta \\right)}}{\\sqrt{m^{2} + 1}} + r_{2} \\sqrt{\\frac{1}{\\cos^{2}{\\left(\\theta \\right)}}} \\cos^{2}{\\left(\\theta \\right)} \\tan{\\left(\\theta \\right)} + t_{x}, \\  \\frac{- r_{2} \\sqrt{m^{2} + 1} \\sqrt{\\tan^{2}{\\left(\\theta \\right)} + 1} \\cos{\\left(\\theta \\right)} - r_{2} \\sqrt{\\frac{1}{\\cos^{2}{\\left(\\theta \\right)}}} + t_{y} \\sqrt{m^{2} + 1} \\sqrt{\\tan^{2}{\\left(\\theta \\right)} + 1} \\sqrt{\\frac{1}{\\cos^{2}{\\left(\\theta \\right)}}} \\cos{\\left(\\theta \\right)}}{\\sqrt{m^{2} + 1} \\sqrt{\\tan^{2}{\\left(\\theta \\right)} + 1} \\sqrt{\\frac{1}{\\cos^{2}{\\left(\\theta \\right)}}} \\cos{\\left(\\theta \\right)}}, \\  \\frac{r_{2} \\tan{\\left(\\theta \\right)}}{\\sqrt{\\frac{1}{\\cos^{2}{\\left(\\theta \\right)}}}} + t_{x}, \\  - \\frac{r_{2}}{\\sqrt{\\tan^{2}{\\left(\\theta \\right)} + 1}} + t_{y}\\right)\\right\\}$"
      ],
      "text/plain": [
       "{(-m*r2*sqrt(cos(theta)**(-2))*cos(theta)/sqrt(m**2 + 1) - r2*sqrt(cos(theta)**(-2))*cos(theta)**2*tan(theta) + t_x, (r2*sqrt(m**2 + 1)*sqrt(tan(theta)**2 + 1)*cos(theta) + r2*sqrt(cos(theta)**(-2)) + t_y*sqrt(m**2 + 1)*sqrt(tan(theta)**2 + 1)*sqrt(cos(theta)**(-2))*cos(theta))/(sqrt(m**2 + 1)*sqrt(tan(theta)**2 + 1)*sqrt(cos(theta)**(-2))*cos(theta)), -r2*tan(theta)/sqrt(cos(theta)**(-2)) + t_x, r2/sqrt(tan(theta)**2 + 1) + t_y), (-m*r2*sqrt(cos(theta)**(-2))*cos(theta)/sqrt(m**2 + 1) + r2*sqrt(cos(theta)**(-2))*cos(theta)**2*tan(theta) + t_x, (-r2*sqrt(m**2 + 1)*sqrt(tan(theta)**2 + 1)*cos(theta) + r2*sqrt(cos(theta)**(-2)) + t_y*sqrt(m**2 + 1)*sqrt(tan(theta)**2 + 1)*sqrt(cos(theta)**(-2))*cos(theta))/(sqrt(m**2 + 1)*sqrt(tan(theta)**2 + 1)*sqrt(cos(theta)**(-2))*cos(theta)), r2*tan(theta)/sqrt(cos(theta)**(-2)) + t_x, -r2/sqrt(tan(theta)**2 + 1) + t_y), (m*r2*sqrt(cos(theta)**(-2))*cos(theta)/sqrt(m**2 + 1) - r2*sqrt(cos(theta)**(-2))*cos(theta)**2*tan(theta) + t_x, (r2*sqrt(m**2 + 1)*sqrt(tan(theta)**2 + 1)*cos(theta) - r2*sqrt(cos(theta)**(-2)) + t_y*sqrt(m**2 + 1)*sqrt(tan(theta)**2 + 1)*sqrt(cos(theta)**(-2))*cos(theta))/(sqrt(m**2 + 1)*sqrt(tan(theta)**2 + 1)*sqrt(cos(theta)**(-2))*cos(theta)), -r2*tan(theta)/sqrt(cos(theta)**(-2)) + t_x, r2/sqrt(tan(theta)**2 + 1) + t_y), (m*r2*sqrt(cos(theta)**(-2))*cos(theta)/sqrt(m**2 + 1) + r2*sqrt(cos(theta)**(-2))*cos(theta)**2*tan(theta) + t_x, (-r2*sqrt(m**2 + 1)*sqrt(tan(theta)**2 + 1)*cos(theta) - r2*sqrt(cos(theta)**(-2)) + t_y*sqrt(m**2 + 1)*sqrt(tan(theta)**2 + 1)*sqrt(cos(theta)**(-2))*cos(theta))/(sqrt(m**2 + 1)*sqrt(tan(theta)**2 + 1)*sqrt(cos(theta)**(-2))*cos(theta)), r2*tan(theta)/sqrt(cos(theta)**(-2)) + t_x, -r2/sqrt(tan(theta)**2 + 1) + t_y)}"
      ]
     },
     "execution_count": 189,
     "metadata": {},
     "output_type": "execute_result"
    }
   ],
   "source": [
    "nonlinsolve([target_cir_eq, tangent_cir_eq, target_tangent, tangent_tangent], [Ix, Iy, a2, b2])\n"
   ]
  },
  {
   "cell_type": "markdown",
   "id": "da79053f-eb29-4a54-8b92-f68f5375cda1",
   "metadata": {},
   "source": [
    "# Radius of curvature"
   ]
  },
  {
   "cell_type": "code",
   "execution_count": 358,
   "id": "2596ae6a-98ee-42fe-b347-c31ddd2f1427",
   "metadata": {},
   "outputs": [],
   "source": [
    "r, v1, v2, a1, a2, s, t, theta  = symbols('r v_1 v_2 a_1 a_2 s t theta')"
   ]
  },
  {
   "cell_type": "code",
   "execution_count": 385,
   "id": "04e1c0a6-5419-4527-8162-3d9d10117852",
   "metadata": {},
   "outputs": [
    {
     "data": {
      "text/latex": [
       "$\\displaystyle \\left\\{\\left( \\theta \\left(r - s\\right), \\  \\theta \\left(r + s\\right)\\right)\\right\\}$"
      ],
      "text/plain": [
       "{(theta*(r - s), theta*(r + s))}"
      ]
     },
     "execution_count": 385,
     "metadata": {},
     "output_type": "execute_result"
    }
   ],
   "source": [
    "eq1 = Eq(v1, theta*(r - s))\n",
    "eq2 = Eq(v2, theta*(r + s))\n",
    "\n",
    "nonlinsolve([eq1, eq2], [v1, v2] )"
   ]
  },
  {
   "cell_type": "code",
   "execution_count": 343,
   "id": "593f3145-afc3-4187-9f62-fafcca84c061",
   "metadata": {},
   "outputs": [
    {
     "data": {
      "text/latex": [
       "$\\displaystyle v_{2} = \\theta \\left(r + s\\right)$"
      ],
      "text/plain": [
       "Eq(v_2, theta*(r + s))"
      ]
     },
     "execution_count": 343,
     "metadata": {},
     "output_type": "execute_result"
    }
   ],
   "source": [
    "eq2"
   ]
  },
  {
   "cell_type": "code",
   "execution_count": 336,
   "id": "fbcf8106-aedb-42b7-9135-e7e8e3c13db9",
   "metadata": {},
   "outputs": [],
   "source": [
    "r_eq = Eq(r, (v1+v2)/(v2-v1) *s)\n",
    "\n",
    "#a1_eq = Eq(a1, Derivative(v1, t))\n",
    "#a2_eq = Eq(a2, Derivative(v2, t))\n",
    "\n",
    "#drdt = Derivative(r, t)"
   ]
  },
  {
   "cell_type": "code",
   "execution_count": 337,
   "id": "8f19dfe0-d391-4a0f-bc04-a7015da5477e",
   "metadata": {},
   "outputs": [
    {
     "data": {
      "text/latex": [
       "$\\displaystyle r = \\frac{s \\left(v_{1} + v_{2}\\right)}{- v_{1} + v_{2}}$"
      ],
      "text/plain": [
       "Eq(r, s*(v_1 + v_2)/(-v_1 + v_2))"
      ]
     },
     "execution_count": 337,
     "metadata": {},
     "output_type": "execute_result"
    }
   ],
   "source": [
    "r_eq"
   ]
  },
  {
   "cell_type": "code",
   "execution_count": 338,
   "id": "3fdcd30b-328e-4b5c-96b6-5690ab90410c",
   "metadata": {},
   "outputs": [
    {
     "data": {
      "text/latex": [
       "$\\displaystyle r = - \\frac{s \\left(v_{1} + v_{2}\\right)}{v_{1} - v_{2}}$"
      ],
      "text/plain": [
       "Eq(r, -s*(v_1 + v_2)/(v_1 - v_2))"
      ]
     },
     "execution_count": 338,
     "metadata": {},
     "output_type": "execute_result"
    }
   ],
   "source": [
    "simplify(r_eq)"
   ]
  },
  {
   "cell_type": "code",
   "execution_count": 400,
   "id": "e44c1fbc-56d8-4f03-98c3-5ceac4e0028f",
   "metadata": {},
   "outputs": [
    {
     "data": {
      "text/latex": [
       "$\\displaystyle \\frac{s \\left(a_{1} - a_{2}\\right) \\left(a_{1} t + a_{2} t + v_{1c} + v_{2c}\\right)}{\\left(- a_{1} t + a_{2} t - v_{1c} + v_{2c}\\right)^{2}} + \\frac{s \\left(a_{1} + a_{2}\\right)}{- a_{1} t + a_{2} t - v_{1c} + v_{2c}}$"
      ],
      "text/plain": [
       "s*(a_1 - a_2)*(a_1*t + a_2*t + v_1c + v_2c)/(-a_1*t + a_2*t - v_1c + v_2c)**2 + s*(a_1 + a_2)/(-a_1*t + a_2*t - v_1c + v_2c)"
      ]
     },
     "execution_count": 400,
     "metadata": {},
     "output_type": "execute_result"
    }
   ],
   "source": [
    "r, v1c, v2c, a1, a2, s, t  = symbols('r v_1c v_2c a_1 a_2 s t')\n",
    "\n",
    "r = s*(v1c+v2c+a1*t+a2*t)/(v2c-v1c+a2*t-a1*t)\n",
    "drdt = diff(r, t)\n",
    "drdt"
   ]
  },
  {
   "cell_type": "code",
   "execution_count": 401,
   "id": "ba1062b6-853a-4bc2-9bdb-eb97acc8bb1b",
   "metadata": {},
   "outputs": [
    {
     "data": {
      "text/latex": [
       "$\\displaystyle \\frac{s \\left(a_{1} - a_{2}\\right) \\left(a_{1} t + a_{2} t\\right)}{\\left(- a_{1} t + a_{2} t\\right)^{2}} + \\frac{s \\left(a_{1} + a_{2}\\right)}{- a_{1} t + a_{2} t}$"
      ],
      "text/plain": [
       "s*(a_1 - a_2)*(a_1*t + a_2*t)/(-a_1*t + a_2*t)**2 + s*(a_1 + a_2)/(-a_1*t + a_2*t)"
      ]
     },
     "execution_count": 401,
     "metadata": {},
     "output_type": "execute_result"
    }
   ],
   "source": [
    "drdt.subs(dict(v_1c=0, v_2c=0))"
   ]
  },
  {
   "cell_type": "code",
   "execution_count": null,
   "id": "eedc39d9-78a4-4a2e-bfd5-75c4e04a0aae",
   "metadata": {},
   "outputs": [],
   "source": []
  }
 ],
 "metadata": {
  "kernelspec": {
   "display_name": "Python 3 (ipykernel)",
   "language": "python",
   "name": "python3"
  },
  "language_info": {
   "codemirror_mode": {
    "name": "ipython",
    "version": 3
   },
   "file_extension": ".py",
   "mimetype": "text/x-python",
   "name": "python",
   "nbconvert_exporter": "python",
   "pygments_lexer": "ipython3",
   "version": "3.10.12"
  }
 },
 "nbformat": 4,
 "nbformat_minor": 5
}
