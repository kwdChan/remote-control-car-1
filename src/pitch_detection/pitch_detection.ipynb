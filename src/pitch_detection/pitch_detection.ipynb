{
 "cells": [
  {
   "cell_type": "code",
   "execution_count": null,
   "metadata": {},
   "outputs": [],
   "source": [
    "import numpy as np\n",
    "import pandas as pd\n",
    "\n",
    "import datetime\n",
    "from data_collection.data_collection import Logger\n",
    "import plotly.express as px\n",
    "import scipy.signal as ss\n",
    "\n",
    "import torchaudio as ta\n",
    "import torch as tch\n",
    "tafn = ta.functional\n",
    "tatx = ta.transforms\n",
    "\n",
    "from IPython.display import Audio\n",
    "from nb_tools import *\n",
    "from scipy.fft import fft, ifft, fftfreq\n",
    "from functools import partial\n",
    "%load_ext autoreload\n",
    "%autoreload 2"
   ]
  },
  {
   "cell_type": "markdown",
   "metadata": {},
   "source": [
    "# 1. Noise mixing"
   ]
  },
  {
   "cell_type": "code",
   "execution_count": null,
   "metadata": {},
   "outputs": [],
   "source": [
    "from pathlib import Path\n",
    "@show_global_variables\n",
    "def load_wav(path):\n",
    "    path = Path(path)\n",
    "\n",
    "    data = {}\n",
    "    for f in filter(lambda f:f.suffix=='.wav', path.iterdir()):\n",
    "        sig, fs = ta.load(f)\n",
    "        data[f.stem] = sig\n",
    "\n",
    "    return data\n",
    "\n",
    "rate=16000\n",
    "Audio = partial(Audio, rate=16000)\n",
    "\n",
    "data = load_wav('../log/audio_data')"
   ]
  },
  {
   "cell_type": "code",
   "execution_count": null,
   "metadata": {},
   "outputs": [],
   "source": [
    "def sec(s, rate=rate):\n",
    "    return int(s*rate)"
   ]
  },
  {
   "cell_type": "code",
   "execution_count": null,
   "metadata": {},
   "outputs": [],
   "source": [
    "noise = data['running_noise_c0'][:, rate*25:-rate*14]\n",
    "ee0_0 = data['ee0deg_floor_c0'][:, rate*5:-rate*5]\n",
    "ee0_1 = data['ee0deg_floor_c1'][:, rate*5:-rate*5]\n",
    "\n",
    "ee90_0 = data['ee_90deg_floor_c0'][:, sec(2.3):sec(16)]\n",
    "ee90_1 = data['ee_90deg_floor_c1'][:, sec(2.3):sec(16)]\n",
    "\n",
    "ee180_0 = data['ee_180deg_floor_c0'][:, sec(0):sec(21)]\n",
    "ee180_1 = data['ee_180deg_floor_c1'][:, sec(0):sec(21)]\n"
   ]
  },
  {
   "cell_type": "code",
   "execution_count": null,
   "metadata": {},
   "outputs": [],
   "source": [
    "def show_spectrum(sig, rate=rate, **kwargs):\n",
    "    f, t, sxx = ss.spectrogram(sig, fs=rate)\n",
    "    return px.imshow(np.log10(sxx), y=f, x=t, aspect='auto' )\n",
    "#show_spectrum(data['ee_plus_runnng_c0'][0], nperseg=4096)"
   ]
  },
  {
   "cell_type": "code",
   "execution_count": null,
   "metadata": {},
   "outputs": [],
   "source": [
    "def mix(s1, s2, w1, w2):\n",
    "    l1 = s1.shape[-1]\n",
    "    l2 = s2.shape[-1]\n",
    "    assert l1 >= l2\n",
    "\n",
    "    pad_len = l1 - l2\n",
    "\n",
    "    s1_idx = 0\n",
    "    segments = []\n",
    "\n",
    "    while s1_idx < l1:\n",
    "        end_idx = min(l1, s1_idx+l2)\n",
    "\n",
    "        s2_to_add = s2[:, :end_idx-s1_idx] # TODO: flip the noise every other iteration\n",
    "\n",
    "        com_seg = s1[:, s1_idx:end_idx]*w1 + s2_to_add*w2\n",
    "        segments.append(com_seg)\n",
    "        s1_idx = end_idx\n",
    "    return np.concatenate(segments, axis=-1)\n",
    "    "
   ]
  },
  {
   "cell_type": "code",
   "execution_count": null,
   "metadata": {},
   "outputs": [],
   "source": [
    "from nb_tools import show_global_variables\n",
    "@np.vectorize\n",
    "def tri(idx, length):\n",
    "    end = length - 1\n",
    "    if not (idx // end) % 2: \n",
    "        return idx % end\n",
    "    else: \n",
    "        return end - (idx % end)\n",
    "\n",
    "@show_global_variables\n",
    "def loop(sig, fs, dur, seg_st, seg_ed):\n",
    "    hop_length = 200\n",
    "    win_dur = hop_length/fs\n",
    "\n",
    "    seg_st = seg_st//win_dur\n",
    "    seg_ed = seg_ed//win_dur\n",
    "\n",
    "\n",
    "\n",
    "    spectra = tatx.Spectrogram(power=2, hop_length=hop_length)(sig)\n",
    "\n",
    "    n_win = dur//win_dur\n",
    "    idx = tri(np.arange(n_win), seg_ed-seg_st) + seg_st\n",
    "\n",
    "\n",
    "\n",
    "    return tatx.GriffinLim(hop_length=hop_length)(spectra[..., idx])\n",
    "#sigl = loop(ee0_0*1e14, 16000, 20, 4, 8)"
   ]
  },
  {
   "cell_type": "code",
   "execution_count": null,
   "metadata": {},
   "outputs": [],
   "source": [
    "@show_global_variables\n",
    "def freq_phase(n, fs, freq):\n",
    "    return np.linspace(0, n/fs*freq*np.pi*2, n, endpoint=False)%(2*np.pi)\n",
    "\n",
    "@show_global_variables\n",
    "def fixedtime(fs, te):\n",
    "    n_sample = int(te*fs)\n",
    "    dt = [1/fs]*n_sample\n",
    "    return np.cumsum(dt)\n",
    "\n",
    "@show_global_variables\n",
    "def jitteredtime(fs, te):\n",
    "    n_sample = int(te*fs)\n",
    "    ddt = (np.random.random(n_sample)-0.5)*(1/(fs*25))\n",
    "    dt = np.cumsum(ddt) + 1/fs\n",
    "    return np.cumsum(dt)\n",
    "\n",
    "@show_global_variables\n",
    "def varyingtime(fs, te):\n",
    "    n_sample = int(te*fs)\n",
    "    dddt = (np.random.random(n_sample)-0.5)*(1/(fs*20000000))\n",
    "    ddt = np.cumsum(dddt)\n",
    "    dt = np.cumsum(ddt) + 1/fs\n",
    "    return np.cumsum(dt)\n",
    "\n",
    "@show_global_variables\n",
    "def time2phase(t, f):\n",
    "    return (t*np.pi*2*f )% (2*np.pi)\n",
    "    \n",
    "@show_global_variables\n",
    "def harmonics(times, basefreq, n_har=30):\n",
    "    sigs = np.zeros((n_har, len(times)))\n",
    "    for n in range(1, n_har+1):\n",
    "        sigs[n-1] = np.sin(time2phase(times, basefreq*n)) \n",
    "\n",
    "    return sigs\n",
    "\n",
    "@show_global_variables\n",
    "def find_nearest(x, findfrom):\n",
    "    return np.argmin(np.abs(x[:, None] - findfrom[None, :]), axis=1)\n",
    "\n",
    "@show_global_variables\n",
    "def butterworth_highpass(sig, fs, lf):\n",
    "    filter = ss.butter(8, lf, fs=fs, btype='high', output='sos')\n",
    "    return ss.sosfiltfilt(filter, sig)\n",
    "\n",
    "@show_global_variables    \n",
    "def butterworth_lowpass(sig, fs, lf):\n",
    "    filter = ss.butter(8, lf, fs=fs, btype='low', output='sos')\n",
    "    return ss.sosfiltfilt(filter, sig)\n",
    "\n",
    "\n",
    "@show_global_variables\n",
    "def get_avg_freq_from_sigs_spectro(sigs, rate=rate):\n",
    "\n",
    "    def get_avg_freq(sig, rate=rate):\n",
    "        f, _, sxx = ss.spectrogram(sig, fs=rate,)\n",
    "        return f, (sxx**(1/2)).mean(-1)\n",
    "\n",
    "    result = []\n",
    "    for sig in sigs:\n",
    "        f, meaned = get_avg_freq(sig, rate)\n",
    "        result.append(meaned)\n",
    "\n",
    "    return f, np.stack(result, axis=-1).mean(-1)\n",
    "\n",
    "\n",
    "@show_global_variables\n",
    "def fftfilter(sig,fs, mags, magfreqs):\n",
    "    x = fft(sig)\n",
    "    freqs = fftfreq(sig.shape[-1], 1/fs)\n",
    "    fidx = find_nearest(freqs, magfreqs)\n",
    "\n",
    "    x *= mags[fidx]\n",
    "    \n",
    "    return ifft(x)\n",
    "\n",
    "@show_global_variables\n",
    "def get_mag_of_freq_smooth(siglist, fs=16000, smooth_window=8000):\n",
    "    fullsig = np.concatenate(siglist, axis=-1)\n",
    "    mags = np.abs(fft(fullsig))[0]\n",
    "\n",
    "    as_strided = np.lib.stride_tricks.as_strided\n",
    "    stride_size = mags.strides[0]\n",
    "    mags/=mags.max()\n",
    "    mags_re = as_strided(\n",
    "        mags, \n",
    "        shape=(len(mags), smooth_window),\n",
    "        strides=(stride_size, stride_size)\n",
    "    ).mean(-1)[::smooth_window//2]\n",
    "\n",
    "    freqs = fftfreq(len(mags), 1/fs)[::smooth_window//2]\n",
    "\n",
    "    return freqs, mags_re\n"
   ]
  },
  {
   "cell_type": "code",
   "execution_count": null,
   "metadata": {},
   "outputs": [],
   "source": [
    "fs = 16000\n",
    "ts = varyingtime(fs, 10)\n",
    "n_har = 20\n",
    "base_freq=200\n",
    "sigs = harmonics(ts, basefreq=base_freq, n_har=n_har)"
   ]
  },
  {
   "cell_type": "code",
   "execution_count": null,
   "metadata": {},
   "outputs": [],
   "source": [
    "def weight_n_add(sigs, sigfreqs, mags, magfreqs):\n",
    "    idx = find_nearest(sigfreqs, magfreqs)\n",
    "    return (sigs*mags[idx, None]).mean(0)\n",
    "\n",
    "\n",
    "f, r = get_avg_freq_from_sigs_spectro([ee0_0, ee0_1, ee90_0, ee90_1, ee180_0, ee180_1])\n",
    "\n",
    "s = weight_n_add(sigs, (np.arange(n_har)+1)*base_freq, r[0], f)"
   ]
  },
  {
   "cell_type": "code",
   "execution_count": null,
   "metadata": {},
   "outputs": [],
   "source": [
    "Audio(s, rate=16000)"
   ]
  },
  {
   "cell_type": "code",
   "execution_count": null,
   "metadata": {},
   "outputs": [],
   "source": [
    "freqs, mags = get_mag_of_freq_smooth([ee0_0, ee0_1, ee90_0, ee90_1, ee180_0, ee180_1])   "
   ]
  },
  {
   "cell_type": "code",
   "execution_count": null,
   "metadata": {},
   "outputs": [],
   "source": [
    "s = weight_n_add(sigs, (np.arange(n_har)+1)*base_freq, mags, freqs)"
   ]
  },
  {
   "cell_type": "code",
   "execution_count": null,
   "metadata": {},
   "outputs": [],
   "source": [
    "Audio(s, rate=16000)"
   ]
  },
  {
   "cell_type": "code",
   "execution_count": null,
   "metadata": {},
   "outputs": [],
   "source": [
    "sigf = fftfilter(sigs.mean(0),16000, mags, freqs)"
   ]
  },
  {
   "cell_type": "code",
   "execution_count": null,
   "metadata": {},
   "outputs": [],
   "source": [
    "sigf = fftfilter(s,16000, mags, freqs)"
   ]
  },
  {
   "cell_type": "code",
   "execution_count": null,
   "metadata": {},
   "outputs": [],
   "source": [
    "Audio(sigf.real[10000:-10000], rate=16000)"
   ]
  },
  {
   "cell_type": "code",
   "execution_count": null,
   "metadata": {},
   "outputs": [],
   "source": [
    "px.line(sigf.real)"
   ]
  },
  {
   "cell_type": "code",
   "execution_count": null,
   "metadata": {},
   "outputs": [],
   "source": [
    "px.line(tafn.detect_pitch_frequency(tch.tensor(s), 16000))"
   ]
  },
  {
   "cell_type": "code",
   "execution_count": null,
   "metadata": {},
   "outputs": [],
   "source": [
    "s"
   ]
  },
  {
   "cell_type": "code",
   "execution_count": null,
   "metadata": {},
   "outputs": [],
   "source": [
    "show_spectrum(sigf.real)"
   ]
  },
  {
   "cell_type": "code",
   "execution_count": null,
   "metadata": {},
   "outputs": [],
   "source": [
    "px.line(sigf.real[:10000])"
   ]
  },
  {
   "cell_type": "code",
   "execution_count": null,
   "metadata": {},
   "outputs": [],
   "source": []
  },
  {
   "cell_type": "code",
   "execution_count": null,
   "metadata": {},
   "outputs": [],
   "source": []
  },
  {
   "cell_type": "code",
   "execution_count": null,
   "metadata": {},
   "outputs": [],
   "source": [
    "show_spectrum(butterworth_lowpass(sigf.real, fs=16000, lf=6000))"
   ]
  },
  {
   "cell_type": "code",
   "execution_count": null,
   "metadata": {},
   "outputs": [],
   "source": [
    "\n",
    "fs, rs = get_avg_freq_from_sigs([s])\n"
   ]
  },
  {
   "cell_type": "code",
   "execution_count": null,
   "metadata": {},
   "outputs": [],
   "source": [
    "px.line(y=[rs/rs.max(), r[0]/r.max(), ], x=fs)"
   ]
  },
  {
   "cell_type": "code",
   "execution_count": null,
   "metadata": {},
   "outputs": [],
   "source": []
  },
  {
   "cell_type": "code",
   "execution_count": null,
   "metadata": {},
   "outputs": [],
   "source": [
    "def find_nearest(x, findfrom):\n",
    "    return np.argmin(np.abs(x[:, None] - findfrom[None, :]), axis=1)\n",
    "\n",
    "idx = find_nearest(200*np.arange(1, 30+1), f)"
   ]
  },
  {
   "cell_type": "code",
   "execution_count": null,
   "metadata": {},
   "outputs": [],
   "source": []
  },
  {
   "cell_type": "code",
   "execution_count": null,
   "metadata": {},
   "outputs": [],
   "source": [
    "show_spectrum((sigs*np.array()).mean(0), fs)"
   ]
  },
  {
   "cell_type": "code",
   "execution_count": null,
   "metadata": {},
   "outputs": [],
   "source": [
    "len(sigs)"
   ]
  },
  {
   "cell_type": "code",
   "execution_count": null,
   "metadata": {},
   "outputs": [],
   "source": [
    "px.line(y=r/r.max(), x=f)"
   ]
  },
  {
   "cell_type": "code",
   "execution_count": null,
   "metadata": {},
   "outputs": [],
   "source": [
    "fs = 16000\n",
    "sig = np.sin(time2phase(time(fs, 10), 300)) \n",
    "Audio(sig, rate=fs)"
   ]
  },
  {
   "cell_type": "code",
   "execution_count": null,
   "metadata": {},
   "outputs": [],
   "source": [
    "np.random.random(10)-0.5"
   ]
  },
  {
   "cell_type": "code",
   "execution_count": null,
   "metadata": {},
   "outputs": [],
   "source": [
    "show_spectrum(sig, 16000)"
   ]
  },
  {
   "cell_type": "code",
   "execution_count": null,
   "metadata": {},
   "outputs": [],
   "source": [
    "px.line(tafn.detect_pitch_frequency(tch.tensor(sig), fs, win_length=3, frame_time=0.5))"
   ]
  },
  {
   "cell_type": "code",
   "execution_count": null,
   "metadata": {},
   "outputs": [],
   "source": [
    "show_spectrum(ee0_0[0])"
   ]
  },
  {
   "cell_type": "code",
   "execution_count": null,
   "metadata": {},
   "outputs": [],
   "source": [
    "mixed = mix(ee0_0, noise, 1, 1)\n",
    "show_spectrum(mixed[0])"
   ]
  },
  {
   "cell_type": "code",
   "execution_count": null,
   "metadata": {},
   "outputs": [],
   "source": [
    "show_spectrum(ee0_0[0])"
   ]
  },
  {
   "cell_type": "code",
   "execution_count": null,
   "metadata": {},
   "outputs": [],
   "source": [
    "ee0_0"
   ]
  },
  {
   "cell_type": "code",
   "execution_count": null,
   "metadata": {},
   "outputs": [],
   "source": [
    "px.line(tafn.detect_pitch_frequency(tch.tensor(mixed[0]), rate))"
   ]
  },
  {
   "cell_type": "code",
   "execution_count": null,
   "metadata": {},
   "outputs": [],
   "source": [
    "st = 7\n",
    "se = 7.2\n",
    "px.line(y=[\n",
    "        (mixed-ee0_0.numpy())[0, sec(st):sec(se)],\n",
    "        mixed[0, sec(st):sec(se)], \n",
    "        ee0_0.numpy()[0, sec(st):sec(se)],\n",
    "     ])"
   ]
  },
  {
   "cell_type": "code",
   "execution_count": null,
   "metadata": {},
   "outputs": [],
   "source": [
    "px.line(tafn.detect_pitch_frequency(tch.tensor(mixed), 16000)[0])"
   ]
  },
  {
   "cell_type": "code",
   "execution_count": null,
   "metadata": {},
   "outputs": [],
   "source": [
    "\n",
    "s = butterworth_lowpass(ee0_0, 16000, 300)"
   ]
  },
  {
   "cell_type": "code",
   "execution_count": null,
   "metadata": {},
   "outputs": [],
   "source": [
    "Audio(s)"
   ]
  },
  {
   "cell_type": "code",
   "execution_count": null,
   "metadata": {},
   "outputs": [],
   "source": [
    "noise"
   ]
  },
  {
   "cell_type": "code",
   "execution_count": null,
   "metadata": {},
   "outputs": [],
   "source": [
    "mixed_high = mix(s, noise.numpy(), 1, 1)"
   ]
  },
  {
   "cell_type": "code",
   "execution_count": null,
   "metadata": {},
   "outputs": [],
   "source": [
    "Audio(mixed_high)"
   ]
  },
  {
   "cell_type": "code",
   "execution_count": null,
   "metadata": {},
   "outputs": [],
   "source": [
    "px.line(s[0, sec(st):sec(se)])"
   ]
  },
  {
   "cell_type": "code",
   "execution_count": null,
   "metadata": {},
   "outputs": [],
   "source": [
    "Audio(mixed_high)"
   ]
  },
  {
   "cell_type": "code",
   "execution_count": null,
   "metadata": {},
   "outputs": [],
   "source": [
    "st = 24\n",
    "se = 25\n",
    "px.line(y=[\n",
    "        (mixed_high-s)[0, sec(st):sec(se)],\n",
    "        mixed_high[0, sec(st):sec(se)], \n",
    "        s[0, sec(st):sec(se)],\n",
    "     ])"
   ]
  },
  {
   "cell_type": "code",
   "execution_count": null,
   "metadata": {},
   "outputs": [],
   "source": [
    "show_spectrum(s[0, sec(st): sec(se)], nperseg=8192)"
   ]
  },
  {
   "cell_type": "code",
   "execution_count": null,
   "metadata": {},
   "outputs": [],
   "source": [
    "show_spectrum(mixed_high[0, sec(st): sec(se)], nperseg=8192)"
   ]
  },
  {
   "cell_type": "code",
   "execution_count": null,
   "metadata": {},
   "outputs": [],
   "source": [
    "show_spectrum(mixed_high[0], nperseg=8192)"
   ]
  },
  {
   "cell_type": "code",
   "execution_count": null,
   "metadata": {},
   "outputs": [],
   "source": [
    "show_spectrum(ee[0])\n"
   ]
  },
  {
   "cell_type": "code",
   "execution_count": null,
   "metadata": {},
   "outputs": [],
   "source": [
    "mixed = mix(ee, noise, 1, 0)\n",
    "#show_spectrum(mixed[0])\n",
    "px.line(tafn.detect_pitch_frequency(tch.tensor(mixed[0]), rate))"
   ]
  },
  {
   "cell_type": "code",
   "execution_count": null,
   "metadata": {},
   "outputs": [],
   "source": [
    "mixed = mix(ee, noise, 1, 0.5)\n",
    "#show_spectrum(mixed[0])\n",
    "px.line(tafn.detect_pitch_frequency(tch.tensor(mixed[0]), rate))"
   ]
  },
  {
   "cell_type": "code",
   "execution_count": null,
   "metadata": {},
   "outputs": [],
   "source": []
  },
  {
   "cell_type": "code",
   "execution_count": null,
   "metadata": {},
   "outputs": [],
   "source": []
  },
  {
   "cell_type": "code",
   "execution_count": null,
   "metadata": {},
   "outputs": [],
   "source": [
    "px.line(y=r[0]/r.max(), x=f)"
   ]
  },
  {
   "cell_type": "code",
   "execution_count": null,
   "metadata": {},
   "outputs": [],
   "source": [
    "px.line(y=np.log(r), x=f)"
   ]
  },
  {
   "cell_type": "code",
   "execution_count": null,
   "metadata": {},
   "outputs": [],
   "source": [
    "px.line(y=np.log(r[0]), x=f)"
   ]
  },
  {
   "cell_type": "code",
   "execution_count": null,
   "metadata": {},
   "outputs": [],
   "source": []
  }
 ],
 "metadata": {
  "kernelspec": {
   "display_name": "venv",
   "language": "python",
   "name": "python3"
  },
  "language_info": {
   "codemirror_mode": {
    "name": "ipython",
    "version": 3
   },
   "file_extension": ".py",
   "mimetype": "text/x-python",
   "name": "python",
   "nbconvert_exporter": "python",
   "pygments_lexer": "ipython3",
   "version": "3.10.12"
  }
 },
 "nbformat": 4,
 "nbformat_minor": 2
}
