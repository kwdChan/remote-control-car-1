{
 "cells": [
  {
   "cell_type": "code",
   "execution_count": 1,
   "metadata": {},
   "outputs": [],
   "source": [
    "import subprocess, sys"
   ]
  },
  {
   "cell_type": "code",
   "execution_count": 2,
   "metadata": {},
   "outputs": [
    {
     "name": "stdout",
     "output_type": "stream",
     "text": [
      "Making discoverable...\n",
      "Starting Serial Port Profile...\n"
     ]
    },
    {
     "name": "stderr",
     "output_type": "stream",
     "text": [
      "/home/kawa/projects/car1/src/components/two_wheels.py:15: RuntimeWarning: This channel is already in use, continuing anyway.  Use GPIO.setwarnings(False) to disable warnings.\n",
      "  GPIO.setup(pin, GPIO.OUT) #type: ignore\n",
      "/home/kawa/projects/car1/src/components/two_wheels.py:73: RuntimeWarning: This channel is already in use, continuing anyway.  Use GPIO.setwarnings(False) to disable warnings.\n",
      "  GPIO.setup(dir_pins[0], GPIO.OUT) #type: ignore\n",
      "/home/kawa/projects/car1/src/components/two_wheels.py:74: RuntimeWarning: This channel is already in use, continuing anyway.  Use GPIO.setwarnings(False) to disable warnings.\n",
      "  GPIO.setup(dir_pins[1], GPIO.OUT) #type: ignore\n",
      "[3:47:37.442784898] [40173] \u001b[1;32m INFO \u001b[1;37mCamera \u001b[1;34mcamera_manager.cpp:297 \u001b[0mlibcamera v0.0.5+83-bde9b04f\n",
      "[3:47:37.481179034] [40192] \u001b[1;32m INFO \u001b[1;37mRPI \u001b[1;34mvc4.cpp:437 \u001b[0mRegistered camera /base/soc/i2c0mux/i2c@1/ov5647@36 to Unicam device /dev/media0 and ISP device /dev/media2\n",
      "[3:47:37.481251736] [40192] \u001b[1;32m INFO \u001b[1;37mRPI \u001b[1;34mpipeline_base.cpp:1101 \u001b[0mUsing configuration file '/usr/share/libcamera/pipeline/rpi/vc4/rpi_apps.yaml'\n",
      "[3:47:37.496296142] [40173] \u001b[1;32m INFO \u001b[1;37mCamera \u001b[1;34mcamera.cpp:1033 \u001b[0mconfiguring streams: (0) 114x64-RGB888 (1) 1920x1080-SGRBG10_CSI2P\n",
      "[3:47:37.497178059] [40192] \u001b[1;32m INFO \u001b[1;37mRPI \u001b[1;34mvc4.cpp:565 \u001b[0mSensor: /base/soc/i2c0mux/i2c@1/ov5647@36 - Selected sensor format: 1920x1080-SGRBG10_1X10 - Selected unicam format: 1920x1080-pgAA\n"
     ]
    },
    {
     "name": "stdout",
     "output_type": "stream",
     "text": [
      "NewConnection(/org/bluez/hci0/dev_C8_BD_4D_BA_4F_15, 14)\n"
     ]
    }
   ],
   "source": [
    "p = subprocess.Popen([sys.executable, 'main.py', '../log/test5'])"
   ]
  },
  {
   "cell_type": "code",
   "execution_count": 3,
   "metadata": {},
   "outputs": [],
   "source": [
    "p.terminate()"
   ]
  },
  {
   "cell_type": "code",
   "execution_count": null,
   "metadata": {},
   "outputs": [],
   "source": []
  }
 ],
 "metadata": {
  "kernelspec": {
   "display_name": ".venv",
   "language": "python",
   "name": "python3"
  },
  "language_info": {
   "codemirror_mode": {
    "name": "ipython",
    "version": 3
   },
   "file_extension": ".py",
   "mimetype": "text/x-python",
   "name": "python",
   "nbconvert_exporter": "python",
   "pygments_lexer": "ipython3",
   "version": "3.9.2"
  }
 },
 "nbformat": 4,
 "nbformat_minor": 2
}
