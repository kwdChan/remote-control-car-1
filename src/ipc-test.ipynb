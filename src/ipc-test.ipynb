{
 "cells": [
  {
   "cell_type": "code",
   "execution_count": 9,
   "metadata": {},
   "outputs": [
    {
     "name": "stdout",
     "output_type": "stream",
     "text": [
      "The autoreload extension is already loaded. To reload it, use:\n",
      "  %reload_ext autoreload\n"
     ]
    },
    {
     "ename": "NotImplementedError",
     "evalue": "",
     "output_type": "error",
     "traceback": [
      "\u001b[0;31m---------------------------------------------------------------------------\u001b[0m",
      "\u001b[0;31mNotImplementedError\u001b[0m                       Traceback (most recent call last)",
      "Cell \u001b[0;32mIn[9], line 7\u001b[0m\n\u001b[1;32m      3\u001b[0m \u001b[38;5;66;03m#from components import component, event_handler, rpc, EventBroadcaster, MessageChannel, create_component_starter, loop, testing_function\u001b[39;00m\n\u001b[1;32m      5\u001b[0m \u001b[38;5;28;01mfrom\u001b[39;00m \u001b[38;5;21;01mcomponents\u001b[39;00m \u001b[38;5;28;01mimport\u001b[39;00m  testing_function, MyTestComponent\n\u001b[0;32m----> 7\u001b[0m starter1, sample_writer \u001b[38;5;241m=\u001b[39m \u001b[43mtesting_function\u001b[49m\u001b[43m(\u001b[49m\u001b[43m)\u001b[49m\n",
      "File \u001b[0;32m~/CurrentProjects/pi_projects/self-driving/remote-control-car-1/src/components/__init__.py:514\u001b[0m, in \u001b[0;36mtesting_function\u001b[0;34m()\u001b[0m\n\u001b[1;32m    510\u001b[0m m \u001b[38;5;241m=\u001b[39m Manager()\n\u001b[1;32m    512\u001b[0m sample_reader, sample_writer \u001b[38;5;241m=\u001b[39m numpy_sample_setup([\u001b[38;5;124m'\u001b[39m\u001b[38;5;124md\u001b[39m\u001b[38;5;124m'\u001b[39m, \u001b[38;5;124m'\u001b[39m\u001b[38;5;124md\u001b[39m\u001b[38;5;124m'\u001b[39m], [\u001b[38;5;241m0\u001b[39m, np\u001b[38;5;241m.\u001b[39mzeros((\u001b[38;5;241m4\u001b[39m,\u001b[38;5;241m4\u001b[39m))])\n\u001b[0;32m--> 514\u001b[0m starter1 \u001b[38;5;241m=\u001b[39m \u001b[43mComponentStarter\u001b[49m\u001b[43m(\u001b[49m\n\u001b[1;32m    515\u001b[0m \u001b[43m    \u001b[49m\u001b[43mMyTestComponent\u001b[49m\u001b[43m,\u001b[49m\u001b[43m \u001b[49m\n\u001b[1;32m    516\u001b[0m \u001b[43m    \u001b[49m\u001b[43mmanager\u001b[49m\u001b[38;5;241;43m=\u001b[39;49m\u001b[43mm\u001b[49m\u001b[43m,\u001b[49m\u001b[43m \u001b[49m\n\u001b[1;32m    517\u001b[0m \u001b[43m    \u001b[49m\u001b[43minit_kwargs\u001b[49m\u001b[38;5;241;43m=\u001b[39;49m\u001b[43m{\u001b[49m\u001b[43m}\u001b[49m\u001b[43m,\u001b[49m\u001b[43m \u001b[49m\n\u001b[1;32m    518\u001b[0m \u001b[43m    \u001b[49m\u001b[43mloop_intervals\u001b[49m\u001b[38;5;241;43m=\u001b[39;49m\u001b[38;5;28;43mdict\u001b[39;49m\u001b[43m(\u001b[49m\u001b[43mstep\u001b[49m\u001b[38;5;241;43m=\u001b[39;49m\u001b[38;5;241;43m1\u001b[39;49m\u001b[43m)\u001b[49m\u001b[43m,\u001b[49m\u001b[43m \u001b[49m\n\u001b[1;32m    519\u001b[0m \u001b[43m    \u001b[49m\u001b[43minstantiator\u001b[49m\u001b[38;5;241;43m=\u001b[39;49m\u001b[38;5;28;43;01mNone\u001b[39;49;00m\u001b[43m,\u001b[49m\u001b[43m \u001b[49m\n\u001b[1;32m    520\u001b[0m \u001b[43m    \u001b[49m\u001b[43msample_setup_kwargs\u001b[49m\u001b[38;5;241;43m=\u001b[39;49m\u001b[38;5;28;43mdict\u001b[39;49m\u001b[43m(\u001b[49m\u001b[43mdefault_values\u001b[49m\u001b[38;5;241;43m=\u001b[39;49m\u001b[43m[\u001b[49m\u001b[38;5;241;43m0\u001b[39;49m\u001b[43m,\u001b[49m\u001b[43m \u001b[49m\u001b[43mnp\u001b[49m\u001b[38;5;241;43m.\u001b[39;49m\u001b[43mzeros\u001b[49m\u001b[43m(\u001b[49m\u001b[43m(\u001b[49m\u001b[38;5;241;43m4\u001b[39;49m\u001b[43m,\u001b[49m\u001b[38;5;241;43m4\u001b[39;49m\u001b[43m)\u001b[49m\u001b[43m)\u001b[49m\u001b[43m]\u001b[49m\u001b[43m)\u001b[49m\n\u001b[1;32m    521\u001b[0m \u001b[43m\u001b[49m\u001b[43m)\u001b[49m\n\u001b[1;32m    523\u001b[0m starter1\u001b[38;5;241m.\u001b[39mregister_incoming_samples(sample_reader)\n\u001b[1;32m    524\u001b[0m starter1\u001b[38;5;241m.\u001b[39mregister_outgoing_rpc({})\n",
      "File \u001b[0;32m~/CurrentProjects/pi_projects/self-driving/remote-control-car-1/src/components/__init__.py:418\u001b[0m, in \u001b[0;36mComponentStarter.__init__\u001b[0;34m(self, component_class, manager, loop_intervals, instantiator, init_kwargs, sample_setup_kwargs)\u001b[0m\n\u001b[1;32m    416\u001b[0m \u001b[38;5;66;03m#component_class.samplers\u001b[39;00m\n\u001b[1;32m    417\u001b[0m \u001b[38;5;28;01mif\u001b[39;00m \u001b[38;5;28mlen\u001b[39m(component_class\u001b[38;5;241m.\u001b[39mhandler_roles[\u001b[38;5;124m'\u001b[39m\u001b[38;5;124msample_producer\u001b[39m\u001b[38;5;124m'\u001b[39m]) \u001b[38;5;241m>\u001b[39m \u001b[38;5;241m1\u001b[39m:\n\u001b[0;32m--> 418\u001b[0m     \u001b[38;5;28;01mraise\u001b[39;00m \u001b[38;5;167;01mNotImplementedError\u001b[39;00m\n\u001b[1;32m    420\u001b[0m \u001b[38;5;28;01mif\u001b[39;00m \u001b[38;5;28mlen\u001b[39m(component_class\u001b[38;5;241m.\u001b[39mhandler_roles[\u001b[38;5;124m'\u001b[39m\u001b[38;5;124msample_producer\u001b[39m\u001b[38;5;124m'\u001b[39m]): \n\u001b[1;32m    421\u001b[0m     sample_producer \u001b[38;5;241m=\u001b[39m component_class\u001b[38;5;241m.\u001b[39mhandler_roles[\u001b[38;5;124m'\u001b[39m\u001b[38;5;124msample_producer\u001b[39m\u001b[38;5;124m'\u001b[39m][\u001b[38;5;241m0\u001b[39m]\n",
      "\u001b[0;31mNotImplementedError\u001b[0m: "
     ]
    }
   ],
   "source": [
    "%load_ext autoreload\n",
    "%autoreload 2\n",
    "#from components import component, event_handler, rpc, EventBroadcaster, MessageChannel, create_component_starter, loop, testing_function\n",
    "\n",
    "from components import  testing_function, MyTestComponent\n",
    "\n",
    "starter1, sample_writer = testing_function()"
   ]
  },
  {
   "cell_type": "code",
   "execution_count": 1,
   "metadata": {},
   "outputs": [],
   "source": [
    "from multiprocessing import shared_memory\n",
    "import pickle\n",
    "from data_collection import Logger"
   ]
  },
  {
   "cell_type": "code",
   "execution_count": 6,
   "metadata": {},
   "outputs": [],
   "source": [
    "from multiprocessing import Manager, Lock\n",
    "import time\n",
    "\n",
    "m = Manager()"
   ]
  },
  {
   "cell_type": "code",
   "execution_count": 14,
   "metadata": {},
   "outputs": [],
   "source": [
    "l = m.Lock()\n",
    "for _ in range(10000): \n",
    "    l.acquire()\n",
    "    l.release()"
   ]
  },
  {
   "cell_type": "code",
   "execution_count": 15,
   "metadata": {},
   "outputs": [
    {
     "data": {
      "text/plain": [
       "3703.7037037037035"
      ]
     },
     "execution_count": 15,
     "metadata": {},
     "output_type": "execute_result"
    }
   ],
   "source": [
    "10000/2.7"
   ]
  },
  {
   "cell_type": "code",
   "execution_count": 32,
   "metadata": {},
   "outputs": [],
   "source": [
    "listproxy = m.list()"
   ]
  },
  {
   "cell_type": "code",
   "execution_count": null,
   "metadata": {},
   "outputs": [],
   "source": [
    "listproxy[:]"
   ]
  },
  {
   "cell_type": "code",
   "execution_count": 41,
   "metadata": {},
   "outputs": [
    {
     "data": {
      "text/plain": [
       "3.002448336000043"
      ]
     },
     "execution_count": 41,
     "metadata": {},
     "output_type": "execute_result"
    }
   ],
   "source": [
    "import time\n",
    "hello = [0,4,5,3,5,6,7]*20\n",
    "#hello = [0,4,5,3,5,6,7]*30\n",
    "\n",
    "st = time.monotonic()\n",
    "for _ in range(10000): \n",
    "\n",
    "    #lb = pickle.dumps(hello, protocol=pickle.HIGHEST_PROTOCOL)\n",
    "    listproxy[:len(lb)] = lb[:]\n",
    "    len(listproxy)\n",
    "    #pickle.loads(sm.buf)\n",
    "\n",
    "time.monotonic() - st"
   ]
  },
  {
   "cell_type": "code",
   "execution_count": 43,
   "metadata": {},
   "outputs": [
    {
     "data": {
      "text/plain": [
       "3333.3333333333335"
      ]
     },
     "execution_count": 43,
     "metadata": {},
     "output_type": "execute_result"
    }
   ],
   "source": [
    "10000/3"
   ]
  },
  {
   "cell_type": "code",
   "execution_count": null,
   "metadata": {},
   "outputs": [],
   "source": []
  },
  {
   "cell_type": "code",
   "execution_count": 40,
   "metadata": {},
   "outputs": [
    {
     "data": {
      "text/plain": [
       "296"
      ]
     },
     "execution_count": 40,
     "metadata": {},
     "output_type": "execute_result"
    }
   ],
   "source": [
    "len(listproxy)"
   ]
  },
  {
   "cell_type": "code",
   "execution_count": 34,
   "metadata": {},
   "outputs": [
    {
     "data": {
      "text/plain": [
       "6329.113924050633"
      ]
     },
     "execution_count": 34,
     "metadata": {},
     "output_type": "execute_result"
    }
   ],
   "source": [
    "10000/1.58"
   ]
  },
  {
   "cell_type": "code",
   "execution_count": null,
   "metadata": {},
   "outputs": [],
   "source": []
  },
  {
   "cell_type": "code",
   "execution_count": 2,
   "metadata": {},
   "outputs": [],
   "source": [
    "l = Logger('../log/test', 'test')"
   ]
  },
  {
   "cell_type": "code",
   "execution_count": 3,
   "metadata": {},
   "outputs": [],
   "source": []
  },
  {
   "cell_type": "code",
   "execution_count": 9,
   "metadata": {},
   "outputs": [],
   "source": [
    "sm = shared_memory.SharedMemory(create=True, size=1000)"
   ]
  },
  {
   "cell_type": "code",
   "execution_count": 42,
   "metadata": {},
   "outputs": [
    {
     "data": {
      "text/plain": [
       "0.22035159300003215"
      ]
     },
     "execution_count": 42,
     "metadata": {},
     "output_type": "execute_result"
    }
   ],
   "source": [
    "import time\n",
    "hello = [0,4,5,3,5,6,7]*20\n",
    "#hello = [0,4,5,3,5,6,7]*30\n",
    "\n",
    "st = time.monotonic()\n",
    "for _ in range(10000): \n",
    "\n",
    "    lb = pickle.dumps(hello, protocol=pickle.HIGHEST_PROTOCOL)\n",
    "    sm.buf[:len(lb)] = lb[:]\n",
    "    len(pickle.loads(sm.buf))\n",
    "\n",
    "\n",
    "time.monotonic() - st"
   ]
  },
  {
   "cell_type": "code",
   "execution_count": 30,
   "metadata": {},
   "outputs": [
    {
     "data": {
      "text/plain": [
       "51908.97837467445"
      ]
     },
     "execution_count": 30,
     "metadata": {},
     "output_type": "execute_result"
    }
   ],
   "source": [
    "10000/0.1926449009999942"
   ]
  },
  {
   "cell_type": "code",
   "execution_count": 28,
   "metadata": {},
   "outputs": [
    {
     "data": {
      "text/plain": [
       "210"
      ]
     },
     "execution_count": 28,
     "metadata": {},
     "output_type": "execute_result"
    }
   ],
   "source": [
    "import time\n",
    "hello = [0,4,5,3,5,6,7]*20\n",
    "#hello = [0,4,5,3,5,6,7]*30\n",
    "\n",
    "st = time.monotonic()\n",
    "for _ in range(10000): \n",
    "\n",
    "    lb = pickle.dumps(hello, protocol=pickle.HIGHEST_PROTOCOL)\n",
    "    sm.buf[:len(lb)] = lb[:]\n",
    "    pickle.loads(sm.buf)\n",
    "\n",
    "time.monotonic() - st"
   ]
  },
  {
   "cell_type": "code",
   "execution_count": 24,
   "metadata": {},
   "outputs": [
    {
     "data": {
      "text/plain": [
       "181621.4807483828"
      ]
     },
     "execution_count": 24,
     "metadata": {},
     "output_type": "execute_result"
    }
   ],
   "source": [
    "10000/0.055059566516000018055"
   ]
  },
  {
   "cell_type": "code",
   "execution_count": 6,
   "metadata": {},
   "outputs": [
    {
     "data": {
      "text/plain": [
       "222"
      ]
     },
     "execution_count": 6,
     "metadata": {},
     "output_type": "execute_result"
    }
   ],
   "source": [
    "len(lb)"
   ]
  },
  {
   "cell_type": "code",
   "execution_count": 12,
   "metadata": {},
   "outputs": [
    {
     "data": {
      "text/plain": [
       "[<function components.MyTestComponent.step(self, idx_other, arr_other)>]"
      ]
     },
     "execution_count": 12,
     "metadata": {},
     "output_type": "execute_result"
    }
   ],
   "source": [
    "MyTestComponent.handler_roles['sampler']"
   ]
  },
  {
   "cell_type": "code",
   "execution_count": 3,
   "metadata": {},
   "outputs": [
    {
     "data": {
      "text/plain": [
       "28.0"
      ]
     },
     "execution_count": 3,
     "metadata": {},
     "output_type": "execute_result"
    }
   ],
   "source": [
    "starter1.outgoing_sample_readers[0]()"
   ]
  },
  {
   "cell_type": "code",
   "execution_count": 7,
   "metadata": {},
   "outputs": [
    {
     "data": {
      "text/plain": [
       "array([[0.38939028, 0.32507952, 0.08849349, 0.84091578],\n",
       "       [0.02267926, 0.25549233, 0.09892125, 0.69499441],\n",
       "       [0.24635227, 0.3189388 , 0.50709999, 0.06080461],\n",
       "       [0.05431438, 0.98852752, 0.15145037, 0.78801201]])"
      ]
     },
     "execution_count": 7,
     "metadata": {},
     "output_type": "execute_result"
    }
   ],
   "source": [
    "starter1.outgoing_sample_readers[1]()"
   ]
  },
  {
   "cell_type": "code",
   "execution_count": 17,
   "metadata": {},
   "outputs": [
    {
     "ename": "AttributeError",
     "evalue": "'ComponentStarter' object has no attribute '__incoming_sample_readers'",
     "output_type": "error",
     "traceback": [
      "\u001b[0;31m---------------------------------------------------------------------------\u001b[0m",
      "\u001b[0;31mAttributeError\u001b[0m                            Traceback (most recent call last)",
      "Cell \u001b[0;32mIn[17], line 1\u001b[0m\n\u001b[0;32m----> 1\u001b[0m \u001b[43mstarter1\u001b[49m\u001b[38;5;241;43m.\u001b[39;49m\u001b[43m__incoming_sample_readers\u001b[49m\n",
      "\u001b[0;31mAttributeError\u001b[0m: 'ComponentStarter' object has no attribute '__incoming_sample_readers'"
     ]
    }
   ],
   "source": [
    "starter1.__incoming_sample_readers"
   ]
  },
  {
   "cell_type": "code",
   "execution_count": null,
   "metadata": {},
   "outputs": [],
   "source": []
  }
 ],
 "metadata": {
  "kernelspec": {
   "display_name": "Python 3",
   "language": "python",
   "name": "python3"
  },
  "language_info": {
   "codemirror_mode": {
    "name": "ipython",
    "version": 3
   },
   "file_extension": ".py",
   "mimetype": "text/x-python",
   "name": "python",
   "nbconvert_exporter": "python",
   "pygments_lexer": "ipython3",
   "version": "3.12.4"
  }
 },
 "nbformat": 4,
 "nbformat_minor": 2
}
