{
 "cells": [
  {
   "cell_type": "code",
   "execution_count": null,
   "metadata": {},
   "outputs": [],
   "source": []
  },
  {
   "cell_type": "markdown",
   "metadata": {},
   "source": [
    "# Plan\n",
    "- Mix different noise recording + sentence recording as noises\n",
    "- Sine wave at varying frequency as the signal \n",
    "    - harmonic random weighting\n",
    "    - custom filter later on \n",
    "- varying mixing ratio over time\n"
   ]
  }
 ],
 "metadata": {
  "language_info": {
   "name": "python"
  }
 },
 "nbformat": 4,
 "nbformat_minor": 2
}
