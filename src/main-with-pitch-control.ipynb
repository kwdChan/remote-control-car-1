{
 "cells": [
  {
   "cell_type": "code",
   "execution_count": 1,
   "metadata": {},
   "outputs": [],
   "source": [
    "\n",
    "from typing import Callable, Tuple, TypeVar, cast, get_origin, get_args, Union, Any, Optional, Dict, List\n",
    "from components import CallChannel, ComponentStarter\n",
    "\n",
    "from components.two_wheels import TwoWheelsV3\n",
    "from components.logger import LoggerComponent\n",
    "from components.controller.bluetooth_controller import BlueToothCarControlSPP_V2\n",
    "from components.controller.bluetooth_SPP_server import start_bluetooth_server_v2b\n",
    "from components.gyroscope.gyroscope import AngularSpeedControlV3\n",
    "from components.camera import Picamera2V2\n",
    "from data_collection.data_collection import LoggerSet\n",
    "from components import PitchAngularVelocityController, get_switches\n",
    "from multiprocessing import Manager\n",
    "import numpy as np\n",
    "import datetime\n",
    "import RPi.GPIO as GPIO\n",
    "GPIO.setmode(GPIO.BOARD)\n",
    "\n",
    "# from components import numpy_sample_setup\n",
    "# r, w = numpy_sample_setup(['d', 'd'], [0, 0])\n",
    "\n",
    "%load_ext autoreload\n",
    "%autoreload 2"
   ]
  },
  {
   "cell_type": "code",
   "execution_count": 2,
   "metadata": {},
   "outputs": [],
   "source": [
    "loggerset = LoggerSet('../log/testsession'+str(datetime.datetime.now()), overwrite_ok=False)\n",
    "#loggerset = LoggerSet('../log/session'+str(datetime.datetime.now()), overwrite_ok=False)\n",
    "manager = Manager()"
   ]
  },
  {
   "cell_type": "code",
   "execution_count": 3,
   "metadata": {},
   "outputs": [],
   "source": [
    "\n",
    "logger_process = ComponentStarter(\n",
    "    LoggerComponent, \n",
    "    manager, \n",
    "    init_kwargs=dict(\n",
    "        loggerset = loggerset\n",
    "    ),\n",
    "    loop_intervals={'step': 1/100},\n",
    ")\n",
    "\n",
    "two_wheel_process = ComponentStarter(\n",
    "    TwoWheelsV3, \n",
    "    manager, \n",
    "    init_kwargs=dict(\n",
    "        left_pin = 33, \n",
    "        right_pin = 32, \n",
    "        dir_pins = (16, 18), \n",
    "        name='TwoWheelsV3'\n",
    "    ),\n",
    "    loop_intervals={'step': 1/100},\n",
    "    instantiator = TwoWheelsV3.entry\n",
    "\n",
    ")\n",
    "\n",
    "angular_speed_control_process = ComponentStarter(\n",
    "    AngularSpeedControlV3, \n",
    "    manager, \n",
    "    init_kwargs=dict(\n",
    "        i2c_address=0x68, \n",
    "        bus_num=1,\n",
    "        name='AngularSpeedControlV3'\n",
    "    ),\n",
    "    loop_intervals={'step': 1/100},\n",
    "    instantiator = AngularSpeedControlV3.entry\n",
    ")\n",
    "\n",
    "bluetooth_control_process = ComponentStarter(\n",
    "    BlueToothCarControlSPP_V2, \n",
    "    manager, \n",
    "    init_kwargs={},\n",
    "    loop_intervals={'step': 1/100},\n",
    ")\n",
    "\n",
    "bt_ser_out, bt_ser_process_man = start_bluetooth_server_v2b(manager)\n",
    "\n",
    "\n",
    "picamera_process = ComponentStarter(\n",
    "    Picamera2V2, \n",
    "    manager, \n",
    "    init_kwargs=dict(\n",
    "        resolution=(114, 64), \n",
    "        framerate=30,\n",
    "        name='Picamera2V2'\n",
    "    ),\n",
    "    loop_intervals={'step': 1/30},\n",
    "    sample_setup_kwargs=dict(default_values=[np.zeros((64, 114, 3), dtype=np.uint8)])\n",
    ")\n",
    "\n",
    "pitch_process = ComponentStarter(\n",
    "    PitchAngularVelocityController,\n",
    "    manager, \n",
    "    init_kwargs=dict(speed=100),\n",
    "    loop_intervals={'step': 1/30}, \n",
    "    instantiator=PitchAngularVelocityController.entry\n",
    "    \n",
    "\n",
    ")\n"
   ]
  },
  {
   "cell_type": "code",
   "execution_count": 4,
   "metadata": {},
   "outputs": [],
   "source": [
    "two_wheel_process.register_outgoing_rpc(\n",
    "    dict(log=logger_process.incoming_rpcs['log'])\n",
    ")\n",
    "\n",
    "angular_speed_control_process.register_outgoing_rpc(\n",
    "    dict(log=logger_process.incoming_rpcs['log'])\n",
    ")\n",
    "\n",
    "\n",
    "bluetooth_control_process.register_outgoing_rpc(\n",
    "    dict(log=logger_process.incoming_rpcs['log'])\n",
    ")\n",
    "\n",
    "picamera_process.register_outgoing_rpc(\n",
    "    dict(\n",
    "        log=logger_process.incoming_rpcs['log'],\n",
    "        setup_video_saver=logger_process.incoming_rpcs['setup_video_saver'],\n",
    "        save_video_frame=logger_process.incoming_rpcs['save_video_frame']\n",
    "        )\n",
    ")\n",
    "\n",
    "def get_pitch_drive_switch():\n",
    "    return bool(bt_ser_out[0]().get('start'))\n",
    "\n",
    "to_imu_controller = get_switches(pitch_process.outgoing_samples, bluetooth_control_process.outgoing_samples, get_pitch_drive_switch)\n",
    "\n",
    "\n",
    "two_wheel_process.register_incoming_samples(\n",
    "    angular_speed_control_process.outgoing_sample_readers\n",
    ")\n",
    "\n",
    "angular_speed_control_process.register_incoming_samples(\n",
    "    to_imu_controller\n",
    ")\n",
    "\n",
    "\n",
    "bluetooth_control_process.register_incoming_samples(\n",
    "    bt_ser_out\n",
    ")\n"
   ]
  },
  {
   "cell_type": "code",
   "execution_count": 5,
   "metadata": {},
   "outputs": [
    {
     "name": "stdout",
     "output_type": "stream",
     "text": [
      "Making discoverable...\n",
      "Starting Serial Port Profile...\n"
     ]
    },
    {
     "name": "stderr",
     "output_type": "stream",
     "text": [
      "/home/kawa/projects/car1/src/components/syncronisation/__init__.py:333: UserWarning: the real interval is >= ideal_interval\n",
      "  warnings.warn(\"the real interval is >= ideal_interval\")\n"
     ]
    },
    {
     "name": "stderr",
     "output_type": "stream",
     "text": [
      "/home/kawa/projects/car1/src/components/two_wheels.py:17: RuntimeWarning: This channel is already in use, continuing anyway.  Use GPIO.setwarnings(False) to disable warnings.\n",
      "  GPIO.setup(pin, GPIO.OUT) #type: ignore\n",
      "/home/kawa/projects/car1/src/components/two_wheels.py:73: RuntimeWarning: This channel is already in use, continuing anyway.  Use GPIO.setwarnings(False) to disable warnings.\n",
      "  GPIO.setup(dir_pins[0], GPIO.OUT) #type: ignore\n",
      "/home/kawa/projects/car1/src/components/two_wheels.py:74: RuntimeWarning: This channel is already in use, continuing anyway.  Use GPIO.setwarnings(False) to disable warnings.\n",
      "  GPIO.setup(dir_pins[1], GPIO.OUT) #type: ignore\n",
      "/home/kawa/projects/car1/src/components/syncronisation/__init__.py:333: UserWarning: the real interval is >= ideal_interval\n",
      "  warnings.warn(\"the real interval is >= ideal_interval\")\n",
      "[0:32:09.679180523] [9175] \u001b[1;32m INFO \u001b[1;37mCamera \u001b[1;34mcamera_manager.cpp:313 \u001b[0mlibcamera v0.3.0+65-6ddd79b5-dirty (2024-06-24T11:13:49+10:00)\n",
      "[0:32:09.743577656] [9268] \u001b[1;33m WARN \u001b[1;37mRPiSdn \u001b[1;34msdn.cpp:40 \u001b[0mUsing legacy SDN tuning - please consider moving SDN inside rpi.denoise\n",
      "[0:32:09.747493985] [9268] \u001b[1;32m INFO \u001b[1;37mRPI \u001b[1;34mvc4.cpp:446 \u001b[0mRegistered camera /base/soc/i2c0mux/i2c@1/ov5647@36 to Unicam device /dev/media2 and ISP device /dev/media1\n",
      "[0:32:09.747580114] [9268] \u001b[1;32m INFO \u001b[1;37mRPI \u001b[1;34mpipeline_base.cpp:1104 \u001b[0mUsing configuration file '/usr/local/share/libcamera/pipeline/rpi/vc4/rpi_apps.yaml'\n",
      "[0:32:09.759738597] [9175] \u001b[1;32m INFO \u001b[1;37mCamera \u001b[1;34mcamera_manager.cpp:313 \u001b[0mlibcamera v0.3.0+65-6ddd79b5-dirty (2024-06-24T11:13:49+10:00)\n",
      "[0:32:09.799982949] [9293] \u001b[1;33m WARN \u001b[1;37mRPiSdn \u001b[1;34msdn.cpp:40 \u001b[0mUsing legacy SDN tuning - please consider moving SDN inside rpi.denoise\n",
      "[0:32:09.804293496] [9293] \u001b[1;32m INFO \u001b[1;37mRPI \u001b[1;34mvc4.cpp:446 \u001b[0mRegistered camera /base/soc/i2c0mux/i2c@1/ov5647@36 to Unicam device /dev/media2 and ISP device /dev/media1\n",
      "[0:32:09.804373458] [9293] \u001b[1;32m INFO \u001b[1;37mRPI \u001b[1;34mpipeline_base.cpp:1104 \u001b[0mUsing configuration file '/usr/local/share/libcamera/pipeline/rpi/vc4/rpi_apps.yaml'\n",
      "[0:32:09.846006943] [9175] \u001b[1;32m INFO \u001b[1;37mCamera \u001b[1;34mcamera.cpp:1183 \u001b[0mconfiguring streams: (0) 114x64-RGB888 (1) 1920x1080-SGRBG10_CSI2P\n",
      "[0:32:09.846857749] [9293] \u001b[1;32m INFO \u001b[1;37mRPI \u001b[1;34mvc4.cpp:621 \u001b[0mSensor: /base/soc/i2c0mux/i2c@1/ov5647@36 - Selected sensor format: 1920x1080-SGRBG10_1X10 - Selected unicam format: 1920x1080-pgAA\n"
     ]
    },
    {
     "name": "stdout",
     "output_type": "stream",
     "text": [
      "using device: USB PnP Sound Device, USB Audio\n"
     ]
    },
    {
     "name": "stderr",
     "output_type": "stream",
     "text": [
      "/home/kawa/projects/car1/src/components/syncronisation/__init__.py:333: UserWarning: the real interval is >= ideal_interval\n",
      "  warnings.warn(\"the real interval is >= ideal_interval\")\n",
      "/home/kawa/projects/car1/src/components/syncronisation/__init__.py:333: UserWarning: the real interval is >= ideal_interval\n",
      "  warnings.warn(\"the real interval is >= ideal_interval\")\n",
      "/home/kawa/projects/car1/src/components/microphone/ahhhhh.py:181: RuntimeWarning: divide by zero encountered in divide\n",
      "  return 1/freqs[:len(freqs)//2], pitch_power[:len(freqs)//2]\n"
     ]
    },
    {
     "name": "stdout",
     "output_type": "stream",
     "text": [
      "NewConnection(/org/bluez/hci0/dev_C8_BD_4D_BA_4F_15, 95)\n",
      "saving: BlueToothCarControlSPP_V2\n",
      "saving: TwoWheelsV3\n",
      "saving: Picamera2V2\n",
      "saving: AngularSpeedControlV3\n",
      "saving: BlueToothCarControlSPP_V2\n",
      "saving: TwoWheelsV3\n",
      "saving: Picamera2V2\n",
      "saving: AngularSpeedControlV3\n",
      "saving: BlueToothCarControlSPP_V2\n",
      "saving: TwoWheelsV3\n",
      "saving: Picamera2V2\n",
      "saving: AngularSpeedControlV3\n",
      "saving: BlueToothCarControlSPP_V2\n",
      "saving: TwoWheelsV3\n",
      "saving: Picamera2V2\n",
      "saving: AngularSpeedControlV3\n",
      "saving: BlueToothCarControlSPP_V2\n",
      "saving: TwoWheelsV3\n",
      "saving: Picamera2V2\n",
      "saving: AngularSpeedControlV3\n",
      "saving: BlueToothCarControlSPP_V2\n",
      "saving: TwoWheelsV3\n",
      "saving: Picamera2V2\n",
      "saving: AngularSpeedControlV3\n",
      "saving: BlueToothCarControlSPP_V2\n",
      "saving: TwoWheelsV3\n",
      "saving: Picamera2V2\n",
      "saving: AngularSpeedControlV3\n",
      "saving: BlueToothCarControlSPP_V2\n",
      "saving: TwoWheelsV3\n",
      "saving: Picamera2V2\n",
      "saving: AngularSpeedControlV3\n",
      "saving: BlueToothCarControlSPP_V2\n",
      "saving: TwoWheelsV3\n",
      "saving: Picamera2V2\n",
      "saving: AngularSpeedControlV3\n",
      "saving: BlueToothCarControlSPP_V2\n",
      "saving: TwoWheelsV3\n",
      "saving: Picamera2V2\n",
      "saving: AngularSpeedControlV3\n",
      "saving: BlueToothCarControlSPP_V2\n",
      "saving: TwoWheelsV3\n",
      "saving: Picamera2V2\n",
      "saving: AngularSpeedControlV3\n",
      "saving: BlueToothCarControlSPP_V2\n",
      "saving: TwoWheelsV3\n",
      "saving: Picamera2V2\n",
      "saving: AngularSpeedControlV3\n",
      "saving: BlueToothCarControlSPP_V2\n",
      "saving: TwoWheelsV3\n",
      "saving: Picamera2V2\n",
      "saving: AngularSpeedControlV3\n",
      "saving: BlueToothCarControlSPP_V2\n",
      "saving: TwoWheelsV3\n",
      "saving: Picamera2V2\n",
      "saving: AngularSpeedControlV3\n",
      "saving: BlueToothCarControlSPP_V2\n",
      "saving: TwoWheelsV3\n",
      "saving: Picamera2V2\n",
      "saving: AngularSpeedControlV3\n",
      "saving: BlueToothCarControlSPP_V2\n",
      "saving: TwoWheelsV3\n",
      "saving: Picamera2V2\n"
     ]
    }
   ],
   "source": [
    "bt_ser_process_man.start()\n",
    "bluetooth_control_process.start()\n",
    "logger_process.start()\n",
    "two_wheel_process.start()\n",
    "angular_speed_control_process.start()\n",
    "picamera_process.start()\n",
    "pitch_process.start()\n"
   ]
  },
  {
   "cell_type": "code",
   "execution_count": 27,
   "metadata": {},
   "outputs": [
    {
     "name": "stderr",
     "output_type": "stream",
     "text": [
      "/tmp/ipykernel_2702/1014377469.py:1: DeprecationWarning: old alias\n",
      "  bt_ser_process_man.kill()\n",
      "/tmp/ipykernel_2702/1014377469.py:2: DeprecationWarning: old alias\n",
      "  bluetooth_control_process.process_starter.kill()\n",
      "/tmp/ipykernel_2702/1014377469.py:3: DeprecationWarning: old alias\n",
      "  logger_process.process_starter.kill()\n",
      "/tmp/ipykernel_2702/1014377469.py:4: DeprecationWarning: old alias\n",
      "  two_wheel_process.process_starter.kill()\n",
      "/tmp/ipykernel_2702/1014377469.py:5: DeprecationWarning: old alias\n",
      "  angular_speed_control_process.process_starter.kill()\n",
      "/tmp/ipykernel_2702/1014377469.py:6: DeprecationWarning: old alias\n",
      "  picamera_process.process_starter.kill()\n",
      "/tmp/ipykernel_2702/1014377469.py:7: DeprecationWarning: old alias\n",
      "  pitch_process.process_starter.kill()\n"
     ]
    }
   ],
   "source": [
    "bt_ser_process_man.kill()\n",
    "bluetooth_control_process.process_starter.kill()\n",
    "logger_process.process_starter.kill()\n",
    "two_wheel_process.process_starter.kill()\n",
    "angular_speed_control_process.process_starter.kill()\n",
    "picamera_process.process_starter.kill()\n",
    "pitch_process.process_starter.kill()\n",
    "\n"
   ]
  },
  {
   "cell_type": "code",
   "execution_count": 8,
   "metadata": {},
   "outputs": [
    {
     "name": "stdout",
     "output_type": "stream",
     "text": [
      "0.0, 0.0           49986             \r"
     ]
    }
   ],
   "source": [
    "from utils import mon_samples\n",
    "mon_samples(pitch_process.outgoing_samples)"
   ]
  },
  {
   "cell_type": "markdown",
   "metadata": {},
   "source": [
    "# playground"
   ]
  },
  {
   "cell_type": "code",
   "execution_count": 8,
   "metadata": {},
   "outputs": [],
   "source": [
    "l = logger_starter.incoming_rpcs['get_logger'].call('TwoWheelsV3')()"
   ]
  },
  {
   "cell_type": "code",
   "execution_count": 10,
   "metadata": {},
   "outputs": [
    {
     "ename": "KeyboardInterrupt",
     "evalue": "",
     "output_type": "error",
     "traceback": [
      "\u001b[0;31m---------------------------------------------------------------------------\u001b[0m",
      "\u001b[0;31mKeyboardInterrupt\u001b[0m                         Traceback (most recent call last)",
      "\u001b[1;32m/home/kawa/projects/car1/src/main.ipynb Cell 10\u001b[0m line \u001b[0;36m1\n\u001b[0;32m----> <a href='vscode-notebook-cell://127.0.0.1:8080/home/kawa/projects/car1/src/main.ipynb#X53sdnNjb2RlLXJlbW90ZQ%3D%3D?line=0'>1</a>\u001b[0m l()\n",
      "File \u001b[0;32m~/projects/car1/src/components/__init__.py:160\u001b[0m, in \u001b[0;36mCallChannel.call.<locals>.await_result\u001b[0;34m()\u001b[0m\n\u001b[1;32m    158\u001b[0m \u001b[39mdef\u001b[39;00m \u001b[39mawait_result\u001b[39m():\n\u001b[0;32m--> 160\u001b[0m     lock\u001b[39m.\u001b[39;49macquire()\n\u001b[1;32m    161\u001b[0m     \u001b[39mself\u001b[39m\u001b[39m.\u001b[39mresponse_locks\u001b[39m.\u001b[39mpop(this_call_id)\n\u001b[1;32m    163\u001b[0m     \u001b[39mreturn\u001b[39;00m \u001b[39mself\u001b[39m\u001b[39m.\u001b[39mres_pending\u001b[39m.\u001b[39mpop(this_call_id)\n",
      "File \u001b[0;32m/usr/local/lib/python3.12/multiprocessing/managers.py:1051\u001b[0m, in \u001b[0;36mAcquirerProxy.acquire\u001b[0;34m(self, blocking, timeout)\u001b[0m\n\u001b[1;32m   1049\u001b[0m \u001b[39mdef\u001b[39;00m \u001b[39macquire\u001b[39m(\u001b[39mself\u001b[39m, blocking\u001b[39m=\u001b[39m\u001b[39mTrue\u001b[39;00m, timeout\u001b[39m=\u001b[39m\u001b[39mNone\u001b[39;00m):\n\u001b[1;32m   1050\u001b[0m     args \u001b[39m=\u001b[39m (blocking,) \u001b[39mif\u001b[39;00m timeout \u001b[39mis\u001b[39;00m \u001b[39mNone\u001b[39;00m \u001b[39melse\u001b[39;00m (blocking, timeout)\n\u001b[0;32m-> 1051\u001b[0m     \u001b[39mreturn\u001b[39;00m \u001b[39mself\u001b[39;49m\u001b[39m.\u001b[39;49m_callmethod(\u001b[39m'\u001b[39;49m\u001b[39macquire\u001b[39;49m\u001b[39m'\u001b[39;49m, args)\n",
      "File \u001b[0;32m/usr/local/lib/python3.12/multiprocessing/managers.py:821\u001b[0m, in \u001b[0;36mBaseProxy._callmethod\u001b[0;34m(self, methodname, args, kwds)\u001b[0m\n\u001b[1;32m    818\u001b[0m     conn \u001b[39m=\u001b[39m \u001b[39mself\u001b[39m\u001b[39m.\u001b[39m_tls\u001b[39m.\u001b[39mconnection\n\u001b[1;32m    820\u001b[0m conn\u001b[39m.\u001b[39msend((\u001b[39mself\u001b[39m\u001b[39m.\u001b[39m_id, methodname, args, kwds))\n\u001b[0;32m--> 821\u001b[0m kind, result \u001b[39m=\u001b[39m conn\u001b[39m.\u001b[39;49mrecv()\n\u001b[1;32m    823\u001b[0m \u001b[39mif\u001b[39;00m kind \u001b[39m==\u001b[39m \u001b[39m'\u001b[39m\u001b[39m#RETURN\u001b[39m\u001b[39m'\u001b[39m:\n\u001b[1;32m    824\u001b[0m     \u001b[39mreturn\u001b[39;00m result\n",
      "File \u001b[0;32m/usr/local/lib/python3.12/multiprocessing/connection.py:250\u001b[0m, in \u001b[0;36m_ConnectionBase.recv\u001b[0;34m(self)\u001b[0m\n\u001b[1;32m    248\u001b[0m \u001b[39mself\u001b[39m\u001b[39m.\u001b[39m_check_closed()\n\u001b[1;32m    249\u001b[0m \u001b[39mself\u001b[39m\u001b[39m.\u001b[39m_check_readable()\n\u001b[0;32m--> 250\u001b[0m buf \u001b[39m=\u001b[39m \u001b[39mself\u001b[39;49m\u001b[39m.\u001b[39;49m_recv_bytes()\n\u001b[1;32m    251\u001b[0m \u001b[39mreturn\u001b[39;00m _ForkingPickler\u001b[39m.\u001b[39mloads(buf\u001b[39m.\u001b[39mgetbuffer())\n",
      "File \u001b[0;32m/usr/local/lib/python3.12/multiprocessing/connection.py:430\u001b[0m, in \u001b[0;36mConnection._recv_bytes\u001b[0;34m(self, maxsize)\u001b[0m\n\u001b[1;32m    429\u001b[0m \u001b[39mdef\u001b[39;00m \u001b[39m_recv_bytes\u001b[39m(\u001b[39mself\u001b[39m, maxsize\u001b[39m=\u001b[39m\u001b[39mNone\u001b[39;00m):\n\u001b[0;32m--> 430\u001b[0m     buf \u001b[39m=\u001b[39m \u001b[39mself\u001b[39;49m\u001b[39m.\u001b[39;49m_recv(\u001b[39m4\u001b[39;49m)\n\u001b[1;32m    431\u001b[0m     size, \u001b[39m=\u001b[39m struct\u001b[39m.\u001b[39munpack(\u001b[39m\"\u001b[39m\u001b[39m!i\u001b[39m\u001b[39m\"\u001b[39m, buf\u001b[39m.\u001b[39mgetvalue())\n\u001b[1;32m    432\u001b[0m     \u001b[39mif\u001b[39;00m size \u001b[39m==\u001b[39m \u001b[39m-\u001b[39m\u001b[39m1\u001b[39m:\n",
      "File \u001b[0;32m/usr/local/lib/python3.12/multiprocessing/connection.py:395\u001b[0m, in \u001b[0;36mConnection._recv\u001b[0;34m(self, size, read)\u001b[0m\n\u001b[1;32m    393\u001b[0m remaining \u001b[39m=\u001b[39m size\n\u001b[1;32m    394\u001b[0m \u001b[39mwhile\u001b[39;00m remaining \u001b[39m>\u001b[39m \u001b[39m0\u001b[39m:\n\u001b[0;32m--> 395\u001b[0m     chunk \u001b[39m=\u001b[39m read(handle, remaining)\n\u001b[1;32m    396\u001b[0m     n \u001b[39m=\u001b[39m \u001b[39mlen\u001b[39m(chunk)\n\u001b[1;32m    397\u001b[0m     \u001b[39mif\u001b[39;00m n \u001b[39m==\u001b[39m \u001b[39m0\u001b[39m:\n",
      "\u001b[0;31mKeyboardInterrupt\u001b[0m: "
     ]
    }
   ],
   "source": [
    "import plotly.express as px\n",
    "px.imshow(picamera_starter.outgoing_samples[0]())"
   ]
  },
  {
   "cell_type": "code",
   "execution_count": null,
   "metadata": {},
   "outputs": [],
   "source": []
  }
 ],
 "metadata": {
  "kernelspec": {
   "display_name": ".venv",
   "language": "python",
   "name": "python3"
  },
  "language_info": {
   "codemirror_mode": {
    "name": "ipython",
    "version": 3
   },
   "file_extension": ".py",
   "mimetype": "text/x-python",
   "name": "python",
   "nbconvert_exporter": "python",
   "pygments_lexer": "ipython3",
   "version": "3.11.9"
  }
 },
 "nbformat": 4,
 "nbformat_minor": 2
}
