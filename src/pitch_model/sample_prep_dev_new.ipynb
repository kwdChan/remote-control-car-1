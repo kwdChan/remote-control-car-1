{
 "cells": [
  {
   "cell_type": "code",
   "execution_count": null,
   "metadata": {},
   "outputs": [],
   "source": []
  },
  {
   "cell_type": "markdown",
   "metadata": {},
   "source": [
    "# Plan\n",
    "- Mix different noise recording + sentence recording as noises\n",
    "- Sine waves at varying frequency as the signal \n",
    "    - random weighting for different harmonics (catch all)\n",
    "        - complete random for now \n",
    "    - custom filter later on \n",
    "- varying mixing ratio over time\n"
   ]
  }
 ],
 "metadata": {
  "language_info": {
   "name": "python"
  }
 },
 "nbformat": 4,
 "nbformat_minor": 2
}
