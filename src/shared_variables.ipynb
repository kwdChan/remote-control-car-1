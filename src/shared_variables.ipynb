{
 "cells": [
  {
   "cell_type": "code",
   "execution_count": 44,
   "metadata": {},
   "outputs": [
    {
     "name": "stdout",
     "output_type": "stream",
     "text": [
      "The autoreload extension is already loaded. To reload it, use:\n",
      "  %reload_ext autoreload\n"
     ]
    }
   ],
   "source": [
    "#from components.controller.bluetooth_controller import ServerForAppArduinoBlueControlV2\n",
    "\n",
    "from components.gyroscope.gyroscope import AngularSpeedControlV2\n",
    "from components.two_wheels import TwoWheelsV2\n",
    "\n",
    "from data_collection.data_collection import LoggerSet, Logger\n",
    "from multiprocessing import Manager\n",
    "import RPi.GPIO as GPIO\n",
    "GPIO.setmode(GPIO.BOARD)\n",
    "\n",
    "%load_ext autoreload\n",
    "%autoreload 2"
   ]
  },
  {
   "cell_type": "code",
   "execution_count": 45,
   "metadata": {},
   "outputs": [],
   "source": [
    "#s.terminate()\n",
    "logger_set = LoggerSet('../log/temp', overwrite_ok=True)\n"
   ]
  },
  {
   "cell_type": "code",
   "execution_count": 77,
   "metadata": {},
   "outputs": [],
   "source": [
    "w_p.terminate()\n",
    "imu_p.terminate()"
   ]
  },
  {
   "cell_type": "code",
   "execution_count": 78,
   "metadata": {},
   "outputs": [],
   "source": [
    "from ctypes import c_double\n",
    "manager = Manager()\n",
    "\n",
    "speed = manager.Value(c_double, 0)\n",
    "angular_velocity = manager.Value(c_double, 0)\n",
    "\n",
    "_, w_starter = TwoWheelsV2.create(\n",
    "    manager, \n",
    "    interval=1/50, \n",
    "    entry_kwargs=dict(\n",
    "        left_pin=33, \n",
    "        right_pin=32, \n",
    "        dir_pins=(16, 18), \n",
    "        logger_set=logger_set, \n",
    "        name='TwoWheelsV2'\n",
    "    )\n",
    ")\n",
    "\n",
    "imu_out, imu_starter = AngularSpeedControlV2.create(\n",
    "    manager, \n",
    "    interval=1/50, \n",
    "    entry_kwargs=dict(\n",
    "        logger_set=logger_set, \n",
    "        name='AngularSpeedControlV2'\n",
    "    )\n",
    ")\n",
    "\n"
   ]
  },
  {
   "cell_type": "code",
   "execution_count": 67,
   "metadata": {},
   "outputs": [
    {
     "data": {
      "text/plain": [
       "[<ValueProxy object, typeid 'Value' at 0x7f49459130>,\n",
       " <ValueProxy object, typeid 'Value' at 0x7f49459100>]"
      ]
     },
     "execution_count": 67,
     "metadata": {},
     "output_type": "execute_result"
    }
   ],
   "source": [
    "imu_out"
   ]
  },
  {
   "cell_type": "code",
   "execution_count": 79,
   "metadata": {},
   "outputs": [
    {
     "name": "stderr",
     "output_type": "stream",
     "text": [
      "/home/kawa/projects/car1/src/components/two_wheels.py:15: RuntimeWarning: This channel is already in use, continuing anyway.  Use GPIO.setwarnings(False) to disable warnings.\n",
      "  GPIO.setup(pin, GPIO.OUT) #type: ignore\n",
      "/home/kawa/projects/car1/src/components/two_wheels.py:69: RuntimeWarning: This channel is already in use, continuing anyway.  Use GPIO.setwarnings(False) to disable warnings.\n",
      "  GPIO.setup(dir_pins[0], GPIO.OUT) #type: ignore\n",
      "/home/kawa/projects/car1/src/components/two_wheels.py:70: RuntimeWarning: This channel is already in use, continuing anyway.  Use GPIO.setwarnings(False) to disable warnings.\n",
      "  GPIO.setup(dir_pins[1], GPIO.OUT) #type: ignore\n"
     ]
    }
   ],
   "source": [
    "w_p = w_starter(imu_out)\n",
    "imu_p = imu_starter([angular_velocity, speed])\n"
   ]
  },
  {
   "cell_type": "code",
   "execution_count": 80,
   "metadata": {},
   "outputs": [],
   "source": [
    "import time\n",
    "def timeout_callback(func, sec, check_interval=0.1, *args, **kwargs):\n",
    "    start = time.monotonic()\n",
    "    while (time.monotonic() - start) < sec:\n",
    "        time.sleep(check_interval)\n",
    "    func(*args, **kwargs)\n",
    "\n",
    "speed.value=100\n",
    "\n",
    "def f(x):\n",
    "    x.value=0\n",
    "timeout_callback(f, 4, 0.1, speed)"
   ]
  },
  {
   "cell_type": "code",
   "execution_count": null,
   "metadata": {},
   "outputs": [],
   "source": []
  }
 ],
 "metadata": {
  "kernelspec": {
   "display_name": ".venv",
   "language": "python",
   "name": "python3"
  },
  "language_info": {
   "codemirror_mode": {
    "name": "ipython",
    "version": 3
   },
   "file_extension": ".py",
   "mimetype": "text/x-python",
   "name": "python",
   "nbconvert_exporter": "python",
   "pygments_lexer": "ipython3",
   "version": "3.9.2"
  }
 },
 "nbformat": 4,
 "nbformat_minor": 2
}
