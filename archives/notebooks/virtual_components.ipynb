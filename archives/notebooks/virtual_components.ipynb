{
 "cells": [
  {
   "cell_type": "code",
   "execution_count": 6,
   "id": "25708f18-3abc-43a5-836f-ffe5fa5c6cd6",
   "metadata": {},
   "outputs": [],
   "source": [
    "from typing import List, Dict, Literal, Union\n",
    "import datetime, time \n",
    "import numpy as np \n",
    "import pandas as pd\n",
    "import RPi.GPIO as GPIO\n",
    "from multiprocessing import Pipe, Process\n",
    "from multiprocessing.connection import Connection\n",
    "\n",
    "from data_collection import Logger"
   ]
  },
  {
   "cell_type": "code",
   "execution_count": 7,
   "id": "e795a46c-6594-4ad6-bc21-c187a4b625e6",
   "metadata": {},
   "outputs": [],
   "source": [
    "\n",
    "def setup_pwm(pin, freq=300) -> GPIO.PWM:\n",
    "    GPIO.setup(pin, GPIO.OUT)\n",
    "    return GPIO.PWM(pin, freq) \n",
    "\n",
    "class TwoWheels:\n",
    "    def __init__(self, ch_left, ch_right):\n",
    "        ch_left.start(0)\n",
    "        ch_right.start(0)\n",
    "        self.ch_left = ch_left\n",
    "        self.ch_right = ch_right\n",
    "        \n",
    "    def step(self, left: Union[None, int], right: Union[None, int]) -> None:\n",
    "        \n",
    "        if (left is None) and (right is None):\n",
    "            return \n",
    "        \n",
    "        self.ch_left.ChangeDutyCycle(left)\n",
    "        self.ch_right.ChangeDutyCycle(right)\n",
    "\n",
    "    def sample(input_con: Connection) -> (Union[None, int], Union[None, int]):\n",
    "        \"\"\"\n",
    "        read only the latest input\n",
    "\n",
    "        the component stale if the inputs are comming faster than it can read\n",
    "        \"\"\"\n",
    "        left, right = None, None\n",
    "        while input_con.poll():\n",
    "            left, right = input_con.recv()\n",
    "        return left, right\n",
    "    \n",
    "    \n",
    "    def main(left_pin:int, right_pin:int, input_con: Connection, **logger_kwargs):\n",
    "        \n",
    "        GPIO.setmode(GPIO.BOARD)\n",
    "        ch_left = setup_pwm(left_pin,freq=300)\n",
    "        ch_right = setup_pwm(right_pin,freq=300)\n",
    "\n",
    "        logger = Logger(**logger_kwargs)\n",
    "        \n",
    "        component = TwoWheels(ch_left, ch_right)\n",
    "            \n",
    "        while True:\n",
    "            left, right = TwoWheels.sample(input_con)\n",
    "            component.step(left, right)\n",
    "\n",
    "            \n",
    "            logger.increment_idx() # time is recorded here\n",
    "            logger.log('left', left)\n",
    "            logger.log('right', right)\n",
    "            \n",
    "            time.sleep(0.1)\n",
    "\n",
    "    def start(left_pin, right_pin, **logger_kwargs):\n",
    "        \"\"\"\n",
    "        using GPIO.BOARD pin\n",
    "        \"\"\"\n",
    "        \n",
    "        receiver, sender = Pipe(False)\n",
    "        process = Process(target=TwoWheels.main, args=(left_pin, right_pin, receiver), kwargs=logger_kwargs)\n",
    "        process.start()\n",
    "        return process, sender\n",
    "\n",
    "    "
   ]
  },
  {
   "cell_type": "code",
   "execution_count": 8,
   "id": "e0f8384c-89a3-47c3-8a35-7aa783a507cb",
   "metadata": {},
   "outputs": [
    {
     "name": "stderr",
     "output_type": "stream",
     "text": [
      "/tmp/ipykernel_3309/1605402927.py:2: RuntimeWarning: This channel is already in use, continuing anyway.  Use GPIO.setwarnings(False) to disable warnings.\n",
      "  GPIO.setup(pin, GPIO.OUT)\n"
     ]
    }
   ],
   "source": [
    "process, sender = TwoWheels.start(32, 33, name='two_wheels')"
   ]
  },
  {
   "cell_type": "code",
   "execution_count": 5,
   "id": "a2a46117-23c6-4f9b-8e21-b82ca6a45c36",
   "metadata": {},
   "outputs": [],
   "source": [
    "sender.send((20,20))"
   ]
  },
  {
   "cell_type": "code",
   "execution_count": 6,
   "id": "ac935606-2c29-430d-826c-6ffb0ea52c0d",
   "metadata": {},
   "outputs": [],
   "source": [
    "sender.send((0,0))"
   ]
  },
  {
   "cell_type": "code",
   "execution_count": 9,
   "id": "5996a96e-5801-4690-9426-a4c06252e858",
   "metadata": {},
   "outputs": [
    {
     "data": {
      "text/plain": [
       "[]"
      ]
     },
     "execution_count": 9,
     "metadata": {},
     "output_type": "execute_result"
    }
   ],
   "source": [
    "Logger(overwrite_ok=True).load()"
   ]
  },
  {
   "cell_type": "code",
   "execution_count": null,
   "id": "1032f44b-9b58-4cbd-9065-cd2dfdac233c",
   "metadata": {},
   "outputs": [],
   "source": []
  }
 ],
 "metadata": {
  "kernelspec": {
   "display_name": "Python 3 (ipykernel)",
   "language": "python",
   "name": "python3"
  },
  "language_info": {
   "codemirror_mode": {
    "name": "ipython",
    "version": 3
   },
   "file_extension": ".py",
   "mimetype": "text/x-python",
   "name": "python",
   "nbconvert_exporter": "python",
   "pygments_lexer": "ipython3",
   "version": "3.9.2"
  }
 },
 "nbformat": 4,
 "nbformat_minor": 5
}
