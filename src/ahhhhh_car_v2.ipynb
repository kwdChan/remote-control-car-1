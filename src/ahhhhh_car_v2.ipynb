{
 "cells": [
  {
   "cell_type": "code",
   "execution_count": 2,
   "metadata": {},
   "outputs": [],
   "source": [
    "from typing import List, Dict, Literal, Union\n",
    "import datetime, time \n",
    "import numpy as np \n",
    "import pandas as pd\n",
    "import RPi.GPIO as GPIO\n",
    "\n",
    "import plotly.express as px\n",
    "\n",
    "from multiprocessing import Pipe, Process\n",
    "from multiprocessing.connection import Connection\n",
    "\n",
    "from data_collection.data_collection import LoggerSet, Logger\n",
    "\n",
    "from components.two_wheels import TwoWheels\n",
    "from components.microphone.ahhhhh import  AhhhhhWheelController\n",
    "#from components.camera import Camera\n",
    "\n",
    "%load_ext autoreload\n",
    "%autoreload 2"
   ]
  },
  {
   "cell_type": "code",
   "execution_count": 3,
   "metadata": {},
   "outputs": [],
   "source": [
    "logger_set = LoggerSet(overwrite_ok=True)"
   ]
  },
  {
   "cell_type": "code",
   "execution_count": 4,
   "metadata": {},
   "outputs": [],
   "source": [
    "wheel_p, wheel_in = TwoWheels.start(32, 33, logger_set, name='wheel4')"
   ]
  },
  {
   "cell_type": "code",
   "execution_count": 5,
   "metadata": {},
   "outputs": [
    {
     "name": "stdout",
     "output_type": "stream",
     "text": [
      "using device: USB Device 0x46d:0x825, USB Audio\n"
     ]
    },
    {
     "name": "stderr",
     "output_type": "stream",
     "text": [
      "/home/kawa/projects/car1/src/components/microphone/microphone.py:47: RuntimeWarning: divide by zero encountered in log\n",
      "  sxx = np.log(y.real**2 + y.imag**2) # type: ignore\n",
      "/home/kawa/projects/car1/src/components/microphone/ahhhhh.py:165: RuntimeWarning: invalid value encountered in subtract\n",
      "  return sxx - rolling_mean(sxx, np.ones(bandwidth)/bandwidth)\n",
      "/home/kawa/projects/car1/src/components/microphone/ahhhhh.py:174: RuntimeWarning: divide by zero encountered in divide\n",
      "  return 1/freqs[:len(freqs)//2], pitch_power[:len(freqs)//2]\n",
      "/home/kawa/projects/car1/src/components/microphone/ahhhhh.py:169: RuntimeWarning: invalid value encountered in subtract\n",
      "  sxx = sxx-sxx.mean()\n"
     ]
    }
   ],
   "source": [
    "ahh_p, ahh_out = AhhhhhWheelController.start(None, 800, 5, 5, logger_set, name='ahh4')"
   ]
  },
  {
   "cell_type": "code",
   "execution_count": 6,
   "metadata": {},
   "outputs": [
    {
     "ename": "KeyboardInterrupt",
     "evalue": "",
     "output_type": "error",
     "traceback": [
      "\u001b[0;31m---------------------------------------------------------------------------\u001b[0m",
      "\u001b[0;31mKeyboardInterrupt\u001b[0m                         Traceback (most recent call last)",
      "\u001b[1;32m/home/kawa/projects/car1/src/ahhhhh_car_v2.ipynb Cell 5\u001b[0m line \u001b[0;36m4\n\u001b[1;32m      <a href='vscode-notebook-cell://127.0.0.1:8080/home/kawa/projects/car1/src/ahhhhh_car_v2.ipynb#W4sdnNjb2RlLXJlbW90ZQ%3D%3D?line=1'>2</a>\u001b[0m     ahh_out\u001b[39m.\u001b[39mrecv()\n\u001b[1;32m      <a href='vscode-notebook-cell://127.0.0.1:8080/home/kawa/projects/car1/src/ahhhhh_car_v2.ipynb#W4sdnNjb2RlLXJlbW90ZQ%3D%3D?line=2'>3</a>\u001b[0m \u001b[39mwhile\u001b[39;00m \u001b[39mTrue\u001b[39;00m:\n\u001b[0;32m----> <a href='vscode-notebook-cell://127.0.0.1:8080/home/kawa/projects/car1/src/ahhhhh_car_v2.ipynb#W4sdnNjb2RlLXJlbW90ZQ%3D%3D?line=3'>4</a>\u001b[0m     wheel_in\u001b[39m.\u001b[39msend(ahh_out\u001b[39m.\u001b[39;49mrecv())\n",
      "File \u001b[0;32m/usr/lib/python3.9/multiprocessing/connection.py:255\u001b[0m, in \u001b[0;36m_ConnectionBase.recv\u001b[0;34m(self)\u001b[0m\n\u001b[1;32m    253\u001b[0m \u001b[39mself\u001b[39m\u001b[39m.\u001b[39m_check_closed()\n\u001b[1;32m    254\u001b[0m \u001b[39mself\u001b[39m\u001b[39m.\u001b[39m_check_readable()\n\u001b[0;32m--> 255\u001b[0m buf \u001b[39m=\u001b[39m \u001b[39mself\u001b[39;49m\u001b[39m.\u001b[39;49m_recv_bytes()\n\u001b[1;32m    256\u001b[0m \u001b[39mreturn\u001b[39;00m _ForkingPickler\u001b[39m.\u001b[39mloads(buf\u001b[39m.\u001b[39mgetbuffer())\n",
      "File \u001b[0;32m/usr/lib/python3.9/multiprocessing/connection.py:419\u001b[0m, in \u001b[0;36mConnection._recv_bytes\u001b[0;34m(self, maxsize)\u001b[0m\n\u001b[1;32m    418\u001b[0m \u001b[39mdef\u001b[39;00m \u001b[39m_recv_bytes\u001b[39m(\u001b[39mself\u001b[39m, maxsize\u001b[39m=\u001b[39m\u001b[39mNone\u001b[39;00m):\n\u001b[0;32m--> 419\u001b[0m     buf \u001b[39m=\u001b[39m \u001b[39mself\u001b[39;49m\u001b[39m.\u001b[39;49m_recv(\u001b[39m4\u001b[39;49m)\n\u001b[1;32m    420\u001b[0m     size, \u001b[39m=\u001b[39m struct\u001b[39m.\u001b[39munpack(\u001b[39m\"\u001b[39m\u001b[39m!i\u001b[39m\u001b[39m\"\u001b[39m, buf\u001b[39m.\u001b[39mgetvalue())\n\u001b[1;32m    421\u001b[0m     \u001b[39mif\u001b[39;00m size \u001b[39m==\u001b[39m \u001b[39m-\u001b[39m\u001b[39m1\u001b[39m:\n",
      "File \u001b[0;32m/usr/lib/python3.9/multiprocessing/connection.py:384\u001b[0m, in \u001b[0;36mConnection._recv\u001b[0;34m(self, size, read)\u001b[0m\n\u001b[1;32m    382\u001b[0m remaining \u001b[39m=\u001b[39m size\n\u001b[1;32m    383\u001b[0m \u001b[39mwhile\u001b[39;00m remaining \u001b[39m>\u001b[39m \u001b[39m0\u001b[39m:\n\u001b[0;32m--> 384\u001b[0m     chunk \u001b[39m=\u001b[39m read(handle, remaining)\n\u001b[1;32m    385\u001b[0m     n \u001b[39m=\u001b[39m \u001b[39mlen\u001b[39m(chunk)\n\u001b[1;32m    386\u001b[0m     \u001b[39mif\u001b[39;00m n \u001b[39m==\u001b[39m \u001b[39m0\u001b[39m:\n",
      "\u001b[0;31mKeyboardInterrupt\u001b[0m: "
     ]
    }
   ],
   "source": [
    "while ahh_out.poll():\n",
    "    ahh_out.recv()\n",
    "while True:\n",
    "    wheel_in.send(ahh_out.recv())"
   ]
  },
  {
   "cell_type": "code",
   "execution_count": 6,
   "metadata": {},
   "outputs": [],
   "source": [
    "wheel_in.send((20, 20))"
   ]
  },
  {
   "cell_type": "code",
   "execution_count": 7,
   "metadata": {},
   "outputs": [],
   "source": [
    "wheel_in.send((0, 0))"
   ]
  },
  {
   "cell_type": "code",
   "execution_count": 13,
   "metadata": {},
   "outputs": [],
   "source": [
    "ahhdf = logger_set.get_all_logger()[-1].load_as_df(0, 1)"
   ]
  },
  {
   "cell_type": "code",
   "execution_count": 17,
   "metadata": {},
   "outputs": [
    {
     "data": {
      "text/plain": [
       "key\n",
       "AhhhhhDetector                                  2024-02-24 19:28:15.268399\n",
       "AhhhhhWheelController                           2024-02-24 19:28:15.269307\n",
       "balance                                                           0.495682\n",
       "basefreq                                                         97.560976\n",
       "latest_sxx               [27.70520031149925, 20.843088693331683, 21.723...\n",
       "median_pitch                                                    218.963621\n",
       "pitch                                                           218.963621\n",
       "pitch_power                                                   65717.033282\n",
       "speed_or_invalid                                                        60\n",
       "Name: 152, dtype: object"
      ]
     },
     "execution_count": 17,
     "metadata": {},
     "output_type": "execute_result"
    }
   ],
   "source": [
    "ahhdf.loc[152]"
   ]
  },
  {
   "cell_type": "code",
   "execution_count": null,
   "metadata": {},
   "outputs": [],
   "source": [
    "60*"
   ]
  },
  {
   "cell_type": "code",
   "execution_count": 9,
   "metadata": {},
   "outputs": [],
   "source": [
    "df = logger_set.get_all_logger()[2].load_as_df()"
   ]
  },
  {
   "cell_type": "code",
   "execution_count": 16,
   "metadata": {},
   "outputs": [
    {
     "data": {
      "text/html": [
       "<div>\n",
       "<style scoped>\n",
       "    .dataframe tbody tr th:only-of-type {\n",
       "        vertical-align: middle;\n",
       "    }\n",
       "\n",
       "    .dataframe tbody tr th {\n",
       "        vertical-align: top;\n",
       "    }\n",
       "\n",
       "    .dataframe thead th {\n",
       "        text-align: right;\n",
       "    }\n",
       "</style>\n",
       "<table border=\"1\" class=\"dataframe\">\n",
       "  <thead>\n",
       "    <tr style=\"text-align: right;\">\n",
       "      <th>key</th>\n",
       "      <th>left</th>\n",
       "      <th>right</th>\n",
       "      <th>sender_idx</th>\n",
       "      <th>sender_name</th>\n",
       "      <th>time</th>\n",
       "    </tr>\n",
       "    <tr>\n",
       "      <th>idx</th>\n",
       "      <th></th>\n",
       "      <th></th>\n",
       "      <th></th>\n",
       "      <th></th>\n",
       "      <th></th>\n",
       "    </tr>\n",
       "  </thead>\n",
       "  <tbody>\n",
       "    <tr>\n",
       "      <th>129</th>\n",
       "      <td>29.740905</td>\n",
       "      <td>30.259095</td>\n",
       "      <td>152</td>\n",
       "      <td>ahh4</td>\n",
       "      <td>2024-02-24 19:28:15.282133</td>\n",
       "    </tr>\n",
       "    <tr>\n",
       "      <th>207</th>\n",
       "      <td>14.80001</td>\n",
       "      <td>45.19999</td>\n",
       "      <td>308</td>\n",
       "      <td>ahh4</td>\n",
       "      <td>2024-02-24 19:28:23.135235</td>\n",
       "    </tr>\n",
       "    <tr>\n",
       "      <th>208</th>\n",
       "      <td>14.80001</td>\n",
       "      <td>45.19999</td>\n",
       "      <td>311</td>\n",
       "      <td>ahh4</td>\n",
       "      <td>2024-02-24 19:28:23.235860</td>\n",
       "    </tr>\n",
       "    <tr>\n",
       "      <th>223</th>\n",
       "      <td>20.57174</td>\n",
       "      <td>39.42826</td>\n",
       "      <td>341</td>\n",
       "      <td>ahh4</td>\n",
       "      <td>2024-02-24 19:28:24.743744</td>\n",
       "    </tr>\n",
       "    <tr>\n",
       "      <th>224</th>\n",
       "      <td>20.57174</td>\n",
       "      <td>39.42826</td>\n",
       "      <td>343</td>\n",
       "      <td>ahh4</td>\n",
       "      <td>2024-02-24 19:28:24.844305</td>\n",
       "    </tr>\n",
       "    <tr>\n",
       "      <th>...</th>\n",
       "      <td>...</td>\n",
       "      <td>...</td>\n",
       "      <td>...</td>\n",
       "      <td>...</td>\n",
       "      <td>...</td>\n",
       "    </tr>\n",
       "    <tr>\n",
       "      <th>1488</th>\n",
       "      <td>32.947057</td>\n",
       "      <td>27.052943</td>\n",
       "      <td>NaN</td>\n",
       "      <td>NaN</td>\n",
       "      <td>2024-02-22 19:19:50.296584</td>\n",
       "    </tr>\n",
       "    <tr>\n",
       "      <th>1489</th>\n",
       "      <td>34.580318</td>\n",
       "      <td>25.419682</td>\n",
       "      <td>NaN</td>\n",
       "      <td>NaN</td>\n",
       "      <td>2024-02-22 19:19:50.397189</td>\n",
       "    </tr>\n",
       "    <tr>\n",
       "      <th>1490</th>\n",
       "      <td>34.580318</td>\n",
       "      <td>25.419682</td>\n",
       "      <td>NaN</td>\n",
       "      <td>NaN</td>\n",
       "      <td>2024-02-22 19:19:50.497668</td>\n",
       "    </tr>\n",
       "    <tr>\n",
       "      <th>1491</th>\n",
       "      <td>34.580318</td>\n",
       "      <td>25.419682</td>\n",
       "      <td>NaN</td>\n",
       "      <td>NaN</td>\n",
       "      <td>2024-02-22 19:19:50.598167</td>\n",
       "    </tr>\n",
       "    <tr>\n",
       "      <th>1492</th>\n",
       "      <td>34.580318</td>\n",
       "      <td>25.419682</td>\n",
       "      <td>NaN</td>\n",
       "      <td>NaN</td>\n",
       "      <td>2024-02-22 19:19:50.698701</td>\n",
       "    </tr>\n",
       "  </tbody>\n",
       "</table>\n",
       "<p>434 rows × 5 columns</p>\n",
       "</div>"
      ],
      "text/plain": [
       "key        left      right sender_idx sender_name                        time\n",
       "idx                                                                          \n",
       "129   29.740905  30.259095        152        ahh4  2024-02-24 19:28:15.282133\n",
       "207    14.80001   45.19999        308        ahh4  2024-02-24 19:28:23.135235\n",
       "208    14.80001   45.19999        311        ahh4  2024-02-24 19:28:23.235860\n",
       "223    20.57174   39.42826        341        ahh4  2024-02-24 19:28:24.743744\n",
       "224    20.57174   39.42826        343        ahh4  2024-02-24 19:28:24.844305\n",
       "...         ...        ...        ...         ...                         ...\n",
       "1488  32.947057  27.052943        NaN         NaN  2024-02-22 19:19:50.296584\n",
       "1489  34.580318  25.419682        NaN         NaN  2024-02-22 19:19:50.397189\n",
       "1490  34.580318  25.419682        NaN         NaN  2024-02-22 19:19:50.497668\n",
       "1491  34.580318  25.419682        NaN         NaN  2024-02-22 19:19:50.598167\n",
       "1492  34.580318  25.419682        NaN         NaN  2024-02-22 19:19:50.698701\n",
       "\n",
       "[434 rows x 5 columns]"
      ]
     },
     "execution_count": 16,
     "metadata": {},
     "output_type": "execute_result"
    }
   ],
   "source": [
    "df.query('left>0')"
   ]
  },
  {
   "cell_type": "code",
   "execution_count": null,
   "metadata": {},
   "outputs": [],
   "source": []
  }
 ],
 "metadata": {
  "kernelspec": {
   "display_name": "Python 3 (ipykernel)",
   "language": "python",
   "name": "python3"
  },
  "language_info": {
   "codemirror_mode": {
    "name": "ipython",
    "version": 3
   },
   "file_extension": ".py",
   "mimetype": "text/x-python",
   "name": "python",
   "nbconvert_exporter": "python",
   "pygments_lexer": "ipython3",
   "version": "3.9.2"
  }
 },
 "nbformat": 4,
 "nbformat_minor": 4
}
