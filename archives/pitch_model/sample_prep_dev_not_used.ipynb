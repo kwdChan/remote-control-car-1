{
 "cells": [
  {
   "cell_type": "code",
   "execution_count": null,
   "metadata": {},
   "outputs": [],
   "source": [
    "import torch as tch\n",
    "from torch import nn\n",
    "import torchaudio as ta\n",
    "import torchaudio.transforms as tatx\n",
    "import torchaudio.functional as tafn\n",
    "from pathlib import Path\n",
    "import plotly.express as px\n",
    "import pandas as pd\n",
    "import numpy as np\n",
    "from IPython.display import Audio\n",
    "\n",
    "from train_tools import find_lr, check_with_patient, UpdatingPlotlyLines, fit_step, evaluate\n",
    "from torch.optim import Adam\n",
    "from torch.nn import functional as nnfn\n",
    "\n",
    "device = tch.device(\"cpu\")\n",
    "\n",
    "%load_ext autoreload\n",
    "%autoreload 2 "
   ]
  },
  {
   "cell_type": "code",
   "execution_count": null,
   "metadata": {},
   "outputs": [],
   "source": [
    "import prep_sample as pl"
   ]
  },
  {
   "cell_type": "code",
   "execution_count": null,
   "metadata": {},
   "outputs": [],
   "source": [
    "we_df = pd.read_csv('temp/we_df.csv')\n",
    "we_seg_df = pd.read_csv('temp/wee_seg_16000.csv', index_col=0)\n",
    "\n",
    "idx = np.random.choice(len(we_df), len(we_df), replace=False)\n",
    "we_df_shuffled = we_df.iloc[idx]\n",
    "we_seg_df_shuffled = we_seg_df.iloc[idx]\n",
    "\n",
    "pos_val_size = 500\n",
    "pos_train_ds = pl.CommonVoiceDataset('dataset/Common Voice Corpus 1/en/', 16000)\n",
    "pos_train_ds.use_df(we_df_shuffled[:-pos_val_size])\n",
    "we_seg_df_shuffled_train = we_seg_df_shuffled[:-pos_val_size]\n",
    "\n",
    "pos_val_ds = pl.CommonVoiceDataset('dataset/Common Voice Corpus 1/en/', 16000)\n",
    "pos_val_ds.use_df(we_df_shuffled[-pos_val_size:])\n",
    "we_seg_df_shuffled_val = we_seg_df_shuffled[-pos_val_size:]"
   ]
  },
  {
   "cell_type": "code",
   "execution_count": null,
   "metadata": {},
   "outputs": [],
   "source": [
    "pos_train_ds[0]"
   ]
  },
  {
   "cell_type": "code",
   "execution_count": null,
   "metadata": {},
   "outputs": [],
   "source": [
    "Audio(pl.get_middle_segment(pos_train_ds, we_seg_df_shuffled_train, 1, 400), rate=16000)"
   ]
  },
  {
   "cell_type": "code",
   "execution_count": null,
   "metadata": {},
   "outputs": [],
   "source": [
    "pl.show_spectrum(pl.get_middle_segment(pos_train_ds, we_seg_df_shuffled_train, 1, 400)[0], 16000)"
   ]
  },
  {
   "cell_type": "code",
   "execution_count": null,
   "metadata": {},
   "outputs": [],
   "source": [
    "x = pl.get_segment(pos_train_ds, we_seg_df_shuffled_train, 1)\n",
    "pl.show_spectrum(x[0], 16000)"
   ]
  },
  {
   "cell_type": "code",
   "execution_count": null,
   "metadata": {},
   "outputs": [],
   "source": [
    "def repeat_last_frame(x, idx=-1, n_times=100): \n",
    "\n",
    "    sxx = tatx.Spectrogram(power=2)(x)\n",
    "    x_ = tatx.GriffinLim()(sxx[..., [idx]*n_times])[0]\n",
    "    return x_\n",
    "\n",
    "x = pl.get_segment(pos_train_ds, we_seg_df_shuffled_train, 1)*1e12\n",
    "Audio(repeat_last_frame(x, -3), rate=16000)"
   ]
  },
  {
   "cell_type": "code",
   "execution_count": null,
   "metadata": {},
   "outputs": [],
   "source": [
    "Audio(x, rate=16000)"
   ]
  },
  {
   "cell_type": "code",
   "execution_count": null,
   "metadata": {},
   "outputs": [],
   "source": [
    "pl.show_spectrum(x[0], 16000)"
   ]
  },
  {
   "cell_type": "code",
   "execution_count": null,
   "metadata": {},
   "outputs": [],
   "source": [
    "px.line(x[0])"
   ]
  },
  {
   "cell_type": "code",
   "execution_count": null,
   "metadata": {},
   "outputs": [],
   "source": [
    "x = pos_train_ds[0][0][0]"
   ]
  },
  {
   "cell_type": "code",
   "execution_count": null,
   "metadata": {},
   "outputs": [],
   "source": [
    "px.line(tafn.detect_pitch_frequency(x/100, 16000, win_length=30))"
   ]
  },
  {
   "cell_type": "code",
   "execution_count": null,
   "metadata": {},
   "outputs": [],
   "source": [
    "Audio(x, rate=16000)"
   ]
  },
  {
   "cell_type": "code",
   "execution_count": null,
   "metadata": {},
   "outputs": [],
   "source": [
    "tafn.detect_pitch_frequency?"
   ]
  },
  {
   "cell_type": "code",
   "execution_count": null,
   "metadata": {},
   "outputs": [],
   "source": []
  }
 ],
 "metadata": {
  "kernelspec": {
   "display_name": "venv",
   "language": "python",
   "name": "python3"
  },
  "language_info": {
   "codemirror_mode": {
    "name": "ipython",
    "version": 3
   },
   "file_extension": ".py",
   "mimetype": "text/x-python",
   "name": "python",
   "nbconvert_exporter": "python",
   "pygments_lexer": "ipython3",
   "version": "3.10.12"
  }
 },
 "nbformat": 4,
 "nbformat_minor": 2
}
