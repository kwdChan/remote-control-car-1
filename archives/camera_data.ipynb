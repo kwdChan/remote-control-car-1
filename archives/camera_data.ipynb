{
 "cells": [
  {
   "cell_type": "code",
   "execution_count": 1,
   "metadata": {},
   "outputs": [],
   "source": [
    "from typing import List, Dict, Literal, Union, Callable\n",
    "import datetime, time \n",
    "import numpy as np \n",
    "import pandas as pd\n",
    "\n",
    "import plotly.express as px\n",
    "import plotly.graph_objects as go\n",
    "\n",
    "#import RPi.GPIO as GPIO\n",
    "# from multiprocessing import Pipe, Process\n",
    "# from multiprocessing.connection import Connection\n",
    "\n",
    "\n",
    "from data_collection.data_collection import Logger, LoggerSet\n",
    "\n",
    "from components.two_wheels import TwoWheels\n",
    "from components.microphone.ahhhhh import  AhhhhhWheelController\n",
    "from components.camera import Picamera\n",
    "\n",
    "%load_ext autoreload\n",
    "%autoreload 2"
   ]
  },
  {
   "cell_type": "code",
   "execution_count": 2,
   "metadata": {},
   "outputs": [],
   "source": [
    "logger_set = LoggerSet('../log/test',  overwrite_ok=False)"
   ]
  },
  {
   "cell_type": "code",
   "execution_count": 3,
   "metadata": {},
   "outputs": [
    {
     "name": "stderr",
     "output_type": "stream",
     "text": [
      "[2:06:04.620638187] [13267] \u001b[1;32m INFO \u001b[1;37mCamera \u001b[1;34mcamera_manager.cpp:297 \u001b[0mlibcamera v0.0.5+83-bde9b04f\n"
     ]
    },
    {
     "name": "stderr",
     "output_type": "stream",
     "text": [
      "[2:06:04.664764769] [13268] \u001b[1;32m INFO \u001b[1;37mRPI \u001b[1;34mvc4.cpp:437 \u001b[0mRegistered camera /base/soc/i2c0mux/i2c@1/ov5647@36 to Unicam device /dev/media3 and ISP device /dev/media0\n",
      "[2:06:04.665230913] [13268] \u001b[1;32m INFO \u001b[1;37mRPI \u001b[1;34mpipeline_base.cpp:1101 \u001b[0mUsing configuration file '/usr/share/libcamera/pipeline/rpi/vc4/rpi_apps.yaml'\n",
      "[2:06:04.676336669] [13267] \u001b[1;32m INFO \u001b[1;37mCamera \u001b[1;34mcamera.cpp:1033 \u001b[0mconfiguring streams: (0) 114x64-RGB888 (1) 1920x1080-SGRBG10_CSI2P\n",
      "[2:06:04.678204579] [13268] \u001b[1;32m INFO \u001b[1;37mRPI \u001b[1;34mvc4.cpp:565 \u001b[0mSensor: /base/soc/i2c0mux/i2c@1/ov5647@36 - Selected sensor format: 1920x1080-SGRBG10_1X10 - Selected unicam format: 1920x1080-pgAA\n"
     ]
    }
   ],
   "source": [
    "cam_p = Picamera.start((114, 64), 25, {}, logger_set=logger_set, name='test12')"
   ]
  },
  {
   "cell_type": "code",
   "execution_count": 16,
   "metadata": {},
   "outputs": [],
   "source": [
    "cam_p.terminate()"
   ]
  },
  {
   "cell_type": "code",
   "execution_count": 6,
   "metadata": {},
   "outputs": [
    {
     "name": "stderr",
     "output_type": "stream",
     "text": [
      "100%|██████████| 1/1 [00:00<00:00,  3.76it/s]\n"
     ]
    },
    {
     "data": {
      "text/plain": [
       "{}"
      ]
     },
     "execution_count": 6,
     "metadata": {},
     "output_type": "execute_result"
    }
   ],
   "source": [
    "logger_set.export_to_parquet()"
   ]
  },
  {
   "cell_type": "code",
   "execution_count": 6,
   "metadata": {},
   "outputs": [],
   "source": [
    "tmp = logger_set.get_all_logger()[0]"
   ]
  },
  {
   "cell_type": "code",
   "execution_count": 63,
   "metadata": {},
   "outputs": [],
   "source": [
    "data = tmp.load()"
   ]
  },
  {
   "cell_type": "code",
   "execution_count": 74,
   "metadata": {},
   "outputs": [],
   "source": [
    "df = tmp.load_as_df()"
   ]
  },
  {
   "cell_type": "code",
   "execution_count": 77,
   "metadata": {},
   "outputs": [],
   "source": [
    "df.to_parquet('data.parquet')"
   ]
  },
  {
   "cell_type": "code",
   "execution_count": 78,
   "metadata": {},
   "outputs": [],
   "source": [
    "df_loaded = pd.read_parquet('data.parquet')"
   ]
  },
  {
   "cell_type": "code",
   "execution_count": 79,
   "metadata": {},
   "outputs": [
    {
     "data": {
      "text/html": [
       "<div>\n",
       "<style scoped>\n",
       "    .dataframe tbody tr th:only-of-type {\n",
       "        vertical-align: middle;\n",
       "    }\n",
       "\n",
       "    .dataframe tbody tr th {\n",
       "        vertical-align: top;\n",
       "    }\n",
       "\n",
       "    .dataframe thead th {\n",
       "        text-align: right;\n",
       "    }\n",
       "</style>\n",
       "<table border=\"1\" class=\"dataframe\">\n",
       "  <thead>\n",
       "    <tr style=\"text-align: right;\">\n",
       "      <th>key</th>\n",
       "      <th>AhhhhhDetector</th>\n",
       "      <th>AhhhhhWheelController</th>\n",
       "      <th>balance</th>\n",
       "      <th>basefreq</th>\n",
       "      <th>latest_sxx</th>\n",
       "      <th>median_pitch</th>\n",
       "      <th>pitch</th>\n",
       "      <th>pitch_power</th>\n",
       "      <th>speed_or_invalid</th>\n",
       "    </tr>\n",
       "    <tr>\n",
       "      <th>idx</th>\n",
       "      <th></th>\n",
       "      <th></th>\n",
       "      <th></th>\n",
       "      <th></th>\n",
       "      <th></th>\n",
       "      <th></th>\n",
       "      <th></th>\n",
       "      <th></th>\n",
       "      <th></th>\n",
       "    </tr>\n",
       "  </thead>\n",
       "  <tbody>\n",
       "    <tr>\n",
       "      <th>1</th>\n",
       "      <td>2024-02-24 22:20:50.012290</td>\n",
       "      <td>2024-02-24 22:20:50.015540</td>\n",
       "      <td>0.292740</td>\n",
       "      <td>2666.666667</td>\n",
       "      <td>[-inf, -inf, -inf, -inf, -inf, -inf, -inf, -in...</td>\n",
       "      <td>137.095842</td>\n",
       "      <td>137.095842</td>\n",
       "      <td>NaN</td>\n",
       "      <td>0.0</td>\n",
       "    </tr>\n",
       "    <tr>\n",
       "      <th>2</th>\n",
       "      <td>2024-02-24 22:20:50.031514</td>\n",
       "      <td>2024-02-24 22:20:50.032497</td>\n",
       "      <td>0.403040</td>\n",
       "      <td>98.765432</td>\n",
       "      <td>[24.02644370069683, 23.975647587074846, 23.820...</td>\n",
       "      <td>181.216092</td>\n",
       "      <td>225.336341</td>\n",
       "      <td>39167.132280</td>\n",
       "      <td>0.0</td>\n",
       "    </tr>\n",
       "    <tr>\n",
       "      <th>3</th>\n",
       "      <td>2024-02-24 22:20:50.095978</td>\n",
       "      <td>2024-02-24 22:20:50.097486</td>\n",
       "      <td>0.292740</td>\n",
       "      <td>258.064516</td>\n",
       "      <td>[25.46121177825205, 25.129861772779567, 23.933...</td>\n",
       "      <td>137.095842</td>\n",
       "      <td>4.171671</td>\n",
       "      <td>405418.776525</td>\n",
       "      <td>0.0</td>\n",
       "    </tr>\n",
       "    <tr>\n",
       "      <th>4</th>\n",
       "      <td>2024-02-24 22:20:50.160765</td>\n",
       "      <td>2024-02-24 22:20:50.161851</td>\n",
       "      <td>0.435568</td>\n",
       "      <td>93.023256</td>\n",
       "      <td>[26.377028695693024, 25.368752229628825, 21.04...</td>\n",
       "      <td>194.227031</td>\n",
       "      <td>194.227031</td>\n",
       "      <td>115122.692343</td>\n",
       "      <td>0.0</td>\n",
       "    </tr>\n",
       "    <tr>\n",
       "      <th>5</th>\n",
       "      <td>2024-02-24 22:20:50.165562</td>\n",
       "      <td>2024-02-24 22:20:50.167135</td>\n",
       "      <td>0.800000</td>\n",
       "      <td>275.862069</td>\n",
       "      <td>[27.024186669612714, 24.70830698240676, 24.182...</td>\n",
       "      <td>38.809184</td>\n",
       "      <td>38.809184</td>\n",
       "      <td>196477.148239</td>\n",
       "      <td>0.0</td>\n",
       "    </tr>\n",
       "    <tr>\n",
       "      <th>...</th>\n",
       "      <td>...</td>\n",
       "      <td>...</td>\n",
       "      <td>...</td>\n",
       "      <td>...</td>\n",
       "      <td>...</td>\n",
       "      <td>...</td>\n",
       "      <td>...</td>\n",
       "      <td>...</td>\n",
       "      <td>...</td>\n",
       "    </tr>\n",
       "    <tr>\n",
       "      <th>4748</th>\n",
       "      <td>2024-02-24 22:26:25.015593</td>\n",
       "      <td>2024-02-24 22:26:25.016539</td>\n",
       "      <td>0.684433</td>\n",
       "      <td>112.676056</td>\n",
       "      <td>[27.627798521042997, 17.00999544049359, 19.437...</td>\n",
       "      <td>293.773379</td>\n",
       "      <td>293.773379</td>\n",
       "      <td>27870.830710</td>\n",
       "      <td>0.0</td>\n",
       "    </tr>\n",
       "    <tr>\n",
       "      <th>4749</th>\n",
       "      <td>2024-02-24 22:26:25.081477</td>\n",
       "      <td>2024-02-24 22:26:25.082375</td>\n",
       "      <td>0.684433</td>\n",
       "      <td>2666.666667</td>\n",
       "      <td>[27.70662399038205, 20.831132078802394, 21.054...</td>\n",
       "      <td>293.773379</td>\n",
       "      <td>137.095842</td>\n",
       "      <td>0.000000</td>\n",
       "      <td>0.0</td>\n",
       "    </tr>\n",
       "    <tr>\n",
       "      <th>4750</th>\n",
       "      <td>2024-02-24 22:26:25.145242</td>\n",
       "      <td>2024-02-24 22:26:25.146146</td>\n",
       "      <td>0.292740</td>\n",
       "      <td>2666.666667</td>\n",
       "      <td>[27.640918585504387, 13.897895598337326, 17.49...</td>\n",
       "      <td>137.095842</td>\n",
       "      <td>137.095842</td>\n",
       "      <td>0.000000</td>\n",
       "      <td>0.0</td>\n",
       "    </tr>\n",
       "    <tr>\n",
       "      <th>4751</th>\n",
       "      <td>2024-02-24 22:26:25.149075</td>\n",
       "      <td>2024-02-24 22:26:25.149973</td>\n",
       "      <td>0.292740</td>\n",
       "      <td>2666.666667</td>\n",
       "      <td>[27.612973935108993, 18.490895892915734, 17.87...</td>\n",
       "      <td>137.095842</td>\n",
       "      <td>137.095842</td>\n",
       "      <td>0.000000</td>\n",
       "      <td>0.0</td>\n",
       "    </tr>\n",
       "    <tr>\n",
       "      <th>4752</th>\n",
       "      <td>2024-02-24 22:26:25.208689</td>\n",
       "      <td>NaT</td>\n",
       "      <td>NaN</td>\n",
       "      <td>NaN</td>\n",
       "      <td>None</td>\n",
       "      <td>NaN</td>\n",
       "      <td>NaN</td>\n",
       "      <td>NaN</td>\n",
       "      <td>NaN</td>\n",
       "    </tr>\n",
       "  </tbody>\n",
       "</table>\n",
       "<p>4752 rows × 9 columns</p>\n",
       "</div>"
      ],
      "text/plain": [
       "key              AhhhhhDetector      AhhhhhWheelController   balance  \\\n",
       "idx                                                                    \n",
       "1    2024-02-24 22:20:50.012290 2024-02-24 22:20:50.015540  0.292740   \n",
       "2    2024-02-24 22:20:50.031514 2024-02-24 22:20:50.032497  0.403040   \n",
       "3    2024-02-24 22:20:50.095978 2024-02-24 22:20:50.097486  0.292740   \n",
       "4    2024-02-24 22:20:50.160765 2024-02-24 22:20:50.161851  0.435568   \n",
       "5    2024-02-24 22:20:50.165562 2024-02-24 22:20:50.167135  0.800000   \n",
       "...                         ...                        ...       ...   \n",
       "4748 2024-02-24 22:26:25.015593 2024-02-24 22:26:25.016539  0.684433   \n",
       "4749 2024-02-24 22:26:25.081477 2024-02-24 22:26:25.082375  0.684433   \n",
       "4750 2024-02-24 22:26:25.145242 2024-02-24 22:26:25.146146  0.292740   \n",
       "4751 2024-02-24 22:26:25.149075 2024-02-24 22:26:25.149973  0.292740   \n",
       "4752 2024-02-24 22:26:25.208689                        NaT       NaN   \n",
       "\n",
       "key      basefreq                                         latest_sxx  \\\n",
       "idx                                                                    \n",
       "1     2666.666667  [-inf, -inf, -inf, -inf, -inf, -inf, -inf, -in...   \n",
       "2       98.765432  [24.02644370069683, 23.975647587074846, 23.820...   \n",
       "3      258.064516  [25.46121177825205, 25.129861772779567, 23.933...   \n",
       "4       93.023256  [26.377028695693024, 25.368752229628825, 21.04...   \n",
       "5      275.862069  [27.024186669612714, 24.70830698240676, 24.182...   \n",
       "...           ...                                                ...   \n",
       "4748   112.676056  [27.627798521042997, 17.00999544049359, 19.437...   \n",
       "4749  2666.666667  [27.70662399038205, 20.831132078802394, 21.054...   \n",
       "4750  2666.666667  [27.640918585504387, 13.897895598337326, 17.49...   \n",
       "4751  2666.666667  [27.612973935108993, 18.490895892915734, 17.87...   \n",
       "4752          NaN                                               None   \n",
       "\n",
       "key   median_pitch       pitch    pitch_power  speed_or_invalid  \n",
       "idx                                                              \n",
       "1       137.095842  137.095842            NaN               0.0  \n",
       "2       181.216092  225.336341   39167.132280               0.0  \n",
       "3       137.095842    4.171671  405418.776525               0.0  \n",
       "4       194.227031  194.227031  115122.692343               0.0  \n",
       "5        38.809184   38.809184  196477.148239               0.0  \n",
       "...            ...         ...            ...               ...  \n",
       "4748    293.773379  293.773379   27870.830710               0.0  \n",
       "4749    293.773379  137.095842       0.000000               0.0  \n",
       "4750    137.095842  137.095842       0.000000               0.0  \n",
       "4751    137.095842  137.095842       0.000000               0.0  \n",
       "4752           NaN         NaN            NaN               NaN  \n",
       "\n",
       "[4752 rows x 9 columns]"
      ]
     },
     "execution_count": 79,
     "metadata": {},
     "output_type": "execute_result"
    }
   ],
   "source": [
    "df_loaded"
   ]
  },
  {
   "cell_type": "code",
   "execution_count": 50,
   "metadata": {},
   "outputs": [],
   "source": [
    "from pathlib import Path\n",
    "class NormaliseRecord:\n",
    "    type2normaliser = {\n",
    "        np.ndarray: lambda x: x.tolist(), \n",
    "        datetime.datetime: str\n",
    "    }\n",
    "\n",
    "    def __init__(self, records:List, dir_path:Union[str, Path], name:str):\n",
    "        # meant to be shared with other records\n",
    "        dir_path = Path(dir_path)\n",
    "        dir_path.mkdir(exist_ok=True)\n",
    "\n",
    "        self.records = records\n",
    "        self.dir_path = dir_path\n",
    "        self.name = name\n",
    "    \n",
    "    def transform(self, key:str, func:Callable):\n",
    "        for r in self.records:\n",
    "            if r['key'] == key:\n",
    "                r['value'] = func(r['value'])\n",
    "\n",
    "    def datetime_to_str(self, key):\n",
    "        self.transform(key, str)\n",
    "\n",
    "    def numpy_to_list(self, key):\n",
    "        self.transform(key, lambda v : v.tolist())\n",
    "\n",
    "    def auto(self):\n",
    "        for r in self.records: \n",
    "            value_type = type(r['value'])\n",
    "            if value_type in self.type2normaliser:\n",
    "                r['value'] = self.type2normaliser[value_type](r['value'])\n",
    "\n",
    "    def save_to_json(self):\n",
    "        with open(self.dir_path/f'{self.name}.json', 'w') as fp:\n",
    "            json.dump(fp=fp, obj=self.records)\n",
    "    \n",
    "    def save_to_json_zipped(self):\n",
    "\n",
    "        with gzip.open('data.json.gz', 'wt', encoding='UTF-8') as zipfile:\n",
    "            json.dump(self.records, zipfile)\n",
    "\n"
   ]
  },
  {
   "cell_type": "code",
   "execution_count": 33,
   "metadata": {},
   "outputs": [],
   "source": [
    "import gzip"
   ]
  },
  {
   "cell_type": "code",
   "execution_count": 52,
   "metadata": {},
   "outputs": [],
   "source": [
    "data = NormaliseRecord(data, 'temp', 'test')"
   ]
  },
  {
   "cell_type": "code",
   "execution_count": 45,
   "metadata": {},
   "outputs": [],
   "source": [
    "data.transform('latest_sxx', str)"
   ]
  },
  {
   "cell_type": "code",
   "execution_count": 54,
   "metadata": {},
   "outputs": [],
   "source": [
    "data.auto()"
   ]
  },
  {
   "cell_type": "code",
   "execution_count": 66,
   "metadata": {},
   "outputs": [],
   "source": [
    "def encoder(obj):\n",
    "    if isinstance(obj, datetime.datetime):\n",
    "        return {'__encoded_from': 'datetime.datetime', 'json-compatible': obj.strftime(\"%Y%m%dT%H:%M:%S.%f\")}\n",
    "\n",
    "    elif isinstance(obj, np.ndarray):\n",
    "        return {'__encoded_from': 'np.ndarray', 'json-compatible': obj.tolist()}\n",
    "    \n",
    "    else:\n",
    "        return obj\n",
    "\n",
    "def decoder(obj):\n",
    "\n",
    "    if not '__encoded_from' in obj:\n",
    "        return obj\n",
    "\n",
    "    if obj['__encoded_from'] == 'datetime.datetime':\n",
    "        return datetime.datetime.strptime(obj[\"json-compatible\"], \"%Y%m%dT%H:%M:%S.%f\")\n",
    "\n",
    "    elif obj['__encoded_from'] == 'np.ndarray':\n",
    "        return np.array(obj[\"json-compatible\"])\n",
    "\n",
    "    else:\n",
    "        raise ValueError('unknown type')\n",
    "\n",
    "\n",
    "def save_to_msgpack(data, path, encoder=encoder):\n",
    "    packed_data = msgpack.packb(data, default = encoder)\n",
    "    with open(path, 'wb') as file:\n",
    "        file.write(packed_data)\n",
    "\n",
    "def load_from_msgpack(path, decoder=decoder):\n",
    "\n",
    "    with open(path, 'rb') as file:\n",
    "        byte_data = file.read()\n",
    "\n",
    "    # Deserialize the MessagePack byte string back to a Python object\n",
    "    return msgpack.unpackb(byte_data, object_hook=decoder)\n",
    "\n"
   ]
  },
  {
   "cell_type": "code",
   "execution_count": 67,
   "metadata": {},
   "outputs": [],
   "source": [
    "import msgpack\n",
    "\n",
    "# Your dictionary to serialize\n",
    "\n",
    "# Serialize the dictionary to a MessagePack byte string\n",
    "packed_data = msgpack.packb(data, default= encoder)\n",
    " \n",
    "# If you want to save this to a file\n",
    "with open('data.msgpack', 'wb') as file:\n",
    "    file.write(packed_data)"
   ]
  },
  {
   "cell_type": "code",
   "execution_count": 71,
   "metadata": {},
   "outputs": [],
   "source": [
    "with open('data.msgpack', 'rb') as file:\n",
    "    byte_data = file.read()\n",
    "\n",
    "# Deserialize the MessagePack byte string back to a Python object\n",
    "data_loaded = msgpack.unpackb(byte_data, object_hook=decoder)"
   ]
  },
  {
   "cell_type": "code",
   "execution_count": 72,
   "metadata": {},
   "outputs": [
    {
     "data": {
      "text/plain": [
       "array([-inf, -inf, -inf, ..., -inf, -inf, -inf])"
      ]
     },
     "execution_count": 72,
     "metadata": {},
     "output_type": "execute_result"
    }
   ],
   "source": [
    "data_loaded[1]['value']"
   ]
  },
  {
   "cell_type": "code",
   "execution_count": 57,
   "metadata": {},
   "outputs": [
    {
     "data": {
      "text/plain": [
       "77.418822"
      ]
     },
     "execution_count": 57,
     "metadata": {},
     "output_type": "execute_result"
    }
   ],
   "source": [
    "sum([ 7901267,\n",
    "10608854,\n",
    " 9793782,\n",
    " 9826225,\n",
    " 9826275,\n",
    " 9825125,\n",
    " 9809879,\n",
    " 9827415,]\n",
    ")/1e6"
   ]
  },
  {
   "cell_type": "code",
   "execution_count": 41,
   "metadata": {},
   "outputs": [
    {
     "ename": "KeyboardInterrupt",
     "evalue": "",
     "output_type": "error",
     "traceback": [
      "\u001b[0;31m---------------------------------------------------------------------------\u001b[0m",
      "\u001b[0;31mKeyboardInterrupt\u001b[0m                         Traceback (most recent call last)",
      "\u001b[1;32m/home/kawa/projects/car1/src/camera_data.ipynb Cell 10\u001b[0m line \u001b[0;36m1\n\u001b[0;32m----> <a href='vscode-notebook-cell://127.0.0.1:8080/home/kawa/projects/car1/src/camera_data.ipynb#X33sdnNjb2RlLXJlbW90ZQ%3D%3D?line=0'>1</a>\u001b[0m data\u001b[39m.\u001b[39;49msave_to_json_zipped()\n",
      "\u001b[1;32m/home/kawa/projects/car1/src/camera_data.ipynb Cell 10\u001b[0m line \u001b[0;36m4\n\u001b[1;32m     <a href='vscode-notebook-cell://127.0.0.1:8080/home/kawa/projects/car1/src/camera_data.ipynb#X33sdnNjb2RlLXJlbW90ZQ%3D%3D?line=37'>38</a>\u001b[0m \u001b[39mdef\u001b[39;00m \u001b[39msave_to_json_zipped\u001b[39m(\u001b[39mself\u001b[39m):\n\u001b[1;32m     <a href='vscode-notebook-cell://127.0.0.1:8080/home/kawa/projects/car1/src/camera_data.ipynb#X33sdnNjb2RlLXJlbW90ZQ%3D%3D?line=39'>40</a>\u001b[0m     \u001b[39mwith\u001b[39;00m gzip\u001b[39m.\u001b[39mopen(\u001b[39m'\u001b[39m\u001b[39mdata.json.gz\u001b[39m\u001b[39m'\u001b[39m, \u001b[39m'\u001b[39m\u001b[39mwt\u001b[39m\u001b[39m'\u001b[39m, encoding\u001b[39m=\u001b[39m\u001b[39m'\u001b[39m\u001b[39mUTF-8\u001b[39m\u001b[39m'\u001b[39m) \u001b[39mas\u001b[39;00m zipfile:\n\u001b[0;32m---> <a href='vscode-notebook-cell://127.0.0.1:8080/home/kawa/projects/car1/src/camera_data.ipynb#X33sdnNjb2RlLXJlbW90ZQ%3D%3D?line=40'>41</a>\u001b[0m         json\u001b[39m.\u001b[39;49mdump(\u001b[39mself\u001b[39;49m\u001b[39m.\u001b[39;49mrecords, zipfile)\n",
      "File \u001b[0;32m/usr/lib/python3.9/json/__init__.py:180\u001b[0m, in \u001b[0;36mdump\u001b[0;34m(obj, fp, skipkeys, ensure_ascii, check_circular, allow_nan, cls, indent, separators, default, sort_keys, **kw)\u001b[0m\n\u001b[1;32m    177\u001b[0m \u001b[39m# could accelerate with writelines in some versions of Python, at\u001b[39;00m\n\u001b[1;32m    178\u001b[0m \u001b[39m# a debuggability cost\u001b[39;00m\n\u001b[1;32m    179\u001b[0m \u001b[39mfor\u001b[39;00m chunk \u001b[39min\u001b[39;00m iterable:\n\u001b[0;32m--> 180\u001b[0m     fp\u001b[39m.\u001b[39;49mwrite(chunk)\n",
      "File \u001b[0;32m/usr/lib/python3.9/gzip.py:288\u001b[0m, in \u001b[0;36mGzipFile.write\u001b[0;34m(self, data)\u001b[0m\n\u001b[1;32m    285\u001b[0m     length \u001b[39m=\u001b[39m data\u001b[39m.\u001b[39mnbytes\n\u001b[1;32m    287\u001b[0m \u001b[39mif\u001b[39;00m length \u001b[39m>\u001b[39m \u001b[39m0\u001b[39m:\n\u001b[0;32m--> 288\u001b[0m     \u001b[39mself\u001b[39m\u001b[39m.\u001b[39mfileobj\u001b[39m.\u001b[39mwrite(\u001b[39mself\u001b[39;49m\u001b[39m.\u001b[39;49mcompress\u001b[39m.\u001b[39;49mcompress(data))\n\u001b[1;32m    289\u001b[0m     \u001b[39mself\u001b[39m\u001b[39m.\u001b[39msize \u001b[39m+\u001b[39m\u001b[39m=\u001b[39m length\n\u001b[1;32m    290\u001b[0m     \u001b[39mself\u001b[39m\u001b[39m.\u001b[39mcrc \u001b[39m=\u001b[39m zlib\u001b[39m.\u001b[39mcrc32(data, \u001b[39mself\u001b[39m\u001b[39m.\u001b[39mcrc)\n",
      "\u001b[0;31mKeyboardInterrupt\u001b[0m: "
     ]
    }
   ],
   "source": [
    "data.save_to_json_zipped()"
   ]
  },
  {
   "cell_type": "code",
   "execution_count": 46,
   "metadata": {},
   "outputs": [],
   "source": [
    "s  = json.dumps(data.records)"
   ]
  },
  {
   "cell_type": "code",
   "execution_count": 32,
   "metadata": {},
   "outputs": [],
   "source": [
    "import json\n",
    "data.save_to_json()"
   ]
  },
  {
   "cell_type": "code",
   "execution_count": 1,
   "metadata": {},
   "outputs": [
    {
     "name": "stdout",
     "output_type": "stream",
     "text": [
      "\u001b[0;31mSignature:\u001b[0m \u001b[0misinstance\u001b[0m\u001b[0;34m(\u001b[0m\u001b[0mobj\u001b[0m\u001b[0;34m,\u001b[0m \u001b[0mclass_or_tuple\u001b[0m\u001b[0;34m,\u001b[0m \u001b[0;34m/\u001b[0m\u001b[0;34m)\u001b[0m\u001b[0;34m\u001b[0m\u001b[0;34m\u001b[0m\u001b[0m\n",
      "\u001b[0;31mDocstring:\u001b[0m\n",
      "Return whether an object is an instance of a class or of a subclass thereof.\n",
      "\n",
      "A tuple, as in ``isinstance(x, (A, B, ...))``, may be given as the target to\n",
      "check against. This is equivalent to ``isinstance(x, A) or isinstance(x, B)\n",
      "or ...`` etc.\n",
      "\u001b[0;31mType:\u001b[0m      builtin_function_or_method"
     ]
    }
   ],
   "source": [
    "isinstance?"
   ]
  },
  {
   "cell_type": "code",
   "execution_count": 15,
   "metadata": {},
   "outputs": [
    {
     "data": {
      "text/plain": [
       "'2024-02-23 16:26:33.818222'"
      ]
     },
     "execution_count": 15,
     "metadata": {},
     "output_type": "execute_result"
    }
   ],
   "source": [
    "str(datetime.datetime.now())"
   ]
  },
  {
   "cell_type": "code",
   "execution_count": 18,
   "metadata": {},
   "outputs": [],
   "source": [
    "arr = data[1]['value']"
   ]
  },
  {
   "cell_type": "code",
   "execution_count": null,
   "metadata": {},
   "outputs": [],
   "source": [
    "np.savez(arr)"
   ]
  },
  {
   "cell_type": "code",
   "execution_count": 19,
   "metadata": {},
   "outputs": [
    {
     "name": "stdout",
     "output_type": "stream",
     "text": [
      "\u001b[0;31mSignature:\u001b[0m       \u001b[0mnp\u001b[0m\u001b[0;34m.\u001b[0m\u001b[0msavez\u001b[0m\u001b[0;34m(\u001b[0m\u001b[0mfile\u001b[0m\u001b[0;34m,\u001b[0m \u001b[0;34m*\u001b[0m\u001b[0margs\u001b[0m\u001b[0;34m,\u001b[0m \u001b[0;34m**\u001b[0m\u001b[0mkwds\u001b[0m\u001b[0;34m)\u001b[0m\u001b[0;34m\u001b[0m\u001b[0;34m\u001b[0m\u001b[0m\n",
      "\u001b[0;31mCall signature:\u001b[0m  \u001b[0mnp\u001b[0m\u001b[0;34m.\u001b[0m\u001b[0msavez\u001b[0m\u001b[0;34m(\u001b[0m\u001b[0;34m*\u001b[0m\u001b[0margs\u001b[0m\u001b[0;34m,\u001b[0m \u001b[0;34m**\u001b[0m\u001b[0mkwargs\u001b[0m\u001b[0;34m)\u001b[0m\u001b[0;34m\u001b[0m\u001b[0;34m\u001b[0m\u001b[0m\n",
      "\u001b[0;31mType:\u001b[0m            _ArrayFunctionDispatcher\n",
      "\u001b[0;31mString form:\u001b[0m     <function savez at 0x7f845ae040>\n",
      "\u001b[0;31mFile:\u001b[0m            ~/projects/car1/.venv/lib/python3.9/site-packages/numpy/lib/npyio.py\n",
      "\u001b[0;31mDocstring:\u001b[0m      \n",
      "Save several arrays into a single file in uncompressed ``.npz`` format.\n",
      "\n",
      "Provide arrays as keyword arguments to store them under the\n",
      "corresponding name in the output file: ``savez(fn, x=x, y=y)``.\n",
      "\n",
      "If arrays are specified as positional arguments, i.e., ``savez(fn,\n",
      "x, y)``, their names will be `arr_0`, `arr_1`, etc.\n",
      "\n",
      "Parameters\n",
      "----------\n",
      "file : str or file\n",
      "    Either the filename (string) or an open file (file-like object)\n",
      "    where the data will be saved. If file is a string or a Path, the\n",
      "    ``.npz`` extension will be appended to the filename if it is not\n",
      "    already there.\n",
      "args : Arguments, optional\n",
      "    Arrays to save to the file. Please use keyword arguments (see\n",
      "    `kwds` below) to assign names to arrays.  Arrays specified as\n",
      "    args will be named \"arr_0\", \"arr_1\", and so on.\n",
      "kwds : Keyword arguments, optional\n",
      "    Arrays to save to the file. Each array will be saved to the\n",
      "    output file with its corresponding keyword name.\n",
      "\n",
      "Returns\n",
      "-------\n",
      "None\n",
      "\n",
      "See Also\n",
      "--------\n",
      "save : Save a single array to a binary file in NumPy format.\n",
      "savetxt : Save an array to a file as plain text.\n",
      "savez_compressed : Save several arrays into a compressed ``.npz`` archive\n",
      "\n",
      "Notes\n",
      "-----\n",
      "The ``.npz`` file format is a zipped archive of files named after the\n",
      "variables they contain.  The archive is not compressed and each file\n",
      "in the archive contains one variable in ``.npy`` format. For a\n",
      "description of the ``.npy`` format, see :py:mod:`numpy.lib.format`.\n",
      "\n",
      "When opening the saved ``.npz`` file with `load` a `NpzFile` object is\n",
      "returned. This is a dictionary-like object which can be queried for\n",
      "its list of arrays (with the ``.files`` attribute), and for the arrays\n",
      "themselves.\n",
      "\n",
      "Keys passed in `kwds` are used as filenames inside the ZIP archive.\n",
      "Therefore, keys should be valid filenames; e.g., avoid keys that begin with\n",
      "``/`` or contain ``.``.\n",
      "\n",
      "When naming variables with keyword arguments, it is not possible to name a\n",
      "variable ``file``, as this would cause the ``file`` argument to be defined\n",
      "twice in the call to ``savez``.\n",
      "\n",
      "Examples\n",
      "--------\n",
      ">>> from tempfile import TemporaryFile\n",
      ">>> outfile = TemporaryFile()\n",
      ">>> x = np.arange(10)\n",
      ">>> y = np.sin(x)\n",
      "\n",
      "Using `savez` with \\*args, the arrays are saved with default names.\n",
      "\n",
      ">>> np.savez(outfile, x, y)\n",
      ">>> _ = outfile.seek(0) # Only needed here to simulate closing & reopening file\n",
      ">>> npzfile = np.load(outfile)\n",
      ">>> npzfile.files\n",
      "['arr_0', 'arr_1']\n",
      ">>> npzfile['arr_0']\n",
      "array([0, 1, 2, 3, 4, 5, 6, 7, 8, 9])\n",
      "\n",
      "Using `savez` with \\**kwds, the arrays are saved with the keyword names.\n",
      "\n",
      ">>> outfile = TemporaryFile()\n",
      ">>> np.savez(outfile, x=x, y=y)\n",
      ">>> _ = outfile.seek(0)\n",
      ">>> npzfile = np.load(outfile)\n",
      ">>> sorted(npzfile.files)\n",
      "['x', 'y']\n",
      ">>> npzfile['x']\n",
      "array([0, 1, 2, 3, 4, 5, 6, 7, 8, 9])\n",
      "\u001b[0;31mClass docstring:\u001b[0m\n",
      "Class to wrap functions with checks for __array_function__ overrides.\n",
      "\n",
      "All arguments are required, and can only be passed by position.\n",
      "\n",
      "Parameters\n",
      "----------\n",
      "dispatcher : function or None\n",
      "    The dispatcher function that returns a single sequence-like object\n",
      "    of all arguments relevant.  It must have the same signature (except\n",
      "    the default values) as the actual implementation.\n",
      "    If ``None``, this is a ``like=`` dispatcher and the\n",
      "    ``_ArrayFunctionDispatcher`` must be called with ``like`` as the\n",
      "    first (additional and positional) argument.\n",
      "implementation : function\n",
      "    Function that implements the operation on NumPy arrays without\n",
      "    overrides.  Arguments passed calling the ``_ArrayFunctionDispatcher``\n",
      "    will be forwarded to this (and the ``dispatcher``) as if using\n",
      "    ``*args, **kwargs``.\n",
      "\n",
      "Attributes\n",
      "----------\n",
      "_implementation : function\n",
      "    The original implementation passed in."
     ]
    }
   ],
   "source": [
    "np.savez?"
   ]
  },
  {
   "cell_type": "code",
   "execution_count": 22,
   "metadata": {},
   "outputs": [],
   "source": [
    "\n",
    "np.save('test', arr, allow_pickle=False)"
   ]
  },
  {
   "cell_type": "code",
   "execution_count": 25,
   "metadata": {},
   "outputs": [
    {
     "name": "stdout",
     "output_type": "stream",
     "text": [
      "5.815982090000034\n"
     ]
    },
    {
     "data": {
      "text/plain": [
       "5.815982090000034"
      ]
     },
     "execution_count": 25,
     "metadata": {},
     "output_type": "execute_result"
    }
   ],
   "source": [
    "def time_func(func, n):\n",
    "    start_time = time.monotonic()\n",
    "    for _ in range(n):\n",
    "        func() \n",
    "    end_time = time.monotonic() - start_time\n",
    "    return end_time\n",
    "\n",
    "time_func(lambda: np.save('test', arr, allow_pickle=False), 100)"
   ]
  },
  {
   "cell_type": "code",
   "execution_count": 40,
   "metadata": {},
   "outputs": [],
   "source": [
    "from PIL import Image\n",
    "\n",
    "def img_to_jpg():\n",
    "    img = Image.fromarray(arr)\n",
    "    #img.save('test.png')\n",
    "    img.save('test.jpg', 'JPEG')\n",
    "\n",
    "def img_to_png():\n",
    "    img = Image.fromarray(arr)\n",
    "    img.save('test.png')\n",
    "\n",
    "def img_to_bmp():\n",
    "    img = Image.fromarray(arr)\n",
    "    img.save('test.bmp', 'BMP')\n"
   ]
  },
  {
   "cell_type": "code",
   "execution_count": 29,
   "metadata": {},
   "outputs": [],
   "source": [
    "img_to_png()"
   ]
  },
  {
   "cell_type": "code",
   "execution_count": 39,
   "metadata": {},
   "outputs": [
    {
     "data": {
      "text/plain": [
       "0.9113273349994415"
      ]
     },
     "execution_count": 39,
     "metadata": {},
     "output_type": "execute_result"
    }
   ],
   "source": [
    "def time_func(func, n):\n",
    "    start_time = time.monotonic()\n",
    "    for _ in range(n):\n",
    "        func() \n",
    "    end_time = time.monotonic() - start_time\n",
    "    return end_time\n",
    "\n",
    "time_func(lambda: np.save('test', arr, allow_pickle=False), 10)"
   ]
  },
  {
   "cell_type": "code",
   "execution_count": 42,
   "metadata": {},
   "outputs": [
    {
     "data": {
      "text/plain": [
       "0.06740459499997087"
      ]
     },
     "execution_count": 42,
     "metadata": {},
     "output_type": "execute_result"
    }
   ],
   "source": [
    "time_func(img_to_jpg, 10)"
   ]
  },
  {
   "cell_type": "code",
   "execution_count": null,
   "metadata": {},
   "outputs": [],
   "source": []
  }
 ],
 "metadata": {
  "kernelspec": {
   "display_name": ".venv",
   "language": "python",
   "name": "python3"
  },
  "language_info": {
   "codemirror_mode": {
    "name": "ipython",
    "version": 3
   },
   "file_extension": ".py",
   "mimetype": "text/x-python",
   "name": "python",
   "nbconvert_exporter": "python",
   "pygments_lexer": "ipython3",
   "version": "3.9.2"
  }
 },
 "nbformat": 4,
 "nbformat_minor": 2
}
