{
 "cells": [
  {
   "cell_type": "code",
   "execution_count": 1,
   "id": "497673ce-a8a5-465e-85a3-7463816dbfb7",
   "metadata": {},
   "outputs": [],
   "source": [
    "import cv2\n",
    "import numpy as np\n",
    "from typing import List, Dict, Literal, Union\n",
    "\n",
    "from data_collection import LoggerSet, Logger\n",
    "from multiprocessing import Pipe, Process, SimpleQueue, Queue\n",
    "from multiprocessing.connection import Connection\n",
    "\n",
    "import queue"
   ]
  },
  {
   "cell_type": "code",
   "execution_count": 2,
   "id": "5b721fb1-ac8b-4db7-9371-668c3ebe973a",
   "metadata": {},
   "outputs": [
    {
     "name": "stderr",
     "output_type": "stream",
     "text": [
      "Process Process-1:\n",
      "Traceback (most recent call last):\n",
      "  File \"/usr/lib/python3.9/multiprocessing/process.py\", line 315, in _bootstrap\n",
      "    self.run()\n",
      "  File \"/usr/lib/python3.9/multiprocessing/process.py\", line 108, in run\n",
      "    self._target(*self._args, **self._kwargs)\n",
      "  File \"/tmp/ipykernel_4241/804449451.py\", line 18, in main\n",
      "    img = component.step()\n",
      "  File \"/tmp/ipykernel_4241/804449451.py\", line 6, in step\n",
      "    ret, img = self.cap.read()\n",
      "KeyboardInterrupt\n"
     ]
    }
   ],
   "source": [
    "class Camera:\n",
    "    def __init__(self, camera_idx=0):\n",
    "        self.cap = cv2.VideoCapture(camera_idx)\n",
    "\n",
    "    def step(self) -> Union[None, np.array]:\n",
    "        ret, img = self.cap.read()\n",
    "\n",
    "        if ret:\n",
    "            return img\n",
    "        else:\n",
    "            return None\n",
    "    \n",
    "    def main(camera_idx, logger: Logger): \n",
    "\n",
    "        component = Camera(camera_idx)\n",
    "        \n",
    "        while True:\n",
    "            img = component.step()\n",
    "            \n",
    "            logger.increment_idx()\n",
    "            if not img is None:  \n",
    "                logger.log('camera', img)\n",
    "\n",
    "    \n",
    "    def start(camera_idx, logger_set: LoggerSet, **kwargs):\n",
    "\n",
    "        logger = logger_set.get_logger(**kwargs)\n",
    "        process = Process(target=Camera.main, args=(camera_idx, logger))\n",
    "        process.start()\n",
    "        return process\n",
    " \n",
    "p = Camera.start(0, LoggerSet('../log/temp', True), name='camera2', save_interval=5)\n"
   ]
  },
  {
   "cell_type": "code",
   "execution_count": 3,
   "id": "2067c325-8752-4a89-8a4c-f8668ffc1707",
   "metadata": {},
   "outputs": [],
   "source": [
    "loggers = LoggerSet('../log/temp', True).get_all_logger()"
   ]
  },
  {
   "cell_type": "code",
   "execution_count": 13,
   "id": "7a03d151-4876-4638-8905-f2cf09df2332",
   "metadata": {},
   "outputs": [],
   "source": [
    "data = loggers[1].load()"
   ]
  },
  {
   "cell_type": "code",
   "execution_count": 14,
   "id": "8bfa2d50-d1f6-4dd0-91af-0d32f00abb71",
   "metadata": {},
   "outputs": [
    {
     "data": {
      "text/plain": [
       "732877"
      ]
     },
     "execution_count": 14,
     "metadata": {},
     "output_type": "execute_result"
    }
   ],
   "source": [
    "len(data)"
   ]
  },
  {
   "cell_type": "code",
   "execution_count": 16,
   "id": "3642c0cd-dfa2-416a-b48b-6b4377908a80",
   "metadata": {},
   "outputs": [
    {
     "data": {
      "text/plain": [
       "407.1538888888889"
      ]
     },
     "execution_count": 16,
     "metadata": {},
     "output_type": "execute_result"
    }
   ],
   "source": [
    "(732877/30)/60"
   ]
  },
  {
   "cell_type": "code",
   "execution_count": null,
   "id": "91789422-674a-417e-843a-4037294a9965",
   "metadata": {},
   "outputs": [],
   "source": []
  }
 ],
 "metadata": {
  "kernelspec": {
   "display_name": "Python 3 (ipykernel)",
   "language": "python",
   "name": "python3"
  },
  "language_info": {
   "codemirror_mode": {
    "name": "ipython",
    "version": 3
   },
   "file_extension": ".py",
   "mimetype": "text/x-python",
   "name": "python",
   "nbconvert_exporter": "python",
   "pygments_lexer": "ipython3",
   "version": "3.9.2"
  }
 },
 "nbformat": 4,
 "nbformat_minor": 5
}
