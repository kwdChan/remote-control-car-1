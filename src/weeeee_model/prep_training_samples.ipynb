{
 "cells": [
  {
   "cell_type": "code",
   "execution_count": 6,
   "metadata": {},
   "outputs": [
    {
     "name": "stdout",
     "output_type": "stream",
     "text": [
      "The autoreload extension is already loaded. To reload it, use:\n",
      "  %reload_ext autoreload\n"
     ]
    }
   ],
   "source": [
    "# %load \n",
    "import torch as tch\n",
    "from torch import nn\n",
    "import torchaudio as ta\n",
    "import torchaudio.transforms as tatx\n",
    "import torchaudio.functional as tafn\n",
    "from pathlib import Path\n",
    "import plotly.express as px\n",
    "import pandas as pd\n",
    "import numpy as np\n",
    "from IPython.display import Audio\n",
    "\n",
    "from train_tools import find_lr, check_with_patient, UpdatingPlotlyLines, fit_step, evaluate\n",
    "from torch.optim import Adam\n",
    "from torch.nn import functional as nnfn\n",
    "\n",
    "device = tch.device(\"cuda\")\n",
    "\n",
    "%load_ext autoreload\n",
    "%autoreload 2 \n"
   ]
  },
  {
   "cell_type": "code",
   "execution_count": 2,
   "metadata": {},
   "outputs": [],
   "source": [
    "from prep_we_sample import CommonVoiceDataset, get_segment, get_middle_segment, get_random_segment, get_middle_segment_jitter, PositiveSampleSet, NegativeSampleSet, MergePosNegSet"
   ]
  },
  {
   "cell_type": "code",
   "execution_count": 3,
   "metadata": {},
   "outputs": [],
   "source": [
    "we_df = pd.read_csv('we_df.csv')\n",
    "we_seg_df = pd.read_csv('wee_seg_16000.csv', index_col=0)"
   ]
  },
  {
   "cell_type": "code",
   "execution_count": 4,
   "metadata": {},
   "outputs": [],
   "source": [
    "full_ds = CommonVoiceDataset('dataset/Common Voice Corpus 1/en/', 16000)\n",
    "full_ds.use_df(full_ds.get_df('validated'))\n",
    "\n",
    "we_ds = CommonVoiceDataset('dataset/Common Voice Corpus 1/en/', 16000)\n",
    "we_ds.use_df(we_df)"
   ]
  },
  {
   "cell_type": "code",
   "execution_count": 26,
   "metadata": {},
   "outputs": [
    {
     "data": {
      "text/plain": [
       "torch.Size([16, 2])"
      ]
     },
     "execution_count": 26,
     "metadata": {},
     "output_type": "execute_result"
    }
   ],
   "source": [
    "class Model(nn.Module):\n",
    "    def __init__(self):\n",
    "        super().__init__()\n",
    "        \n",
    "        self.conv = nn.Sequential(\n",
    "            nn.Conv1d(1, 16, 3), \n",
    "            nn.ReLU(), \n",
    "            nn.MaxPool1d(2), \n",
    "\n",
    "            nn.Conv1d(16, 16, 3), \n",
    "            nn.ReLU(), \n",
    "            nn.MaxPool1d(2), \n",
    "\n",
    "            nn.Conv1d(16, 16, 3), \n",
    "            nn.ReLU(), \n",
    "            nn.MaxPool1d(2), \n",
    "\n",
    "            nn.Conv1d(16, 16, 3), \n",
    "            nn.ReLU(), \n",
    "            nn.MaxPool1d(2), \n",
    "\n",
    "            nn.Conv1d(16, 16, 3), \n",
    "            nn.ReLU(), \n",
    "            nn.MaxPool1d(2), \n",
    "\n",
    "            nn.Conv1d(16, 16, 3), \n",
    "            nn.ReLU(), \n",
    "            nn.MaxPool1d(2), \n",
    "\n",
    "            nn.Conv1d(16, 16, 3), \n",
    "            nn.ReLU(), \n",
    "            nn.MaxPool1d(2), \n",
    "\n",
    "            #nn.Flatten(),\n",
    "            nn.Linear(48, 1),\n",
    "            nn.ReLU(), \n",
    "\n",
    "            #nn.ReLU(), \n",
    "            #nn.Linear(64, 1),\n",
    "            #nn.Sigmoid(),\n",
    "        )\n",
    "    \n",
    "    def forward(self, x):\n",
    "        return tch.squeeze(self.conv(x))\n",
    "\n",
    "m = Model()#.to('cuda')\n",
    "optimiser = Adam(m.parameters(), 0.001)\n",
    "m(get_middle_segment(we_ds, we_seg_df, 7, 400)[None, ...]).shape"
   ]
  },
  {
   "cell_type": "code",
   "execution_count": 8,
   "metadata": {},
   "outputs": [
    {
     "data": {
      "text/plain": [
       "54049"
      ]
     },
     "execution_count": 8,
     "metadata": {},
     "output_type": "execute_result"
    }
   ],
   "source": [
    "i = 0\n",
    "for k, v in m.state_dict().items():\n",
    "    i += np.prod(v.shape)\n",
    "i"
   ]
  },
  {
   "cell_type": "code",
   "execution_count": 9,
   "metadata": {},
   "outputs": [],
   "source": [
    "from torch.utils.data import DataLoader, Dataset, StackDataset\n"
   ]
  },
  {
   "cell_type": "code",
   "execution_count": 10,
   "metadata": {},
   "outputs": [],
   "source": [
    "neg = NegativeSampleSet(full_ds, 400)\n",
    "pos = PositiveSampleSet(we_ds, 400, we_seg_df, 0.5)\n",
    "ds2 = MergePosNegSet(pos, neg)\n",
    "dl = DataLoader(ds2, batch_size=64, shuffle=True)\n"
   ]
  },
  {
   "cell_type": "code",
   "execution_count": 139,
   "metadata": {},
   "outputs": [
    {
     "data": {
      "application/vnd.jupyter.widget-view+json": {
       "model_id": "9525040ef53f48aa91bd9fcd929fcf91",
       "version_major": 2,
       "version_minor": 0
      },
      "text/plain": [
       "FigureWidget({\n",
       "    'data': [{'name': 'train_loss', 'type': 'scatter', 'uid': 'f882d2d8-aee3-43af-ab09-0fef0a7f031e', 'x': [], 'y': []},\n",
       "             {'name': 'lr', 'type': 'scatter', 'uid': '373b06cc-fc07-423d-9f8f-4d6157b939e5', 'x': [], 'y': []}],\n",
       "    'layout': {'template': '...'}\n",
       "})"
      ]
     },
     "metadata": {},
     "output_type": "display_data"
    },
    {
     "data": {
      "application/vnd.jupyter.widget-view+json": {
       "model_id": "da541779ebc749dea77c9ad2362884fc",
       "version_major": 2,
       "version_minor": 0
      },
      "text/plain": [
       "FigureWidget({\n",
       "    'data': [{'name': 'train_loss', 'type': 'scatter', 'uid': 'f234bc99-5983-4ef9-a0d2-70c53649d051', 'x': [], 'y': []}],\n",
       "    'layout': {'template': '...'}\n",
       "})"
      ]
     },
     "metadata": {},
     "output_type": "display_data"
    }
   ],
   "source": [
    "find_lr(Model, dl, Adam, nnfn.binary_cross_entropy, starting_lr=1e-4)"
   ]
  },
  {
   "cell_type": "code",
   "execution_count": 11,
   "metadata": {},
   "outputs": [
    {
     "data": {
      "application/vnd.jupyter.widget-view+json": {
       "model_id": "c3ac6778a5a34008b2c0dfbcef8c4957",
       "version_major": 2,
       "version_minor": 0
      },
      "text/plain": [
       "FigureWidget({\n",
       "    'data': [{'name': 'train_loss', 'type': 'scatter', 'uid': '1d1b72b3-9ce0-4818-9027-75afd61e29cd', 'x': [], 'y': []},\n",
       "             {'name': 'acc', 'type': 'scatter', 'uid': 'ccb09a32-2ba7-4b93-8361-d8a246a8d918', 'x': [], 'y': []}],\n",
       "    'layout': {'template': '...'}\n",
       "})"
      ]
     },
     "metadata": {},
     "output_type": "display_data"
    },
    {
     "data": {
      "text/plain": [
       "<train_tools.UpdatingPlotlyLines at 0x75c127881750>"
      ]
     },
     "execution_count": 11,
     "metadata": {},
     "output_type": "execute_result"
    }
   ],
   "source": [
    "from torch import optim \n",
    "from train_tools import find_lr, check_with_patient, UpdatingPlotlyLines, fit_step, evaluate, evaluate_v2\n",
    "\n",
    "def fit(\n",
    "        model: nn.Module, \n",
    "        train_dataloader: DataLoader, \n",
    "        val_dataloader:DataLoader, \n",
    "        optimiser: optim.Optimizer, \n",
    "        loss_fn, \n",
    "        epochs: int, \n",
    "        silent=True\n",
    "    ):\n",
    "    \"\"\"\n",
    "    reference implementation \n",
    "    \"\"\"\n",
    "\n",
    "    fig = UpdatingPlotlyLines('epoch', ['train_loss', 'acc'])\n",
    "    fig.display()\n",
    "    oop = check_with_patient(10)\n",
    "    for epoch in range(epochs):\n",
    "        train_loss = fit_step(model, train_dataloader, optimiser, loss_fn, silent=silent)\n",
    "        y_pred, y = evaluate_v2(m, dl)\n",
    "\n",
    "        acc = tch.sum(y == (y_pred>0.5))/len(y)\n",
    "        \n",
    "\n",
    "        fig.append(epoch=epoch, train_loss=train_loss, acc=acc.cpu())\n",
    "\n",
    "        if oop(train_loss):\n",
    "            return fig\n",
    "\n",
    "    return fig \n",
    "\n",
    "m = Model().to('cuda')\n",
    "o = Adam(m.parameters(), lr=0.002,)\n",
    "\n",
    "fit(m, dl, dl, o, nnfn.binary_cross_entropy, 200 )\n",
    "\n"
   ]
  },
  {
   "cell_type": "code",
   "execution_count": 13,
   "metadata": {},
   "outputs": [
    {
     "data": {
      "application/vnd.jupyter.widget-view+json": {
       "model_id": "0ab24228f94146b896b50395dc828b2e",
       "version_major": 2,
       "version_minor": 0
      },
      "text/plain": [
       "FigureWidget({\n",
       "    'data': [{'name': 'train_loss', 'type': 'scatter', 'uid': '4681040b-8bb5-4a64-9a9f-5b939c864e20', 'x': [], 'y': []},\n",
       "             {'name': 'acc', 'type': 'scatter', 'uid': '964de9ca-69a8-467b-b9eb-d734f3d156e0', 'x': [], 'y': []}],\n",
       "    'layout': {'template': '...'}\n",
       "})"
      ]
     },
     "metadata": {},
     "output_type": "display_data"
    },
    {
     "data": {
      "text/plain": [
       "<train_tools.UpdatingPlotlyLines at 0x75c10de00c10>"
      ]
     },
     "execution_count": 13,
     "metadata": {},
     "output_type": "execute_result"
    }
   ],
   "source": [
    "fit(m, dl, dl, o, nnfn.binary_cross_entropy, 200 )"
   ]
  },
  {
   "cell_type": "code",
   "execution_count": null,
   "metadata": {},
   "outputs": [],
   "source": []
  },
  {
   "cell_type": "code",
   "execution_count": 14,
   "metadata": {},
   "outputs": [],
   "source": [
    "from train_tools import find_lr, check_with_patient, UpdatingPlotlyLines, fit_step, evaluate, evaluate_v2\n"
   ]
  },
  {
   "cell_type": "code",
   "execution_count": 118,
   "metadata": {},
   "outputs": [],
   "source": [
    "y_pred, y = evaluate_v2(m, dl)"
   ]
  },
  {
   "cell_type": "code",
   "execution_count": null,
   "metadata": {},
   "outputs": [],
   "source": []
  },
  {
   "cell_type": "code",
   "execution_count": 15,
   "metadata": {},
   "outputs": [],
   "source": [
    "def evaluate_v3(model: nn.Module, dataloader: DataLoader):\n",
    "    device = next(model.parameters()).device\n",
    "    model.eval()\n",
    "\n",
    "\n",
    "    fp_xs = []\n",
    "    fn_xs = []\n",
    "\n",
    "    fp_ys = []\n",
    "    fn_ys = []\n",
    "\n",
    "\n",
    "\n",
    "    with tch.no_grad():\n",
    "        for batch, (x, y) in enumerate(dataloader):\n",
    "            x, y = x.to(device), y.to(device)\n",
    "            out = model(x)\n",
    "            y_pred = out > 0.5\n",
    "\n",
    "            y = y.to(bool)\n",
    "\n",
    "            false_positive = y_pred & (~y)\n",
    "            false_negative = (~y_pred) & y\n",
    "\n",
    "            \n",
    "            fp_xs.append(x[false_positive])\n",
    "            fp_ys.append(out[false_positive])\n",
    "\n",
    "            fn_xs.append(x[false_negative])\n",
    "            fn_ys.append(out[false_negative])\n",
    "\n",
    "        \n",
    "    return tch.concat(fp_xs), tch.concat(fn_xs), tch.concat(fp_ys), tch.concat(fn_ys)\n",
    "fp, fn, fp_ys, fn_ys = evaluate_v3(m, dl)"
   ]
  },
  {
   "cell_type": "code",
   "execution_count": 16,
   "metadata": {},
   "outputs": [
    {
     "data": {
      "text/plain": [
       "143"
      ]
     },
     "execution_count": 16,
     "metadata": {},
     "output_type": "execute_result"
    }
   ],
   "source": [
    "len(fn)"
   ]
  },
  {
   "cell_type": "code",
   "execution_count": 17,
   "metadata": {},
   "outputs": [
    {
     "data": {
      "text/plain": [
       "206"
      ]
     },
     "execution_count": 17,
     "metadata": {},
     "output_type": "execute_result"
    }
   ],
   "source": [
    "len(fp)"
   ]
  },
  {
   "cell_type": "code",
   "execution_count": null,
   "metadata": {},
   "outputs": [],
   "source": []
  },
  {
   "cell_type": "code",
   "execution_count": 21,
   "metadata": {},
   "outputs": [
    {
     "data": {
      "text/html": [
       "\n",
       "                <audio  controls=\"controls\" >\n",
       "                    <source src=\"data:audio/wav;base64,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\" type=\"audio/wav\" />\n",
       "                    Your browser does not support the audio element.\n",
       "                </audio>\n",
       "              "
      ],
      "text/plain": [
       "<IPython.lib.display.Audio object>"
      ]
     },
     "execution_count": 21,
     "metadata": {},
     "output_type": "execute_result"
    }
   ],
   "source": [
    "Audio(fp[0].cpu(), rate=16000)"
   ]
  },
  {
   "cell_type": "code",
   "execution_count": 22,
   "metadata": {},
   "outputs": [
    {
     "data": {
      "text/html": [
       "\n",
       "                <audio  controls=\"controls\" >\n",
       "                    <source src=\"data:audio/wav;base64,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\" type=\"audio/wav\" />\n",
       "                    Your browser does not support the audio element.\n",
       "                </audio>\n",
       "              "
      ],
      "text/plain": [
       "<IPython.lib.display.Audio object>"
      ]
     },
     "execution_count": 22,
     "metadata": {},
     "output_type": "execute_result"
    }
   ],
   "source": [
    "Audio(fp[1].cpu(), rate=16000)"
   ]
  },
  {
   "cell_type": "code",
   "execution_count": 23,
   "metadata": {},
   "outputs": [
    {
     "data": {
      "text/html": [
       "\n",
       "                <audio  controls=\"controls\" >\n",
       "                    <source src=\"data:audio/wav;base64,UklGRiQyAABXQVZFZm10IBAAAAABAAEAgD4AAAB9AAACABAAZGF0YQAyAAAIAAkADQAMABAADAAJAAYABwAPAAsAAwAJAAUACAADAAIABQAGAAQABQABAAUAAwACAAEAAAAAAAMAAQABAAYABAAAAP//BAACAAMAAAABAAAA/f8BAAIABAAEAP//AAAAAAEABAACAAAAAAAAAPz///8AAAAA/f8AAPz//v/+//v/+f/5//v//v8AAP3//v8AAP7//f/3//f/+f/+//3/+//5//r/+f/6//X/8v/w//f/+f/7//X/6//1//v/9P/4//r/+P////b/8v/1//H/9//8////+v/z//b/+f/3//r/9f/5//r/AAD7//3//f/9///////7/wEAAQAAAAYAAAABAAIA/P8GAAAAAAABAAAAAgAAAAAAAAABAAYAAgABAAYA/v8CAAgACAAGAAAABAABAAIAAQAEAAYABgD//w0ACwAIAAUACgADAAcADgAJAAQAAAAAAAwADgAJAAoAEAAJAAgACgALAAcABgAGAAkACQAMAAUAAgAJAAcABQAJAAQACwAGAAQACAAFAAIAAgAJAAoABwADAAcADgADAAIAAAAFAAMABAAGAAAA/P/9/wMAAgAAAPn/+//6/wAA/v/+//7//P8CAP3/9//8//r/8//u//L/9f/u//P/9//0//L/8v/0//P/9//z/+//7//x//T/+P/2//n/9f/4//n//P/6//P/9P/1//X/+P/4//3/9v/1//X/9f/9////AAD+//7//f/5//7/AQABAPn//f8AAPz//v/9/////f8AAAEABQABAP7//v8AAAYAAAADAAkABQAJAAYABQAAAAoADwANAAkACgAMAA4AEgAQABAADwAQAAwAFgAXABIAEAAUABgAEgARABAAEAAJABAADQASABYADgASABIAFAAPAA8ADwAGAAQADwAOAA8AEAAPAAsAEwATABMAEQAUABgADwASABEADwAIAAsADQAQAA8ADgALAAcAAwADAAMAAgACAAYABwAAAAAAAQD//////////wMAAQABAAAA//8AAP7/AAACAP//+//9//z////2//X/+//+////BAD8//3/AQD2//j/9f8AAP3/7//2//j/9P/4//j/+/8AAPr/AAD3//P/9P/z//L/7//t/+7/8P/w//D/9P/t/+z/8//2/+//8P/z/+z/6v/t/+3/8f/t/+7/8f/z//P/8P/u/+7/8P/u//H/9P/6//f/8v/1//X/+P/1//P/+v/7//T/9f////n/9v/+//j/+f/3//z//P/0/+7/+f/7//3//P///wEA//8BAP//+/8BAAEAAAAAAAAAAAABAAUABAADAAYAAAAGAAkAAQAGAAUABgABAAgACQALAAkACQAGAAkABAABAAsADQALAAsAEAAMAAoADgAMAAoABwANAAcACQAMAAwACwALAAwADQARAAsADgAFAAEABwAFAA4ABwANAAoADQANAAwADQAHABIACwALAAsACgAFAAAAAwALAAkABgAAAAAAAAABAAAA/f///wAA/P8DAPz//f/4//v//v///wAAAAAAAP///f/8//7/+v/4//v/9v/6//v/9//4//r//P8AAP7/9//4//T/7//5//v/+//2//X/8v/2/+7/8v/y//b/8P/2//H/6//3/+7/+v/3//X/9v/0/+//8f/z//T/+f/1//L/9P/6/+7/7P/w//L//f/6//n/+f/0//z//P/+/wAAAAAAAPr//v/9//r/+//7/wAA/P8AAAAAAAAAAAIA//8BAAAAAAAFAAAAAAABAAAAAAAFAAAAAQADAAYABgAOAAUABwANAAwAFAAUAAwADAAMAAoACwAQAAoACgAMAAcACQAQAA4AEAAPABAACwAKAAgACAAJAA0ADgALABIADgAMAA8ADwALAA0ADAAMAAoABgAGAAsACAALAAcABAAGAAEABAABAAEAAAAAAAAAAgADAAEA/P/9//v/+v/5//v/+v/+//b//P8BAPr/+P/z//P//f/y//P/8f/0//H/7//1//X/9P/v/+n/6v/r/+n/7f/r/+z/5f/k/+b/7P/q/+f/7P/o/+v/5//r/+P/5//q/+X/4//y//D/8//5//j/9f/s/+v/8f/v/+//9P/y//j/+//6//7//v/+//v///8AAAAA/v8AAAAAAgABAAAABwAEAAIABQADAAMACAACAP//CAAGAAoACwAJAAoACwAPAAkACwAMAAoABwAPABMADAAQAAoADAAOAAkADgASABIAEgAQAA0AFAASABEAEAALAAoADAAPABEADwALAAwACgAMABAAEQAOABMACgAOAAgADQAIAAgADAAGAAEABgAGAAUABgAIAAUABwAJAAgAAwAGAAMA/v8CAAQAAgAFAP//AAD//wEA/f/9/wAAAAACAAAAAgACAAIABQD+///////8//7/AAAEAAMA////////AAACAP//AAADAPn/+v/6////+//+//n//f///wEAAQD+/wAAAAD+//v//P/5//n//P/+////+//+//3/AAAAAP////8AAP///v/9//7//P/9//3/+v////v/+v/+//3//v/+/wAABgD/////AgD///3/AAD8//v/9v/2//j/+v/6//7/+f/7//r//P/8//r/AAABAP//AQD+/wIA/v/7//n/+f/9//r/+v8CAAEA/f////7/AAACAP////8AAP3//////wEABAAAAAAAAQADAAEAAgABAAIAAQACAAUABgAGAAYABAACAAIAAQADAAEAAQADAAQABgABAAsABwAIAAMADAALAAkABAAHAA0ACwAMAAwACwARAA0ABgAHAAsAAwAJAAoACgAIAAYACAANAAUADQAKAAkABwAIAAoABAAGAAUABAAIAAUAAAAAAAEAAgACAAUAAwAAAAAAAwACAAAAAAAAAAAA/v////3//v///wAAAAD///7/AgD//wAAAAAAAP//AAD//wAAAQD9//3/AAAAAAAA//8AAP3/+//4//r/AAD//wEAAAD+/wAA/P8AAP3//v///////P8BAP//AAAAAAMA/v/+/wEA///9/wAA//////r//v/8//7//f/6/wAA///9/wEA/////wEAAgACAAEAAAAAAP///v/8//z///8AAAAAAQD+//7////8/wEA///+/wMAAgAAAP3/AAD8//7//f/6//3//P/9/wAA/v8AAP7//v8AAPr//v8AAP3/AAAAAAAAAAAAAAEA/P/9/wAA/////wEAAAD//wEAAAAAAAAAAAAAAAAAAAAAAAAAAgAAAAAAAAD//wQAAwACAAIAAQABAAMAAAAHAAkAAAAFAAEAAAAAAP//AQADAAQAAQAAAAAAAQAAAAQAAQAAAAIAAwABAAAAAQAEAAMABwADAAgABAAEAAIABQAFAAIABAAGAAMABAABAAMAAAAAAAUAAwD+/wIAAAAAAAAAAAAAAAAAAgABAAAAAAAAAAAAAAD//wAAAQAAAAUA/f/9//7/AAAAAP3/AAAAAPr////5//v/+//6//n//P/2//7/+P/7//n/+v/6//n////6//v//f/6//z/9//2//r/+//5//v/AAD9//z//f/7//z//P////v/9v/9/////P/+////AQAAAAAA//8AAAAAAAAAAP3/AwAAAAEA//8AAAAA//8AAP7/+P/6//7//v8AAAEAAAAAAAAAAAD9/wAA//8BAAcAAwAAAAAABQACAAAAAAABAP//+f/+//7//v///wAAAAACAAAAAAAAAAUABwABAAQAAAAAAAYABQABAAAAAAAFAAoADQAFAAMABQADAAYABgAFAAcABwAHAAYABQACAAYACwAGAAAAAwAFAAQAAAD//wAAAAAAAAEABwAHAAQAAAACAAMACAAKAAQAAwABAAAAAQAAAAAAAgAAAAEA/v///wIA//8AAAAA//8BAP//AAD+//3/AAD5//r/+P/+//7////8//v//v///wEA/f/7//P/+P/4//v////9//f/+f/1//P/+v/8//v/9v/3//b/9f/z//P/+//2//r/+v/5//T/9//1//X//P/2/wAA/P/8/wAA+f/9//v/AAD8//v//v/6//n/+P/7//3//v8BAAAA/f/+/wAAAQACAAEA//8BAAAA///8/wAAAAD//wIAAQD//wQABAACAAIAAwAGAAoACgAIAAYACAAGAAoABgALAAwADAAPAAsABgALAA0ADAAQABEAEwAPAA0AEwAOABEAEAAOAA8ADQATABcAEgAUAAwADAAQAA4AEAAMAAoACgAHAAYABwAHAA4AEAALAAoACQAIAAcABAAAAP///v///wAAAAD9/wAAAwD+/wMABAD+/wAAAAAAAP////8AAAEA+//3//j/9//8//n//P/7//r/+P/x//T/9v/2//r/9//x//D/9//2//H/9//1//P/8//4//L/9f/u/+//9f/3//n/9P/y//b/9//z//X/9f/1/+//8f/5//n/+P////3/+f/7//T/+P/7//7//P/7//v/AAAAAP7/AgAAAAAAAQAFAAMAAwAEAAkADwAHAAUABgAGAAMAAAAGAAYACQAIAAUACwAEAAcACQAKAAQABAAGAAcAAwADAA0ADwAMAAcADAAQAAsACAAHAAwACAADAAAAAwAGAAkABwAGAAUAAAACAAIACQAAAAYABQACAAAA/P/+/wAA//8BAAAAAgADAAQACQAGAAAAAwAEAAMABAABAAEA//8AAP3/AAACAAEA//8CAAAAAAAAAAAAAAD8/wAA/v8AAP//+P/8//z//////////v/9//3//////wAA//8AAAAA+f/3//b/9P/6//3/+f/+//3/+f/1//X/+P/u//D/9f/z//T/+v/+//X/8f/4//b/+//4//T/9f/1//b/+P/9/////f8DAAEA/v/9//7/+P/9/wEAAAAAAP/////9//7/AwAAAAAAAQD//wUAAAD///3/AAAFAAIAAgACAAAAAgAAAAIABwACAAkAAgADAAMA/v8AAP//AgADAAQAAQAFAAAABQAAAP//AAAAAAAAAAD9//7/AAD+/wAAAAAAAAQABwADAAAAAgD//wEABgACAAIAAAAGAAkABwADAAUAAQAHAAgABAACAAMAAwADAAUABQAHAAIAAAD//wAAAAABAAMABQD+/wAA///7/wAAAQAAAAIAAgABAAMAAwAAAP//AQAAAAAAAAD+//3/AAABAAAAAQAAAAEA/f/7////+v/5//3//f/+//v/9v/9/wAA///+//j/+v/7/wAAAQD4//z//P//////AAABAP///////////v/+//7//f/8//3//v////T/9//9//z////9//3/+v/9///////7////AAAAAP/////+//7///8AAAAAAAABAP//AQACAAAAAQAAAP7//////wAA+v/2//b/9v8BAP7/+f/+//3//f/+/wAAAAD+//z/9////wMA/v8BAP//+P8AAAMAAgACAP////8AAAAAAAABAAEAAAD/////AAAAAAQA///+/wMAAQAAAAAAAAAFAAIA/f8BAAMABAAHABAACwAGAAIAAgAJAAUABgAFAAAABgAKAAsADAAKAA0ACwAJAAoADQALAAkACgAFAAMACgALAAoADQAMAAsABwAHAAUABwAEAAUABQAEAAQAAgACAAMAAAACAAIAAgAEAAQAAQAAAAAAAQAAAAAAAAABAAAA/P/8/wEA//8AAAMA/P8AAP///v8AAP/////7//v/+//6//3//v8AAAAAAAD6//v//v/9//7/+v/4//z/9//+//f/9v/3//j/+P/6/////P8AAAAA+//7//T/8v/x//f/AAD8//7/+P/5/wAA9//4//n/+v/8//r//v/4//X/9//8////AAAAAP3/+//2//r//v8BAP3/+/8AAP//AAD+/wAAAAAAAAEAAAD//wAAAAAAAAQAAwADAAMABQADAAcAAwALAAcABAAIAAcACAAEAAgACAADAAcAAAACAAUABQAJAAUAAwAAAAEABAACAAIAAQABAAMAAAAAAAIAAAABAAAABAAAAAAA/v8AAAAAAAAAAAAAAAAAAP7/AAADAAAAAgAAAAAAAAABAAIAAgAAAP3/AAAAAAAAAAD8//z/AQAAAAAAAAD//wAA//8AAP///P/8////+/8AAP7//v8AAPv//f////7//P////v//f////n//P////v/+//7//3//f/6//v//f/7//7//v8AAAAAAAABAAAAAAD///7///8AAPv/9//+/wEAAAAAAP3//v///wIAAwAAAP7/+///////AAAAAAIA/v/6/wIAAAAAAAAAAAAAAAAAAgAAAP//AAD9/////P8AAAAAAAAAAAAAAAABAAAAAQAAAAAAAAAAAAEAAAD//wAAAAAAAAAAAAAAAAEAAQADAAAA///8/wAAAAD//wMAAQD+////AAAAAAAAAAAAAAAAAAAAAAAA//8BAAAAAQAAAAAAAAD//wAA//8AAAAAAAAAAAIAAAABAAUA///8/wAA//8DAAIAAAAAAP3/AAAAAAAA///+/wAA//8AAAAAAgADAAAAAQD+//3/AAAAAP///P///wAAAAD8//v//v/9//3//f///wAA///8/////v/9//7//v8BAP////8BAP3/AAD9/wAAAQD8//7/AAABAAAA////////AwAAAAUAAgAAAAAA/v///wAA/v8BAAUABQAEAAMAAgAHAAMAAgAGAAUA//8JAAUAAQAEAAAAAQADAAAAAQAAAAAAAAABAAAA//8AAAEAAAAAAAAAAAAAAAMA/v8CAAMA//8AAP3/AAAAAAQAAwD+/wIA//8CAAQAAgAFAP3/AAACAAAAAAD///r///8AAAEAAwADAPv//f8CAAMAAgAEAAEAAAAAAP//AAAAAP///P8AAP////8AAAAAAAABAAEAAAAAAAAAAAD//wEABQD+/wAAAAAAAAAA//8CAAUAAAACAAEAAAAAAP//AQAAAP7/AAACAAIAAwAEAAQABQAIAAAAAAAHAAIAAAABAAMAAwACAAIABAADAAIABAADAAEABAAGAAAAAwAGAAIABQACAAMAAAACAAMAAAAAAAAAAgAFAP//AAAEAAIAAwADAP//AAAAAAAAAAAAAAAAAAACAAQAAAAAAAAAAAAAAAAAAAACAAEAAAAAAAAAAAD//wAAAAAAAAAAAAABAAAAAAAAAAAAAAAAAAAA/P///wAAAAAAAP7/AAABAAIABQAAAAAA///+/wAAAAD//wAAAAAAAAEAAQABAPz/AAAAAAAAAQD//wAAAQAAAAAAAAAAAAAAAAD+////AAAAAP//BAAAAP///v/4//7/AAD//wAAAAAAAAAAAAAAAAAAAAAAAAAAAAAAAAAAAwD+//z/AAAAAAAA/f////7/AQACAP7/AgADAAAAAAAAAAAA//8AAAAAAAACAP///v/9//7/AAAAAP///v8AAAUAAAD8//3//v/+/wAAAwD//wAAAAAAAPz/AAD9//n//v8BAAAAAAD7/wAA/////wEAAAD+//3/AAAAAAAA/P/4//3//v/+//7//v/9/wEAAAAAAAAAAAD9//z/AAAAAAAAAAABAAEAAgD///7/AQAAAAQABgAFAAAAAAABAAAAAAAAAAAAAAAAAP//BAABAAEAAAABAAQAAAABAAAAAAD+//7/AAAAAAAAAAAAAAAAAQAAAAAA///7//v///8AAAAAAAAAAP//AAAAAAAAAgD//wAAAAAAAAAAAAADAAMAAAAAAAAAAAAAAP7/AAAAAAEAAAD//wAA/v8AAAAAAAAAAP//AgAAAAAAAAAAAP//AAAAAPr//////wAA/////wAA/P///wQABAABAAEAAQD//wYABgABAAIAAQAAAP7/AgAAAAEAAwAEAAIAAQD//wYABgAEAAUAAAAAAAIABAAEAAUACQAEAAoADAAGAAEACAAIAP7/AQAFAAYABQAGAAQAAQAFAP3/AQADAAUABwALAAcABAACAAQACAAKAAYACgACAAIABgAHAAAAAAACAAEAAAAEAAkAAwAAAAAA+//8//r/AAD9/wAAAQABAAAA/v/+/wAAAAAAAAAAAAAAAAEA/v/9/wEAAAD+/wAABAAAAAEAAQAAAAAA///6//3/AAABAP//AAABAP7//v/+//3/9//8/wAA/v/+//b/9P/0//f/+v/9//b/+f/+//z//v8DAP////8BAPv/+v8AAAAAAgD///7/AQD+//3/AAAAAAAA//////3/+f/9//7//P/8/wAA/f/8////AAAAAAAAAAD//wAAAgD//wAAAAABAP////8CAAAAAQAAAAAAAAD9//7/AQADAP7/AQADAAAABAABAAIABQACAAMACAAHAAcABQACAAQAAAD//wAAAAABAAIAAAACAAMABQAGAAYABQABAAQA//8EAAIAAAABAAQAAwAFAAEAAwAAAP///f///wIAAAAAAAAA/v8AAP7//v8CAAAAAQABAP//AAAAAAAA/f////n//f/9/wAAAAAAAAIAAQABAAQAAwD+/wAA/v8AAP//AAAAAAAAAAD///v//f/9//n/+P/9///////8//X/9//7////+//5//7/+f/4//3//v/+//f/9v/5//n//P/9//z///8AAP7/+v8AAP3/+P/7////AAD8//z/+//5//3//f/9//z/AAAAAPv//f///wEA+//9//v//P/9//7//P/8//3//v/9//z/+/8AAAEA/f/+//v/AAD/////AQD//wMAAwAAAAIAAwAAAAAA////////AAAAAAAAAAAAAAEA/////wAAAAABAAEABQABAAAA//8BAAEAAQAAAAAA/v8DAAEA//8EAAAAAAAAAAEAAAABAAMA//////3/AgAAAAEAAAD+/wAAAAADAAEAAwABAP///P/8//7//v8DAAAAAAD+/wQAAwABAAAA//8AAP//AQACAAgAAwAFAAMA//8CAA0ADQABAAIA//8BAAAAAgAAAAAAAAAAAAIAAAAEAAIA/v8AAAAAAAAAAP//AAAAAP7///8DAAAA/v8AAAAAAAAAAAAAAAAAAP7/AwD+/wEA//8CAAAAAQACAAIAAAAEAAIAAAABAP7//v8AAAEA+//8//3//f/8//n//P////b//P/3//f//P/3//b/9//1//b/9v/7//r/+P////v/AAAAAAEAAQD1////AAAAAAAAAAAAAAEA/f8BAAAABAAAAAEAAAD+//7/AAABAP3//v/9//z/AAAAAAEAAAAAAAAAAwAFAAMAAAABAAAAAQD//wEABwAGAAMABgAKAAkAAgAHAAsACgABAAUABwACAAQAAgAAAAEACQAOAAkABAAFAAgABAAEAAoABgAEAAIABQAGAAYAAwAEAAMAAwACAAYABwADAAgABAABAAAABAACAAIAAAADAAIABAAEAAcABAAAAAYAAQAAAAYAAwADAAEA/f8AAAAABgAAAAMAAAD///v//f8BAAAA/P////z//v8AAP//AQAAAPz//v8AAP7/+v/9/wAA+P/8//7/AAABAP///f/7//j/+/////r/+v/8/wAA/f/5//7/+v/6//f//f8AAPf//f/6//P/9//0/+7/8P/w//f/+f/8//3/+f/+//7//P/+//v//f/4////9//4//3/+P/2//z//v/+///////6//v//f////n//P8AAP3//P8BAAAAAAAAAAQAAgACAAEAAAAAAAEAAgD//wEAAAAAAAAAAAD//wQABwABAAAAAQACAAIABAAEAAAABAACAAMABgAHAAgABAAAAAIAAAADAAYABQAFAAQAAAAAAAEACwAFAAcABgADAAIAAAAAAAAAAAAAAAEAAQAFAAEAAwACAP3/AQAAAAAAAAAAAAAAAAAAAAAAAAABAAAABAD//wIABgAFAAUAAAADAAUABAD//wQABwACAAEAAwADAAcAAgABAAAABAD/////AAABAAYAAwAAAAAAAQACAAQAAwACAAAAAAAAAAMAAgABAP//AQD//wAAAAAAAAAAAAD///3/AAD///z//v8AAAEAAAACAAAAAAAAAAAAAAAAAP7/AAD//wAA/v8AAAAAAAAAAAAAAgABAAAAAgADAAMAAAAKAAQAAAACAAAAAgAHAP3//f8CAAAAAQABAP//AAACAAAAAAAAAAEA/P/+/wEAAAABAAEA//8AAAAA/////wEAAAAAAAAAAAD//wQAAgAAAAAAAgABAAAAAAD8/wEAAQD9/wAAAQAAAAAAAAAAAAAA///+/wAAAQD9/wAAAAAAAAAAAAACAP///P///wAA//8AAAAAAAAAAP7//P/7/wAAAQAEAAMAAAD//wAAAAAAAAAAAgAEAP//AAACAAAAAAABAAAAAQABAAEAAgAAAAIAAgD//wAAAgABAAIA/v/+/wAA/f/8/wAA/v/9/wAA+f/6//7//v/5//3//////wAA+v/7//j//f/7//r////9//r//P/3//7//P/5//T/+v/z//v//v/6//f/+v/7////AAD//wAA/////wMAAwAIAAEA/v///wAA/v8CAAEAAgAGAAAAAAD//wUABAAEAAMAAAACAAQABAABAAgAAAABAAMABgAEAAUABwAEAAEACgAHAAwADQAJAAcAAgABAAAADAAJAAAAAQAEAAMADwAHAAEAAQD9/wgAAgAIAAUABQAEAAEABQAEAAQA///+/wMAAAAAAAYAAAABAAQABQAGAAcABgACAAUACQAGAAMAAAAFAAgAAAAAAAMABAALAAUAAwAEAAEACgAHAAQACAACAAMABgAAAAIAAQD//wAAAAAAAAAAAAADAAMA///9//7/AgACAAAAAwAAAAEAAAAAAAAA/v8AAAAA+f/9//f/9P/w/+z/5f/c/9//4P/b/9v/3//d/93/4//r//j//f8AAAYADgAbAC0AOwBFAEsAUwBjAG0AcgCAAIkAjQCGAIcAhgCHAIIAdgBkAGQAVwBOAEEALgAZAAUA/f////j/4v/I/7r/uP+6/6z/qf+q/6X/n/+U/57/sf+z/7D/rv/A/8//0f/f/+b/7v/g/9//9f8FAAoA+v8AAAIA/v/1/wIAGgAcABIACAATACAAKwA/AFEAWgBUAFoAdACQAKAAlgCcALUAvQC3ALsAtACiAIgAbgBmAEQAEADc/7P/ev8h/8j+fv5U/gL+k/00/dv8iPw9/An80vtz+xL77Prv+vb63fra+gH7NPtq+8X7VPzj/Ev9xf2H/m//MQDaAMEByQKgAy0EEQVEBjwHswccCO4IxgkyClwKxwo8CxcLqArNCj8L9AqzCcoIzQitCFIHhQW+BGMENgMNAYL/rv6M/cP7UPpx+Sb4A/Zg9C/0LfQn84PxwfDA8MrwsPAk8QXyU/Iq8p3yOfTY9eT2z/c3+Wf6Afub+1v9pP/oAKsAGwDCAGcCxgO2A6AC1AEVApYCUALeAF//hf5Y/vP9vfzW+hb5VPhO+EX4G/dy9Wf0ufRy9Wn18vQG9Sj27vYm92f38/gS+3D85vx0/eT+vACXAkAEnwU5BoQGsgc2CmYM3Qw3DEgMpA1VDxAQ/A9+D+oO0A5tDxcQcA+XDRoMbgwiDV0MIAptCE0IzQiECCsHvQXZBNMESwV9Ba8EcgMnA+sDQARlA0kChAL+AnwCpQBp/xf/sf5o/aP78vmc9/v0j/Jf8WTvlesn52zk5eII4CDcsdgj1ynVZ9L5z0fP1M6RzWTNXc/e0c/RmdF21ArbLOA14hXkB+l874/0HPmj/m0E9wexCjcPihXJGUwb/BwXICoirSGcIaEj3iQAIlIdiRsMHIMacRVgEOANcgu+B8EDzQHL/4P84vkQ+uX7Q/tr+s/7zQDSBEEHbwosEMsWaht6ICEmfyyHMKQ03jnAPtlAvEDUQnxFREavQto+0zzeOp829S9sKSEixxpEE7oMewRL+eXtpOUX4MbXAc1CwpK7ErYLsOOpI6XUoTmelJzCnHueB58doG2kiKoEsDaza7glwD7JXtBn1g3dmuN/6kDxV/l0/zMDjwU+CpQQrxSxFWIVDhcHGdsZ7xh7F+MVmhO2EakPHg3HCG8EaQHh/mj7TvbO8m/wmu4U68Dn+OVK5fTk5OPO42njAuQT5fTnBus37VnvefLE99D8IgJXB+MNJxRHGmAh2CkPMzI6wEBcR8dPo1dSXstjb2jNbGpv2nFuc5V0d3OxcA1tEmmYZGFe4Vd4UKJIIT9LNQMsICOfGaYOGgQz+ufwqeZV3ADTL8u+w5+7PLO2q0umwKLBn4ecnZhPlt2V+ZcXmlucCp+voqmneqx7sjO5MMGmyAPPZNX0297jLut58of4aP0KASsE1QgTDZAQrBCZEKoP6g9eD64OtAwTCa4EmADi/S76APWV73rrx+dB4k/cL9jS1gnVxNH0zWPMaczEzZPPzdEm0wvUC9cp3b/koulf7FHwmPc4AF8HWQ03E/MZGSGjKBYxijgUP/tEpUztVD5bI2AoZXFsUnKWda9233hofEJ+PH4NfJN5vHWicqlvSmwpZdxbrlNoTj5J6D/ZNGoqZiL/Gf0PYQYT/I/yVOcm3uPVVc0qxDi61rMHrUKnJqEvncaapZfdlQSVYJdkmOCZmZzuoX2nk6uTsFW3Mr8LxQTLdNIE207hbuW/6hryePg1/Kv+VAJ+BScHjAf6CNwJPghKBUADAgKN/jb51PRn8unurOjW4a7d5dp+1wfTcM9kzM3Im8b8xlHJB8lOxx7HHcsI0L/SytU+2jPgoeRY6c3wlPn2AMgFhQxFFScf9yZxLqQ2bz67RV1NiFZxXv1j5GfFbddzKXiFeqp8q3//f35+n3ydfJJ7snc6cvZscGghYplbOFUYT4xGDjxQMmMqJSMdGngQdwXG+j/w6+fX4WfZKs+ww9G8jLjSs++t96bRozegBJ/2nUWeH58Lniyg0aJOqGurA6/bszm5hb+VwxbK+8+Z1UPa6N4U5RbpNuwZ7pzyK/bq9rH1jvQb9uf20vXd8unv6+yt6sTokef45APhR9yi2YrYu9e81inUjNEHz5DOqtDD0lzS8s8A0PnSWNhg20Hdrt/h4w3pBe+c9Q38cgLjB/cOHBe1HkQm5SwbNWo8+UIvSJFOGlXyWsZfEGMbZn9oqGq/beNvPHCNbUtrZ2qVavlos2MeXXdW01EiTmJJmEERNkMrSSMvIFcb2xGJBGv3f/Dp7ZjrbOSK2M7LiMVTxfPGrMPeutKx0q1ysIaz9bVLsmOvo64bsta5Xb0KwYjBx8YazHDRx9Vv2GXfq+R26t/r8etT7VvxEPhN+if5AfTy8i71mPiV+F31P/EJ7znvee+S8PHuguvw6Ozmz+j86dHpfecd5Rbk5eTn5/bo4ui65tflCOmU7LDwIfIs88j0sPg8/TUDLwhJCzsOihGDF5QdPyMyJgwqmy55M3o3jDkFPM0/Y0RURzhIcUasR7xKQ086UHlMxUfZRbVJVUrkSOpAgDoXOPY2YzV5L68ntCCKHHQZ/hVQD80HYAHX/S/7MPeg8WLp+OV54Xvh895U2lfVPtCJ0I/Q99GOzyXNO8zLy1fOuc9D0lTUn9UL1rHWztd426XfeeII41PivOFG46bmcujS6RvpPehz6KHohun36v7r0+xI7eHsze0h73LxavNe9Lbz6PPc9Mb2uvj5+Dz4TvgT+RP6zvoS+sr5nvl2+tn7h/0e/vr9U/71/88DcwfVCbEKjAsrDTUSABe6G7wdvR2MH4QiiScaKqQslizcLbUu5C+tMukzvDVrNIgzrTEIMu4xUTLpMRwvlCyJKGMnGiYoJqUjyx8wG/4VkRRgE34TBRCmCvoEVQG7AF7/o/22+GT0zvAt7vPsP+ta6Q/ng+Qb4krgJd9u3qjesN583ljeod343SvfNOHQ40HlzeW35aTmoei56x7uzO7i7l/uz+7l77PwC/G/8PLvZu457fDrf+uD647qlOkG6CXme+TC48/jXOUm5p/louTX41/lO+jz6wvuWu/k7hTwzPPS92380v1q/84AuwPNBsgJMAymDbcPdxHOE10V+RW3Fr8Y9RqbHDUcahuPG7gcjh4zH2gf3B1pHTUdaR6JH/weyB24HMwcUR27He4cRRxoGzgbqBsbHHIbjxopGQoZ9BnDGXcZEhgzF3YW0ha4FuUWJRZLFN0TLxO7ExETuRHyD8MO7A28DGALEQmtBpIEtgIGAa3+ofvo+DH2NfTw8a3vju2N64TpGOfC5UTk0+NF41fia+Fg4Infe98f4E3gVOBY38He9d6W3wjg598D38/d0N1v3fHdcN1U3JHb6dpM20XbUdu+2nja99q/21Pdbt5l31zgpuE15PfmwukM7HHt7++E8m32vvk3/I7+VwCTA2QGjgmYC1gNPQ8gEU8T2hQKFi8XZhjnGRobyBttHDkdTx5eH9gfXyA1IBMhhCGAIsEifCI0IjQiJSMCJFkkvCMqIyUj4yMTJcYl8iWoJYAl3yUCJ7AnRCgXKOInGCg9KJoosyjYKIUoSCjNJ2knDCc5JrwlGyWHJEMjoiHaH4kekh0RHPkZGBc+FMMRnA9fDVcKtgbPAm7/gfw6+cb1yfFJ7gHrJOjP5C/hnd3G2pnYdtbO05DQBc5rzKzLpcoVyYbHUcZixqLGKMfJxlXGQsYkx9DIBcqtyqTKF8s1zALOh8+G0P3QrtES0wjV5dY/2ILZGds/3W/fk+G/4wfmauja6ljt1O9S8rP0/PZz+fL7If4fAOwB+AM2BrAI/QobDeMOkRD9EpwVbxivGmEcPh5pIDUjoyXZJ2Up4Cp7LCcu/y9xMXAyUzPzM+s0pjVGNrE2ODe0N9U3zDeVN4035TfIN6A31Da6NaU01TMtM2oy0TC4Ll8sbCq6KA0n7iQOIi4f8RtoGc4WFhQcEawNlwomBwIEcQBE/e/5tvZk8/Tvq+xj6YHms+M84Z3e69t52S/Xh9Xi03bSoND/zpjNy8w6zGjLoMq/yTbJ2siVyIzIucgNyTDJeMnQyXrKZMtTzEXNGs7PzonPmdDc0RLTN9QQ1crVs9ar10nZ7dpF3Drd+d1+33Hh6+Pt5bznSOkR66vtS/CT8yT2d/jS+mn90gAjBGEH4wlmDA0P0hHxFKYXZhqpHAEfYCG2I/klCij5KdMreC3sLiAwUDGOMrAzszQyNTs1LTVQNb818TXANcw0pjPOMjwyvDG3MCUvHi1cK/ApjCjtJrwkeyJWIEIePhz6GZQXOxXrEqUQQg7iC3QJOwcfBRQDAAGu/mb8M/pe+LT22/Ta8r7wzO767DDre+nV5zLmfuT14pDhSuAI3/3d8tzw2/La7Nk62bLYU9iu1zbXs9aQ1n3WgdaQ1nrWZtZL1qbWNNfy11fYjdgK2dXZEdtM3JTdeN5235jgO+I05C7m0OdQ6dLqmOzJ7vXwXfNA9Qn34vjq+jH9UP9iASYD+ASoBnMIZgoQDLkNAA9UEN8RORN5FMAV+RZBGEEZFhr5Gs0bzBySHTYekB7OHjkfnx8vIFIgNSBAICwgaiBWIBkg2x9XHzkfzh6lHksehR0dHSQc8RtRG58a7RnOGDQYOxeXFpUVchR/E1YSrhFqEEkP8A12DHILWQpVCRMIkgYTBdYDjwKVAWMAK//Y/cH8ovt0+n35aPjA99D2vPWy9JbzEfNm8tfx9/Dz79Pu4+1s7QDtm+zD68bq0+mA6SjpSOnt6Gjo2Odh5+Pn5+eF6Evom+ji6EzpeOrs6jPsguxd7TvuU++98HXxw/Jw89308/Uj95b4PPmA+uf6Vvwo/TP+xv5J/2wArwC3AbIBfgLnAjoDDAQEBP0EqwRpBZ0FQAbmBssGzgeXB7MIgwgtCc4J9Qk0C8wKNAz5C+QMVQ3dDWAPPw9JEAMQ9BCxETQSOxPwEsMTXBM7FGgUwRS2FCkUpRQfFMAU8BMBFHcT/hIeE0gSohKaEU8RvBAEEOwP2w7bDrQNjA2JDMcLZgtGChEKsQhwCFoHZwa0BVcEWgTGAuYCOQGkAML/3f70/rH9av0h/Mr7NfuZ+mL6VvmI+Yr4e/jH96P3UvfC9mD2u/XX9Vj1d/W29FD04/O787vzh/Mn89HygfKR8oXyZPKS8jLyv/JV8tfy8vLu8oTzR/PG8/PzvvN59PDzqvRo9H705/Q39PX0s/Q19Xj1TvWU9er1QfY/9yD38vc/+Lz4C/ry+an7n/up/Lr97P3Y/7b/MQHOAWIC7QMkBMsF4QXXBsoHGAjDCW4JGAscC4gM5Qy7DZ0Oxw4YEOsPbRFmEQ0SuBK8ErcTwhNFFB4UOxSJFCMU8RQwFEIU1BMdEzkT0BJXEtMR1hA9EK0Pkw4mDiENYAxyC44KOQruCLgIVAekBqUG0QTPBV4DjQNwAicB+wHe/3cAev6x/dz97fvM/LH6HPse+hv5jPnS9yD4fPfV9kf3+PXU9cr0sPRl9N/zcfMO8jzyCfGG8evvAvAW78vuv+5z7UDuNu0V7VXtjeyU7X7sGu1x7X7thO7p7bbv9O4x8KTw3vCa8oPy0fMw9Mv0y/U99nP31/c2+cj5bfqH+/L7n/20/bD/5f+9ALUB0gJ8BMQELAY2BoYHbgj3CbgKRQtyDDUNnw3LDskOShDWD3EQkBEREY0REhGREWIRdBGuEa0QCRI2EIwRlhBuEHAQuA+REN8OchBgDkIPNw7wDQoOTAwRDmQKQw11CSoL0QkMCKAI0gbJBkMF2wXJA70DSgJ/ATEClP/7AKj+O/7N/vn7Pv4m+0n8YPqx+tn5fvg3+bf30vYv+J306PaM8/z0iPMm8kn0H/D581zuX/KN71XvSvHN7Jnxfuxf8Hzu7+zY8GjrgvHb7K3vHvCV7nDxG+8287bvefM38jbzT/UF84D3nfMB+R31tflR+Nj5Qvy3+QL93vxd/ob9vQET/zMCsQFqAekE6gGUBcsEOwePBJ0I8AV3CYUIZwlFCp4Kwgu/Cc4PKwePEA==\" type=\"audio/wav\" />\n",
       "                    Your browser does not support the audio element.\n",
       "                </audio>\n",
       "              "
      ],
      "text/plain": [
       "<IPython.lib.display.Audio object>"
      ]
     },
     "execution_count": 23,
     "metadata": {},
     "output_type": "execute_result"
    }
   ],
   "source": [
    "Audio(fp[2].cpu(), rate=16000)"
   ]
  },
  {
   "cell_type": "code",
   "execution_count": 24,
   "metadata": {},
   "outputs": [
    {
     "data": {
      "text/html": [
       "\n",
       "                <audio  controls=\"controls\" >\n",
       "                    <source src=\"data:audio/wav;base64,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\" type=\"audio/wav\" />\n",
       "                    Your browser does not support the audio element.\n",
       "                </audio>\n",
       "              "
      ],
      "text/plain": [
       "<IPython.lib.display.Audio object>"
      ]
     },
     "execution_count": 24,
     "metadata": {},
     "output_type": "execute_result"
    }
   ],
   "source": [
    "Audio(fp[3].cpu(), rate=16000)"
   ]
  },
  {
   "cell_type": "code",
   "execution_count": 128,
   "metadata": {},
   "outputs": [
    {
     "data": {
      "text/html": [
       "\n",
       "                <audio  controls=\"controls\" >\n",
       "                    <source src=\"data:audio/wav;base64,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\" type=\"audio/wav\" />\n",
       "                    Your browser does not support the audio element.\n",
       "                </audio>\n",
       "              "
      ],
      "text/plain": [
       "<IPython.lib.display.Audio object>"
      ]
     },
     "execution_count": 128,
     "metadata": {},
     "output_type": "execute_result"
    }
   ],
   "source": [
    "Audio(fp[4].cpu(), rate=16000)"
   ]
  },
  {
   "cell_type": "code",
   "execution_count": 18,
   "metadata": {},
   "outputs": [
    {
     "data": {
      "text/html": [
       "\n",
       "                <audio  controls=\"controls\" >\n",
       "                    <source src=\"data:audio/wav;base64,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\" type=\"audio/wav\" />\n",
       "                    Your browser does not support the audio element.\n",
       "                </audio>\n",
       "              "
      ],
      "text/plain": [
       "<IPython.lib.display.Audio object>"
      ]
     },
     "execution_count": 18,
     "metadata": {},
     "output_type": "execute_result"
    }
   ],
   "source": [
    "Audio(fn[0].cpu(), rate=16000)"
   ]
  },
  {
   "cell_type": "code",
   "execution_count": 130,
   "metadata": {},
   "outputs": [
    {
     "data": {
      "text/html": [
       "\n",
       "                <audio  controls=\"controls\" >\n",
       "                    <source src=\"data:audio/wav;base64,UklGRiQyAABXQVZFZm10IBAAAAABAAEAgD4AAAB9AAACABAAZGF0YQAyAACLBeoFFgY8BqoF2QSfBDwENATzBG4EGgTLA9wDMwPmAiQBNABC/979Mf57/Tb9Zf0K/G77o/ra+ZP5cPjY91z31fZg97D2bPYk9+f2Cvem9wH4l/ga+QT6aPkq+Yb5Hvq4+iL8Nv0c/jn+8P6+/oT/VwCqAEsCcwNmBDMFqgU3BlIGOgaIBssHtge0BpEGZQYTBtYFRQZwBh8GLwaOBpUGigXYA0MDlAL1AWwBzwACAOH/rQDW/zz/qP4m/i/+iPz9+9D6dPoI+8b7Jvzu++L7cvw+/BP9Tv1a/SX96/yD/Zn9pv7F/y0AEQGTAaECfwNyBQMGdQaZBm8GewXZBCMFawW2BU0FRgXzBPsEzgN+AzQDxQLMAQ8CsgF6ABsBDACq/yP/J/+i/rb+L/48/Vb8C/yZ+6H7yfsf+1z7dfuI+7f6SPrv+dr4P/hD+NX3Jfh9+L35Rvt7/Hj9tP43/xEAOADTAEwBLAI9A4kDOgRFBf0ELQb0BugGQQcyBzUGdQadBW4FHwVYBHoETAUJBbAEwwS2A0sDiAKVADH/jf4+/lX9r/2H/Ir7Tfuk+gf74vr4+Zr5C/qa+qb6FPsO/GH8LP2j/Kn82vzC/T//1f89AVoBZwHCApsDdgRUBU8F9gUABgEGkwWVBZwF7gWKBlUHagdwB30HywY5BhoGeQWDBOwDtgIDArUAZgDF/wr/Pf5e/u/8tPzE+zP7HPsc+o75avhk+DD42vez95/3j/e090X4RfgL+Bj4Gfjt93H4cPlV+sb7+fw+/m/+ov/y/wYAPgDE/zb/6P5P/yv/KgBWALMA5QESA9UCVwNzA6IDUgSOBBcExwP3A+oDnQOJA3kDsgOxA88DOANAApgB5QBoAJQAyv+D/9//Lv/G/hf/a/8G/2z/cf+o/mX9QP1G/aP8KP1b/Lz86fzx/Bb9d/3E/cT9F/6R/gX/cP/d/w4B6gHSAlYDugPdA9oDXQMaA6gCQQJAAbQBRQJ8AsgCSwNSAx0D1QIZApgBuwFwATUBOgEEATAByQCdAHkAMgCZ/xj/pf54/Sj9jf3h/Ab8EvxA/Pn7kvxc/SD92vzh/Pb85/z6/ET+D/8v/5L/ff/Q/rf+if7q/rL/9//P/5wA2gGLAXMBuAEPAg8DggKeAT8B6QC+AOz/Af97/ln+Vv5q/vf/2gB9AeUBUQIHAlkBdgGqAFQA/v+E/wz/4f49/6b/NwCl/xAAuf+j/6D/ff85AGMBGgFZAfYBJgKyAnICrQL/AVECagKyAocCWQK8AhgCUwJ/Ap4BnQGaAWABbgGZATACNwJ7AvECdAPvA1UD5AIzAvUBrwF+AFr/Gv/7/ur+E/96/5H/Q/9h/2r/3P7V/uP+tP7A/tv+rv4l/i7+yv05/nz+Ov9P/z/+cP1s/Hb7N/sY+zr7p/vP/Cj9rP1v/cr8Tf00/aH9yf3D/VH+Av8gAG4APQCGACwAkABXAVkCegLOAc8ByAHTAR0BnQG1AWkBqAGHAvsB7QAtAJr/3P6k/rj+D/5W/vX+kv4M/1//ef99AG8BcwG3AUMBhADSAK8AGAGsAFIBgwHnAcQBigG0AQEBEgLjAicDLAMIBB8EFATvA8cDsgOUA6oDHwOiAvsBrwEnAT8BOQFmAXMBwQBSALQAuf96/hb+RP3a/PH78/u7+4383/xY/ev9e/4+/gf+Jv4X/pj96f0c/iX+TP9F/1T/JwAhAC4BdwG9AeIB0gAwAJ0Az/8pAAMBrgGBAeoBDAI+AoIBsACp/+T+6/3V/bv9/vz4/Ef9Nv3b/HL8Ufyf+1n7ivv2+0D80Pzm/CX9cf09/fz9hP5Z/qH+7v5m/1b/4v4P/1f/nP4L/wj/qP5s/27/If9s/8b/ev82ALYAkgFnAlAD5QN3BM0EkQWLBYwEhQQ7BMkDNQNmA1QDRgMLAz4D0QJVAr0B1QGeAVgB8wCMAEIAEAA8APf/EwAAAEgAxf9v/5T+Bv5e/bj80vzM/Hb9Gv6h/mj/bv89/8D+V/6i/T/9Bv1N/QD+Rv6R/mD/fgB/AckCogOnBBcFhASABH4EigNFA8UCiwKXAyAEKAWABVcEfgPJAscBTgHxAFwAIgAt/33/yv8P/2b+6/2G/lz+CP7D/Vn99Pz6/Ov84/yP/Oj7LftG+836xvqM+lH6bvnI+df68ftU/Fr9Mv/T/xAAtAC2Ad8BLAJDAp0ChgLqAn4DxANTBM4EBQVZBXYEwgOAA8cDpwObA9kDyQOUAwQEOgR0BM8EqQQyBA4DOQLLACMAtv9e/3T+O/6N/ej7dfvo+qD6i/p4+n37aPtz+wP8nvwj/Mn8Of2Q/Yf9q/3h/aj9iv4B/4//hADFACkBUQIeA6YD1ANDBGIFtgWIBnoHRAiTBz8HiQYpBuUFlwQ5BNQDigPHA1wDGQMHAjwBqwCv/7r+7f0V/WX8kfsO/A/8v/ts+lb57/ih9yr4avhY+OP3bfeX93X3OPeW90r3uffZ94H4g/lf+hf7Kfxr/Yr+x/9LAV0C0wKOAnkCigLmAtYDRwSJBJMFiQbiBuUGFwfmBlcHaAcyB8QH8ga8BacE4wMuBNMEfwS4BJoEBQTgAh8C7ADd//j+k/5b/Wb9vv01/eL8w/xc+8n6H/sF+nX5qPmq+Yf5rvmT+Zn62vow/NL8efyI/BD9G/18/ev+d/++ALUBUAKyAlQDaQTXBEIFLwWnBacFnAWuBGYFvgUpBoQGgAZjBaAFGwVYBfgE3QPFAv8B4wFFAfAATwA1/07+gP19/Ob7kfqR+ez39vYx98j22Pbo9gX3W/cu9wz3dfc6+CL5Ofls+uD6EvyX/UH+XP9NAFYB2AH8AQMDBQO7AnYCrQO9BH8FZgaABjwHzwZ9BpYGZgZcBeUEsgREA0wD4gNQA70C0QJ1AlYCXwI5AkgBAwAK/7r+EP5x/fX8a/z7/Cb8v/sv+2H6L/oK+q363/r3+v76zPv7+7n85v2a/mf/+P8iAHcAWAC7AGoAfAA8AdgAuwFhAz8E2QSHBdAFRQUaBbkEQQSMBDgF6QUSB0QHiwhRCQUJ1Aj8B6AHtQcDByUGtwUjBJYDAgMbAnUAS//J/cz8Hv04/Gb7w/qK+rb6E/qV+Qz5LPiW92L3KPeH92H3uvYH9o32Eva19r73Mfjw+On5avqf+vj7tvx4/RD/dQBzAc8CFASHBIwF/gVVBncGZQbkBv0HBQj9B50HVwdDB8MHPQcSBwAGoAVrBYQE+gJjAS8AnP+U/sT94vy4/Db86vs7+9b6Mvql+iH6ovqn+iH6UvpD+m76s/q4+4D8Bv0p/dP9W/7G/kv/uv+lAPAATwH1AYMCOQONA3kElgX0BcYGVwdBB6sHpwd6B+4GVgb0BYIFuARVBM8DlANTA+oCmgLNAj8C4wDXACoA3P+z/wn+bP3H/Ln7BftU+6/6YPrM+Qf61vl8+oz6ffq++h/6ofnN+c/5OPrL+fH6IfvM+1j8jfy//Az9mv1X/gL/pf+fAPUAkQEiArACbQNbA0kEMAV/BWgFUQVDBTcESgTAAxADDgNJA3sD5QPcA4ID1AKJAVsArv/g/jD+nP29/aX+8/1v/WL90fww/Av8PfuH+tP5Z/pq+xD8cvxp/J386fwd/bv84/zN/If9bP19/cT+4/+IAFYBeQKbA1AEJwUkBhYH/AYuB+AGlAf+BxoItwgpCBcI2AdgB5wGAwZLBQYEhwMPA98CWALOAe4AhAA8AHn+ZP0j/a78jfvp+nL6OfpC+n75OvnP+QT6C/rX+fP5jfkP+UD4M/ii+Jb4U/hX+CL5PvkP+pn6HfuA+7H7E/zJ/OL9uP4AAOYAGwKsA/gD5gN8BCwGNwarBiMH9wblBmcGiQaWBkYGlQVsBYMF1wX/BLUDNQPtAukCTAIFAsACMAMeBAkFNwV+BJIDnQK3AY0Apv8H/z//h/8I/wT+k/1N/Cj7h/ot+az4s/gW+fj4BPmB+eP5Wfr++mz7kvsV+136b/rU+n77CvyB/H/95/0m/v3+6v6v/+H/X/9wABsBjwE0AtUCTAMGA9ECHwNMAyADvQJjAroChQJxAqgCIALlAsQCpgJhAxAEnAQXBQQF4QRaBCYEZwM5A3UDGAMZA2sDCgSbBGsFJgb3BTIFcgSzAxcDJAImAfkA5gCTADUAR//K/pv9avy/+4r6NPps+Qj5EvjU9zz4UPit+Jz4r/iD+MH5CPoX+sr6y/ou+n76Mfv++xH8oPwR/XH9Nf3Q/Jj8ofyf/LL8M/70//AAlAEAA7UCFANuAlwBDwHlAKAAYgCrAKz/qP9v/xj/FP/i/rz/MAB4AGwAff+U/8//IwAVAFcA1wDRADkBfwERAkAC1ALDAtkCUQOxA5YEBgUABg8GoAZKB8IHcQjPB1gHpAf7B/4H1QfhB00INwhWCIAI6gi+CHIIgQgKB+MFdwWtBOAEWAS+AtcBfQBa/rj8s/oZ+T/3nPb99K/00/Nh8wnzdPLH8ZbxbvF/8cPxPPFz8RfysPKo8qnySPPD9Or1m/dS+U77pPxW/Wb+NP+8/6sAGALwA9UEKwaOBjkHuwemB7cH/AcQCPYHnghPCc8JTQoEC9IK7wrzCg8K0An3CUkJ0wizCCQJqgi6CMwIrQi1CNkI0QjNCOkIrAdLBlAGogU4BfwErgNhA0cCpAJaAhwC6gHwAcIBBALAAbcBmgCY/7n+Vvz/+uL5xPiJ+E/35PZM9hT2fvXi9MP1IPZG9jb3Vffk9rX1avTm8znzgfOB85f0H/VM9mT4t/n8+q37Afx9/P38S/2w/UX+Z/48/gD+Z/57/jn/+//Q/3r/wv8CABoAkQB0Ad0BowLXA/kDQATNBFMEGwSCBE4EMAU2Br0GsgZsBtYGlgfhCIsJVgoCC/oK+wqJCh8LywtODCMMOwyXDMULZQyvDIAMSw0mDQcOeQ6zDkMOBQ7hDT0N1AutCq8ITAceBgIEnwGb/hn8ivmy9pr0svKk8EjvKO3H6yTqfelG6FHoaejX5zPoVOio6Gnp6uno6WLr++wL7krvDPCk8Sbz+fSP9uj4Z/uW/RIAbgJtBAIHTQjOCZMLjAxMDegNXg6mDm0OtQ1rDZUM3AsrCokIygZMBSYEtwOPA1UD0gKZAbgA7P/q/vP9JfyO++T6N/qm+Tb5Avns+LH4wfl1+pP7bfy1/Tf+tf41/9L/IQBtAaICxwOzBdwG3AeFCdAK2QtJDD8Nyg0JDl4OcQ9cD4QPtg9MD+cO/g4cDrwMngtICZ8GgATvAWH/mfxa+ov38vQI86jw0O5s7YPrqeq+6dbp3umU6cLqNesn7BXtX+1q7sLuvO8X8Rrx1fL+9Mr2ePnX+9j+awHZAuME8QbuCHsJgwo6C9gK5wq+C7YLDQt5CwcLdwlkCJ0IbAfFBfoDXQPyAusCZgLpAW8CvAETAd8AWgDA/7j+Vv+hAFgBAgJwAxwEFAVhBRQGcwY3B3wHKQinCEEI2AgLCcMImQiJCCAJZAiCCEkIlQfABr8FkQTIAzQCeAFtAJz/0f58/YT82PoP+l35V/mV+Rv5/vi2+Gz47fcR98f2N/aC9bT0oPPG8zD0ufRF9rz3ifmS+3P9Df9xAOMBGQNxA2oDnAMUA/oDfwTJBFQGtAbOBvkGyAYaBp8FTgQjA54Bnf/q/Rb80/ry+Er3fvRw8i3wne487ZjsCe2A7aTuke/K8bryjfPB9dT3Ofkc+zv9lv7D/7oBHgSpBaYIGwtjDqARGRVxFwwZMxpNG1kbNxuvG6MbWBt5Gm4ZXBgJF0YVNhOhEUUQgQ6TDO4KnQgKBp0DlQAP/kP7HPmw9qn0NfJx8G/vD+4F7bPtqu297QTuwu5W72PvM+8w8BrwQvCU8AnxA/LB8j/0y/SK9cD3OPn9+pP8yf00/5T/gP/WAHQBYAEYAl8D4AP4A3oElQTPBaIFowW6BeoEUgSUA4ACZQGJ/wL+e/xE+rz4UPc49kn1x/Tk9I31QfV49ZT0YfTj9O/z6vMr9WD1Z/bf9ij4Nvls+z/9rP/HAVUEJwffCA4LOQ0lD3IQlBHNEssTNhU5FwUYRhg0GfkY6xgHGP8X1BYKFW4TsxGOEOsOiQ1XDDcLswrRCSoI9QZCBcAEYQN9AgAC0ADc/x3/2f0C/Vb7ivmb+Cn3qvW/9ITyY/BN7sTs6eoJ6U7oqeZw5XLl5OSw5BblP+X05hzoruiJ6ovrse1v7zzxIfMj9dH31/r3/G7/9gCZApsE2QVXBxQIewjzB0YIXwcCBXQDSgL+AA0AYf9+/jj93vuT+kn5xvbs9DTzsPHn8U/xT/KR8pnzHvYC+ID5X/ub/SIADgJfBDYGigemCL8JUwxYDi4QDRJdFDsWmRcTGYIZrBruGi4b9hqoGYEZChjxFrMVFRRMEo4Qtg4JDqAMlAs+CqoI/QdvBxoISQi8B4MH8gYSBzQHbgYTBmgG5wUaBoEFiwUPBeEDrAJQAFX95vn19tLz6e9A7dHp9OUc42Hgdd1x2pXYZ9Zm1MfSA9I10bvRHdPS1CLXU9oH3TLhR+Sx6PLtF/KO9+H72f/AAnUE8wb7B+gJHQoxCgsK8ggeByMF6ALx/4H8dfi59AzxTe3k6prneeUQ5VHkJeUf53rpKOwn78DyBPcD+8j+OQNmB2ELMA+MEsMWixoGHrMhhSOkJfMmuydKJ0sm5iT6IbAf+x14HCYbmBn1F2AVCBPnECAP8w43DQgNIQ2CDacO5g9XEckTQRVoFjIYPhnSGRkaQxqzGVkY+hVwFX4TWhITEfoOtAwdCS8FWQGS/UD5uPRY77bqHeaD4mPev9qG1lHTK9DLzdHL6smEyLHHRcjUyQ3MIs+k09vXEdwY4mnnVO108fz1WvpA/coAcQPvBcoIkQoKCisKKgkwB9QFiwSaAcj+3/r09qnzfO+R7JLpu+YH5HvhTOBf3/HfbeFQ4gDkg+dg6zfxIfed/c4DVwqwDw0VzBrqHv8hYiT4JqEovikoKi4q6SgVKJcmlSR4Ir8fCB1LGRIXTxQzEcAOUQ2/C/8KiwpmC6YLJAzaDCQOchD9EUIUvxZ0GRUduh+JIiMlpScHKbMpMykDKBcmrSNMIcodyBoWF3gTyQ8ODD4IBwRR/5H6o/TU7xrr3ObY4o3fx9y42aXYrdej1zjYYNdz1q7Woda11yHZhdp93IvfaOKS5Hbm2egu6vrr5Ox57Yru1u467kPuAO5c7Qbt9OsF7C/raOpE6T3oQedN5kzktONS467jluU15/LpPO2A8Ab0SviI+6D/vQPvB/QMShE6FZcYMxs3HlYgrSFmIski0yMIJEQj0SJ0IaYfMh76G6QZLhh0FssUFxMeEtgSVRPhE7gUrRW3FyIaMxygHxYh1yIGJYclxidaKeYqxyw9La4tPC6kLDMrxSmNJ2skdyEKHQ4Z6xSMEDIN0AknBrkBiP0u+bHztu+f6+7nQuXA4ljgjd4Q3fjb9tuw27PZRNgT19fVP9ZI17/XntmG21bd495Y4fzirOPR4z7kmOUK55ToRulh6YDpoOh25rXlyOWG5cnkauOp4tbhTeDH3wjgy96B3wjgb+Gn45Tlluct6jrsYO7S8A307fh8/NwBNweoDDsR+RROGTUckR7wINwh4yLcIyQjdSFPIIMfdx7FHTQdKR0qHJYbVxstGu4ZpRq5GpIaGxuxG7kcxx1lH9Ig9SG5IuwigSN4JO4liihKKaQpYSkVKPInqybgJMcj8yHRHiIccxl+FrgSmA9fDJkJhwUIASb+2fnN9ZvyJu9R66zoxeQL4TTeptxf2zraEtlo1yXW4tQl1IvTE9Qj1JDVJtiq2indmd2P3mnhA+RL58zoDumz5yPmLeUm5H3kFeQR4yriDuFB34fdtdz52j3amdnq2gjdGuD24ezjA+WD5gnqsu3r8RP2xPnz/U4D0gjGDiQSvRUHGUIbTh6wIEkjEyUsJuQm7yUpJdkjaiJfIScgXB8qHlweJR7OHdIc1BvWGvcZaxreGn4beRzeHC8ebB7gHXAd8BtvGyUbEBxHHa4dMB9bHyEfUx5kHFEaYBhlF04VjxNxEi8Q+A4HDtsLogjPBB0B4f48/Wr6SfbX8NDrCudd5H7ggdw32DnVZ9SQ1CTWEtZI1RvT1tIW1unaSd9V4cvid+Qi6J7swe4F7rrrYugg517nW+jl6XfoRuYZ4+bePdtR2j3ZF9f+1UPVmNa02dXbgNuJ2hjb295V5dHslvP3+HL71P0aAiEGqQpgDdcOGBI/FjEbMB9RIT4hNB6IHJMcGR2hHsUf0h90Hygfsx77Hrse3B60HY0cBh0CHxsiDiW+JtQngSi/KBgqGivXK1ksdCzUK7grHiuGKlspqSYwIz8h2iDRIJcfRhzlGJoVGxN9EVkP2AwqCYQFtgKaAKr+8vpc9Jftvudv5djl4OUU5ErgRNzm2cTZEduo20/bzNjT13LZ2t3Y4B/hnN/Q3t3hwuYP6zPsQ+lK5E/gnd+139jfpODY31zd09q619TWndX00trP6M520tHXPdvP2wfbuNo83F/hMulf8Z/2C/lg+xr/gwTUCGELwg11EHwUzBnzIJQmeibTI9kgZB+iH4UhdCT3JNIkiCMaIsEiMyPTIjUgGx6DIIwk/ygkK5IqcCfFJUUlxiciKjIsSyxKKnQoRCfbJmclASJIHp4bsxsHHsEeLhscFSUNCAnTCFQJswlsBej/FPsu+On2aPNf7O7jgN1G3OTfduIt4GjZUdG6zHrOSNTS2WfcvNrs2PDb0OHG5rXnzuXM5DroWu8j9of3efKI6RvjpOCe4/rmYucz5VLgH9mI1JzUJtXt0u3PzM7j0GPVn9hC2NbVcNMQ1DnZAePa77/5xv0u/pz+sQJICc4QUBbbGbQc9SBbJMslECUwIn8fMB0wHboeZyBrIm8h6BvOFQUUFBeFHJ4fDx/VH2Mj4SboKI4pcis2LKEtkS5AMec0yzZaNJ4vFixuK3YsDC6oLrkrxScpJKUgwByWFsoQ1A0FDosOzgz7B8YAaPkQ88LtE+h74/Lezttb277dIN1/2EXRy8n9xobJTtFU2Xvd0Nu32BPZzt+556XqTen46efwAvsCAcH+WvWe6V/jX+Wy65PwIPL17V3mmNzn1W/TtdM91KnRLtEZ1g3cD92t16TPtcsaztzWjuOv7wn3TPj09tP28/mp/+EHdg92FlMbWh5wIIAheiCLHoAeLh+2IDMi3iI3IS4dSxh9E38SLBXDF88YNRiAFhEXuhcoGoMd1CAoJH8nyCg7LIcw+DOgNKs0mDWONz87eTymOnE24jCKLf8rtCp9Jfwc6RQPEIoPuQzvB8j/i/bm8GTs5eiX4v3ZadHczPLMkc9Sz3PLLcUyv/a9Z8NEzAHUhdWd0yrTf9g64eDnrOmt6ajtuvZaAW4G8gFQ94HuUuy58Eb3qfoD+oz0veuV4prd3tyc26fXldMo0nnVr9gh1h/Oa8W+wn3GztA/3Dvlg+mO6lXr0u0M8238ZAbPD7kVpRv6HzokxicjKFUmWCVLJVMmZieFKasnyyHEGTwU/xP1F5AaNBk4FeERFhDJEEwU+xfuGxMfHCEqJUUroS/uMvYyNjPjNtw6Gj/RQDw+STs5Oc06nD3YPPk3sy86JyshURvtFA4OOwZX/o/3CPER6tje0NJlym7JAc0Nz4fL0MMEu2O1KrXdvBvIndBx0jbSsNdP4JflhORe4ajjr+5i/SYJKQw7BI32wOop6ETtsfQZ+W/4pfIK6NLd3dh71w/VDtB3zR3Sdtu14EXdI9R8ynfGfczH2kjsmvjJ+dX25/d//BsCYgctDXQVphu2IokpTy/DMFormCOWH6chTidFK/YqEyWEHMUVAxTcFtwZeRjWE+oTxxa+Ga0buRxSHT4eeB+CIogopC9YM0k0NDT3NVQ4ETztPac9gTyeOvw5fz3+P209BjaFLUwpTCbZIiMcqBXVDWIFzf2E9zrxD+eT2vrRbc4czoXLJMadvpW2KbLesdC38L/nwzDCmsEkyDzSdted18vWYtug43PvefpQ/oP6PvHk60HuP/UT+k/8pfqX9afvN+rh6H7ouuQY3ofbJ+Cy5wLpL+Ll2JDSzM/Y0qHbnOfG7Y/uy+6h88j8gwKRBnEJJA6fFAkdzSfXMDAzPC54J6Il+SneMNg0GjS1LSMk2hw4G/AbRhrHE8oLOwifCeAMIQ6gDM8JOQeIBucKQRK9GA4cZhtpG80f2CitMeA3szjRNZE0YzatOwQ/1T00OGcysC47LVYq7SI/GkERBgo9BWz/ZfiF7qvj1Np82LrXTtb0zzvGbb0CuLO4Nb/WxZvGM8K+wB3GXM1q0fvQ9dGI1XDdbOfm8En0Ou9U51fll+oI9Dj6xvwU/FT3HPJZ8KDy7/LI7oTm9OPO50Hti+5L6/Hk/N2S12rZMuD95inmzeHP4eDpNPIS9kz58/uX/aQA1QirFZ8gayMQIOMdSCAXJtotATNCNA0wXCs0KlguQDHWLtAlVB3MGZQbsx5/HxId1xg5Fr8Xvhv+Hjge/hq2FhMXkRxcJXIs9SyeKWAlCiY0K20x0jPUMdMtlSuILB8v5S7zKS8jIR3GFyIUMRDtB6P8zfHB68LqZ+gl46PYjs0wxEy/XMALxLvG/sFfuz65Qr0owzHGsMeXySXOVNU93m7l2OTY3kvY9dgj4AnoOu5O8vvy3u/87NDwAvcM+9r3gvIx9Fz7+AAaAg8A9PvN9i3zS/TA+1AA1/1y9gn0F/cr+o38i/1a/ZH8ffwBAiALXxHGEHYM4wn2DHMT/xrXIRMjpR+IHMofVid9LL0s4SfpJO8jSCXtJ0kpfSesIkge1B72Ij0l/iGRHBwY8Ra3F+MbNB7YGzQVLg9uDl8SvhZQFtERfgynCmAN6RD3Ek4Rqg3bCXEJZQvUDW0NoQel/0X5OPfU+OT44/M4617kD+MO5sroMeeu4SbaF9P00JrUZtri2i/WGNJ30m/X7tsh3G7XGNHAztnRjdk14JLijd8l3BPd5OJ77Yn22fmH9zn1HfeC/iMFVgbzArv+mf03AIUE9gfOBpwB0vrd+OD8CwG1AKX7C/bm9An3pftnAVADUACv/av8kQF7CQYPtQ8QDVAMRhBGFx0eriBRIEceDx8TI44pDC4iLq4r8ym4K8AuBzEOMawtXii2JaElQiY9JdgfCxhIEKsM6AzGD7sPjwuNBRIB1P+VAZ8BHP9/+2z4vvfF+jz93/4F/u367/g0+i78Lf01+6L2BvIc8Jrx4vMe9ELx6+tX54TlUua250jnb+O23TnZcNeN15XWiNMY0eDP29G01IfX3dfp1UHTftJC1h3cieIv5/noDOpC7P7w5vVG+jH9NP+bAbwEtAhuC7ILYAnjCIoI6gn/CmMM6QxkCbkFcAb6CfYKAAmkBlgEGAOeAjwFlAmmC4MK+Ae+CQoNoQ9lEegR2xMsFfIVORl4HYcgMCBBHzwh6iT/J4kpNSlQKYgoVCbyJrEnCifiIXsbKBfEFaMVDxSaEYsMrQfVAsb/nf+E/dD56vS38sTzgvTE9fr1NPVV86bxGfQ899n4ZPd39sj4bPsx/SP+Sv2T+iX3+/Wp9uv47Pef9AzwPO2w6qXn5eOO33fbstcl1bfUHtQ50nHOQMtGy3bNv9Dc0+XWj9ux4HLlSevY8Nr0CPdC+jIAtAZxC9gNvw/vENcSpROWFRIZbhnKFjUT0BCXD9QNTAxiCsEHuAT+AyIEAwSMAvj/3/yb+1P9Pf/2AFwB3gF1BDEITw3nE8EZYx7HIfglHSt+L5cylTS0Nc01kzbnNkI2STT4LyosNii8JO8ijh8CGnYTqQ1YCJwDNAA6/er5CPUj8b3ucu5R7vzsw+y166/rfuy57iPzLPax+BH61/v6/ooBxQNLA+IB9gGsAjAChwFJ/9753POm7n3qhedZ41fel9i31PnPoswNyirJ7sgxxkrFl8Z4yA3KhstuzYTQltQf2lTgLueU7T3xuvUo+zICzwdjDHIRmhXKGJgb5h0rIVAitSHdHgsdiBz1GpsYFxP0DYsJmAVeAdT/VP32+or3uvQH9bf2Sffr98z3cvhy+4wADweYDXgTLRcmHHwgHiasK0kvqjGMM0w2ejlyPEw9szt2OvY2AzPLLaIoVCKCG7kUZQ6VCSoFSP93+aXyre0b66zoyuZW5LDg5N6B37vh2uXx6QftOPAa9aD7fQFUBsAILgkZCo4NqRB2E74SIhBADPUIwQXpAlj+9fd28HHo3eKd3bfYfdPSzZHJoMaAxM7D2cIlwijBsMCHwnbG/ck7ztfTo9gV3vHkNew69EL7+wBtB1MNTxMDGdEcdR7/Hsge/x3GHssd6hr+FV0QtAz1CggIdgUTAvn90/uu+uL5MfpU+q75Sfkv+pH7Bf1f/2QAeQMIBnYKhA+BFIUY/BzjIAsmIixFMiM1xzcXObg6qztmO9s55TfYMwYvbSpZJZEg6hpcFTIPyAhJA/b+7Pqk9lzxGu3h6QPobebP5h3nUud76DXrou8585/2Rvpk/sgDMQi1DDYQ/RCMEZARwBG+EXQP4QqHB8ICgfzC9Xrv8eh/4WzaidQpzxHKysUpwha+JruxuZq5yrqquyi9eL+jwknIg81W03La99/15oPuY/U5/F0Dpwr0EMAWYBs2IIUjiCWSJUYl7iN4ImMgLx6WGlsW2hC4C4IHpQMqALX86PiK9i/0HPMH88zyM/Sc9Ur33fpT/mgDVwjcDEgRaxatG1ggxiNbJqEo0yq3LGouJTFeMfcvZi1XK1wpTCZRIkAduxh1EusLfwdmA6n/y/rX93P1GfN18VTw3O/m7rvuq+9G8dT0efdk+LD61P2uAJkDKgaMCDQJswrVC1ANlg0tDigOzguaCXoGOwHn/Q75afMe7uHnA+NS3knZodM7z73LZMmCx1PFUcTxw1vEoMWux+3KRs+A0ijXltxx4Q/mZ+tG8dH1h/nZ/poEGAp4DowSWhUJGO4auhzRHboc/xslGroXiBQXEsQO+Aq6BjwDHP/h+yD6/fe09TT1YvWk9W/3tfg8+zv+MAL3BmELhA75Em8WkRnmG2Me4SBWIuEkWCY5J6wn7yePKJwo9CZZJOohSB4HG+EX+hSgEjQP+woWCA0GNgMaAFD9y/uZ+kv52/li+tX7G/30/k8CTAbZCGoLlA2VDy8TqhTfFGUW7Rd8GKsYwBj7F9IU1w/0CrUFAABi+tbzzO2e50bhINvE1VXQI8wiyATF+8GOwNK++75dvie/K8AAwgbFNckkzqbSYtde3H3iGuje7R70RfnV/lcEsAnFDp8T1Rd5G7Ed6R/QIHchXiGGIIcfhB1JGxEZ5hWqESEOvAoSB9oDgwDN/bf7DPpS+db4afho+EH71vy+/v0B2wTQBwMLWQ1tD/UQbBMzFlYYXxqOGk8aZRqKGRsYHRYkFWITVxFPEKoOCg0WDLEJmQdMBZcEFAPJAXIABwCx/yoB0QFDAZsBygGHA6gFZAhaCtoMfg/zEv8VfBhPGtwbOB1LHp8d8xthGncYzhSiEF0LLQbBAKL6vfT87Tvn4OHY277VqtBbywnHVMP2wAS/Tr49vq+/bcJxxBPJIs4K0wzXBdvY37XkFerR7pXzB/nV/T0Dhwf6C/8PfhOjFgcZphq1G2Yc6R1nHUIcUByOGlMZ4hf9FM4RWw/lC4UHPQU9Anb/iPxH+mP4IPdK9mH2lfbJ9ov2ePcW+Pz5zvwL/y8CdQRkB28JXwuXDLUOahB4EagRnxGSEAsP2g5/DxAPsQ5fDuQNlA0gDTUM6QtCCxMLQAr9CXcKxgpSCxEMxAu1DOcNKBBFEv8TlRZFGDobOx3PHRAfISDxH4AfPh6dG4oYWhT3D9EKZQXh/qj3FvE46p3iitvW1E3OEMkYxPi/qLw7uky4mbeotwW5J7xKwAvFQ8knzzfVoNvK4mrptO8U9ij9qwKmB/8LPxBgEzoWKhhzGbMa5xoXGysb/xnMGFoYiRYcFJQRWw4vC+MHewT/AM7+Gf2x+hf5v/cW9rT05PNh82PzlPM/9D71hPYg+JP6qP2fAIcEBAcWCQMKnAr5CwUM4goMC4wLvAqVCpcK8gnhCCsJHglbCS4KxgoLDOUO7xD0EtMVIRg1GnQcQh7tHxcgECBBIEEgpSF9I60kzyTpJQMnEyjQKGwpUSkOKTMoLyaCI6UfxxrQFjUSVguqA9z8kfXT7Ifk8ttG05LKNsP9vCe32LJNryuuxa2DrUKvlbJ5tpS7TMG8x3rOZdW/3MHjausJ8+v6UwAJBs0LXRHPFCkYEBs+HoUguSHFImcj6SKvIZ8g7h0NGlUW4REgDkEK+AUkAsH+MftJ+Of19/JD8OTtSuyB69Lq8ur56/ft3O9d8qv1wvjI+0X/pQHIA/kFsQl4DBcOwg4iD44OOw64DCYLOgqYCOQFAwWWBGAEvwQqBvgG3wiMC4gOaxHrFUwZ+RwuINMiHSQqJooojypwLE0uWi4hLtEv5TA4MbwwwDBsLictzCrDJpUhaRzTFtQOiQXX+1nxbeec3bfTsMlnwA24YLBeqkKm7aKsoU2hH6JCo0mmXquVsXS44L+1xxfRYtqa4w7tpvZ3/5kGJQ7CFKAZPh68Ie0kCShwKVcqrCsdLMoqnCiCJkwjeyB9Gx0XLBLoDVUIUwLH/e33kfOm7vXqaugf5eLiaOFM4cbiZOUu6SDtjfHu9bP6WABPBUYJ3QyVEBIT9BTYFTgV8BT4FLATvBBrDdMKDAeOBDQCPgC6/q79x/4iADgCuQR/B9kL7A43Ey4X7xtbH9wiJCaZKWMr1y1XL9EwPDJ5M2E0LzX3NIs0oDOSMRovQCxPKBEjkxyTFcMN6gQD+qbtRuIn1gbKQsBSt5+vmqmPpSqiO6C7oE6j5aWGqsywkrgHwaTI3tBX2Yri/uq68hP6WgCWBUAKyA1BETEU7xdBGwgeJx90IBki+CJNIzEjFyOhIJQdOhpVFhsRWgx8B2kC1vxZ94jx0e3n6cbm0OSP5L7ly+dY6s/u7/MZ+TL+vwTUCoUPRRTLFwgathx8HekdSx1GHDoa2hcGFcQR2A7kDG8LuAgsBtYEHwQMBFMGFAiXCeALiw6xEK8TxxXPF8gZBh1KHv8g/SKmJA0n+CgmKwEt1y3ILQ4tUyzsKmEpnCWGIQQcTBbIDo0F2Puh8BDldtkwzrrEmLoUs/Ssf6kyp2GnWamVrHix5LfhvkPG68101SbdFOW87GDynfeZ+nX+mQKzBOUGLAnVCscMaA4AEb0SXhSvFS8Wshc8GCQXlRXJE2UQOQxrBygC//wi+Cz0t++F7CHqLue45d/k1eWD6P3sOvGh9of8/QA7BrwKGA0wDwgSERNnEvYQzw1HC/QH7AP8AAr/g/2T/UT/UAFiBCUHVgu2EO4VlRrLHQkhdyNYJccmZycxJ3omAiRCIk8gvh4uHuMecCBFIuokfCjfKj0t0C69LvAt4SpiJZ0eixbcCwwAfPP55cjYzswnwa22pa7sqP+lDaZ/qLqtDLY7v1PJEdSz3Ynmwu7Z9I35ZP1L/hr+jfy0+v33KPae9LXz/vI49BL2avjR+wAAoAQMCWQMvg6bEP8Q6A4XDOcIDwM1/Sv2lvB06q3lZ+Nw4tjjB+eS60fxhPmUAcYJMRLXGDgfJCIQJGwjMCFPHiwZUBMQDDkFUv7g97rz4fCi7wPwGvI49Tn7VgH9B7sPkBaCHJoh5iUzKbwquiuDK+EqLSqFKJMnXyZuJnYogikPLLQuhjIbNYg38TiBORg55zYIMnYrASHZFA4HovZk5YPVa8WDuM6sFaTon/idRZ/MpEascLXHwVPOndmz5c7wePkmAbMFqgcDCIMGxwLN/bH3SvKi7bjqqOhT50zmDOhz61LvhPOk9qD4HPpK+sn4w/VL8h/tHudN4sfe39tS2vDa5d0P4v3odvEO+rID2wz+FUoeuCUMLEQvxC+5LaopuSPKG24SSgp1AQn5d/Pj73nuQe4s8ez02/lg/kgDZAlQDnQSVhbbGV0c9R2ZHzoh7yHXIwclcyemKrktTDH0Nng880IRSXpNWlF5U4dSJ07uSCtBmjUtKA4Zsgi591vnttbMx0S6Aa8ep/+hYJ9loBCkSao8sza+5Mkq1bPfC+rp86r9LQW0CYULAgzIC7ALZwkzBvsBnf3H+2D5Hfhk9pjzlPJH8oHwTe5O7CLoveMZ3hLZ/dS/0LnL/cddxubGlsntzBPR5dgw423uUfrlBT4RUBvgIwMq3S5LMeQwNC0kKSQlNh95GFkSZA1SCTEHtwVrBfEEhwUBBvMGrAfoCKMIBAd/BOUCHgI8AL7+nf5JAZ0F1wnWDzQYEiKVKz42fUDrSyRWel4RZn9seXDhcSVxsG1aZ3ZerVJoQxMxYRseBkjx2dk8w6uuNJwkjwqGAYAEgRGFAY2VmG+n+LcWyM3WleMS8Gf82wSeCJYJLgmHB8EGqwSHAW79ePpV+rn8C//D/4kATwCWAf4BQgDh/Hb2X+8X6FfiS9zL1DbOicpDynHMlc/T00zYzODH6APy1/s2A6QKgw6gFLEZfBz4HEMaPBfyFP0TmRJFD8oLpgrbCwgOtRAOEysTJhPGEbIRPhB6DasIIwNT/ub6uvlQ+MH2p/bs+eD/OQYCDN8RBxqKIpErZDaYQOpJilLwW2Rlc21BdPl0D3KRaklgKFHRPGYlcQvm78PVG73SqaWZZI7shwSHWIw5ltujQrPQxJPV0uON7/b43/9yAtYAMfus84ntcOb24Lvb5tcL2Dnant9p5hTtcvVd+5MAgQWCCogOIA/hDHIKogiSBxMEXP7m+Mz1xPNK8R3uGe0n7HDqOOkh6r/sQu6d7sTuo/DK9rn5o/ns+Sb+RASbCY4NnBDyE7MX8xrVHOcdkhvIF1kUQhG4EJ0POww4CTEIkQzzES4VIBaJFMIVXRY4F50V7hENDxYPPhOjGgwkMC3lNco+f0lrU1tZpFiKT/dBsTP0JPMVxQF47HnaIc5Qyb7GCcYbxunGR8xW1Rzh9ut+8Wn0Afg1AXkL5w+/C00Epvz+90bx8OQF1VPEQbpptci1xrd3u0rC6ctZ2NPmL/WL/g==\" type=\"audio/wav\" />\n",
       "                    Your browser does not support the audio element.\n",
       "                </audio>\n",
       "              "
      ],
      "text/plain": [
       "<IPython.lib.display.Audio object>"
      ]
     },
     "execution_count": 130,
     "metadata": {},
     "output_type": "execute_result"
    }
   ],
   "source": [
    "Audio(fn[1].cpu(), rate=16000)"
   ]
  },
  {
   "cell_type": "code",
   "execution_count": 19,
   "metadata": {},
   "outputs": [
    {
     "data": {
      "text/html": [
       "\n",
       "                <audio  controls=\"controls\" >\n",
       "                    <source src=\"data:audio/wav;base64,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\" type=\"audio/wav\" />\n",
       "                    Your browser does not support the audio element.\n",
       "                </audio>\n",
       "              "
      ],
      "text/plain": [
       "<IPython.lib.display.Audio object>"
      ]
     },
     "execution_count": 19,
     "metadata": {},
     "output_type": "execute_result"
    }
   ],
   "source": [
    "Audio(fn[2].cpu(), rate=16000)"
   ]
  },
  {
   "cell_type": "code",
   "execution_count": 20,
   "metadata": {},
   "outputs": [
    {
     "data": {
      "text/html": [
       "\n",
       "                <audio  controls=\"controls\" >\n",
       "                    <source src=\"data:audio/wav;base64,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\" type=\"audio/wav\" />\n",
       "                    Your browser does not support the audio element.\n",
       "                </audio>\n",
       "              "
      ],
      "text/plain": [
       "<IPython.lib.display.Audio object>"
      ]
     },
     "execution_count": 20,
     "metadata": {},
     "output_type": "execute_result"
    }
   ],
   "source": [
    "Audio(fn[3].cpu(), rate=16000)"
   ]
  },
  {
   "cell_type": "code",
   "execution_count": 116,
   "metadata": {},
   "outputs": [
    {
     "data": {
      "text/plain": [
       "torch.Size([206, 1, 6400])"
      ]
     },
     "execution_count": 116,
     "metadata": {},
     "output_type": "execute_result"
    }
   ],
   "source": [
    "fp.shape"
   ]
  },
  {
   "cell_type": "code",
   "execution_count": 117,
   "metadata": {},
   "outputs": [
    {
     "data": {
      "text/plain": [
       "0.1399318601384207"
      ]
     },
     "execution_count": 117,
     "metadata": {},
     "output_type": "execute_result"
    }
   ],
   "source": [
    "evaluate(m, dl, nnfn.binary_cross_entropy)"
   ]
  },
  {
   "cell_type": "code",
   "execution_count": 38,
   "metadata": {},
   "outputs": [
    {
     "data": {
      "text/plain": [
       "tensor([False,  True, False,  ..., False,  True,  True], device='cuda:0')"
      ]
     },
     "execution_count": 38,
     "metadata": {},
     "output_type": "execute_result"
    }
   ],
   "source": [
    "y_pred>0.5"
   ]
  },
  {
   "cell_type": "code",
   "execution_count": 119,
   "metadata": {},
   "outputs": [
    {
     "data": {
      "text/plain": [
       "tensor(0.9507, device='cuda:0')"
      ]
     },
     "execution_count": 119,
     "metadata": {},
     "output_type": "execute_result"
    }
   ],
   "source": [
    "tch.sum(y == (y_pred>0.5))/len(y)"
   ]
  },
  {
   "cell_type": "code",
   "execution_count": 120,
   "metadata": {},
   "outputs": [
    {
     "data": {
      "text/plain": [
       "tensor(0.9589, device='cuda:0')"
      ]
     },
     "execution_count": 120,
     "metadata": {},
     "output_type": "execute_result"
    }
   ],
   "source": [
    "tch.sum((y==1) & (y_pred>0.5))/tch.sum(y_pred>0.5)"
   ]
  },
  {
   "cell_type": "code",
   "execution_count": 121,
   "metadata": {},
   "outputs": [
    {
     "data": {
      "text/plain": [
       "tensor(0.0411, device='cuda:0')"
      ]
     },
     "execution_count": 121,
     "metadata": {},
     "output_type": "execute_result"
    }
   ],
   "source": [
    "tch.sum((y==0) & (y_pred>0.5))/tch.sum(y_pred>0.5)"
   ]
  },
  {
   "cell_type": "code",
   "execution_count": 122,
   "metadata": {},
   "outputs": [
    {
     "data": {
      "text/plain": [
       "tensor(0.0572, device='cuda:0')"
      ]
     },
     "execution_count": 122,
     "metadata": {},
     "output_type": "execute_result"
    }
   ],
   "source": [
    "tch.sum((y==1) & (y_pred<0.5))/tch.sum(y_pred<0.5)"
   ]
  },
  {
   "cell_type": "code",
   "execution_count": 45,
   "metadata": {},
   "outputs": [
    {
     "data": {
      "text/plain": [
       "tensor(0.9205, device='cuda:0')"
      ]
     },
     "execution_count": 45,
     "metadata": {},
     "output_type": "execute_result"
    }
   ],
   "source": [
    "tch.sum((y==0) & (y_pred<0.5))/tch.sum(y_pred<0.5)"
   ]
  },
  {
   "cell_type": "code",
   "execution_count": null,
   "metadata": {},
   "outputs": [],
   "source": []
  }
 ],
 "metadata": {
  "kernelspec": {
   "display_name": "venv",
   "language": "python",
   "name": "python3"
  },
  "language_info": {
   "codemirror_mode": {
    "name": "ipython",
    "version": 3
   },
   "file_extension": ".py",
   "mimetype": "text/x-python",
   "name": "python",
   "nbconvert_exporter": "python",
   "pygments_lexer": "ipython3",
   "version": "3.10.12"
  }
 },
 "nbformat": 4,
 "nbformat_minor": 2
}
