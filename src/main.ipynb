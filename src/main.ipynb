{
 "cells": [
  {
   "cell_type": "code",
   "execution_count": 1,
   "metadata": {},
   "outputs": [],
   "source": [
    "\n",
    "from typing import Callable, Tuple, TypeVar, cast, get_origin, get_args, Union, Any, Optional, Dict, List\n",
    "from components import CallChannel, ComponentStarter\n",
    "\n",
    "from components.two_wheels import TwoWheelsV3\n",
    "from components.logger import LoggerComponent\n",
    "from components.controller.bluetooth_controller import BlueToothCarControlSPP_V2\n",
    "from components.controller.bluetooth_SPP_server import start_bluetooth_server_v2\n",
    "from components.gyroscope.gyroscope import AngularSpeedControlV3\n",
    "from components.camera import Picamera2V2\n",
    "from data_collection.data_collection import LoggerSet\n",
    "from multiprocessing import Manager\n",
    "import numpy as np\n",
    "import datetime\n",
    "import RPi.GPIO as GPIO\n",
    "GPIO.setmode(GPIO.BOARD)\n",
    "\n",
    "# from components import numpy_sample_setup\n",
    "# r, w = numpy_sample_setup(['d', 'd'], [0, 0])\n",
    "\n",
    "%load_ext autoreload\n",
    "%autoreload 2"
   ]
  },
  {
   "cell_type": "code",
   "execution_count": 2,
   "metadata": {},
   "outputs": [],
   "source": [
    "loggerset = LoggerSet('../log/testsession'+str(datetime.datetime.now()), overwrite_ok=False)\n",
    "manager = Manager()"
   ]
  },
  {
   "cell_type": "code",
   "execution_count": 3,
   "metadata": {},
   "outputs": [
    {
     "name": "stdout",
     "output_type": "stream",
     "text": [
      "Making discoverable...\n",
      "Starting Serial Port Profile...\n",
      "NewConnection(/org/bluez/hci0/dev_C8_BD_4D_BA_4F_15, 89)\n"
     ]
    }
   ],
   "source": [
    "logger_starter = ComponentStarter(\n",
    "    LoggerComponent, \n",
    "    manager, \n",
    "    init_kwargs=dict(\n",
    "        loggerset = loggerset\n",
    "    ),\n",
    "    loop_intervals={'step': 1/100},\n",
    ")\n",
    "\n",
    "two_wheel_starter = ComponentStarter(\n",
    "    TwoWheelsV3, \n",
    "    manager, \n",
    "    init_kwargs=dict(\n",
    "        left_pin = 33, \n",
    "        right_pin = 32, \n",
    "        dir_pins = (16, 18), \n",
    "        name='TwoWheelsV3'\n",
    "    ),\n",
    "    loop_intervals={'step': 1/100},\n",
    "    instantiator = TwoWheelsV3.entry\n",
    "\n",
    ")\n",
    "\n",
    "angular_speed_control_starter = ComponentStarter(\n",
    "    AngularSpeedControlV3, \n",
    "    manager, \n",
    "    init_kwargs=dict(\n",
    "        i2c_address=0x68, \n",
    "        bus_num=1,\n",
    "        name='AngularSpeedControlV3'\n",
    "    ),\n",
    "    loop_intervals={'step': 1/100},\n",
    "    instantiator = AngularSpeedControlV3.entry\n",
    ")\n",
    "\n",
    "bluetooth_control_starter = ComponentStarter(\n",
    "    BlueToothCarControlSPP_V2, \n",
    "    manager, \n",
    "    init_kwargs={},\n",
    "    loop_intervals={'step': 1/100},\n",
    ")\n",
    "\n",
    "bt_ser_out, bt_ser = start_bluetooth_server_v2(manager)\n",
    "\n",
    "\n",
    "picamera_starter = ComponentStarter(\n",
    "    Picamera2V2, \n",
    "    manager, \n",
    "    init_kwargs=dict(\n",
    "        resolution=(114, 64), \n",
    "        framerate=30,\n",
    "        name='Picamera2V2'\n",
    "    ),\n",
    "    loop_intervals={'step': 1/30},\n",
    "    sample_setup_kwargs=dict(default_values=[np.zeros((64, 114, 3), dtype=np.uint8)])\n",
    ")"
   ]
  },
  {
   "cell_type": "code",
   "execution_count": 4,
   "metadata": {},
   "outputs": [],
   "source": [
    "\n",
    "two_wheel_starter.register_outgoing_rpc(\n",
    "    dict(log=logger_starter.incoming_rpcs['log'])\n",
    ")\n",
    "\n",
    "angular_speed_control_starter.register_outgoing_rpc(\n",
    "    dict(log=logger_starter.incoming_rpcs['log'])\n",
    ")\n",
    "\n",
    "\n",
    "bluetooth_control_starter.register_outgoing_rpc(\n",
    "    dict(log=logger_starter.incoming_rpcs['log'])\n",
    ")\n",
    "\n",
    "picamera_starter.register_outgoing_rpc(\n",
    "    dict(\n",
    "        log=logger_starter.incoming_rpcs['log'],\n",
    "        setup_video_saver=logger_starter.incoming_rpcs['setup_video_saver'],\n",
    "        save_video_frame=logger_starter.incoming_rpcs['save_video_frame']\n",
    "        )\n",
    ")\n",
    "\n",
    "two_wheel_starter.register_incoming_samples(\n",
    "    angular_speed_control_starter.outgoing_sample_readers\n",
    ")\n",
    "\n",
    "angular_speed_control_starter.register_incoming_samples(\n",
    "    bluetooth_control_starter.outgoing_sample_readers\n",
    ")\n",
    "\n",
    "\n",
    "bluetooth_control_starter.register_incoming_samples(\n",
    "    bt_ser_out\n",
    ")"
   ]
  },
  {
   "cell_type": "code",
   "execution_count": 5,
   "metadata": {},
   "outputs": [
    {
     "name": "stderr",
     "output_type": "stream",
     "text": [
      "/home/kawa/projects/car1/src/components/__init__.py:227: UserWarning: the real interval is >= ideal_interval\n",
      "  warnings.warn(\"the real interval is >= ideal_interval\")\n"
     ]
    },
    {
     "name": "stderr",
     "output_type": "stream",
     "text": [
      "/home/kawa/projects/car1/src/components/two_wheels.py:25: RuntimeWarning: This channel is already in use, continuing anyway.  Use GPIO.setwarnings(False) to disable warnings.\n",
      "  GPIO.setup(pin, GPIO.OUT) #type: ignore\n",
      "/home/kawa/projects/car1/src/components/two_wheels.py:79: RuntimeWarning: This channel is already in use, continuing anyway.  Use GPIO.setwarnings(False) to disable warnings.\n",
      "  GPIO.setup(dir_pins[0], GPIO.OUT) #type: ignore\n",
      "/home/kawa/projects/car1/src/components/two_wheels.py:80: RuntimeWarning: This channel is already in use, continuing anyway.  Use GPIO.setwarnings(False) to disable warnings.\n",
      "  GPIO.setup(dir_pins[1], GPIO.OUT) #type: ignore\n",
      "[3:02:23.936244554] [54324] \u001b[1;32m INFO \u001b[1;37mCamera \u001b[1;34mcamera_manager.cpp:313 \u001b[0mlibcamera v0.3.0+65-6ddd79b5-dirty (2024-06-24T11:13:49+10:00)\n",
      "[3:02:23.983733355] [54395] \u001b[1;33m WARN \u001b[1;37mRPiSdn \u001b[1;34msdn.cpp:40 \u001b[0mUsing legacy SDN tuning - please consider moving SDN inside rpi.denoise\n",
      "[3:02:23.987318752] [54395] \u001b[1;32m INFO \u001b[1;37mRPI \u001b[1;34mvc4.cpp:446 \u001b[0mRegistered camera /base/soc/i2c0mux/i2c@1/ov5647@36 to Unicam device /dev/media4 and ISP device /dev/media1\n",
      "[3:02:23.987406973] [54395] \u001b[1;32m INFO \u001b[1;37mRPI \u001b[1;34mpipeline_base.cpp:1104 \u001b[0mUsing configuration file '/usr/local/share/libcamera/pipeline/rpi/vc4/rpi_apps.yaml'\n",
      "[3:02:23.995411849] [54324] \u001b[1;32m INFO \u001b[1;37mCamera \u001b[1;34mcamera_manager.cpp:313 \u001b[0mlibcamera v0.3.0+65-6ddd79b5-dirty (2024-06-24T11:13:49+10:00)\n",
      "[3:02:24.031982072] [54417] \u001b[1;33m WARN \u001b[1;37mRPiSdn \u001b[1;34msdn.cpp:40 \u001b[0mUsing legacy SDN tuning - please consider moving SDN inside rpi.denoise\n",
      "[3:02:24.034857367] [54417] \u001b[1;32m INFO \u001b[1;37mRPI \u001b[1;34mvc4.cpp:446 \u001b[0mRegistered camera /base/soc/i2c0mux/i2c@1/ov5647@36 to Unicam device /dev/media4 and ISP device /dev/media1\n",
      "[3:02:24.034939033] [54417] \u001b[1;32m INFO \u001b[1;37mRPI \u001b[1;34mpipeline_base.cpp:1104 \u001b[0mUsing configuration file '/usr/local/share/libcamera/pipeline/rpi/vc4/rpi_apps.yaml'\n",
      "[3:02:24.070016867] [54324] \u001b[1;32m INFO \u001b[1;37mCamera \u001b[1;34mcamera.cpp:1183 \u001b[0mconfiguring streams: (0) 114x64-RGB888 (1) 1920x1080-SGRBG10_CSI2P\n",
      "[3:02:24.070814227] [54417] \u001b[1;32m INFO \u001b[1;37mRPI \u001b[1;34mvc4.cpp:621 \u001b[0mSensor: /base/soc/i2c0mux/i2c@1/ov5647@36 - Selected sensor format: 1920x1080-SGRBG10_1X10 - Selected unicam format: 1920x1080-pgAA\n",
      "/home/kawa/projects/car1/src/components/__init__.py:227: UserWarning: the real interval is >= ideal_interval\n",
      "  warnings.warn(\"the real interval is >= ideal_interval\")\n",
      "/home/kawa/projects/car1/src/components/__init__.py:227: UserWarning: the real interval is >= ideal_interval\n",
      "  warnings.warn(\"the real interval is >= ideal_interval\")\n"
     ]
    },
    {
     "name": "stdout",
     "output_type": "stream",
     "text": [
      "saving: BlueToothCarControlSPP_V2\n",
      "saving: TwoWheelsV3\n",
      "saving: Picamera2V2saving: Picamera2V2\n",
      "\n",
      "saving: AngularSpeedControlV3\n",
      "saving: BlueToothCarControlSPP_V2\n",
      "saving: TwoWheelsV3\n",
      "saving: Picamera2V2saving: Picamera2V2\n",
      "\n",
      "saving: AngularSpeedControlV3\n",
      "saving: BlueToothCarControlSPP_V2\n",
      "saving: TwoWheelsV3\n",
      "saving: Picamera2V2\n",
      "saving: Picamera2V2\n",
      "saving: AngularSpeedControlV3\n",
      "saving: BlueToothCarControlSPP_V2\n",
      "saving: TwoWheelsV3\n",
      "saving: Picamera2V2saving: Picamera2V2\n",
      "\n"
     ]
    },
    {
     "name": "stderr",
     "output_type": "stream",
     "text": [
      "/home/kawa/projects/car1/src/components/__init__.py:227: UserWarning: the real interval is >= ideal_interval\n",
      "  warnings.warn(\"the real interval is >= ideal_interval\")\n"
     ]
    },
    {
     "name": "stdout",
     "output_type": "stream",
     "text": [
      "saving: AngularSpeedControlV3\n",
      "saving: BlueToothCarControlSPP_V2\n",
      "saving: TwoWheelsV3\n",
      "saving: Picamera2V2saving: Picamera2V2\n",
      "\n",
      "saving: AngularSpeedControlV3\n",
      "saving: BlueToothCarControlSPP_V2\n",
      "saving: TwoWheelsV3\n",
      "saving: Picamera2V2saving: Picamera2V2\n",
      "\n",
      "saving: AngularSpeedControlV3\n",
      "saving: BlueToothCarControlSPP_V2\n",
      "saving: TwoWheelsV3\n",
      "saving: Picamera2V2saving: Picamera2V2\n",
      "\n",
      "saving: AngularSpeedControlV3\n",
      "saving: BlueToothCarControlSPP_V2\n",
      "saving: TwoWheelsV3\n",
      "saving: Picamera2V2saving: Picamera2V2\n",
      "\n",
      "saving: AngularSpeedControlV3\n",
      "saving: BlueToothCarControlSPP_V2\n",
      "saving: TwoWheelsV3\n",
      "saving: Picamera2V2\n",
      "saving: Picamera2V2\n",
      "saving: AngularSpeedControlV3\n",
      "saving: BlueToothCarControlSPP_V2\n",
      "saving: TwoWheelsV3\n",
      "saving: Picamera2V2saving: Picamera2V2\n",
      "\n",
      "saving: AngularSpeedControlV3\n",
      "saving: BlueToothCarControlSPP_V2\n",
      "saving: TwoWheelsV3\n",
      "saving: Picamera2V2saving: Picamera2V2\n",
      "\n",
      "saving: AngularSpeedControlV3\n",
      "saving: BlueToothCarControlSPP_V2\n",
      "saving: TwoWheelsV3\n",
      "saving: Picamera2V2\n",
      "saving: Picamera2V2\n",
      "saving: AngularSpeedControlV3\n",
      "saving: BlueToothCarControlSPP_V2\n",
      "saving: TwoWheelsV3\n",
      "saving: Picamera2V2saving: Picamera2V2\n",
      "\n",
      "saving: AngularSpeedControlV3\n",
      "saving: BlueToothCarControlSPP_V2\n",
      "saving: TwoWheelsV3\n",
      "saving: Picamera2V2saving: Picamera2V2\n",
      "\n",
      "saving: AngularSpeedControlV3\n",
      "saving: BlueToothCarControlSPP_V2\n",
      "saving: TwoWheelsV3\n",
      "saving: Picamera2V2saving: Picamera2V2\n",
      "\n",
      "saving: AngularSpeedControlV3\n",
      "saving: BlueToothCarControlSPP_V2\n",
      "saving: TwoWheelsV3\n",
      "saving: Picamera2V2saving: Picamera2V2\n",
      "\n",
      "saving: AngularSpeedControlV3\n",
      "saving: BlueToothCarControlSPP_V2\n",
      "saving: TwoWheelsV3\n",
      "saving: Picamera2V2saving: Picamera2V2\n",
      "\n",
      "saving: AngularSpeedControlV3\n",
      "saving: BlueToothCarControlSPP_V2\n",
      "saving: TwoWheelsV3\n",
      "saving: Picamera2V2\n",
      "saving: Picamera2V2\n",
      "saving: AngularSpeedControlV3\n",
      "saving: BlueToothCarControlSPP_V2\n",
      "saving: TwoWheelsV3\n",
      "saving: Picamera2V2saving: Picamera2V2\n",
      "\n",
      "saving: AngularSpeedControlV3\n",
      "saving: BlueToothCarControlSPP_V2\n",
      "saving: TwoWheelsV3\n",
      "saving: Picamera2V2saving: Picamera2V2\n",
      "\n",
      "saving: AngularSpeedControlV3\n",
      "saving: BlueToothCarControlSPP_V2\n",
      "saving: TwoWheelsV3\n",
      "saving: Picamera2V2saving: Picamera2V2\n",
      "\n",
      "saving: AngularSpeedControlV3\n",
      "saving: BlueToothCarControlSPP_V2\n",
      "saving: TwoWheelsV3\n",
      "saving: Picamera2V2saving: Picamera2V2\n",
      "\n",
      "saving: AngularSpeedControlV3\n",
      "saving: BlueToothCarControlSPP_V2\n",
      "saving: TwoWheelsV3\n",
      "saving: Picamera2V2saving: Picamera2V2\n",
      "\n",
      "saving: AngularSpeedControlV3\n",
      "saving: BlueToothCarControlSPP_V2\n",
      "saving: TwoWheelsV3\n",
      "saving: Picamera2V2saving: Picamera2V2\n",
      "\n",
      "saving: AngularSpeedControlV3\n",
      "saving: BlueToothCarControlSPP_V2\n",
      "saving: TwoWheelsV3\n",
      "saving: Picamera2V2saving: Picamera2V2\n",
      "\n",
      "saving: AngularSpeedControlV3\n",
      "saving: BlueToothCarControlSPP_V2\n",
      "saving: TwoWheelsV3\n",
      "saving: Picamera2V2saving: Picamera2V2\n",
      "\n",
      "saving: AngularSpeedControlV3\n",
      "saving: BlueToothCarControlSPP_V2\n",
      "saving: TwoWheelsV3\n",
      "saving: Picamera2V2saving: Picamera2V2\n",
      "\n",
      "saving: AngularSpeedControlV3\n",
      "saving: BlueToothCarControlSPP_V2\n",
      "saving: TwoWheelsV3\n",
      "saving: Picamera2V2\n",
      "saving: Picamera2V2\n",
      "saving: AngularSpeedControlV3\n",
      "saving: BlueToothCarControlSPP_V2\n",
      "saving: TwoWheelsV3\n",
      "saving: Picamera2V2saving: Picamera2V2\n",
      "\n",
      "saving: AngularSpeedControlV3\n",
      "saving: BlueToothCarControlSPP_V2\n",
      "saving: TwoWheelsV3\n",
      "saving: Picamera2V2saving: Picamera2V2\n",
      "\n",
      "saving: AngularSpeedControlV3\n",
      "saving: BlueToothCarControlSPP_V2\n",
      "saving: TwoWheelsV3\n",
      "saving: Picamera2V2\n",
      "saving: Picamera2V2\n",
      "saving: AngularSpeedControlV3\n",
      "saving: BlueToothCarControlSPP_V2\n",
      "saving: TwoWheelsV3\n",
      "saving: Picamera2V2saving: Picamera2V2\n",
      "\n",
      "saving: AngularSpeedControlV3\n",
      "saving: BlueToothCarControlSPP_V2\n",
      "saving: TwoWheelsV3\n",
      "saving: Picamera2V2saving: Picamera2V2\n",
      "\n",
      "saving: AngularSpeedControlV3\n",
      "saving: BlueToothCarControlSPP_V2\n",
      "saving: TwoWheelsV3\n",
      "saving: Picamera2V2\n",
      "saving: Picamera2V2\n",
      "saving: AngularSpeedControlV3\n",
      "saving: BlueToothCarControlSPP_V2\n",
      "saving: TwoWheelsV3\n",
      "saving: Picamera2V2\n",
      "saving: Picamera2V2\n",
      "saving: AngularSpeedControlV3\n",
      "saving: BlueToothCarControlSPP_V2\n",
      "saving: TwoWheelsV3\n",
      "saving: Picamera2V2\n",
      "saving: Picamera2V2\n",
      "saving: AngularSpeedControlV3\n",
      "saving: BlueToothCarControlSPP_V2\n",
      "saving: TwoWheelsV3\n",
      "saving: Picamera2V2saving: Picamera2V2\n",
      "\n",
      "saving: AngularSpeedControlV3\n",
      "saving: BlueToothCarControlSPP_V2\n",
      "saving: TwoWheelsV3\n",
      "saving: Picamera2V2saving: Picamera2V2\n",
      "\n",
      "saving: AngularSpeedControlV3\n",
      "saving: BlueToothCarControlSPP_V2\n",
      "saving: TwoWheelsV3\n",
      "saving: Picamera2V2saving: Picamera2V2\n",
      "\n",
      "saving: AngularSpeedControlV3\n",
      "saving: TwoWheelsV3\n",
      "saving: BlueToothCarControlSPP_V2\n",
      "saving: Picamera2V2\n",
      "saving: AngularSpeedControlV3\n",
      "saving: Picamera2V2\n",
      "saving: BlueToothCarControlSPP_V2\n",
      "saving: TwoWheelsV3\n",
      "saving: Picamera2V2saving: Picamera2V2\n",
      "\n",
      "saving: AngularSpeedControlV3\n",
      "saving: TwoWheelsV3\n",
      "saving: BlueToothCarControlSPP_V2\n",
      "saving: Picamera2V2saving: Picamera2V2\n",
      "\n",
      "saving: AngularSpeedControlV3\n",
      "saving: TwoWheelsV3\n",
      "saving: BlueToothCarControlSPP_V2\n",
      "saving: Picamera2V2saving: Picamera2V2\n",
      "\n",
      "saving: AngularSpeedControlV3\n",
      "saving: BlueToothCarControlSPP_V2\n",
      "saving: TwoWheelsV3\n",
      "saving: Picamera2V2saving: Picamera2V2\n",
      "\n",
      "saving: AngularSpeedControlV3\n",
      "saving: BlueToothCarControlSPP_V2\n",
      "saving: TwoWheelsV3\n",
      "saving: Picamera2V2\n",
      "saving: Picamera2V2\n",
      "saving: AngularSpeedControlV3\n",
      "saving: TwoWheelsV3\n",
      "saving: BlueToothCarControlSPP_V2\n",
      "saving: Picamera2V2saving: Picamera2V2\n",
      "\n",
      "saving: AngularSpeedControlV3\n",
      "saving: TwoWheelsV3\n",
      "saving: BlueToothCarControlSPP_V2\n",
      "saving: Picamera2V2\n",
      "saving: Picamera2V2\n",
      "saving: AngularSpeedControlV3\n",
      "saving: TwoWheelsV3\n",
      "saving: BlueToothCarControlSPP_V2\n",
      "saving: Picamera2V2saving: Picamera2V2\n",
      "\n",
      "saving: AngularSpeedControlV3\n",
      "saving: BlueToothCarControlSPP_V2\n",
      "saving: TwoWheelsV3\n",
      "saving: Picamera2V2saving: Picamera2V2\n",
      "\n",
      "saving: AngularSpeedControlV3\n",
      "saving: TwoWheelsV3\n",
      "saving: BlueToothCarControlSPP_V2\n",
      "saving: Picamera2V2saving: Picamera2V2\n",
      "\n",
      "saving: AngularSpeedControlV3\n",
      "saving: TwoWheelsV3\n",
      "saving: BlueToothCarControlSPP_V2\n",
      "saving: Picamera2V2saving: Picamera2V2\n",
      "\n",
      "saving: AngularSpeedControlV3\n",
      "saving: BlueToothCarControlSPP_V2\n",
      "saving: TwoWheelsV3\n",
      "saving: Picamera2V2saving: Picamera2V2\n",
      "\n",
      "saving: AngularSpeedControlV3\n",
      "saving: TwoWheelsV3\n",
      "saving: BlueToothCarControlSPP_V2\n",
      "saving: Picamera2V2saving: Picamera2V2\n",
      "\n",
      "saving: AngularSpeedControlV3\n",
      "saving: TwoWheelsV3\n",
      "saving: BlueToothCarControlSPP_V2\n",
      "saving: Picamera2V2saving: Picamera2V2\n",
      "\n",
      "saving: AngularSpeedControlV3\n",
      "saving: TwoWheelsV3\n",
      "saving: BlueToothCarControlSPP_V2\n",
      "saving: Picamera2V2saving: Picamera2V2\n",
      "\n",
      "saving: AngularSpeedControlV3\n",
      "saving: BlueToothCarControlSPP_V2\n",
      "saving: TwoWheelsV3\n",
      "saving: Picamera2V2saving: Picamera2V2\n",
      "\n",
      "saving: AngularSpeedControlV3\n",
      "saving: TwoWheelsV3\n",
      "saving: BlueToothCarControlSPP_V2\n",
      "saving: Picamera2V2saving: Picamera2V2\n",
      "\n",
      "saving: AngularSpeedControlV3\n",
      "saving: BlueToothCarControlSPP_V2\n",
      "saving: TwoWheelsV3\n",
      "saving: Picamera2V2saving: Picamera2V2\n",
      "\n",
      "saving: AngularSpeedControlV3\n",
      "saving: TwoWheelsV3\n",
      "saving: BlueToothCarControlSPP_V2\n",
      "saving: Picamera2V2saving: Picamera2V2\n",
      "\n",
      "saving: AngularSpeedControlV3\n",
      "saving: BlueToothCarControlSPP_V2\n",
      "saving: TwoWheelsV3\n",
      "saving: Picamera2V2saving: Picamera2V2\n",
      "\n",
      "saving: AngularSpeedControlV3\n",
      "saving: BlueToothCarControlSPP_V2\n",
      "saving: TwoWheelsV3\n",
      "saving: Picamera2V2saving: Picamera2V2\n",
      "\n",
      "saving: AngularSpeedControlV3\n",
      "saving: BlueToothCarControlSPP_V2\n",
      "saving: TwoWheelsV3\n",
      "saving: Picamera2V2\n",
      "saving: Picamera2V2\n",
      "saving: AngularSpeedControlV3\n",
      "saving: BlueToothCarControlSPP_V2\n",
      "saving: TwoWheelsV3\n",
      "saving: Picamera2V2saving: Picamera2V2\n",
      "\n",
      "saving: AngularSpeedControlV3\n",
      "saving: BlueToothCarControlSPP_V2\n",
      "saving: TwoWheelsV3\n",
      "saving: Picamera2V2saving: Picamera2V2\n",
      "\n",
      "saving: AngularSpeedControlV3\n",
      "saving: TwoWheelsV3\n",
      "saving: BlueToothCarControlSPP_V2\n",
      "saving: Picamera2V2saving: Picamera2V2\n",
      "\n",
      "saving: AngularSpeedControlV3\n",
      "saving: TwoWheelsV3\n",
      "saving: BlueToothCarControlSPP_V2\n",
      "saving: Picamera2V2saving: Picamera2V2\n",
      "\n",
      "saving: AngularSpeedControlV3\n",
      "saving: TwoWheelsV3\n",
      "saving: BlueToothCarControlSPP_V2\n",
      "saving: Picamera2V2saving: Picamera2V2\n",
      "\n",
      "saving: AngularSpeedControlV3\n",
      "saving: TwoWheelsV3\n",
      "saving: BlueToothCarControlSPP_V2\n",
      "saving: Picamera2V2saving: Picamera2V2\n",
      "\n",
      "saving: AngularSpeedControlV3\n",
      "saving: TwoWheelsV3\n",
      "saving: BlueToothCarControlSPP_V2\n",
      "saving: Picamera2V2saving: Picamera2V2\n",
      "\n",
      "saving: AngularSpeedControlV3\n",
      "saving: BlueToothCarControlSPP_V2\n",
      "saving: TwoWheelsV3\n",
      "saving: Picamera2V2saving: Picamera2V2\n",
      "\n",
      "saving: AngularSpeedControlV3\n",
      "saving: TwoWheelsV3\n",
      "saving: BlueToothCarControlSPP_V2\n",
      "saving: Picamera2V2saving: Picamera2V2\n",
      "\n",
      "saving: AngularSpeedControlV3\n",
      "saving: BlueToothCarControlSPP_V2\n",
      "saving: TwoWheelsV3\n",
      "saving: Picamera2V2saving: Picamera2V2\n",
      "\n",
      "saving: AngularSpeedControlV3\n",
      "saving: TwoWheelsV3\n",
      "saving: BlueToothCarControlSPP_V2\n",
      "saving: Picamera2V2saving: Picamera2V2\n",
      "\n",
      "saving: AngularSpeedControlV3\n",
      "saving: TwoWheelsV3\n",
      "saving: BlueToothCarControlSPP_V2\n",
      "saving: Picamera2V2saving: Picamera2V2\n",
      "\n",
      "saving: AngularSpeedControlV3\n",
      "saving: TwoWheelsV3\n",
      "saving: BlueToothCarControlSPP_V2\n",
      "saving: Picamera2V2saving: Picamera2V2\n",
      "\n",
      "saving: AngularSpeedControlV3\n",
      "saving: BlueToothCarControlSPP_V2\n",
      "saving: TwoWheelsV3\n",
      "saving: Picamera2V2saving: Picamera2V2\n",
      "\n",
      "saving: AngularSpeedControlV3\n",
      "saving: BlueToothCarControlSPP_V2\n",
      "saving: TwoWheelsV3\n",
      "saving: Picamera2V2saving: Picamera2V2\n",
      "\n",
      "saving: AngularSpeedControlV3\n",
      "saving: TwoWheelsV3\n",
      "saving: BlueToothCarControlSPP_V2\n",
      "saving: Picamera2V2saving: Picamera2V2\n",
      "\n",
      "saving: AngularSpeedControlV3\n",
      "saving: BlueToothCarControlSPP_V2\n",
      "saving: TwoWheelsV3\n",
      "saving: Picamera2V2saving: Picamera2V2\n",
      "\n",
      "saving: AngularSpeedControlV3\n",
      "saving: TwoWheelsV3\n",
      "saving: BlueToothCarControlSPP_V2\n",
      "saving: Picamera2V2saving: Picamera2V2\n",
      "\n",
      "saving: AngularSpeedControlV3\n",
      "saving: BlueToothCarControlSPP_V2\n",
      "saving: TwoWheelsV3\n",
      "saving: Picamera2V2saving: Picamera2V2\n",
      "\n",
      "saving: AngularSpeedControlV3\n",
      "saving: BlueToothCarControlSPP_V2\n",
      "saving: TwoWheelsV3\n",
      "saving: Picamera2V2saving: Picamera2V2\n",
      "\n",
      "saving: AngularSpeedControlV3\n",
      "saving: BlueToothCarControlSPP_V2\n",
      "saving: TwoWheelsV3\n",
      "saving: Picamera2V2\n",
      "saving: AngularSpeedControlV3\n",
      "saving: Picamera2V2\n",
      "saving: TwoWheelsV3\n",
      "saving: BlueToothCarControlSPP_V2\n",
      "saving: AngularSpeedControlV3\n",
      "saving: Picamera2V2\n",
      "saving: TwoWheelsV3\n",
      "saving: BlueToothCarControlSPP_V2\n",
      "saving: Picamera2V2saving: Picamera2V2\n",
      "\n",
      "saving: AngularSpeedControlV3\n",
      "saving: BlueToothCarControlSPP_V2\n",
      "saving: TwoWheelsV3\n",
      "saving: Picamera2V2saving: Picamera2V2\n",
      "\n",
      "saving: AngularSpeedControlV3\n",
      "saving: TwoWheelsV3\n",
      "saving: BlueToothCarControlSPP_V2\n",
      "saving: Picamera2V2saving: Picamera2V2\n",
      "\n",
      "saving: AngularSpeedControlV3\n",
      "saving: TwoWheelsV3\n",
      "saving: BlueToothCarControlSPP_V2\n",
      "saving: Picamera2V2saving: Picamera2V2\n",
      "\n",
      "saving: AngularSpeedControlV3\n",
      "saving: TwoWheelsV3\n",
      "saving: BlueToothCarControlSPP_V2\n",
      "saving: Picamera2V2saving: Picamera2V2\n",
      "\n",
      "saving: AngularSpeedControlV3\n",
      "saving: TwoWheelsV3\n",
      "saving: BlueToothCarControlSPP_V2\n",
      "saving: Picamera2V2saving: Picamera2V2\n",
      "\n",
      "saving: AngularSpeedControlV3\n",
      "saving: TwoWheelsV3\n",
      "saving: BlueToothCarControlSPP_V2\n",
      "saving: Picamera2V2saving: Picamera2V2\n",
      "\n",
      "saving: AngularSpeedControlV3\n",
      "saving: BlueToothCarControlSPP_V2\n",
      "saving: TwoWheelsV3\n",
      "saving: Picamera2V2saving: Picamera2V2\n",
      "\n",
      "saving: AngularSpeedControlV3\n",
      "saving: TwoWheelsV3\n",
      "saving: BlueToothCarControlSPP_V2\n",
      "saving: Picamera2V2saving: Picamera2V2\n",
      "\n",
      "saving: AngularSpeedControlV3\n",
      "saving: BlueToothCarControlSPP_V2\n",
      "saving: TwoWheelsV3\n",
      "saving: Picamera2V2saving: Picamera2V2\n",
      "\n",
      "saving: AngularSpeedControlV3\n",
      "saving: TwoWheelsV3\n",
      "saving: BlueToothCarControlSPP_V2\n",
      "saving: Picamera2V2saving: Picamera2V2\n",
      "\n",
      "saving: AngularSpeedControlV3\n",
      "saving: BlueToothCarControlSPP_V2\n",
      "saving: TwoWheelsV3\n",
      "saving: Picamera2V2saving: Picamera2V2\n",
      "\n",
      "saving: AngularSpeedControlV3\n",
      "saving: BlueToothCarControlSPP_V2\n",
      "saving: TwoWheelsV3\n",
      "saving: Picamera2V2saving: Picamera2V2\n",
      "\n",
      "saving: AngularSpeedControlV3\n",
      "saving: TwoWheelsV3\n",
      "saving: BlueToothCarControlSPP_V2\n",
      "saving: Picamera2V2saving: Picamera2V2\n",
      "\n",
      "saving: AngularSpeedControlV3\n",
      "saving: TwoWheelsV3\n",
      "saving: BlueToothCarControlSPP_V2\n",
      "saving: Picamera2V2saving: Picamera2V2\n",
      "\n",
      "saving: AngularSpeedControlV3\n",
      "saving: BlueToothCarControlSPP_V2\n",
      "saving: TwoWheelsV3\n",
      "saving: Picamera2V2saving: Picamera2V2\n",
      "\n",
      "saving: AngularSpeedControlV3\n",
      "saving: BlueToothCarControlSPP_V2\n",
      "saving: TwoWheelsV3\n",
      "saving: Picamera2V2saving: Picamera2V2\n",
      "\n",
      "saving: AngularSpeedControlV3\n",
      "saving: BlueToothCarControlSPP_V2\n",
      "saving: TwoWheelsV3\n",
      "saving: Picamera2V2saving: Picamera2V2\n",
      "\n",
      "saving: AngularSpeedControlV3\n",
      "saving: TwoWheelsV3\n",
      "saving: BlueToothCarControlSPP_V2\n",
      "saving: Picamera2V2saving: Picamera2V2\n",
      "\n",
      "saving: AngularSpeedControlV3\n",
      "saving: BlueToothCarControlSPP_V2\n",
      "saving: TwoWheelsV3\n",
      "saving: Picamera2V2\n",
      "saving: Picamera2V2\n",
      "saving: AngularSpeedControlV3\n",
      "saving: BlueToothCarControlSPP_V2\n",
      "saving: TwoWheelsV3\n",
      "saving: Picamera2V2saving: Picamera2V2\n",
      "\n",
      "saving: AngularSpeedControlV3\n",
      "saving: TwoWheelsV3\n",
      "saving: BlueToothCarControlSPP_V2\n",
      "saving: Picamera2V2\n",
      "saving: Picamera2V2\n",
      "saving: AngularSpeedControlV3\n",
      "saving: TwoWheelsV3\n",
      "saving: BlueToothCarControlSPP_V2\n",
      "saving: Picamera2V2saving: Picamera2V2\n",
      "\n",
      "saving: AngularSpeedControlV3\n",
      "saving: TwoWheelsV3\n",
      "saving: BlueToothCarControlSPP_V2\n",
      "saving: Picamera2V2saving: Picamera2V2\n",
      "\n",
      "saving: AngularSpeedControlV3\n",
      "saving: BlueToothCarControlSPP_V2\n",
      "saving: TwoWheelsV3\n",
      "saving: Picamera2V2saving: Picamera2V2\n",
      "\n",
      "saving: AngularSpeedControlV3\n",
      "saving: BlueToothCarControlSPP_V2\n",
      "saving: TwoWheelsV3\n",
      "saving: Picamera2V2\n",
      "saving: Picamera2V2\n",
      "saving: AngularSpeedControlV3\n",
      "saving: BlueToothCarControlSPP_V2\n",
      "saving: TwoWheelsV3\n",
      "saving: Picamera2V2saving: Picamera2V2\n",
      "\n",
      "saving: AngularSpeedControlV3\n",
      "saving: BlueToothCarControlSPP_V2\n",
      "saving: TwoWheelsV3\n",
      "saving: Picamera2V2saving: Picamera2V2\n",
      "\n",
      "saving: AngularSpeedControlV3\n",
      "saving: TwoWheelsV3\n",
      "saving: BlueToothCarControlSPP_V2\n",
      "saving: Picamera2V2saving: Picamera2V2\n",
      "\n",
      "saving: AngularSpeedControlV3\n",
      "saving: BlueToothCarControlSPP_V2\n",
      "saving: TwoWheelsV3\n",
      "saving: Picamera2V2\n",
      "saving: Picamera2V2\n",
      "saving: AngularSpeedControlV3\n",
      "saving: TwoWheelsV3\n",
      "saving: BlueToothCarControlSPP_V2\n",
      "saving: Picamera2V2saving: Picamera2V2\n",
      "\n",
      "saving: AngularSpeedControlV3\n",
      "saving: TwoWheelsV3\n",
      "saving: BlueToothCarControlSPP_V2\n",
      "saving: Picamera2V2saving: Picamera2V2\n",
      "\n",
      "saving: AngularSpeedControlV3\n",
      "saving: BlueToothCarControlSPP_V2\n",
      "saving: TwoWheelsV3\n",
      "saving: Picamera2V2saving: Picamera2V2\n",
      "\n",
      "saving: AngularSpeedControlV3\n",
      "saving: TwoWheelsV3\n",
      "saving: BlueToothCarControlSPP_V2\n",
      "saving: Picamera2V2saving: Picamera2V2\n",
      "\n",
      "saving: AngularSpeedControlV3\n",
      "saving: BlueToothCarControlSPP_V2\n",
      "saving: TwoWheelsV3\n",
      "saving: Picamera2V2\n",
      "saving: Picamera2V2\n",
      "saving: AngularSpeedControlV3\n",
      "saving: TwoWheelsV3\n",
      "saving: BlueToothCarControlSPP_V2\n",
      "saving: Picamera2V2saving: Picamera2V2\n",
      "\n",
      "saving: AngularSpeedControlV3\n",
      "saving: TwoWheelsV3\n",
      "saving: BlueToothCarControlSPP_V2\n",
      "saving: Picamera2V2saving: Picamera2V2\n",
      "\n",
      "saving: AngularSpeedControlV3\n",
      "saving: BlueToothCarControlSPP_V2\n",
      "saving: TwoWheelsV3\n",
      "saving: Picamera2V2saving: Picamera2V2\n",
      "\n",
      "saving: AngularSpeedControlV3\n",
      "saving: BlueToothCarControlSPP_V2\n",
      "saving: TwoWheelsV3\n",
      "saving: Picamera2V2saving: Picamera2V2\n",
      "\n",
      "saving: AngularSpeedControlV3\n",
      "saving: BlueToothCarControlSPP_V2\n",
      "saving: TwoWheelsV3\n",
      "saving: Picamera2V2saving: Picamera2V2\n",
      "\n",
      "saving: AngularSpeedControlV3\n",
      "saving: TwoWheelsV3\n",
      "saving: BlueToothCarControlSPP_V2\n",
      "saving: Picamera2V2saving: Picamera2V2\n",
      "\n",
      "saving: AngularSpeedControlV3\n",
      "saving: BlueToothCarControlSPP_V2\n",
      "saving: TwoWheelsV3\n",
      "saving: Picamera2V2saving: Picamera2V2\n",
      "\n",
      "saving: AngularSpeedControlV3\n",
      "saving: Picamera2V2saving: BlueToothCarControlSPP_V2\n",
      "\n",
      "saving: TwoWheelsV3\n",
      "saving: AngularSpeedControlV3\n",
      "saving: Picamera2V2\n",
      "saving: BlueToothCarControlSPP_V2\n",
      "saving: TwoWheelsV3\n",
      "saving: Picamera2V2saving: Picamera2V2\n",
      "\n",
      "saving: AngularSpeedControlV3\n",
      "saving: BlueToothCarControlSPP_V2\n",
      "saving: TwoWheelsV3\n"
     ]
    }
   ],
   "source": [
    "bluetooth_control_starter.start()\n",
    "logger_starter.start()\n",
    "two_wheel_starter.start()\n",
    "angular_speed_control_starter.start()\n",
    "picamera_starter.start()"
   ]
  },
  {
   "cell_type": "code",
   "execution_count": 6,
   "metadata": {},
   "outputs": [],
   "source": [
    "bt_ser.terminate()\n",
    "bluetooth_control_starter.process.terminate()\n",
    "logger_starter.process.terminate()\n",
    "two_wheel_starter.process.terminate()\n",
    "angular_speed_control_starter.process.terminate()\n",
    "picamera_starter.process.terminate()"
   ]
  },
  {
   "cell_type": "code",
   "execution_count": 20,
   "metadata": {},
   "outputs": [],
   "source": [
    "picamera_starter.process.terminate()"
   ]
  },
  {
   "cell_type": "code",
   "execution_count": 21,
   "metadata": {},
   "outputs": [],
   "source": [
    "\n",
    "picamera_starter = ComponentStarter(\n",
    "    Picamera2V2, \n",
    "    manager, \n",
    "    init_kwargs=dict(\n",
    "        resolution=(114, 64), \n",
    "        framerate=30,\n",
    "        name='Picamera2V2'\n",
    "    ),\n",
    "    loop_intervals={'step': 1/30},\n",
    "    sample_setup_kwargs=dict(default_values=[np.zeros((64, 114, 3), dtype=np.uint8)])\n",
    ")\n"
   ]
  },
  {
   "cell_type": "code",
   "execution_count": 22,
   "metadata": {},
   "outputs": [],
   "source": [
    "picamera_starter.register_outgoing_rpc(\n",
    "    dict(\n",
    "        log=logger_starter.incoming_rpcs['log'],\n",
    "        setup_video_saver=logger_starter.incoming_rpcs['setup_video_saver'],\n",
    "        save_video_frame=logger_starter.incoming_rpcs['save_video_frame']\n",
    "        )\n",
    ")"
   ]
  },
  {
   "cell_type": "code",
   "execution_count": 23,
   "metadata": {},
   "outputs": [
    {
     "name": "stderr",
     "output_type": "stream",
     "text": [
      "[2:59:13.169173774] [53338] \u001b[1;32m INFO \u001b[1;37mCamera \u001b[1;34mcamera_manager.cpp:313 \u001b[0mlibcamera v0.3.0+65-6ddd79b5-dirty (2024-06-24T11:13:49+10:00)\n",
      "[2:59:13.204652300] [53352] \u001b[1;33m WARN \u001b[1;37mRPiSdn \u001b[1;34msdn.cpp:40 \u001b[0mUsing legacy SDN tuning - please consider moving SDN inside rpi.denoise\n",
      "[2:59:13.207294058] [53352] \u001b[1;32m INFO \u001b[1;37mRPI \u001b[1;34mvc4.cpp:446 \u001b[0mRegistered camera /base/soc/i2c0mux/i2c@1/ov5647@36 to Unicam device /dev/media4 and ISP device /dev/media1\n",
      "[2:59:13.207363335] [53352] \u001b[1;32m INFO \u001b[1;37mRPI \u001b[1;34mpipeline_base.cpp:1104 \u001b[0mUsing configuration file '/usr/local/share/libcamera/pipeline/rpi/vc4/rpi_apps.yaml'\n",
      "[2:59:13.213801576] [53338] \u001b[1;32m INFO \u001b[1;37mCamera \u001b[1;34mcamera_manager.cpp:313 \u001b[0mlibcamera v0.3.0+65-6ddd79b5-dirty (2024-06-24T11:13:49+10:00)\n",
      "[2:59:13.241835431] [53355] \u001b[1;33m WARN \u001b[1;37mRPiSdn \u001b[1;34msdn.cpp:40 \u001b[0mUsing legacy SDN tuning - please consider moving SDN inside rpi.denoise\n",
      "[2:59:13.244569114] [53355] \u001b[1;32m INFO \u001b[1;37mRPI \u001b[1;34mvc4.cpp:446 \u001b[0mRegistered camera /base/soc/i2c0mux/i2c@1/ov5647@36 to Unicam device /dev/media4 and ISP device /dev/media1\n",
      "[2:59:13.244639909] [53355] \u001b[1;32m INFO \u001b[1;37mRPI \u001b[1;34mpipeline_base.cpp:1104 \u001b[0mUsing configuration file '/usr/local/share/libcamera/pipeline/rpi/vc4/rpi_apps.yaml'\n",
      "[2:59:13.266593538] [53338] \u001b[1;32m INFO \u001b[1;37mCamera \u001b[1;34mcamera.cpp:1183 \u001b[0mconfiguring streams: (0) 114x64-RGB888 (1) 1920x1080-SGRBG10_CSI2P\n",
      "[2:59:13.267094123] [53355] \u001b[1;32m INFO \u001b[1;37mRPI \u001b[1;34mvc4.cpp:621 \u001b[0mSensor: /base/soc/i2c0mux/i2c@1/ov5647@36 - Selected sensor format: 1920x1080-SGRBG10_1X10 - Selected unicam format: 1920x1080-pgAA\n",
      "/home/kawa/projects/car1/src/components/__init__.py:227: UserWarning: the real interval is >= ideal_interval\n",
      "  warnings.warn(\"the real interval is >= ideal_interval\")\n"
     ]
    }
   ],
   "source": [
    "picamera_starter.start()"
   ]
  },
  {
   "cell_type": "code",
   "execution_count": 39,
   "metadata": {},
   "outputs": [
    {
     "data": {
      "application/vnd.plotly.v1+json": {
       "config": {
        "plotlyServerURL": "https://plot.ly"
       },
       "data": [
        {
         "hovertemplate": "x: %{x}<br>y: %{y}<extra></extra>",
         "name": "0",
         "source": "data:image/png;base64,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",
         "type": "image",
         "xaxis": "x",
         "yaxis": "y"
        }
       ],
       "layout": {
        "margin": {
         "t": 60
        },
        "template": {
         "data": {
          "bar": [
           {
            "error_x": {
             "color": "#2a3f5f"
            },
            "error_y": {
             "color": "#2a3f5f"
            },
            "marker": {
             "line": {
              "color": "#E5ECF6",
              "width": 0.5
             },
             "pattern": {
              "fillmode": "overlay",
              "size": 10,
              "solidity": 0.2
             }
            },
            "type": "bar"
           }
          ],
          "barpolar": [
           {
            "marker": {
             "line": {
              "color": "#E5ECF6",
              "width": 0.5
             },
             "pattern": {
              "fillmode": "overlay",
              "size": 10,
              "solidity": 0.2
             }
            },
            "type": "barpolar"
           }
          ],
          "carpet": [
           {
            "aaxis": {
             "endlinecolor": "#2a3f5f",
             "gridcolor": "white",
             "linecolor": "white",
             "minorgridcolor": "white",
             "startlinecolor": "#2a3f5f"
            },
            "baxis": {
             "endlinecolor": "#2a3f5f",
             "gridcolor": "white",
             "linecolor": "white",
             "minorgridcolor": "white",
             "startlinecolor": "#2a3f5f"
            },
            "type": "carpet"
           }
          ],
          "choropleth": [
           {
            "colorbar": {
             "outlinewidth": 0,
             "ticks": ""
            },
            "type": "choropleth"
           }
          ],
          "contour": [
           {
            "colorbar": {
             "outlinewidth": 0,
             "ticks": ""
            },
            "colorscale": [
             [
              0,
              "#0d0887"
             ],
             [
              0.1111111111111111,
              "#46039f"
             ],
             [
              0.2222222222222222,
              "#7201a8"
             ],
             [
              0.3333333333333333,
              "#9c179e"
             ],
             [
              0.4444444444444444,
              "#bd3786"
             ],
             [
              0.5555555555555556,
              "#d8576b"
             ],
             [
              0.6666666666666666,
              "#ed7953"
             ],
             [
              0.7777777777777778,
              "#fb9f3a"
             ],
             [
              0.8888888888888888,
              "#fdca26"
             ],
             [
              1,
              "#f0f921"
             ]
            ],
            "type": "contour"
           }
          ],
          "contourcarpet": [
           {
            "colorbar": {
             "outlinewidth": 0,
             "ticks": ""
            },
            "type": "contourcarpet"
           }
          ],
          "heatmap": [
           {
            "colorbar": {
             "outlinewidth": 0,
             "ticks": ""
            },
            "colorscale": [
             [
              0,
              "#0d0887"
             ],
             [
              0.1111111111111111,
              "#46039f"
             ],
             [
              0.2222222222222222,
              "#7201a8"
             ],
             [
              0.3333333333333333,
              "#9c179e"
             ],
             [
              0.4444444444444444,
              "#bd3786"
             ],
             [
              0.5555555555555556,
              "#d8576b"
             ],
             [
              0.6666666666666666,
              "#ed7953"
             ],
             [
              0.7777777777777778,
              "#fb9f3a"
             ],
             [
              0.8888888888888888,
              "#fdca26"
             ],
             [
              1,
              "#f0f921"
             ]
            ],
            "type": "heatmap"
           }
          ],
          "heatmapgl": [
           {
            "colorbar": {
             "outlinewidth": 0,
             "ticks": ""
            },
            "colorscale": [
             [
              0,
              "#0d0887"
             ],
             [
              0.1111111111111111,
              "#46039f"
             ],
             [
              0.2222222222222222,
              "#7201a8"
             ],
             [
              0.3333333333333333,
              "#9c179e"
             ],
             [
              0.4444444444444444,
              "#bd3786"
             ],
             [
              0.5555555555555556,
              "#d8576b"
             ],
             [
              0.6666666666666666,
              "#ed7953"
             ],
             [
              0.7777777777777778,
              "#fb9f3a"
             ],
             [
              0.8888888888888888,
              "#fdca26"
             ],
             [
              1,
              "#f0f921"
             ]
            ],
            "type": "heatmapgl"
           }
          ],
          "histogram": [
           {
            "marker": {
             "pattern": {
              "fillmode": "overlay",
              "size": 10,
              "solidity": 0.2
             }
            },
            "type": "histogram"
           }
          ],
          "histogram2d": [
           {
            "colorbar": {
             "outlinewidth": 0,
             "ticks": ""
            },
            "colorscale": [
             [
              0,
              "#0d0887"
             ],
             [
              0.1111111111111111,
              "#46039f"
             ],
             [
              0.2222222222222222,
              "#7201a8"
             ],
             [
              0.3333333333333333,
              "#9c179e"
             ],
             [
              0.4444444444444444,
              "#bd3786"
             ],
             [
              0.5555555555555556,
              "#d8576b"
             ],
             [
              0.6666666666666666,
              "#ed7953"
             ],
             [
              0.7777777777777778,
              "#fb9f3a"
             ],
             [
              0.8888888888888888,
              "#fdca26"
             ],
             [
              1,
              "#f0f921"
             ]
            ],
            "type": "histogram2d"
           }
          ],
          "histogram2dcontour": [
           {
            "colorbar": {
             "outlinewidth": 0,
             "ticks": ""
            },
            "colorscale": [
             [
              0,
              "#0d0887"
             ],
             [
              0.1111111111111111,
              "#46039f"
             ],
             [
              0.2222222222222222,
              "#7201a8"
             ],
             [
              0.3333333333333333,
              "#9c179e"
             ],
             [
              0.4444444444444444,
              "#bd3786"
             ],
             [
              0.5555555555555556,
              "#d8576b"
             ],
             [
              0.6666666666666666,
              "#ed7953"
             ],
             [
              0.7777777777777778,
              "#fb9f3a"
             ],
             [
              0.8888888888888888,
              "#fdca26"
             ],
             [
              1,
              "#f0f921"
             ]
            ],
            "type": "histogram2dcontour"
           }
          ],
          "mesh3d": [
           {
            "colorbar": {
             "outlinewidth": 0,
             "ticks": ""
            },
            "type": "mesh3d"
           }
          ],
          "parcoords": [
           {
            "line": {
             "colorbar": {
              "outlinewidth": 0,
              "ticks": ""
             }
            },
            "type": "parcoords"
           }
          ],
          "pie": [
           {
            "automargin": true,
            "type": "pie"
           }
          ],
          "scatter": [
           {
            "fillpattern": {
             "fillmode": "overlay",
             "size": 10,
             "solidity": 0.2
            },
            "type": "scatter"
           }
          ],
          "scatter3d": [
           {
            "line": {
             "colorbar": {
              "outlinewidth": 0,
              "ticks": ""
             }
            },
            "marker": {
             "colorbar": {
              "outlinewidth": 0,
              "ticks": ""
             }
            },
            "type": "scatter3d"
           }
          ],
          "scattercarpet": [
           {
            "marker": {
             "colorbar": {
              "outlinewidth": 0,
              "ticks": ""
             }
            },
            "type": "scattercarpet"
           }
          ],
          "scattergeo": [
           {
            "marker": {
             "colorbar": {
              "outlinewidth": 0,
              "ticks": ""
             }
            },
            "type": "scattergeo"
           }
          ],
          "scattergl": [
           {
            "marker": {
             "colorbar": {
              "outlinewidth": 0,
              "ticks": ""
             }
            },
            "type": "scattergl"
           }
          ],
          "scattermapbox": [
           {
            "marker": {
             "colorbar": {
              "outlinewidth": 0,
              "ticks": ""
             }
            },
            "type": "scattermapbox"
           }
          ],
          "scatterpolar": [
           {
            "marker": {
             "colorbar": {
              "outlinewidth": 0,
              "ticks": ""
             }
            },
            "type": "scatterpolar"
           }
          ],
          "scatterpolargl": [
           {
            "marker": {
             "colorbar": {
              "outlinewidth": 0,
              "ticks": ""
             }
            },
            "type": "scatterpolargl"
           }
          ],
          "scatterternary": [
           {
            "marker": {
             "colorbar": {
              "outlinewidth": 0,
              "ticks": ""
             }
            },
            "type": "scatterternary"
           }
          ],
          "surface": [
           {
            "colorbar": {
             "outlinewidth": 0,
             "ticks": ""
            },
            "colorscale": [
             [
              0,
              "#0d0887"
             ],
             [
              0.1111111111111111,
              "#46039f"
             ],
             [
              0.2222222222222222,
              "#7201a8"
             ],
             [
              0.3333333333333333,
              "#9c179e"
             ],
             [
              0.4444444444444444,
              "#bd3786"
             ],
             [
              0.5555555555555556,
              "#d8576b"
             ],
             [
              0.6666666666666666,
              "#ed7953"
             ],
             [
              0.7777777777777778,
              "#fb9f3a"
             ],
             [
              0.8888888888888888,
              "#fdca26"
             ],
             [
              1,
              "#f0f921"
             ]
            ],
            "type": "surface"
           }
          ],
          "table": [
           {
            "cells": {
             "fill": {
              "color": "#EBF0F8"
             },
             "line": {
              "color": "white"
             }
            },
            "header": {
             "fill": {
              "color": "#C8D4E3"
             },
             "line": {
              "color": "white"
             }
            },
            "type": "table"
           }
          ]
         },
         "layout": {
          "annotationdefaults": {
           "arrowcolor": "#2a3f5f",
           "arrowhead": 0,
           "arrowwidth": 1
          },
          "autotypenumbers": "strict",
          "coloraxis": {
           "colorbar": {
            "outlinewidth": 0,
            "ticks": ""
           }
          },
          "colorscale": {
           "diverging": [
            [
             0,
             "#8e0152"
            ],
            [
             0.1,
             "#c51b7d"
            ],
            [
             0.2,
             "#de77ae"
            ],
            [
             0.3,
             "#f1b6da"
            ],
            [
             0.4,
             "#fde0ef"
            ],
            [
             0.5,
             "#f7f7f7"
            ],
            [
             0.6,
             "#e6f5d0"
            ],
            [
             0.7,
             "#b8e186"
            ],
            [
             0.8,
             "#7fbc41"
            ],
            [
             0.9,
             "#4d9221"
            ],
            [
             1,
             "#276419"
            ]
           ],
           "sequential": [
            [
             0,
             "#0d0887"
            ],
            [
             0.1111111111111111,
             "#46039f"
            ],
            [
             0.2222222222222222,
             "#7201a8"
            ],
            [
             0.3333333333333333,
             "#9c179e"
            ],
            [
             0.4444444444444444,
             "#bd3786"
            ],
            [
             0.5555555555555556,
             "#d8576b"
            ],
            [
             0.6666666666666666,
             "#ed7953"
            ],
            [
             0.7777777777777778,
             "#fb9f3a"
            ],
            [
             0.8888888888888888,
             "#fdca26"
            ],
            [
             1,
             "#f0f921"
            ]
           ],
           "sequentialminus": [
            [
             0,
             "#0d0887"
            ],
            [
             0.1111111111111111,
             "#46039f"
            ],
            [
             0.2222222222222222,
             "#7201a8"
            ],
            [
             0.3333333333333333,
             "#9c179e"
            ],
            [
             0.4444444444444444,
             "#bd3786"
            ],
            [
             0.5555555555555556,
             "#d8576b"
            ],
            [
             0.6666666666666666,
             "#ed7953"
            ],
            [
             0.7777777777777778,
             "#fb9f3a"
            ],
            [
             0.8888888888888888,
             "#fdca26"
            ],
            [
             1,
             "#f0f921"
            ]
           ]
          },
          "colorway": [
           "#636efa",
           "#EF553B",
           "#00cc96",
           "#ab63fa",
           "#FFA15A",
           "#19d3f3",
           "#FF6692",
           "#B6E880",
           "#FF97FF",
           "#FECB52"
          ],
          "font": {
           "color": "#2a3f5f"
          },
          "geo": {
           "bgcolor": "white",
           "lakecolor": "white",
           "landcolor": "#E5ECF6",
           "showlakes": true,
           "showland": true,
           "subunitcolor": "white"
          },
          "hoverlabel": {
           "align": "left"
          },
          "hovermode": "closest",
          "mapbox": {
           "style": "light"
          },
          "paper_bgcolor": "white",
          "plot_bgcolor": "#E5ECF6",
          "polar": {
           "angularaxis": {
            "gridcolor": "white",
            "linecolor": "white",
            "ticks": ""
           },
           "bgcolor": "#E5ECF6",
           "radialaxis": {
            "gridcolor": "white",
            "linecolor": "white",
            "ticks": ""
           }
          },
          "scene": {
           "xaxis": {
            "backgroundcolor": "#E5ECF6",
            "gridcolor": "white",
            "gridwidth": 2,
            "linecolor": "white",
            "showbackground": true,
            "ticks": "",
            "zerolinecolor": "white"
           },
           "yaxis": {
            "backgroundcolor": "#E5ECF6",
            "gridcolor": "white",
            "gridwidth": 2,
            "linecolor": "white",
            "showbackground": true,
            "ticks": "",
            "zerolinecolor": "white"
           },
           "zaxis": {
            "backgroundcolor": "#E5ECF6",
            "gridcolor": "white",
            "gridwidth": 2,
            "linecolor": "white",
            "showbackground": true,
            "ticks": "",
            "zerolinecolor": "white"
           }
          },
          "shapedefaults": {
           "line": {
            "color": "#2a3f5f"
           }
          },
          "ternary": {
           "aaxis": {
            "gridcolor": "white",
            "linecolor": "white",
            "ticks": ""
           },
           "baxis": {
            "gridcolor": "white",
            "linecolor": "white",
            "ticks": ""
           },
           "bgcolor": "#E5ECF6",
           "caxis": {
            "gridcolor": "white",
            "linecolor": "white",
            "ticks": ""
           }
          },
          "title": {
           "x": 0.05
          },
          "xaxis": {
           "automargin": true,
           "gridcolor": "white",
           "linecolor": "white",
           "ticks": "",
           "title": {
            "standoff": 15
           },
           "zerolinecolor": "white",
           "zerolinewidth": 2
          },
          "yaxis": {
           "automargin": true,
           "gridcolor": "white",
           "linecolor": "white",
           "ticks": "",
           "title": {
            "standoff": 15
           },
           "zerolinecolor": "white",
           "zerolinewidth": 2
          }
         }
        },
        "xaxis": {
         "anchor": "y",
         "domain": [
          0,
          1
         ]
        },
        "yaxis": {
         "anchor": "x",
         "domain": [
          0,
          1
         ]
        }
       }
      },
      "text/html": [
       "<div>                            <div id=\"9f1b81e9-8368-4af1-b275-93e196be4df0\" class=\"plotly-graph-div\" style=\"height:525px; width:100%;\"></div>            <script type=\"text/javascript\">                require([\"plotly\"], function(Plotly) {                    window.PLOTLYENV=window.PLOTLYENV || {};                                    if (document.getElementById(\"9f1b81e9-8368-4af1-b275-93e196be4df0\")) {                    Plotly.newPlot(                        \"9f1b81e9-8368-4af1-b275-93e196be4df0\",                        [{\"name\":\"0\",\"source\":\"data:image\\u002fpng;base64,iVBORw0KGgoAAAANSUhEUgAAAHIAAABACAIAAABJDbSMAAAwUklEQVR4Xi28S5atSXKdt7eZuft\\u002fzom4j8zKLFQBIEGAlMilJbChrrpsaxCahkakKXAEUktscC1RBAmwWCzUIzPvIyLO+d3dHmokJ2Hrs237M\\u002f5Pf\\u002fvXMoXNqTWXyb5D2q9+\\u002fetf\\u002fvXfvLv9FQ9Sh\\u002fQUHtQhfCAbVZt0fXqGXrV2CCq43h6\\u002f+\\u002fv\\u002f9\\u002f\\u002f+t\\u002f\\u002fny2uS52aLNOVZcoisgFq1SIGSVYnMomZJhROhjt20okhKoIASFc2MRoP21vH84Zv\\u002f7X\\u002f\\u002fPz5+905aaFmhBLlZvfBIzJIbUuEPgglFYvryCeXn3\\u002f\\u002fwh9\\u002f8w0+\\u002f\\u002f82nP\\u002f0j1\\u002frrp2+OLz\\u002fscr1d2z6Y92jV2CIuyYdHeNx9B2Kfmw+PqXOvynaKPctt5LliVUrsCdGzQMSm8EwUefR3x599fNvN\\u002fpf\\u002f9d\\u002fYSNsXtFerWqXC26Vdq7\\u002fX0ca+Rj+hUOklqeuQ7ss4KiHC1kxQwbS49naTv3i2f\\u002fPH33z59OW3P\\u002fz06euXL693Jh8QNvNdVAApyFAJJUoFCSlIVMmpyEDX3GQCF2CbEnkebX337bf\\u002f7F\\u002f89dMteosyDJRAsqQRCLyzQLqAO\\u002fXm4vpaK73cMpDr44frh9v\\u002fnH\\u002fzz7\\u002fef4qZ54799ke7PO9PLy\\u002f\\u002f\\u002fv+pL5+VyWrOl7AHauXEndmfv2kfv7u9e\\u002f+LX\\u002f\\u002fy+O4v+vOFEnWutVlegrVPX\\u002fUWb3vPQstjlOLmkiUzfdjt3cdoGFiFb3tl6yZxXDWpUQi2BFDaTEUJ0HrTAyLUHM0u7NU2SlcHj8vzJ\\u002f2Lb7\\u002f55feM\\u002f0HifITe9zy\\u002f3Ofjy3n6eX999+23v\\u002f+vv1nr7p4eyJgLTb3QS0ijiF6OBrm8u12Opw8fuvHj5alf2fuH4\\u002fZnT9dUs15BoCzgzPTKVRu1czIyN7xVnZVD7XCdscO055A6bxWYcz7ibfHXuS5xe97\\u002f+tv96VHz97r2BDnI\\u002fvH4eP0n3\\u002f1KxqEgUBi9eYtWEtv7vva9PWoOvS5Bx7uhFVl2X9CIxEPkXUBtqFS\\u002fNrbM2XuvpgYZdW7rRtCG5YGqIZhB66Qo1BpaPl2H9jC5UXqQWPPtm\\u002furf6xP87hIH93bE7d+\\u002fJ7r7lpizQT\\u002f6n\\u002f866gwO8t7sghplY98Ep5058VER21X9NIKHsocfVcMNiijrbtIFiU3rJgsioj6gnSuCFvWwo2VJSkrTynPyLlnYVyIGoUFxMr0gFgf3+gj\\u002f1WWS5PzcTYi7PK7T7tXiGprNZqzp+5GzagEGqqZwrvRyyCQEnETY2aKWlQiLOtuvuy42tHIkrbKLxzXC9MkZ0nqlkixPPqoWT3eSETdht6EfWQIPXgIu9jz9fYl1rfqb\\u002fk4td5GV\\u002faBUhkN0s3iIi1TUt7Tde9HYap999xtpExfwQvrIda1HV3OzZ75OHCp9pzXfr28b+ykb2Q6DsJlCJKibJBoq1Idqom0R2W30sglQUAS8NZrV9fLgMfMx71y7xobtuMorjcdBa1dXd7CL8w1sfYWzqIqmNpUspUJwiSRWSZJKXe18Ra5a8pdmpcbjDSjhCa3XLmEsLo\\u002fZsPJAaq1Onju\\u002feQSquemjWrWaPAUgQgRVgGGHJdr\\u002fnrna+1rzk2fO7wgeonSRYqsRAPibacZbuhDcQzck4f7xSN0xJALaohkyPVgsf2qTNsY7Xq1PojGQoG9IOYCeqVsoxYtuKVRQ7ZIXkjkcR2hrtFwUU5dsb\\u002fE\\u002fafgHS8b8blSzUzk4\\u002fHhuen1GQe5Iz2jR0ls3ewD55lWZTuKGauyh5cjEQ5zMJiUeZ5R2YteJ8E0MQ2Mc0YezfwsLRJ5NILmu0RkbSdb28zW0h22al6wsW9N94YZHFUMSQZlXIxyHPsQL14qyMpagCeGwgtZGR21V\\u002fb5lkKzd8mezZ\\u002fjlnQTlX4DzawUpVgynlNN9BpFoFQgyaUp2zTnTG\\u002f0KBRBQnG2zEVoSlZFnhG7sRMiMePzj+3T71E\\u002fLCfwkDOLW6vHl56Xd3r7Be0D9amNtsDd6sCYPnqsQhpbTkNBajpCYqf4Kla1KusakbskNc+0tPbuL4udX3\\u002fc3hT3oDfN3IhQwUX7PdtRaBvo9GijkxBGKUEIrpnUTQzpdOih26vJohw2pKCsEknR2FsJT6QHMcjgY64\\u002fgs+3D99LY3gn8mVN7XrVC4po1TQNrRqzhCUwEhYMiazMxl0a12xUmqYUwLVKqoqhHpWVW0wMpkhIP3p\\u002f92HwdUVv2\\u002fL8sfLrDO6d+sC6\\u002f3F\\u002f\\u002fiTa9en9vv2FHM+mUmwXZVhHcJVKX5MlYVkRykgT2fTgZiyjbhacHlOsv34pjXYsx6VrmjLjUDnkCHOR1CwxOsEUSLq4sRk1Euk7kLOVmTqqNd0KSW4pIZxoYAdriZhRIGJZ2ZqqiMxcNp0mz7enbBYRFXt0S23DLEQEBZcQRLHTSSCX5xYKEYPkGE42m5WVEsvBAivSaOIU9VaXLV5ABmR7snpmv7bd0LD1W9aAzz4ekaWP0QruGy\\u002f\\u002fyPl5Hx9b\\u002f9iebqfdKhtJQ6uxLlFIKmekHuU7TMRnZzcujbHKde8tZgIxiBSRXZMhgvDmmrMkF9lKMy\\u002fEaXpRYtdDKhuG7tfKw9W4ImmjiyBXNgoKVRkYYIGUnnUWtTY4rCVYlI26+xl2FUeTTEQyqNLcLkITiSpS0oopxZJMJDcKhLCEdA+NLDAty0vB1KoMVcmVQITWLI++31DNhUNkX96X0vZCbXmVZl5vHajlb5VZ27WixX2+nPn2WMdLvox69121D2yHauyHoD1cVUGJ8gQrRf3iWgoyamT4TXVb\\u002f8u\\u002fFLpM0Kv0ocnIPLRqvctwrYoGY+xTqqmqmN5UM3U1JUawKKRVJVOYiszlqZVV4k3aCXaKPhXFkO6bRW+sze0VrnvWXsFepTRCD1OJTI3NkqSquJQ6GZLC1kKonqVF9r7Nmakl1UsgMK9pqEphliTdEzGxG06NW2EUBS3DHrEvon1lQs+s3jKXmsdEPh5uamdz7NfaonW+1fVZ+1VGa7SKI8hCR66qiyG1JHV5jQvznux4Wwi7\\u002fdN\\u002fOcxOuVzUs9iVkPK0gLRKFzYa6kTJQISXIxDUWoQE2kVSWUhBSQrgO9aj9kLoYIN6lQihDPejmBa7zCGNx02Oj\\u002fbugiZdMyOphCXSoJFszGoSCQMgBYcZNkkWM6tE6hQtT60CiKjSkwftzUt65inS08qqxcEEFAKuUhPL9eQk3qk8gjx0SVZXex2DfdRZvdYh8SaTSxR71cvO4\\u002fN2ZrxvUmLqHFFp1aHq7DpQrFWtV0ToKLFP\\u002f9e\\u002ftWw8uEq171Mo+hRiNFvEQ68XNCkv1WX0XkOvpLlxyMAYG0epmT\\u002f4dPv47oC086QgN6WJiCoZBBgRJlLlCaMjuPOfPK2\\u002fFUSUGIpVVSbiVaisXRAP+BJWoZoDyaqiz8gt2hP0ct8lHlER1cJ35i7UpmcCsWdlbd8eUgo0cJdYpKDphQhtrlet3FtCCg6KhhjLSgIympxakTuXnP6ox1Spt4c37SXsqRqCwBU2MsXktI7NZ+mtVdplFC3U22il1sGdxOCJfSFi2BRWlebc8FN53uP7bneqxHiqy7vEdQccW\\u002f7Qfke0mkKl9tSxCGhjYwkbE9ozBVKmAR7TZ85Pxlt7\\u002f7QgUDGQYKqgqUG6ZfJJqBBE5VFUMKmozNpHhQczYqXDN10lIis9kpGszHlmbe4bl2eK+3RhoTfpjqwN7ozq+l6q5743eXlu9XX3d1ihekq9zXyPr583VCpB6ZURp+Wq2Us\\u002fyzkcB+VzSMd97HZoM9es3hk0f6TYAxgLV8M9faS8KiDqwpCFbAdkAx2tq176emC+1fhuuVzmFgsdnTSpFLVjdMkGbFGylNAQOKSXVOZClme6h2etP+6f\\u002fkvqE9avhKl6ITVJbiaXiJxJQe4kuaJaagmMBmSALKmdooxCR26HZkkaEN4KRbZmBVsN40CVG55dIRU7tcNjSuTByvJrxC+Zbr6z5tytbdT6+vrph\\u002frj73Z9qsQuSKXsmZoeveE1wkS89M1jVL3CF9ZPkfD6g16\\u002fWfatXY4DRW8qkb6xwpsIjCijk5ruJ2oXHoYsPKE14mm9PKy\\u002fvfXv7LkO2QfFqYqIR2Xed4FijaJQtoi6TIgLhsysAZIevch2UcHAKl5UFCKU9KIUKCo6hW5+FAsZmidTfZaUOxQikuHYEWL14KwKljp3eIWHO8wgEcF6ibqsbGyDZiiJCK+KQnrsec7C8WThmXv2x9wvq\\u002fxr87u+\\u002fdAuR\\u002fElpj6yNZ0SVu3hp25luuOBsLWdzIcOiCitkrN1Wh43oxyw1nbJsBoWgS3SE3pVVhMi4X7CVY4OnnmytXAn4kupN5fP\\u002flS+jo\\u002fPY1xUyzzgGeqwg2UdvpNYuaVQ91IVx55zry+l1+YOq4otIU7fGRIW\\u002frVwwnfKxZQgCskMukKd2LXO5V1YrCx4huwoOrUWSkeFhVfCa2auKlYsjxq2I68liMWSiF0IHztx\\u002fwm393j\\u002frj2Bv3SrX1TSf\\u002fhV\\u002fOY\\u002f8nxLyohH2iHKquvoDy5JhNikH6qLgIRv2dhONth3FtNLOIzRqT6lWSFy33tIlqLNPK2A6ta14eIyDzy7Sa49gNtxvenl3dEE86EUwc50S7NWaFqigpaUq1T2ZpUUJh1Bf1xnvlM7aO95AGyJGhgNvqb7lmYtm2lWhPrj1YnWkxRfwrwDrOBMgksrikal+dxc6hpSxHZBLcQ5QjK4HZ3Wip7OlcTiypAqnCaC\\u002fNMf5j\\u002f+o\\u002f3iA7\\u002f9vujlEu+\\u002fP\\u002f72ef7xb\\u002fZv\\u002f67waeRL+JHNWVuE3BWenjtX0hilOJvaknyV+GK5fyzIPEu7ZNHuD9HFassHbNXbCbbIJsuhycw1a8gqQ\\u002fkOOVcK7lRrvacJIhXWsjiRPeEbqmeWlhRzzaInBZt2JDIVO7fFbH6ImlpllheVAJgJxWsFy00N5Zszi2a1NgRViRIH6DApPtKxEyxGaYQHGE6HRosCepX2KqmqShjDN0wITcSYK6\\u002fSaGvmb\\u002f9T\\u002fP4\\u002f3371V3H7M5MtCfnmF+Pb5\\u002fsffv\\u002f2m\\u002f\\u002fc+VOIih+WueWOVraqGqDbq8j0ynNdrpe7ZYQRDSm+s2XFkeU9s4isLa0JFItSO8N0RuaximCjPOgj7jEuU+OQjCoTXeXCjAzfcYUEkyo7RD1VvUHugHoWywFo4aKEFbCmU7Gx53lvmp821w6vlF0ueXrgjFLL3gwhkqkxi0g89lsxobx6ifEBrKozksJNj5jXQDhD8mv2d1ub1jRhWsAJsaa7qlqMPHLrRc6v+dt\\u002ft\\u002fvv25\\u002f\\u002ftTSTAoj8\\u002fldPH38xf\\u002fzd+Yf\\u002f7OdrsXRZRe+XV9\\u002fD5NDwyA0p0TTrRr1KPcC9fQDNwgR9KrLMwjcK2xvnZM\\u002faxCZ3FomzODj8sJ1x7bK40\\u002fWMfWHuRV70EMtUeoEpEmm8B8x3I0+uibXvXx\\u002fYtfeTXN5ri8rcRC3xfHUPILMO0cmIQlK6eWhKvE3PVV6ZshAeXWqjPDGxsM03jNGDuwI7LOqrV9c8d43iLaM8e9EAV3eR092V4i1rCekZel9RL393\\u002fvRb+fCry6\\u002f+eTSrQiD4\\u002fa\\u002f6xz+rH\\u002f\\u002fb47\\u002f8PfZn6+d+XENK47UKSCIO8ggvU6Di3ZQzWPQQFVMnxlG22jfMjXM9zLlawEWfTGLX9hTRdWQTtBjNiwMX7ZCgUCOLUoHcCyIymiFVrbA7kWzK4OalH4c24dOBA5bMsqCJ5CjnejprIxK6GytjSGUOMr2U0Q7Krq2yGmNVbY8VITtmzJRayJZVwe3OSBZWlWzUqHvorXA\\u002fo7fcK3PwXihEq5y7shIhkYRpWtzz9\\u002f8wf\\u002fqP9Yt\\u002fge\\u002f+UgZbbgfGN98fH799\\u002fP5P83d\\u002fl3k\\u002f0jc7Y6OyQpxNUXb77i9qpkk0M8peO7s8Wl6s2SFt76VPXUfUapWAZaxKfD3XYYZWlmgjgK5eWydV3erWzdk4wOMiYLeGqIpsIjtWAV2PsK05dO\\u002f+rBQbAHKFWsGKedncVxThqGeLeGSL9VpJuaak+PKoWXggG4DiJrs0y9MCe21R9YpaeUjGTheckVpeJxjZrO7cT6uWFt4qsxweTVJjgR0jCoHtuTxkZW35w3\\u002fwH\\u002f5Bfv03+ObPjUtMq3D51V\\u002fZr389\\u002f\\u002fhfX377G3l9cWofMwOXYyGfzV+nMlCUWNGOVoS0nnW+TeJLu747NFaupIvnFtvrnivaEb0doNr1eHcZogw0UYpv+mSjqZFtS4lmhjUsVSu2Ri6PfcZazhUts6CUWKcUyYAyy2fsjQIQuefKZfLz3cPXfUhlQ1iFK3lkC1SOaOsx2brrJLiZ5TTk3FwXU2FfUtfW\\u002fPJMe9J69wTfZIQBDZtSWAWtx9yb0w618gvyKx\\u002fnY50rpcr8\\u002f\\u002fsPcf2H\\u002ft2ftV\\u002f9083rIUsgt+9+\\u002ffzxz3\\u002f47d\\u002f7H3+zT0Ob2SwgVpow86BhiZ+pNLtZ67fnqP0LVJZCq0cd\\u002frRl1eWZrBbaBNo7xvXZWlcRhdbba6mKSRuW2jWUcMKgXuwOpHg2FHAJIbZnMDy1o0R6jsutEREpJUfKLqt8pj8qo6q0VqUwV\\u002fgZGxG+z5FaJVVQzW7k8LbGjPWR+z5qf5XrIb0Kst+oh1ZJPBLDgzOnqTlOSWkoNjmKgVuXU4AIivz4xp2tWr90e5XzjiqvN\\u002f+H3\\u002fo\\u002f\\u002fq7\\u002f838d10s7WvII4Tf\\u002f7J\\u002f6X\\u002f35+Ycf7n\\u002f6LXM3wNTvrT9l16yLkKqqeqCrZuSR3CgRol1UWL2eAX9Kq45CGVGSM6M1rkiJYlf060WFCSnTRhYsAUm22Amt1kU3A5eezsnW9GpNpckTMktUbGt2Qao\\u002fipqim6lZycagtMx2jd68zuOGR9LivlFcbCOTyS2x0YMz\\u002fDm9pnrdsz0VNACRm4zG+0ttmpx9sNDD48wtqIzJiV3F8J+5xGJRijWitSXBzcvThxjO3\\u002f87+fBt\\u002f\\u002fbXOK5Z5pVSbL\\u002f8y6cPv3ycn+NPL3Z8\\u002fKVodTkoqrWTqtoTG6U9NFsjPOEJgQ1BpMAgzEmgVLnJCjFq66qtYeV2h0pub8lcuZXJqFW5QxJiJMqBmv72ZYU2P8b12dqjUlibfu4V5LnCFC9lPzPsqq07S2POTMm5eSR3BWbN2OIs2TvRhUFmQgBqVfSouIjqjetrDZEzU6SN5uF18nEti\\u002fW47+IQlAfq3A81vJUgXYUW9TDfwiP3Ilm9gJU546c9f\\u002fhD\\u002ffKXx8e\\u002fweiyc+uKJnY8neM7e3mV+PKP46ZdL8VpVG0feA0tq5LaG4pIbcioVXByll2091bJgjRTimg3gk1RvVKGhq99tCaXJ04vCKLN6QG0YaQJd\\u002fjYI570dhwH7KZML0JLf87863pEbOncnlmRqyx7vaUTZTO6ZOu1q+3wNttqTpgyAkShb2Tr6fFO55lB8LPPjezVpGS5S8NjPkbiJ5RkeaE2geyN2dTTL2ReRjJ8Z2UF+GY4umVVUvhQk2T35X\\u002f8T\\u002fc\\u002f\\u002fN6+\\u002fev67leGEq4KmJadn\\u002f5e1c5Hz\\u002fiq8fU+reQLxtFYnsvnmOtleOhQHKA1TVptl0E8W18m7fL01Ju2odALYqaM49Jo43rec3m1g8KN3L49TqaxD93h4TvJ9SqbKdZHrNhUNTKkSUXcX50Cj8izcgLY1dRMYEdfEaZeUbsiZYdkersKN1ec2zInZBWKqEYpedbrVdlCD9W6pkX0ttL3k5FbIZELCaVWxuL960MnH3u19ZgaqdtOVPqaSTwyGQQKD9l1v0Y94vHv68sf6i\\u002f+TJ6+jzBl2PUXf05xS7H2i16ZTc0koLF+2D9l3u7v5HtRkULpAa0uyJB2paDBcD2stYuZlV5YQqDo9TMAomiZ67Em9nZlimFG4REWmXVPf63qisUWczVPq+UbJ3EGYszly2sjpGxoxpbc5bZrU8pkJVtFiuGiRyQ0JRV7B9amnDyp3dB70wm7LJeedW9pARcHutgpHMoVXpKQvaPoUZnZWyu\\u002fHtfwlje8Ijqv61FWZ\\u002fpJ17DsoTuWZr6FZeyujx\\u002f3f2F7\\u002flQfv6vxjX393X8bz+9tXPpc2VLZYYCQ\\u002ffv3v\\u002fbUNtJLWd5NEyqqiapVR8cJa6ZSasGhWsiq\\u002fSiaISprsw9HNzXTiG5txr6gG5i+MvchrFaLKsXm1ZpuyYxKnzPPt0cUo+zIwm25K64eL9sfSnVSBRFOBLUqlCxfqMjAcRxfnU9oWA8mElv8sSkObslnbVWhCay6a\\u002fm5tYoZRTOca3lpBdCrLZZJ4fRGlJVaRJjXLXXfpLFb43Pb63QVY9c+ZmMuyZ\\u002f+9GbTLr\\u002f42EsU3i5IURJ1nxGi9fIqNzZ17lZX72m7WhW6ZpZpoA1LkUHlod1QOjqqMbZQ7nDtTUSVql0tsAuHHpnRQO+i0YY3oA7th6gJE3XZs7od6\\u002fZRc7N2ZBnWQolLsTJHpFBDGEzfaUhx64LkXtur1swi5VYhznF5X77Tc\\u002f48PlmnuMKU1WS5ktLk0K2+o\\u002fdt2VvJciyVdvdpuXZJynAB6ZV9MXhZIyycyIw9M7d45LaNl6g+z5gmx3H5yc6vsHchrdfeqzQETd09gSEC5I4ajhOvBeV8LL1Ieoo62SFXNTX52vuhcr1zsijIbBQxmW\\u002fEUSJNAKxdzQDnXbLAjPNtPz4JwNu3rT9RJGsJe3lkviAwNyXephkbwJSNlQis3CLirJVxFSTwupSxqzLTUXjE3tK04r5TllsxEV6y3bvUquBDIXRTVc296kzUfmS03BY7531yJuSsx+fH649zr2OvELLKqUiUzp0jIBpnZlJayiGtgaKdgfLV7Pr+igrhji4HKDJAHfSgp2j6yXOLeoUveMZ3klO7UIaJlIhBVGLWypXiD6un0s1ze8GovXuxeZNcJfpY7JCKOXUnJINHuvN01Fulpaj4Pcy7L\\u002fcZUdu9ygOWImLhrpLQ5vcgI1p+CQHbsdcD9TNS9cJT4+m1UJsuUoF8zJcf\\u002fZy7ntkseIRIIoivKsaMdAn2huh2uZjsW+xH+X6DhPkmPuecawvRKx9ho7T3q9lcYtx5jcreL7xdSg7NWrg0WVaPH8tqa+97SD3CWtM1K8jBFC1U84zRBtt43hyWinZIOa0fV5My8RLdpkN4QBVxEylINqkCyUbsvECogfSAWtb2XOf66af9usZ7fdyn2RV9E9astowlfs4Zj9RcaK\\u002fc8lahvOaeTVt4pW6KsjfbEyrF9DorQq7wODaUonppXWzr03j+xsMLcLJWU6kCvT5GUv1lzUoENcFHrCcPyOUr0KFWF0o9E2hnaKPx6sq9KQGHV1a4RqHsvOR4Q\\u002fUctbEQth+qx6udGfrAGIxIzd4uybQ5WafPC\\u002fg619yvy1o7O1rc42hjeSam1UWzSau9QkRVuprodpIgi1pIMVbRp5FZmYXb00X4dHv3beBN5TAbSSEgETu8hNcYecz97UK+z3Vm6rMWxQpr16kbXh9aY8EQ3oBkCW8Q7gS7j3jaGaBAdrx8fZwbMzC4S+hXmvtuowX0uu3SrmdGqx0hGq207hWrd653Y8hzO978\\u002fq1\\u002fgESt+BxfvuCtp52nN8GkPVp\\u002fatIiQjlopR07un34J39ubeXamQ1RwmBnrx7SeduiF5lxfkoVdvaSR4RKR802R4ste57ISRGgMod13\\u002fyMQcEIVR3lcjAgmhtSgWJDYftCaW3PvYKJnnXoaB0kwf043R9xvomMEK8JLQ9taAEUcIPCYu9FhxM3wYLscJQFqrNYsbWiTHz2ZjcMrmszm303itJ2OVeqhmg8MtIi3mpHmGCXbErLhw+ktNzZ89iXx3pgAsT1HUbzfelwdXFoheKwdnuWiLXyvqvWV8u9gVWlWitzKB41NcTIDf3MahnGp489HyobTMKkG2vv5ag2rpduzWpTG0RyaxWU5Fy4VNRBPrgtSlWFzUSyokWxfGOfor1friIC646C9ijXkZCLHO+6oXBim7ubZZLpKalKlm1GO2hR4dUldnVZp8f98zxfP315M2uqAxDlXBGeYCyNvi6X0QQYbiE+M\\u002fees0S3j8rVmSdR95Nyx\\u002fK977i72NvkU+Qw6O3pRvVasc571Dv63VAx2IyX4\\u002fp40h70dbEm98zeq1OKimpjp3jsur+S66xUxfVdS\\u002f9ZcEmpp2tnynG9GUVbC6pzN5YAwh7EjaaUlR5SID3lEcGcM6MFUGrpd2aPeaZg56vltYS7qrRfDulwlIkHZZX3ytdYVW9rK3s\\u002fSrZUi7MyHyLnmoflysYFzbVWhbbLN9+9LybJZMINfDYG9h2QyLnm287k1GYzYCVdhTpQAHNIqj0VlfN84\\u002f2j0QVt+6oVQlmPL0j42nvvrNPT11Y8vuaj9N3jlA81T0k1NYQPUg7uGAH0brJpdX3CvpuoQpWtPZGEElKjyMqN2vWzWbEcxnEcralblw3RVaCNIXnf3oDab5\\u002fm2hFVp6v9zFzc\\u002fvpY+eTXem7aeqMJdRBH7w9G09GaAhL8kJMeX1MvkZWZVdm1Z8vKaztW5QDXoOAi23vA6MvTMxDVse+j3h4wMYu4qFzk6VanpwriuWRLrMwIRuziZh8hyWIf4skjY2LdqLiar83MLvLJZOBScBu+8lbQXnLNbBd9XQOxunl05t6+okrh0Batd3kLXKRMt4dVyOZUqgY65WsGAYRTBymXfj04QkvSt7D1Q7kjBKiiWBsNvbUmNyNY+TbnPSNe4vQhe1iiQs65ZlWE7PXIuHzz7fW7jxIFScYiulxK54FQkRCtnVYptSs8y1S0mEPrEXFKWIWV9S5cwsiKeta492pl99F2VNtTIaYVKQ9UeTmY6eFnYN6z1o4lfub+Os8p8ZK+yDIThFzkPkO1oa1eLNee1gb6HK14Leyr5UvQfNulbTQbxsKYOeQxfUU7Ju1iI7u08tlkVxFYGVJrp5rZgUSVVq26l7NilkqUuHRBTfB5Wmptmij6FmsVdTuuN0F8iHrU\\u002fAWwYwbI8e552GB2SMJP+iNj75OsqWOlj3BU7ExPuOhKNnCYsSQQHgnBLhgyqh6+ai9GpAxgvQUCM6qJj2Ovh396zeXZgf++R8xtN1QWBD1ibYnYqYKp+XlXoSozpwCVlcxoO7w8w+\\u002flRnlMG8sbWJFxdnC+mIy593VIbEJSjBMmUPOIfHxdZ0l16w4GtGlbwLDWaL33yDyUldSUobhbL1hV0OesmjEfFMZApFi06JocoVEVyIg4M9KQahV5069fvR0cXZuJolAqjX2mtwU2EW1Jrh0HQiJFMoRRtddMVEY9CZF7VhZzNyXHCDj3XuXbtaqwXmt9nryNK\\u002fXjsexgZM0E242QPtZGnJKjZ\\u002f+xb6bf4jgGSAmJPWMBWvvrEbarYgvr2K6bQNQFFU2nDESyNRs2lGlElKmWpkVvQoqC5YwjZRkvlGtvG9oCghDgjIKCCOb0nfdmYGNRR7PqUv4zDzVpYpIqJRwl10PfjKA0xiMCnt6OBr0aVGjC+rmChdpIgppAg7ICpSlPlgVsZ3iJssqTkYlH7EovjIPBrKiYVVRKNms6rvCM2PW06ebdynaPtld5g52om45ZsS91eYxH3tcO9ZiKu\\u002fhOFdkr5ZJszK+F7lHKivgCSiBVLXmoAc164KdHaHXTfgiKDGxFwVHWyvTnUN7SeuOT2SaKpfSiOU2Bi3AS20lktiWsKGdkLdwrUR6BqDz1EOE1ZRLUUVK2kAQI8b2YM4nWVrGFuMOSarKqQiszUGQxQGQ5jeHp0z3PzFXotEiOcKNiaAMixXea4NpDd2TlXE6vlgzLJC3UFIHqaJmtvD602J6tvDydydayDfijrfO9xZe3fN3T2F+wUSurvbhf0k\\u002fIc+WukIJoRUDRomTcjsfKtDhjS1VDoyq11XIf0FeJBmuqgkLhgGTA1UJTA2oiIlYNJsa65rG4c9ZpO0ws26XmQd3Gu9L3rFgTDXx7W8eTcmGmh6cM7ntsxnMn2aSQKztRyaBDsnZ6gRuuGWtHSPp2KV97rqqfXJ7gL5UOhdJKp58VVFP1PFCvzm75s33gwcwYVR660wLV1R0xgqWS0W+GU0IqbtQmw\\u002fuLxbXezwue7yff4Szfp\\u002fuX9gysW651RpYk1vCLalWsBEvz6WanrXWChilk0FbGzHzxpbDW+CbZlb2kCF86TDo7GPAdFDCOxmBVpkWcrXU1dxxShrZEMhYEhZZWl2LJ5abHO5Np74Y0VPqK72M+iMXQVIpBHm8PL+pOEDF9VXJTGzhUokTQu9QY41z73ZAAJtJWSG44yunUsbDSZ1moaTEIZIrgqgJTFnZUK\\u002f15tzlXAGtF3T2UsVJWJXe8xPlWOeOxmuTdZyXh7lsBFt4KuhdqvlV\\u002fU7+gXUqkhI33lGHjw7OilL13amn9HO9PEXC0C1jCdLBKNV1CPWBkKTTNo3aWIJBFsjLcS3PXsWjFMBlHsrdmciXa1qm+XrP8Xo7caOT+olruS9pTvcnbXDml5CwzIKQKyCqhFUwg1zaqx070vN3sNNRZUc57Dym65xQVsxAc2xB5RS5Sq8CStFctBo\\u002fK8jIJ5KyMe8pFu16ye8vCnv4h84ex9mNFsXjR2MoWtpd0be05c21\\u002fl8frOKbH+1jbvO2AtS3aIRcz2v7hT+kKk3tTy+kYJal7Fm3aAp7V0qAlVkqnW9XOVoIO32nKVcFHtJS6dJemZc1Kq2nrNAhEpaKgQpVB48WwNVZMJF6kXxK995soS\\u002fn84QlgxnaX8FQ5xbMSvpefP+59rp2ehAz0iizdG4cQPRw7MjKw\\u002feuu6huRzNqu49mst0ZwXBPvujj0dtn0zG1NYABXdK6dG3v5y9eftn9qtYQLm+Iv6SUrMa6QZ8aWWxvRPB+137WaNPGn3th2XBWoksdUU9O6tJUmRc\\u002ftsU0KC66+ow3ZFTWxIsZ4uqiIJ6IgEYvltTJeM0z4NaqfL1OOi8jMfrBunne6aFdmV5lofbMxvTQqEpwVV+fM+8s63o1uWpq5oWSxmKoJyO4qiQQhKTJwhG4mNLmlUKMSbfs+5wNw1eLxZK1A6MFENXimRzALUpD2Wrt2ipUHe62z7F4xKvKMlSvXyXa1lh8DZ738GHt7FCh5jDa01cs2cz\\u002fDb\\u002fNU9x8TwXrG57tvRPusdQ09ZtC2WCEVhJRcjp4B1eylUMqOGkM9ZRzSha7UpIjOzGdgCY+SQWmqOowNHlQiaWUqyJaqFpKyAunYWq2IAKUk6qicxtLWKrWCwVXOqpJ6vMXQrDjPnA+K0MJxoS1tHSrYu6SzE3ET+lVf2VuVlYihRtROlmnL9AxICorxqJ2M2qmFx1wnTJmROX1q2c4VsV3Mo8TXo0ixG9tXsbG9x3lfj9BajsOr6vzi87PPXNSWn\\u002fHIGAPX2KHGMH1vMR9DRVTBxWAGlS79JrWhJpS0MTK\\u002ffv798eF9k6BeKZdQijRklkNYlWtPpmvyizIBcVVrzegpuc8Msq23WF+yIgsit2g7H3M2V3bIjFmJBjRwBUryLdkoapdRUQEqlMlalbl9rrUfog0k02c8VhmKBd73DBEyPVtTZp5kZkS4Cw5Yp1BUUy41H7lnRsLP2R9YMv2B\\u002fbb3ENz9\\u002fJwziLvnkPrJvZlY1Az7HPOaGVpZkkN35MHD5N1F1IQUfWbBxvM3Wi5ygBep6WmVE7o0DOZR3VI86vr0bkedWfRHomr+N4eJP0l7833CARP6kx7b7H7GM++fGYu376tLy7ILQ8SzrEKkgBfxpJB1MWWaWG6PgGlWE63a4WXUQ8RVt+QAtCKI2fSm7w\\u002fzea5skoyefDpq77eTAbs9Vwt\\u002fbFFQzbZUBC4fpGhCj0ou6JEFaK9+j732ObVuVBewrpD7TRfqKvH82F\\u002fV7m9zXSPvbEtEc380eQ3tx9OIRzx4x+uRlbW3rOU6pIXEsvX6RVjld+FSmhzP0FYQHQCfe5WDVHShgho3vWyA6\\u002foXB4qVIiMFkSkpVW5Q6rDVfRymMzCoquqVqoTwEf6c+0vI2Tk2hUnQBdhh0ApmglwC6b0kM6KqQtkcVRWZyMQDKwG5jkuq+zkUIpamT8B0aWSNdmVrSWh0j0tqolxABhFPERn0aiy7Mp74LoZX5crKxNMwzuXciRS9aV3VAs2vWDN2jhYxu2S9fV3u1SziEpqA1K6LmxG7pFtgrFpWU1KXGNeKdWfvk9rPT9KaMsVs7V2wbi1EwIX+PjlhTUsG6U3TFQqEZqGPlP6kSW4au45CSlQXJbNLvC9d2Gx8893Tgz5STUD6EBTlXhuuYWoNCBD7nuiZGrz8\\u002fNtjyUGPYZPBDWGsKoWwCohAYvnJWDEF+WLqbJWx975AFx27FAFYFcODDTNFvTwc5VO3RwJavDW2XlNalu9T7ktReizjqefB9jjzQ513f9nRDoq07KZILaPlQZPOKnResvFydAxjGo53mWVjtxQ8C0Qry2ol3jftMCZFVmZ4ilpPSi82+dm8TyffW8tKdhw0pE7lBzB8aqTSgnxu4xGutEszBTpWQjbIkIa13SMjVyl\\u002fNvdJCxe2raI7AfdCOB132ZHqmcIkm2u9Ci4iJheFkFXhQoqYz3mQO7g8QgpFgbelF+ydqcDMOGOfPnfEFP\\u002fqPLT2KubOAgqn5j5LK988Hedpwn1h86I\\u002f6rLruAph84c\\u002fnbRO4LBuL3reHCsfIDuRAjvfMKtEJXAyVGXlz2XNRKMnOsHCBNWsijctL067tN6rIBV0WbkyPFS+oj9JYj++YG+U1BDWxVpllopDLCEK2mDJJWgqcVMgUQWqgxeU6gbb2uyE71KbFwxuiHp47pmtkU7V\\u002ffX8vCHVD0m7WWpZ2dgZCe8qP2boqpOrBwb1YRmuoyi0ktLcAl6G9eKlOyr+eM\\u002fJzfNeqZO+JkdVo7nPm+CN9x17y5ui0ca338QeaicLVXvTTTrbNaxfM5B37VcRlKKXWkXGs8IhuWRY7o3DBJSWKZJrxVlISns83O9f09wXUV01+ZhCD75tf2jcQUhGmhCfApUCY08eO8+LqI1OccizXw4hCaFoBbU8C5kijEyNFNGpTVPqWhUWPbXhgj2HZPV3opyBHV4RsPI0w4xstIcBG0neKMiH1wqPnf5gOoRwSU3774X6xT3dtSEnr3qdlU2fb0d5rASHXRRxXc8ywh1Wqpavr1731TQWRm5Fhf6EeCqaMIUr7KFQRrQb4rgpVA+VgxoH63ENQlOk0XpRu5dnFwl3X6+P877mw8Evhw1rJnAi9Nbs+J5sAlW8VSLZix3FvYop7paR8ZioP+GnzD4UqbJV2q4LxYuEha4j6yyo2rBWns1bIkpkegjLybCOpBR\\u002fVgrVEBz7klho0q5DRu2UbuNSK993mWeFzNfznhpvFcwW6T3z2oZYjpIPl9DarzCRkLY\\u002fl4g3gvB+64mM\\u002fXN11\\u002fLpdkMFDe\\u002faqICY1MfyRApQmmWIiKFt7Sg+XON1nmVaqi\\u002fF+VbDqeTmNqGbGXtAJOONtp\\u002fUjmNAqW6M8\\u002fSh5p1kGelSIFaEMBXlFFe5qj63cXpdbJA7KiU0HOH7CbIDq6JLrkife4NUeczHiZ9QMYsjn2yombK0OSmpwd7rLv2Ga6EuwKVsjVVnXVKbHdPLq5rCw0WL0EtrK9Cb3BwjbKs3sDF2xs24XJ9Gvalj46n6XdJQRe6OL4\\u002fViQE825ff\\u002fvgSEeSh79\\u002f087h9bP3sWown1K4DKVdhwUBRM2s5pBUlUTX3s9TZ0zJHyufUXXrVuEc2FJlRzZSjlKCH77jHlpnmen5hWslSQPSQliml5RAdIqWBfTZF6CC8sWcbDK8Uq\\u002feIpKdVTblwOHCgen2IyBHctZbkzmJE7h3xuhxfH4mGr9WH6ssWo2Q6tGbk1kwRbtfqMR+p8aLa4A7ZnrnXhDPrJTZNNddjYg7mpEVXSnC9I4LhxgRucjWkacB+9bf\\u002fUitRY8ik\\u002fPmmdLaKXX5yE8L9sye7us67SEbMEGJOAbYHvLVrbfc80UZPygp6b8MMlenIfCs8fA+r5Nim5KqFq1hCjhJtR9t1k4hZROyzLhmWez7W3EmFmkLoYsaKaM66e6ltWPfCE+UMSd+Vkdur1WNltKrSJ\\u002fQuFcf06qnVf35RQsuSdi+Nx4vixfdwR2laufpjRTSfG2\\u002fYt5y7MvJcmQ8li9+arTnn6zxrH6mnn2+bZ5wyaCk9m7gN8M3QrM5ZCLHINPezWW4hk3QX7cLjsBXt+cIYdc20RMIW\\u002fL1QbhWBUrECMk6Zn84kH1vmzsrKVpfSRnoT3e40NaJkiHQt7ZpVXrlKj5J2dOhj4yGX0R79OAC7ySQqYazkvoKTak0\\u002foMGgFZq2gCcCPRcjQy5ax4R48fDlLIbW7RmMnw2Ile9Qd7+XqcfFPJ6Xbn3Uvr+epO+MfLv7xpqSXyN9x+nRIna3kvWTZ6qhWjikwcABNDtQtZEqtfh4nH6mTbv\\u002f4R+zVeNoGDjKmY+7dDVtwVrUe2WSXypPrlTOkIvyxjabmAgLhzajhmBGvDOpvHJoACQAPSNv0kJrdmhRMx1+Jq+C0OYirmoCuC9f0Ioun9qKVU8mbw+4Flfa8CX65sxycRHhfK3G1iBSMz22HGloUW23YkYsMr\\u002fOzUPD\\u002fdDYruLYJveIWK6Eh\\u002fjeERu1fW9CPvNeueeKt1pVay5P0YfXVq1ZnvmmGKhIPlvFlKM9lxRzLj+ZijretYa+nmT7\\u002fw9KbXit8zO73gAAAABJRU5ErkJggg==\",\"type\":\"image\",\"xaxis\":\"x\",\"yaxis\":\"y\",\"hovertemplate\":\"x: %{x}\\u003cbr\\u003ey: %{y}\\u003cextra\\u003e\\u003c\\u002fextra\\u003e\"}],                        {\"template\":{\"data\":{\"histogram2dcontour\":[{\"type\":\"histogram2dcontour\",\"colorbar\":{\"outlinewidth\":0,\"ticks\":\"\"},\"colorscale\":[[0.0,\"#0d0887\"],[0.1111111111111111,\"#46039f\"],[0.2222222222222222,\"#7201a8\"],[0.3333333333333333,\"#9c179e\"],[0.4444444444444444,\"#bd3786\"],[0.5555555555555556,\"#d8576b\"],[0.6666666666666666,\"#ed7953\"],[0.7777777777777778,\"#fb9f3a\"],[0.8888888888888888,\"#fdca26\"],[1.0,\"#f0f921\"]]}],\"choropleth\":[{\"type\":\"choropleth\",\"colorbar\":{\"outlinewidth\":0,\"ticks\":\"\"}}],\"histogram2d\":[{\"type\":\"histogram2d\",\"colorbar\":{\"outlinewidth\":0,\"ticks\":\"\"},\"colorscale\":[[0.0,\"#0d0887\"],[0.1111111111111111,\"#46039f\"],[0.2222222222222222,\"#7201a8\"],[0.3333333333333333,\"#9c179e\"],[0.4444444444444444,\"#bd3786\"],[0.5555555555555556,\"#d8576b\"],[0.6666666666666666,\"#ed7953\"],[0.7777777777777778,\"#fb9f3a\"],[0.8888888888888888,\"#fdca26\"],[1.0,\"#f0f921\"]]}],\"heatmap\":[{\"type\":\"heatmap\",\"colorbar\":{\"outlinewidth\":0,\"ticks\":\"\"},\"colorscale\":[[0.0,\"#0d0887\"],[0.1111111111111111,\"#46039f\"],[0.2222222222222222,\"#7201a8\"],[0.3333333333333333,\"#9c179e\"],[0.4444444444444444,\"#bd3786\"],[0.5555555555555556,\"#d8576b\"],[0.6666666666666666,\"#ed7953\"],[0.7777777777777778,\"#fb9f3a\"],[0.8888888888888888,\"#fdca26\"],[1.0,\"#f0f921\"]]}],\"heatmapgl\":[{\"type\":\"heatmapgl\",\"colorbar\":{\"outlinewidth\":0,\"ticks\":\"\"},\"colorscale\":[[0.0,\"#0d0887\"],[0.1111111111111111,\"#46039f\"],[0.2222222222222222,\"#7201a8\"],[0.3333333333333333,\"#9c179e\"],[0.4444444444444444,\"#bd3786\"],[0.5555555555555556,\"#d8576b\"],[0.6666666666666666,\"#ed7953\"],[0.7777777777777778,\"#fb9f3a\"],[0.8888888888888888,\"#fdca26\"],[1.0,\"#f0f921\"]]}],\"contourcarpet\":[{\"type\":\"contourcarpet\",\"colorbar\":{\"outlinewidth\":0,\"ticks\":\"\"}}],\"contour\":[{\"type\":\"contour\",\"colorbar\":{\"outlinewidth\":0,\"ticks\":\"\"},\"colorscale\":[[0.0,\"#0d0887\"],[0.1111111111111111,\"#46039f\"],[0.2222222222222222,\"#7201a8\"],[0.3333333333333333,\"#9c179e\"],[0.4444444444444444,\"#bd3786\"],[0.5555555555555556,\"#d8576b\"],[0.6666666666666666,\"#ed7953\"],[0.7777777777777778,\"#fb9f3a\"],[0.8888888888888888,\"#fdca26\"],[1.0,\"#f0f921\"]]}],\"surface\":[{\"type\":\"surface\",\"colorbar\":{\"outlinewidth\":0,\"ticks\":\"\"},\"colorscale\":[[0.0,\"#0d0887\"],[0.1111111111111111,\"#46039f\"],[0.2222222222222222,\"#7201a8\"],[0.3333333333333333,\"#9c179e\"],[0.4444444444444444,\"#bd3786\"],[0.5555555555555556,\"#d8576b\"],[0.6666666666666666,\"#ed7953\"],[0.7777777777777778,\"#fb9f3a\"],[0.8888888888888888,\"#fdca26\"],[1.0,\"#f0f921\"]]}],\"mesh3d\":[{\"type\":\"mesh3d\",\"colorbar\":{\"outlinewidth\":0,\"ticks\":\"\"}}],\"scatter\":[{\"fillpattern\":{\"fillmode\":\"overlay\",\"size\":10,\"solidity\":0.2},\"type\":\"scatter\"}],\"parcoords\":[{\"type\":\"parcoords\",\"line\":{\"colorbar\":{\"outlinewidth\":0,\"ticks\":\"\"}}}],\"scatterpolargl\":[{\"type\":\"scatterpolargl\",\"marker\":{\"colorbar\":{\"outlinewidth\":0,\"ticks\":\"\"}}}],\"bar\":[{\"error_x\":{\"color\":\"#2a3f5f\"},\"error_y\":{\"color\":\"#2a3f5f\"},\"marker\":{\"line\":{\"color\":\"#E5ECF6\",\"width\":0.5},\"pattern\":{\"fillmode\":\"overlay\",\"size\":10,\"solidity\":0.2}},\"type\":\"bar\"}],\"scattergeo\":[{\"type\":\"scattergeo\",\"marker\":{\"colorbar\":{\"outlinewidth\":0,\"ticks\":\"\"}}}],\"scatterpolar\":[{\"type\":\"scatterpolar\",\"marker\":{\"colorbar\":{\"outlinewidth\":0,\"ticks\":\"\"}}}],\"histogram\":[{\"marker\":{\"pattern\":{\"fillmode\":\"overlay\",\"size\":10,\"solidity\":0.2}},\"type\":\"histogram\"}],\"scattergl\":[{\"type\":\"scattergl\",\"marker\":{\"colorbar\":{\"outlinewidth\":0,\"ticks\":\"\"}}}],\"scatter3d\":[{\"type\":\"scatter3d\",\"line\":{\"colorbar\":{\"outlinewidth\":0,\"ticks\":\"\"}},\"marker\":{\"colorbar\":{\"outlinewidth\":0,\"ticks\":\"\"}}}],\"scattermapbox\":[{\"type\":\"scattermapbox\",\"marker\":{\"colorbar\":{\"outlinewidth\":0,\"ticks\":\"\"}}}],\"scatterternary\":[{\"type\":\"scatterternary\",\"marker\":{\"colorbar\":{\"outlinewidth\":0,\"ticks\":\"\"}}}],\"scattercarpet\":[{\"type\":\"scattercarpet\",\"marker\":{\"colorbar\":{\"outlinewidth\":0,\"ticks\":\"\"}}}],\"carpet\":[{\"aaxis\":{\"endlinecolor\":\"#2a3f5f\",\"gridcolor\":\"white\",\"linecolor\":\"white\",\"minorgridcolor\":\"white\",\"startlinecolor\":\"#2a3f5f\"},\"baxis\":{\"endlinecolor\":\"#2a3f5f\",\"gridcolor\":\"white\",\"linecolor\":\"white\",\"minorgridcolor\":\"white\",\"startlinecolor\":\"#2a3f5f\"},\"type\":\"carpet\"}],\"table\":[{\"cells\":{\"fill\":{\"color\":\"#EBF0F8\"},\"line\":{\"color\":\"white\"}},\"header\":{\"fill\":{\"color\":\"#C8D4E3\"},\"line\":{\"color\":\"white\"}},\"type\":\"table\"}],\"barpolar\":[{\"marker\":{\"line\":{\"color\":\"#E5ECF6\",\"width\":0.5},\"pattern\":{\"fillmode\":\"overlay\",\"size\":10,\"solidity\":0.2}},\"type\":\"barpolar\"}],\"pie\":[{\"automargin\":true,\"type\":\"pie\"}]},\"layout\":{\"autotypenumbers\":\"strict\",\"colorway\":[\"#636efa\",\"#EF553B\",\"#00cc96\",\"#ab63fa\",\"#FFA15A\",\"#19d3f3\",\"#FF6692\",\"#B6E880\",\"#FF97FF\",\"#FECB52\"],\"font\":{\"color\":\"#2a3f5f\"},\"hovermode\":\"closest\",\"hoverlabel\":{\"align\":\"left\"},\"paper_bgcolor\":\"white\",\"plot_bgcolor\":\"#E5ECF6\",\"polar\":{\"bgcolor\":\"#E5ECF6\",\"angularaxis\":{\"gridcolor\":\"white\",\"linecolor\":\"white\",\"ticks\":\"\"},\"radialaxis\":{\"gridcolor\":\"white\",\"linecolor\":\"white\",\"ticks\":\"\"}},\"ternary\":{\"bgcolor\":\"#E5ECF6\",\"aaxis\":{\"gridcolor\":\"white\",\"linecolor\":\"white\",\"ticks\":\"\"},\"baxis\":{\"gridcolor\":\"white\",\"linecolor\":\"white\",\"ticks\":\"\"},\"caxis\":{\"gridcolor\":\"white\",\"linecolor\":\"white\",\"ticks\":\"\"}},\"coloraxis\":{\"colorbar\":{\"outlinewidth\":0,\"ticks\":\"\"}},\"colorscale\":{\"sequential\":[[0.0,\"#0d0887\"],[0.1111111111111111,\"#46039f\"],[0.2222222222222222,\"#7201a8\"],[0.3333333333333333,\"#9c179e\"],[0.4444444444444444,\"#bd3786\"],[0.5555555555555556,\"#d8576b\"],[0.6666666666666666,\"#ed7953\"],[0.7777777777777778,\"#fb9f3a\"],[0.8888888888888888,\"#fdca26\"],[1.0,\"#f0f921\"]],\"sequentialminus\":[[0.0,\"#0d0887\"],[0.1111111111111111,\"#46039f\"],[0.2222222222222222,\"#7201a8\"],[0.3333333333333333,\"#9c179e\"],[0.4444444444444444,\"#bd3786\"],[0.5555555555555556,\"#d8576b\"],[0.6666666666666666,\"#ed7953\"],[0.7777777777777778,\"#fb9f3a\"],[0.8888888888888888,\"#fdca26\"],[1.0,\"#f0f921\"]],\"diverging\":[[0,\"#8e0152\"],[0.1,\"#c51b7d\"],[0.2,\"#de77ae\"],[0.3,\"#f1b6da\"],[0.4,\"#fde0ef\"],[0.5,\"#f7f7f7\"],[0.6,\"#e6f5d0\"],[0.7,\"#b8e186\"],[0.8,\"#7fbc41\"],[0.9,\"#4d9221\"],[1,\"#276419\"]]},\"xaxis\":{\"gridcolor\":\"white\",\"linecolor\":\"white\",\"ticks\":\"\",\"title\":{\"standoff\":15},\"zerolinecolor\":\"white\",\"automargin\":true,\"zerolinewidth\":2},\"yaxis\":{\"gridcolor\":\"white\",\"linecolor\":\"white\",\"ticks\":\"\",\"title\":{\"standoff\":15},\"zerolinecolor\":\"white\",\"automargin\":true,\"zerolinewidth\":2},\"scene\":{\"xaxis\":{\"backgroundcolor\":\"#E5ECF6\",\"gridcolor\":\"white\",\"linecolor\":\"white\",\"showbackground\":true,\"ticks\":\"\",\"zerolinecolor\":\"white\",\"gridwidth\":2},\"yaxis\":{\"backgroundcolor\":\"#E5ECF6\",\"gridcolor\":\"white\",\"linecolor\":\"white\",\"showbackground\":true,\"ticks\":\"\",\"zerolinecolor\":\"white\",\"gridwidth\":2},\"zaxis\":{\"backgroundcolor\":\"#E5ECF6\",\"gridcolor\":\"white\",\"linecolor\":\"white\",\"showbackground\":true,\"ticks\":\"\",\"zerolinecolor\":\"white\",\"gridwidth\":2}},\"shapedefaults\":{\"line\":{\"color\":\"#2a3f5f\"}},\"annotationdefaults\":{\"arrowcolor\":\"#2a3f5f\",\"arrowhead\":0,\"arrowwidth\":1},\"geo\":{\"bgcolor\":\"white\",\"landcolor\":\"#E5ECF6\",\"subunitcolor\":\"white\",\"showland\":true,\"showlakes\":true,\"lakecolor\":\"white\"},\"title\":{\"x\":0.05},\"mapbox\":{\"style\":\"light\"}}},\"xaxis\":{\"anchor\":\"y\",\"domain\":[0.0,1.0]},\"yaxis\":{\"anchor\":\"x\",\"domain\":[0.0,1.0]},\"margin\":{\"t\":60}},                        {\"responsive\": true}                    ).then(function(){\n",
       "                            \n",
       "var gd = document.getElementById('9f1b81e9-8368-4af1-b275-93e196be4df0');\n",
       "var x = new MutationObserver(function (mutations, observer) {{\n",
       "        var display = window.getComputedStyle(gd).display;\n",
       "        if (!display || display === 'none') {{\n",
       "            console.log([gd, 'removed!']);\n",
       "            Plotly.purge(gd);\n",
       "            observer.disconnect();\n",
       "        }}\n",
       "}});\n",
       "\n",
       "// Listen for the removal of the full notebook cells\n",
       "var notebookContainer = gd.closest('#notebook-container');\n",
       "if (notebookContainer) {{\n",
       "    x.observe(notebookContainer, {childList: true});\n",
       "}}\n",
       "\n",
       "// Listen for the clearing of the current output cell\n",
       "var outputEl = gd.closest('.output');\n",
       "if (outputEl) {{\n",
       "    x.observe(outputEl, {childList: true});\n",
       "}}\n",
       "\n",
       "                        })                };                });            </script>        </div>"
      ]
     },
     "metadata": {},
     "output_type": "display_data"
    }
   ],
   "source": [
    "import plotly.express as px\n",
    "\n",
    "px.imshow(picamera_starter.outgoing_sample_readers[0]()[..., ::-1]/255)"
   ]
  },
  {
   "cell_type": "code",
   "execution_count": 28,
   "metadata": {},
   "outputs": [
    {
     "data": {
      "text/plain": [
       "array([[[0.12941176, 0.16470588, 0.16862745],\n",
       "        [0.1254902 , 0.18431373, 0.17647059],\n",
       "        [0.11764706, 0.18431373, 0.2       ],\n",
       "        ...,\n",
       "        [0.41568627, 0.34117647, 0.28627451],\n",
       "        [0.36470588, 0.2745098 , 0.21568627],\n",
       "        [0.30980392, 0.25490196, 0.19215686]],\n",
       "\n",
       "       [[0.38823529, 0.40392157, 0.38431373],\n",
       "        [0.4       , 0.42352941, 0.38823529],\n",
       "        [0.39215686, 0.42352941, 0.39607843],\n",
       "        ...,\n",
       "        [0.5254902 , 0.42745098, 0.37647059],\n",
       "        [0.51764706, 0.42352941, 0.37254902],\n",
       "        [0.51764706, 0.43529412, 0.3372549 ]],\n",
       "\n",
       "       [[0.45098039, 0.47058824, 0.42745098],\n",
       "        [0.47843137, 0.47058824, 0.41960784],\n",
       "        [0.45098039, 0.4627451 , 0.42352941],\n",
       "        ...,\n",
       "        [0.56862745, 0.44313725, 0.36470588],\n",
       "        [0.56470588, 0.45882353, 0.35294118],\n",
       "        [0.56470588, 0.44313725, 0.33333333]],\n",
       "\n",
       "       ...,\n",
       "\n",
       "       [[0.70196078, 0.70980392, 0.63921569],\n",
       "        [0.70588235, 0.71764706, 0.65882353],\n",
       "        [0.69803922, 0.71764706, 0.6627451 ],\n",
       "        ...,\n",
       "        [0.62745098, 0.65490196, 0.63137255],\n",
       "        [0.56862745, 0.64313725, 0.63529412],\n",
       "        [0.60392157, 0.64705882, 0.62745098]],\n",
       "\n",
       "       [[0.67843137, 0.68235294, 0.63529412],\n",
       "        [0.64705882, 0.68235294, 0.64705882],\n",
       "        [0.65882353, 0.69803922, 0.65490196],\n",
       "        ...,\n",
       "        [0.6       , 0.63921569, 0.62745098],\n",
       "        [0.51372549, 0.62352941, 0.61960784],\n",
       "        [0.54901961, 0.61568627, 0.60784314]],\n",
       "\n",
       "       [[0.54117647, 0.58431373, 0.58039216],\n",
       "        [0.5372549 , 0.59607843, 0.57647059],\n",
       "        [0.58039216, 0.60392157, 0.61176471],\n",
       "        ...,\n",
       "        [0.62352941, 0.69019608, 0.65490196],\n",
       "        [0.62352941, 0.66666667, 0.65882353],\n",
       "        [0.60392157, 0.64313725, 0.64705882]]])"
      ]
     },
     "execution_count": 28,
     "metadata": {},
     "output_type": "execute_result"
    }
   ],
   "source": [
    "picamera_starter.outgoing_sample_readers[0]()/255"
   ]
  },
  {
   "cell_type": "code",
   "execution_count": 8,
   "metadata": {},
   "outputs": [
    {
     "data": {
      "text/plain": [
       "{'log': <components.CallChannel at 0x7f6a88cfe0>,\n",
       " 'setup_video_saver': <components.CallChannel at 0x7f6a88cd40>,\n",
       " 'save_video_frame': <components.CallChannel at 0x7f6a88e690>,\n",
       " 'get_logger': <components.CallChannel at 0x7f6a88e900>}"
      ]
     },
     "execution_count": 8,
     "metadata": {},
     "output_type": "execute_result"
    }
   ],
   "source": [
    "logger_starter.incoming_rpcs\n"
   ]
  },
  {
   "cell_type": "markdown",
   "metadata": {},
   "source": [
    "## Two Wheels"
   ]
  },
  {
   "cell_type": "code",
   "execution_count": 3,
   "metadata": {},
   "outputs": [
    {
     "name": "stdout",
     "output_type": "stream",
     "text": [
      "Making discoverable...\n",
      "Starting Serial Port Profile...\n"
     ]
    },
    {
     "name": "stderr",
     "output_type": "stream",
     "text": [
      "/home/kawa/projects/car1/src/components/two_wheels.py:23: RuntimeWarning: This channel is already in use, continuing anyway.  Use GPIO.setwarnings(False) to disable warnings.\n",
      "  GPIO.setup(pin, GPIO.OUT) #type: ignore\n",
      "/home/kawa/projects/car1/src/components/two_wheels.py:79: RuntimeWarning: This channel is already in use, continuing anyway.  Use GPIO.setwarnings(False) to disable warnings.\n",
      "  GPIO.setup(dir_pins[0], GPIO.OUT) #type: ignore\n",
      "/home/kawa/projects/car1/src/components/two_wheels.py:80: RuntimeWarning: This channel is already in use, continuing anyway.  Use GPIO.setwarnings(False) to disable warnings.\n",
      "  GPIO.setup(dir_pins[1], GPIO.OUT) #type: ignore\n",
      "/home/kawa/projects/car1/src/components/__init__.py:222: UserWarning: the real interval is >= ideal_interval\n",
      "  warnings.warn(\"the real interval is >= ideal_interval\")\n",
      "/home/kawa/projects/car1/src/components/__init__.py:222: UserWarning: the real interval is >= ideal_interval\n",
      "  warnings.warn(\"the real interval is >= ideal_interval\")\n",
      "[1:09:03.886181456] [12645] \u001b[1;32m INFO \u001b[1;37mCamera \u001b[1;34mcamera_manager.cpp:313 \u001b[0mlibcamera v0.3.0+65-6ddd79b5-dirty (2024-06-24T11:13:49+10:00)\n",
      "[1:09:03.953580726] [12740] \u001b[1;33m WARN \u001b[1;37mRPiSdn \u001b[1;34msdn.cpp:40 \u001b[0mUsing legacy SDN tuning - please consider moving SDN inside rpi.denoise\n",
      "[1:09:03.959663024] [12740] \u001b[1;32m INFO \u001b[1;37mRPI \u001b[1;34mvc4.cpp:446 \u001b[0mRegistered camera /base/soc/i2c0mux/i2c@1/ov5647@36 to Unicam device /dev/media4 and ISP device /dev/media1\n",
      "[1:09:03.959759796] [12740] \u001b[1;32m INFO \u001b[1;37mRPI \u001b[1;34mpipeline_base.cpp:1104 \u001b[0mUsing configuration file '/usr/local/share/libcamera/pipeline/rpi/vc4/rpi_apps.yaml'\n",
      "[1:09:03.971107638] [12645] \u001b[1;32m INFO \u001b[1;37mCamera \u001b[1;34mcamera_manager.cpp:313 \u001b[0mlibcamera v0.3.0+65-6ddd79b5-dirty (2024-06-24T11:13:49+10:00)\n",
      "[1:09:04.029557239] [12756] \u001b[1;33m WARN \u001b[1;37mRPiSdn \u001b[1;34msdn.cpp:40 \u001b[0mUsing legacy SDN tuning - please consider moving SDN inside rpi.denoise\n",
      "[1:09:04.035782492] [12756] \u001b[1;32m INFO \u001b[1;37mRPI \u001b[1;34mvc4.cpp:446 \u001b[0mRegistered camera /base/soc/i2c0mux/i2c@1/ov5647@36 to Unicam device /dev/media4 and ISP device /dev/media1\n",
      "[1:09:04.037143218] [12756] \u001b[1;32m INFO \u001b[1;37mRPI \u001b[1;34mpipeline_base.cpp:1104 \u001b[0mUsing configuration file '/usr/local/share/libcamera/pipeline/rpi/vc4/rpi_apps.yaml'\n",
      "[1:09:04.120425003] [12645] \u001b[1;32m INFO \u001b[1;37mCamera \u001b[1;34mcamera.cpp:1183 \u001b[0mconfiguring streams: (0) 114x64-RGB888 (1) 1920x1080-SGRBG10_CSI2P\n",
      "[1:09:04.121325772] [12756] \u001b[1;32m INFO \u001b[1;37mRPI \u001b[1;34mvc4.cpp:621 \u001b[0mSensor: /base/soc/i2c0mux/i2c@1/ov5647@36 - Selected sensor format: 1920x1080-SGRBG10_1X10 - Selected unicam format: 1920x1080-pgAA\n",
      "Exception in thread Thread-6 (loop_func):\n",
      "Traceback (most recent call last):\n",
      "  File \"/usr/local/lib/python3.12/threading.py\", line 1073, in _bootstrap_inner\n",
      "    self.run()\n",
      "  File \"/home/kawa/projects/car1/venv3.12/lib/python3.12/site-packages/ipykernel/ipkernel.py\", line 766, in run_closure\n",
      "    _threading_Thread_run(self)\n",
      "  File \"/usr/local/lib/python3.12/threading.py\", line 1010, in run\n",
      "    self._target(*self._args, **self._kwargs)\n",
      "  File \"/home/kawa/projects/car1/src/components/__init__.py\", line 217, in loop_func\n",
      "    func()\n",
      "  File \"/home/kawa/projects/car1/src/components/__init__.py\", line 349, in wrapped_func\n",
      "    w(v)\n",
      "  File \"/home/kawa/projects/car1/src/components/__init__.py\", line 90, in assigner\n",
      "    flatten_arr[:] = array.array(typecode, value.ravel()) # type: ignore\n",
      "    ~~~~~~~~~~~^^^\n",
      "  File \"/usr/local/lib/python3.12/multiprocessing/sharedctypes.py\", line 227, in __setitem__\n",
      "    self._obj[i] = value\n",
      "    ~~~~~~~~~^^^\n",
      "ValueError: Can only assign sequence of same size\n"
     ]
    },
    {
     "name": "stdout",
     "output_type": "stream",
     "text": [
      "saving: TwoWheelsV3saving: TwoWheelsV3\n",
      "\n",
      "saving: BlueToothCarControlSPP_V2saving: BlueToothCarControlSPP_V2saving: BlueToothCarControlSPP_V2\n",
      "\n",
      "\n"
     ]
    }
   ],
   "source": [
    "logger_starter = ComponentStarter(\n",
    "    LoggerComponent, \n",
    "    manager, \n",
    "    init_kwargs=dict(\n",
    "        loggerset = loggerset\n",
    "    ),\n",
    "    loop_intervals={'step': 1/100},\n",
    ")\n",
    "\n",
    "two_wheel_starter = ComponentStarter(\n",
    "    TwoWheelsV3, \n",
    "    manager, \n",
    "    init_kwargs=dict(\n",
    "        left_pin = 33, \n",
    "        right_pin = 32, \n",
    "        dir_pins = (16, 18), \n",
    "        name='TwoWheelsV3'\n",
    "    ),\n",
    "    loop_intervals={'step': 1/100},\n",
    "    instantiator = TwoWheelsV3.entry\n",
    "\n",
    ")\n",
    "\n",
    "angular_speed_control_starter = ComponentStarter(\n",
    "    AngularSpeedControlV3, \n",
    "    manager, \n",
    "    init_kwargs=dict(\n",
    "        i2c_address=0x68, \n",
    "        bus_num=1,\n",
    "        name='AngularSpeedControlV3'\n",
    "    ),\n",
    "    loop_intervals={'step': 1/100},\n",
    "    instantiator = AngularSpeedControlV3.entry\n",
    ")\n",
    "\n",
    "bluetooth_control_starter = ComponentStarter(\n",
    "    BlueToothCarControlSPP_V2, \n",
    "    manager, \n",
    "    init_kwargs={},\n",
    "    loop_intervals={'step': 1/100},\n",
    ")\n",
    "\n",
    "\n",
    "picamera_starter = ComponentStarter(\n",
    "    Picamera2V2, \n",
    "    manager, \n",
    "    init_kwargs=dict(\n",
    "        resolution=(114, 64), \n",
    "        framerate=30,\n",
    "        name='Picamera2V2'\n",
    "    ),\n",
    "    loop_intervals={'step': 1/30},\n",
    "    sample_setup_kwargs=dict(default_values=[np.zeros((114, 64), dtype=np.uint8)])\n",
    ")\n",
    "\n",
    "\n",
    "bt_ser_out, bt_ser = start_bluetooth_server_v2(manager)\n",
    "\n",
    "# sample\n",
    "two_wheel_starter.register_incoming_samples(\n",
    "    angular_speed_control_starter.outgoing_sample_readers\n",
    ")\n",
    "\n",
    "angular_speed_control_starter.register_incoming_samples(\n",
    "    bluetooth_control_starter.outgoing_sample_readers\n",
    ")\n",
    "\n",
    "bluetooth_control_starter.register_incoming_samples(\n",
    "    bt_ser_out\n",
    ")\n",
    "\n",
    "# rpcs\n",
    "logger_triplet = dict(\n",
    "    log=logger_starter.incoming_rpcs['log'], \n",
    "    log_time=logger_starter.incoming_rpcs['log_time'], \n",
    "    increment_index=logger_starter.incoming_rpcs['increment_index'], \n",
    ")\n",
    "\n",
    "picamera_starter.register_outgoing_rpc(\n",
    "    logger_starter.incoming_rpcs\n",
    ")\n",
    "\n",
    "\n",
    "two_wheel_starter.register_outgoing_rpc(\n",
    "    logger_triplet\n",
    ")\n",
    "angular_speed_control_starter.register_outgoing_rpc(\n",
    "    logger_triplet\n",
    ")\n",
    "bluetooth_control_starter.register_outgoing_rpc(\n",
    "    logger_triplet\n",
    ")\n",
    "\n",
    "\n",
    "\n",
    "\n",
    "logger_starter.start()\n",
    "two_wheel_starter.start()\n",
    "angular_speed_control_starter.start()\n",
    "bluetooth_control_starter.start()\n",
    "picamera_starter.start()\n",
    "\n"
   ]
  },
  {
   "cell_type": "code",
   "execution_count": 17,
   "metadata": {},
   "outputs": [
    {
     "data": {
      "text/plain": [
       "100.0"
      ]
     },
     "execution_count": 17,
     "metadata": {},
     "output_type": "execute_result"
    }
   ],
   "source": [
    "angular_speed_control_starter.outgoing_sample_readers[0]()"
   ]
  },
  {
   "cell_type": "code",
   "execution_count": 6,
   "metadata": {},
   "outputs": [
    {
     "data": {
      "text/plain": [
       "0.0"
      ]
     },
     "execution_count": 6,
     "metadata": {},
     "output_type": "execute_result"
    }
   ],
   "source": [
    "angular_speed_control_starter.outgoing_sample_readers[0]()"
   ]
  },
  {
   "cell_type": "code",
   "execution_count": 7,
   "metadata": {},
   "outputs": [
    {
     "data": {
      "text/plain": [
       "0.0"
      ]
     },
     "execution_count": 7,
     "metadata": {},
     "output_type": "execute_result"
    }
   ],
   "source": [
    "angular_speed_control_starter.outgoing_sample_readers[1]()"
   ]
  },
  {
   "cell_type": "code",
   "execution_count": null,
   "metadata": {},
   "outputs": [],
   "source": [
    "two_wheel_starter."
   ]
  },
  {
   "cell_type": "code",
   "execution_count": 18,
   "metadata": {},
   "outputs": [],
   "source": [
    "angular_speed_control_starter.get_outgoing_sample_writers()[0](100)"
   ]
  },
  {
   "cell_type": "code",
   "execution_count": 11,
   "metadata": {},
   "outputs": [],
   "source": [
    "angular_speed_control_starter.get_outgoing_sample_writers()[1](0)"
   ]
  },
  {
   "cell_type": "code",
   "execution_count": null,
   "metadata": {},
   "outputs": [],
   "source": []
  },
  {
   "cell_type": "code",
   "execution_count": 5,
   "metadata": {},
   "outputs": [],
   "source": [
    "picamera_starter.get_outgoing_sample_writers()[0](np.zeros((114, 64), dtype=np.uint8))"
   ]
  },
  {
   "cell_type": "code",
   "execution_count": 6,
   "metadata": {},
   "outputs": [
    {
     "data": {
      "text/plain": [
       "array([[0, 0, 0, ..., 0, 0, 0],\n",
       "       [0, 0, 0, ..., 0, 0, 0],\n",
       "       [0, 0, 0, ..., 0, 0, 0],\n",
       "       ...,\n",
       "       [0, 0, 0, ..., 0, 0, 0],\n",
       "       [0, 0, 0, ..., 0, 0, 0],\n",
       "       [0, 0, 0, ..., 0, 0, 0]])"
      ]
     },
     "execution_count": 6,
     "metadata": {},
     "output_type": "execute_result"
    }
   ],
   "source": [
    "picamera_starter.outgoing_sample_readers[0]()"
   ]
  },
  {
   "cell_type": "code",
   "execution_count": 4,
   "metadata": {},
   "outputs": [],
   "source": [
    "\n",
    "\n",
    "\n",
    "logger_starter.process.terminate()\n",
    "two_wheel_starter.process.terminate()\n",
    "angular_speed_control_starter.process.terminate()\n",
    "bluetooth_control_starter.process.terminate()\n",
    "picamera_starter.process.terminate()\n",
    "\n"
   ]
  },
  {
   "cell_type": "code",
   "execution_count": 13,
   "metadata": {},
   "outputs": [
    {
     "data": {
      "text/plain": [
       "{'rpc': [], 'sampler': [], 'sample_producer': [], 'loop': []}"
      ]
     },
     "execution_count": 13,
     "metadata": {},
     "output_type": "execute_result"
    }
   ],
   "source": [
    "LoggerComponent.handler_roles"
   ]
  },
  {
   "cell_type": "code",
   "execution_count": 8,
   "metadata": {},
   "outputs": [
    {
     "data": {
      "text/plain": [
       "{}"
      ]
     },
     "execution_count": 8,
     "metadata": {},
     "output_type": "execute_result"
    }
   ],
   "source": [
    "logger_starter.incoming_rpcs"
   ]
  },
  {
   "cell_type": "code",
   "execution_count": 4,
   "metadata": {},
   "outputs": [
    {
     "name": "stderr",
     "output_type": "stream",
     "text": [
      "/home/kawa/projects/car1/src/components/two_wheels.py:24: RuntimeWarning: This channel is already in use, continuing anyway.  Use GPIO.setwarnings(False) to disable warnings.\n",
      "  GPIO.setup(pin, GPIO.OUT) #type: ignore\n",
      "/home/kawa/projects/car1/src/components/two_wheels.py:75: RuntimeWarning: This channel is already in use, continuing anyway.  Use GPIO.setwarnings(False) to disable warnings.\n",
      "  GPIO.setup(dir_pins[0], GPIO.OUT) #type: ignore\n",
      "/home/kawa/projects/car1/src/components/two_wheels.py:76: RuntimeWarning: This channel is already in use, continuing anyway.  Use GPIO.setwarnings(False) to disable warnings.\n",
      "  GPIO.setup(dir_pins[1], GPIO.OUT) #type: ignore\n",
      "/home/kawa/projects/car1/src/components/__init__.py:185: UserWarning: the real interval is >= ideal_interval\n",
      "  warnings.warn(\"the real interval is >= ideal_interval\")\n",
      "/home/kawa/projects/car1/src/components/__init__.py:185: UserWarning: the real interval is >= ideal_interval\n",
      "  warnings.warn(\"the real interval is >= ideal_interval\")\n",
      "Process Process-3:\n",
      "Traceback (most recent call last):\n",
      "[0:09:07.249988121] [6235] \u001b[1;32m INFO \u001b[1;37mCamera \u001b[1;34mcamera_manager.cpp:297 \u001b[0mlibcamera v0.0.5+83-bde9b04f\n",
      "[0:09:07.413354510] [6305] \u001b[1;32m INFO \u001b[1;37mRPI \u001b[1;34mvc4.cpp:437 \u001b[0mRegistered camera /base/soc/i2c0mux/i2c@1/ov5647@36 to Unicam device /dev/media3 and ISP device /dev/media2\n",
      "[0:09:07.414395476] [6305] \u001b[1;32m INFO \u001b[1;37mRPI \u001b[1;34mpipeline_base.cpp:1101 \u001b[0mUsing configuration file '/usr/share/libcamera/pipeline/rpi/vc4/rpi_apps.yaml'\n",
      "[0:09:07.446295126] [6235] \u001b[1;32m INFO \u001b[1;37mCamera \u001b[1;34mcamera.cpp:1033 \u001b[0mconfiguring streams: (0) 114x64-RGB888 (1) 1920x1080-SGRBG10_CSI2P\n",
      "[0:09:07.448564225] [6305] \u001b[1;32m INFO \u001b[1;37mRPI \u001b[1;34mvc4.cpp:565 \u001b[0mSensor: /base/soc/i2c0mux/i2c@1/ov5647@36 - Selected sensor format: 1920x1080-SGRBG10_1X10 - Selected unicam format: 1920x1080-pgAA\n",
      "  File \"/usr/lib/python3.9/multiprocessing/process.py\", line 315, in _bootstrap\n",
      "    self.run()\n",
      "  File \"/usr/lib/python3.9/multiprocessing/process.py\", line 108, in run\n",
      "    self._target(*self._args, **self._kwargs)\n",
      "  File \"/home/kawa/projects/car1/src/components/__init__.py\", line 444, in target\n",
      "    loop(sampler_handlers[0], **loop_kwargs)\n",
      "IndexError: list index out of range\n",
      "/home/kawa/projects/car1/src/components/__init__.py:185: UserWarning: the real interval is >= ideal_interval\n",
      "  warnings.warn(\"the real interval is >= ideal_interval\")\n",
      "/home/kawa/projects/car1/src/components/__init__.py:185: UserWarning: the real interval is >= ideal_interval\n",
      "  warnings.warn(\"the real interval is >= ideal_interval\")\n"
     ]
    },
    {
     "name": "stdout",
     "output_type": "stream",
     "text": [
      "saving: TwoWheelsV3\n",
      "saving: BlueToothCarControlSPP_V2\n",
      "saving: Picamera2V2\n",
      "saving: AngularSpeedControlV3\n",
      "saving: TwoWheelsV3\n",
      "saving: BlueToothCarControlSPP_V2\n",
      "saving: Picamera2V2\n",
      "saving: AngularSpeedControlV3\n",
      "saving: TwoWheelsV3\n",
      "saving: BlueToothCarControlSPP_V2\n",
      "saving: Picamera2V2\n",
      "saving: AngularSpeedControlV3\n",
      "saving: TwoWheelsV3\n",
      "saving: BlueToothCarControlSPP_V2\n",
      "saving: Picamera2V2\n",
      "saving: AngularSpeedControlV3\n",
      "saving: TwoWheelsV3\n",
      "saving: BlueToothCarControlSPP_V2\n",
      "saving: Picamera2V2\n",
      "saving: AngularSpeedControlV3\n",
      "saving: TwoWheelsV3\n",
      "saving: BlueToothCarControlSPP_V2\n",
      "saving: Picamera2V2\n",
      "saving: AngularSpeedControlV3\n",
      "saving: TwoWheelsV3\n",
      "saving: BlueToothCarControlSPP_V2\n",
      "saving: Picamera2V2\n",
      "saving: AngularSpeedControlV3\n",
      "saving: TwoWheelsV3\n",
      "saving: BlueToothCarControlSPP_V2\n",
      "saving: Picamera2V2\n",
      "saving: AngularSpeedControlV3\n",
      "saving: TwoWheelsV3\n",
      "saving: BlueToothCarControlSPP_V2\n",
      "saving: Picamera2V2\n",
      "saving: AngularSpeedControlV3\n",
      "saving: TwoWheelsV3\n",
      "saving: BlueToothCarControlSPP_V2\n",
      "saving: Picamera2V2\n",
      "saving: AngularSpeedControlV3\n",
      "saving: TwoWheelsV3\n",
      "saving: BlueToothCarControlSPP_V2\n",
      "saving: Picamera2V2\n",
      "saving: AngularSpeedControlV3\n",
      "saving: TwoWheelsV3\n",
      "saving: BlueToothCarControlSPP_V2\n",
      "saving: Picamera2V2\n",
      "saving: AngularSpeedControlV3\n",
      "saving: TwoWheelsV3\n",
      "saving: BlueToothCarControlSPP_V2\n",
      "saving: Picamera2V2\n",
      "saving: AngularSpeedControlV3\n",
      "saving: TwoWheelsV3\n",
      "saving: BlueToothCarControlSPP_V2saving: Picamera2V2\n",
      "\n",
      "saving: AngularSpeedControlV3\n",
      "saving: TwoWheelsV3\n",
      "saving: BlueToothCarControlSPP_V2saving: Picamera2V2\n",
      "\n",
      "saving: AngularSpeedControlV3\n",
      "saving: TwoWheelsV3\n",
      "saving: BlueToothCarControlSPP_V2\n",
      "saving: Picamera2V2\n",
      "saving: AngularSpeedControlV3\n",
      "saving: TwoWheelsV3\n",
      "saving: BlueToothCarControlSPP_V2\n",
      "saving: Picamera2V2\n"
     ]
    }
   ],
   "source": [
    "\n",
    "logger_starter.register_incoming_events(\n",
    "    dict(\n",
    "        log_handler=[\n",
    "            two_wheel_starter.outgoing_events['logging'], \n",
    "            angular_speed_control_starter.outgoing_events['logging'], \n",
    "            bluetooth_control_starter.outgoing_events['logging'], \n",
    "            picamera_starter.outgoing_events['logging'], \n",
    "        ]\n",
    "    )\n",
    ")\n",
    "\n",
    "\n",
    "\n",
    "two_wheel_starter.register_incoming_samples(\n",
    "    angular_speed_control_starter.outgoing_samples\n",
    ")\n",
    "\n",
    "angular_speed_control_starter.register_incoming_samples(\n",
    "    bluetooth_control_starter.outgoing_samples\n",
    ")\n",
    "\n",
    "bluetooth_control_starter.register_incoming_samples(\n",
    "    bt_ser_out\n",
    ")\n",
    "\n",
    "logger_starter.start()\n",
    "two_wheel_starter.start()\n",
    "angular_speed_control_starter.start()\n",
    "bluetooth_control_starter.start()\n",
    "picamera_starter.start()\n",
    "\n"
   ]
  },
  {
   "cell_type": "code",
   "execution_count": 5,
   "metadata": {},
   "outputs": [],
   "source": [
    "\n",
    "logger_starter.process.terminate()\n",
    "two_wheel_starter.process.terminate()\n",
    "angular_speed_control_starter.process.terminate()\n",
    "bluetooth_control_starter.process.terminate()\n",
    "picamera_starter.process.terminate()\n",
    "\n"
   ]
  },
  {
   "cell_type": "markdown",
   "metadata": {},
   "source": [
    "# ML Component\n"
   ]
  },
  {
   "cell_type": "code",
   "execution_count": 186,
   "metadata": {},
   "outputs": [],
   "source": [
    "ml_out, ml_starter = default_component_process_starter_v2(\n",
    "    ImageMLController, \n",
    "    init_kwargs= dict(\n",
    "        #resolution=(114, 64), framerate=30,\n",
    "        model_path='test.keras',\n",
    "        logger_set=logger_set, \n",
    "        name='ImageMLController'\n",
    "    ), \n",
    "    mainloop=default_loop_v2, \n",
    "    main_kwargs=dict(interval=1/60), \n",
    "    manager=manager, \n",
    ")\n",
    "ml = ml_starter(cam_out)"
   ]
  },
  {
   "cell_type": "code",
   "execution_count": 194,
   "metadata": {},
   "outputs": [],
   "source": [
    "ml.terminate()"
   ]
  },
  {
   "cell_type": "code",
   "execution_count": 3,
   "metadata": {},
   "outputs": [],
   "source": [
    "d = {'a':1, 'b':False}\n",
    "\n",
    "if b:= d.get('b'):\n",
    "    print (b)"
   ]
  },
  {
   "cell_type": "code",
   "execution_count": null,
   "metadata": {},
   "outputs": [],
   "source": []
  }
 ],
 "metadata": {
  "kernelspec": {
   "display_name": ".venv",
   "language": "python",
   "name": "python3"
  },
  "language_info": {
   "codemirror_mode": {
    "name": "ipython",
    "version": 3
   },
   "file_extension": ".py",
   "mimetype": "text/x-python",
   "name": "python",
   "nbconvert_exporter": "python",
   "pygments_lexer": "ipython3",
   "version": "3.12.4"
  }
 },
 "nbformat": 4,
 "nbformat_minor": 2
}
