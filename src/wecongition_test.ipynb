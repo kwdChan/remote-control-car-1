{
 "cells": [
  {
   "cell_type": "code",
   "execution_count": 2,
   "metadata": {},
   "outputs": [],
   "source": [
    "\n",
    "from typing import Callable, Tuple, TypeVar, cast, get_origin, get_args, Union, Any, Optional, Dict, List\n",
    "from components import CallChannel, ComponentStarter, numpy_sample_setup\n",
    "from utils import mon_samples\n",
    "from components.microphone import microphone as mic\n",
    "from components.microphone import wecongition as we\n",
    "\n",
    "from data_collection.data_collection import LoggerSet\n",
    "import numpy as np\n",
    "import datetime\n",
    "\n",
    "from multiprocessing import Manager\n",
    "\n",
    "#import RPi.GPIO as GPIO\n",
    "\n",
    "from IPython.display import Audio\n",
    "\n",
    "import plotly.express as px\n",
    "#GPIO.setmode(GPIO.BOARD)\n",
    "\n",
    "%load_ext autoreload\n",
    "%autoreload 2\n"
   ]
  },
  {
   "cell_type": "code",
   "execution_count": 3,
   "metadata": {},
   "outputs": [],
   "source": [
    "m = Manager()"
   ]
  },
  {
   "cell_type": "code",
   "execution_count": 6,
   "metadata": {},
   "outputs": [],
   "source": [
    "\n",
    "wecog = ComponentStarter(\n",
    "    we.WeDrive, \n",
    "    m, \n",
    "    loop_intervals=dict(main_loop=0.05),\n",
    "    instantiator=we.WeDrive.entry,\n",
    "    init_kwargs = dict(\n",
    "        model_path='wecongition_model_v0.onnx'\n",
    "    )\n",
    ")\n"
   ]
  },
  {
   "cell_type": "code",
   "execution_count": 7,
   "metadata": {},
   "outputs": [
    {
     "name": "stdout",
     "output_type": "stream",
     "text": [
      "using device: Webcam C270 Mono\n"
     ]
    },
    {
     "name": "stderr",
     "output_type": "stream",
     "text": [
      "Exception in thread Thread-19 (loop_func):\n",
      "Traceback (most recent call last):\n",
      "  File \"/usr/lib/python3.10/threading.py\", line 1016, in _bootstrap_inner\n",
      "    self.run()\n",
      "  File \"/home/kawa/CurrentProjects/pi_projects/self-driving/remote-control-car-1/venv/lib/python3.10/site-packages/ipykernel/ipkernel.py\", line 766, in run_closure\n",
      "    _threading_Thread_run(self)\n",
      "  File \"/usr/lib/python3.10/threading.py\", line 953, in run\n",
      "    self._target(*self._args, **self._kwargs)\n",
      "  File \"/home/kawa/CurrentProjects/pi_projects/self-driving/remote-control-car-1/src/components/syncronisation/__init__.py\", line 219, in loop_func\n",
      "    func()\n",
      "  File \"/home/kawa/CurrentProjects/pi_projects/self-driving/remote-control-car-1/src/components/syncronisation/__init__.py\", line 347, in wrapped_func\n",
      "    return_values = func(*args, **kwargs)\n",
      "  File \"/home/kawa/CurrentProjects/pi_projects/self-driving/remote-control-car-1/src/components/microphone/wecongition.py\", line 123, in main_loop\n",
      "    elif self.weee_model(sig[-self.weee_model.siglen:]): \n",
      "  File \"/home/kawa/CurrentProjects/pi_projects/self-driving/remote-control-car-1/src/components/microphone/wecongition.py\", line 65, in __call__\n",
      "    assert len(sig) == self.siglen\n",
      "AssertionError\n"
     ]
    }
   ],
   "source": [
    "wecog.start()"
   ]
  },
  {
   "cell_type": "code",
   "execution_count": 8,
   "metadata": {},
   "outputs": [
    {
     "name": "stdout",
     "output_type": "stream",
     "text": [
      "0.0, 0.0                          \r"
     ]
    },
    {
     "ename": "KeyboardInterrupt",
     "evalue": "",
     "output_type": "error",
     "traceback": [
      "\u001b[0;31m---------------------------------------------------------------------------\u001b[0m",
      "\u001b[0;31mKeyboardInterrupt\u001b[0m                         Traceback (most recent call last)",
      "Cell \u001b[0;32mIn[8], line 1\u001b[0m\n\u001b[0;32m----> 1\u001b[0m \u001b[43mmon_samples\u001b[49m\u001b[43m(\u001b[49m\u001b[43mwecog\u001b[49m\u001b[38;5;241;43m.\u001b[39;49m\u001b[43moutgoing_samples\u001b[49m\u001b[43m,\u001b[49m\u001b[43m \u001b[49m\u001b[43minterval\u001b[49m\u001b[38;5;241;43m=\u001b[39;49m\u001b[38;5;241;43m0.001\u001b[39;49m\u001b[43m)\u001b[49m\n",
      "File \u001b[0;32m~/CurrentProjects/pi_projects/self-driving/remote-control-car-1/src/utils.py:25\u001b[0m, in \u001b[0;36mmon_samples\u001b[0;34m(samples, interval)\u001b[0m\n\u001b[1;32m     23\u001b[0m     line \u001b[38;5;241m=\u001b[39m line \u001b[38;5;241m+\u001b[39m \u001b[38;5;28mstr\u001b[39m(s()) \u001b[38;5;241m+\u001b[39m \u001b[38;5;124m'\u001b[39m\u001b[38;5;124m, \u001b[39m\u001b[38;5;124m'\u001b[39m\n\u001b[1;32m     24\u001b[0m \u001b[38;5;28mprint\u001b[39m(line[:\u001b[38;5;241m-\u001b[39m\u001b[38;5;241m2\u001b[39m], end\u001b[38;5;241m=\u001b[39m\u001b[38;5;124m'\u001b[39m\u001b[38;5;124m                          \u001b[39m\u001b[38;5;130;01m\\r\u001b[39;00m\u001b[38;5;124m'\u001b[39m)\n\u001b[0;32m---> 25\u001b[0m \u001b[43mtime\u001b[49m\u001b[38;5;241;43m.\u001b[39;49m\u001b[43msleep\u001b[49m\u001b[43m(\u001b[49m\u001b[43minterval\u001b[49m\u001b[43m)\u001b[49m\n",
      "\u001b[0;31mKeyboardInterrupt\u001b[0m: "
     ]
    }
   ],
   "source": [
    "mon_samples(wecog.outgoing_samples, interval=0.001)"
   ]
  },
  {
   "cell_type": "code",
   "execution_count": 32,
   "metadata": {},
   "outputs": [
    {
     "data": {
      "text/plain": [
       "<Semaphore(value=0)>"
      ]
     },
     "execution_count": 32,
     "metadata": {},
     "output_type": "execute_result"
    }
   ],
   "source": [
    "(mic_com.incoming_rpcs['get_signal'].call_semaphore)"
   ]
  },
  {
   "cell_type": "code",
   "execution_count": 7,
   "metadata": {},
   "outputs": [],
   "source": [
    "#mic_com.process_starter.terminate()\n",
    "wecog.process_starter.terminate()\n"
   ]
  },
  {
   "cell_type": "code",
   "execution_count": 27,
   "metadata": {},
   "outputs": [
    {
     "data": {
      "text/plain": [
       "6400"
      ]
     },
     "execution_count": 27,
     "metadata": {},
     "output_type": "execute_result"
    }
   ],
   "source": [
    "len(mic_com.incoming_rpcs['get_signal'].call(0)()[1])"
   ]
  },
  {
   "cell_type": "code",
   "execution_count": 22,
   "metadata": {},
   "outputs": [
    {
     "data": {
      "text/plain": [
       "13.0"
      ]
     },
     "execution_count": 22,
     "metadata": {},
     "output_type": "execute_result"
    }
   ],
   "source": [
    "6656/512"
   ]
  },
  {
   "cell_type": "code",
   "execution_count": null,
   "metadata": {},
   "outputs": [],
   "source": [
    "ComponentStarter?"
   ]
  },
  {
   "cell_type": "code",
   "execution_count": null,
   "metadata": {},
   "outputs": [],
   "source": [
    "class TempData:\n",
    "    def __init__(self):\n",
    "        self.data = {0: [], 1: []}\n",
    "\n",
    "    def append(self, idx, sig):\n",
    "        self.data[idx] += sig\n",
    "\n",
    "\n",
    "x = TempData()\n",
    "mics.start(x.append)"
   ]
  },
  {
   "cell_type": "code",
   "execution_count": null,
   "metadata": {},
   "outputs": [],
   "source": [
    "mics.stop()"
   ]
  },
  {
   "cell_type": "code",
   "execution_count": null,
   "metadata": {},
   "outputs": [],
   "source": [
    "mics.sample_rate"
   ]
  },
  {
   "cell_type": "code",
   "execution_count": null,
   "metadata": {},
   "outputs": [],
   "source": [
    "Audio(np.array(x.data[0][:])-np.array(x.data[1][:]), rate=mics.sample_rate)"
   ]
  },
  {
   "cell_type": "code",
   "execution_count": null,
   "metadata": {},
   "outputs": [],
   "source": [
    "Audio(np.array(x.data[0]), rate=mics.sample_rate)"
   ]
  },
  {
   "cell_type": "code",
   "execution_count": null,
   "metadata": {},
   "outputs": [],
   "source": [
    "x0 = np.array(x.data[0])\n",
    "x1 = np.array(x.data[1])\n",
    "\n"
   ]
  },
  {
   "cell_type": "code",
   "execution_count": null,
   "metadata": {},
   "outputs": [],
   "source": [
    "x0n = x0/(x0**2).sum()**(1/2)"
   ]
  },
  {
   "cell_type": "code",
   "execution_count": null,
   "metadata": {},
   "outputs": [],
   "source": [
    "x1n = x1/(x1**2).sum()**(1/2)"
   ]
  },
  {
   "cell_type": "code",
   "execution_count": null,
   "metadata": {},
   "outputs": [],
   "source": [
    "Audio(x1n-x0n, rate=16000)"
   ]
  },
  {
   "cell_type": "code",
   "execution_count": null,
   "metadata": {},
   "outputs": [],
   "source": [
    "Audio(x1n, rate=16000)"
   ]
  },
  {
   "cell_type": "code",
   "execution_count": null,
   "metadata": {},
   "outputs": [],
   "source": [
    "np.vector_norm"
   ]
  },
  {
   "cell_type": "code",
   "execution_count": null,
   "metadata": {},
   "outputs": [],
   "source": [
    "px.line(np.c_[x0n, x1n][10000:50000])"
   ]
  },
  {
   "cell_type": "code",
   "execution_count": null,
   "metadata": {},
   "outputs": [],
   "source": [
    "px.line((x0n-x1n)[10000:50000])"
   ]
  },
  {
   "cell_type": "code",
   "execution_count": null,
   "metadata": {},
   "outputs": [],
   "source": [
    "len(np.c_[x0, x1])"
   ]
  },
  {
   "cell_type": "code",
   "execution_count": null,
   "metadata": {},
   "outputs": [],
   "source": [
    "np.array(x.data[0][:100000])-np.array(x.data[1][:100000])"
   ]
  }
 ],
 "metadata": {
  "kernelspec": {
   "display_name": "venv3.11",
   "language": "python",
   "name": "python3"
  },
  "language_info": {
   "codemirror_mode": {
    "name": "ipython",
    "version": 3
   },
   "file_extension": ".py",
   "mimetype": "text/x-python",
   "name": "python",
   "nbconvert_exporter": "python",
   "pygments_lexer": "ipython3",
   "version": "3.10.12"
  }
 },
 "nbformat": 4,
 "nbformat_minor": 2
}
