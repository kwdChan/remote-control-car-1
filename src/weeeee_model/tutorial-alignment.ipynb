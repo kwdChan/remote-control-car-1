{
 "cells": [
  {
   "cell_type": "markdown",
   "metadata": {},
   "source": [
    "https://pytorch.org/audio/stable/tutorials/ctc_forced_alignment_api_tutorial.html"
   ]
  },
  {
   "cell_type": "code",
   "execution_count": null,
   "metadata": {},
   "outputs": [],
   "source": [
    "import torch\n",
    "import torchaudio\n",
    "device = torch.device(\"cuda\")"
   ]
  },
  {
   "cell_type": "code",
   "execution_count": null,
   "metadata": {},
   "outputs": [],
   "source": [
    "SPEECH_FILE = torchaudio.utils.download_asset(\"tutorial-assets/Lab41-SRI-VOiCES-src-sp0307-ch127535-sg0042.wav\")\n",
    "waveform, _ = torchaudio.load(SPEECH_FILE)\n",
    "TRANSCRIPT = \"wi biside mi at dis moment\".split()"
   ]
  },
  {
   "cell_type": "code",
   "execution_count": null,
   "metadata": {},
   "outputs": [],
   "source": [
    "waveform\n",
    "torch.linalg.vector_norm(waveform, dim=0) - waveform"
   ]
  },
  {
   "cell_type": "code",
   "execution_count": null,
   "metadata": {},
   "outputs": [],
   "source": [
    "bundle = torchaudio.pipelines.MMS_FA\n",
    "model = bundle.get_model(with_star=False).to(device)\n",
    "\n",
    "with torch.inference_mode():\n",
    "    emission, _ = model(waveform.to(device))"
   ]
  },
  {
   "cell_type": "code",
   "execution_count": null,
   "metadata": {},
   "outputs": [],
   "source": [
    "import IPython\n",
    "import matplotlib.pyplot as plt\n",
    "\n",
    "import torchaudio.functional as F\n",
    "def plot_emission(emission):\n",
    "    fig, ax = plt.subplots()\n",
    "    ax.imshow(emission.cpu().T)\n",
    "    ax.set_title(\"Frame-wise class probabilities\")\n",
    "    ax.set_xlabel(\"Time\")\n",
    "    ax.set_ylabel(\"Labels\")\n",
    "    fig.tight_layout()\n",
    "\n",
    "\n",
    "plot_emission(emission[0])"
   ]
  },
  {
   "cell_type": "code",
   "execution_count": null,
   "metadata": {},
   "outputs": [],
   "source": [
    "LABELS = bundle.get_labels(star=None)\n",
    "DICTIONARY = bundle.get_dict(star=None)\n",
    "# for k, v in DICTIONARY.items():\n",
    "#     print(f\"{k}: {v}\")"
   ]
  },
  {
   "cell_type": "code",
   "execution_count": null,
   "metadata": {},
   "outputs": [],
   "source": [
    "tokenized_transcript = [DICTIONARY[c] for word in TRANSCRIPT for c in word]\n",
    "\n",
    "for t in tokenized_transcript:\n",
    "    print(t, end=\" \")\n",
    "print()"
   ]
  },
  {
   "cell_type": "code",
   "execution_count": null,
   "metadata": {},
   "outputs": [],
   "source": [
    "def align(emission, tokens):\n",
    "    targets = torch.tensor([tokens], dtype=torch.int32, device=device)\n",
    "    alignments, scores = F.forced_align(emission, targets, blank=0)\n",
    "\n",
    "    alignments, scores = alignments[0], scores[0]  # remove batch dimension for simplicity\n",
    "    scores = scores.exp()  # convert back to probability\n",
    "    return alignments, scores\n",
    "\n",
    "\n",
    "aligned_tokens, alignment_scores = align(emission, tokenized_transcript)"
   ]
  },
  {
   "cell_type": "code",
   "execution_count": null,
   "metadata": {},
   "outputs": [],
   "source": [
    "# for i, (ali, score) in enumerate(zip(aligned_tokens, alignment_scores)):\n",
    "#     print(f\"{i:3d}:\\t{ali:2d} [{LABELS[ali]}], {score:.2f}\")"
   ]
  },
  {
   "cell_type": "code",
   "execution_count": null,
   "metadata": {},
   "outputs": [],
   "source": [
    "token_spans = F.merge_tokens(aligned_tokens, alignment_scores)\n",
    "\n",
    "print(\"Token\\tTime\\tScore\")\n",
    "for s in token_spans:\n",
    "    print(f\"{LABELS[s.token]}\\t[{s.start:3d}, {s.end:3d})\\t{s.score:.2f}\")"
   ]
  },
  {
   "cell_type": "code",
   "execution_count": null,
   "metadata": {},
   "outputs": [],
   "source": [
    "def unflatten(list_, lengths):\n",
    "    assert len(list_) == sum(lengths)\n",
    "    i = 0\n",
    "    ret = []\n",
    "    for l in lengths:\n",
    "        ret.append(list_[i : i + l])\n",
    "        i += l\n",
    "    return ret\n",
    "\n",
    "\n",
    "word_spans = unflatten(token_spans, [len(word) for word in TRANSCRIPT])\n"
   ]
  },
  {
   "cell_type": "code",
   "execution_count": null,
   "metadata": {},
   "outputs": [],
   "source": [
    "# Compute average score weighted by the span length\n",
    "def _score(spans):\n",
    "    return sum(s.score * len(s) for s in spans) / sum(len(s) for s in spans)\n",
    "\n",
    "\n",
    "def preview_word(waveform, spans, num_frames, transcript, sample_rate=bundle.sample_rate):\n",
    "    ratio = waveform.size(1) / num_frames\n",
    "    x0 = int(ratio * spans[0].start)\n",
    "    x1 = int(ratio * spans[-1].end)\n",
    "    print(f\"{transcript} ({_score(spans):.2f}): {x0 / sample_rate:.3f} - {x1 / sample_rate:.3f} sec\")\n",
    "    segment = waveform[:, x0:x1]\n",
    "    return IPython.display.Audio(segment.numpy(), rate=sample_rate)\n",
    "\n",
    "\n",
    "num_frames = emission.size(1)"
   ]
  },
  {
   "cell_type": "code",
   "execution_count": null,
   "metadata": {},
   "outputs": [],
   "source": [
    "# Generate the audio for each segment\n",
    "print(TRANSCRIPT)\n",
    "IPython.display.Audio(SPEECH_FILE)"
   ]
  },
  {
   "cell_type": "code",
   "execution_count": null,
   "metadata": {},
   "outputs": [],
   "source": [
    "preview_word(waveform, word_spans[0], num_frames, TRANSCRIPT[0])\n"
   ]
  },
  {
   "cell_type": "code",
   "execution_count": null,
   "metadata": {},
   "outputs": [],
   "source": [
    "def plot_alignments(waveform, token_spans, emission, transcript, sample_rate=bundle.sample_rate):\n",
    "    ratio = waveform.size(1) / emission.size(1) / sample_rate\n",
    "\n",
    "    fig, axes = plt.subplots(2, 1)\n",
    "    axes[0].imshow(emission[0].detach().cpu().T, aspect=\"auto\")\n",
    "    axes[0].set_title(\"Emission\")\n",
    "    axes[0].set_xticks([])\n",
    "\n",
    "    axes[1].specgram(waveform[0], Fs=sample_rate)\n",
    "    for t_spans, chars in zip(token_spans, transcript):\n",
    "        t0, t1 = t_spans[0].start + 0.1, t_spans[-1].end - 0.1\n",
    "        axes[0].axvspan(t0 - 0.5, t1 - 0.5, facecolor=\"None\", hatch=\"/\", edgecolor=\"white\")\n",
    "        axes[1].axvspan(ratio * t0, ratio * t1, facecolor=\"None\", hatch=\"/\", edgecolor=\"white\")\n",
    "        axes[1].annotate(f\"{_score(t_spans):.2f}\", (ratio * t0, sample_rate * 0.51), annotation_clip=False)\n",
    "\n",
    "        for span, char in zip(t_spans, chars):\n",
    "            t0 = span.start * ratio\n",
    "            axes[1].annotate(char, (t0, sample_rate * 0.55), annotation_clip=False)\n",
    "\n",
    "    axes[1].set_xlabel(\"time [second]\")\n",
    "    axes[1].set_xlim([0, None])\n",
    "    fig.tight_layout()\n",
    "plot_alignments(waveform, word_spans, emission, TRANSCRIPT)"
   ]
  },
  {
   "cell_type": "code",
   "execution_count": null,
   "metadata": {},
   "outputs": [],
   "source": [
    "def plot_scores(word_spans, scores):\n",
    "    fig, ax = plt.subplots()\n",
    "    span_xs, span_hs = [], []\n",
    "    ax.axvspan(word_spans[0][0].start - 0.05, word_spans[-1][-1].end + 0.05, facecolor=\"paleturquoise\", edgecolor=\"none\", zorder=-1)\n",
    "    for t_span in word_spans:\n",
    "        for span in t_span:\n",
    "            for t in range(span.start, span.end):\n",
    "                span_xs.append(t + 0.5)\n",
    "                span_hs.append(scores[t].item())\n",
    "            ax.annotate(LABELS[span.token], (span.start, -0.07))\n",
    "        ax.axvspan(t_span[0].start - 0.05, t_span[-1].end + 0.05, facecolor=\"mistyrose\", edgecolor=\"none\", zorder=-1)\n",
    "    ax.bar(span_xs, span_hs, color=\"lightsalmon\", edgecolor=\"coral\")\n",
    "    ax.set_title(\"Frame-level scores and word segments\")\n",
    "    ax.set_ylim(-0.1, None)\n",
    "    ax.grid(True, axis=\"y\")\n",
    "    ax.axhline(0, color=\"black\")\n",
    "    fig.tight_layout()\n",
    "\n",
    "\n",
    "plot_scores(word_spans, alignment_scores)\n"
   ]
  }
 ],
 "metadata": {
  "kernelspec": {
   "display_name": "venv",
   "language": "python",
   "name": "python3"
  },
  "language_info": {
   "codemirror_mode": {
    "name": "ipython",
    "version": 3
   },
   "file_extension": ".py",
   "mimetype": "text/x-python",
   "name": "python",
   "nbconvert_exporter": "python",
   "pygments_lexer": "ipython3",
   "version": "3.10.12"
  }
 },
 "nbformat": 4,
 "nbformat_minor": 2
}
