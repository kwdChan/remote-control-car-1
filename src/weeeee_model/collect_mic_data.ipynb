{
 "cells": [
  {
   "cell_type": "code",
   "execution_count": 2,
   "metadata": {},
   "outputs": [],
   "source": [
    "import sys\n",
    "sys.path.append('../../src')\n",
    "%load_ext autoreload\n",
    "%autoreload 2"
   ]
  },
  {
   "cell_type": "code",
   "execution_count": 3,
   "metadata": {},
   "outputs": [],
   "source": [
    "from components.microphone import microphone as mic"
   ]
  },
  {
   "cell_type": "code",
   "execution_count": 4,
   "metadata": {},
   "outputs": [
    {
     "name": "stdout",
     "output_type": "stream",
     "text": [
      "[0] Discard all samples (playback) or generate zero samples (capture)\n",
      "[1] Rate Converter Plugin Using Libav/FFmpeg Library\n",
      "[2] Rate Converter Plugin Using Samplerate Library\n",
      "[3] Rate Converter Plugin Using Speex Resampler\n",
      "[4] JACK Audio Connection Kit\n",
      "[5] Open Sound System\n",
      "[6] PulseAudio Sound Server\n",
      "[7] Plugin for channel upmix (4,6,8)\n",
      "[8] Plugin for channel downmix (stereo) with a simple spacialization\n",
      "[9] USB PnP Sound Device, USB Audio\n",
      "[10] USB PnP Sound Device, USB Audio\n"
     ]
    }
   ],
   "source": [
    "mic.MicrophoneReader.show_devices()"
   ]
  },
  {
   "cell_type": "code",
   "execution_count": 23,
   "metadata": {},
   "outputs": [],
   "source": [
    "rec = mic.JointMicrophoneReader([9, 10])"
   ]
  },
  {
   "cell_type": "code",
   "execution_count": 24,
   "metadata": {},
   "outputs": [],
   "source": [
    "data = {0:[], 1:[]}\n",
    "def new_data_cb (idx, x): \n",
    "    data[idx] += x"
   ]
  },
  {
   "cell_type": "code",
   "execution_count": 25,
   "metadata": {},
   "outputs": [],
   "source": [
    "rec.start(new_data_cb)"
   ]
  },
  {
   "cell_type": "code",
   "execution_count": 26,
   "metadata": {},
   "outputs": [],
   "source": [
    "rec.stop()"
   ]
  },
  {
   "cell_type": "code",
   "execution_count": 17,
   "metadata": {},
   "outputs": [],
   "source": [
    "from IPython.display import Audio"
   ]
  },
  {
   "cell_type": "code",
   "execution_count": null,
   "metadata": {},
   "outputs": [],
   "source": [
    "Audio(data[0], rate=rec.sample_rate)"
   ]
  },
  {
   "cell_type": "code",
   "execution_count": null,
   "metadata": {},
   "outputs": [],
   "source": [
    "Audio(data[1], rate=rec.sample_rate)"
   ]
  },
  {
   "cell_type": "code",
   "execution_count": null,
   "metadata": {},
   "outputs": [],
   "source": [
    "import plotly.express as px\n",
    "\n",
    "px.line(data)"
   ]
  },
  {
   "cell_type": "code",
   "execution_count": 12,
   "metadata": {},
   "outputs": [
    {
     "ename": "TypeError",
     "evalue": "PvRecorder.__init__() got multiple values for argument 'frame_length'",
     "output_type": "error",
     "traceback": [
      "\u001b[0;31m---------------------------------------------------------------------------\u001b[0m",
      "\u001b[0;31mTypeError\u001b[0m                                 Traceback (most recent call last)",
      "\u001b[1;32m/home/kawa/projects/car1/src/weeeee_model/collect_mic_data.ipynb Cell 8\u001b[0m line \u001b[0;36m3\n\u001b[1;32m      <a href='vscode-notebook-cell://127.0.0.1:8080/home/kawa/projects/car1/src/weeeee_model/collect_mic_data.ipynb#X13sdnNjb2RlLXJlbW90ZQ%3D%3D?line=0'>1</a>\u001b[0m \u001b[39mfrom\u001b[39;00m \u001b[39mpvrecorder\u001b[39;00m \u001b[39mimport\u001b[39;00m PvRecorder\n\u001b[0;32m----> <a href='vscode-notebook-cell://127.0.0.1:8080/home/kawa/projects/car1/src/weeeee_model/collect_mic_data.ipynb#X13sdnNjb2RlLXJlbW90ZQ%3D%3D?line=2'>3</a>\u001b[0m recorder0 \u001b[39m=\u001b[39m PvRecorder(\u001b[39m9\u001b[39;49m, frame_length\u001b[39m=\u001b[39;49m\u001b[39m512\u001b[39;49m)\n\u001b[1;32m      <a href='vscode-notebook-cell://127.0.0.1:8080/home/kawa/projects/car1/src/weeeee_model/collect_mic_data.ipynb#X13sdnNjb2RlLXJlbW90ZQ%3D%3D?line=3'>4</a>\u001b[0m recorder1 \u001b[39m=\u001b[39m PvRecorder(\u001b[39m10\u001b[39m, frame_length\u001b[39m=\u001b[39m\u001b[39m512\u001b[39m)\n\u001b[1;32m      <a href='vscode-notebook-cell://127.0.0.1:8080/home/kawa/projects/car1/src/weeeee_model/collect_mic_data.ipynb#X13sdnNjb2RlLXJlbW90ZQ%3D%3D?line=5'>6</a>\u001b[0m x \u001b[39m=\u001b[39m recorder0\u001b[39m.\u001b[39mread()\n",
      "\u001b[0;31mTypeError\u001b[0m: PvRecorder.__init__() got multiple values for argument 'frame_length'"
     ]
    }
   ],
   "source": [
    "from pvrecorder import PvRecorder\n",
    "\n",
    "recorder0 = PvRecorder(9, frame_length=512)\n",
    "recorder1 = PvRecorder(10, frame_length=512)\n",
    "\n",
    "x = recorder0.read()\n",
    "x = recorder1.read()\n",
    "\n"
   ]
  },
  {
   "cell_type": "code",
   "execution_count": null,
   "metadata": {},
   "outputs": [],
   "source": []
  },
  {
   "cell_type": "code",
   "execution_count": 13,
   "metadata": {},
   "outputs": [],
   "source": [
    "mic0 = mic.MicrophoneReader(9, approx_frame_duration=0.05, )\n",
    "mic1 = mic.MicrophoneReader(10, approx_frame_duration=0.05, )"
   ]
  },
  {
   "cell_type": "code",
   "execution_count": 14,
   "metadata": {},
   "outputs": [
    {
     "name": "stderr",
     "output_type": "stream",
     "text": [
      "Exception in thread Thread-8 (__sample):\n",
      "Traceback (most recent call last):\n",
      "  File \"/usr/local/lib/python3.11/threading.py\", line 1045, in _bootstrap_inner\n",
      "    self.run()\n",
      "  File \"/home/kawa/projects/car1/venv3.11/lib/python3.11/site-packages/ipykernel/ipkernel.py\", line 766, in run_closure\n",
      "    _threading_Thread_run(self)\n",
      "  File \"/usr/local/lib/python3.11/threading.py\", line 982, in run\n",
      "    self._target(*self._args, **self._kwargs)\n",
      "  File \"/home/kawa/projects/car1/src/weeeee_model/../../src/components/microphone/microphone.py\", line 93, in __sample\n",
      "    x = self.recorder.read()\n",
      "        ^^^^^^^^^^^^^^^^^^^^\n",
      "  File \"/home/kawa/projects/car1/venv3.11/lib/python3.11/site-packages/pvrecorder/_pvrecorder.py\", line 178, in read\n",
      "    raise self._PVRECORDER_STATUS_TO_EXCEPTION[status](\"Failed to read from device.\")\n",
      "OSError: Failed to read from device.\n"
     ]
    }
   ],
   "source": [
    "mic0.start()\n",
    "mic1.start()"
   ]
  },
  {
   "cell_type": "code",
   "execution_count": 19,
   "metadata": {},
   "outputs": [
    {
     "data": {
      "text/plain": [
       "array([  7, -12, -44, ..., -63, -78, -89])"
      ]
     },
     "execution_count": 19,
     "metadata": {},
     "output_type": "execute_result"
    }
   ],
   "source": [
    "mic0.get_signal()\n",
    "mic1.get_signal()"
   ]
  },
  {
   "cell_type": "code",
   "execution_count": 9,
   "metadata": {},
   "outputs": [],
   "source": [
    "mic0.release()"
   ]
  },
  {
   "cell_type": "code",
   "execution_count": null,
   "metadata": {},
   "outputs": [],
   "source": []
  },
  {
   "cell_type": "code",
   "execution_count": 34,
   "metadata": {},
   "outputs": [
    {
     "ename": "ModuleNotFoundError",
     "evalue": "No module named 'pyaudio'",
     "output_type": "error",
     "traceback": [
      "\u001b[0;31m---------------------------------------------------------------------------\u001b[0m",
      "\u001b[0;31mModuleNotFoundError\u001b[0m                       Traceback (most recent call last)",
      "\u001b[1;32m/home/kawa/projects/car1/src/weeeee_model/collect_mic_data.ipynb Cell 9\u001b[0m line \u001b[0;36m1\n\u001b[0;32m----> <a href='vscode-notebook-cell://127.0.0.1:8080/home/kawa/projects/car1/src/weeeee_model/collect_mic_data.ipynb#X11sdnNjb2RlLXJlbW90ZQ%3D%3D?line=0'>1</a>\u001b[0m \u001b[39mimport\u001b[39;00m \u001b[39mpyaudio\u001b[39;00m\n\u001b[1;32m      <a href='vscode-notebook-cell://127.0.0.1:8080/home/kawa/projects/car1/src/weeeee_model/collect_mic_data.ipynb#X11sdnNjb2RlLXJlbW90ZQ%3D%3D?line=2'>3</a>\u001b[0m \u001b[39mdef\u001b[39;00m \u001b[39mlist_input_devices\u001b[39m():\n\u001b[1;32m      <a href='vscode-notebook-cell://127.0.0.1:8080/home/kawa/projects/car1/src/weeeee_model/collect_mic_data.ipynb#X11sdnNjb2RlLXJlbW90ZQ%3D%3D?line=3'>4</a>\u001b[0m     p \u001b[39m=\u001b[39m pyaudio\u001b[39m.\u001b[39mPyAudio()\n",
      "\u001b[0;31mModuleNotFoundError\u001b[0m: No module named 'pyaudio'"
     ]
    }
   ],
   "source": [
    "import pyaudio\n",
    "\n",
    "def list_input_devices():\n",
    "    p = pyaudio.PyAudio()\n",
    "    for i in range(p.get_device_count()):\n",
    "        device_info = p.get_device_info_by_index(i)\n",
    "        if device_info['maxInputChannels'] > 0:\n",
    "            print(f\"Device {i}: {device_info['name']}\")"
   ]
  }
 ],
 "metadata": {
  "kernelspec": {
   "display_name": "venv3.11",
   "language": "python",
   "name": "python3"
  },
  "language_info": {
   "codemirror_mode": {
    "name": "ipython",
    "version": 3
   },
   "file_extension": ".py",
   "mimetype": "text/x-python",
   "name": "python",
   "nbconvert_exporter": "python",
   "pygments_lexer": "ipython3",
   "version": "3.11.9"
  }
 },
 "nbformat": 4,
 "nbformat_minor": 2
}
