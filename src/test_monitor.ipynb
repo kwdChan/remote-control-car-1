{
 "cells": [
  {
   "cell_type": "code",
   "execution_count": 8,
   "metadata": {},
   "outputs": [],
   "source": [
    "import os\n",
    "import sys \n",
    "import time\n",
    "import logging\n",
    "import spidev as SPI\n",
    "from components.spi_monitor.lib import LCD_1inch69\n",
    "from components.spi_monitor.Font import get_font_1\n",
    "from PIL import Image, ImageDraw, ImageFont"
   ]
  },
  {
   "cell_type": "code",
   "execution_count": 2,
   "metadata": {},
   "outputs": [
    {
     "name": "stderr",
     "output_type": "stream",
     "text": [
      "/home/kawa/projects/car1/.venv/lib/python3.9/site-packages/gpiozero/devices.py:300: PinFactoryFallback: Falling back from lgpio: No module named 'lgpio'\n",
      "  warnings.warn(\n"
     ]
    }
   ],
   "source": [
    "RST = 27\n",
    "DC = 25\n",
    "BL = 18\n",
    "bus = 0 \n",
    "device = 0 \n",
    "\n",
    "disp = LCD_1inch69.LCD_1inch69(spi=SPI.SpiDev(bus, device),spi_freq=10000000,rst=RST,dc=DC,bl=BL)\n",
    "# Initialize library.\n",
    "disp.Init()\n",
    "# Clear display.\n",
    "disp.clear()\n",
    "#Set the backlight to 100\n",
    "disp.bl_DutyCycle(10)"
   ]
  },
  {
   "cell_type": "code",
   "execution_count": 6,
   "metadata": {},
   "outputs": [],
   "source": [
    "disp.bl_DutyCycle(0)"
   ]
  },
  {
   "cell_type": "code",
   "execution_count": 10,
   "metadata": {},
   "outputs": [],
   "source": [
    "image2 = Image.new(\"RGB\", (disp.height,disp.width ), \"WHITE\")\n",
    "draw = ImageDraw.Draw(image2)"
   ]
  },
  {
   "cell_type": "code",
   "execution_count": 11,
   "metadata": {},
   "outputs": [],
   "source": [
    "draw.text((60, 2), u\"Hello\", fill = 808000)"
   ]
  },
  {
   "cell_type": "code",
   "execution_count": 14,
   "metadata": {},
   "outputs": [
    {
     "name": "stdout",
     "output_type": "stream",
     "text": [
      "Landscape screen\n"
     ]
    }
   ],
   "source": [
    "image2=image2.rotate(90)\n",
    "disp.ShowImage(image2)"
   ]
  },
  {
   "cell_type": "code",
   "execution_count": 15,
   "metadata": {},
   "outputs": [],
   "source": [
    "disp.bl_DutyCycle(0)"
   ]
  },
  {
   "cell_type": "code",
   "execution_count": null,
   "metadata": {},
   "outputs": [],
   "source": []
  }
 ],
 "metadata": {
  "kernelspec": {
   "display_name": ".venv",
   "language": "python",
   "name": "python3"
  },
  "language_info": {
   "codemirror_mode": {
    "name": "ipython",
    "version": 3
   },
   "file_extension": ".py",
   "mimetype": "text/x-python",
   "name": "python",
   "nbconvert_exporter": "python",
   "pygments_lexer": "ipython3",
   "version": "3.10.12"
  }
 },
 "nbformat": 4,
 "nbformat_minor": 2
}
