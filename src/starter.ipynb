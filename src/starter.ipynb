{
 "cells": [
  {
   "cell_type": "code",
   "execution_count": 30,
   "metadata": {},
   "outputs": [
    {
     "name": "stdout",
     "output_type": "stream",
     "text": [
      "<Process name='Process-5' pid=49309 parent=49268 stopped exitcode=1>\n",
      "fail\n"
     ]
    }
   ],
   "source": [
    "import subprocess, sys, time, datetime"
   ]
  },
  {
   "cell_type": "code",
   "execution_count": 32,
   "metadata": {},
   "outputs": [
    {
     "name": "stdout",
     "output_type": "stream",
     "text": [
      "Starting Serial Port Profile...\n"
     ]
    },
    {
     "name": "stderr",
     "output_type": "stream",
     "text": [
      "/home/kawa/projects/car1/src/components/two_wheels.py:15: RuntimeWarning: This channel is already in use, continuing anyway.  Use GPIO.setwarnings(False) to disable warnings.\n",
      "  GPIO.setup(pin, GPIO.OUT) #type: ignore\n",
      "/home/kawa/projects/car1/src/components/two_wheels.py:73: RuntimeWarning: This channel is already in use, continuing anyway.  Use GPIO.setwarnings(False) to disable warnings.\n",
      "  GPIO.setup(dir_pins[0], GPIO.OUT) #type: ignore\n",
      "/home/kawa/projects/car1/src/components/two_wheels.py:74: RuntimeWarning: This channel is already in use, continuing anyway.  Use GPIO.setwarnings(False) to disable warnings.\n",
      "  GPIO.setup(dir_pins[1], GPIO.OUT) #type: ignore\n",
      "[4:45:49.842409932] [49409] \u001b[1;32m INFO \u001b[1;37mCamera \u001b[1;34mcamera_manager.cpp:297 \u001b[0mlibcamera v0.0.5+83-bde9b04f\n",
      "[4:45:49.887206169] [49432] \u001b[1;32m INFO \u001b[1;37mRPI \u001b[1;34mvc4.cpp:437 \u001b[0mRegistered camera /base/soc/i2c0mux/i2c@1/ov5647@36 to Unicam device /dev/media0 and ISP device /dev/media2\n",
      "[4:45:49.887292705] [49432] \u001b[1;32m INFO \u001b[1;37mRPI \u001b[1;34mpipeline_base.cpp:1101 \u001b[0mUsing configuration file '/usr/share/libcamera/pipeline/rpi/vc4/rpi_apps.yaml'\n",
      "[4:45:49.892286524] [49409] \u001b[1;32m INFO \u001b[1;37mCamera \u001b[1;34mcamera.cpp:840 \u001b[0mPipeline handler in use by another process\n",
      "Camera __init__ sequence did not complete.\n",
      "Process Process-5:\n",
      "Traceback (most recent call last):\n",
      "  File \"/usr/lib/python3/dist-packages/picamera2/picamera2.py\", line 242, in __init__\n",
      "    self._open_camera()\n",
      "  File \"/usr/lib/python3/dist-packages/picamera2/picamera2.py\", line 446, in _open_camera\n",
      "    self.camera.acquire()\n",
      "RuntimeError: Failed to acquire camera: Device or resource busy\n",
      "\n",
      "During handling of the above exception, another exception occurred:\n",
      "\n",
      "Traceback (most recent call last):\n",
      "  File \"/usr/lib/python3.9/multiprocessing/process.py\", line 315, in _bootstrap\n",
      "    self.run()\n",
      "  File \"/usr/lib/python3.9/multiprocessing/process.py\", line 108, in run\n",
      "    self._target(*self._args, **self._kwargs)\n",
      "  File \"/home/kawa/projects/car1/src/components/__init__.py\", line 30, in default_loop_v2\n",
      "    obj = instantiater(**init_kwargs, **other_io)\n",
      "  File \"/home/kawa/projects/car1/src/components/camera.py\", line 72, in entry\n",
      "    return cls(resolution, framerate, config_overrides, logger)\n",
      "  File \"/home/kawa/projects/car1/src/components/camera.py\", line 26, in __init__\n",
      "    picam2 = Picamera2()\n",
      "  File \"/usr/lib/python3/dist-packages/picamera2/picamera2.py\", line 254, in __init__\n",
      "    raise RuntimeError(\"Camera __init__ sequence did not complete.\")\n",
      "RuntimeError: Camera __init__ sequence did not complete.\n"
     ]
    },
    {
     "name": "stdout",
     "output_type": "stream",
     "text": [
      "<Process name='Process-5' pid=49409 parent=49374 stopped exitcode=1>\n",
      "fail\n",
      "Starting Serial Port Profile...\n"
     ]
    },
    {
     "name": "stderr",
     "output_type": "stream",
     "text": [
      "/home/kawa/projects/car1/src/components/two_wheels.py:15: RuntimeWarning: This channel is already in use, continuing anyway.  Use GPIO.setwarnings(False) to disable warnings.\n",
      "  GPIO.setup(pin, GPIO.OUT) #type: ignore\n",
      "/home/kawa/projects/car1/src/components/two_wheels.py:73: RuntimeWarning: This channel is already in use, continuing anyway.  Use GPIO.setwarnings(False) to disable warnings.\n",
      "  GPIO.setup(dir_pins[0], GPIO.OUT) #type: ignore\n",
      "/home/kawa/projects/car1/src/components/two_wheels.py:74: RuntimeWarning: This channel is already in use, continuing anyway.  Use GPIO.setwarnings(False) to disable warnings.\n",
      "  GPIO.setup(dir_pins[1], GPIO.OUT) #type: ignore\n",
      "[4:45:53.790882721] [49496] \u001b[1;32m INFO \u001b[1;37mCamera \u001b[1;34mcamera_manager.cpp:297 \u001b[0mlibcamera v0.0.5+83-bde9b04f\n",
      "[4:45:53.830836268] [49523] \u001b[1;32m INFO \u001b[1;37mRPI \u001b[1;34mvc4.cpp:437 \u001b[0mRegistered camera /base/soc/i2c0mux/i2c@1/ov5647@36 to Unicam device /dev/media0 and ISP device /dev/media2\n",
      "[4:45:53.830907341] [49523] \u001b[1;32m INFO \u001b[1;37mRPI \u001b[1;34mpipeline_base.cpp:1101 \u001b[0mUsing configuration file '/usr/share/libcamera/pipeline/rpi/vc4/rpi_apps.yaml'\n",
      "[4:45:53.834858393] [49496] \u001b[1;32m INFO \u001b[1;37mCamera \u001b[1;34mcamera.cpp:840 \u001b[0mPipeline handler in use by another process\n",
      "Camera __init__ sequence did not complete.\n",
      "Process Process-5:\n",
      "Traceback (most recent call last):\n",
      "  File \"/usr/lib/python3/dist-packages/picamera2/picamera2.py\", line 242, in __init__\n",
      "    self._open_camera()\n",
      "  File \"/usr/lib/python3/dist-packages/picamera2/picamera2.py\", line 446, in _open_camera\n",
      "    self.camera.acquire()\n",
      "RuntimeError: Failed to acquire camera: Device or resource busy\n",
      "\n",
      "During handling of the above exception, another exception occurred:\n",
      "\n",
      "Traceback (most recent call last):\n",
      "  File \"/usr/lib/python3.9/multiprocessing/process.py\", line 315, in _bootstrap\n",
      "    self.run()\n",
      "  File \"/usr/lib/python3.9/multiprocessing/process.py\", line 108, in run\n",
      "    self._target(*self._args, **self._kwargs)\n",
      "  File \"/home/kawa/projects/car1/src/components/__init__.py\", line 30, in default_loop_v2\n",
      "    obj = instantiater(**init_kwargs, **other_io)\n",
      "  File \"/home/kawa/projects/car1/src/components/camera.py\", line 72, in entry\n",
      "    return cls(resolution, framerate, config_overrides, logger)\n",
      "  File \"/home/kawa/projects/car1/src/components/camera.py\", line 26, in __init__\n",
      "    picam2 = Picamera2()\n",
      "  File \"/usr/lib/python3/dist-packages/picamera2/picamera2.py\", line 254, in __init__\n",
      "    raise RuntimeError(\"Camera __init__ sequence did not complete.\")\n",
      "RuntimeError: Camera __init__ sequence did not complete.\n"
     ]
    },
    {
     "name": "stdout",
     "output_type": "stream",
     "text": [
      "<Process name='Process-5' pid=49496 parent=49457 stopped exitcode=1>\n",
      "fail\n",
      "Starting Serial Port Profile...\n"
     ]
    },
    {
     "name": "stderr",
     "output_type": "stream",
     "text": [
      "/home/kawa/projects/car1/src/components/two_wheels.py:15: RuntimeWarning: This channel is already in use, continuing anyway.  Use GPIO.setwarnings(False) to disable warnings.\n",
      "  GPIO.setup(pin, GPIO.OUT) #type: ignore\n",
      "/home/kawa/projects/car1/src/components/two_wheels.py:73: RuntimeWarning: This channel is already in use, continuing anyway.  Use GPIO.setwarnings(False) to disable warnings.\n",
      "  GPIO.setup(dir_pins[0], GPIO.OUT) #type: ignore\n",
      "/home/kawa/projects/car1/src/components/two_wheels.py:74: RuntimeWarning: This channel is already in use, continuing anyway.  Use GPIO.setwarnings(False) to disable warnings.\n",
      "  GPIO.setup(dir_pins[1], GPIO.OUT) #type: ignore\n",
      "[4:45:57.825096383] [49582] \u001b[1;32m INFO \u001b[1;37mCamera \u001b[1;34mcamera_manager.cpp:297 \u001b[0mlibcamera v0.0.5+83-bde9b04f\n",
      "[4:45:57.863119932] [49607] \u001b[1;32m INFO \u001b[1;37mRPI \u001b[1;34mvc4.cpp:437 \u001b[0mRegistered camera /base/soc/i2c0mux/i2c@1/ov5647@36 to Unicam device /dev/media0 and ISP device /dev/media2\n",
      "[4:45:57.863418058] [49607] \u001b[1;32m INFO \u001b[1;37mRPI \u001b[1;34mpipeline_base.cpp:1101 \u001b[0mUsing configuration file '/usr/share/libcamera/pipeline/rpi/vc4/rpi_apps.yaml'\n",
      "[4:45:57.869427051] [49582] \u001b[1;32m INFO \u001b[1;37mCamera \u001b[1;34mcamera.cpp:840 \u001b[0mPipeline handler in use by another process\n",
      "Camera __init__ sequence did not complete.\n",
      "Process Process-5:\n",
      "Traceback (most recent call last):\n",
      "  File \"/usr/lib/python3/dist-packages/picamera2/picamera2.py\", line 242, in __init__\n",
      "    self._open_camera()\n",
      "  File \"/usr/lib/python3/dist-packages/picamera2/picamera2.py\", line 446, in _open_camera\n",
      "    self.camera.acquire()\n",
      "RuntimeError: Failed to acquire camera: Device or resource busy\n",
      "\n",
      "During handling of the above exception, another exception occurred:\n",
      "\n",
      "Traceback (most recent call last):\n",
      "  File \"/usr/lib/python3.9/multiprocessing/process.py\", line 315, in _bootstrap\n",
      "    self.run()\n",
      "  File \"/usr/lib/python3.9/multiprocessing/process.py\", line 108, in run\n",
      "    self._target(*self._args, **self._kwargs)\n",
      "  File \"/home/kawa/projects/car1/src/components/__init__.py\", line 30, in default_loop_v2\n",
      "    obj = instantiater(**init_kwargs, **other_io)\n",
      "  File \"/home/kawa/projects/car1/src/components/camera.py\", line 72, in entry\n",
      "    return cls(resolution, framerate, config_overrides, logger)\n",
      "  File \"/home/kawa/projects/car1/src/components/camera.py\", line 26, in __init__\n",
      "    picam2 = Picamera2()\n",
      "  File \"/usr/lib/python3/dist-packages/picamera2/picamera2.py\", line 254, in __init__\n",
      "    raise RuntimeError(\"Camera __init__ sequence did not complete.\")\n",
      "RuntimeError: Camera __init__ sequence did not complete.\n"
     ]
    },
    {
     "name": "stdout",
     "output_type": "stream",
     "text": [
      "<Process name='Process-5' pid=49582 parent=49543 stopped exitcode=1>\n",
      "fail\n",
      "Starting Serial Port Profile...\n"
     ]
    },
    {
     "name": "stderr",
     "output_type": "stream",
     "text": [
      "/home/kawa/projects/car1/src/components/two_wheels.py:15: RuntimeWarning: This channel is already in use, continuing anyway.  Use GPIO.setwarnings(False) to disable warnings.\n",
      "  GPIO.setup(pin, GPIO.OUT) #type: ignore\n",
      "/home/kawa/projects/car1/src/components/two_wheels.py:73: RuntimeWarning: This channel is already in use, continuing anyway.  Use GPIO.setwarnings(False) to disable warnings.\n",
      "  GPIO.setup(dir_pins[0], GPIO.OUT) #type: ignore\n",
      "/home/kawa/projects/car1/src/components/two_wheels.py:74: RuntimeWarning: This channel is already in use, continuing anyway.  Use GPIO.setwarnings(False) to disable warnings.\n",
      "  GPIO.setup(dir_pins[1], GPIO.OUT) #type: ignore\n",
      "[4:46:01.922288730] [49669] \u001b[1;32m INFO \u001b[1;37mCamera \u001b[1;34mcamera_manager.cpp:297 \u001b[0mlibcamera v0.0.5+83-bde9b04f\n",
      "[4:46:01.959545991] [49696] \u001b[1;32m INFO \u001b[1;37mRPI \u001b[1;34mvc4.cpp:437 \u001b[0mRegistered camera /base/soc/i2c0mux/i2c@1/ov5647@36 to Unicam device /dev/media0 and ISP device /dev/media2\n",
      "[4:46:01.959618101] [49696] \u001b[1;32m INFO \u001b[1;37mRPI \u001b[1;34mpipeline_base.cpp:1101 \u001b[0mUsing configuration file '/usr/share/libcamera/pipeline/rpi/vc4/rpi_apps.yaml'\n",
      "[4:46:01.963767372] [49669] \u001b[1;32m INFO \u001b[1;37mCamera \u001b[1;34mcamera.cpp:840 \u001b[0mPipeline handler in use by another process\n",
      "Camera __init__ sequence did not complete.\n",
      "Process Process-5:\n",
      "Traceback (most recent call last):\n",
      "  File \"/usr/lib/python3/dist-packages/picamera2/picamera2.py\", line 242, in __init__\n",
      "    self._open_camera()\n",
      "  File \"/usr/lib/python3/dist-packages/picamera2/picamera2.py\", line 446, in _open_camera\n",
      "    self.camera.acquire()\n",
      "RuntimeError: Failed to acquire camera: Device or resource busy\n",
      "\n",
      "During handling of the above exception, another exception occurred:\n",
      "\n",
      "Traceback (most recent call last):\n",
      "  File \"/usr/lib/python3.9/multiprocessing/process.py\", line 315, in _bootstrap\n",
      "    self.run()\n",
      "  File \"/usr/lib/python3.9/multiprocessing/process.py\", line 108, in run\n",
      "    self._target(*self._args, **self._kwargs)\n",
      "  File \"/home/kawa/projects/car1/src/components/__init__.py\", line 30, in default_loop_v2\n",
      "    obj = instantiater(**init_kwargs, **other_io)\n",
      "  File \"/home/kawa/projects/car1/src/components/camera.py\", line 72, in entry\n",
      "    return cls(resolution, framerate, config_overrides, logger)\n",
      "  File \"/home/kawa/projects/car1/src/components/camera.py\", line 26, in __init__\n",
      "    picam2 = Picamera2()\n",
      "  File \"/usr/lib/python3/dist-packages/picamera2/picamera2.py\", line 254, in __init__\n",
      "    raise RuntimeError(\"Camera __init__ sequence did not complete.\")\n",
      "RuntimeError: Camera __init__ sequence did not complete.\n"
     ]
    },
    {
     "name": "stdout",
     "output_type": "stream",
     "text": [
      "<Process name='Process-5' pid=49669 parent=49626 stopped exitcode=1>\n",
      "fail\n",
      "Starting Serial Port Profile...\n"
     ]
    },
    {
     "name": "stderr",
     "output_type": "stream",
     "text": [
      "/home/kawa/projects/car1/src/components/two_wheels.py:15: RuntimeWarning: This channel is already in use, continuing anyway.  Use GPIO.setwarnings(False) to disable warnings.\n",
      "  GPIO.setup(pin, GPIO.OUT) #type: ignore\n",
      "/home/kawa/projects/car1/src/components/two_wheels.py:73: RuntimeWarning: This channel is already in use, continuing anyway.  Use GPIO.setwarnings(False) to disable warnings.\n",
      "  GPIO.setup(dir_pins[0], GPIO.OUT) #type: ignore\n",
      "/home/kawa/projects/car1/src/components/two_wheels.py:74: RuntimeWarning: This channel is already in use, continuing anyway.  Use GPIO.setwarnings(False) to disable warnings.\n",
      "  GPIO.setup(dir_pins[1], GPIO.OUT) #type: ignore\n",
      "[4:46:05.791965285] [49755] \u001b[1;32m INFO \u001b[1;37mCamera \u001b[1;34mcamera_manager.cpp:297 \u001b[0mlibcamera v0.0.5+83-bde9b04f\n",
      "[4:46:05.828900697] [49775] \u001b[1;32m INFO \u001b[1;37mRPI \u001b[1;34mvc4.cpp:437 \u001b[0mRegistered camera /base/soc/i2c0mux/i2c@1/ov5647@36 to Unicam device /dev/media0 and ISP device /dev/media2\n",
      "[4:46:05.828974030] [49775] \u001b[1;32m INFO \u001b[1;37mRPI \u001b[1;34mpipeline_base.cpp:1101 \u001b[0mUsing configuration file '/usr/share/libcamera/pipeline/rpi/vc4/rpi_apps.yaml'\n",
      "[4:46:05.834708841] [49755] \u001b[1;32m INFO \u001b[1;37mCamera \u001b[1;34mcamera.cpp:840 \u001b[0mPipeline handler in use by another process\n",
      "Camera __init__ sequence did not complete.\n",
      "Process Process-5:\n",
      "Traceback (most recent call last):\n",
      "  File \"/usr/lib/python3/dist-packages/picamera2/picamera2.py\", line 242, in __init__\n",
      "    self._open_camera()\n",
      "  File \"/usr/lib/python3/dist-packages/picamera2/picamera2.py\", line 446, in _open_camera\n",
      "    self.camera.acquire()\n",
      "RuntimeError: Failed to acquire camera: Device or resource busy\n",
      "\n",
      "During handling of the above exception, another exception occurred:\n",
      "\n",
      "Traceback (most recent call last):\n",
      "  File \"/usr/lib/python3.9/multiprocessing/process.py\", line 315, in _bootstrap\n",
      "    self.run()\n",
      "  File \"/usr/lib/python3.9/multiprocessing/process.py\", line 108, in run\n",
      "    self._target(*self._args, **self._kwargs)\n",
      "  File \"/home/kawa/projects/car1/src/components/__init__.py\", line 30, in default_loop_v2\n",
      "    obj = instantiater(**init_kwargs, **other_io)\n",
      "  File \"/home/kawa/projects/car1/src/components/camera.py\", line 72, in entry\n",
      "    return cls(resolution, framerate, config_overrides, logger)\n",
      "  File \"/home/kawa/projects/car1/src/components/camera.py\", line 26, in __init__\n",
      "    picam2 = Picamera2()\n",
      "  File \"/usr/lib/python3/dist-packages/picamera2/picamera2.py\", line 254, in __init__\n",
      "    raise RuntimeError(\"Camera __init__ sequence did not complete.\")\n",
      "RuntimeError: Camera __init__ sequence did not complete.\n"
     ]
    },
    {
     "name": "stdout",
     "output_type": "stream",
     "text": [
      "<Process name='Process-5' pid=49755 parent=49715 stopped exitcode=1>\n",
      "fail\n"
     ]
    },
    {
     "ename": "KeyboardInterrupt",
     "evalue": "",
     "output_type": "error",
     "traceback": [
      "\u001b[0;31m---------------------------------------------------------------------------\u001b[0m",
      "\u001b[0;31mKeyboardInterrupt\u001b[0m                         Traceback (most recent call last)",
      "\u001b[1;32m/home/kawa/projects/car1/src/starter.ipynb Cell 3\u001b[0m line \u001b[0;36m1\n\u001b[1;32m     <a href='vscode-notebook-cell://127.0.0.1:8080/home/kawa/projects/car1/src/starter.ipynb#W4sdnNjb2RlLXJlbW90ZQ%3D%3D?line=12'>13</a>\u001b[0m             log_num\u001b[39m+\u001b[39m\u001b[39m=\u001b[39m\u001b[39m1\u001b[39m\n\u001b[1;32m     <a href='vscode-notebook-cell://127.0.0.1:8080/home/kawa/projects/car1/src/starter.ipynb#W4sdnNjb2RlLXJlbW90ZQ%3D%3D?line=13'>14</a>\u001b[0m             PROCESS \u001b[39m=\u001b[39m start(log_num)\n\u001b[0;32m---> <a href='vscode-notebook-cell://127.0.0.1:8080/home/kawa/projects/car1/src/starter.ipynb#W4sdnNjb2RlLXJlbW90ZQ%3D%3D?line=14'>15</a>\u001b[0m main()\n",
      "\u001b[1;32m/home/kawa/projects/car1/src/starter.ipynb Cell 3\u001b[0m line \u001b[0;36m1\n\u001b[1;32m      <a href='vscode-notebook-cell://127.0.0.1:8080/home/kawa/projects/car1/src/starter.ipynb#W4sdnNjb2RlLXJlbW90ZQ%3D%3D?line=8'>9</a>\u001b[0m \u001b[39mwhile\u001b[39;00m \u001b[39mTrue\u001b[39;00m: \n\u001b[1;32m     <a href='vscode-notebook-cell://127.0.0.1:8080/home/kawa/projects/car1/src/starter.ipynb#W4sdnNjb2RlLXJlbW90ZQ%3D%3D?line=9'>10</a>\u001b[0m     \u001b[39mif\u001b[39;00m \u001b[39mnot\u001b[39;00m PROCESS\u001b[39m.\u001b[39mpoll(): \n\u001b[0;32m---> <a href='vscode-notebook-cell://127.0.0.1:8080/home/kawa/projects/car1/src/starter.ipynb#W4sdnNjb2RlLXJlbW90ZQ%3D%3D?line=10'>11</a>\u001b[0m         time\u001b[39m.\u001b[39;49msleep(\u001b[39m1\u001b[39;49m)\n\u001b[1;32m     <a href='vscode-notebook-cell://127.0.0.1:8080/home/kawa/projects/car1/src/starter.ipynb#W4sdnNjb2RlLXJlbW90ZQ%3D%3D?line=11'>12</a>\u001b[0m     \u001b[39melse\u001b[39;00m:\n\u001b[1;32m     <a href='vscode-notebook-cell://127.0.0.1:8080/home/kawa/projects/car1/src/starter.ipynb#W4sdnNjb2RlLXJlbW90ZQ%3D%3D?line=12'>13</a>\u001b[0m         log_num\u001b[39m+\u001b[39m\u001b[39m=\u001b[39m\u001b[39m1\u001b[39m\n",
      "\u001b[0;31mKeyboardInterrupt\u001b[0m: "
     ]
    }
   ],
   "source": [
    "LOG_PATH = '../log/'\n",
    "\n",
    "def main(): \n",
    "    def start(log_number: int):\n",
    "        return subprocess.Popen([sys.executable, 'main.py', LOG_PATH+str(datetime.datetime.now())])\n",
    "    \n",
    "    p = start(log_num)\n",
    "    while True: \n",
    "        if not p.poll(): \n",
    "            time.sleep(1)\n",
    "        else:\n",
    "            p = start(log_num)\n",
    "main()"
   ]
  },
  {
   "cell_type": "code",
   "execution_count": 34,
   "metadata": {},
   "outputs": [
    {
     "data": {
      "text/plain": [
       "CompletedProcess(args=['ps', 'aux', '|', 'awk', '\\'{if ($12 ~ \"main.py\") print $2}\\''], returncode=1, stdout=b'', stderr=b\"error: garbage option\\n\\nUsage:\\n ps [options]\\n\\n Try 'ps --help <simple|list|output|threads|misc|all>'\\n  or 'ps --help <s|l|o|t|m|a>'\\n for additional help text.\\n\\nFor more details see ps(1).\\n\")"
      ]
     },
     "execution_count": 34,
     "metadata": {},
     "output_type": "execute_result"
    }
   ],
   "source": [
    "subprocess.run(['ps', 'aux', '|', 'awk', \"\"\"'{if ($12 ~ \"main.py\") print $2}'\"\"\"], capture_output=True)"
   ]
  },
  {
   "cell_type": "code",
   "execution_count": null,
   "metadata": {},
   "outputs": [],
   "source": [
    "kill -2 37537 37737 38199 40136 44647 44793 44888 45023 45200 45348 45448 45554 45631 45732 48594 48608 48619 48622 48627 48632"
   ]
  }
 ],
 "metadata": {
  "kernelspec": {
   "display_name": ".venv",
   "language": "python",
   "name": "python3"
  },
  "language_info": {
   "codemirror_mode": {
    "name": "ipython",
    "version": 3
   },
   "file_extension": ".py",
   "mimetype": "text/x-python",
   "name": "python",
   "nbconvert_exporter": "python",
   "pygments_lexer": "ipython3",
   "version": "3.9.2"
  }
 },
 "nbformat": 4,
 "nbformat_minor": 2
}
