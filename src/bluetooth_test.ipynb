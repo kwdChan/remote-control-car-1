{
 "cells": [
  {
   "cell_type": "code",
   "execution_count": 2,
   "metadata": {},
   "outputs": [],
   "source": [
    "from components.controller.bluetooth_controller import BlueToothCarControl, ServerForAppArduinoBlueControl\n",
    "\n",
    "from data_collection.data_collection import LoggerSet, Logger\n",
    "from ahrs.filters import Madgwick\n",
    "from ahrs import Quaternion\n",
    "from components.gyroscope.mpu6050 import MPU6050\n",
    "from components.gyroscope.gyroscope import AngularSpeedControl\n",
    "from components.two_wheels import TwoWheels\n",
    "from components.utils import Connector, receive_latest, clear_data\n",
    "\n",
    "import asyncio\n",
    "import RPi.GPIO as GPIO\n",
    "\n",
    "import numpy as np\n",
    "\n",
    "\n",
    "import pandas as pd\n",
    "import plotly.express as px\n",
    "import time\n",
    "from data_collection.data_collection import LoggerSet, Logger\n",
    "GPIO.setmode(GPIO.BOARD)\n",
    "\n",
    "%load_ext autoreload\n",
    "%autoreload 2\n",
    "\n"
   ]
  },
  {
   "cell_type": "code",
   "execution_count": 43,
   "metadata": {},
   "outputs": [],
   "source": [
    "wheel_p.terminate()\n",
    "imu_p.terminate()\n",
    "bt_p.terminate()\n",
    "btapp_p.terminate()"
   ]
  },
  {
   "cell_type": "code",
   "execution_count": 44,
   "metadata": {},
   "outputs": [
    {
     "name": "stderr",
     "output_type": "stream",
     "text": [
      "/home/kawa/projects/car1/src/components/two_wheels.py:14: RuntimeWarning: This channel is already in use, continuing anyway.  Use GPIO.setwarnings(False) to disable warnings.\n",
      "  GPIO.setup(pin, GPIO.OUT) #type: ignore\n",
      "/home/kawa/projects/car1/src/components/two_wheels.py:59: RuntimeWarning: This channel is already in use, continuing anyway.  Use GPIO.setwarnings(False) to disable warnings.\n",
      "  GPIO.setup(dir_pins[0], GPIO.OUT) #type: ignore\n",
      "/home/kawa/projects/car1/src/components/two_wheels.py:60: RuntimeWarning: This channel is already in use, continuing anyway.  Use GPIO.setwarnings(False) to disable warnings.\n",
      "  GPIO.setup(dir_pins[1], GPIO.OUT) #type: ignore\n"
     ]
    },
    {
     "name": "stdout",
     "output_type": "stream",
     "text": [
      "Waiting for connections\n"
     ]
    },
    {
     "name": "stdout",
     "output_type": "stream",
     "text": [
      "Accepted connection from ('C8:BD:4D:BA:4F:15', 1)\n"
     ]
    }
   ],
   "source": [
    "logger_set = LoggerSet('../log/temp/test', overwrite_ok=True, override_save_interval=5)\n",
    "\n",
    "wheel_p, wheel_in = TwoWheels.start(33, 32, logger_set, (10, 8),  name='wheel1')\n",
    "imu_p, imu_in, imu_out = AngularSpeedControl.start(logger_set, 'AngularSpeedControl1')\n",
    "bt_p, bt_out = ServerForAppArduinoBlueControl.start(logger_set, name='bt')\n",
    "btapp_p, btapp_in, btapp_out = BlueToothCarControl.start(logger_set, name='btapp')\n",
    "\n",
    "t1 = asyncio.Task(clear_data(imu_out))\n",
    "t2 = asyncio.Task(clear_data(btapp_out))\n"
   ]
  },
  {
   "cell_type": "code",
   "execution_count": 46,
   "metadata": {},
   "outputs": [
    {
     "ename": "KeyboardInterrupt",
     "evalue": "",
     "output_type": "error",
     "traceback": [
      "\u001b[0;31m---------------------------------------------------------------------------\u001b[0m",
      "\u001b[0;31mKeyboardInterrupt\u001b[0m                         Traceback (most recent call last)",
      "\u001b[1;32m/home/kawa/projects/car1/src/bluetooth_test.ipynb Cell 4\u001b[0m line \u001b[0;36m8\n\u001b[1;32m      <a href='vscode-notebook-cell://127.0.0.1:8080/home/kawa/projects/car1/src/bluetooth_test.ipynb#X36sdnNjb2RlLXJlbW90ZQ%3D%3D?line=5'>6</a>\u001b[0m c\u001b[39m.\u001b[39mconnect(imu_out, wheel_in)\n\u001b[1;32m      <a href='vscode-notebook-cell://127.0.0.1:8080/home/kawa/projects/car1/src/bluetooth_test.ipynb#X36sdnNjb2RlLXJlbW90ZQ%3D%3D?line=6'>7</a>\u001b[0m \u001b[39mwhile\u001b[39;00m \u001b[39mTrue\u001b[39;00m: \n\u001b[0;32m----> <a href='vscode-notebook-cell://127.0.0.1:8080/home/kawa/projects/car1/src/bluetooth_test.ipynb#X36sdnNjb2RlLXJlbW90ZQ%3D%3D?line=7'>8</a>\u001b[0m     c\u001b[39m.\u001b[39;49mstep()\n",
      "File \u001b[0;32m~/projects/car1/src/components/utils.py:84\u001b[0m, in \u001b[0;36mConnector.step\u001b[0;34m(self)\u001b[0m\n\u001b[1;32m     82\u001b[0m \u001b[39mdef\u001b[39;00m \u001b[39mstep\u001b[39m(\u001b[39mself\u001b[39m):\n\u001b[1;32m     83\u001b[0m     \u001b[39mfor\u001b[39;00m receiver, sender \u001b[39min\u001b[39;00m \u001b[39mself\u001b[39m\u001b[39m.\u001b[39mconnection_pairs: \n\u001b[0;32m---> 84\u001b[0m         \u001b[39mif\u001b[39;00m receiver\u001b[39m.\u001b[39;49mpoll():\n\u001b[1;32m     85\u001b[0m             data \u001b[39m=\u001b[39m receiver\u001b[39m.\u001b[39mrecv()\n\u001b[1;32m     86\u001b[0m             \u001b[39m#print(data)\u001b[39;00m\n",
      "File \u001b[0;32m/usr/lib/python3.9/multiprocessing/connection.py:262\u001b[0m, in \u001b[0;36m_ConnectionBase.poll\u001b[0;34m(self, timeout)\u001b[0m\n\u001b[1;32m    260\u001b[0m \u001b[39mself\u001b[39m\u001b[39m.\u001b[39m_check_closed()\n\u001b[1;32m    261\u001b[0m \u001b[39mself\u001b[39m\u001b[39m.\u001b[39m_check_readable()\n\u001b[0;32m--> 262\u001b[0m \u001b[39mreturn\u001b[39;00m \u001b[39mself\u001b[39;49m\u001b[39m.\u001b[39;49m_poll(timeout)\n",
      "File \u001b[0;32m/usr/lib/python3.9/multiprocessing/connection.py:429\u001b[0m, in \u001b[0;36mConnection._poll\u001b[0;34m(self, timeout)\u001b[0m\n\u001b[1;32m    428\u001b[0m \u001b[39mdef\u001b[39;00m \u001b[39m_poll\u001b[39m(\u001b[39mself\u001b[39m, timeout):\n\u001b[0;32m--> 429\u001b[0m     r \u001b[39m=\u001b[39m wait([\u001b[39mself\u001b[39;49m], timeout)\n\u001b[1;32m    430\u001b[0m     \u001b[39mreturn\u001b[39;00m \u001b[39mbool\u001b[39m(r)\n",
      "File \u001b[0;32m/usr/lib/python3.9/multiprocessing/connection.py:930\u001b[0m, in \u001b[0;36mwait\u001b[0;34m(object_list, timeout)\u001b[0m\n\u001b[1;32m    928\u001b[0m \u001b[39mwith\u001b[39;00m _WaitSelector() \u001b[39mas\u001b[39;00m selector:\n\u001b[1;32m    929\u001b[0m     \u001b[39mfor\u001b[39;00m obj \u001b[39min\u001b[39;00m object_list:\n\u001b[0;32m--> 930\u001b[0m         selector\u001b[39m.\u001b[39;49mregister(obj, selectors\u001b[39m.\u001b[39;49mEVENT_READ)\n\u001b[1;32m    932\u001b[0m     \u001b[39mif\u001b[39;00m timeout \u001b[39mis\u001b[39;00m \u001b[39mnot\u001b[39;00m \u001b[39mNone\u001b[39;00m:\n\u001b[1;32m    933\u001b[0m         deadline \u001b[39m=\u001b[39m time\u001b[39m.\u001b[39mmonotonic() \u001b[39m+\u001b[39m timeout\n",
      "File \u001b[0;32m/usr/lib/python3.9/selectors.py:353\u001b[0m, in \u001b[0;36m_PollLikeSelector.register\u001b[0;34m(self, fileobj, events, data)\u001b[0m\n\u001b[1;32m    352\u001b[0m \u001b[39mdef\u001b[39;00m \u001b[39mregister\u001b[39m(\u001b[39mself\u001b[39m, fileobj, events, data\u001b[39m=\u001b[39m\u001b[39mNone\u001b[39;00m):\n\u001b[0;32m--> 353\u001b[0m     key \u001b[39m=\u001b[39m \u001b[39msuper\u001b[39;49m()\u001b[39m.\u001b[39;49mregister(fileobj, events, data)\n\u001b[1;32m    354\u001b[0m     poller_events \u001b[39m=\u001b[39m \u001b[39m0\u001b[39m\n\u001b[1;32m    355\u001b[0m     \u001b[39mif\u001b[39;00m events \u001b[39m&\u001b[39m EVENT_READ:\n",
      "File \u001b[0;32m/usr/lib/python3.9/selectors.py:239\u001b[0m, in \u001b[0;36m_BaseSelectorImpl.register\u001b[0;34m(self, fileobj, events, data)\u001b[0m\n\u001b[1;32m    236\u001b[0m \u001b[39mif\u001b[39;00m (\u001b[39mnot\u001b[39;00m events) \u001b[39mor\u001b[39;00m (events \u001b[39m&\u001b[39m \u001b[39m~\u001b[39m(EVENT_READ \u001b[39m|\u001b[39m EVENT_WRITE)):\n\u001b[1;32m    237\u001b[0m     \u001b[39mraise\u001b[39;00m \u001b[39mValueError\u001b[39;00m(\u001b[39m\"\u001b[39m\u001b[39mInvalid events: \u001b[39m\u001b[39m{!r}\u001b[39;00m\u001b[39m\"\u001b[39m\u001b[39m.\u001b[39mformat(events))\n\u001b[0;32m--> 239\u001b[0m key \u001b[39m=\u001b[39m SelectorKey(fileobj, \u001b[39mself\u001b[39;49m\u001b[39m.\u001b[39;49m_fileobj_lookup(fileobj), events, data)\n\u001b[1;32m    241\u001b[0m \u001b[39mif\u001b[39;00m key\u001b[39m.\u001b[39mfd \u001b[39min\u001b[39;00m \u001b[39mself\u001b[39m\u001b[39m.\u001b[39m_fd_to_key:\n\u001b[1;32m    242\u001b[0m     \u001b[39mraise\u001b[39;00m \u001b[39mKeyError\u001b[39;00m(\u001b[39m\"\u001b[39m\u001b[39m{!r}\u001b[39;00m\u001b[39m (FD \u001b[39m\u001b[39m{}\u001b[39;00m\u001b[39m) is already registered\u001b[39m\u001b[39m\"\u001b[39m\n\u001b[1;32m    243\u001b[0m                    \u001b[39m.\u001b[39mformat(fileobj, key\u001b[39m.\u001b[39mfd))\n",
      "File \u001b[0;32m/usr/lib/python3.9/selectors.py:226\u001b[0m, in \u001b[0;36m_BaseSelectorImpl._fileobj_lookup\u001b[0;34m(self, fileobj)\u001b[0m\n\u001b[1;32m    217\u001b[0m \u001b[39m\u001b[39m\u001b[39m\"\"\"Return a file descriptor from a file object.\u001b[39;00m\n\u001b[1;32m    218\u001b[0m \n\u001b[1;32m    219\u001b[0m \u001b[39mThis wraps _fileobj_to_fd() to do an exhaustive search in case\u001b[39;00m\n\u001b[0;32m   (...)\u001b[0m\n\u001b[1;32m    223\u001b[0m \u001b[39mused by _SelectorMapping.\u001b[39;00m\n\u001b[1;32m    224\u001b[0m \u001b[39m\"\"\"\u001b[39;00m\n\u001b[1;32m    225\u001b[0m \u001b[39mtry\u001b[39;00m:\n\u001b[0;32m--> 226\u001b[0m     \u001b[39mreturn\u001b[39;00m _fileobj_to_fd(fileobj)\n\u001b[1;32m    227\u001b[0m \u001b[39mexcept\u001b[39;00m \u001b[39mValueError\u001b[39;00m:\n\u001b[1;32m    228\u001b[0m     \u001b[39m# Do an exhaustive search.\u001b[39;00m\n\u001b[1;32m    229\u001b[0m     \u001b[39mfor\u001b[39;00m key \u001b[39min\u001b[39;00m \u001b[39mself\u001b[39m\u001b[39m.\u001b[39m_fd_to_key\u001b[39m.\u001b[39mvalues():\n",
      "\u001b[0;31mKeyboardInterrupt\u001b[0m: "
     ]
    }
   ],
   "source": [
    "t1.cancel()\n",
    "t2.cancel()\n",
    "c = Connector()\n",
    "c.connect(bt_out, btapp_in)\n",
    "c.connect(btapp_out, imu_in)\n",
    "c.connect(imu_out, wheel_in)\n",
    "while True: \n",
    "    c.step()"
   ]
  },
  {
   "cell_type": "code",
   "execution_count": 60,
   "metadata": {},
   "outputs": [
    {
     "name": "stdout",
     "output_type": "stream",
     "text": [
      "((0, 0.7263839808888073), 'btapp', 5494)\n",
      "((0, 0.9603560150848067), 'btapp', 5495)\n",
      "((0, 1.194247631140144), 'btapp', 5496)\n",
      "((0, 1.4275463021984036), 'btapp', 5497)\n",
      "((0, 1.6614675568432569), 'btapp', 5498)\n",
      "((0, 1.8949986576727063), 'btapp', 5499)\n",
      "((0, 2.1281696268349393), 'btapp', 5500)\n",
      "((0, 2.36184689428935), 'btapp', 5501)\n",
      "((0, 2.5954966736129736), 'btapp', 5502)\n",
      "((0, 2.82924062457774), 'btapp', 5503)\n",
      "((0, 3.062948608707181), 'btapp', 5504)\n",
      "((0, 3.296584914890326), 'btapp', 5505)\n",
      "((0, 3.529574219990199), 'btapp', 5506)\n",
      "((0, 3.7630648533751554), 'btapp', 5507)\n",
      "((0, 3.996115561810123), 'btapp', 5508)\n",
      "((0, 4.228940518458226), 'btapp', 5509)\n",
      "((0, 4.462006621095251), 'btapp', 5510)\n",
      "((0, 4.695179910688665), 'btapp', 5511)\n",
      "((0, 4.927480482683935), 'btapp', 5512)\n",
      "((0, 5.160171588761728), 'btapp', 5513)\n",
      "((0, 5.392550955039077), 'btapp', 5514)\n",
      "((0, 5.624644666389544), 'btapp', 5515)\n",
      "((0, 5.857062590567727), 'btapp', 5516)\n",
      "((0, 6.0895640561657665), 'btapp', 5517)\n",
      "((0, 6.320780815931446), 'btapp', 5518)\n",
      "((0, 6.552995743512568), 'btapp', 5519)\n",
      "((0, 6.784765421240495), 'btapp', 5520)\n",
      "((0, 7.016550576676137), 'btapp', 5521)\n",
      "((0, 7.248143849861586), 'btapp', 5522)\n",
      "((0, 7.4787624818598974), 'btapp', 5523)\n",
      "((0, 7.709889291081618), 'btapp', 5524)\n",
      "((0, 7.941092359312147), 'btapp', 5525)\n",
      "((0, 8.171942972221284), 'btapp', 5526)\n",
      "((0, 8.402017497782975), 'btapp', 5527)\n",
      "((0, 8.632325423592789), 'btapp', 5528)\n",
      "((0, 8.862892058771576), 'btapp', 5529)\n",
      "((0, 0.0), 'btapp', 5530)\n",
      "((0, 0.0), 'btapp', 5531)\n",
      "((70.41693476088372, 0.0), 'btapp', 5532)\n",
      "((70.91779842265824, 0.20696132694020486), 'btapp', 5533)\n",
      "((71.41806445364023, 0.44054299853277357), 'btapp', 5534)\n",
      "((71.91867744748302, 0.6744097071126554), 'btapp', 5535)\n",
      "((72.41802563165987, 0.9078498640516197), 'btapp', 5536)\n",
      "((72.91710951072591, 1.141372209165512), 'btapp', 5537)\n",
      "((73.41657161843372, 1.3753194565397453), 'btapp', 5538)\n",
      "((72.41657161843372, 1.6091044419321099), 'btapp', 5539)\n",
      "((71.41657161843372, 0.0), 'btapp', 5540)\n",
      "((70.41657161843372, 0.0), 'btapp', 5541)\n",
      "((69.41657161843372, 0.0), 'btapp', 5542)\n",
      "((68.41657161843372, 0.0), 'btapp', 5543)\n",
      "((67.41657161843372, 0.0), 'btapp', 5544)\n",
      "((66.41657161843372, 0.0), 'btapp', 5545)\n",
      "((65.41657161843372, 0.0), 'btapp', 5546)\n",
      "((64.41657161843372, 0.0), 'btapp', 5547)\n",
      "((63.41657161843372, 0.0), 'btapp', 5548)\n",
      "((62.41657161843372, 0.0), 'btapp', 5549)\n",
      "((61.41657161843372, 0.0), 'btapp', 5550)\n",
      "((60.41657161843372, 0.0), 'btapp', 5551)\n",
      "((59.41657161843372, 0.0), 'btapp', 5552)\n",
      "((58.41657161843372, 0.0), 'btapp', 5553)\n",
      "((57.41657161843372, 0.0), 'btapp', 5554)\n",
      "((56.41657161843372, 0.0), 'btapp', 5555)\n",
      "((55.41657161843372, 0.0), 'btapp', 5556)\n",
      "((54.41657161843372, 0.0), 'btapp', 5557)\n",
      "((53.41657161843372, 0.0), 'btapp', 5558)\n",
      "((52.41657161843372, 0.0), 'btapp', 5559)\n",
      "((51.41657161843372, 0.0), 'btapp', 5560)\n",
      "((50.41657161843372, 0.0), 'btapp', 5561)\n",
      "((49.41657161843372, 0.0), 'btapp', 5562)\n",
      "((48.41657161843372, 0.0), 'btapp', 5563)\n",
      "((47.41657161843372, 0.0), 'btapp', 5564)\n",
      "((46.41657161843372, 0.0), 'btapp', 5565)\n",
      "((45.41657161843372, 0.0), 'btapp', 5566)\n",
      "((44.41657161843372, 0.0), 'btapp', 5567)\n",
      "((43.41657161843372, 0.0), 'btapp', 5568)\n",
      "((42.41657161843372, 0.2118787479190365), 'btapp', 5569)\n",
      "((41.41657161843372, 0.44486266577749234), 'btapp', 5570)\n",
      "((40.41657161843372, 0.6784835366613207), 'btapp', 5571)\n",
      "((39.41657161843372, 0.9125941167469986), 'btapp', 5572)\n",
      "((38.41657161843372, 1.1460155393132165), 'btapp', 5573)\n",
      "((37.41657161843372, 1.3800710702363927), 'btapp', 5574)\n",
      "((36.41657161843372, 1.6134291293383463), 'btapp', 5575)\n",
      "((35.41657161843372, 1.847110757911774), 'btapp', 5576)\n",
      "((34.41657161843372, 2.0809766061593793), 'btapp', 5577)\n"
     ]
    }
   ],
   "source": [
    "\n",
    "#t1.cancel()\n",
    "#t2.cancel()\n",
    "while bt_out.poll():\n",
    "    btapp_in.send(bt_out.recv())\n",
    "    while btapp_out.poll():\n",
    "        (btapp_out.recv())\n",
    "    print (btapp_out.recv())\n",
    "    "
   ]
  },
  {
   "cell_type": "code",
   "execution_count": 11,
   "metadata": {},
   "outputs": [],
   "source": [
    "btapp_in.send(bt_out.recv())"
   ]
  },
  {
   "cell_type": "code",
   "execution_count": 71,
   "metadata": {},
   "outputs": [
    {
     "data": {
      "text/plain": [
       "('up', 'bt', 7)"
      ]
     },
     "execution_count": 71,
     "metadata": {},
     "output_type": "execute_result"
    }
   ],
   "source": [
    "bt_out.recv()"
   ]
  },
  {
   "cell_type": "code",
   "execution_count": 16,
   "metadata": {},
   "outputs": [],
   "source": [
    "while btapp_out.poll():\n",
    "    btapp_out.recv()"
   ]
  },
  {
   "cell_type": "code",
   "execution_count": 38,
   "metadata": {},
   "outputs": [
    {
     "data": {
      "text/plain": [
       "((72.30826074068698, 0.0), 'btapp', 14001)"
      ]
     },
     "execution_count": 38,
     "metadata": {},
     "output_type": "execute_result"
    }
   ],
   "source": [
    "while (btapp_out).poll():\n",
    "    btapp_out.recv()\n",
    "btapp_out.recv()"
   ]
  },
  {
   "cell_type": "code",
   "execution_count": 42,
   "metadata": {},
   "outputs": [
    {
     "ename": "BrokenPipeError",
     "evalue": "[Errno 32] Broken pipe",
     "output_type": "error",
     "traceback": [
      "\u001b[0;31m---------------------------------------------------------------------------\u001b[0m",
      "\u001b[0;31mBrokenPipeError\u001b[0m                           Traceback (most recent call last)",
      "\u001b[1;32m/home/kawa/projects/car1/src/bluetooth_test.ipynb Cell 4\u001b[0m line \u001b[0;36m2\n\u001b[1;32m      <a href='vscode-notebook-cell://127.0.0.1:8080/home/kawa/projects/car1/src/bluetooth_test.ipynb#X16sdnNjb2RlLXJlbW90ZQ%3D%3D?line=0'>1</a>\u001b[0m \u001b[39mwhile\u001b[39;00m \u001b[39mTrue\u001b[39;00m: \n\u001b[0;32m----> <a href='vscode-notebook-cell://127.0.0.1:8080/home/kawa/projects/car1/src/bluetooth_test.ipynb#X16sdnNjb2RlLXJlbW90ZQ%3D%3D?line=1'>2</a>\u001b[0m     c\u001b[39m.\u001b[39;49mstep()\n",
      "File \u001b[0;32m~/projects/car1/src/components/utils.py:75\u001b[0m, in \u001b[0;36mConnector.step\u001b[0;34m(self)\u001b[0m\n\u001b[1;32m     73\u001b[0m \u001b[39mfor\u001b[39;00m receiver, sender \u001b[39min\u001b[39;00m \u001b[39mself\u001b[39m\u001b[39m.\u001b[39mconnection_pairs: \n\u001b[1;32m     74\u001b[0m     \u001b[39mif\u001b[39;00m receiver\u001b[39m.\u001b[39mpoll():\n\u001b[0;32m---> 75\u001b[0m         sender\u001b[39m.\u001b[39;49msend(receiver\u001b[39m.\u001b[39;49mrecv())\n",
      "File \u001b[0;32m/usr/lib/python3.9/multiprocessing/connection.py:211\u001b[0m, in \u001b[0;36m_ConnectionBase.send\u001b[0;34m(self, obj)\u001b[0m\n\u001b[1;32m    209\u001b[0m \u001b[39mself\u001b[39m\u001b[39m.\u001b[39m_check_closed()\n\u001b[1;32m    210\u001b[0m \u001b[39mself\u001b[39m\u001b[39m.\u001b[39m_check_writable()\n\u001b[0;32m--> 211\u001b[0m \u001b[39mself\u001b[39;49m\u001b[39m.\u001b[39;49m_send_bytes(_ForkingPickler\u001b[39m.\u001b[39;49mdumps(obj))\n",
      "File \u001b[0;32m/usr/lib/python3.9/multiprocessing/connection.py:416\u001b[0m, in \u001b[0;36mConnection._send_bytes\u001b[0;34m(self, buf)\u001b[0m\n\u001b[1;32m    410\u001b[0m     \u001b[39mself\u001b[39m\u001b[39m.\u001b[39m_send(buf)\n\u001b[1;32m    411\u001b[0m \u001b[39melse\u001b[39;00m:\n\u001b[1;32m    412\u001b[0m     \u001b[39m# Issue #20540: concatenate before sending, to avoid delays due\u001b[39;00m\n\u001b[1;32m    413\u001b[0m     \u001b[39m# to Nagle's algorithm on a TCP socket.\u001b[39;00m\n\u001b[1;32m    414\u001b[0m     \u001b[39m# Also note we want to avoid sending a 0-length buffer separately,\u001b[39;00m\n\u001b[1;32m    415\u001b[0m     \u001b[39m# to avoid \"broken pipe\" errors if the other end closed the pipe.\u001b[39;00m\n\u001b[0;32m--> 416\u001b[0m     \u001b[39mself\u001b[39;49m\u001b[39m.\u001b[39;49m_send(header \u001b[39m+\u001b[39;49m buf)\n",
      "File \u001b[0;32m/usr/lib/python3.9/multiprocessing/connection.py:373\u001b[0m, in \u001b[0;36mConnection._send\u001b[0;34m(self, buf, write)\u001b[0m\n\u001b[1;32m    371\u001b[0m remaining \u001b[39m=\u001b[39m \u001b[39mlen\u001b[39m(buf)\n\u001b[1;32m    372\u001b[0m \u001b[39mwhile\u001b[39;00m \u001b[39mTrue\u001b[39;00m:\n\u001b[0;32m--> 373\u001b[0m     n \u001b[39m=\u001b[39m write(\u001b[39mself\u001b[39;49m\u001b[39m.\u001b[39;49m_handle, buf)\n\u001b[1;32m    374\u001b[0m     remaining \u001b[39m-\u001b[39m\u001b[39m=\u001b[39m n\n\u001b[1;32m    375\u001b[0m     \u001b[39mif\u001b[39;00m remaining \u001b[39m==\u001b[39m \u001b[39m0\u001b[39m:\n",
      "\u001b[0;31mBrokenPipeError\u001b[0m: [Errno 32] Broken pipe"
     ]
    }
   ],
   "source": [
    "while True: \n",
    "    c.step()\n",
    "    print\n"
   ]
  },
  {
   "cell_type": "code",
   "execution_count": null,
   "metadata": {},
   "outputs": [],
   "source": []
  }
 ],
 "metadata": {
  "kernelspec": {
   "display_name": ".venv",
   "language": "python",
   "name": "python3"
  },
  "language_info": {
   "codemirror_mode": {
    "name": "ipython",
    "version": 3
   },
   "file_extension": ".py",
   "mimetype": "text/x-python",
   "name": "python",
   "nbconvert_exporter": "python",
   "pygments_lexer": "ipython3",
   "version": "3.9.2"
  }
 },
 "nbformat": 4,
 "nbformat_minor": 2
}
