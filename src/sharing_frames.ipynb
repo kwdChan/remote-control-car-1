{
 "cells": [
  {
   "cell_type": "code",
   "execution_count": 3,
   "metadata": {},
   "outputs": [],
   "source": [
    "from multiprocessing import Manager\n",
    "import numpy as np"
   ]
  },
  {
   "cell_type": "code",
   "execution_count": 30,
   "metadata": {},
   "outputs": [
    {
     "ename": "RemoteError",
     "evalue": "\n---------------------------------------------------------------------------\nTraceback (most recent call last):\n  File \"/usr/lib/python3.9/multiprocessing/managers.py\", line 211, in handle_request\n    result = func(c, *args, **kwds)\n  File \"/usr/lib/python3.9/multiprocessing/managers.py\", line 378, in create\n    obj = callable(*args, **kwds)\n  File \"/usr/lib/python3.9/multiprocessing/managers.py\", line 1015, in Array\n    return array.array(typecode, sequence)\nTypeError: must be real number, not list\n---------------------------------------------------------------------------",
     "output_type": "error",
     "traceback": [
      "\u001b[0;31m---------------------------------------------------------------------------\u001b[0m",
      "\u001b[0;31mRemoteError\u001b[0m                               Traceback (most recent call last)",
      "\u001b[1;32m/home/kawa/projects/car1/src/sharing_frames.ipynb Cell 2\u001b[0m line \u001b[0;36m2\n\u001b[1;32m      <a href='vscode-notebook-cell://127.0.0.1:8080/home/kawa/projects/car1/src/sharing_frames.ipynb#W1sdnNjb2RlLXJlbW90ZQ%3D%3D?line=0'>1</a>\u001b[0m m \u001b[39m=\u001b[39m Manager()\n\u001b[0;32m----> <a href='vscode-notebook-cell://127.0.0.1:8080/home/kawa/projects/car1/src/sharing_frames.ipynb#W1sdnNjb2RlLXJlbW90ZQ%3D%3D?line=1'>2</a>\u001b[0m ma \u001b[39m=\u001b[39m m\u001b[39m.\u001b[39;49mArray(\u001b[39m'\u001b[39;49m\u001b[39md\u001b[39;49m\u001b[39m'\u001b[39;49m, [[\u001b[39m1\u001b[39;49m],[\u001b[39m2\u001b[39;49m],[\u001b[39m3\u001b[39;49m]])\n",
      "File \u001b[0;32m/usr/lib/python3.9/multiprocessing/managers.py:714\u001b[0m, in \u001b[0;36mBaseManager.register.<locals>.temp\u001b[0;34m(self, *args, **kwds)\u001b[0m\n\u001b[1;32m    712\u001b[0m \u001b[39mdef\u001b[39;00m \u001b[39mtemp\u001b[39m(\u001b[39mself\u001b[39m, \u001b[39m/\u001b[39m, \u001b[39m*\u001b[39margs, \u001b[39m*\u001b[39m\u001b[39m*\u001b[39mkwds):\n\u001b[1;32m    713\u001b[0m     util\u001b[39m.\u001b[39mdebug(\u001b[39m'\u001b[39m\u001b[39mrequesting creation of a shared \u001b[39m\u001b[39m%r\u001b[39;00m\u001b[39m object\u001b[39m\u001b[39m'\u001b[39m, typeid)\n\u001b[0;32m--> 714\u001b[0m     token, exp \u001b[39m=\u001b[39m \u001b[39mself\u001b[39;49m\u001b[39m.\u001b[39;49m_create(typeid, \u001b[39m*\u001b[39;49margs, \u001b[39m*\u001b[39;49m\u001b[39m*\u001b[39;49mkwds)\n\u001b[1;32m    715\u001b[0m     proxy \u001b[39m=\u001b[39m proxytype(\n\u001b[1;32m    716\u001b[0m         token, \u001b[39mself\u001b[39m\u001b[39m.\u001b[39m_serializer, manager\u001b[39m=\u001b[39m\u001b[39mself\u001b[39m,\n\u001b[1;32m    717\u001b[0m         authkey\u001b[39m=\u001b[39m\u001b[39mself\u001b[39m\u001b[39m.\u001b[39m_authkey, exposed\u001b[39m=\u001b[39mexp\n\u001b[1;32m    718\u001b[0m         )\n\u001b[1;32m    719\u001b[0m     conn \u001b[39m=\u001b[39m \u001b[39mself\u001b[39m\u001b[39m.\u001b[39m_Client(token\u001b[39m.\u001b[39maddress, authkey\u001b[39m=\u001b[39m\u001b[39mself\u001b[39m\u001b[39m.\u001b[39m_authkey)\n",
      "File \u001b[0;32m/usr/lib/python3.9/multiprocessing/managers.py:599\u001b[0m, in \u001b[0;36mBaseManager._create\u001b[0;34m(self, typeid, *args, **kwds)\u001b[0m\n\u001b[1;32m    597\u001b[0m conn \u001b[39m=\u001b[39m \u001b[39mself\u001b[39m\u001b[39m.\u001b[39m_Client(\u001b[39mself\u001b[39m\u001b[39m.\u001b[39m_address, authkey\u001b[39m=\u001b[39m\u001b[39mself\u001b[39m\u001b[39m.\u001b[39m_authkey)\n\u001b[1;32m    598\u001b[0m \u001b[39mtry\u001b[39;00m:\n\u001b[0;32m--> 599\u001b[0m     \u001b[39mid\u001b[39m, exposed \u001b[39m=\u001b[39m dispatch(conn, \u001b[39mNone\u001b[39;49;00m, \u001b[39m'\u001b[39;49m\u001b[39mcreate\u001b[39;49m\u001b[39m'\u001b[39;49m, (typeid,)\u001b[39m+\u001b[39;49margs, kwds)\n\u001b[1;32m    600\u001b[0m \u001b[39mfinally\u001b[39;00m:\n\u001b[1;32m    601\u001b[0m     conn\u001b[39m.\u001b[39mclose()\n",
      "File \u001b[0;32m/usr/lib/python3.9/multiprocessing/managers.py:92\u001b[0m, in \u001b[0;36mdispatch\u001b[0;34m(c, id, methodname, args, kwds)\u001b[0m\n\u001b[1;32m     90\u001b[0m \u001b[39mif\u001b[39;00m kind \u001b[39m==\u001b[39m \u001b[39m'\u001b[39m\u001b[39m#RETURN\u001b[39m\u001b[39m'\u001b[39m:\n\u001b[1;32m     91\u001b[0m     \u001b[39mreturn\u001b[39;00m result\n\u001b[0;32m---> 92\u001b[0m \u001b[39mraise\u001b[39;00m convert_to_error(kind, result)\n",
      "\u001b[0;31mRemoteError\u001b[0m: \n---------------------------------------------------------------------------\nTraceback (most recent call last):\n  File \"/usr/lib/python3.9/multiprocessing/managers.py\", line 211, in handle_request\n    result = func(c, *args, **kwds)\n  File \"/usr/lib/python3.9/multiprocessing/managers.py\", line 378, in create\n    obj = callable(*args, **kwds)\n  File \"/usr/lib/python3.9/multiprocessing/managers.py\", line 1015, in Array\n    return array.array(typecode, sequence)\nTypeError: must be real number, not list\n---------------------------------------------------------------------------"
     ]
    }
   ],
   "source": [
    "m = Manager()\n",
    "ma = m.Array('d', [[1],[2],[3]])\n"
   ]
  },
  {
   "cell_type": "code",
   "execution_count": 46,
   "metadata": {},
   "outputs": [],
   "source": [
    "arr = np.random.random((10, 10, 3))"
   ]
  },
  {
   "cell_type": "code",
   "execution_count": 47,
   "metadata": {},
   "outputs": [
    {
     "data": {
      "text/plain": [
       "array([0.64430812, 0.72825133, 0.1647552 , 0.58004839, 0.3634302 ,\n",
       "       0.71774827, 0.26796105, 0.5784142 , 0.50941197, 0.91472794,\n",
       "       0.36371045, 0.73453846, 0.75618607, 0.84919755, 0.93775056,\n",
       "       0.80683072, 0.99576006, 0.24449607, 0.87805629, 0.69525961,\n",
       "       0.83524278, 0.11224948, 0.87820922, 0.36029582, 0.26743971,\n",
       "       0.6475398 , 0.40362185, 0.68518305, 0.22451766, 0.41834876,\n",
       "       0.75452725, 0.57565629, 0.68472752, 0.35050279, 0.87153622,\n",
       "       0.76639873, 0.06638765, 0.12379686, 0.05472543, 0.56672687,\n",
       "       0.39648726, 0.5274532 , 0.36774159, 0.70821067, 0.260447  ,\n",
       "       0.40422799, 0.86327858, 0.61302122, 0.66224711, 0.45348183,\n",
       "       0.05084376, 0.42209481, 0.58640831, 0.72728304, 0.94943918,\n",
       "       0.07677861, 0.79573008, 0.73441854, 0.93497477, 0.01508432,\n",
       "       0.96181065, 0.2348882 , 0.78350744, 0.52768679, 0.8905267 ,\n",
       "       0.68259574, 0.19952035, 0.26013662, 0.10851019, 0.20963565,\n",
       "       0.76357149, 0.11972496, 0.36342118, 0.28031064, 0.79168338,\n",
       "       0.2633465 , 0.55590232, 0.24605615, 0.4321564 , 0.38427719,\n",
       "       0.05950824, 0.39517729, 0.87905146, 0.4089153 , 0.38304814,\n",
       "       0.41288807, 0.6706289 , 0.19610549, 0.59751761, 0.19073533,\n",
       "       0.29772925, 0.44291101, 0.11268983, 0.30151397, 0.53381464,\n",
       "       0.34601156, 0.32560428, 0.93969684, 0.70737393, 0.81319689,\n",
       "       0.94660082, 0.53586587, 0.85970944, 0.87842223, 0.37740621,\n",
       "       0.81978052, 0.97541328, 0.65679279, 0.75407908, 0.42019677,\n",
       "       0.39030798, 0.77734937, 0.48348258, 0.41402042, 0.34597379,\n",
       "       0.4084282 , 0.05806456, 0.67565908, 0.68072239, 0.2565516 ,\n",
       "       0.83426708, 0.26588719, 0.66869623, 0.93932151, 0.57881368,\n",
       "       0.93493935, 0.14072097, 0.76582763, 0.00516197, 0.97766439,\n",
       "       0.18856164, 0.42060371, 0.12263463, 0.64769884, 0.65064041,\n",
       "       0.77947233, 0.18059416, 0.19895851, 0.43969261, 0.82977515,\n",
       "       0.5583156 , 0.47561978, 0.8090154 , 0.83646562, 0.11059281,\n",
       "       0.82043959, 0.12727117, 0.60640892, 0.18859719, 0.92057932,\n",
       "       0.02262485, 0.79908826, 0.07785509, 0.31942705, 0.47084062,\n",
       "       0.99970008, 0.18229131, 0.04717839, 0.93612003, 0.14401897,\n",
       "       0.29305957, 0.87970112, 0.6574242 , 0.50957155, 0.8305413 ,\n",
       "       0.81551981, 0.03844004, 0.2656779 , 0.89166148, 0.36157893,\n",
       "       0.62222541, 0.44400828, 0.12209042, 0.80255014, 0.6133233 ,\n",
       "       0.3574729 , 0.70299701, 0.63929712, 0.54813754, 0.25956096,\n",
       "       0.76529172, 0.42656174, 0.25667088, 0.05512754, 0.11435629,\n",
       "       0.74524868, 0.98062544, 0.25152579, 0.20942133, 0.84942043,\n",
       "       0.30800122, 0.6937972 , 0.31251048, 0.26089335, 0.85965692,\n",
       "       0.71956964, 0.05280966, 0.85141735, 0.42378202, 0.99572487,\n",
       "       0.24309859, 0.34088773, 0.2057575 , 0.17701818, 0.88065978,\n",
       "       0.97345234, 0.0579111 , 0.68282016, 0.66128951, 0.76327682,\n",
       "       0.83503624, 0.37759735, 0.80818884, 0.71405023, 0.20686006,\n",
       "       0.77200235, 0.77339144, 0.03788403, 0.46937704, 0.47855826,\n",
       "       0.5731105 , 0.64112711, 0.16065441, 0.86632916, 0.67024154,\n",
       "       0.91695245, 0.52214568, 0.08019171, 0.29960747, 0.48742134,\n",
       "       0.67595747, 0.61024602, 0.66935365, 0.48194448, 0.88260644,\n",
       "       0.26349083, 0.46819232, 0.91386346, 0.90535588, 0.97525066,\n",
       "       0.2150906 , 0.4107653 , 0.79707979, 0.2340033 , 0.46982176,\n",
       "       0.64193207, 0.34606105, 0.73352528, 0.81816593, 0.44464939,\n",
       "       0.50248245, 0.07590227, 0.32039409, 0.20987185, 0.18439686,\n",
       "       0.17503892, 0.15264525, 0.42125427, 0.58051145, 0.44090751,\n",
       "       0.50378767, 0.69634196, 0.5603351 , 0.72559577, 0.53640053,\n",
       "       0.80888604, 0.75329718, 0.45394539, 0.25250585, 0.44778428,\n",
       "       0.30558611, 0.40031382, 0.35484789, 0.31100338, 0.69649871,\n",
       "       0.6256602 , 0.81129091, 0.37389704, 0.61468679, 0.75994019,\n",
       "       0.83322412, 0.96029465, 0.33766252, 0.48327168, 0.07664317,\n",
       "       0.89157557, 0.37062497, 0.32568365, 0.93360921, 0.08825087,\n",
       "       0.55311909, 0.61830133, 0.62229558, 0.87280086, 0.9225373 ,\n",
       "       0.34815426, 0.93301303, 0.4107884 , 0.62350277, 0.17694894])"
      ]
     },
     "execution_count": 47,
     "metadata": {},
     "output_type": "execute_result"
    }
   ],
   "source": [
    "arr.ravel()"
   ]
  },
  {
   "cell_type": "code",
   "execution_count": 15,
   "metadata": {},
   "outputs": [
    {
     "data": {
      "text/plain": [
       "0.6532489199195889"
      ]
     },
     "execution_count": 15,
     "metadata": {},
     "output_type": "execute_result"
    }
   ],
   "source": [
    "arr.data[0,0,1]"
   ]
  },
  {
   "cell_type": "code",
   "execution_count": 20,
   "metadata": {},
   "outputs": [
    {
     "ename": "TypeError",
     "evalue": "memoryview: a bytes-like object is required, not 'list'",
     "output_type": "error",
     "traceback": [
      "\u001b[0;31m---------------------------------------------------------------------------\u001b[0m",
      "\u001b[0;31mTypeError\u001b[0m                                 Traceback (most recent call last)",
      "\u001b[1;32m/home/kawa/projects/car1/src/sharing_frames.ipynb Cell 6\u001b[0m line \u001b[0;36m1\n\u001b[0;32m----> <a href='vscode-notebook-cell://127.0.0.1:8080/home/kawa/projects/car1/src/sharing_frames.ipynb#W5sdnNjb2RlLXJlbW90ZQ%3D%3D?line=0'>1</a>\u001b[0m \u001b[39mmemoryview\u001b[39;49m([\u001b[39m1\u001b[39;49m,\u001b[39m2\u001b[39;49m,])\n",
      "\u001b[0;31mTypeError\u001b[0m: memoryview: a bytes-like object is required, not 'list'"
     ]
    }
   ],
   "source": [
    "memoryview([1,2,])"
   ]
  },
  {
   "cell_type": "code",
   "execution_count": null,
   "metadata": {},
   "outputs": [],
   "source": []
  }
 ],
 "metadata": {
  "kernelspec": {
   "display_name": ".venv",
   "language": "python",
   "name": "python3"
  },
  "language_info": {
   "codemirror_mode": {
    "name": "ipython",
    "version": 3
   },
   "file_extension": ".py",
   "mimetype": "text/x-python",
   "name": "python",
   "nbconvert_exporter": "python",
   "pygments_lexer": "ipython3",
   "version": "3.9.2"
  }
 },
 "nbformat": 4,
 "nbformat_minor": 2
}
