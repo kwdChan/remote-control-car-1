{
 "cells": [
  {
   "cell_type": "code",
   "execution_count": 1,
   "metadata": {},
   "outputs": [],
   "source": [
    "\n",
    "from components.controller.bluetooth_controller import BlueToothCarControlSPP\n",
    "from components.controller.bluetooth_SPP_server import start_bluetooth_server_v2\n",
    "from components.gyroscope.gyroscope import AngularSpeedControlV2\n",
    "from components.two_wheels import TwoWheelsV2\n",
    "from components.camera import PicameraV2\n",
    "from components.controller.image_ml import ImageMLController\n",
    "from data_collection.data_collection import LoggerSet, Logger\n",
    "from multiprocessing import Manager\n",
    "\n",
    "from components import default_loop_v2, default_component_process_starter_v2, shared_value\n",
    "\n",
    "import RPi.GPIO as GPIO\n",
    "GPIO.setmode(GPIO.BOARD)\n",
    "from ctypes import c_double\n",
    "\n",
    "\n",
    "\n",
    "%load_ext autoreload\n",
    "%autoreload 2"
   ]
  },
  {
   "cell_type": "code",
   "execution_count": 3,
   "metadata": {},
   "outputs": [],
   "source": [
    "logger_set = LoggerSet('../log/session0', overwrite_ok=False)\n",
    "manager = Manager()"
   ]
  },
  {
   "cell_type": "markdown",
   "metadata": {},
   "source": [
    "## Two Wheels"
   ]
  },
  {
   "cell_type": "code",
   "execution_count": 6,
   "metadata": {},
   "outputs": [
    {
     "name": "stdout",
     "output_type": "stream",
     "text": [
      "Starting Serial Port Profile...\n"
     ]
    },
    {
     "name": "stderr",
     "output_type": "stream",
     "text": [
      "/home/kawa/projects/car1/src/components/two_wheels.py:15: RuntimeWarning: This channel is already in use, continuing anyway.  Use GPIO.setwarnings(False) to disable warnings.\n",
      "  GPIO.setup(pin, GPIO.OUT) #type: ignore\n",
      "/home/kawa/projects/car1/src/components/two_wheels.py:73: RuntimeWarning: This channel is already in use, continuing anyway.  Use GPIO.setwarnings(False) to disable warnings.\n",
      "  GPIO.setup(dir_pins[0], GPIO.OUT) #type: ignore\n",
      "/home/kawa/projects/car1/src/components/two_wheels.py:74: RuntimeWarning: This channel is already in use, continuing anyway.  Use GPIO.setwarnings(False) to disable warnings.\n",
      "  GPIO.setup(dir_pins[1], GPIO.OUT) #type: ignore\n",
      "Process Process-9:\n"
     ]
    },
    {
     "name": "stderr",
     "output_type": "stream",
     "text": [
      "Traceback (most recent call last):\n",
      "  File \"/usr/lib/python3.9/multiprocessing/process.py\", line 315, in _bootstrap\n",
      "    self.run()\n",
      "  File \"/usr/lib/python3.9/multiprocessing/process.py\", line 108, in run\n",
      "    self._target(*self._args, **self._kwargs)\n",
      "  File \"/home/kawa/projects/car1/src/components/__init__.py\", line 30, in default_loop_v2\n",
      "    obj = instantiater(**init_kwargs, **other_io)\n",
      "Process Process-8:\n",
      "  File \"/home/kawa/projects/car1/src/components/gyroscope/gyroscope.py\", line 241, in entry\n",
      "    logger = logger_set.get_logger(name, **kwargs)\n",
      "Traceback (most recent call last):\n",
      "  File \"/usr/lib/python3.9/multiprocessing/process.py\", line 315, in _bootstrap\n",
      "    self.run()\n",
      "  File \"/home/kawa/projects/car1/src/data_collection/data_collection.py\", line 27, in get_logger\n",
      "    return Logger(self.path, name, save_interval=save_interval, overwrite_ok=self.overwrite_ok)\n",
      "Process Process-10:\n",
      "  File \"/usr/lib/python3.9/multiprocessing/process.py\", line 108, in run\n",
      "    self._target(*self._args, **self._kwargs)\n",
      "  File \"/home/kawa/projects/car1/src/data_collection/data_collection.py\", line 70, in __init__\n",
      "    assert overwrite_ok\n",
      "Traceback (most recent call last):\n",
      "AssertionError\n",
      "  File \"/home/kawa/projects/car1/src/components/__init__.py\", line 30, in default_loop_v2\n",
      "    obj = instantiater(**init_kwargs, **other_io)\n",
      "  File \"/usr/lib/python3.9/multiprocessing/process.py\", line 315, in _bootstrap\n",
      "    self.run()\n",
      "  File \"/home/kawa/projects/car1/src/components/two_wheels.py\", line 78, in entry\n",
      "    logger = logger_set.get_logger(name, **kwargs)\n",
      "  File \"/usr/lib/python3.9/multiprocessing/process.py\", line 108, in run\n",
      "    self._target(*self._args, **self._kwargs)\n",
      "Process Process-11:\n",
      "  File \"/home/kawa/projects/car1/src/data_collection/data_collection.py\", line 27, in get_logger\n",
      "    return Logger(self.path, name, save_interval=save_interval, overwrite_ok=self.overwrite_ok)\n",
      "  File \"/home/kawa/projects/car1/src/data_collection/data_collection.py\", line 70, in __init__\n",
      "    assert overwrite_ok\n",
      "  File \"/home/kawa/projects/car1/src/components/__init__.py\", line 30, in default_loop_v2\n",
      "    obj = instantiater(**init_kwargs, **other_io)\n",
      "Traceback (most recent call last):\n",
      "  File \"/usr/lib/python3.9/multiprocessing/process.py\", line 315, in _bootstrap\n",
      "    self.run()\n",
      "  File \"/home/kawa/projects/car1/src/components/camera.py\", line 70, in entry\n",
      "    logger = logger_set.get_logger(**kwargs)\n",
      "AssertionError\n",
      "  File \"/usr/lib/python3.9/multiprocessing/process.py\", line 108, in run\n",
      "    self._target(*self._args, **self._kwargs)\n",
      "  File \"/home/kawa/projects/car1/src/data_collection/data_collection.py\", line 70, in __init__\n",
      "    assert overwrite_ok\n",
      "  File \"/home/kawa/projects/car1/src/data_collection/data_collection.py\", line 27, in get_logger\n",
      "    return Logger(self.path, name, save_interval=save_interval, overwrite_ok=self.overwrite_ok)\n",
      "  File \"/home/kawa/projects/car1/src/components/__init__.py\", line 30, in default_loop_v2\n",
      "    obj = instantiater(**init_kwargs, **other_io)\n",
      "  File \"/home/kawa/projects/car1/src/components/controller/bluetooth_controller.py\", line 90, in entry\n",
      "    logger = logger_set.get_logger(**kwargs)\n",
      "AssertionError\n",
      "  File \"/home/kawa/projects/car1/src/data_collection/data_collection.py\", line 27, in get_logger\n",
      "    return Logger(self.path, name, save_interval=save_interval, overwrite_ok=self.overwrite_ok)\n",
      "  File \"/home/kawa/projects/car1/src/data_collection/data_collection.py\", line 70, in __init__\n",
      "    assert overwrite_ok\n",
      "AssertionError\n"
     ]
    },
    {
     "name": "stdout",
     "output_type": "stream",
     "text": [
      "NewConnection(/org/bluez/hci0/dev_C8_BD_4D_BA_4F_15, 105)\n"
     ]
    }
   ],
   "source": [
    "w_out, w_starter = default_component_process_starter_v2(\n",
    "    TwoWheelsV2, \n",
    "    init_kwargs= dict(\n",
    "        left_pin=33, \n",
    "        right_pin=32, \n",
    "        dir_pins=(16, 18), \n",
    "        logger_set=logger_set, \n",
    "        name='TwoWheelsV2'\n",
    "    ), \n",
    "    mainloop = default_loop_v2, \n",
    "    main_kwargs=dict(interval=1/50),\n",
    "    manager=manager, \n",
    ")\n",
    "imu_out, imu_starter = default_component_process_starter_v2(\n",
    "    AngularSpeedControlV2, \n",
    "    init_kwargs= dict(\n",
    "        logger_set=logger_set, \n",
    "        name='AngularSpeedControlV2'\n",
    "    ), \n",
    "    mainloop = default_loop_v2, \n",
    "    main_kwargs=dict(interval=1/50),\n",
    "    manager=manager, \n",
    ")\n",
    "cam_out, cam_starter = default_component_process_starter_v2(\n",
    "    PicameraV2, \n",
    "    init_kwargs= dict(\n",
    "        resolution=(114, 64), framerate=30,\n",
    "        logger_set=logger_set, \n",
    "        name='PicameraV2'\n",
    "    ), \n",
    "    mainloop = default_loop_v2, \n",
    "    main_kwargs=dict(interval=1/50),\n",
    "    manager=manager, \n",
    "    shared_outputs_kwargs=dict(resolution=(114, 64))\n",
    ")\n",
    "\n",
    "bt_ser_out, bt_ser = start_bluetooth_server_v2(manager)\n",
    "\n",
    "bt_out, bt_starter = default_component_process_starter_v2(\n",
    "    BlueToothCarControlSPP, \n",
    "    init_kwargs= dict(\n",
    "        logger_set=logger_set, \n",
    "        name='BlueToothCarControlSPP'\n",
    "    ), \n",
    "    mainloop=default_loop_v2, \n",
    "    main_kwargs=dict(interval=1/30), \n",
    "    manager=manager, \n",
    ")\n",
    "\n",
    "\n",
    "w = w_starter(imu_out)\n",
    "imu = imu_starter(bt_out)\n",
    "cam = cam_starter()\n",
    "bt = bt_starter(bt_ser_out)"
   ]
  },
  {
   "cell_type": "code",
   "execution_count": 5,
   "metadata": {},
   "outputs": [],
   "source": [
    "w.terminate()\n",
    "imu.terminate()\n",
    "cam.terminate()\n",
    "bt_ser.terminate()\n",
    "bt.terminate()\n"
   ]
  },
  {
   "cell_type": "markdown",
   "metadata": {},
   "source": [
    "# ML Component\n"
   ]
  },
  {
   "cell_type": "code",
   "execution_count": 186,
   "metadata": {},
   "outputs": [],
   "source": [
    "ml_out, ml_starter = default_component_process_starter_v2(\n",
    "    ImageMLController, \n",
    "    init_kwargs= dict(\n",
    "        #resolution=(114, 64), framerate=30,\n",
    "        model_path='test.keras',\n",
    "        logger_set=logger_set, \n",
    "        name='ImageMLController'\n",
    "    ), \n",
    "    mainloop=default_loop_v2, \n",
    "    main_kwargs=dict(interval=1/60), \n",
    "    manager=manager, \n",
    ")\n",
    "ml = ml_starter(cam_out)"
   ]
  },
  {
   "cell_type": "code",
   "execution_count": 194,
   "metadata": {},
   "outputs": [],
   "source": [
    "ml.terminate()"
   ]
  },
  {
   "cell_type": "code",
   "execution_count": null,
   "metadata": {},
   "outputs": [],
   "source": []
  }
 ],
 "metadata": {
  "kernelspec": {
   "display_name": ".venv",
   "language": "python",
   "name": "python3"
  },
  "language_info": {
   "codemirror_mode": {
    "name": "ipython",
    "version": 3
   },
   "file_extension": ".py",
   "mimetype": "text/x-python",
   "name": "python",
   "nbconvert_exporter": "python",
   "pygments_lexer": "ipython3",
   "version": "3.9.2"
  }
 },
 "nbformat": 4,
 "nbformat_minor": 2
}
