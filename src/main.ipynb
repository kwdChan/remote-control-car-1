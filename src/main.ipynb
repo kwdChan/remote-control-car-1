{
 "cells": [
  {
   "cell_type": "code",
   "execution_count": 26,
   "metadata": {},
   "outputs": [],
   "source": [
    "\n",
    "from components.controller.bluetooth_controller import BlueToothCarControlSPP\n",
    "from components.controller.bluetooth_SPP_server import start_bluetooth_server_v2\n",
    "from components.gyroscope.gyroscope import AngularSpeedControlV2\n",
    "from components.two_wheels import TwoWheelsV2\n",
    "from components.camera import PicameraV2\n",
    "from components.controller.image_ml import ImageMLController\n",
    "from data_collection.data_collection import LoggerSet, Logger\n",
    "from multiprocessing import Manager\n",
    "from components import get_switches\n",
    "\n",
    "from components import default_loop_v2, default_component_process_starter_v2, shared_value\n",
    "import datetime\n",
    "import RPi.GPIO as GPIO\n",
    "GPIO.setmode(GPIO.BOARD)\n",
    "\n",
    "\n",
    "\n",
    "%load_ext autoreload\n",
    "%autoreload 2"
   ]
  },
  {
   "cell_type": "code",
   "execution_count": 18,
   "metadata": {},
   "outputs": [],
   "source": [
    "logger_set = LoggerSet('../log/session'+str(datetime.datetime.now()), overwrite_ok=False)\n",
    "manager = Manager()"
   ]
  },
  {
   "cell_type": "markdown",
   "metadata": {},
   "source": [
    "## Two Wheels"
   ]
  },
  {
   "cell_type": "code",
   "execution_count": 19,
   "metadata": {},
   "outputs": [
    {
     "name": "stdout",
     "output_type": "stream",
     "text": [
      "Starting Serial Port Profile...\n"
     ]
    },
    {
     "name": "stderr",
     "output_type": "stream",
     "text": [
      "/home/kawa/projects/car1/src/components/two_wheels.py:15: RuntimeWarning: This channel is already in use, continuing anyway.  Use GPIO.setwarnings(False) to disable warnings.\n",
      "  GPIO.setup(pin, GPIO.OUT) #type: ignore\n",
      "/home/kawa/projects/car1/src/components/two_wheels.py:73: RuntimeWarning: This channel is already in use, continuing anyway.  Use GPIO.setwarnings(False) to disable warnings.\n",
      "  GPIO.setup(dir_pins[0], GPIO.OUT) #type: ignore\n",
      "/home/kawa/projects/car1/src/components/two_wheels.py:74: RuntimeWarning: This channel is already in use, continuing anyway.  Use GPIO.setwarnings(False) to disable warnings.\n",
      "  GPIO.setup(dir_pins[1], GPIO.OUT) #type: ignore\n",
      "[2:37:09.179603034] [16674] \u001b[1;32m INFO \u001b[1;37mCamera \u001b[1;34mcamera_manager.cpp:297 \u001b[0mlibcamera v0.0.5+83-bde9b04f\n"
     ]
    },
    {
     "name": "stderr",
     "output_type": "stream",
     "text": [
      "[2:37:09.234283104] [16688] \u001b[1;32m INFO \u001b[1;37mRPI \u001b[1;34mvc4.cpp:437 \u001b[0mRegistered camera /base/soc/i2c0mux/i2c@1/ov5647@36 to Unicam device /dev/media1 and ISP device /dev/media2\n",
      "[2:37:09.234415621] [16688] \u001b[1;32m INFO \u001b[1;37mRPI \u001b[1;34mpipeline_base.cpp:1101 \u001b[0mUsing configuration file '/usr/share/libcamera/pipeline/rpi/vc4/rpi_apps.yaml'\n",
      "[2:37:09.255741806] [16674] \u001b[1;32m INFO \u001b[1;37mCamera \u001b[1;34mcamera.cpp:1033 \u001b[0mconfiguring streams: (0) 114x64-RGB888 (1) 1920x1080-SGRBG10_CSI2P\n",
      "[2:37:09.256384059] [16688] \u001b[1;32m INFO \u001b[1;37mRPI \u001b[1;34mvc4.cpp:565 \u001b[0mSensor: /base/soc/i2c0mux/i2c@1/ov5647@36 - Selected sensor format: 1920x1080-SGRBG10_1X10 - Selected unicam format: 1920x1080-pgAA\n"
     ]
    },
    {
     "name": "stdout",
     "output_type": "stream",
     "text": [
      "NewConnection(/org/bluez/hci0/dev_C8_BD_4D_BA_4F_15, 101)\n",
      "reset\n",
      "reset\n",
      "reset\n",
      "reset\n",
      "reset\n",
      "reset\n",
      "reset\n",
      "reset\n",
      "reset\n",
      "saving: TwoWheelsV2\n",
      "saving: AngularSpeedControlV2\n",
      "saving: PicameraV2\n",
      "saving: BlueToothCarControlSPP\n",
      "saving: TwoWheelsV2\n",
      "saving: PicameraV2saving: BlueToothCarControlSPP\n",
      "\n",
      "saving: AngularSpeedControlV2\n",
      "saving: TwoWheelsV2\n",
      "saving: BlueToothCarControlSPP\n",
      "saving: PicameraV2\n",
      "saving: AngularSpeedControlV2\n"
     ]
    }
   ],
   "source": [
    "w_out, w_starter = default_component_process_starter_v2(\n",
    "    TwoWheelsV2, \n",
    "    init_kwargs= dict(\n",
    "        left_pin=33, \n",
    "        right_pin=32, \n",
    "        dir_pins=(16, 18), \n",
    "        logger_set=logger_set, \n",
    "        name='TwoWheelsV2'\n",
    "    ), \n",
    "    mainloop = default_loop_v2, \n",
    "    main_kwargs=dict(interval=1/50),\n",
    "    manager=manager, \n",
    ")\n",
    "imu_out, imu_starter = default_component_process_starter_v2(\n",
    "    AngularSpeedControlV2, \n",
    "    init_kwargs= dict(\n",
    "        logger_set=logger_set, \n",
    "        name='AngularSpeedControlV2'\n",
    "    ), \n",
    "    mainloop = default_loop_v2, \n",
    "    main_kwargs=dict(interval=1/50),\n",
    "    manager=manager, \n",
    ")\n",
    "cam_out, cam_starter = default_component_process_starter_v2(\n",
    "    PicameraV2, \n",
    "    init_kwargs= dict(\n",
    "        resolution=(114, 64), framerate=30,\n",
    "        logger_set=logger_set, \n",
    "        name='PicameraV2'\n",
    "    ), \n",
    "    mainloop = default_loop_v2, \n",
    "    main_kwargs=dict(interval=1/50),\n",
    "    manager=manager, \n",
    "    shared_outputs_kwargs=dict(resolution=(114, 64))\n",
    ")\n",
    "\n",
    "bt_ser_out, bt_ser = start_bluetooth_server_v2(manager)\n",
    "\n",
    "bt_out, bt_starter = default_component_process_starter_v2(\n",
    "    BlueToothCarControlSPP, \n",
    "    init_kwargs= dict(\n",
    "        logger_set=logger_set, \n",
    "        name='BlueToothCarControlSPP'\n",
    "    ), \n",
    "    mainloop=default_loop_v2, \n",
    "    main_kwargs=dict(interval=1/30), \n",
    "    manager=manager, \n",
    ")\n",
    "\n",
    "\n",
    "w = w_starter(imu_out)\n",
    "imu = imu_starter(bt_out+[lambda: bt_ser_out[0]().get('pause')])\n",
    "cam = cam_starter()\n",
    "bt = bt_starter(bt_ser_out)"
   ]
  },
  {
   "cell_type": "code",
   "execution_count": 8,
   "metadata": {},
   "outputs": [
    {
     "data": {
      "text/plain": [
       "0"
      ]
     },
     "execution_count": 8,
     "metadata": {},
     "output_type": "execute_result"
    }
   ],
   "source": [
    "bt_out[0]()"
   ]
  },
  {
   "cell_type": "code",
   "execution_count": 10,
   "metadata": {},
   "outputs": [
    {
     "data": {
      "text/plain": [
       "True"
      ]
     },
     "execution_count": 10,
     "metadata": {},
     "output_type": "execute_result"
    }
   ],
   "source": [
    "x = lambda: bt_ser_out[0]().get('pause')\n",
    "x()"
   ]
  },
  {
   "cell_type": "code",
   "execution_count": 17,
   "metadata": {},
   "outputs": [],
   "source": [
    "w.terminate()\n",
    "imu.terminate()\n",
    "cam.terminate()\n",
    "bt_ser.terminate()\n",
    "bt.terminate()\n"
   ]
  },
  {
   "cell_type": "markdown",
   "metadata": {},
   "source": [
    "# ML Component\n"
   ]
  },
  {
   "cell_type": "code",
   "execution_count": 186,
   "metadata": {},
   "outputs": [],
   "source": [
    "ml_out, ml_starter = default_component_process_starter_v2(\n",
    "    ImageMLController, \n",
    "    init_kwargs= dict(\n",
    "        #resolution=(114, 64), framerate=30,\n",
    "        model_path='test.keras',\n",
    "        logger_set=logger_set, \n",
    "        name='ImageMLController'\n",
    "    ), \n",
    "    mainloop=default_loop_v2, \n",
    "    main_kwargs=dict(interval=1/60), \n",
    "    manager=manager, \n",
    ")\n",
    "ml = ml_starter(cam_out)"
   ]
  },
  {
   "cell_type": "code",
   "execution_count": 194,
   "metadata": {},
   "outputs": [],
   "source": [
    "ml.terminate()"
   ]
  },
  {
   "cell_type": "code",
   "execution_count": 3,
   "metadata": {},
   "outputs": [],
   "source": [
    "d = {'a':1, 'b':False}\n",
    "\n",
    "if b:= d.get('b'):\n",
    "    print (b)"
   ]
  },
  {
   "cell_type": "code",
   "execution_count": null,
   "metadata": {},
   "outputs": [],
   "source": []
  }
 ],
 "metadata": {
  "kernelspec": {
   "display_name": ".venv",
   "language": "python",
   "name": "python3"
  },
  "language_info": {
   "codemirror_mode": {
    "name": "ipython",
    "version": 3
   },
   "file_extension": ".py",
   "mimetype": "text/x-python",
   "name": "python",
   "nbconvert_exporter": "python",
   "pygments_lexer": "ipython3",
   "version": "3.9.2"
  }
 },
 "nbformat": 4,
 "nbformat_minor": 2
}
