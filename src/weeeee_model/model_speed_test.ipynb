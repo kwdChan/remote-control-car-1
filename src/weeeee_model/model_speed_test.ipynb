{
 "cells": [
  {
   "cell_type": "code",
   "execution_count": 1,
   "metadata": {},
   "outputs": [],
   "source": [
    "import torch \n",
    "import torch as tch\n",
    "\n",
    "from torch import nn\n",
    "import torchaudio as ta\n",
    "import torchaudio.transforms as tatx\n",
    "import torchaudio.functional as tafn\n",
    "from pathlib import Path\n",
    "import plotly.express as px\n",
    "import pandas as pd\n",
    "import numpy as np\n",
    "from IPython.display import Audio\n",
    "\n",
    "from train_tools import find_lr, check_with_patient, UpdatingPlotlyLines, fit_step, evaluate, num_param\n",
    "from torch.optim import Adam\n",
    "from torch.nn import functional as nnfn\n",
    "\n",
    "%load_ext autoreload\n",
    "%autoreload 2 "
   ]
  },
  {
   "cell_type": "code",
   "execution_count": 109,
   "metadata": {},
   "outputs": [
    {
     "name": "stdout",
     "output_type": "stream",
     "text": [
      "230368\n"
     ]
    },
    {
     "data": {
      "text/plain": [
       "torch.Size([256, 10])"
      ]
     },
     "execution_count": 109,
     "metadata": {},
     "output_type": "execute_result"
    }
   ],
   "source": [
    "class GlobalMaxPool1d(nn.Module):\n",
    "    def __init__(self, sz=None):\n",
    "        super().__init__()\n",
    "       \n",
    "\n",
    "    def forward(self, x): \n",
    "        inp_size = x.size()\n",
    "        return nn.functional.max_pool1d(input=x,\n",
    "                  kernel_size= (inp_size[-1]))\n",
    "\n",
    "class Model(nn.Module):\n",
    "    def __init__(self):\n",
    "        super().__init__()\n",
    "        \n",
    "        self.conv = nn.Sequential(\n",
    "            nn.Conv1d(1, 32, 16, stride=8), \n",
    "            #nn.ReLU(), \n",
    "\n",
    "            nn.Conv1d(32, 64, 16, stride=8), \n",
    "            #nn.ReLU(), \n",
    "\n",
    "            nn.Conv1d(64, 128, 8, stride=4), \n",
    "            #nn.ReLU(), \n",
    "\n",
    "            nn.Conv1d(128, 256, 4, stride=2), \n",
    "            #nn.ReLU(), \n",
    "            \n",
    "           \n",
    "            # GlobalMaxPool1d(),\n",
    "\n",
    " \n",
    "\n",
    "            # nn.Flatten(),\n",
    "            # nn.Linear(256, 64),\n",
    "            # #nn.ReLU(), \n",
    "\n",
    "            # nn.Linear(64, 1),\n",
    "            # nn.Sigmoid(),\n",
    "        )\n",
    "    \n",
    "    def forward(self, x):\n",
    "        return tch.squeeze(self.conv(x))\n",
    "\n",
    "m = Model()\n",
    "x = tch.rand(1, 1, 6400)\n",
    "print(num_param(m))\n",
    "m(x).shape"
   ]
  },
  {
   "cell_type": "code",
   "execution_count": 104,
   "metadata": {},
   "outputs": [],
   "source": [
    "import onnxruntime\n",
    "import onnx\n",
    "import torch\n",
    "def save_as_onnx(model, sample_x, file='temp/temp.onnx'):\n",
    "    onnx_program = torch.onnx.dynamo_export(model, sample_x)\n",
    "    onnx_program.save(file)\n",
    "\n",
    "    onnx_model = onnx.load(file)\n",
    "    onnx.checker.check_model(onnx_model)    \n",
    "\n",
    "\n",
    "class RunONNX: \n",
    "    def __init__(self, file='temp/temp.onnx'):\n",
    "        self.ort_session = onnxruntime.InferenceSession(file, providers=['CPUExecutionProvider'])\n",
    "\n",
    "        self.inputs = self.ort_session.get_inputs()\n",
    "        self.input_names = [i.name for i in self.inputs]\n",
    "\n",
    "    def __call__(self, *x):\n",
    "        return self.ort_session.run(None, dict(zip(self.input_names, x)))\n",
    "\n"
   ]
  },
  {
   "cell_type": "code",
   "execution_count": 105,
   "metadata": {},
   "outputs": [
    {
     "name": "stderr",
     "output_type": "stream",
     "text": [
      "/home/kawa/projects/car1/venv3.11/lib/python3.11/site-packages/torch/onnx/_internal/exporter.py:136: UserWarning: torch.onnx.dynamo_export only implements opset version 18 for now. If you need to use a different opset version, please register them with register_custom_op.\n",
      "  warnings.warn(\n"
     ]
    }
   ],
   "source": [
    "xnp = x.numpy()\n",
    "save_as_onnx(m, x)\n",
    "m_onnx = RunONNX()"
   ]
  },
  {
   "cell_type": "code",
   "execution_count": 107,
   "metadata": {},
   "outputs": [],
   "source": [
    "for i in range(200):\n",
    "    m_onnx(xnp)"
   ]
  },
  {
   "cell_type": "code",
   "execution_count": 108,
   "metadata": {},
   "outputs": [
    {
     "data": {
      "text/plain": [
       "[array(0.5024913, dtype=float32)]"
      ]
     },
     "execution_count": 108,
     "metadata": {},
     "output_type": "execute_result"
    }
   ],
   "source": [
    "m_onnx(xnp)"
   ]
  },
  {
   "cell_type": "code",
   "execution_count": 80,
   "metadata": {},
   "outputs": [],
   "source": [
    "for i in range(10):\n",
    "    m_onnx(xnp)"
   ]
  },
  {
   "cell_type": "code",
   "execution_count": null,
   "metadata": {},
   "outputs": [],
   "source": [
    "4"
   ]
  },
  {
   "cell_type": "code",
   "execution_count": null,
   "metadata": {},
   "outputs": [],
   "source": []
  },
  {
   "cell_type": "code",
   "execution_count": null,
   "metadata": {},
   "outputs": [],
   "source": []
  },
  {
   "cell_type": "code",
   "execution_count": 26,
   "metadata": {},
   "outputs": [
    {
     "data": {
      "text/plain": [
       "80.0"
      ]
     },
     "execution_count": 26,
     "metadata": {},
     "output_type": "execute_result"
    }
   ],
   "source": [
    "(6400/16000)*200"
   ]
  },
  {
   "cell_type": "code",
   "execution_count": null,
   "metadata": {},
   "outputs": [],
   "source": []
  },
  {
   "cell_type": "code",
   "execution_count": 5,
   "metadata": {},
   "outputs": [
    {
     "name": "stderr",
     "output_type": "stream",
     "text": [
      "/home/kawa/projects/car1/venv3.11/lib/python3.11/site-packages/torch/onnx/_internal/exporter.py:136: UserWarning: torch.onnx.dynamo_export only implements opset version 18 for now. If you need to use a different opset version, please register them with register_custom_op.\n",
      "  warnings.warn(\n"
     ]
    }
   ],
   "source": []
  },
  {
   "cell_type": "code",
   "execution_count": 22,
   "metadata": {},
   "outputs": [],
   "source": []
  }
 ],
 "metadata": {
  "kernelspec": {
   "display_name": "venv3.11",
   "language": "python",
   "name": "python3"
  },
  "language_info": {
   "codemirror_mode": {
    "name": "ipython",
    "version": 3
   },
   "file_extension": ".py",
   "mimetype": "text/x-python",
   "name": "python",
   "nbconvert_exporter": "python",
   "pygments_lexer": "ipython3",
   "version": "3.11.9"
  }
 },
 "nbformat": 4,
 "nbformat_minor": 2
}
