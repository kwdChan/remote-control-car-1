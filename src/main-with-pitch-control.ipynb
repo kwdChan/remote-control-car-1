{
 "cells": [
  {
   "cell_type": "code",
   "execution_count": null,
   "metadata": {},
   "outputs": [],
   "source": [
    "\n",
    "from typing import Callable, Tuple, TypeVar, cast, get_origin, get_args, Union, Any, Optional, Dict, List\n",
    "from components import CallChannel, ComponentStarter\n",
    "\n",
    "from components.two_wheels import TwoWheelsV3\n",
    "from components.logger import LoggerComponent\n",
    "from components.controller.bluetooth_controller import BlueToothCarControlSPP_V2\n",
    "from components.controller.bluetooth_SPP_server import start_bluetooth_server_v2b\n",
    "from components.gyroscope.gyroscope import AngularSpeedControlV3\n",
    "from components.camera import Picamera2V2\n",
    "from data_collection.data_collection import LoggerSet\n",
    "from components import PitchAngularVelocityController, get_switches\n",
    "from multiprocessing import Manager\n",
    "import numpy as np\n",
    "import datetime\n",
    "import RPi.GPIO as GPIO\n",
    "GPIO.setmode(GPIO.BOARD)\n",
    "\n",
    "# from components import numpy_sample_setup\n",
    "# r, w = numpy_sample_setup(['d', 'd'], [0, 0])\n",
    "\n",
    "%load_ext autoreload\n",
    "%autoreload 2"
   ]
  },
  {
   "cell_type": "code",
   "execution_count": null,
   "metadata": {},
   "outputs": [],
   "source": [
    "loggerset = LoggerSet('../log/testsession'+str(datetime.datetime.now()), overwrite_ok=False)\n",
    "#loggerset = LoggerSet('../log/session'+str(datetime.datetime.now()), overwrite_ok=False)\n",
    "manager = Manager()"
   ]
  },
  {
   "cell_type": "code",
   "execution_count": null,
   "metadata": {},
   "outputs": [],
   "source": [
    "\n",
    "logger_process = ComponentStarter(\n",
    "    LoggerComponent, \n",
    "    manager, \n",
    "    init_kwargs=dict(\n",
    "        loggerset = loggerset\n",
    "    ),\n",
    "    loop_intervals={'step': 1/100},\n",
    ")\n",
    "\n",
    "two_wheel_process = ComponentStarter(\n",
    "    TwoWheelsV3, \n",
    "    manager, \n",
    "    init_kwargs=dict(\n",
    "        left_pin = 33, \n",
    "        right_pin = 32, \n",
    "        dir_pins = (16, 18), \n",
    "        name='TwoWheelsV3'\n",
    "    ),\n",
    "    loop_intervals={'step': 1/100},\n",
    "    instantiator = TwoWheelsV3.entry\n",
    "\n",
    ")\n",
    "\n",
    "angular_speed_control_process = ComponentStarter(\n",
    "    AngularSpeedControlV3, \n",
    "    manager, \n",
    "    init_kwargs=dict(\n",
    "        i2c_address=0x68, \n",
    "        bus_num=1,\n",
    "        name='AngularSpeedControlV3'\n",
    "    ),\n",
    "    loop_intervals={'step': 1/100},\n",
    "    instantiator = AngularSpeedControlV3.entry\n",
    ")\n",
    "\n",
    "bluetooth_control_process = ComponentStarter(\n",
    "    BlueToothCarControlSPP_V2, \n",
    "    manager, \n",
    "    init_kwargs={},\n",
    "    loop_intervals={'step': 1/100},\n",
    ")\n",
    "\n",
    "bt_ser_out, bt_ser_process_man = start_bluetooth_server_v2b(manager)\n",
    "\n",
    "\n",
    "picamera_process = ComponentStarter(\n",
    "    Picamera2V2, \n",
    "    manager, \n",
    "    init_kwargs=dict(\n",
    "        resolution=(114, 64), \n",
    "        framerate=30,\n",
    "        name='Picamera2V2'\n",
    "    ),\n",
    "    loop_intervals={'step': 1/30},\n",
    "    sample_setup_kwargs=dict(default_values=[np.zeros((64, 114, 3), dtype=np.uint8)])\n",
    ")\n",
    "\n",
    "pitch_process = ComponentStarter(\n",
    "    PitchAngularVelocityController,\n",
    "    manager, \n",
    "    init_kwargs=dict(speed=100),\n",
    "    loop_intervals={'step': 1/30}, \n",
    "    instantiator=PitchAngularVelocityController.entry\n",
    "    \n",
    "\n",
    ")\n"
   ]
  },
  {
   "cell_type": "code",
   "execution_count": null,
   "metadata": {},
   "outputs": [],
   "source": [
    "two_wheel_process.register_outgoing_rpc(\n",
    "    dict(log=logger_process.incoming_rpcs['log'])\n",
    ")\n",
    "\n",
    "angular_speed_control_process.register_outgoing_rpc(\n",
    "    dict(log=logger_process.incoming_rpcs['log'])\n",
    ")\n",
    "\n",
    "\n",
    "bluetooth_control_process.register_outgoing_rpc(\n",
    "    dict(log=logger_process.incoming_rpcs['log'])\n",
    ")\n",
    "pitch_process.register_outgoing_rpc(\n",
    "    dict(logger=logger_process.incoming_rpcs['log'])\n",
    ")\n",
    "\n",
    "picamera_process.register_outgoing_rpc(\n",
    "    dict(\n",
    "        log=logger_process.incoming_rpcs['log'],\n",
    "        setup_video_saver=logger_process.incoming_rpcs['setup_video_saver'],\n",
    "        save_video_frame=logger_process.incoming_rpcs['save_video_frame']\n",
    "        )\n",
    ")\n",
    "\n",
    "def get_pitch_drive_switch():\n",
    "    return bool(bt_ser_out[0]().get('start'))\n",
    "\n",
    "to_imu_controller = get_switches(pitch_process.outgoing_samples, bluetooth_control_process.outgoing_samples, get_pitch_drive_switch)\n",
    "\n",
    "\n",
    "two_wheel_process.register_incoming_samples(\n",
    "    angular_speed_control_process.outgoing_sample_readers\n",
    ")\n",
    "\n",
    "angular_speed_control_process.register_incoming_samples(\n",
    "    to_imu_controller\n",
    ")\n",
    "\n",
    "\n",
    "bluetooth_control_process.register_incoming_samples(\n",
    "    bt_ser_out\n",
    ")\n"
   ]
  },
  {
   "cell_type": "code",
   "execution_count": null,
   "metadata": {},
   "outputs": [],
   "source": [
    "bt_ser_process_man.start()\n",
    "bluetooth_control_process.start()\n",
    "logger_process.start()\n",
    "two_wheel_process.start()\n",
    "angular_speed_control_process.start()\n",
    "picamera_process.start()\n",
    "pitch_process.start()\n"
   ]
  },
  {
   "cell_type": "code",
   "execution_count": null,
   "metadata": {},
   "outputs": [],
   "source": [
    "bt_ser_process_man.kill()\n",
    "bluetooth_control_process.process_starter.kill()\n",
    "#logger_process.process_starter.kill()\n",
    "two_wheel_process.process_starter.kill()\n",
    "angular_speed_control_process.process_starter.kill()\n",
    "picamera_process.process_starter.kill()\n",
    "pitch_process.process_starter.kill()\n",
    "\n"
   ]
  },
  {
   "cell_type": "code",
   "execution_count": null,
   "metadata": {},
   "outputs": [],
   "source": [
    "from utils import mon_samples\n",
    "mon_samples(pitch_process.outgoing_samples)"
   ]
  },
  {
   "cell_type": "markdown",
   "metadata": {},
   "source": [
    "# playground"
   ]
  },
  {
   "cell_type": "code",
   "execution_count": null,
   "metadata": {},
   "outputs": [],
   "source": [
    "from data_collection.data_collection import Logger"
   ]
  },
  {
   "cell_type": "code",
   "execution_count": null,
   "metadata": {},
   "outputs": [],
   "source": [
    "sesspath = '../log/testsession2024-07-06 17:18:55.153292/'"
   ]
  },
  {
   "cell_type": "code",
   "execution_count": null,
   "metadata": {},
   "outputs": [],
   "source": [
    "l = Logger(sesspath,name='PitchAngularVelocityController', overwrite_ok=True)\n",
    "lw2 = Logger(sesspath,name='TwoWheelsV3', overwrite_ok=True)"
   ]
  },
  {
   "cell_type": "code",
   "execution_count": null,
   "metadata": {},
   "outputs": [],
   "source": [
    "df = l.load_as_df()\n",
    "dfw2 = lw2.load_as_df()\n",
    "df['power_norm'] = df['power']/1e4"
   ]
  },
  {
   "cell_type": "code",
   "execution_count": null,
   "metadata": {},
   "outputs": [],
   "source": [
    "import pandas as pd\n",
    "px.line(pd.concat([df, dfw2], axis=0), 'time',['pitch', 'speed', 'left','power_norm',])"
   ]
  },
  {
   "cell_type": "code",
   "execution_count": null,
   "metadata": {},
   "outputs": [],
   "source": [
    "df[df.time > pd.to_datetime(\"2024-07-06 17:19:17\")]"
   ]
  },
  {
   "cell_type": "code",
   "execution_count": null,
   "metadata": {},
   "outputs": [],
   "source": [
    "px.line(df, 'time','speed')"
   ]
  },
  {
   "cell_type": "code",
   "execution_count": null,
   "metadata": {},
   "outputs": [],
   "source": [
    "df['power_norm'] = df['power']/1e4"
   ]
  },
  {
   "cell_type": "code",
   "execution_count": null,
   "metadata": {},
   "outputs": [],
   "source": [
    "px.line(df, 'time', 'power_norm')"
   ]
  },
  {
   "cell_type": "code",
   "execution_count": null,
   "metadata": {},
   "outputs": [],
   "source": [
    "px.line(dfw2, 'time', 'left')"
   ]
  },
  {
   "cell_type": "code",
   "execution_count": null,
   "metadata": {},
   "outputs": [],
   "source": [
    "px.imshow(np.log(np.stack(v.tolist())))"
   ]
  },
  {
   "cell_type": "code",
   "execution_count": null,
   "metadata": {},
   "outputs": [],
   "source": []
  },
  {
   "cell_type": "code",
   "execution_count": null,
   "metadata": {},
   "outputs": [],
   "source": [
    "from scipy.fft import fft, fftfreq\n",
    "v = df['sig'].dropna()\n",
    "v = v.apply(fft)\n",
    "v = v.apply(lambda x: x.real**2+x.imag**2)\n",
    "v = v.apply(lambda x: x[:len(x)//2])\n",
    "freqs = fftfreq((4000), 1/16000)[:2000]"
   ]
  },
  {
   "cell_type": "code",
   "execution_count": null,
   "metadata": {},
   "outputs": [],
   "source": [
    "px.line(x=freqs[0:],y=np.log(v.iloc[590])[0:])"
   ]
  },
  {
   "cell_type": "code",
   "execution_count": null,
   "metadata": {},
   "outputs": [],
   "source": [
    "px.line(x=freqs[0:],y=np.log(v.iloc[157])[0:])"
   ]
  },
  {
   "cell_type": "code",
   "execution_count": null,
   "metadata": {},
   "outputs": [],
   "source": [
    "freqs"
   ]
  },
  {
   "cell_type": "code",
   "execution_count": null,
   "metadata": {},
   "outputs": [],
   "source": [
    "v.iloc[0]"
   ]
  },
  {
   "cell_type": "code",
   "execution_count": null,
   "metadata": {},
   "outputs": [],
   "source": [
    "import plotly.express as px\n",
    "px.imshow(picamera_starter.outgoing_samples[0]())"
   ]
  },
  {
   "cell_type": "code",
   "execution_count": null,
   "metadata": {},
   "outputs": [],
   "source": []
  }
 ],
 "metadata": {
  "kernelspec": {
   "display_name": ".venv",
   "language": "python",
   "name": "python3"
  },
  "language_info": {
   "codemirror_mode": {
    "name": "ipython",
    "version": 3
   },
   "file_extension": ".py",
   "mimetype": "text/x-python",
   "name": "python",
   "nbconvert_exporter": "python",
   "pygments_lexer": "ipython3",
   "version": "3.11.9"
  }
 },
 "nbformat": 4,
 "nbformat_minor": 2
}
