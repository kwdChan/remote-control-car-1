{
 "cells": [
  {
   "cell_type": "code",
   "execution_count": null,
   "metadata": {},
   "outputs": [],
   "source": [
    "import numpy as np\n",
    "import pandas as pd\n",
    "\n",
    "import datetime\n",
    "from data_collection.data_collection import Logger\n",
    "import plotly.express as px\n",
    "import scipy.signal as ss\n",
    "\n",
    "import torchaudio as ta\n",
    "import torch as tch\n",
    "tafn = ta.functional\n",
    "from IPython.display import Audio\n",
    "from nb_tools import *\n",
    "\n",
    "%load_ext autoreload\n",
    "%autoreload 2"
   ]
  },
  {
   "cell_type": "code",
   "execution_count": null,
   "metadata": {},
   "outputs": [],
   "source": [
    "from functools import partial\n",
    "\n",
    "rate=16000\n",
    "Audio = partial(Audio, rate=16000)\n"
   ]
  },
  {
   "cell_type": "code",
   "execution_count": null,
   "metadata": {},
   "outputs": [],
   "source": [
    "sesspath = '../log/testsession2024-07-06 20:56:00.157529/'\n",
    "l = Logger(sesspath,name='PitchAngularVelocityController', overwrite_ok=True)\n",
    "lw2 = Logger(sesspath,name='TwoWheelsV3', overwrite_ok=True)\n",
    "df = l.load_as_df()\n",
    "dfw2 = lw2.load_as_df()\n",
    "df['power_norm'] = df['power']/1e4"
   ]
  },
  {
   "cell_type": "code",
   "execution_count": null,
   "metadata": {},
   "outputs": [],
   "source": [
    "from scipy.fft import fft, fftfreq\n",
    "v = df['sig'].dropna()\n",
    "v = v.apply(fft)\n",
    "v = v.apply(lambda x: x.real**2+x.imag**2)\n",
    "v = v.apply(lambda x: x[:len(x)//2])\n",
    "freqs = fftfreq((4000), 1/16000)[:2000]\n",
    "spectra = np.log(np.stack(v.tolist())).T[::-1]\n",
    "px.imshow(spectra, y=freqs[::-1], aspect='auto')"
   ]
  },
  {
   "cell_type": "code",
   "execution_count": null,
   "metadata": {},
   "outputs": [],
   "source": [
    "from typing import *\n",
    "from nb_tools import show_global_variables\n",
    "\n",
    "from scipy.fft import fft, fftfreq\n",
    "\n",
    "@show_global_variables\n",
    "def show_spectrum(sig, fs=16000):\n",
    "    return px.line(x=fftfreq(len(sig), 1/fs)[:len(sig)//2], y=np.log(np.abs(fft(sig)**2+1e-100)[:len(sig)//2]))\n",
    "\n",
    "@show_global_variables\n",
    "def piece_signal(sig1, sig2, overlap_length=50):\n",
    "    step=0\n",
    "    while True:\n",
    "        #print((-step-overlap_length))\n",
    "        #print((len(sig1)-step))\n",
    "        sig_to_test = sig1[(-step-overlap_length):(len(sig1)-step)]\n",
    "        \n",
    "        if (sig2[:overlap_length] == sig_to_test ).all():\n",
    "            return np.r_[sig1[:(-step-overlap_length)], sig2]\n",
    "        else:\n",
    "            step+=1 \n",
    "        if step > len(sig1):\n",
    "            break\n",
    "    \n",
    "\n",
    "\n",
    "@show_global_variables\n",
    "def piece_signals(sigs: List[np.ndarray]):\n",
    "\n",
    "    full_sig = sigs[0]\n",
    "    for i in range(len(sigs)-1):\n",
    "        try: \n",
    "            full_sig = piece_signal(full_sig, sigs[i+1])\n",
    "        except:\n",
    "            return full_sig\n",
    "    return full_sig\n",
    "#sigs = piece_signals(df['sig'].tolist())"
   ]
  },
  {
   "cell_type": "code",
   "execution_count": null,
   "metadata": {},
   "outputs": [],
   "source": [
    "fs=16000\n",
    "class IIRPeakFilter:\n",
    "    @show_global_variables\n",
    "    def __init__(self, freq, q, fs):\n",
    "        self.freq = freq\n",
    "        self.q = q\n",
    "        self.fs = fs\n",
    "        self.b, self.a = ss.iirpeak(freq, q, fs)\n",
    "\n",
    "    @show_global_variables\n",
    "    def plot(self):\n",
    "        freq, h = ss.freqz(self.b, self.a, fs=self.fs)\n",
    "        return px.line(\n",
    "            y=20*np.log10(np.maximum(np.abs(h),1e-5)), \n",
    "            x=freq\n",
    "        )\n",
    "    \n",
    "    def apply(self, x):\n",
    "        return ss.lfilter(self.b,self.a,x)"
   ]
  },
  {
   "cell_type": "code",
   "execution_count": null,
   "metadata": {},
   "outputs": [],
   "source": [
    "f0 = IIRPeakFilter(270, 3, fs)\n",
    "f1 = IIRPeakFilter(2300, 23, fs)\n",
    "f2 = IIRPeakFilter(3000, 30, fs)"
   ]
  },
  {
   "cell_type": "code",
   "execution_count": null,
   "metadata": {},
   "outputs": [],
   "source": [
    "ts = np.cumsum(np.random.random(fs*3)/(fs)*(1)+(1-(0.5)))/fs\n",
    "x=ss.square(2*np.pi*170*ts)\n",
    "px.line(x)"
   ]
  },
  {
   "cell_type": "code",
   "execution_count": null,
   "metadata": {},
   "outputs": [],
   "source": [
    "show_spectrum(x)"
   ]
  },
  {
   "cell_type": "code",
   "execution_count": null,
   "metadata": {},
   "outputs": [],
   "source": [
    "r = f0.apply(f1.apply(f2.apply(x)))\n",
    "show_spectrum(r)"
   ]
  },
  {
   "cell_type": "code",
   "execution_count": null,
   "metadata": {},
   "outputs": [],
   "source": [
    "rv2 = f0.apply(x)*5+f1.apply(x)*10+f2.apply(x)*2\n",
    "show_spectrum(rv2)"
   ]
  },
  {
   "cell_type": "code",
   "execution_count": null,
   "metadata": {},
   "outputs": [],
   "source": [
    "Audio(rv2)"
   ]
  },
  {
   "cell_type": "code",
   "execution_count": null,
   "metadata": {},
   "outputs": [],
   "source": [
    "# slowly vary the pitch the formant frequencies? "
   ]
  },
  {
   "cell_type": "code",
   "execution_count": null,
   "metadata": {},
   "outputs": [],
   "source": [
    "px.line(rv2)"
   ]
  },
  {
   "cell_type": "code",
   "execution_count": null,
   "metadata": {},
   "outputs": [],
   "source": [
    "Audio(r)"
   ]
  },
  {
   "cell_type": "code",
   "execution_count": null,
   "metadata": {},
   "outputs": [],
   "source": []
  },
  {
   "cell_type": "code",
   "execution_count": null,
   "metadata": {},
   "outputs": [],
   "source": [
    "show_spectrum(sig_f[16000*2:16000*5])"
   ]
  },
  {
   "cell_type": "code",
   "execution_count": null,
   "metadata": {},
   "outputs": [],
   "source": [
    "sig_f = butterworth_filter(sigs, 16000, 100,1500)\n",
    "Audio(sig_f, rate=16000)"
   ]
  },
  {
   "cell_type": "code",
   "execution_count": null,
   "metadata": {},
   "outputs": [],
   "source": [
    "from functools import partial\n",
    "@show_global_variables\n",
    "def freq_phase(n, fs, freq):\n",
    "    return np.linspace(0, n/fs*freq*np.pi*2, n, endpoint=False)%(2*np.pi)\n",
    "\n",
    "@show_global_variables\n",
    "def freq_phase_harmonics(f0, nth_har: List, n, fs):\n",
    "    result = []\n",
    "\n",
    "    for _nth_bar in nth_har:\n",
    "        result.append(freq_phase(n, fs, f0*(_nth_bar+1)))\n",
    "\n",
    "    return np.stack(result, axis=0)\n",
    "\n",
    "\n",
    "\n",
    "\n",
    "fs = 16000\n",
    "n = 32000\n",
    "syn_sig = np.sin(freq_phase_harmonics(120, np.arange(7), n, fs))*np.array([70,99,70,1,1,1,1])[..., None]\n",
    "#Audio(syn_sig.mean(0), rate=fs)\n",
    "show_spectrum(syn_sig.mean(0))\n"
   ]
  },
  {
   "cell_type": "code",
   "execution_count": null,
   "metadata": {},
   "outputs": [],
   "source": [
    "Audio(syn_sig.mean(0), rate=fs)"
   ]
  },
  {
   "cell_type": "code",
   "execution_count": null,
   "metadata": {},
   "outputs": [],
   "source": [
    "120*(np.arange(20)+1)"
   ]
  },
  {
   "cell_type": "code",
   "execution_count": null,
   "metadata": {},
   "outputs": [],
   "source": [
    "px.line(np.array([]))"
   ]
  },
  {
   "cell_type": "code",
   "execution_count": null,
   "metadata": {},
   "outputs": [],
   "source": [
    "px.line(syn_sig.mean(0))"
   ]
  },
  {
   "cell_type": "code",
   "execution_count": null,
   "metadata": {},
   "outputs": [],
   "source": [
    "show_spectrum(syn_sig.mean(0))"
   ]
  },
  {
   "cell_type": "code",
   "execution_count": null,
   "metadata": {},
   "outputs": [],
   "source": [
    "px.line(sig_f[16000*2:16000*5])"
   ]
  },
  {
   "cell_type": "code",
   "execution_count": null,
   "metadata": {},
   "outputs": [],
   "source": [
    "Audio(sig_f[16000*3:16000*4], rate=16000)"
   ]
  }
 ],
 "metadata": {
  "kernelspec": {
   "display_name": "venv",
   "language": "python",
   "name": "python3"
  },
  "language_info": {
   "codemirror_mode": {
    "name": "ipython",
    "version": 3
   },
   "file_extension": ".py",
   "mimetype": "text/x-python",
   "name": "python",
   "nbconvert_exporter": "python",
   "pygments_lexer": "ipython3",
   "version": "3.10.12"
  }
 },
 "nbformat": 4,
 "nbformat_minor": 2
}
