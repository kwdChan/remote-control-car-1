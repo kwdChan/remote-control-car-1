{
 "cells": [
  {
   "cell_type": "code",
   "execution_count": 1,
   "metadata": {},
   "outputs": [],
   "source": [
    "\n",
    "from components.controller.bluetooth_controller import BlueToothCarControlSPP\n",
    "from components.controller.bluetooth_SPP_server import start_bluetooth_server\n",
    "from components.gyroscope.gyroscope import AngularSpeedControlV2\n",
    "from components.two_wheels import TwoWheelsV2\n",
    "from components.camera import PicameraV2\n",
    "from components.controller.image_ml import ImageMLController\n",
    "from data_collection.data_collection import LoggerSet, Logger\n",
    "from multiprocessing import Manager\n",
    "\n",
    "from components import default_loop\n",
    "\n",
    "import RPi.GPIO as GPIO\n",
    "GPIO.setmode(GPIO.BOARD)\n",
    "from ctypes import c_double\n",
    "\n",
    "\n",
    "\n",
    "%load_ext autoreload\n",
    "%autoreload 2"
   ]
  },
  {
   "cell_type": "code",
   "execution_count": 2,
   "metadata": {},
   "outputs": [],
   "source": [
    "logger_set = LoggerSet('../log/test0', overwrite_ok=False)\n",
    "manager = Manager()\n",
    "\n",
    "#speed = manager.Value(c_double, 0)\n",
    "#angular_velocity = manager.Value(c_double, 0)\n"
   ]
  },
  {
   "cell_type": "code",
   "execution_count": 3,
   "metadata": {},
   "outputs": [
    {
     "name": "stdout",
     "output_type": "stream",
     "text": [
      "Making discoverable...\n",
      "Starting Serial Port Profile...\n",
      "NewConnection(/org/bluez/hci0/dev_C8_BD_4D_BA_4F_15, 86)\n"
     ]
    }
   ],
   "source": [
    "_, _, w_starter = TwoWheelsV2.create_component(\n",
    "    init_kwargs= dict(\n",
    "        left_pin=33, \n",
    "        right_pin=32, \n",
    "        dir_pins=(16, 18), \n",
    "        logger_set=logger_set, \n",
    "        name='TwoWheelsV2'\n",
    "    ), \n",
    "    mainloop=default_loop, \n",
    "    main_kwargs=dict(interval=1/50), \n",
    "    manager=manager, \n",
    ")\n",
    "\n",
    "imu_out, _, imu_starter = AngularSpeedControlV2.create_component(\n",
    "    init_kwargs= dict(\n",
    "        logger_set=logger_set, \n",
    "        name='AngularSpeedControlV2'\n",
    "    ), \n",
    "    mainloop=default_loop, \n",
    "    main_kwargs=dict(interval=1/50), \n",
    "    manager=manager, \n",
    ")\n",
    "\n",
    "bt_out, _, bt_starter = BlueToothCarControlSPP.create_component(\n",
    "    init_kwargs= dict(\n",
    "        logger_set=logger_set, \n",
    "        name='BlueToothCarControlSPP'\n",
    "    ), \n",
    "    mainloop=default_loop, \n",
    "    main_kwargs=dict(interval=1/30), \n",
    "    manager=manager, \n",
    ")\n",
    "\n",
    "cam_out, _, cam_starter, cam_out_reader = PicameraV2.create_camera_component(\n",
    "    init_kwargs= dict(\n",
    "        resolution=(114, 64), framerate=30,\n",
    "        logger_set=logger_set, \n",
    "        name='PicameraV2'\n",
    "    ), \n",
    "    mainloop=default_loop, \n",
    "    main_kwargs=dict(interval=1/60), \n",
    "    manager=manager, \n",
    ")\n",
    "\n",
    "ml_out, _, ml_starter = ImageMLController.create_component(\n",
    "    init_kwargs= dict(\n",
    "        #resolution=(114, 64), framerate=30,\n",
    "        model_path='test.keras',\n",
    "        logger_set=logger_set, \n",
    "        name='ImageMLController'\n",
    "    ), \n",
    "    mainloop=default_loop, \n",
    "    main_kwargs=dict(interval=1/60), \n",
    "    manager=manager, \n",
    "    proxy_reader=cam_out_reader, \n",
    ")\n",
    "\n",
    "bt_ser_out, bt_ser = start_bluetooth_server(manager)\n"
   ]
  },
  {
   "cell_type": "code",
   "execution_count": 4,
   "metadata": {},
   "outputs": [
    {
     "name": "stderr",
     "output_type": "stream",
     "text": [
      "[0:12:06.011608924] [3987] \u001b[1;32m INFO \u001b[1;37mCamera \u001b[1;34mcamera_manager.cpp:297 \u001b[0mlibcamera v0.0.5+83-bde9b04f\n",
      "[0:12:06.073623940] [4009] \u001b[1;32m INFO \u001b[1;37mRPI \u001b[1;34mvc4.cpp:437 \u001b[0mRegistered camera /base/soc/i2c0mux/i2c@1/ov5647@36 to Unicam device /dev/media1 and ISP device /dev/media0\n",
      "[0:12:06.073979621] [4009] \u001b[1;32m INFO \u001b[1;37mRPI \u001b[1;34mpipeline_base.cpp:1101 \u001b[0mUsing configuration file '/usr/share/libcamera/pipeline/rpi/vc4/rpi_apps.yaml'\n",
      "[0:12:06.219610591] [3987] \u001b[1;32m INFO \u001b[1;37mCamera \u001b[1;34mcamera.cpp:1033 \u001b[0mconfiguring streams: (0) 114x64-RGB888 (1) 1920x1080-SGRBG10_CSI2P\n",
      "[0:12:06.220926407] [4009] \u001b[1;32m INFO \u001b[1;37mRPI \u001b[1;34mvc4.cpp:565 \u001b[0mSensor: /base/soc/i2c0mux/i2c@1/ov5647@36 - Selected sensor format: 1920x1080-SGRBG10_1X10 - Selected unicam format: 1920x1080-pgAA\n",
      "/home/kawa/projects/car1/.venv/lib/python3.9/site-packages/keras/src/saving/saving_lib.py:415: UserWarning: Skipping variable loading for optimizer 'adam', because it has 30 variables whereas the saved optimizer has 2 variables. \n",
      "  saveable.load_own_variables(weights_store.get(inner_path))\n"
     ]
    }
   ],
   "source": [
    "bt = bt_starter(bt_ser_out)\n",
    "imu = imu_starter(bt_out)\n",
    "wheel = w_starter(imu_out)\n",
    "cam = cam_starter()\n",
    "ml = ml_starter(cam_out)"
   ]
  },
  {
   "cell_type": "code",
   "execution_count": 6,
   "metadata": {},
   "outputs": [],
   "source": [
    "bt.terminate()\n",
    "imu.terminate()\n",
    "wheel.terminate()\n",
    "cam.terminate()\n",
    "ml.terminate()\n"
   ]
  },
  {
   "cell_type": "code",
   "execution_count": 5,
   "metadata": {},
   "outputs": [],
   "source": [
    "imu = imu_starter(bt_out)\n",
    "wheel = w_starter(imu_out)"
   ]
  },
  {
   "cell_type": "code",
   "execution_count": 80,
   "metadata": {},
   "outputs": [],
   "source": [
    "import time\n",
    "def timeout_callback(func, sec, check_interval=0.1, *args, **kwargs):\n",
    "    start = time.monotonic()\n",
    "    while (time.monotonic() - start) < sec:\n",
    "        time.sleep(check_interval)\n",
    "    func(*args, **kwargs)\n",
    "\n",
    "speed.value=100\n",
    "\n",
    "def f(x):\n",
    "    x.value=0\n",
    "timeout_callback(f, 4, 0.1, speed)"
   ]
  },
  {
   "cell_type": "code",
   "execution_count": 5,
   "metadata": {},
   "outputs": [],
   "source": [
    "asdasd, _, cam_starter = PicameraV2.create(\n",
    "    manager, \n",
    "    interval=1/30, \n",
    "    entry_kwargs=dict(\n",
    "        resolution=(114, 64), framerate=30,\n",
    "        logger_set=logger_set, \n",
    "        name='PicameraV2'\n",
    "    )\n",
    ")\n",
    "\n"
   ]
  },
  {
   "cell_type": "code",
   "execution_count": 6,
   "metadata": {},
   "outputs": [
    {
     "data": {
      "text/plain": [
       "[None]"
      ]
     },
     "execution_count": 6,
     "metadata": {},
     "output_type": "execute_result"
    }
   ],
   "source": [
    "asdasd"
   ]
  }
 ],
 "metadata": {
  "kernelspec": {
   "display_name": ".venv",
   "language": "python",
   "name": "python3"
  },
  "language_info": {
   "codemirror_mode": {
    "name": "ipython",
    "version": 3
   },
   "file_extension": ".py",
   "mimetype": "text/x-python",
   "name": "python",
   "nbconvert_exporter": "python",
   "pygments_lexer": "ipython3",
   "version": "3.9.2"
  }
 },
 "nbformat": 4,
 "nbformat_minor": 2
}
