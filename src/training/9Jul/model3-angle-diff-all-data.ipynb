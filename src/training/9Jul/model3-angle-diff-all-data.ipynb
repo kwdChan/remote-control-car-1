{
 "cells": [
  {
   "cell_type": "code",
   "execution_count": 13,
   "metadata": {},
   "outputs": [
    {
     "name": "stdout",
     "output_type": "stream",
     "text": [
      "The autoreload extension is already loaded. To reload it, use:\n",
      "  %reload_ext autoreload\n"
     ]
    }
   ],
   "source": [
    "import sys\n",
    "sys.path += ['../..']\n",
    "sys.path += ['..']\n",
    "\n",
    "from data_collection.data_collection import LoggerSet, Logger\n",
    "\n",
    "import numpy as np\n",
    "import pandas as pd\n",
    "import plotly.express as px\n",
    "from data_collection.video_data import get_frame_iterator\n",
    "from pathlib import Path\n",
    "from typing import Iterable, Tuple, List\n",
    "from tqdm import tqdm\n",
    "import datetime\n",
    "import tensorflow as tf\n",
    "import tensorflow.keras as keras\n",
    "\n",
    "%load_ext autoreload\n",
    "%autoreload 2\n"
   ]
  },
  {
   "cell_type": "markdown",
   "metadata": {},
   "source": [
    "# Note\n"
   ]
  },
  {
   "cell_type": "markdown",
   "metadata": {},
   "source": []
  },
  {
   "cell_type": "markdown",
   "metadata": {},
   "source": [
    "# Loading data "
   ]
  },
  {
   "cell_type": "code",
   "execution_count": 14,
   "metadata": {},
   "outputs": [
    {
     "name": "stderr",
     "output_type": "stream",
     "text": [
      "[mov,mp4,m4a,3gp,3g2,mj2 @ 0x5be8ebf88e00] moov atom not found\n",
      "[mov,mp4,m4a,3gp,3g2,mj2 @ 0x5be8eba11980] moov atom not found\n",
      "[mov,mp4,m4a,3gp,3g2,mj2 @ 0x5be8ea6ef1c0] moov atom not found\n"
     ]
    }
   ],
   "source": [
    "from with_linear_acc_v2 import Session\n",
    "sessions_v0 = Session.load_multiple_session('../data/v0',         \n",
    "    camera_log_name = 'PicameraV2', \n",
    "    angular_speed_control_log_name='AngularSpeedControlV2'\n",
    ")\n",
    "sessions_v30Jun = Session.load_multiple_session('../data/v30Jun')\n"
   ]
  },
  {
   "cell_type": "code",
   "execution_count": 15,
   "metadata": {},
   "outputs": [],
   "source": [
    "def match_time(t1_col, t2_col, t1_offset_ms=0, t2_offset_ms=0, sort_check=True):\n",
    "    \"\"\"\n",
    "    return the indices of t1_col that match t2\n",
    "    \"\"\"\n",
    "    if sort_check: \n",
    "        sortedt1 = np.sort(t1_col)\n",
    "        sortedt2 = np.sort(t2_col)\n",
    "        sortedt1 = sortedt1[~np.isnan(sortedt1)]\n",
    "        sortedt2 = sortedt2[~np.isnan(sortedt2)]\n",
    "\n",
    "        assert np.all(t1_col[~np.isnan(t1_col)] == sortedt1)\n",
    "        assert np.all(t2_col[~np.isnan(t2_col)] == sortedt2)\n",
    "    return np.searchsorted(t1_col+pd.to_timedelta(t1_offset_ms, unit='ms'), t2_col+pd.to_timedelta(t2_offset_ms, unit='ms'))"
   ]
  },
  {
   "cell_type": "code",
   "execution_count": 16,
   "metadata": {},
   "outputs": [],
   "source": [
    "def rotate_vector(v1, theta):\n",
    "    \"\"\"\n",
    "    auther: chatgpt\n",
    "    \"\"\"\n",
    "    v1 = np.array(v1)\n",
    "    x1, y1 = v1[...,0], v1[...,1]\n",
    "    \n",
    "    x2 = x1 * np.cos(theta) - y1 * np.sin(theta)\n",
    "    y2 = x1 * np.sin(theta) + y1 * np.cos(theta)\n",
    "    \n",
    "    return np.stack([x2, y2], axis=-1)"
   ]
  },
  {
   "cell_type": "code",
   "execution_count": 17,
   "metadata": {},
   "outputs": [],
   "source": [
    "def mean_nominmax(x):\n",
    "    return (x.sum()-x.max()-x.min())/(len(x)-2)\n",
    "\n",
    "def get_rotation_angle(v2, v1):\n",
    "    \"\"\"\n",
    "    v1 is the reference angle \n",
    "    auther: chatgpt\n",
    "    \"\"\"\n",
    "    v1 = np.array(v1)\n",
    "    v2 = np.array(v2)\n",
    "    x1, y1 = v1[...,0], v1[...,1]\n",
    "    x2, y2 = v2[...,0], v2[...,1]\n",
    "    \n",
    "    dot_product = x1 * x2 + y1 * y2\n",
    "    cross_product = y2 * x1 - x2 * y1\n",
    "    theta = np.arctan2(cross_product, dot_product)\n",
    "    return theta\n",
    "\n",
    "def data_prep(obj: Session):\n",
    "\n",
    "    adf = obj.data['angular_speed_control_df']\n",
    "    cdf = obj.data['camera_df']\n",
    "\n",
    "    def add_angle_offset_columns():\n",
    "\n",
    "                \n",
    "        offset_list = [0, 200, 400, 800]\n",
    "        tidxs = [\n",
    "            match_time(adf['time_AngularSpeedControl'], cdf['time'],  t2_offset_ms=_offset)\n",
    "            for _offset in offset_list\n",
    "        ]\n",
    "        col_names: List = ['angle']\n",
    "        omega_shifted = np.concatenate([\n",
    "                adf[col_names].values[_tidx] \n",
    "                for _tidx in tidxs\n",
    "            ], axis=1)\n",
    "\n",
    "        column_names = [c+'_'+str(t) for t in offset_list for c in col_names]\n",
    "        cdf[column_names] = omega_shifted\n",
    "        obj.data['add_angle_offset_columns'] = column_names\n",
    "        obj.data['offset_list'] = offset_list\n",
    "\n",
    "        return offset_list, column_names\n",
    "\n",
    "\n",
    "    def add_sin_cos_diff(offset_list, angle_col_names):\n",
    "        as_rad = cdf[angle_col_names].values/180*np.pi\n",
    "\n",
    "        #sin_col = [c+'_sin' for c in angle_col_names]\n",
    "        #cos_col = [c+'_cos' for c in angle_col_names]\n",
    "\n",
    "        sine = np.sin(as_rad)\n",
    "        cosine = np.cos(as_rad)\n",
    "        ref_angle = np.stack([cosine[..., 0], sine[..., 0]], axis=-1)\n",
    "\n",
    "        rotations = []\n",
    "        for i in range(1, len(angle_col_names)):\n",
    "            angle = np.stack([cosine[..., i], sine[..., i]], axis=-1)\n",
    "            rotations.append(\n",
    "                get_rotation_angle(angle, ref_angle)\n",
    "            )\n",
    "        \n",
    "        rotations = np.stack(rotations, axis=-1)\n",
    "\n",
    "        col_names = ['rotation_'+str(o) for o in offset_list[1:]]\n",
    "        \n",
    "        cdf[col_names] = rotations\n",
    "        \n",
    "        obj.data['add_sin_cos_diff'] =   col_names\n",
    "\n",
    "    offset_list, angle_col_names = add_angle_offset_columns()\n",
    "    add_sin_cos_diff(offset_list, angle_col_names)\n",
    "\n",
    "    def add_speed_column():\n",
    "\n",
    "        tidx = match_time(cdf['time'],  adf['time_AngularSpeedControl'])\n",
    "        adf['frame_match'] = tidx\n",
    "        mean_speed = adf.groupby('frame_match')['speed'].mean()\n",
    "\n",
    "        # this is the mean speed after the end (acquisition) of the frame until the end of next frame\n",
    "        cdf['mean_speed'] = mean_speed\n",
    "\n",
    "    add_speed_column()\n",
    "\n",
    "    \n",
    "\n",
    "def sample_prep(obj: Session):\n",
    "    frames, camera_df = obj.data['frames'], obj.data['camera_df']\n",
    "\n",
    "    camera_df = camera_df.query('mean_speed>0')\n",
    "    out = camera_df[obj.data['add_sin_cos_diff']]\n",
    "    \n",
    "    frames = frames[out.index]\n",
    "\n",
    "    obj.samples = frames, out.values/np.pi\n",
    "    \n",
    "\n",
    "\n",
    "def stack_samples(objs: List[Session], sample_axis=0):\n",
    "    samples_stacked = []\n",
    "    for s in zip(*[o.samples for o in objs]):\n",
    "        samples_stacked.append(np.concatenate(s, axis=sample_axis))\n",
    "    return samples_stacked\n",
    "\n"
   ]
  },
  {
   "cell_type": "code",
   "execution_count": 18,
   "metadata": {},
   "outputs": [
    {
     "name": "stderr",
     "output_type": "stream",
     "text": [
      "100%|██████████| 4/4 [00:00<00:00, 49.58it/s]\n",
      "100%|██████████| 4/4 [00:00<00:00, 59.68it/s]\n"
     ]
    }
   ],
   "source": [
    "[data_prep(s) for s in tqdm(sessions_v30Jun+sessions_v0)]; \n",
    "[sample_prep(s) for s in tqdm(sessions_v30Jun+sessions_v0)]; \n",
    "\n",
    "x, y = stack_samples(sessions_v30Jun+sessions_v0)\n",
    "\n",
    "from train_tools import validation_chunk_split\n",
    "train_idx, val_idx = validation_chunk_split(len(x), val_split=0.2)\n",
    "train_x, train_y = x[train_idx], y[train_idx]\n",
    "val_x, val_y = x[val_idx], y[val_idx]\n"
   ]
  },
  {
   "cell_type": "markdown",
   "metadata": {},
   "source": [
    "## Inspection only"
   ]
  },
  {
   "cell_type": "code",
   "execution_count": null,
   "metadata": {},
   "outputs": [],
   "source": [
    "rotate_vector"
   ]
  },
  {
   "cell_type": "code",
   "execution_count": null,
   "metadata": {},
   "outputs": [],
   "source": [
    "sessions_v30Jun[0].data['camera_df']['rotation_800']"
   ]
  },
  {
   "cell_type": "code",
   "execution_count": null,
   "metadata": {},
   "outputs": [],
   "source": [
    "px.line(sessions_v30Jun[1].samples[1])"
   ]
  },
  {
   "cell_type": "code",
   "execution_count": null,
   "metadata": {},
   "outputs": [],
   "source": [
    "df_vis = sessions[0].data['angular_speed_control_df']"
   ]
  },
  {
   "cell_type": "code",
   "execution_count": null,
   "metadata": {},
   "outputs": [],
   "source": [
    "\n",
    "def mean_nominmax(x):\n",
    "    return (x.sum()-x.max()-x.min())/(len(x)-2)\n",
    "asd0 = df_vis['angular_velocity'].rolling(100).apply(mean_nominmax)#.shift(-99)\n",
    "\n",
    "asd = df_vis['angular_velocity'].rolling(50).apply(mean_nominmax).shift(-25)\n",
    "asd1 = df_vis['angular_velocity'].rolling(3).apply(mean_nominmax).shift(-2)\n",
    "\n",
    "\n",
    "px.line(y=[asd1, asd, asd0])"
   ]
  },
  {
   "cell_type": "code",
   "execution_count": null,
   "metadata": {},
   "outputs": [],
   "source": [
    "px.line(df_vis, y=['angular_velocity_smooth', 'angular_velocity'])"
   ]
  },
  {
   "cell_type": "code",
   "execution_count": null,
   "metadata": {},
   "outputs": [],
   "source": [
    "px.imshow(sessions[0].data['frames'][-1000])"
   ]
  },
  {
   "cell_type": "markdown",
   "metadata": {},
   "source": [
    "# Model"
   ]
  },
  {
   "cell_type": "code",
   "execution_count": 19,
   "metadata": {},
   "outputs": [
    {
     "name": "stderr",
     "output_type": "stream",
     "text": [
      "2024-07-10 19:59:59.086514: I external/local_xla/xla/stream_executor/cuda/cuda_executor.cc:998] successful NUMA node read from SysFS had negative value (-1), but there must be at least one NUMA node, so returning NUMA node zero. See more at https://github.com/torvalds/linux/blob/v6.0/Documentation/ABI/testing/sysfs-bus-pci#L344-L355\n",
      "2024-07-10 19:59:59.118027: I external/local_xla/xla/stream_executor/cuda/cuda_executor.cc:998] successful NUMA node read from SysFS had negative value (-1), but there must be at least one NUMA node, so returning NUMA node zero. See more at https://github.com/torvalds/linux/blob/v6.0/Documentation/ABI/testing/sysfs-bus-pci#L344-L355\n",
      "2024-07-10 19:59:59.118298: I external/local_xla/xla/stream_executor/cuda/cuda_executor.cc:998] successful NUMA node read from SysFS had negative value (-1), but there must be at least one NUMA node, so returning NUMA node zero. See more at https://github.com/torvalds/linux/blob/v6.0/Documentation/ABI/testing/sysfs-bus-pci#L344-L355\n",
      "2024-07-10 19:59:59.119109: I external/local_xla/xla/stream_executor/cuda/cuda_executor.cc:998] successful NUMA node read from SysFS had negative value (-1), but there must be at least one NUMA node, so returning NUMA node zero. See more at https://github.com/torvalds/linux/blob/v6.0/Documentation/ABI/testing/sysfs-bus-pci#L344-L355\n",
      "2024-07-10 19:59:59.119322: I external/local_xla/xla/stream_executor/cuda/cuda_executor.cc:998] successful NUMA node read from SysFS had negative value (-1), but there must be at least one NUMA node, so returning NUMA node zero. See more at https://github.com/torvalds/linux/blob/v6.0/Documentation/ABI/testing/sysfs-bus-pci#L344-L355\n",
      "2024-07-10 19:59:59.119519: I external/local_xla/xla/stream_executor/cuda/cuda_executor.cc:998] successful NUMA node read from SysFS had negative value (-1), but there must be at least one NUMA node, so returning NUMA node zero. See more at https://github.com/torvalds/linux/blob/v6.0/Documentation/ABI/testing/sysfs-bus-pci#L344-L355\n",
      "2024-07-10 19:59:59.191114: I external/local_xla/xla/stream_executor/cuda/cuda_executor.cc:998] successful NUMA node read from SysFS had negative value (-1), but there must be at least one NUMA node, so returning NUMA node zero. See more at https://github.com/torvalds/linux/blob/v6.0/Documentation/ABI/testing/sysfs-bus-pci#L344-L355\n",
      "2024-07-10 19:59:59.191339: I external/local_xla/xla/stream_executor/cuda/cuda_executor.cc:998] successful NUMA node read from SysFS had negative value (-1), but there must be at least one NUMA node, so returning NUMA node zero. See more at https://github.com/torvalds/linux/blob/v6.0/Documentation/ABI/testing/sysfs-bus-pci#L344-L355\n",
      "2024-07-10 19:59:59.191539: I external/local_xla/xla/stream_executor/cuda/cuda_executor.cc:998] successful NUMA node read from SysFS had negative value (-1), but there must be at least one NUMA node, so returning NUMA node zero. See more at https://github.com/torvalds/linux/blob/v6.0/Documentation/ABI/testing/sysfs-bus-pci#L344-L355\n",
      "2024-07-10 19:59:59.191702: I tensorflow/core/common_runtime/gpu/gpu_device.cc:1928] Created device /job:localhost/replica:0/task:0/device:GPU:0 with 189 MB memory:  -> device: 0, name: NVIDIA GeForce GTX 1650 SUPER, pci bus id: 0000:29:00.0, compute capability: 7.5\n"
     ]
    },
    {
     "data": {
      "text/html": [
       "<pre style=\"white-space:pre;overflow-x:auto;line-height:normal;font-family:Menlo,'DejaVu Sans Mono',consolas,'Courier New',monospace\"><span style=\"font-weight: bold\">Model: \"sequential\"</span>\n",
       "</pre>\n"
      ],
      "text/plain": [
       "\u001b[1mModel: \"sequential\"\u001b[0m\n"
      ]
     },
     "metadata": {},
     "output_type": "display_data"
    },
    {
     "data": {
      "text/html": [
       "<pre style=\"white-space:pre;overflow-x:auto;line-height:normal;font-family:Menlo,'DejaVu Sans Mono',consolas,'Courier New',monospace\">┏━━━━━━━━━━━━━━━━━━━━━━━━━━━━━━━━━┳━━━━━━━━━━━━━━━━━━━━━━━━┳━━━━━━━━━━━━━━━┓\n",
       "┃<span style=\"font-weight: bold\"> Layer (type)                    </span>┃<span style=\"font-weight: bold\"> Output Shape           </span>┃<span style=\"font-weight: bold\">       Param # </span>┃\n",
       "┡━━━━━━━━━━━━━━━━━━━━━━━━━━━━━━━━━╇━━━━━━━━━━━━━━━━━━━━━━━━╇━━━━━━━━━━━━━━━┩\n",
       "│ rescaling (<span style=\"color: #0087ff; text-decoration-color: #0087ff\">Rescaling</span>)           │ (<span style=\"color: #00d7ff; text-decoration-color: #00d7ff\">None</span>, <span style=\"color: #00af00; text-decoration-color: #00af00\">64</span>, <span style=\"color: #00af00; text-decoration-color: #00af00\">114</span>, <span style=\"color: #00af00; text-decoration-color: #00af00\">3</span>)     │             <span style=\"color: #00af00; text-decoration-color: #00af00\">0</span> │\n",
       "├─────────────────────────────────┼────────────────────────┼───────────────┤\n",
       "│ random_translation              │ (<span style=\"color: #00d7ff; text-decoration-color: #00d7ff\">None</span>, <span style=\"color: #00af00; text-decoration-color: #00af00\">64</span>, <span style=\"color: #00af00; text-decoration-color: #00af00\">114</span>, <span style=\"color: #00af00; text-decoration-color: #00af00\">3</span>)     │             <span style=\"color: #00af00; text-decoration-color: #00af00\">0</span> │\n",
       "│ (<span style=\"color: #0087ff; text-decoration-color: #0087ff\">RandomTranslation</span>)             │                        │               │\n",
       "├─────────────────────────────────┼────────────────────────┼───────────────┤\n",
       "│ random_rotation                 │ (<span style=\"color: #00d7ff; text-decoration-color: #00d7ff\">None</span>, <span style=\"color: #00af00; text-decoration-color: #00af00\">64</span>, <span style=\"color: #00af00; text-decoration-color: #00af00\">114</span>, <span style=\"color: #00af00; text-decoration-color: #00af00\">3</span>)     │             <span style=\"color: #00af00; text-decoration-color: #00af00\">0</span> │\n",
       "│ (<span style=\"color: #0087ff; text-decoration-color: #0087ff\">RandomRotation</span>)                │                        │               │\n",
       "├─────────────────────────────────┼────────────────────────┼───────────────┤\n",
       "│ random_zoom (<span style=\"color: #0087ff; text-decoration-color: #0087ff\">RandomZoom</span>)        │ (<span style=\"color: #00d7ff; text-decoration-color: #00d7ff\">None</span>, <span style=\"color: #00af00; text-decoration-color: #00af00\">64</span>, <span style=\"color: #00af00; text-decoration-color: #00af00\">114</span>, <span style=\"color: #00af00; text-decoration-color: #00af00\">3</span>)     │             <span style=\"color: #00af00; text-decoration-color: #00af00\">0</span> │\n",
       "├─────────────────────────────────┼────────────────────────┼───────────────┤\n",
       "│ random_contrast                 │ (<span style=\"color: #00d7ff; text-decoration-color: #00d7ff\">None</span>, <span style=\"color: #00af00; text-decoration-color: #00af00\">64</span>, <span style=\"color: #00af00; text-decoration-color: #00af00\">114</span>, <span style=\"color: #00af00; text-decoration-color: #00af00\">3</span>)     │             <span style=\"color: #00af00; text-decoration-color: #00af00\">0</span> │\n",
       "│ (<span style=\"color: #0087ff; text-decoration-color: #0087ff\">RandomContrast</span>)                │                        │               │\n",
       "├─────────────────────────────────┼────────────────────────┼───────────────┤\n",
       "│ random_brightness               │ (<span style=\"color: #00d7ff; text-decoration-color: #00d7ff\">None</span>, <span style=\"color: #00af00; text-decoration-color: #00af00\">64</span>, <span style=\"color: #00af00; text-decoration-color: #00af00\">114</span>, <span style=\"color: #00af00; text-decoration-color: #00af00\">3</span>)     │             <span style=\"color: #00af00; text-decoration-color: #00af00\">0</span> │\n",
       "│ (<span style=\"color: #0087ff; text-decoration-color: #0087ff\">RandomBrightness</span>)              │                        │               │\n",
       "├─────────────────────────────────┼────────────────────────┼───────────────┤\n",
       "│ conv2d (<span style=\"color: #0087ff; text-decoration-color: #0087ff\">Conv2D</span>)                 │ (<span style=\"color: #00d7ff; text-decoration-color: #00d7ff\">None</span>, <span style=\"color: #00af00; text-decoration-color: #00af00\">30</span>, <span style=\"color: #00af00; text-decoration-color: #00af00\">55</span>, <span style=\"color: #00af00; text-decoration-color: #00af00\">16</span>)     │         <span style=\"color: #00af00; text-decoration-color: #00af00\">1,216</span> │\n",
       "├─────────────────────────────────┼────────────────────────┼───────────────┤\n",
       "│ conv2d_1 (<span style=\"color: #0087ff; text-decoration-color: #0087ff\">Conv2D</span>)               │ (<span style=\"color: #00d7ff; text-decoration-color: #00d7ff\">None</span>, <span style=\"color: #00af00; text-decoration-color: #00af00\">13</span>, <span style=\"color: #00af00; text-decoration-color: #00af00\">26</span>, <span style=\"color: #00af00; text-decoration-color: #00af00\">32</span>)     │        <span style=\"color: #00af00; text-decoration-color: #00af00\">12,832</span> │\n",
       "├─────────────────────────────────┼────────────────────────┼───────────────┤\n",
       "│ conv2d_2 (<span style=\"color: #0087ff; text-decoration-color: #0087ff\">Conv2D</span>)               │ (<span style=\"color: #00d7ff; text-decoration-color: #00d7ff\">None</span>, <span style=\"color: #00af00; text-decoration-color: #00af00\">5</span>, <span style=\"color: #00af00; text-decoration-color: #00af00\">11</span>, <span style=\"color: #00af00; text-decoration-color: #00af00\">64</span>)      │        <span style=\"color: #00af00; text-decoration-color: #00af00\">51,264</span> │\n",
       "├─────────────────────────────────┼────────────────────────┼───────────────┤\n",
       "│ conv2d_3 (<span style=\"color: #0087ff; text-decoration-color: #0087ff\">Conv2D</span>)               │ (<span style=\"color: #00d7ff; text-decoration-color: #00d7ff\">None</span>, <span style=\"color: #00af00; text-decoration-color: #00af00\">1</span>, <span style=\"color: #00af00; text-decoration-color: #00af00\">9</span>, <span style=\"color: #00af00; text-decoration-color: #00af00\">64</span>)       │        <span style=\"color: #00af00; text-decoration-color: #00af00\">61,504</span> │\n",
       "├─────────────────────────────────┼────────────────────────┼───────────────┤\n",
       "│ flatten (<span style=\"color: #0087ff; text-decoration-color: #0087ff\">Flatten</span>)               │ (<span style=\"color: #00d7ff; text-decoration-color: #00d7ff\">None</span>, <span style=\"color: #00af00; text-decoration-color: #00af00\">576</span>)            │             <span style=\"color: #00af00; text-decoration-color: #00af00\">0</span> │\n",
       "├─────────────────────────────────┼────────────────────────┼───────────────┤\n",
       "│ dropout (<span style=\"color: #0087ff; text-decoration-color: #0087ff\">Dropout</span>)               │ (<span style=\"color: #00d7ff; text-decoration-color: #00d7ff\">None</span>, <span style=\"color: #00af00; text-decoration-color: #00af00\">576</span>)            │             <span style=\"color: #00af00; text-decoration-color: #00af00\">0</span> │\n",
       "├─────────────────────────────────┼────────────────────────┼───────────────┤\n",
       "│ dense (<span style=\"color: #0087ff; text-decoration-color: #0087ff\">Dense</span>)                   │ (<span style=\"color: #00d7ff; text-decoration-color: #00d7ff\">None</span>, <span style=\"color: #00af00; text-decoration-color: #00af00\">64</span>)             │        <span style=\"color: #00af00; text-decoration-color: #00af00\">36,928</span> │\n",
       "├─────────────────────────────────┼────────────────────────┼───────────────┤\n",
       "│ dense_1 (<span style=\"color: #0087ff; text-decoration-color: #0087ff\">Dense</span>)                 │ (<span style=\"color: #00d7ff; text-decoration-color: #00d7ff\">None</span>, <span style=\"color: #00af00; text-decoration-color: #00af00\">64</span>)             │         <span style=\"color: #00af00; text-decoration-color: #00af00\">4,160</span> │\n",
       "├─────────────────────────────────┼────────────────────────┼───────────────┤\n",
       "│ dense_2 (<span style=\"color: #0087ff; text-decoration-color: #0087ff\">Dense</span>)                 │ (<span style=\"color: #00d7ff; text-decoration-color: #00d7ff\">None</span>, <span style=\"color: #00af00; text-decoration-color: #00af00\">3</span>)              │           <span style=\"color: #00af00; text-decoration-color: #00af00\">195</span> │\n",
       "└─────────────────────────────────┴────────────────────────┴───────────────┘\n",
       "</pre>\n"
      ],
      "text/plain": [
       "┏━━━━━━━━━━━━━━━━━━━━━━━━━━━━━━━━━┳━━━━━━━━━━━━━━━━━━━━━━━━┳━━━━━━━━━━━━━━━┓\n",
       "┃\u001b[1m \u001b[0m\u001b[1mLayer (type)                   \u001b[0m\u001b[1m \u001b[0m┃\u001b[1m \u001b[0m\u001b[1mOutput Shape          \u001b[0m\u001b[1m \u001b[0m┃\u001b[1m \u001b[0m\u001b[1m      Param #\u001b[0m\u001b[1m \u001b[0m┃\n",
       "┡━━━━━━━━━━━━━━━━━━━━━━━━━━━━━━━━━╇━━━━━━━━━━━━━━━━━━━━━━━━╇━━━━━━━━━━━━━━━┩\n",
       "│ rescaling (\u001b[38;5;33mRescaling\u001b[0m)           │ (\u001b[38;5;45mNone\u001b[0m, \u001b[38;5;34m64\u001b[0m, \u001b[38;5;34m114\u001b[0m, \u001b[38;5;34m3\u001b[0m)     │             \u001b[38;5;34m0\u001b[0m │\n",
       "├─────────────────────────────────┼────────────────────────┼───────────────┤\n",
       "│ random_translation              │ (\u001b[38;5;45mNone\u001b[0m, \u001b[38;5;34m64\u001b[0m, \u001b[38;5;34m114\u001b[0m, \u001b[38;5;34m3\u001b[0m)     │             \u001b[38;5;34m0\u001b[0m │\n",
       "│ (\u001b[38;5;33mRandomTranslation\u001b[0m)             │                        │               │\n",
       "├─────────────────────────────────┼────────────────────────┼───────────────┤\n",
       "│ random_rotation                 │ (\u001b[38;5;45mNone\u001b[0m, \u001b[38;5;34m64\u001b[0m, \u001b[38;5;34m114\u001b[0m, \u001b[38;5;34m3\u001b[0m)     │             \u001b[38;5;34m0\u001b[0m │\n",
       "│ (\u001b[38;5;33mRandomRotation\u001b[0m)                │                        │               │\n",
       "├─────────────────────────────────┼────────────────────────┼───────────────┤\n",
       "│ random_zoom (\u001b[38;5;33mRandomZoom\u001b[0m)        │ (\u001b[38;5;45mNone\u001b[0m, \u001b[38;5;34m64\u001b[0m, \u001b[38;5;34m114\u001b[0m, \u001b[38;5;34m3\u001b[0m)     │             \u001b[38;5;34m0\u001b[0m │\n",
       "├─────────────────────────────────┼────────────────────────┼───────────────┤\n",
       "│ random_contrast                 │ (\u001b[38;5;45mNone\u001b[0m, \u001b[38;5;34m64\u001b[0m, \u001b[38;5;34m114\u001b[0m, \u001b[38;5;34m3\u001b[0m)     │             \u001b[38;5;34m0\u001b[0m │\n",
       "│ (\u001b[38;5;33mRandomContrast\u001b[0m)                │                        │               │\n",
       "├─────────────────────────────────┼────────────────────────┼───────────────┤\n",
       "│ random_brightness               │ (\u001b[38;5;45mNone\u001b[0m, \u001b[38;5;34m64\u001b[0m, \u001b[38;5;34m114\u001b[0m, \u001b[38;5;34m3\u001b[0m)     │             \u001b[38;5;34m0\u001b[0m │\n",
       "│ (\u001b[38;5;33mRandomBrightness\u001b[0m)              │                        │               │\n",
       "├─────────────────────────────────┼────────────────────────┼───────────────┤\n",
       "│ conv2d (\u001b[38;5;33mConv2D\u001b[0m)                 │ (\u001b[38;5;45mNone\u001b[0m, \u001b[38;5;34m30\u001b[0m, \u001b[38;5;34m55\u001b[0m, \u001b[38;5;34m16\u001b[0m)     │         \u001b[38;5;34m1,216\u001b[0m │\n",
       "├─────────────────────────────────┼────────────────────────┼───────────────┤\n",
       "│ conv2d_1 (\u001b[38;5;33mConv2D\u001b[0m)               │ (\u001b[38;5;45mNone\u001b[0m, \u001b[38;5;34m13\u001b[0m, \u001b[38;5;34m26\u001b[0m, \u001b[38;5;34m32\u001b[0m)     │        \u001b[38;5;34m12,832\u001b[0m │\n",
       "├─────────────────────────────────┼────────────────────────┼───────────────┤\n",
       "│ conv2d_2 (\u001b[38;5;33mConv2D\u001b[0m)               │ (\u001b[38;5;45mNone\u001b[0m, \u001b[38;5;34m5\u001b[0m, \u001b[38;5;34m11\u001b[0m, \u001b[38;5;34m64\u001b[0m)      │        \u001b[38;5;34m51,264\u001b[0m │\n",
       "├─────────────────────────────────┼────────────────────────┼───────────────┤\n",
       "│ conv2d_3 (\u001b[38;5;33mConv2D\u001b[0m)               │ (\u001b[38;5;45mNone\u001b[0m, \u001b[38;5;34m1\u001b[0m, \u001b[38;5;34m9\u001b[0m, \u001b[38;5;34m64\u001b[0m)       │        \u001b[38;5;34m61,504\u001b[0m │\n",
       "├─────────────────────────────────┼────────────────────────┼───────────────┤\n",
       "│ flatten (\u001b[38;5;33mFlatten\u001b[0m)               │ (\u001b[38;5;45mNone\u001b[0m, \u001b[38;5;34m576\u001b[0m)            │             \u001b[38;5;34m0\u001b[0m │\n",
       "├─────────────────────────────────┼────────────────────────┼───────────────┤\n",
       "│ dropout (\u001b[38;5;33mDropout\u001b[0m)               │ (\u001b[38;5;45mNone\u001b[0m, \u001b[38;5;34m576\u001b[0m)            │             \u001b[38;5;34m0\u001b[0m │\n",
       "├─────────────────────────────────┼────────────────────────┼───────────────┤\n",
       "│ dense (\u001b[38;5;33mDense\u001b[0m)                   │ (\u001b[38;5;45mNone\u001b[0m, \u001b[38;5;34m64\u001b[0m)             │        \u001b[38;5;34m36,928\u001b[0m │\n",
       "├─────────────────────────────────┼────────────────────────┼───────────────┤\n",
       "│ dense_1 (\u001b[38;5;33mDense\u001b[0m)                 │ (\u001b[38;5;45mNone\u001b[0m, \u001b[38;5;34m64\u001b[0m)             │         \u001b[38;5;34m4,160\u001b[0m │\n",
       "├─────────────────────────────────┼────────────────────────┼───────────────┤\n",
       "│ dense_2 (\u001b[38;5;33mDense\u001b[0m)                 │ (\u001b[38;5;45mNone\u001b[0m, \u001b[38;5;34m3\u001b[0m)              │           \u001b[38;5;34m195\u001b[0m │\n",
       "└─────────────────────────────────┴────────────────────────┴───────────────┘\n"
      ]
     },
     "metadata": {},
     "output_type": "display_data"
    },
    {
     "data": {
      "text/html": [
       "<pre style=\"white-space:pre;overflow-x:auto;line-height:normal;font-family:Menlo,'DejaVu Sans Mono',consolas,'Courier New',monospace\"><span style=\"font-weight: bold\"> Total params: </span><span style=\"color: #00af00; text-decoration-color: #00af00\">168,099</span> (656.64 KB)\n",
       "</pre>\n"
      ],
      "text/plain": [
       "\u001b[1m Total params: \u001b[0m\u001b[38;5;34m168,099\u001b[0m (656.64 KB)\n"
      ]
     },
     "metadata": {},
     "output_type": "display_data"
    },
    {
     "data": {
      "text/html": [
       "<pre style=\"white-space:pre;overflow-x:auto;line-height:normal;font-family:Menlo,'DejaVu Sans Mono',consolas,'Courier New',monospace\"><span style=\"font-weight: bold\"> Trainable params: </span><span style=\"color: #00af00; text-decoration-color: #00af00\">168,099</span> (656.64 KB)\n",
       "</pre>\n"
      ],
      "text/plain": [
       "\u001b[1m Trainable params: \u001b[0m\u001b[38;5;34m168,099\u001b[0m (656.64 KB)\n"
      ]
     },
     "metadata": {},
     "output_type": "display_data"
    },
    {
     "data": {
      "text/html": [
       "<pre style=\"white-space:pre;overflow-x:auto;line-height:normal;font-family:Menlo,'DejaVu Sans Mono',consolas,'Courier New',monospace\"><span style=\"font-weight: bold\"> Non-trainable params: </span><span style=\"color: #00af00; text-decoration-color: #00af00\">0</span> (0.00 B)\n",
       "</pre>\n"
      ],
      "text/plain": [
       "\u001b[1m Non-trainable params: \u001b[0m\u001b[38;5;34m0\u001b[0m (0.00 B)\n"
      ]
     },
     "metadata": {},
     "output_type": "display_data"
    }
   ],
   "source": [
    "def get_model(lr=.1, other_metrics=[]):\n",
    "    tf.keras.backend.clear_session()\n",
    "    image_shape = 64, 114, 3\n",
    "\n",
    "    img_aug_preprocess_layers = [\n",
    "        keras.layers.RandomTranslation(0.05, 0.05, fill_mode='reflect'),\n",
    "        keras.layers.RandomRotation(0.02, fill_mode='reflect'),\n",
    "        keras.layers.RandomZoom(0.05, fill_mode='reflect'),\n",
    "        keras.layers.RandomContrast(0.3),\n",
    "        keras.layers.RandomBrightness(factor=0.6, value_range=[0, 1])\n",
    "    ]\n",
    "    \n",
    "    layers =  [\n",
    "        keras.layers.Conv2D(16, 5, strides=2, activation='relu'), \n",
    "        keras.layers.Conv2D(32, 5, strides=2, activation='relu'), \n",
    "        keras.layers.Conv2D(64, 5, strides=2, activation='relu'),         \n",
    "        keras.layers.Conv2D(64, (5, 3), activation='relu'), \n",
    "        keras.layers.Flatten(),\n",
    "        keras.layers.Dropout(0.2),\n",
    "        \n",
    "        keras.layers.Dense(64, activation='relu'), \n",
    "        keras.layers.Dense(64, activation='relu'), \n",
    "        keras.layers.Dense(3, activation='tanh'), \n",
    "    ]\n",
    "    \n",
    "    model = keras.Sequential(\n",
    "        [\n",
    "            keras.layers.InputLayer(image_shape),\n",
    "            keras.layers.Rescaling(1/255), \n",
    "            *img_aug_preprocess_layers,\n",
    "            *layers, \n",
    "        ])\n",
    "\n",
    "\n",
    "    optimiser = keras.optimizers.Adam(lr)\n",
    "    model.compile(optimizer=optimiser, loss='Huber', metrics=['MAE']+other_metrics)\n",
    "\n",
    "    return model \n",
    "\n",
    "model = get_model()\n",
    "model.summary()"
   ]
  },
  {
   "cell_type": "code",
   "execution_count": 20,
   "metadata": {},
   "outputs": [],
   "source": [
    "from train_tools import find_lr, tg_notify, use_tensorboard, end_epoch_notify"
   ]
  },
  {
   "cell_type": "code",
   "execution_count": null,
   "metadata": {},
   "outputs": [],
   "source": [
    "find_lr(get_model(), train_x, train_y)\n",
    "#tensorboard --logdir ./logs --bind_all"
   ]
  },
  {
   "cell_type": "code",
   "execution_count": 21,
   "metadata": {},
   "outputs": [
    {
     "name": "stderr",
     "output_type": "stream",
     "text": [
      "2024-07-10 20:00:02.729207: W external/local_tsl/tsl/framework/cpu_allocator_impl.cc:83] Allocation of 340752384 exceeds 10% of free system memory.\n",
      "2024-07-10 20:00:12.886233: W external/local_tsl/tsl/framework/bfc_allocator.cc:487] Allocator (GPU_0_bfc) ran out of memory trying to allocate 324.97MiB (rounded to 340752384)requested by op _EagerConst\n",
      "If the cause is memory fragmentation maybe the environment variable 'TF_GPU_ALLOCATOR=cuda_malloc_async' will improve the situation. \n",
      "Current allocation summary follows.\n",
      "Current allocation summary follows.\n",
      "2024-07-10 20:00:12.886259: I external/local_tsl/tsl/framework/bfc_allocator.cc:1044] BFCAllocator dump for GPU_0_bfc\n",
      "2024-07-10 20:00:12.886268: I external/local_tsl/tsl/framework/bfc_allocator.cc:1051] Bin (256): \tTotal Chunks: 49, Chunks in use: 49. 12.2KiB allocated for chunks. 12.2KiB in use in bin. 2.6KiB client-requested in use in bin.\n",
      "2024-07-10 20:00:12.886274: I external/local_tsl/tsl/framework/bfc_allocator.cc:1051] Bin (512): \tTotal Chunks: 2, Chunks in use: 2. 1.5KiB allocated for chunks. 1.5KiB in use in bin. 1.5KiB client-requested in use in bin.\n",
      "2024-07-10 20:00:12.886280: I external/local_tsl/tsl/framework/bfc_allocator.cc:1051] Bin (1024): \tTotal Chunks: 2, Chunks in use: 1. 2.5KiB allocated for chunks. 1.2KiB in use in bin. 1.0KiB client-requested in use in bin.\n",
      "2024-07-10 20:00:12.886286: I external/local_tsl/tsl/framework/bfc_allocator.cc:1051] Bin (2048): \tTotal Chunks: 0, Chunks in use: 0. 0B allocated for chunks. 0B in use in bin. 0B client-requested in use in bin.\n",
      "2024-07-10 20:00:12.886292: I external/local_tsl/tsl/framework/bfc_allocator.cc:1051] Bin (4096): \tTotal Chunks: 3, Chunks in use: 2. 16.5KiB allocated for chunks. 9.5KiB in use in bin. 9.4KiB client-requested in use in bin.\n",
      "2024-07-10 20:00:12.886298: I external/local_tsl/tsl/framework/bfc_allocator.cc:1051] Bin (8192): \tTotal Chunks: 0, Chunks in use: 0. 0B allocated for chunks. 0B in use in bin. 0B client-requested in use in bin.\n",
      "2024-07-10 20:00:12.886304: I external/local_tsl/tsl/framework/bfc_allocator.cc:1051] Bin (16384): \tTotal Chunks: 5, Chunks in use: 2. 83.8KiB allocated for chunks. 32.0KiB in use in bin. 32.0KiB client-requested in use in bin.\n",
      "2024-07-10 20:00:12.886310: I external/local_tsl/tsl/framework/bfc_allocator.cc:1051] Bin (32768): \tTotal Chunks: 2, Chunks in use: 1. 102.0KiB allocated for chunks. 50.0KiB in use in bin. 50.0KiB client-requested in use in bin.\n",
      "2024-07-10 20:00:12.886316: I external/local_tsl/tsl/framework/bfc_allocator.cc:1051] Bin (65536): \tTotal Chunks: 1, Chunks in use: 1. 94.0KiB allocated for chunks. 94.0KiB in use in bin. 50.0KiB client-requested in use in bin.\n",
      "2024-07-10 20:00:12.886322: I external/local_tsl/tsl/framework/bfc_allocator.cc:1051] Bin (131072): \tTotal Chunks: 7, Chunks in use: 5. 1.52MiB allocated for chunks. 1.09MiB in use in bin. 1.00MiB client-requested in use in bin.\n",
      "2024-07-10 20:00:12.886328: I external/local_tsl/tsl/framework/bfc_allocator.cc:1051] Bin (262144): \tTotal Chunks: 1, Chunks in use: 1. 256.0KiB allocated for chunks. 256.0KiB in use in bin. 144.0KiB client-requested in use in bin.\n",
      "2024-07-10 20:00:12.886334: I external/local_tsl/tsl/framework/bfc_allocator.cc:1051] Bin (524288): \tTotal Chunks: 0, Chunks in use: 0. 0B allocated for chunks. 0B in use in bin. 0B client-requested in use in bin.\n",
      "2024-07-10 20:00:12.886339: I external/local_tsl/tsl/framework/bfc_allocator.cc:1051] Bin (1048576): \tTotal Chunks: 0, Chunks in use: 0. 0B allocated for chunks. 0B in use in bin. 0B client-requested in use in bin.\n",
      "2024-07-10 20:00:12.886344: I external/local_tsl/tsl/framework/bfc_allocator.cc:1051] Bin (2097152): \tTotal Chunks: 0, Chunks in use: 0. 0B allocated for chunks. 0B in use in bin. 0B client-requested in use in bin.\n",
      "2024-07-10 20:00:12.886350: I external/local_tsl/tsl/framework/bfc_allocator.cc:1051] Bin (4194304): \tTotal Chunks: 0, Chunks in use: 0. 0B allocated for chunks. 0B in use in bin. 0B client-requested in use in bin.\n",
      "2024-07-10 20:00:12.886355: I external/local_tsl/tsl/framework/bfc_allocator.cc:1051] Bin (8388608): \tTotal Chunks: 0, Chunks in use: 0. 0B allocated for chunks. 0B in use in bin. 0B client-requested in use in bin.\n",
      "2024-07-10 20:00:12.886360: I external/local_tsl/tsl/framework/bfc_allocator.cc:1051] Bin (16777216): \tTotal Chunks: 0, Chunks in use: 0. 0B allocated for chunks. 0B in use in bin. 0B client-requested in use in bin.\n",
      "2024-07-10 20:00:12.886368: I external/local_tsl/tsl/framework/bfc_allocator.cc:1051] Bin (33554432): \tTotal Chunks: 0, Chunks in use: 0. 0B allocated for chunks. 0B in use in bin. 0B client-requested in use in bin.\n",
      "2024-07-10 20:00:12.886374: I external/local_tsl/tsl/framework/bfc_allocator.cc:1051] Bin (67108864): \tTotal Chunks: 0, Chunks in use: 0. 0B allocated for chunks. 0B in use in bin. 0B client-requested in use in bin.\n",
      "2024-07-10 20:00:12.886380: I external/local_tsl/tsl/framework/bfc_allocator.cc:1051] Bin (134217728): \tTotal Chunks: 1, Chunks in use: 0. 187.42MiB allocated for chunks. 0B in use in bin. 0B client-requested in use in bin.\n",
      "2024-07-10 20:00:12.886385: I external/local_tsl/tsl/framework/bfc_allocator.cc:1051] Bin (268435456): \tTotal Chunks: 0, Chunks in use: 0. 0B allocated for chunks. 0B in use in bin. 0B client-requested in use in bin.\n",
      "2024-07-10 20:00:12.886391: I external/local_tsl/tsl/framework/bfc_allocator.cc:1067] Bin for 324.97MiB was 256.00MiB, Chunk State: \n",
      "2024-07-10 20:00:12.886396: I external/local_tsl/tsl/framework/bfc_allocator.cc:1080] Next region of size 198705152\n",
      "2024-07-10 20:00:12.886403: I external/local_tsl/tsl/framework/bfc_allocator.cc:1100] InUse at 79962c000000 of size 256 next 1\n",
      "2024-07-10 20:00:12.886408: I external/local_tsl/tsl/framework/bfc_allocator.cc:1100] InUse at 79962c000100 of size 1280 next 2\n",
      "2024-07-10 20:00:12.886413: I external/local_tsl/tsl/framework/bfc_allocator.cc:1100] InUse at 79962c000600 of size 256 next 3\n",
      "2024-07-10 20:00:12.886417: I external/local_tsl/tsl/framework/bfc_allocator.cc:1100] InUse at 79962c000700 of size 256 next 4\n",
      "2024-07-10 20:00:12.886422: I external/local_tsl/tsl/framework/bfc_allocator.cc:1100] InUse at 79962c000800 of size 256 next 5\n",
      "2024-07-10 20:00:12.886427: I external/local_tsl/tsl/framework/bfc_allocator.cc:1100] InUse at 79962c000900 of size 256 next 6\n",
      "2024-07-10 20:00:12.886431: I external/local_tsl/tsl/framework/bfc_allocator.cc:1100] InUse at 79962c000a00 of size 256 next 7\n",
      "2024-07-10 20:00:12.886436: I external/local_tsl/tsl/framework/bfc_allocator.cc:1100] InUse at 79962c000b00 of size 256 next 8\n",
      "2024-07-10 20:00:12.886440: I external/local_tsl/tsl/framework/bfc_allocator.cc:1100] InUse at 79962c000c00 of size 256 next 9\n",
      "2024-07-10 20:00:12.886445: I external/local_tsl/tsl/framework/bfc_allocator.cc:1100] InUse at 79962c000d00 of size 256 next 10\n",
      "2024-07-10 20:00:12.886450: I external/local_tsl/tsl/framework/bfc_allocator.cc:1100] InUse at 79962c000e00 of size 256 next 12\n",
      "2024-07-10 20:00:12.886454: I external/local_tsl/tsl/framework/bfc_allocator.cc:1100] InUse at 79962c000f00 of size 256 next 13\n",
      "2024-07-10 20:00:12.886459: I external/local_tsl/tsl/framework/bfc_allocator.cc:1100] InUse at 79962c001000 of size 256 next 11\n",
      "2024-07-10 20:00:12.886464: I external/local_tsl/tsl/framework/bfc_allocator.cc:1100] InUse at 79962c001100 of size 256 next 14\n",
      "2024-07-10 20:00:12.886468: I external/local_tsl/tsl/framework/bfc_allocator.cc:1100] InUse at 79962c001200 of size 256 next 19\n",
      "2024-07-10 20:00:12.886473: I external/local_tsl/tsl/framework/bfc_allocator.cc:1100] InUse at 79962c001300 of size 256 next 17\n",
      "2024-07-10 20:00:12.886477: I external/local_tsl/tsl/framework/bfc_allocator.cc:1100] InUse at 79962c001400 of size 256 next 18\n",
      "2024-07-10 20:00:12.886482: I external/local_tsl/tsl/framework/bfc_allocator.cc:1100] InUse at 79962c001500 of size 256 next 24\n",
      "2024-07-10 20:00:12.886486: I external/local_tsl/tsl/framework/bfc_allocator.cc:1100] InUse at 79962c001600 of size 256 next 22\n",
      "2024-07-10 20:00:12.886491: I external/local_tsl/tsl/framework/bfc_allocator.cc:1100] InUse at 79962c001700 of size 256 next 23\n",
      "2024-07-10 20:00:12.886496: I external/local_tsl/tsl/framework/bfc_allocator.cc:1100] InUse at 79962c001800 of size 256 next 27\n",
      "2024-07-10 20:00:12.886500: I external/local_tsl/tsl/framework/bfc_allocator.cc:1100] InUse at 79962c001900 of size 256 next 28\n",
      "2024-07-10 20:00:12.886506: I external/local_tsl/tsl/framework/bfc_allocator.cc:1100] InUse at 79962c001a00 of size 256 next 31\n",
      "2024-07-10 20:00:12.886510: I external/local_tsl/tsl/framework/bfc_allocator.cc:1100] InUse at 79962c001b00 of size 256 next 32\n",
      "2024-07-10 20:00:12.886515: I external/local_tsl/tsl/framework/bfc_allocator.cc:1100] InUse at 79962c001c00 of size 256 next 33\n",
      "2024-07-10 20:00:12.886519: I external/local_tsl/tsl/framework/bfc_allocator.cc:1100] InUse at 79962c001d00 of size 256 next 34\n",
      "2024-07-10 20:00:12.886524: I external/local_tsl/tsl/framework/bfc_allocator.cc:1100] InUse at 79962c001e00 of size 256 next 38\n",
      "2024-07-10 20:00:12.886529: I external/local_tsl/tsl/framework/bfc_allocator.cc:1100] InUse at 79962c001f00 of size 256 next 36\n",
      "2024-07-10 20:00:12.886533: I external/local_tsl/tsl/framework/bfc_allocator.cc:1100] InUse at 79962c002000 of size 256 next 37\n",
      "2024-07-10 20:00:12.886538: I external/local_tsl/tsl/framework/bfc_allocator.cc:1100] InUse at 79962c002100 of size 256 next 42\n",
      "2024-07-10 20:00:12.886542: I external/local_tsl/tsl/framework/bfc_allocator.cc:1100] InUse at 79962c002200 of size 256 next 43\n",
      "2024-07-10 20:00:12.886547: I external/local_tsl/tsl/framework/bfc_allocator.cc:1100] InUse at 79962c002300 of size 256 next 41\n",
      "2024-07-10 20:00:12.886552: I external/local_tsl/tsl/framework/bfc_allocator.cc:1100] InUse at 79962c002400 of size 256 next 44\n",
      "2024-07-10 20:00:12.886556: I external/local_tsl/tsl/framework/bfc_allocator.cc:1100] InUse at 79962c002500 of size 256 next 47\n",
      "2024-07-10 20:00:12.886561: I external/local_tsl/tsl/framework/bfc_allocator.cc:1100] InUse at 79962c002600 of size 256 next 48\n",
      "2024-07-10 20:00:12.886565: I external/local_tsl/tsl/framework/bfc_allocator.cc:1100] InUse at 79962c002700 of size 256 next 49\n",
      "2024-07-10 20:00:12.886570: I external/local_tsl/tsl/framework/bfc_allocator.cc:1100] InUse at 79962c002800 of size 256 next 50\n",
      "2024-07-10 20:00:12.886575: I external/local_tsl/tsl/framework/bfc_allocator.cc:1100] InUse at 79962c002900 of size 256 next 45\n",
      "2024-07-10 20:00:12.886580: I external/local_tsl/tsl/framework/bfc_allocator.cc:1100] InUse at 79962c002a00 of size 768 next 46\n",
      "2024-07-10 20:00:12.886585: I external/local_tsl/tsl/framework/bfc_allocator.cc:1100] InUse at 79962c002d00 of size 256 next 51\n",
      "2024-07-10 20:00:12.886590: I external/local_tsl/tsl/framework/bfc_allocator.cc:1100] InUse at 79962c002e00 of size 256 next 52\n",
      "2024-07-10 20:00:12.886594: I external/local_tsl/tsl/framework/bfc_allocator.cc:1100] InUse at 79962c002f00 of size 256 next 55\n",
      "2024-07-10 20:00:12.886599: I external/local_tsl/tsl/framework/bfc_allocator.cc:1100] InUse at 79962c003000 of size 256 next 53\n",
      "2024-07-10 20:00:12.886603: I external/local_tsl/tsl/framework/bfc_allocator.cc:1100] InUse at 79962c003100 of size 256 next 54\n",
      "2024-07-10 20:00:12.886608: I external/local_tsl/tsl/framework/bfc_allocator.cc:1100] InUse at 79962c003200 of size 256 next 58\n",
      "2024-07-10 20:00:12.886613: I external/local_tsl/tsl/framework/bfc_allocator.cc:1100] InUse at 79962c003300 of size 256 next 62\n",
      "2024-07-10 20:00:12.886617: I external/local_tsl/tsl/framework/bfc_allocator.cc:1100] InUse at 79962c003400 of size 256 next 65\n",
      "2024-07-10 20:00:12.886622: I external/local_tsl/tsl/framework/bfc_allocator.cc:1100] InUse at 79962c003500 of size 256 next 69\n",
      "2024-07-10 20:00:12.886627: I external/local_tsl/tsl/framework/bfc_allocator.cc:1100] InUse at 79962c003600 of size 256 next 15\n",
      "2024-07-10 20:00:12.886631: I external/local_tsl/tsl/framework/bfc_allocator.cc:1100] InUse at 79962c003700 of size 4864 next 16\n",
      "2024-07-10 20:00:12.886636: I external/local_tsl/tsl/framework/bfc_allocator.cc:1100] InUse at 79962c004a00 of size 256 next 66\n",
      "2024-07-10 20:00:12.886641: I external/local_tsl/tsl/framework/bfc_allocator.cc:1100] InUse at 79962c004b00 of size 256 next 70\n",
      "2024-07-10 20:00:12.886646: I external/local_tsl/tsl/framework/bfc_allocator.cc:1100] Free  at 79962c004c00 of size 1280 next 71\n",
      "2024-07-10 20:00:12.886651: I external/local_tsl/tsl/framework/bfc_allocator.cc:1100] InUse at 79962c005100 of size 768 next 72\n",
      "2024-07-10 20:00:12.886655: I external/local_tsl/tsl/framework/bfc_allocator.cc:1100] Free  at 79962c005400 of size 7168 next 57\n",
      "2024-07-10 20:00:12.886659: I external/local_tsl/tsl/framework/bfc_allocator.cc:1100] InUse at 79962c007000 of size 4864 next 56\n",
      "2024-07-10 20:00:12.886663: I external/local_tsl/tsl/framework/bfc_allocator.cc:1100] Free  at 79962c008300 of size 18176 next 40\n",
      "2024-07-10 20:00:12.886667: I external/local_tsl/tsl/framework/bfc_allocator.cc:1100] InUse at 79962c00ca00 of size 16384 next 39\n",
      "2024-07-10 20:00:12.886671: I external/local_tsl/tsl/framework/bfc_allocator.cc:1100] Free  at 79962c010a00 of size 53248 next 21\n",
      "2024-07-10 20:00:12.886675: I external/local_tsl/tsl/framework/bfc_allocator.cc:1100] InUse at 79962c01da00 of size 51200 next 20\n",
      "2024-07-10 20:00:12.886680: I external/local_tsl/tsl/framework/bfc_allocator.cc:1100] Free  at 79962c02a200 of size 16384 next 67\n",
      "2024-07-10 20:00:12.886684: I external/local_tsl/tsl/framework/bfc_allocator.cc:1100] InUse at 79962c02e200 of size 16384 next 68\n",
      "2024-07-10 20:00:12.886688: I external/local_tsl/tsl/framework/bfc_allocator.cc:1100] Free  at 79962c032200 of size 18432 next 59\n",
      "2024-07-10 20:00:12.886692: I external/local_tsl/tsl/framework/bfc_allocator.cc:1100] InUse at 79962c036a00 of size 96256 next 35\n",
      "2024-07-10 20:00:12.886696: I external/local_tsl/tsl/framework/bfc_allocator.cc:1100] InUse at 79962c04e200 of size 262144 next 26\n",
      "2024-07-10 20:00:12.886700: I external/local_tsl/tsl/framework/bfc_allocator.cc:1100] InUse at 79962c08e200 of size 204800 next 25\n",
      "2024-07-10 20:00:12.886704: I external/local_tsl/tsl/framework/bfc_allocator.cc:1100] Free  at 79962c0c0200 of size 245760 next 30\n",
      "2024-07-10 20:00:12.886708: I external/local_tsl/tsl/framework/bfc_allocator.cc:1100] InUse at 79962c0fc200 of size 245760 next 29\n",
      "2024-07-10 20:00:12.886712: I external/local_tsl/tsl/framework/bfc_allocator.cc:1100] Free  at 79962c138200 of size 204800 next 61\n",
      "2024-07-10 20:00:12.886716: I external/local_tsl/tsl/framework/bfc_allocator.cc:1100] InUse at 79962c16a200 of size 204800 next 60\n",
      "2024-07-10 20:00:12.886720: I external/local_tsl/tsl/framework/bfc_allocator.cc:1100] InUse at 79962c19c200 of size 245760 next 64\n",
      "2024-07-10 20:00:12.886724: I external/local_tsl/tsl/framework/bfc_allocator.cc:1100] InUse at 79962c1d8200 of size 245760 next 63\n",
      "2024-07-10 20:00:12.886728: I external/local_tsl/tsl/framework/bfc_allocator.cc:1100] Free  at 79962c214200 of size 196525568 next 18446744073709551615\n",
      "2024-07-10 20:00:12.886732: I external/local_tsl/tsl/framework/bfc_allocator.cc:1105]      Summary of in-use Chunks by size: \n",
      "2024-07-10 20:00:12.886737: I external/local_tsl/tsl/framework/bfc_allocator.cc:1108] 49 Chunks of size 256 totalling 12.2KiB\n",
      "2024-07-10 20:00:12.886742: I external/local_tsl/tsl/framework/bfc_allocator.cc:1108] 2 Chunks of size 768 totalling 1.5KiB\n",
      "2024-07-10 20:00:12.886746: I external/local_tsl/tsl/framework/bfc_allocator.cc:1108] 1 Chunks of size 1280 totalling 1.2KiB\n",
      "2024-07-10 20:00:12.886751: I external/local_tsl/tsl/framework/bfc_allocator.cc:1108] 2 Chunks of size 4864 totalling 9.5KiB\n",
      "2024-07-10 20:00:12.886755: I external/local_tsl/tsl/framework/bfc_allocator.cc:1108] 2 Chunks of size 16384 totalling 32.0KiB\n",
      "2024-07-10 20:00:12.886760: I external/local_tsl/tsl/framework/bfc_allocator.cc:1108] 1 Chunks of size 51200 totalling 50.0KiB\n",
      "2024-07-10 20:00:12.886764: I external/local_tsl/tsl/framework/bfc_allocator.cc:1108] 1 Chunks of size 96256 totalling 94.0KiB\n",
      "2024-07-10 20:00:12.886768: I external/local_tsl/tsl/framework/bfc_allocator.cc:1108] 2 Chunks of size 204800 totalling 400.0KiB\n",
      "2024-07-10 20:00:12.886773: I external/local_tsl/tsl/framework/bfc_allocator.cc:1108] 3 Chunks of size 245760 totalling 720.0KiB\n",
      "2024-07-10 20:00:12.886777: I external/local_tsl/tsl/framework/bfc_allocator.cc:1108] 1 Chunks of size 262144 totalling 256.0KiB\n",
      "2024-07-10 20:00:12.886782: I external/local_tsl/tsl/framework/bfc_allocator.cc:1112] Sum Total of in-use chunks: 1.54MiB\n",
      "2024-07-10 20:00:12.886787: I external/local_tsl/tsl/framework/bfc_allocator.cc:1114] Total bytes in pool: 198705152 memory_limit_: 198705152 available bytes: 0 curr_region_allocation_bytes_: 397410304\n",
      "2024-07-10 20:00:12.886793: I external/local_tsl/tsl/framework/bfc_allocator.cc:1119] Stats: \n",
      "Limit:                       198705152\n",
      "InUse:                         1614336\n",
      "MaxInUse:                      2046720\n",
      "NumAllocs:                         148\n",
      "MaxAllocSize:                   409600\n",
      "Reserved:                            0\n",
      "PeakReserved:                        0\n",
      "LargestFreeBlock:                    0\n",
      "\n",
      "2024-07-10 20:00:12.886799: W external/local_tsl/tsl/framework/bfc_allocator.cc:499] **__________________________________________________________________________________________________\n"
     ]
    },
    {
     "ename": "InternalError",
     "evalue": "Failed copying input tensor from /job:localhost/replica:0/task:0/device:CPU:0 to /job:localhost/replica:0/task:0/device:GPU:0 in order to run _EagerConst: Dst tensor is not initialized.",
     "output_type": "error",
     "traceback": [
      "\u001b[0;31m---------------------------------------------------------------------------\u001b[0m",
      "\u001b[0;31mInternalError\u001b[0m                             Traceback (most recent call last)",
      "Cell \u001b[0;32mIn[21], line 2\u001b[0m\n\u001b[1;32m      1\u001b[0m model \u001b[38;5;241m=\u001b[39m get_model(\u001b[38;5;241m1e-4\u001b[39m)\n\u001b[0;32m----> 2\u001b[0m \u001b[43mmodel\u001b[49m\u001b[38;5;241;43m.\u001b[39;49m\u001b[43mfit\u001b[49m\u001b[43m(\u001b[49m\n\u001b[1;32m      3\u001b[0m \u001b[43m    \u001b[49m\u001b[43mtrain_x\u001b[49m\u001b[43m,\u001b[49m\n\u001b[1;32m      4\u001b[0m \u001b[43m    \u001b[49m\u001b[43mtrain_y\u001b[49m\u001b[43m,\u001b[49m\n\u001b[1;32m      5\u001b[0m \u001b[43m    \u001b[49m\u001b[43mepochs\u001b[49m\u001b[38;5;241;43m=\u001b[39;49m\u001b[38;5;241;43m1000\u001b[39;49m\u001b[43m,\u001b[49m\u001b[43m \u001b[49m\n\u001b[1;32m      6\u001b[0m \u001b[43m    \u001b[49m\u001b[43mvalidation_data\u001b[49m\u001b[43m \u001b[49m\u001b[38;5;241;43m=\u001b[39;49m\u001b[43m \u001b[49m\u001b[43m(\u001b[49m\u001b[43mval_x\u001b[49m\u001b[43m,\u001b[49m\u001b[43m \u001b[49m\u001b[43mval_y\u001b[49m\u001b[43m)\u001b[49m\u001b[43m,\u001b[49m\n\u001b[1;32m      7\u001b[0m \u001b[43m    \u001b[49m\u001b[43mcallbacks\u001b[49m\u001b[38;5;241;43m=\u001b[39;49m\u001b[43m[\u001b[49m\n\u001b[1;32m      8\u001b[0m \u001b[43m        \u001b[49m\u001b[43mtf\u001b[49m\u001b[38;5;241;43m.\u001b[39;49m\u001b[43mkeras\u001b[49m\u001b[38;5;241;43m.\u001b[39;49m\u001b[43mcallbacks\u001b[49m\u001b[38;5;241;43m.\u001b[39;49m\u001b[43mEarlyStopping\u001b[49m\u001b[43m(\u001b[49m\u001b[43mmonitor\u001b[49m\u001b[38;5;241;43m=\u001b[39;49m\u001b[38;5;124;43m'\u001b[39;49m\u001b[38;5;124;43mval_loss\u001b[39;49m\u001b[38;5;124;43m'\u001b[39;49m\u001b[43m,\u001b[49m\u001b[43m \u001b[49m\u001b[43mpatience\u001b[49m\u001b[38;5;241;43m=\u001b[39;49m\u001b[38;5;241;43m10\u001b[39;49m\u001b[43m)\u001b[49m\u001b[43m,\u001b[49m\n\u001b[1;32m      9\u001b[0m \u001b[43m        \u001b[49m\u001b[43muse_tensorboard\u001b[49m\u001b[43m(\u001b[49m\u001b[38;5;124;43m'\u001b[39;49m\u001b[38;5;124;43mtraining\u001b[39;49m\u001b[38;5;124;43m'\u001b[39;49m\u001b[43m)\u001b[49m\u001b[43m,\u001b[49m\u001b[43m \u001b[49m\n\u001b[1;32m     10\u001b[0m \u001b[43m        \u001b[49m\u001b[43mend_epoch_notify\u001b[49m\u001b[43m(\u001b[49m\u001b[43m)\u001b[49m\n\u001b[1;32m     11\u001b[0m \u001b[43m        \u001b[49m\u001b[43m]\u001b[49m\u001b[43m \u001b[49m\n\u001b[1;32m     12\u001b[0m \u001b[43m    \u001b[49m\u001b[43m)\u001b[49m\n",
      "File \u001b[0;32m~/CurrentProjects/pi_projects/self-driving/remote-control-car-1/venv/lib/python3.10/site-packages/keras/src/utils/traceback_utils.py:122\u001b[0m, in \u001b[0;36mfilter_traceback.<locals>.error_handler\u001b[0;34m(*args, **kwargs)\u001b[0m\n\u001b[1;32m    119\u001b[0m     filtered_tb \u001b[38;5;241m=\u001b[39m _process_traceback_frames(e\u001b[38;5;241m.\u001b[39m__traceback__)\n\u001b[1;32m    120\u001b[0m     \u001b[38;5;66;03m# To get the full stack trace, call:\u001b[39;00m\n\u001b[1;32m    121\u001b[0m     \u001b[38;5;66;03m# `keras.config.disable_traceback_filtering()`\u001b[39;00m\n\u001b[0;32m--> 122\u001b[0m     \u001b[38;5;28;01mraise\u001b[39;00m e\u001b[38;5;241m.\u001b[39mwith_traceback(filtered_tb) \u001b[38;5;28;01mfrom\u001b[39;00m \u001b[38;5;28;01mNone\u001b[39;00m\n\u001b[1;32m    123\u001b[0m \u001b[38;5;28;01mfinally\u001b[39;00m:\n\u001b[1;32m    124\u001b[0m     \u001b[38;5;28;01mdel\u001b[39;00m filtered_tb\n",
      "File \u001b[0;32m~/CurrentProjects/pi_projects/self-driving/remote-control-car-1/venv/lib/python3.10/site-packages/tensorflow/python/framework/constant_op.py:108\u001b[0m, in \u001b[0;36mconvert_to_eager_tensor\u001b[0;34m(value, ctx, dtype)\u001b[0m\n\u001b[1;32m    106\u001b[0m     dtype \u001b[38;5;241m=\u001b[39m dtypes\u001b[38;5;241m.\u001b[39mas_dtype(dtype)\u001b[38;5;241m.\u001b[39mas_datatype_enum\n\u001b[1;32m    107\u001b[0m ctx\u001b[38;5;241m.\u001b[39mensure_initialized()\n\u001b[0;32m--> 108\u001b[0m \u001b[38;5;28;01mreturn\u001b[39;00m \u001b[43mops\u001b[49m\u001b[38;5;241;43m.\u001b[39;49m\u001b[43mEagerTensor\u001b[49m\u001b[43m(\u001b[49m\u001b[43mvalue\u001b[49m\u001b[43m,\u001b[49m\u001b[43m \u001b[49m\u001b[43mctx\u001b[49m\u001b[38;5;241;43m.\u001b[39;49m\u001b[43mdevice_name\u001b[49m\u001b[43m,\u001b[49m\u001b[43m \u001b[49m\u001b[43mdtype\u001b[49m\u001b[43m)\u001b[49m\n",
      "\u001b[0;31mInternalError\u001b[0m: Failed copying input tensor from /job:localhost/replica:0/task:0/device:CPU:0 to /job:localhost/replica:0/task:0/device:GPU:0 in order to run _EagerConst: Dst tensor is not initialized."
     ]
    }
   ],
   "source": [
    "model = get_model(1e-4)\n",
    "model.fit(\n",
    "    train_x,\n",
    "    train_y,\n",
    "    epochs=1000, \n",
    "    validation_data = (val_x, val_y),\n",
    "    callbacks=[\n",
    "        tf.keras.callbacks.EarlyStopping(monitor='val_loss', patience=10),\n",
    "        use_tensorboard('training'), \n",
    "        end_epoch_notify()\n",
    "        ] \n",
    "    )"
   ]
  },
  {
   "cell_type": "code",
   "execution_count": null,
   "metadata": {},
   "outputs": [],
   "source": [
    "#frames_reindexed#, other_inputs_reindexed, outputs"
   ]
  },
  {
   "cell_type": "markdown",
   "metadata": {},
   "source": [
    "# visualise the performance"
   ]
  },
  {
   "cell_type": "code",
   "execution_count": null,
   "metadata": {},
   "outputs": [],
   "source": [
    "\n",
    "#train_frames, train_other, train_out\n",
    "val_idxv = np.sort(val_idx)\n",
    "train_idxv = np.sort(train_idx)\n",
    "\n",
    "val_y_pred = model.predict(x[val_idxv], batch_size=64)\n",
    "train_y_pred = model.predict(x[train_idxv], batch_size=64)\n",
    "\n",
    "\n",
    "val_outv = y[val_idxv]\n",
    "train_outv = y[train_idxv]\n",
    "\n",
    "\n",
    "\n",
    "px.line(np.c_[train_outv[:, 2], train_y_pred[:, 2]]*np.pi, title='train')"
   ]
  },
  {
   "cell_type": "code",
   "execution_count": null,
   "metadata": {},
   "outputs": [],
   "source": [
    "px.line(np.c_[val_outv[:,  2], val_y_pred[:,  2]]*np.pi, title='val_train')"
   ]
  },
  {
   "cell_type": "code",
   "execution_count": null,
   "metadata": {},
   "outputs": [],
   "source": [
    "#model.export('29Jun-export.keras')\n",
    "model.save('model3-10Jul.keras')\n"
   ]
  },
  {
   "cell_type": "code",
   "execution_count": null,
   "metadata": {},
   "outputs": [],
   "source": [
    "assert False, \"sessions_v0 is now included in the training data\"\n",
    "\n",
    "x_val2, y_val2 = stack_samples(sessions_v0)\n",
    "\n",
    "y_val2_pred = model.predict(x_val2, batch_size=64)\n"
   ]
  },
  {
   "cell_type": "code",
   "execution_count": null,
   "metadata": {},
   "outputs": [],
   "source": [
    "px.line(np.c_[y_val2[:, 1], y_val2_pred[:, 1]]*np.pi, title='val2')"
   ]
  }
 ],
 "metadata": {
  "kernelspec": {
   "display_name": "Python 3 (ipykernel)",
   "language": "python",
   "name": "python3"
  },
  "language_info": {
   "codemirror_mode": {
    "name": "ipython",
    "version": 3
   },
   "file_extension": ".py",
   "mimetype": "text/x-python",
   "name": "python",
   "nbconvert_exporter": "python",
   "pygments_lexer": "ipython3",
   "version": "3.10.12"
  }
 },
 "nbformat": 4,
 "nbformat_minor": 4
}
