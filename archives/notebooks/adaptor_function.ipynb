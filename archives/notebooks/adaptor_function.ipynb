{
 "cells": [
  {
   "cell_type": "code",
   "execution_count": 1,
   "id": "25708f18-3abc-43a5-836f-ffe5fa5c6cd6",
   "metadata": {},
   "outputs": [
    {
     "name": "stderr",
     "output_type": "stream",
     "text": [
      "/tmp/ipykernel_4722/582279248.py:4: DeprecationWarning: \n",
      "Pyarrow will become a required dependency of pandas in the next major release of pandas (pandas 3.0),\n",
      "(to allow more performant data types, such as the Arrow string type, and better interoperability with other libraries)\n",
      "but was not found to be installed on your system.\n",
      "If this would cause problems for you,\n",
      "please provide us feedback at https://github.com/pandas-dev/pandas/issues/54466\n",
      "        \n",
      "  import pandas as pd\n"
     ]
    }
   ],
   "source": [
    "from typing import List, Dict, Literal, Union\n",
    "import datetime, time \n",
    "import numpy as np \n",
    "import pandas as pd\n",
    "import RPi.GPIO as GPIO\n",
    "from multiprocessing import Pipe, Process\n",
    "from multiprocessing.connection import Connection\n",
    "\n",
    "from data_collection import Logger, LoggerSet\n",
    "\n",
    "from components.two_wheels import TwoWheels, speed_proportion_control\n",
    "from components.ir_sensor import IRreciever, code2command\n",
    "\n",
    "from components.camera import Camera"
   ]
  },
  {
   "cell_type": "code",
   "execution_count": 2,
   "id": "11675079-df59-4fb3-82c2-a90e8aabe3d1",
   "metadata": {},
   "outputs": [],
   "source": [
    "code2command = {\n",
    "    16769055: 'V-',   \n",
    "    16754775: 'V+',\n",
    "    16720605: 'L+',   # R Wheel speed up = steer left\n",
    "    16712445: 'R+',  \n",
    "    16761405: 'LR',\n",
    "    16748655: 'stop',\n",
    "}\n",
    "\n",
    "def get_ir_2wheels_adaptor():\n",
    "    data = {}\n",
    "    data['speed'] = 0\n",
    "    data['proportion'] = 0.5 # left = proportion * speed\n",
    "\n",
    "    def step(command):\n",
    "        \n",
    "        if command == 'stop':\n",
    "            data['speed'] = 0\n",
    "            \n",
    "        elif command == 'L+':\n",
    "            data['proportion'] -= 0.05\n",
    "        \n",
    "        elif command == 'R+':\n",
    "            data['proportion'] += 0.05        \n",
    "        \n",
    "        elif command == 'V+':\n",
    "            data['speed'] += 10    \n",
    "            \n",
    "        elif command == 'V-':\n",
    "            data['speed'] -= 5       \n",
    "        elif command == 'LR':\n",
    "            data['proportion'] = 0.5       \n",
    "        else: \n",
    "            pass\n",
    "\n",
    "        left, right, warnings = speed_proportion_control(data['proportion'], data['speed'])\n",
    "        return left, right\n",
    "    return step"
   ]
  },
  {
   "cell_type": "code",
   "execution_count": 3,
   "id": "1032f44b-9b58-4cbd-9065-cd2dfdac233c",
   "metadata": {
    "scrolled": true
   },
   "outputs": [
    {
     "name": "stderr",
     "output_type": "stream",
     "text": [
      "/home/kawa/projects/car1/src/components/two_wheels.py:12: RuntimeWarning: This channel is already in use, continuing anyway.  Use GPIO.setwarnings(False) to disable warnings.\n",
      "  GPIO.setup(pin, GPIO.OUT)\n",
      "Process Process-2:\n",
      "  File \"/usr/lib/python3.9/multiprocessing/process.py\", line 315, in _bootstrap\n",
      "    self.run()\n",
      "Process Process-1:\n",
      "Traceback (most recent call last):\n",
      "Traceback (most recent call last):\n",
      "  File \"/home/kawa/projects/car1/src/components/two_wheels.py\", line 64, in main\n",
      "    time.sleep(0.1)\n",
      "  File \"/usr/lib/python3.9/multiprocessing/process.py\", line 108, in run\n",
      "    self._target(*self._args, **self._kwargs)\n",
      "  File \"/usr/lib/python3.9/multiprocessing/process.py\", line 315, in _bootstrap\n",
      "    self.run()\n",
      "  File \"/usr/lib/python3.9/multiprocessing/process.py\", line 108, in run\n",
      "    self._target(*self._args, **self._kwargs)\n",
      "KeyboardInterrupt\n",
      "  File \"/home/kawa/projects/car1/src/components/ir_sensor.py\", line 81, in main\n",
      "    command = component.poll_as_command()\n",
      "  File \"/home/kawa/projects/car1/src/components/ir_sensor.py\", line 69, in poll_as_command\n",
      "    code = self.poll()\n",
      "  File \"/home/kawa/projects/car1/src/components/ir_sensor.py\", line 58, in poll\n",
      "    sig = trigger_read(self.pin, self.n_sample, interval=self.interval)\n",
      "  File \"/home/kawa/projects/car1/src/components/ir_sensor.py\", line 108, in trigger_read\n",
      "    while GPIO.input(pin):\n",
      "KeyboardInterrupt\n",
      "Process Process-3:\n",
      "Traceback (most recent call last):\n",
      "  File \"/usr/lib/python3.9/multiprocessing/process.py\", line 315, in _bootstrap\n",
      "    self.run()\n",
      "  File \"/usr/lib/python3.9/multiprocessing/process.py\", line 108, in run\n",
      "    self._target(*self._args, **self._kwargs)\n",
      "  File \"/home/kawa/projects/car1/src/components/camera.py\", line 26, in main\n",
      "    logger.increment_idx()\n",
      "  File \"/home/kawa/projects/car1/src/data_collection.py\", line 73, in increment_idx\n",
      "    self.set_idx(self.idx + 1)\n",
      "  File \"/home/kawa/projects/car1/src/data_collection.py\", line 67, in set_idx\n",
      "    self.log('time', datetime.datetime.now())\n",
      "  File \"/home/kawa/projects/car1/src/data_collection.py\", line 87, in log\n",
      "    self.save()\n",
      "  File \"/home/kawa/projects/car1/src/data_collection.py\", line 92, in save\n",
      "    pickle.dump(self.records, fp, pickle.HIGHEST_PROTOCOL)\n",
      "KeyboardInterrupt\n"
     ]
    }
   ],
   "source": [
    "logger_set = LoggerSet('../log/temp', True)\n",
    "\n",
    "ir_p, ir_out = IRreciever.start(8, code2command, logger_set, name='IR', save_interval=30)\n",
    "wheels_p, wheels_in = TwoWheels.start(33, 32, logger_set, name='Wheels', save_interval=30)\n",
    "adaptor = get_ir_2wheels_adaptor()\n",
    "cam_p = Camera.start(0, logger_set, name='camera', save_interval=30)"
   ]
  },
  {
   "cell_type": "code",
   "execution_count": 4,
   "id": "90f4ae00-9a97-4243-8637-f74073b1f54b",
   "metadata": {},
   "outputs": [
    {
     "ename": "KeyboardInterrupt",
     "evalue": "",
     "output_type": "error",
     "traceback": [
      "\u001b[0;31m---------------------------------------------------------------------------\u001b[0m",
      "\u001b[0;31mKeyboardInterrupt\u001b[0m                         Traceback (most recent call last)",
      "Cell \u001b[0;32mIn[4], line 9\u001b[0m\n\u001b[1;32m      5\u001b[0m         left, right \u001b[38;5;241m=\u001b[39m adaptor(command)\n\u001b[1;32m      7\u001b[0m         wheels_in\u001b[38;5;241m.\u001b[39msend((left, right))\n\u001b[0;32m----> 9\u001b[0m \u001b[43mmain\u001b[49m\u001b[43m(\u001b[49m\u001b[43m)\u001b[49m\n",
      "Cell \u001b[0;32mIn[4], line 4\u001b[0m, in \u001b[0;36mmain\u001b[0;34m()\u001b[0m\n\u001b[1;32m      1\u001b[0m \u001b[38;5;28;01mdef\u001b[39;00m \u001b[38;5;21mmain\u001b[39m():\n\u001b[1;32m      3\u001b[0m     \u001b[38;5;28;01mwhile\u001b[39;00m \u001b[38;5;28;01mTrue\u001b[39;00m: \n\u001b[0;32m----> 4\u001b[0m         command \u001b[38;5;241m=\u001b[39m \u001b[43mir_out\u001b[49m\u001b[38;5;241;43m.\u001b[39;49m\u001b[43mrecv\u001b[49m\u001b[43m(\u001b[49m\u001b[43m)\u001b[49m\n\u001b[1;32m      5\u001b[0m         left, right \u001b[38;5;241m=\u001b[39m adaptor(command)\n\u001b[1;32m      7\u001b[0m         wheels_in\u001b[38;5;241m.\u001b[39msend((left, right))\n",
      "File \u001b[0;32m/usr/lib/python3.9/multiprocessing/connection.py:255\u001b[0m, in \u001b[0;36m_ConnectionBase.recv\u001b[0;34m(self)\u001b[0m\n\u001b[1;32m    253\u001b[0m \u001b[38;5;28mself\u001b[39m\u001b[38;5;241m.\u001b[39m_check_closed()\n\u001b[1;32m    254\u001b[0m \u001b[38;5;28mself\u001b[39m\u001b[38;5;241m.\u001b[39m_check_readable()\n\u001b[0;32m--> 255\u001b[0m buf \u001b[38;5;241m=\u001b[39m \u001b[38;5;28;43mself\u001b[39;49m\u001b[38;5;241;43m.\u001b[39;49m\u001b[43m_recv_bytes\u001b[49m\u001b[43m(\u001b[49m\u001b[43m)\u001b[49m\n\u001b[1;32m    256\u001b[0m \u001b[38;5;28;01mreturn\u001b[39;00m _ForkingPickler\u001b[38;5;241m.\u001b[39mloads(buf\u001b[38;5;241m.\u001b[39mgetbuffer())\n",
      "File \u001b[0;32m/usr/lib/python3.9/multiprocessing/connection.py:419\u001b[0m, in \u001b[0;36mConnection._recv_bytes\u001b[0;34m(self, maxsize)\u001b[0m\n\u001b[1;32m    418\u001b[0m \u001b[38;5;28;01mdef\u001b[39;00m \u001b[38;5;21m_recv_bytes\u001b[39m(\u001b[38;5;28mself\u001b[39m, maxsize\u001b[38;5;241m=\u001b[39m\u001b[38;5;28;01mNone\u001b[39;00m):\n\u001b[0;32m--> 419\u001b[0m     buf \u001b[38;5;241m=\u001b[39m \u001b[38;5;28;43mself\u001b[39;49m\u001b[38;5;241;43m.\u001b[39;49m\u001b[43m_recv\u001b[49m\u001b[43m(\u001b[49m\u001b[38;5;241;43m4\u001b[39;49m\u001b[43m)\u001b[49m\n\u001b[1;32m    420\u001b[0m     size, \u001b[38;5;241m=\u001b[39m struct\u001b[38;5;241m.\u001b[39munpack(\u001b[38;5;124m\"\u001b[39m\u001b[38;5;124m!i\u001b[39m\u001b[38;5;124m\"\u001b[39m, buf\u001b[38;5;241m.\u001b[39mgetvalue())\n\u001b[1;32m    421\u001b[0m     \u001b[38;5;28;01mif\u001b[39;00m size \u001b[38;5;241m==\u001b[39m \u001b[38;5;241m-\u001b[39m\u001b[38;5;241m1\u001b[39m:\n",
      "File \u001b[0;32m/usr/lib/python3.9/multiprocessing/connection.py:384\u001b[0m, in \u001b[0;36mConnection._recv\u001b[0;34m(self, size, read)\u001b[0m\n\u001b[1;32m    382\u001b[0m remaining \u001b[38;5;241m=\u001b[39m size\n\u001b[1;32m    383\u001b[0m \u001b[38;5;28;01mwhile\u001b[39;00m remaining \u001b[38;5;241m>\u001b[39m \u001b[38;5;241m0\u001b[39m:\n\u001b[0;32m--> 384\u001b[0m     chunk \u001b[38;5;241m=\u001b[39m \u001b[43mread\u001b[49m\u001b[43m(\u001b[49m\u001b[43mhandle\u001b[49m\u001b[43m,\u001b[49m\u001b[43m \u001b[49m\u001b[43mremaining\u001b[49m\u001b[43m)\u001b[49m\n\u001b[1;32m    385\u001b[0m     n \u001b[38;5;241m=\u001b[39m \u001b[38;5;28mlen\u001b[39m(chunk)\n\u001b[1;32m    386\u001b[0m     \u001b[38;5;28;01mif\u001b[39;00m n \u001b[38;5;241m==\u001b[39m \u001b[38;5;241m0\u001b[39m:\n",
      "\u001b[0;31mKeyboardInterrupt\u001b[0m: "
     ]
    }
   ],
   "source": [
    "def main():\n",
    "\n",
    "    while True: \n",
    "        command = ir_out.recv()\n",
    "        left, right = adaptor(command)\n",
    "        \n",
    "        wheels_in.send((left, right))\n",
    "            \n",
    "main()\n",
    "    "
   ]
  },
  {
   "cell_type": "code",
   "execution_count": null,
   "id": "f8c74303-0f79-49c5-b0a3-13a876eb9e60",
   "metadata": {},
   "outputs": [],
   "source": []
  }
 ],
 "metadata": {
  "kernelspec": {
   "display_name": "Python 3 (ipykernel)",
   "language": "python",
   "name": "python3"
  },
  "language_info": {
   "codemirror_mode": {
    "name": "ipython",
    "version": 3
   },
   "file_extension": ".py",
   "mimetype": "text/x-python",
   "name": "python",
   "nbconvert_exporter": "python",
   "pygments_lexer": "ipython3",
   "version": "3.9.2"
  }
 },
 "nbformat": 4,
 "nbformat_minor": 5
}
