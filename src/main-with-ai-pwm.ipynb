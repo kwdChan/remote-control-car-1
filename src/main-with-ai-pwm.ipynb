{
 "cells": [
  {
   "cell_type": "code",
   "execution_count": 1,
   "metadata": {},
   "outputs": [],
   "source": [
    "\n",
    "from typing import Callable, Tuple, TypeVar, cast, get_origin, get_args, Union, Any, Optional, Dict, List\n",
    "from components import CallChannel, ComponentStarter, numpy_sample_setup\n",
    "from utils import mon_samples\n",
    "from components import (\n",
    "    TwoWheelsV3, LoggerComponent, \n",
    "    BlueToothCarControlSPP_V2, start_bluetooth_server_v2, \n",
    "    AngularSpeedControlV3, \n",
    "    Picamera2V2,\n",
    "    ImageMLControllerV4\n",
    ")\n",
    "from components.syncronisation import get_switches\n",
    "from data_collection.data_collection import LoggerSet\n",
    "import numpy as np\n",
    "import datetime\n",
    "from multiprocessing import Manager\n",
    "\n",
    "import RPi.GPIO as GPIO\n",
    "GPIO.setmode(GPIO.BOARD)\n",
    "\n",
    "# from components import numpy_sample_setup\n",
    "# r, w = numpy_sample_setup(['d', 'd'], [0, 0])\n",
    "\n",
    "%load_ext autoreload\n",
    "%autoreload 2"
   ]
  },
  {
   "cell_type": "code",
   "execution_count": 2,
   "metadata": {},
   "outputs": [],
   "source": [
    "loggerset = LoggerSet('../log/testsession'+str(datetime.datetime.now()), overwrite_ok=False)\n",
    "manager = Manager()"
   ]
  },
  {
   "cell_type": "code",
   "execution_count": 3,
   "metadata": {},
   "outputs": [],
   "source": [
    "import tensorflow.keras as keras # type: ignore \n",
    "\n",
    "\n",
    "def get_model():\n",
    "    model_path = './training/11Jun/29Jun-save.keras'\n",
    "    ml_model = keras.models.load_model(model_path) \n",
    "    def model(arr, values: List[Dict]):\n",
    "        if len(values):\n",
    "            #np.stack([v['acc'] for v in values], axis=-1).mean(-1) # the frames only last for 50ms but the model run interval is around 200ms\n",
    "            # which is, by the way, longer than the prediction delay, which is 100ms\n",
    "            other_values = np.r_[values[-1]['acc'], 100]\n",
    "        else:\n",
    "            print('no values')\n",
    "            other_values = np.r_[0, 0, 0, 100]\n",
    "\n",
    "        \n",
    "        out = ml_model([arr[None, :], other_values[None, :]/10])[0]\n",
    "        out *= 100\n",
    "\n",
    "        out = out.numpy()\n",
    "\n",
    "        return out[0], out[1]\n",
    "    return model\n",
    "\n",
    "ml = ComponentStarter(\n",
    "    ImageMLControllerV4, \n",
    "    manager, \n",
    "    init_kwargs=dict(\n",
    "        func = get_model, \n",
    "        name='ImageMLControllerV4'\n",
    "    )\n",
    ")"
   ]
  },
  {
   "cell_type": "code",
   "execution_count": 4,
   "metadata": {},
   "outputs": [
    {
     "name": "stdout",
     "output_type": "stream",
     "text": [
      "Starting Serial Port Profile...\n"
     ]
    },
    {
     "name": "stdout",
     "output_type": "stream",
     "text": [
      "NewConnection(/org/bluez/hci0/dev_C8_BD_4D_BA_4F_15, 89)\n"
     ]
    }
   ],
   "source": [
    "logger_starter = ComponentStarter(\n",
    "    LoggerComponent, \n",
    "    manager, \n",
    "    init_kwargs=dict(\n",
    "        loggerset = loggerset\n",
    "    ),\n",
    "    loop_intervals={'step': 1/100},\n",
    ")\n",
    "\n",
    "two_wheel_starter = ComponentStarter(\n",
    "    TwoWheelsV3, \n",
    "    manager, \n",
    "    init_kwargs=dict(\n",
    "        left_pin = 33, \n",
    "        right_pin = 32, \n",
    "        dir_pins = (16, 18), \n",
    "        name='TwoWheelsV3'\n",
    "    ),\n",
    "    loop_intervals={'step': 1/100},\n",
    "    instantiator = TwoWheelsV3.entry\n",
    "\n",
    ")\n",
    "\n",
    "angular_speed_control_starter = ComponentStarter(\n",
    "    AngularSpeedControlV3, \n",
    "    manager, \n",
    "    init_kwargs=dict(\n",
    "        i2c_address=0x68, \n",
    "        bus_num=1,\n",
    "        name='AngularSpeedControlV3'\n",
    "    ),\n",
    "    loop_intervals={'step': 1/100},\n",
    "    instantiator = AngularSpeedControlV3.entry\n",
    ")\n",
    "\n",
    "bluetooth_control_starter = ComponentStarter(\n",
    "    BlueToothCarControlSPP_V2, \n",
    "    manager, \n",
    "    init_kwargs={},\n",
    "    loop_intervals={'step': 1/100},\n",
    ")\n",
    "\n",
    "bt_ser_out, bt_ser = start_bluetooth_server_v2(manager)\n",
    "\n",
    "picamera_starter = ComponentStarter(\n",
    "    Picamera2V2, \n",
    "    manager, \n",
    "    init_kwargs=dict(\n",
    "        resolution=(114, 64), \n",
    "        framerate=30,\n",
    "        name='Picamera2V2'\n",
    "    ),\n",
    "    loop_intervals={'step': 1/30},\n",
    "    sample_setup_kwargs=dict(default_values=[np.zeros((64, 114, 3), dtype=np.uint8)])\n",
    ")"
   ]
  },
  {
   "cell_type": "code",
   "execution_count": 5,
   "metadata": {},
   "outputs": [],
   "source": [
    "\n",
    "two_wheel_starter.register_outgoing_rpc(\n",
    "    dict(log=logger_starter.incoming_rpcs['log'])\n",
    ")\n",
    "\n",
    "angular_speed_control_starter.register_outgoing_rpc(\n",
    "    dict(\n",
    "        log=logger_starter.incoming_rpcs['log'],\n",
    "        ml_inputs = ml.incoming_rpcs['pass_values']\n",
    "        )\n",
    ")\n",
    "\n",
    "\n",
    "bluetooth_control_starter.register_outgoing_rpc(\n",
    "    dict(log=logger_starter.incoming_rpcs['log'])\n",
    ")\n",
    "\n",
    "picamera_starter.register_outgoing_rpc(\n",
    "    dict(\n",
    "        log=logger_starter.incoming_rpcs['log'],\n",
    "        setup_video_saver=logger_starter.incoming_rpcs['setup_video_saver'],\n",
    "        save_video_frame=logger_starter.incoming_rpcs['save_video_frame'],\n",
    "        notify_ml = ml.incoming_rpcs['run_model']\n",
    "        )\n",
    ")\n",
    "\n",
    "\n",
    "def get_self_drive_switch():\n",
    "    return bool(bt_ser_out[0]().get('start'))\n",
    "\n",
    "to_2wheels = get_switches(ml.outgoing_samples, angular_speed_control_starter.outgoing_samples, get_self_drive_switch)\n",
    "\n",
    "two_wheel_starter.register_incoming_samples(\n",
    "    to_2wheels\n",
    ")\n",
    "\n",
    "angular_speed_control_starter.register_incoming_samples(\n",
    "    bluetooth_control_starter.outgoing_samples\n",
    ")\n",
    "\n",
    "\n",
    "bluetooth_control_starter.register_incoming_samples(\n",
    "    bt_ser_out\n",
    ")\n",
    "\n",
    "ml.register_outgoing_rpc(\n",
    "    dict(        \n",
    "        log=logger_starter.incoming_rpcs['log'],)\n",
    ")\n",
    "\n",
    "ml.register_incoming_samples(\n",
    "    picamera_starter.outgoing_samples\n",
    ")"
   ]
  },
  {
   "cell_type": "code",
   "execution_count": 9,
   "metadata": {},
   "outputs": [
    {
     "ename": "AssertionError",
     "evalue": "already started",
     "output_type": "error",
     "traceback": [
      "\u001b[0;31m---------------------------------------------------------------------------\u001b[0m",
      "\u001b[0;31mAssertionError\u001b[0m                            Traceback (most recent call last)",
      "\u001b[1;32m/home/kawa/projects/car1/src/main-with-ai.ipynb Cell 6\u001b[0m line \u001b[0;36m1\n\u001b[0;32m----> <a href='vscode-notebook-cell://127.0.0.1:8080/home/kawa/projects/car1/src/main-with-ai.ipynb#W5sdnNjb2RlLXJlbW90ZQ%3D%3D?line=0'>1</a>\u001b[0m ml\u001b[39m.\u001b[39;49mstart()\n\u001b[1;32m      <a href='vscode-notebook-cell://127.0.0.1:8080/home/kawa/projects/car1/src/main-with-ai.ipynb#W5sdnNjb2RlLXJlbW90ZQ%3D%3D?line=1'>2</a>\u001b[0m bluetooth_control_starter\u001b[39m.\u001b[39mstart()\n\u001b[1;32m      <a href='vscode-notebook-cell://127.0.0.1:8080/home/kawa/projects/car1/src/main-with-ai.ipynb#W5sdnNjb2RlLXJlbW90ZQ%3D%3D?line=2'>3</a>\u001b[0m logger_starter\u001b[39m.\u001b[39mstart()\n",
      "File \u001b[0;32m~/projects/car1/src/components/syncronisation/__init__.py:586\u001b[0m, in \u001b[0;36mComponentStarter.start\u001b[0;34m(self)\u001b[0m\n\u001b[1;32m    585\u001b[0m \u001b[39mdef\u001b[39;00m \u001b[39mstart\u001b[39m(\u001b[39mself\u001b[39m):\n\u001b[0;32m--> 586\u001b[0m     \u001b[39massert\u001b[39;00m \u001b[39mself\u001b[39m\u001b[39m.\u001b[39mprocess \u001b[39mis\u001b[39;00m \u001b[39mNone\u001b[39;00m, \u001b[39m\"\u001b[39m\u001b[39malready started\u001b[39m\u001b[39m\"\u001b[39m\n\u001b[1;32m    587\u001b[0m     \u001b[39mself\u001b[39m\u001b[39m.\u001b[39mprocess \u001b[39m=\u001b[39m create_process(\n\u001b[1;32m    588\u001b[0m         target, \n\u001b[1;32m    589\u001b[0m         component_class\u001b[39m=\u001b[39m\u001b[39mself\u001b[39m\u001b[39m.\u001b[39m__component_class,\n\u001b[0;32m   (...)\u001b[0m\n\u001b[1;32m    596\u001b[0m         init_kwargs\u001b[39m=\u001b[39m \u001b[39mself\u001b[39m\u001b[39m.\u001b[39m__init_kwargs\n\u001b[1;32m    597\u001b[0m         )\n\u001b[1;32m    598\u001b[0m     \u001b[39mself\u001b[39m\u001b[39m.\u001b[39mprocess\u001b[39m.\u001b[39mstart()\n",
      "\u001b[0;31mAssertionError\u001b[0m: already started"
     ]
    }
   ],
   "source": [
    "ml.start()\n",
    "bluetooth_control_starter.start()\n",
    "logger_starter.start()\n",
    "two_wheel_starter.start()\n",
    "angular_speed_control_starter.start()\n",
    "picamera_starter.start()"
   ]
  },
  {
   "cell_type": "code",
   "execution_count": 7,
   "metadata": {},
   "outputs": [
    {
     "data": {
      "text/plain": [
       "<Semaphore(value=54)>"
      ]
     },
     "execution_count": 7,
     "metadata": {},
     "output_type": "execute_result"
    }
   ],
   "source": [
    "ml.incoming_rpcs['run_model'].call_semaphore"
   ]
  },
  {
   "cell_type": "code",
   "execution_count": 23,
   "metadata": {},
   "outputs": [
    {
     "data": {
      "text/plain": [
       "<Semaphore(value=0)>"
      ]
     },
     "execution_count": 23,
     "metadata": {},
     "output_type": "execute_result"
    }
   ],
   "source": [
    "ml.incoming_rpcs['pass_values'].call_semaphore"
   ]
  },
  {
   "cell_type": "code",
   "execution_count": 10,
   "metadata": {},
   "outputs": [
    {
     "name": "stdout",
     "output_type": "stream",
     "text": [
      "54.595970153808594, 44.75169372558594            \r"
     ]
    },
    {
     "ename": "KeyboardInterrupt",
     "evalue": "",
     "output_type": "error",
     "traceback": [
      "\u001b[0;31m---------------------------------------------------------------------------\u001b[0m",
      "\u001b[0;31mKeyboardInterrupt\u001b[0m                         Traceback (most recent call last)",
      "\u001b[1;32m/home/kawa/projects/car1/src/main-with-ai.ipynb Cell 9\u001b[0m line \u001b[0;36m1\n\u001b[0;32m----> <a href='vscode-notebook-cell://127.0.0.1:8080/home/kawa/projects/car1/src/main-with-ai.ipynb#X11sdnNjb2RlLXJlbW90ZQ%3D%3D?line=0'>1</a>\u001b[0m mon_samples(ml\u001b[39m.\u001b[39;49moutgoing_samples)\n",
      "File \u001b[0;32m~/projects/car1/src/utils.py:25\u001b[0m, in \u001b[0;36mmon_samples\u001b[0;34m(samples, interval)\u001b[0m\n\u001b[1;32m     23\u001b[0m     line \u001b[39m=\u001b[39m line \u001b[39m+\u001b[39m \u001b[39mstr\u001b[39m(s()) \u001b[39m+\u001b[39m \u001b[39m'\u001b[39m\u001b[39m, \u001b[39m\u001b[39m'\u001b[39m\n\u001b[1;32m     24\u001b[0m \u001b[39mprint\u001b[39m(line[:\u001b[39m-\u001b[39m\u001b[39m2\u001b[39m], end\u001b[39m=\u001b[39m\u001b[39m'\u001b[39m\u001b[39m           \u001b[39m\u001b[39m\\r\u001b[39;00m\u001b[39m'\u001b[39m)\n\u001b[0;32m---> 25\u001b[0m time\u001b[39m.\u001b[39msleep(interval)\n",
      "\u001b[0;31mKeyboardInterrupt\u001b[0m: "
     ]
    }
   ],
   "source": [
    "\n",
    "mon_samples(ml.outgoing_samples)"
   ]
  },
  {
   "cell_type": "code",
   "execution_count": 34,
   "metadata": {},
   "outputs": [
    {
     "data": {
      "text/plain": [
       "[<function components.syncronisation.shared_value_v2.<locals>.reader()>,\n",
       " <function components.syncronisation.shared_value_v2.<locals>.reader()>]"
      ]
     },
     "execution_count": 34,
     "metadata": {},
     "output_type": "execute_result"
    }
   ],
   "source": [
    "ml.outgoing_samples"
   ]
  },
  {
   "cell_type": "code",
   "execution_count": 18,
   "metadata": {},
   "outputs": [],
   "source": [
    "bt_ser.terminate()\n",
    "bluetooth_control_starter.process.terminate()\n",
    "two_wheel_starter.process.terminate()\n",
    "angular_speed_control_starter.process.terminate()\n",
    "picamera_starter.process.terminate()\n",
    "ml.process.terminate()\n",
    "#logger_starter.process.terminate()\n"
   ]
  },
  {
   "cell_type": "code",
   "execution_count": 8,
   "metadata": {},
   "outputs": [
    {
     "data": {
      "application/vnd.plotly.v1+json": {
       "config": {
        "plotlyServerURL": "https://plot.ly"
       },
       "data": [
        {
         "hovertemplate": "x: %{x}<br>y: %{y}<br>color: [%{z[0]}, %{z[1]}, %{z[2]}]<extra></extra>",
         "name": "0",
         "source": "data:image/png;base64,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",
         "type": "image",
         "xaxis": "x",
         "yaxis": "y"
        }
       ],
       "layout": {
        "margin": {
         "t": 60
        },
        "template": {
         "data": {
          "bar": [
           {
            "error_x": {
             "color": "#2a3f5f"
            },
            "error_y": {
             "color": "#2a3f5f"
            },
            "marker": {
             "line": {
              "color": "#E5ECF6",
              "width": 0.5
             },
             "pattern": {
              "fillmode": "overlay",
              "size": 10,
              "solidity": 0.2
             }
            },
            "type": "bar"
           }
          ],
          "barpolar": [
           {
            "marker": {
             "line": {
              "color": "#E5ECF6",
              "width": 0.5
             },
             "pattern": {
              "fillmode": "overlay",
              "size": 10,
              "solidity": 0.2
             }
            },
            "type": "barpolar"
           }
          ],
          "carpet": [
           {
            "aaxis": {
             "endlinecolor": "#2a3f5f",
             "gridcolor": "white",
             "linecolor": "white",
             "minorgridcolor": "white",
             "startlinecolor": "#2a3f5f"
            },
            "baxis": {
             "endlinecolor": "#2a3f5f",
             "gridcolor": "white",
             "linecolor": "white",
             "minorgridcolor": "white",
             "startlinecolor": "#2a3f5f"
            },
            "type": "carpet"
           }
          ],
          "choropleth": [
           {
            "colorbar": {
             "outlinewidth": 0,
             "ticks": ""
            },
            "type": "choropleth"
           }
          ],
          "contour": [
           {
            "colorbar": {
             "outlinewidth": 0,
             "ticks": ""
            },
            "colorscale": [
             [
              0,
              "#0d0887"
             ],
             [
              0.1111111111111111,
              "#46039f"
             ],
             [
              0.2222222222222222,
              "#7201a8"
             ],
             [
              0.3333333333333333,
              "#9c179e"
             ],
             [
              0.4444444444444444,
              "#bd3786"
             ],
             [
              0.5555555555555556,
              "#d8576b"
             ],
             [
              0.6666666666666666,
              "#ed7953"
             ],
             [
              0.7777777777777778,
              "#fb9f3a"
             ],
             [
              0.8888888888888888,
              "#fdca26"
             ],
             [
              1,
              "#f0f921"
             ]
            ],
            "type": "contour"
           }
          ],
          "contourcarpet": [
           {
            "colorbar": {
             "outlinewidth": 0,
             "ticks": ""
            },
            "type": "contourcarpet"
           }
          ],
          "heatmap": [
           {
            "colorbar": {
             "outlinewidth": 0,
             "ticks": ""
            },
            "colorscale": [
             [
              0,
              "#0d0887"
             ],
             [
              0.1111111111111111,
              "#46039f"
             ],
             [
              0.2222222222222222,
              "#7201a8"
             ],
             [
              0.3333333333333333,
              "#9c179e"
             ],
             [
              0.4444444444444444,
              "#bd3786"
             ],
             [
              0.5555555555555556,
              "#d8576b"
             ],
             [
              0.6666666666666666,
              "#ed7953"
             ],
             [
              0.7777777777777778,
              "#fb9f3a"
             ],
             [
              0.8888888888888888,
              "#fdca26"
             ],
             [
              1,
              "#f0f921"
             ]
            ],
            "type": "heatmap"
           }
          ],
          "heatmapgl": [
           {
            "colorbar": {
             "outlinewidth": 0,
             "ticks": ""
            },
            "colorscale": [
             [
              0,
              "#0d0887"
             ],
             [
              0.1111111111111111,
              "#46039f"
             ],
             [
              0.2222222222222222,
              "#7201a8"
             ],
             [
              0.3333333333333333,
              "#9c179e"
             ],
             [
              0.4444444444444444,
              "#bd3786"
             ],
             [
              0.5555555555555556,
              "#d8576b"
             ],
             [
              0.6666666666666666,
              "#ed7953"
             ],
             [
              0.7777777777777778,
              "#fb9f3a"
             ],
             [
              0.8888888888888888,
              "#fdca26"
             ],
             [
              1,
              "#f0f921"
             ]
            ],
            "type": "heatmapgl"
           }
          ],
          "histogram": [
           {
            "marker": {
             "pattern": {
              "fillmode": "overlay",
              "size": 10,
              "solidity": 0.2
             }
            },
            "type": "histogram"
           }
          ],
          "histogram2d": [
           {
            "colorbar": {
             "outlinewidth": 0,
             "ticks": ""
            },
            "colorscale": [
             [
              0,
              "#0d0887"
             ],
             [
              0.1111111111111111,
              "#46039f"
             ],
             [
              0.2222222222222222,
              "#7201a8"
             ],
             [
              0.3333333333333333,
              "#9c179e"
             ],
             [
              0.4444444444444444,
              "#bd3786"
             ],
             [
              0.5555555555555556,
              "#d8576b"
             ],
             [
              0.6666666666666666,
              "#ed7953"
             ],
             [
              0.7777777777777778,
              "#fb9f3a"
             ],
             [
              0.8888888888888888,
              "#fdca26"
             ],
             [
              1,
              "#f0f921"
             ]
            ],
            "type": "histogram2d"
           }
          ],
          "histogram2dcontour": [
           {
            "colorbar": {
             "outlinewidth": 0,
             "ticks": ""
            },
            "colorscale": [
             [
              0,
              "#0d0887"
             ],
             [
              0.1111111111111111,
              "#46039f"
             ],
             [
              0.2222222222222222,
              "#7201a8"
             ],
             [
              0.3333333333333333,
              "#9c179e"
             ],
             [
              0.4444444444444444,
              "#bd3786"
             ],
             [
              0.5555555555555556,
              "#d8576b"
             ],
             [
              0.6666666666666666,
              "#ed7953"
             ],
             [
              0.7777777777777778,
              "#fb9f3a"
             ],
             [
              0.8888888888888888,
              "#fdca26"
             ],
             [
              1,
              "#f0f921"
             ]
            ],
            "type": "histogram2dcontour"
           }
          ],
          "mesh3d": [
           {
            "colorbar": {
             "outlinewidth": 0,
             "ticks": ""
            },
            "type": "mesh3d"
           }
          ],
          "parcoords": [
           {
            "line": {
             "colorbar": {
              "outlinewidth": 0,
              "ticks": ""
             }
            },
            "type": "parcoords"
           }
          ],
          "pie": [
           {
            "automargin": true,
            "type": "pie"
           }
          ],
          "scatter": [
           {
            "fillpattern": {
             "fillmode": "overlay",
             "size": 10,
             "solidity": 0.2
            },
            "type": "scatter"
           }
          ],
          "scatter3d": [
           {
            "line": {
             "colorbar": {
              "outlinewidth": 0,
              "ticks": ""
             }
            },
            "marker": {
             "colorbar": {
              "outlinewidth": 0,
              "ticks": ""
             }
            },
            "type": "scatter3d"
           }
          ],
          "scattercarpet": [
           {
            "marker": {
             "colorbar": {
              "outlinewidth": 0,
              "ticks": ""
             }
            },
            "type": "scattercarpet"
           }
          ],
          "scattergeo": [
           {
            "marker": {
             "colorbar": {
              "outlinewidth": 0,
              "ticks": ""
             }
            },
            "type": "scattergeo"
           }
          ],
          "scattergl": [
           {
            "marker": {
             "colorbar": {
              "outlinewidth": 0,
              "ticks": ""
             }
            },
            "type": "scattergl"
           }
          ],
          "scattermapbox": [
           {
            "marker": {
             "colorbar": {
              "outlinewidth": 0,
              "ticks": ""
             }
            },
            "type": "scattermapbox"
           }
          ],
          "scatterpolar": [
           {
            "marker": {
             "colorbar": {
              "outlinewidth": 0,
              "ticks": ""
             }
            },
            "type": "scatterpolar"
           }
          ],
          "scatterpolargl": [
           {
            "marker": {
             "colorbar": {
              "outlinewidth": 0,
              "ticks": ""
             }
            },
            "type": "scatterpolargl"
           }
          ],
          "scatterternary": [
           {
            "marker": {
             "colorbar": {
              "outlinewidth": 0,
              "ticks": ""
             }
            },
            "type": "scatterternary"
           }
          ],
          "surface": [
           {
            "colorbar": {
             "outlinewidth": 0,
             "ticks": ""
            },
            "colorscale": [
             [
              0,
              "#0d0887"
             ],
             [
              0.1111111111111111,
              "#46039f"
             ],
             [
              0.2222222222222222,
              "#7201a8"
             ],
             [
              0.3333333333333333,
              "#9c179e"
             ],
             [
              0.4444444444444444,
              "#bd3786"
             ],
             [
              0.5555555555555556,
              "#d8576b"
             ],
             [
              0.6666666666666666,
              "#ed7953"
             ],
             [
              0.7777777777777778,
              "#fb9f3a"
             ],
             [
              0.8888888888888888,
              "#fdca26"
             ],
             [
              1,
              "#f0f921"
             ]
            ],
            "type": "surface"
           }
          ],
          "table": [
           {
            "cells": {
             "fill": {
              "color": "#EBF0F8"
             },
             "line": {
              "color": "white"
             }
            },
            "header": {
             "fill": {
              "color": "#C8D4E3"
             },
             "line": {
              "color": "white"
             }
            },
            "type": "table"
           }
          ]
         },
         "layout": {
          "annotationdefaults": {
           "arrowcolor": "#2a3f5f",
           "arrowhead": 0,
           "arrowwidth": 1
          },
          "autotypenumbers": "strict",
          "coloraxis": {
           "colorbar": {
            "outlinewidth": 0,
            "ticks": ""
           }
          },
          "colorscale": {
           "diverging": [
            [
             0,
             "#8e0152"
            ],
            [
             0.1,
             "#c51b7d"
            ],
            [
             0.2,
             "#de77ae"
            ],
            [
             0.3,
             "#f1b6da"
            ],
            [
             0.4,
             "#fde0ef"
            ],
            [
             0.5,
             "#f7f7f7"
            ],
            [
             0.6,
             "#e6f5d0"
            ],
            [
             0.7,
             "#b8e186"
            ],
            [
             0.8,
             "#7fbc41"
            ],
            [
             0.9,
             "#4d9221"
            ],
            [
             1,
             "#276419"
            ]
           ],
           "sequential": [
            [
             0,
             "#0d0887"
            ],
            [
             0.1111111111111111,
             "#46039f"
            ],
            [
             0.2222222222222222,
             "#7201a8"
            ],
            [
             0.3333333333333333,
             "#9c179e"
            ],
            [
             0.4444444444444444,
             "#bd3786"
            ],
            [
             0.5555555555555556,
             "#d8576b"
            ],
            [
             0.6666666666666666,
             "#ed7953"
            ],
            [
             0.7777777777777778,
             "#fb9f3a"
            ],
            [
             0.8888888888888888,
             "#fdca26"
            ],
            [
             1,
             "#f0f921"
            ]
           ],
           "sequentialminus": [
            [
             0,
             "#0d0887"
            ],
            [
             0.1111111111111111,
             "#46039f"
            ],
            [
             0.2222222222222222,
             "#7201a8"
            ],
            [
             0.3333333333333333,
             "#9c179e"
            ],
            [
             0.4444444444444444,
             "#bd3786"
            ],
            [
             0.5555555555555556,
             "#d8576b"
            ],
            [
             0.6666666666666666,
             "#ed7953"
            ],
            [
             0.7777777777777778,
             "#fb9f3a"
            ],
            [
             0.8888888888888888,
             "#fdca26"
            ],
            [
             1,
             "#f0f921"
            ]
           ]
          },
          "colorway": [
           "#636efa",
           "#EF553B",
           "#00cc96",
           "#ab63fa",
           "#FFA15A",
           "#19d3f3",
           "#FF6692",
           "#B6E880",
           "#FF97FF",
           "#FECB52"
          ],
          "font": {
           "color": "#2a3f5f"
          },
          "geo": {
           "bgcolor": "white",
           "lakecolor": "white",
           "landcolor": "#E5ECF6",
           "showlakes": true,
           "showland": true,
           "subunitcolor": "white"
          },
          "hoverlabel": {
           "align": "left"
          },
          "hovermode": "closest",
          "mapbox": {
           "style": "light"
          },
          "paper_bgcolor": "white",
          "plot_bgcolor": "#E5ECF6",
          "polar": {
           "angularaxis": {
            "gridcolor": "white",
            "linecolor": "white",
            "ticks": ""
           },
           "bgcolor": "#E5ECF6",
           "radialaxis": {
            "gridcolor": "white",
            "linecolor": "white",
            "ticks": ""
           }
          },
          "scene": {
           "xaxis": {
            "backgroundcolor": "#E5ECF6",
            "gridcolor": "white",
            "gridwidth": 2,
            "linecolor": "white",
            "showbackground": true,
            "ticks": "",
            "zerolinecolor": "white"
           },
           "yaxis": {
            "backgroundcolor": "#E5ECF6",
            "gridcolor": "white",
            "gridwidth": 2,
            "linecolor": "white",
            "showbackground": true,
            "ticks": "",
            "zerolinecolor": "white"
           },
           "zaxis": {
            "backgroundcolor": "#E5ECF6",
            "gridcolor": "white",
            "gridwidth": 2,
            "linecolor": "white",
            "showbackground": true,
            "ticks": "",
            "zerolinecolor": "white"
           }
          },
          "shapedefaults": {
           "line": {
            "color": "#2a3f5f"
           }
          },
          "ternary": {
           "aaxis": {
            "gridcolor": "white",
            "linecolor": "white",
            "ticks": ""
           },
           "baxis": {
            "gridcolor": "white",
            "linecolor": "white",
            "ticks": ""
           },
           "bgcolor": "#E5ECF6",
           "caxis": {
            "gridcolor": "white",
            "linecolor": "white",
            "ticks": ""
           }
          },
          "title": {
           "x": 0.05
          },
          "xaxis": {
           "automargin": true,
           "gridcolor": "white",
           "linecolor": "white",
           "ticks": "",
           "title": {
            "standoff": 15
           },
           "zerolinecolor": "white",
           "zerolinewidth": 2
          },
          "yaxis": {
           "automargin": true,
           "gridcolor": "white",
           "linecolor": "white",
           "ticks": "",
           "title": {
            "standoff": 15
           },
           "zerolinecolor": "white",
           "zerolinewidth": 2
          }
         }
        },
        "xaxis": {
         "anchor": "y",
         "domain": [
          0,
          1
         ]
        },
        "yaxis": {
         "anchor": "x",
         "domain": [
          0,
          1
         ]
        }
       }
      },
      "text/html": [
       "<div>                            <div id=\"5655bf03-45e5-428e-aba3-6d9407bfb734\" class=\"plotly-graph-div\" style=\"height:525px; width:100%;\"></div>            <script type=\"text/javascript\">                require([\"plotly\"], function(Plotly) {                    window.PLOTLYENV=window.PLOTLYENV || {};                                    if (document.getElementById(\"5655bf03-45e5-428e-aba3-6d9407bfb734\")) {                    Plotly.newPlot(                        \"5655bf03-45e5-428e-aba3-6d9407bfb734\",                        [{\"name\":\"0\",\"source\":\"data:image\\u002fpng;base64,iVBORw0KGgoAAAANSUhEUgAAAHIAAABACAIAAABJDbSMAAAtFUlEQVR4Xi38z7ItS5PkCamamXvEWnufe\\u002fNWZUJVdWcJTBABBBEQBrz\\u002fU9ATBiA0XVCZ3597zl4rwt3MlMH+XiHczexnqupBGIwAIAIgWjIYAAGkWjTSjC0IcKEQRBogGtAQQDNBJCAQJACbw2OExW9\\u002f\\u002fMbwTM2xHnAK5tPnZ1vNVgEWpCw7TrtFF7CdgWDvptwiGg11W5beDbIH7P\\u002f9P\\u002f8\\u002f\\u002f\\u002fzL3+j43\\u002f0f\\u002fo+\\u002fPSbNJmoPfwgGbHerVMbtTY9n95uwWr+u\\u002fT\\u002f9T\\u002f\\u002f3aApdZiNLYBpd8sbVHT6WmbFd+i\\u002f\\u002f4z\\u002f\\u002fy+CX4i\\u002f2+4WOdjSD+QrzVLcO6GaNzZQPuy4wBVN6dRAAACMEtUgQRKMJE0F0Y4CARLUgUqS6SZVIwoCSs9WQUSThgbba3aGvr9fvx+ONHlk32cfxiIfYR+MiRRQ5ZW71Np6yDFBwVXtsc2nDKYGebRaAFfPPv90\\u002f\\u002f9aOP378MR7HNpqZaxzYl4cVUA1ZRXtDa39ZnLze8No5k2VM0gsFioCaQBqyQsChWkQZvPYV\\u002fOKHBC+P7u2xO551vTvcO0tHcblFrS84YUVBDXiAAKgGABISQNBggCCCkBIVc7AKJROFJgmBUIuSxKYAo8XB4\\u002fBzOA8LM4sxHcHpRZ7dY5K7RRMpwF16bBUKHjBQhEy2rVxdJELYZrPXzbjoylp\\u002f+\\u002fXX\\u002f+\\u002f\\u002fp0uB8R\\u002f\\u002f9T8f4IChLbTvtOV4NEgTqmGyHuhGMmmUVa2wUs9EBiREU+ImwYIVOTaANgJHdOk0nHIVES2gGdplploax26NUvPt4+xawkA2bJsC+q7d71tLUpD0jw8MAqJRndeOEc\\u002fJd4IpUa7vkgcAydssYnBOzgd9+GEOcxL0NzFgpuiR2mbIwaO7HWW0q5pxGMu3v1ysHewCu9iNl9ksJs4icue\\u002f\\u002fy\\u002f\\u002fC\\u002f\\u002f+b1va4n\\u002f+3\\u002f7rGI+VuKMf2kmHyZFFlvxsGATWUjT7cm7GS0QrGiJVHTQKhLyrDWyYabugmsUkN6I4bNfhrfQYpaZ3JMREDbRx6jJZdxgUVtX+bob9o4lKQAMERbAhg\\u002fV3RxDhsK6sV8qMmuYJuCZR4cSU26TSzCy9L9y7txmraIK7i6zkpNdK9mGff\\u002f\\u002fbDjRnoFfVCHNYHwyS3ZIj7XDtUMBe5et6ff369efX2x4mmbL+h3\\u002f9188fvw91Up\\u002fVoLVZp9y7M\\u002fbI8G65cDp2JkgGS9cFyKQKRn0XG0QWKKgIo7zN0BYdimXnLynIcmsicmzWHJtlkfhJnEn2ONk3kc0uv4noijYzsM1oDKDCTAYLV2AgaOUDUWPjev3ZaxmkNoXCo10qgputbLaB3Tcva5BaMEoSRIGOBtAytewv30fXdKC74aKYZoE20KAW1BBgJNEbHkaR62eez88\\u002f\\u002fut\\u002ficfYUJWH123o7lAquNsfkSOxEbASCikYmxKwqwUmoFKJlIxiK42Sje5uwpBtHqalfjyGq7vGHZcXIZi9bST1WRrAbbxdc3lFNqPbzLXpwd9\\u002fl8zMzS0ED3a7GSaRJgeiq\\u002fvogfinf47rXntxX52ZWaJRKojfFQQkCUptRrU6IIhtIBswSUwQKUik9TdRyDaSZPXjcf6Y46tW3oXDjMrNe1ejzGM8fvz2n36fn6eru8XeIlF9B4b5DpqBXT\\u002fTvXMyPZW+2qzJnZx173t9jwMva2sAKYBkmyEhGLLbKIahYrZRilv9ZD5T6RQR2wb2Cnpx9i6h3bpHQ7fBiocqxnGCZnRaU0LbIKu0h6y4ybnbLdvnUasi3Lrnb06KzQKBaWxyGDY8eluTagnVBku1ndOj0Wp1ZRjaKDi9RLIbRWOoWXhO93Oy128\\u002frOGzuZVq9Jx0ouMC87U+HBFmA7\\u002fYD8id6mSSWyZNr0nbQroIzt3Ir51f9\\u002fW6r7eXpG4XhTZzqaFQJ9kEWiIGao7x9h9Njrqa1g7AEji3ArpRsywJwbaTDVofyTJJohhoN9tN412CW+y00eTZuemDlue05tFijDKOns5ZXtO45bPbYQW15OyyD1dRbY2Ej7acFmiHFd3QZd+4S1SM2BsRzeSOsgq5GxwfWQULq2zvqnvj9Ewz2zVatFBqaxv9sDarXtyGE+Fe7caljRIaSl\\u002fvX3lzrwR3Ui2ZqWndgLxLAMhmoyFpkEGb5+zzgXFgC2HPzJcNYxshx8p+jRm7Z+dM5Wyjv2Ft27vTPDtjfHiUZdsew7TaTrVP242Aj1YPeg0au8seTR1UuCNYNUEEVZhAg4opNjis4AFv27Snyood5WI7osOpClM1a3wyt+MoapgD7N5GawN8C4SNkMvcUMVyhNjB9zifVoSB62hqOmQAWrGaEyvfN\\u002fartG6pG2m03L3oEYe4RWmzu2FZcjQoNz+HjvYcLdMPP2VWIFBpcXbdVuSI6ndgtI6GZO8Bl10wh1pOcZaZKZ4RaYgG1OyRQXa3gubekJuoc+OWBrUnD5GpcvfQoLq9h53dcNv0FXF0SyViKIJWHp0WtQrxtFu0EWOzQJdgZZ9QYZLVjUA7xBCMwjACinQw4+nZi7\\u002fIgz1wN2NgN0YZQgWBWuvuzDfu\\u002fU3bDbSK3Up7F6E0dIOGvb6ZvMtJD3Myw5C6zQawRX\\u002f+060M44KTfTsLbsWXw6WR1WaQQUzuWVskoa5eoUaEm4mYc1L1Lnq1vqsP+yFTd7m9J0eFFQtKtwONLikwNImkX8O80bAoSnj5HFCoHcqSVaEHopvH0Dfz0hpdzTJEtYqoNnYRVBRuw+zcEaPlww\\u002fkBY+HfqtZSJOUKptobKpWa1+4rx4L7aG84QYt+FG4zVJMSG27CWSBAbWYztloN5a6S2R3v79qPCfGs\\u002flqjFma0t\\u002fcnXu5nokbLu\\u002fbfNwq3yZP0oit7hhUj8rg8T2rGJUOZlXBDT0WX1YOpPqRdGLHtLAe2GvIVAyht2Oq2KBsGrcrNh7dwZRZss7bFLCWN4x7Y1TxmQtWhtje3pbgp8BSwsotrU4w\\u002fSQ6pdoKmllnzS1MSPJhXdi1b9wvV06UDFaRqpdB4ihL6w2j2nabIyFRBriUZp46KtuC2QlY8rr7Gw0+P\\u002f9o9Vy2zDZzop7dy\\u002fTI9q5JWz0OpBlnYXu6YQMGnAuvo0mLzDGRBccM3TFnX7TqEm\\u002fXCCYZCm0LkEDZhqzQfqJvh28krBtiL\\u002fdnqs3eqEcPeJ49OeoN26O9qjvMVrW\\u002fANkwgC1mT2iPFiNpIEbh6jQpWBpzNtaQpbd4WHfa3e+6L7vLYm+KsEXOVhFpiLZUWwNeI7Utipll3QjsRZrZUOfATlpK3pV9lyAzmh9m\\u002f+H3ixi04L36eNOOTJiSeoVLOCsv2GU8SijIGpDgb4erqxQurabH5qaRBjvRBK84IBUe1e1RZ9s2qK2Jj7TLmZBW3bBSn60MPzqXhyPPjmGgeVV29VQv0GUv9lPm1p9df6ZJIrrCBWtOQ3puF1uA2eU+2yU9QN9OLlZfe9n15bZCkdGzSsOnsGQbVKEIqVNm1p6k07uSdXa+DVnf8FdFZ5eRq\\u002ffaEuGC0JCd4znoliW6V0e3h15jkNusBaTsCvXmg1v0ki0z625r927jEAMtVzWs2qY1AgVHtIP2xu61ONp8hSBassx2yLS74YwGjFjuo2rTppbEHFWGY8mhdDc1JPY60m5TtbvZaXnZgNq6b\\u002fRDqWwrTwdGMS0gQ3UxE9kv7a+fjVN32hDcsxm1zOZqGmWjLUVYu0kHeptm9TvoxSbzH8pRk1Vq23ar8y5BIgiTvvcAffz2x8zecKfSWYEGDX3JztJohRUaZBVg2Oa04kVyR43VabSOCqDOQ+ih8oFbs64iw0LKoll1B7EDWDQfTXnLaEkqVchpZ+ZqxKzUAPnRS\\u002fCa1RkhpOS7UM6BafSWsd81oipJCG24ugnSmsCqmMoSfL3ea816vcSzNeh3MKodJVcLRSzzT6Rj3c0hwGrBD7Wpk261YRyqN6fV3WqlVmntmyWR+Ifa0jKYyDl+PJ5p9pPxkVuD6jI2ykc3TIvx1PUmm5htbQQkYCRku4pkeWeIQwZCS71XOtgzfnT9lGoSi5QDMmZ7lDKr0HKzpIw+WBTg5kSnzqEkmmGdaO9WEWi1j\\u002fI2oMCuPICnrY1BpsiSe4tkmqIx1vXO+\\u002fh6vyIBJmioNjeWdRh3wd5Gh1zhyMvMG+lz6F4wQ16wKZQ4hZcFm+i8W\\u002fXOK7sKDrV9C0stUSQAGuP5o45xyWb3DoQwhZaF5c2AcDR\\u002fYh7SN6+V\\u002fLvtOuqLPruW+WaE31nTNomYR0qmc+t292YhA1ZjiwYSt9aMMfWRfdkIyxU2b7hk3SUMj63e0Ci86Y8qo8SJGKNyM0ey3JxKsBUpDDFFqx7gRaF+3u+rSvR6D4XculYwiptI2JG1wqPxqdoM751mJX6wB\\u002fZGRGaY3uErjVa7bdbau98r171V6G\\u002flmhSajTK5WYes3Y1\\u002ffHzIzAqBrDIaimzB0x7WLUtWNMsrVAthhe1io2lDVfyeFozpoxyXAV1oUrpluseOOnLImjBXmNU+\\u002fTP4Vcphs3uTvy+7hRLEtLbaHYwBbuuJVWMWzdHdVeoFlEoNAyVDlwyXjVkXdN3XF1bmUNMHJcEaztoW1uUQ0N0maKTDtMXoTBuOLMbF9qZ3bXM25ko0b6JR+VXvdWUypDRQICDCZeUkKdEQPmIEP86PnT6UhmqpN9ttom4L1y7Wpp9cS0LVISsWwG0w9bawXadpZ8UvrpFmMo8NHta9LOh9VPdsYSK353p3yPLePshl9QA8dVVu1Ul1u8WOpmTP1kFvP6H8Ynq5wRetARJQIjG13u7H3u+ff777hW40GJhpW9yuYEcDNLMK7S0XAqRhl2XCDV4ULKeKZdssoW8rTBAT5Lrvfr93lqwFqEhKIBpGiSTgpHGMQQXoHx88HgtydpVvs8HuwC6kKmSuFQKBaCueIi762ctaQbPqLa42B4LmVSUhrx6ePcaUssuM93q438h6CzSi4HxnBdSv4nBR9oNsp8tgD3oP2LYtMrVbcxYSboCrvweUybY31ruv958r41s2Mjutb7eEEeWRY3GHQ2T28mjzs7PFDLF5cIsczVoirNyiL2HI5KoFX7rvr71WN2AN8fvUJIKiE01PNzcXLdwIXfA\\u002fPp6OfSi6AXYLrvZkGaMBrG1sWVUnncpDTibUcLzLzEuO2TDzWI2CW5sPmjGrS2Bbqadee3MUXmN+CtZ4RwzRGeYmT6M2HSYTWFlAau9zBIymqDKwqCqE6m2K9e71M+\\u002fVQpB0qTvAhhp+3AnLHcKat8kTaZooyGamU4s2GglK5PfaapbS2e83p4OoyqWf969cDX27SCAJwICCOxo20zggehiaZmiV2XT\\u002fPJ8\\u002fNa0y3eaGh8rdd0qubNBa7myzOLKbli7CEgFpsM4CTLBRo2P0dhsYpEZ1e5VKaQrR6EnTWgfvh2INOzs4imvfwUiDQKNhT7VilAboP9La+1IcrFWW1se+c30h3yg9KjdjWXZVN0cMFJjFVhm2\\u002fGgUW7BixbevmQYkzJxUc\\u002fZehkG3pvFbio4W2ffrva+dENgE2yDAGnADFI6mzSHe7ooIaMhuhBtkOB4zbG5t6wa5zM5Wz6py69IoFcPaRRkm8YqI6rf16K6mkeXj6YtddynMpyiuJICGVGUs9y6ydjvq4db+ZaxU7P1NNaNJRxsCmja6oOokvP01aVTsflvtdeF+rXw3asAScQ2o\\u002fmEmDOcoXewCzQEZHF2Ytq\\u002f2oNqCJBwM3wvLaShIGdOYaHJTBnTp\\u002ffpLiqX+ByoJNLSGUBBhIGUDtO0eNFpA5TIexkSZfnx8FvSRzBElAf9o09sZ5iUPo81+rlrIDA+VQsNlK3Bs2sG+XmYHmWXRO22te7gxOuJQsWWpcrgbq6uKZrZpg\\u002f04TtzEpGtxmCqr1WpiSqcVTCj2\\u002fnXtl+5bDfp3d7O3+1R1Q9HYcIWzXg6JLIT1zfDuDWyM2RBQA4\\u002fGNlS2mXmDjAK7cCHO3Em9r7p3dTUBQxtMlLUENn1TTiv3QbaFwdtpbmoYfZ0eLdCeQX\\u002f+WK0a4b690ZZejsrZfYHwonGCa5BFsZfcgShYwH1eaDfMHVeoomOr0sw2a\\u002fDsbcOAYVZd0\\u002fIq9TBDgBMHa9Gjx4UQdGR+e7UkQr01I\\u002fNr\\u002f5yvl3S9zE6A4GiUNayPrW0cIKqLrACBiary5QxUsEUKmJ0UFfTiNpkaig1AxZKrLL2JtfevLVV\\u002fawuAldELIhtGg5FBTw8jk4cH3GUytpreapWmtCbn+bzdR91Dusxdze6GElHRXppwWtseUOZuHx3yh28B6QD4kftt87RKGWgBxTEJ19AQYSwBq0bUovuoIiTNoNjjECQ19hDTDOyGnZV9vXP\\u002fZa97sVnqYBQJNPQ294QGZUQzDWoLoIGWUyn2bJaHV22jNcqiXQQGWuDicCQ7sAX05Vbd+51dJRqKMJlMpJWaajppNLoc8sGREUHMQXYRtkJOCgZ4O4\\u002fu58dHN0Gv8tEU5eVCW+DobzfavbtiV5omUuPw3fImi5y1UefwvYHRbfKwx0hxoApqQ1UUavQN\\u002fzbfx7dyVmlGCd8UAxSFjsIK\\u002f\\u002fX6\\u002f+X7y7qbNhplbmrvbkODvdu8VKQWGJKgsa2LDHVs1jRAY2eae8uhzRptRUsDKVQnzVHb0d3rau1qQgTRClHfSwZkLoMh6EbzdnM3EcNFi6rsIO+glUvtbuVi08dj+lK2GwNgqnB7OO4jDYFi\\u002fus\\u002fxf32JXs57+5c3UKwTuKSmqYha397inYuBm+Mo7zl7KsJrGOTw3Y72RIInlIGpL6KUjeinMZU2SnspO0q\\u002f77IGFJFNyESyQE2YNUOJjJM1VpmH1mXxQ6yNUwZ8OqWZQitqwUQtJElArZ3kXeurCZNLZgJMqHNkU3QWLRBlzsZ3gVa2nGaGqq7woyJZAMjiMME9ot+znn0uKIPUULJQ5DscMvoIQsG5\\u002fwfj\\u002fUnxr6S5qtDWTes74K4KCa766GI7pdnHL18qWLeSQvIhnfvbsmphXZQRTHhxOmDUKEXCsIRcFSdn3W\\u002fNjLse+UWk9UQesMPlLUl2gmjQzIohDYcqBXmC8UmHNFRnQrrMqtmVtsGVKrVVzZaRqEhuKNFoTmsNw8jHaCFhrkigwPDEBisLVqNc7a1Vlv4ESqPzCpyXOu3388v6iwbVivAHWAPyMCjIcFMp9Zr2G9u\\u002f4\\u002f\\u002fnv\\u002f1v4yd9ecX\\u002f4epj4e9V\\u002f+3dM7999TvhqsMVdFTFVNwqZRJ+E1K4dDVEbtxxDI6iK5eObxlY0IS2+iFeZz5L\\u002f\\u002fVK6F3vd73SusFK8iHFQu3NBuXWQEDpGFWbQtAj71un2zzbngnwqtuC+vvGF\\u002f37u68ZAIAQf8geAhtNFrCzMfJTIaZG+YI+hg0oWqUEOcaD99vbmFEuJuUCdtVUhzzOH+7Oy4rQ6On+XbI0pMqmg4b7v\\u002fzn+mmQ\\u002fmC\\u002fv6zjsF\\u002fe+lfjnFZjY\\u002fx7\\u002f8t\\u002f\\u002fVHZHbH\\u002fC9\\u002f7J8v8l\\u002f+9\\u002f8X9RaxoEHfZt8EQSd2W3OpHPA2wJrVjrMz8WxpKNfwoSrw3LXdFcZC9b3+2\\u002f+rKW8AgnFAbXSRUrq8IZLkt3LslHUUKZRXNqMTN4o7+b1WoRxWjX\\u002fIJJI5RTczgjAKJptjuMfRjm6h+gjvQd24DcaOcp8Dye1CXmO3ws6P+cd\\u002f+s99VZJH5WsossPQwgaeAqenNLFfbXKNRXRhdAF\\u002fHAezeHi0cegT+efW87TpiC\\u002fscBdLyy7koKfRBN9pDhRplJlTCwjS3Bo2umVSm+VaHi7cw73U2Z5NH7cZKjcAKKpf5i5siMZZSncarMgUui6DK43d0IKDjdVtMKGFbxLdMLNiUwRpCg+x4TBrI+ZwG7AQ6LkV5DisdVcdwAMB83EyspdlZhKMgEWcH08TevDcFYajolE3NbUfEYNBrrG1ELQ6ll\\u002fWXn4m2v1vVwbKL72t2vlQt9XPyz6OEZPYUvRQlJeNTTostMEgH2AM\\u002f1vuoj+yc3gkkt5WTK2pM+fGZqGNhMvoTniPz\\u002f+1vv5y7yVWAWft3c5mhd6AUsY+gDYL88NsqN9NQeiupkSWAAGGlghXd1uYyh3kLF1jGKcZvgMhyRjZaTb8HIFO7pV+hh+6YfSZuasL9z7GKKPArf0f\\u002fGPDUb0gNUL7ZW4yDymUKZZtr6m2jmJN1Q4XcCRyVrXKC4pzXW+f3EjUWhkGb4OpKW+qJnx4SQfxNlTTS7A4yJ+P+aF0dFlRYFDZqztj+gS6G32UROW2GSP++Jdh1uvX9fr6+vUTlLGtCdGsCMsCLW+Olra0QWtD5\\u002ffcs0KbEU2S4jZ3Z8LoQXZa0BFgmCxOiUn3QcTMMFwL6HiOblziODwbkO7SOM5dOWD3Lj\\u002fGcfiF3CVfWEcR5maP6ADrtmUOE5sq87Gs8I4xu1K8DZEeqE1vlGxM1UUIVo4AelAtwMx4HN6\\u002f4A\\u002fmakX6Rr2A3+C\\u002fol2F0suGt7rSSMywzamiaKa0kSqrtJZi7KhNMp6zle9f2tVsJYtw0JxNSkG0ZAY4KTITZNPMIInCoKyJ4SYjRSCslRGHWcVTnijuGW4kgurrnW4cj7OzOvwMlPTY76uJY9ZqH7FRiv7j40cRWUWUptN0RkBQ2Tv4NDTaVQ1\\u002fT7iGoQgR1l2hauddZPUBNLVhH7p+2pxClHNwQnTeOdDZP1YpeFCNdoNA5Bp2mLrVzJLYNvCdTSRYARqZvspabcOmJvHq4e+LaI2DMg4MmAHZQqk2Gk0u0OhWobFpjvq26hpFA+msthhmZrbhdDejG4NHhT2ANUaMdphlv3vRRhxjjuGrMEd4a2tIv8wMce48wn7dReMZcx5E4+HeFuElDghHd3l5xW1tQnW4NB1RKK9HDZOa3+TUFNq81bfLFraC7smOT\\u002fTqGrDb3VOmeD8wu2TGtO+gfIPK3Tsz4qRkbFP7aCCMjnxlz11DkbNNw73uSrvTwy4f7PL50PoSsABCdDiFQkFSIVvCDXoZDRC3FIJFlD8otsc2ToOHC7MMR7umb7MJqXzvVcNGP2pGUCv3R9hjoIVfFlM1+ch95RE7W4NnAFnnORb7s5XuzDaLQhtojVDJaNZFu6UpqdrhTUu2aF1FoUyKxtax8HYEcpTXQLyOM+4sKGhu2NTTJPBVHGuXAHTJFvBjWLqZlB4jkN\\u002fR2qwLGJl3z7IKgVrYhOnw4GyDXVc\\u002f\\u002f+mPr7+zrxclADKgIdLAbRglthootABQ5ofOoMUEyr1l53CNcM7sPccAuhEB7d0W5mO0ByEDZtbncA9Ni42uypN433dMRzOz52FZ+HEMt2j2venqBkANKimWCZjgKLyZLsdCObq8LBP8zGzjRR69djKEPRC7UzNGsxnyFR6e32p8H6zKeInZ2ervLGGEOUC6zbmN1PhWvB0sET2X8YF8A+pwZ6OTjtFMNvO0uU+f54n7zl8\\u002f+\\u002f3KTlPDWm0ubIfBBHOS83SfDCPZHJkdYWcY3Wuc6O08XMO6j+FLfvr+Ml\\u002fXPQTSwng8n9Pgtdcj9KrPOe7rNeZzO\\u002fx14zF3F2q\\u002f71j\\u002f9ufhHsfD2WP4kV2HovDl\\u002fqkC8zJ2uwyO3XCzHm0CtzvKEnJ4t8EqRbHaomkfu+Kz2NEFf4veWuVMDEtrXyawvL3bhjfmfCoK7n4vmZdK7PBxV6lWwNu3Oa3NjhMvFLcNNuT9kKvYw\\u002fzHsc\\u002fllcy73KIKw8wf6OqSz9jw07TIKNSwARLWAwGqB8MS7NdN6Aa3MA+bKT+PQTMpBt05SPdnyTXqla15gs518Tm8a6x1pZb2nW9kiWaCH\\u002fbHjx8\\u002ffnykt5VKusPOQjSTbIVazmwaYTAlchYdvkO92eAEurrcLzJYntbBtPamPZib3ht92LPjMh8b0+Ej3jYPZW9m+Khsj9ir9pYPxDjuLpCczmXdPj8T13PXCsPm3ytT62iHxxHxTk0bT6nHWXS\\u002fu9T+sCidgy+zR5U9OGF3oYZHx8HljqrQWuMcJ+112FGj6wZ4Wgy0zaDbHGntTjxrv8xCOWPca3kRRq+48ITdpNTkJiipctW\\u002f\\u002ffn137vHR8R8fpzzcz7eY8awjh5FNi\\u002fZMOu2sTiioVqIB3a3BSUyqFm1A+EbB8vNt0W835fVMWkjKgwLQ3TDNmw6WlkJU8CYXHltyMzXt8JrI6wBIQBGdVdH+y7Y3MurDBhuFa7rdRiHzYDdwHxXHQy3aF1zHAmD4nhE6QafUV8wMyJmdtVafExL3mdE9d3lZTBg4jhOXZye9AehNNnB95+Nx8fPP99Wexy+qst8cQ23lSuuyqlu2DYjqkF1fuX69bdfrX+DNOOYMw7\\u002fnI\\u002fj8\\u002fkk1eGj3gSh4bTmasrckFlwg7wazf\\u002f0f\\u002f2\\u002f\\u002fd79riwbTTRMrkOB6\\u002f6SqEYTsjbZMb1we\\u002fqWMsl5hEkGMm1X25MxZ1OsqFXRtarbNqpSkmwyUPsOx4C\\u002fu2k0C0NZGQgSF3FYhLk6LSJhWNnDNnCEPap\\u002fDTvSodWqdZUJnDHDjzm9tsDBPoZ6kQ\\u002f\\u002futoa7\\u002feV2YsaJIz366oG0J3LK1+G2BsKCTL0LugSDVtmZlZVQm+gi4yY5+N4Pj\\u002fyfP4Im6OJcFSJX6RJI+t0vhv83\\u002fyf\\u002f08wV7ubb9CptyXeo2z1NoGGonq6g7NLa4tRz8MLD\\u002fV21a1a8Md5nNRqsPemIGRudeTA51aZ1tofrj7naq+VkyiLufM+\\u002fJF9R8\\u002fNccTdIi1GdCl3OYJDCEMnoG7vnea9S6h2jMfDDtpOBc3OMCa77PEYq79K9etSK4nFvgsubUhKvlLaGMN6d3YTSHQgX6\\u002fRe80xSiVAaVKpW8UuNgpFARYWEfOcjxnHnD4sWDHJ\\u002fc\\u002fAlxAAiu7eKhzm7+xTKeEX\\u002fDBP02XxewNWV3N4jjG9iUbvu470cjLOczxMmR1rvwZ8Iztp5k4q34CpzzPC7N5U5T897V6ShHNIdh35idhBr4pjFGipLDbnHIbo1fhsXG\\u002fKEoPvtrnLHkeYpbAbzy5\\u002fDs8rYecxZFy1WKjpI2a+73ipufA8H3u9XxVjpnkgt8Im80qdUSieT7BHNw+Xyi7SImzdIjeYMN2W2VXZK9d+\\u002fwk73MLhB8Y5vF4eeXhwjM+bb3OO5M4glznpM0Mud4zCzfLUVK45Ani1gsJHhIaDx+NYlddXttuxLTq3TQai7FJ79qdbPY5DrLsFnG4r6QKMzn56KB6ZMrXmwb1XlZQEj\\u002fGc4Zcg1GtrUGaW5QfzfIwkdnZc+zzH5NBeu+3z82Mcvvdt9Ox1jONd2ea3bx7TLPb1PqdsmLNXejhWmkd7+AF7RfSVON3AyQJmoN45T979HCihAnuNltzRa1SWDF9X27sJ2bFjzDnDFzN6NqqcTPdgs+w7yNqrSxuX28khLNtrs5\\u002ftbqfcCE6t15WCesp2\\u002fnzYyWOI20bud9DP52GKnfXr0hG0KpM2vMyCxrBRfHWH92nxuleLJ\\u002fqQ2eO8RtyvvdS400e9RqR4MIvz7m0tZXPEl+wyHZXH88SDf648G1e3GN0Yza99N4rzwZ9vZXNOJYpm8gisvY7ns+HeN9blY5hT1QgztvUYk23HyGovL5NxyRyyOKgbRQYi5r4oXZW36hXD60JwYsDL5Su81qYswUatnkewPJleKMAirjNAPva7Gz\\u002f9DK2x1h5He9BgC29u21uPx4fzLlmlwAi\\u002ftD\\u002fU\\u002fBzcQrgMtfsOPG1U3de1fHBX45iIeZWu6\\u002fU4By9LAKCZHp1D4VaX0651jADG8MrOjOO3x1y\\u002froEGzLTkw41\\u002fv3c5fvB5r\\u002f0ry2YQxz1z2+ORdwPn+UmrWb1xdJihzFB86r7uUh\\u002fjZKdUw+ot9K6IWIrzIe2Qla7z4+M9hnkapqmajO104yApJMZmLpuRueuWBmZ8ASJObLeAsTgeu95exrFoVasBG892PSFrS+UPh83nL9fXrclEWGQL+Jy+Y7AtjsGqrhzHdNqqRaltutnDONmvlbXyOY+9M\\u002frqOXUSazu8DyRQrxx+VPiEXXcm7fE41\\u002fvbKjxuvsPCht+3PMV5mO914fE8hzGvdR7HeCPl\\u002fhx1ae+3b2EODxbHMMzsG7Dno3eXGTvJMCr9NLX\\u002fFlkNOG9Mes9jpNaPObcSg5vhNmDcUpRS6JT1vjaFYUBYVVuFanwmGEi2CA\\u002fYT8vnrXLEt9tOx7pde4QVvFa5bbPZY4ysJJbW6uegm3treUTbyapWzi7FMLfD2KN\\u002ffm3Pppvy1TYePOeB++c9H2Hj6a33683zsO7jwPrK3P3527GR9l4fv\\u002f3o3GM+8hn6uu\\u002fr4jQz\\u002fXlXsL36rkPh77+\\u002fH8\\u002fH5xzvRu8rYMvrCB0cXbk0fKCdbuYji\\u002fIY\\u002fdo3UOfw6o6wui1ogsUzaZ08quXm3rd2oLsT5RHMp7qO+No9BIcFVHI4D7diIj3Lquu2\\u002feDRGY2NjkV\\u002fZq5aPuzqMIk0OtzM0XuhOUx8fsjGOK96mx\\u002fj3NoPKMsCyOmxlp1HVf7629pOr9ioeJxPa9v21\\u002fc9LeJ5nLv\\u002f\\u002fU4PjVvxMa+q3PvzGDD011fHud7XMcI7bK2v+zYPD37dTSIQgo3fx\\u002f1r\\u002ffZPATvv3v668Ry+7eiV5rc4DMfk7MzsmrYTR\\u002fq194CPh3+2ak5Zr4iqYg8bsaQTNTma2GWjr2jt23C2zOydowVH10krMAbLNxplY2mphVU+j3i+u3ItD5sG5lca4vFUlosp\\u002fEYgcInitCc\\u002fGUlHK67EVDjfu5whphN1DkvE41ir1r2KdpZu9DyPOXxVJssZ5yB+3l\\u002fOczhu+RmXW\\u002f\\u002fcx8fDB+pWJPfACPVpsfY7032E671oa83fnu8\\u002f334akOcznqSa\\u002f\\u002f3qx3HM0e\\u002fOY8zzSsw+4qneK9NGqHR6ZDaMN2xU5ezBebcge+DinL3G8Jce2FCHrVdFRpQ7Ynjp3fj+14\\u002fB5\\u002fYdSnw\\u002f0+yV+0V7BuZx+G3X12XeZ1i6hRLzYSXdWRF3x7D8GTwEOhVGHNu97gJbx6hvT39a3O9CcI5b+sPr3nVdWa2+1\\u002fE8zs\\u002fn4P31ouAn8ueI67qPI0j0O+Wwz7n++uI0D2zRpu8+vDFx1mvtaYhoxbT6+nk9Pj9fd\\u002fljDnNtBvl2w\\u002fX+fj6qCj8Z2272ONySm6APxnhK7+bGNeDK7ulmfndv6VBu2oNxZ5aHw\\u002fZB3BgTooW5zdyoNp0lOPMaPmtfCLvvtaQu8+d5Bgzvr2tt+elhQeIxjNPzvS7GSbuqPnubzdudzgd0+3gcqLxlI+XVioFDfIHyxzMqKx+tX+9s1CHS3P\\u002fpALHfa1k\\u002fBkpFHf8RjWfczUq9jP\\u002fpt99er\\u002fXsLvM+n7Wzv94fpf7t\\u002fGvfz01GHGyFfn3lcL+\\u002f1jjO8J2dHkMsZP1513lqRtzhE3lf67fT7oguQByH2QCLfO0f7vd9p9HpT+eX9HQq3zaO3bDTnoImul3sx\\u002fy49I5eKTvtIEqebATv3gse7zcfH0cfMAUj82\\u002frjrbxmBO3HS4\\u002f+Nb79RKddb17DtYCI\\u002fQjkOEPZ5fvuw3zqPXDjggULZVnY1ncgay8vy60T2of8zxIaH9JgSv3j2s+npPNX9WkV4OWH4+43\\u002ft9XT8ej\\u002fNzVvd6LRD9cdZOiTn18R0+vPt0K0sdcturIEHOWcCvX6fsN45fFh\\u002fN++1P8zDU3g0Pt3TT4tpfpu4ixXJ+Vnkbla\\u002fsqBSmD2NjzrFbh7WbzHJA0SMuae0d0F0OrW7UIGz+Ftoca\\u002fd996GscUy7Q3cc417IWjec8EYb0WHejaeFjRyc7V9dih5tWe3nuQ9V633LW2NgDtuvpQ39h98+7utY+qvWXcfwXgftXT\\u002fmvOUqrSxzDlduszOs9LX28\\u002fnAx\\u002fFlqK9roPE8tPOija7wuWu3uTuluSN9jl+7nTVoHqyv\\u002fQbPj0cNmPgLm1HHg\\u002fetxrhZIAzI7lu2w2feFZxjrGDlbrHeX8nDgw+ihxEF8+ztcd6FPd3u4qNR5b0M+757hI7pzw9zbuKrc1eySn187ROz5vhayl\\u002f6ThO45BWAjwE\\u002fzvZjT3PTfe\\u002fXZvbYW4xRQWzhhr1eH6djfORfVoR\\u002f\\u002fHZqqbeULYsnvehWfc4YtEma+XArn+DhU89GJ8+Ps5\\u002fPUbKv25P1GLnboB+Vx3Go4q\\u002fvUnWNuO\\u002f3eY57zWP1pzht8NZ67Qiz0QanqeDn53y7tQxuZ4E8ji2sfLzkX8vKHwFjh\\u002fTrXvj1xRYdwbllRPzSyIWjHQ63\\u002fl07NgqrchfAHBGG5YydV2dtmJsQ7Kpj\\u002fjZYjhIsuyd31tNQzjScIgWP+Wn5TvQFd3905s\\u002fyH1Ygsr9z5Z\\u002f\\u002fq89X9s8\\u002ff\\u002f7Tb+PHOf\\u002f617flutr3+RzqpczFMQfooXwvza5xeogTKfgl\\u002fzw1QrnXpQ5DHR7XtcOL8mPOgZ9fvww+P4\\u002f77+9B3vDDbyTdQ7L79d7EH6ouNRREWBzttt5lKOs4Zhpzs6Mul9FijJ7h1WOXo+l1ml0+OTU30tZRuEoMsoG9f+KI+1dDGnSe83CrhSs18l2gIu72p+VHuMy2e2ZV1Q\\u002f1nT1DFSebUWanDw9nX9a\\u002foW\\u002fx7pXNc+p9EbHnHMNsnvPvX7q\\u002frmPQjse\\u002f\\u002feXPv6\\u002f+CMYErHMxaQOKiBBvuT\\u002frDQ9hht\\u002fvfQzv4\\u002fB9q\\u002fzrXv7kAdvXdZ\\u002fuq30MH\\u002frz7z9V\\u002fO2fH\\u002ferv7qPx9SVWo05EKar174LfB\\u002fDutwNCJnea3nfFYNVNvwjr2o8DDF9CXlMr12sO\\u002fVR\\u002fMqx53jO2dk1A7UvgrPIKOHNMdExppmDMNv1rhrds7T8cGFiw\\u002fWGq\\u002fLd6n1NY5q9Nuy09zwEfXg\\u002fHo+bobVrVdn5V9tTXcM5XO97ziMcQ8fK\\u002fvv7JxG\\u002f\\u002fz7Hwb4uQr9b\\u002fRL9rmOa4LPWeT66IZc3jxGErwu2Ms7HDO9S0vS6HoNt\\u002ftdXfpizyh8xFNe\\u002f\\u002f6yN53\\u002f8vBP576\\u002fjt\\u002fn1Nq\\u002fy7Pjkbv7t2j9iavJhfu2lsHCqE+oVoZ1dMYQJu9HqQOFz8obltb0zWr\\u002fu7acdx1APYIVsoT0jMJpe2Ae7u8O8w1h3X2C3lxto7piDu0ZtdepifGBdjC6Eys4xMZPg6Z\\u002fFX0W\\u002ff1mYP579utqo6WyoZac\\u002fqPc5\\u002frze\\u002fpX2QBwKx73qfm2v9brSEvNfHp\\u002fHWG8KtrJtAO26+X7nmD1W8sdnn9iLQN+rx3MgO686iaoex+yuX3\\u002f7+afqj9+ORv\\u002f6y9c\\u002fn9Ez\\u002fHX1+\\u002fX8\\u002fSm3\\u002fdqTqccs+J\\u002fX+jgHz1GZCVTbUG\\u002f1HOrhq3df2SVJLcy1u2q3HXZ7KMY0jC\\u002fPjyZX0RC2h4diK9vpqxUS7t2t+ei+opBlNobZdRcaldAui7h9lHwq3UaPcRpjzkv1695iPh7DxD+vVwxE+TIM+zZRBg7g569j4z3mHD6af953bz5J\\u002fTgeJLUthsGCGXPknVH1zu+H7PLSfJyX97gBYKPE\\u002fJM4ggdOvV5O3Nmv68Lu\\u002f\\u002fh4xOP4+df3HF7fa9s7H8fjfJxr7fe9zvAS9\\u002fsrzjnmiK2VhelzV1VMasZ4A373GzhCRTPTXtqP4b+uvl8cH7G7qw\\u002ffdRyp29lMmbG2GTRcsfv\\u002fD2i8AxmQ8yMzAAAAAElFTkSuQmCC\",\"type\":\"image\",\"xaxis\":\"x\",\"yaxis\":\"y\",\"hovertemplate\":\"x: %{x}\\u003cbr\\u003ey: %{y}\\u003cbr\\u003ecolor: [%{z[0]}, %{z[1]}, %{z[2]}]\\u003cextra\\u003e\\u003c\\u002fextra\\u003e\"}],                        {\"template\":{\"data\":{\"histogram2dcontour\":[{\"type\":\"histogram2dcontour\",\"colorbar\":{\"outlinewidth\":0,\"ticks\":\"\"},\"colorscale\":[[0.0,\"#0d0887\"],[0.1111111111111111,\"#46039f\"],[0.2222222222222222,\"#7201a8\"],[0.3333333333333333,\"#9c179e\"],[0.4444444444444444,\"#bd3786\"],[0.5555555555555556,\"#d8576b\"],[0.6666666666666666,\"#ed7953\"],[0.7777777777777778,\"#fb9f3a\"],[0.8888888888888888,\"#fdca26\"],[1.0,\"#f0f921\"]]}],\"choropleth\":[{\"type\":\"choropleth\",\"colorbar\":{\"outlinewidth\":0,\"ticks\":\"\"}}],\"histogram2d\":[{\"type\":\"histogram2d\",\"colorbar\":{\"outlinewidth\":0,\"ticks\":\"\"},\"colorscale\":[[0.0,\"#0d0887\"],[0.1111111111111111,\"#46039f\"],[0.2222222222222222,\"#7201a8\"],[0.3333333333333333,\"#9c179e\"],[0.4444444444444444,\"#bd3786\"],[0.5555555555555556,\"#d8576b\"],[0.6666666666666666,\"#ed7953\"],[0.7777777777777778,\"#fb9f3a\"],[0.8888888888888888,\"#fdca26\"],[1.0,\"#f0f921\"]]}],\"heatmap\":[{\"type\":\"heatmap\",\"colorbar\":{\"outlinewidth\":0,\"ticks\":\"\"},\"colorscale\":[[0.0,\"#0d0887\"],[0.1111111111111111,\"#46039f\"],[0.2222222222222222,\"#7201a8\"],[0.3333333333333333,\"#9c179e\"],[0.4444444444444444,\"#bd3786\"],[0.5555555555555556,\"#d8576b\"],[0.6666666666666666,\"#ed7953\"],[0.7777777777777778,\"#fb9f3a\"],[0.8888888888888888,\"#fdca26\"],[1.0,\"#f0f921\"]]}],\"heatmapgl\":[{\"type\":\"heatmapgl\",\"colorbar\":{\"outlinewidth\":0,\"ticks\":\"\"},\"colorscale\":[[0.0,\"#0d0887\"],[0.1111111111111111,\"#46039f\"],[0.2222222222222222,\"#7201a8\"],[0.3333333333333333,\"#9c179e\"],[0.4444444444444444,\"#bd3786\"],[0.5555555555555556,\"#d8576b\"],[0.6666666666666666,\"#ed7953\"],[0.7777777777777778,\"#fb9f3a\"],[0.8888888888888888,\"#fdca26\"],[1.0,\"#f0f921\"]]}],\"contourcarpet\":[{\"type\":\"contourcarpet\",\"colorbar\":{\"outlinewidth\":0,\"ticks\":\"\"}}],\"contour\":[{\"type\":\"contour\",\"colorbar\":{\"outlinewidth\":0,\"ticks\":\"\"},\"colorscale\":[[0.0,\"#0d0887\"],[0.1111111111111111,\"#46039f\"],[0.2222222222222222,\"#7201a8\"],[0.3333333333333333,\"#9c179e\"],[0.4444444444444444,\"#bd3786\"],[0.5555555555555556,\"#d8576b\"],[0.6666666666666666,\"#ed7953\"],[0.7777777777777778,\"#fb9f3a\"],[0.8888888888888888,\"#fdca26\"],[1.0,\"#f0f921\"]]}],\"surface\":[{\"type\":\"surface\",\"colorbar\":{\"outlinewidth\":0,\"ticks\":\"\"},\"colorscale\":[[0.0,\"#0d0887\"],[0.1111111111111111,\"#46039f\"],[0.2222222222222222,\"#7201a8\"],[0.3333333333333333,\"#9c179e\"],[0.4444444444444444,\"#bd3786\"],[0.5555555555555556,\"#d8576b\"],[0.6666666666666666,\"#ed7953\"],[0.7777777777777778,\"#fb9f3a\"],[0.8888888888888888,\"#fdca26\"],[1.0,\"#f0f921\"]]}],\"mesh3d\":[{\"type\":\"mesh3d\",\"colorbar\":{\"outlinewidth\":0,\"ticks\":\"\"}}],\"scatter\":[{\"fillpattern\":{\"fillmode\":\"overlay\",\"size\":10,\"solidity\":0.2},\"type\":\"scatter\"}],\"parcoords\":[{\"type\":\"parcoords\",\"line\":{\"colorbar\":{\"outlinewidth\":0,\"ticks\":\"\"}}}],\"scatterpolargl\":[{\"type\":\"scatterpolargl\",\"marker\":{\"colorbar\":{\"outlinewidth\":0,\"ticks\":\"\"}}}],\"bar\":[{\"error_x\":{\"color\":\"#2a3f5f\"},\"error_y\":{\"color\":\"#2a3f5f\"},\"marker\":{\"line\":{\"color\":\"#E5ECF6\",\"width\":0.5},\"pattern\":{\"fillmode\":\"overlay\",\"size\":10,\"solidity\":0.2}},\"type\":\"bar\"}],\"scattergeo\":[{\"type\":\"scattergeo\",\"marker\":{\"colorbar\":{\"outlinewidth\":0,\"ticks\":\"\"}}}],\"scatterpolar\":[{\"type\":\"scatterpolar\",\"marker\":{\"colorbar\":{\"outlinewidth\":0,\"ticks\":\"\"}}}],\"histogram\":[{\"marker\":{\"pattern\":{\"fillmode\":\"overlay\",\"size\":10,\"solidity\":0.2}},\"type\":\"histogram\"}],\"scattergl\":[{\"type\":\"scattergl\",\"marker\":{\"colorbar\":{\"outlinewidth\":0,\"ticks\":\"\"}}}],\"scatter3d\":[{\"type\":\"scatter3d\",\"line\":{\"colorbar\":{\"outlinewidth\":0,\"ticks\":\"\"}},\"marker\":{\"colorbar\":{\"outlinewidth\":0,\"ticks\":\"\"}}}],\"scattermapbox\":[{\"type\":\"scattermapbox\",\"marker\":{\"colorbar\":{\"outlinewidth\":0,\"ticks\":\"\"}}}],\"scatterternary\":[{\"type\":\"scatterternary\",\"marker\":{\"colorbar\":{\"outlinewidth\":0,\"ticks\":\"\"}}}],\"scattercarpet\":[{\"type\":\"scattercarpet\",\"marker\":{\"colorbar\":{\"outlinewidth\":0,\"ticks\":\"\"}}}],\"carpet\":[{\"aaxis\":{\"endlinecolor\":\"#2a3f5f\",\"gridcolor\":\"white\",\"linecolor\":\"white\",\"minorgridcolor\":\"white\",\"startlinecolor\":\"#2a3f5f\"},\"baxis\":{\"endlinecolor\":\"#2a3f5f\",\"gridcolor\":\"white\",\"linecolor\":\"white\",\"minorgridcolor\":\"white\",\"startlinecolor\":\"#2a3f5f\"},\"type\":\"carpet\"}],\"table\":[{\"cells\":{\"fill\":{\"color\":\"#EBF0F8\"},\"line\":{\"color\":\"white\"}},\"header\":{\"fill\":{\"color\":\"#C8D4E3\"},\"line\":{\"color\":\"white\"}},\"type\":\"table\"}],\"barpolar\":[{\"marker\":{\"line\":{\"color\":\"#E5ECF6\",\"width\":0.5},\"pattern\":{\"fillmode\":\"overlay\",\"size\":10,\"solidity\":0.2}},\"type\":\"barpolar\"}],\"pie\":[{\"automargin\":true,\"type\":\"pie\"}]},\"layout\":{\"autotypenumbers\":\"strict\",\"colorway\":[\"#636efa\",\"#EF553B\",\"#00cc96\",\"#ab63fa\",\"#FFA15A\",\"#19d3f3\",\"#FF6692\",\"#B6E880\",\"#FF97FF\",\"#FECB52\"],\"font\":{\"color\":\"#2a3f5f\"},\"hovermode\":\"closest\",\"hoverlabel\":{\"align\":\"left\"},\"paper_bgcolor\":\"white\",\"plot_bgcolor\":\"#E5ECF6\",\"polar\":{\"bgcolor\":\"#E5ECF6\",\"angularaxis\":{\"gridcolor\":\"white\",\"linecolor\":\"white\",\"ticks\":\"\"},\"radialaxis\":{\"gridcolor\":\"white\",\"linecolor\":\"white\",\"ticks\":\"\"}},\"ternary\":{\"bgcolor\":\"#E5ECF6\",\"aaxis\":{\"gridcolor\":\"white\",\"linecolor\":\"white\",\"ticks\":\"\"},\"baxis\":{\"gridcolor\":\"white\",\"linecolor\":\"white\",\"ticks\":\"\"},\"caxis\":{\"gridcolor\":\"white\",\"linecolor\":\"white\",\"ticks\":\"\"}},\"coloraxis\":{\"colorbar\":{\"outlinewidth\":0,\"ticks\":\"\"}},\"colorscale\":{\"sequential\":[[0.0,\"#0d0887\"],[0.1111111111111111,\"#46039f\"],[0.2222222222222222,\"#7201a8\"],[0.3333333333333333,\"#9c179e\"],[0.4444444444444444,\"#bd3786\"],[0.5555555555555556,\"#d8576b\"],[0.6666666666666666,\"#ed7953\"],[0.7777777777777778,\"#fb9f3a\"],[0.8888888888888888,\"#fdca26\"],[1.0,\"#f0f921\"]],\"sequentialminus\":[[0.0,\"#0d0887\"],[0.1111111111111111,\"#46039f\"],[0.2222222222222222,\"#7201a8\"],[0.3333333333333333,\"#9c179e\"],[0.4444444444444444,\"#bd3786\"],[0.5555555555555556,\"#d8576b\"],[0.6666666666666666,\"#ed7953\"],[0.7777777777777778,\"#fb9f3a\"],[0.8888888888888888,\"#fdca26\"],[1.0,\"#f0f921\"]],\"diverging\":[[0,\"#8e0152\"],[0.1,\"#c51b7d\"],[0.2,\"#de77ae\"],[0.3,\"#f1b6da\"],[0.4,\"#fde0ef\"],[0.5,\"#f7f7f7\"],[0.6,\"#e6f5d0\"],[0.7,\"#b8e186\"],[0.8,\"#7fbc41\"],[0.9,\"#4d9221\"],[1,\"#276419\"]]},\"xaxis\":{\"gridcolor\":\"white\",\"linecolor\":\"white\",\"ticks\":\"\",\"title\":{\"standoff\":15},\"zerolinecolor\":\"white\",\"automargin\":true,\"zerolinewidth\":2},\"yaxis\":{\"gridcolor\":\"white\",\"linecolor\":\"white\",\"ticks\":\"\",\"title\":{\"standoff\":15},\"zerolinecolor\":\"white\",\"automargin\":true,\"zerolinewidth\":2},\"scene\":{\"xaxis\":{\"backgroundcolor\":\"#E5ECF6\",\"gridcolor\":\"white\",\"linecolor\":\"white\",\"showbackground\":true,\"ticks\":\"\",\"zerolinecolor\":\"white\",\"gridwidth\":2},\"yaxis\":{\"backgroundcolor\":\"#E5ECF6\",\"gridcolor\":\"white\",\"linecolor\":\"white\",\"showbackground\":true,\"ticks\":\"\",\"zerolinecolor\":\"white\",\"gridwidth\":2},\"zaxis\":{\"backgroundcolor\":\"#E5ECF6\",\"gridcolor\":\"white\",\"linecolor\":\"white\",\"showbackground\":true,\"ticks\":\"\",\"zerolinecolor\":\"white\",\"gridwidth\":2}},\"shapedefaults\":{\"line\":{\"color\":\"#2a3f5f\"}},\"annotationdefaults\":{\"arrowcolor\":\"#2a3f5f\",\"arrowhead\":0,\"arrowwidth\":1},\"geo\":{\"bgcolor\":\"white\",\"landcolor\":\"#E5ECF6\",\"subunitcolor\":\"white\",\"showland\":true,\"showlakes\":true,\"lakecolor\":\"white\"},\"title\":{\"x\":0.05},\"mapbox\":{\"style\":\"light\"}}},\"xaxis\":{\"anchor\":\"y\",\"domain\":[0.0,1.0]},\"yaxis\":{\"anchor\":\"x\",\"domain\":[0.0,1.0]},\"margin\":{\"t\":60}},                        {\"responsive\": true}                    ).then(function(){\n",
       "                            \n",
       "var gd = document.getElementById('5655bf03-45e5-428e-aba3-6d9407bfb734');\n",
       "var x = new MutationObserver(function (mutations, observer) {{\n",
       "        var display = window.getComputedStyle(gd).display;\n",
       "        if (!display || display === 'none') {{\n",
       "            console.log([gd, 'removed!']);\n",
       "            Plotly.purge(gd);\n",
       "            observer.disconnect();\n",
       "        }}\n",
       "}});\n",
       "\n",
       "// Listen for the removal of the full notebook cells\n",
       "var notebookContainer = gd.closest('#notebook-container');\n",
       "if (notebookContainer) {{\n",
       "    x.observe(notebookContainer, {childList: true});\n",
       "}}\n",
       "\n",
       "// Listen for the clearing of the current output cell\n",
       "var outputEl = gd.closest('.output');\n",
       "if (outputEl) {{\n",
       "    x.observe(outputEl, {childList: true});\n",
       "}}\n",
       "\n",
       "                        })                };                });            </script>        </div>"
      ]
     },
     "metadata": {},
     "output_type": "display_data"
    }
   ],
   "source": [
    "import plotly.express as px\n",
    "px.imshow(picamera_starter.outgoing_samples[0]())"
   ]
  },
  {
   "cell_type": "code",
   "execution_count": 18,
   "metadata": {},
   "outputs": [
    {
     "data": {
      "text/plain": [
       "dtype('int64')"
      ]
     },
     "execution_count": 18,
     "metadata": {},
     "output_type": "execute_result"
    }
   ],
   "source": [
    "picamera_starter.outgoing_samples[0]().dtype"
   ]
  },
  {
   "cell_type": "markdown",
   "metadata": {},
   "source": [
    "# playground"
   ]
  },
  {
   "cell_type": "code",
   "execution_count": 8,
   "metadata": {},
   "outputs": [],
   "source": [
    "l = logger_starter.incoming_rpcs['get_logger'].call('TwoWheelsV3')"
   ]
  },
  {
   "cell_type": "code",
   "execution_count": 10,
   "metadata": {},
   "outputs": [
    {
     "ename": "KeyboardInterrupt",
     "evalue": "",
     "output_type": "error",
     "traceback": [
      "\u001b[0;31m---------------------------------------------------------------------------\u001b[0m",
      "\u001b[0;31mKeyboardInterrupt\u001b[0m                         Traceback (most recent call last)",
      "\u001b[1;32m/home/kawa/projects/car1/src/main.ipynb Cell 10\u001b[0m line \u001b[0;36m1\n\u001b[0;32m----> <a href='vscode-notebook-cell://127.0.0.1:8080/home/kawa/projects/car1/src/main.ipynb#X53sdnNjb2RlLXJlbW90ZQ%3D%3D?line=0'>1</a>\u001b[0m l()\n",
      "File \u001b[0;32m~/projects/car1/src/components/__init__.py:160\u001b[0m, in \u001b[0;36mCallChannel.call.<locals>.await_result\u001b[0;34m()\u001b[0m\n\u001b[1;32m    158\u001b[0m \u001b[39mdef\u001b[39;00m \u001b[39mawait_result\u001b[39m():\n\u001b[0;32m--> 160\u001b[0m     lock\u001b[39m.\u001b[39;49macquire()\n\u001b[1;32m    161\u001b[0m     \u001b[39mself\u001b[39m\u001b[39m.\u001b[39mresponse_locks\u001b[39m.\u001b[39mpop(this_call_id)\n\u001b[1;32m    163\u001b[0m     \u001b[39mreturn\u001b[39;00m \u001b[39mself\u001b[39m\u001b[39m.\u001b[39mres_pending\u001b[39m.\u001b[39mpop(this_call_id)\n",
      "File \u001b[0;32m/usr/local/lib/python3.12/multiprocessing/managers.py:1051\u001b[0m, in \u001b[0;36mAcquirerProxy.acquire\u001b[0;34m(self, blocking, timeout)\u001b[0m\n\u001b[1;32m   1049\u001b[0m \u001b[39mdef\u001b[39;00m \u001b[39macquire\u001b[39m(\u001b[39mself\u001b[39m, blocking\u001b[39m=\u001b[39m\u001b[39mTrue\u001b[39;00m, timeout\u001b[39m=\u001b[39m\u001b[39mNone\u001b[39;00m):\n\u001b[1;32m   1050\u001b[0m     args \u001b[39m=\u001b[39m (blocking,) \u001b[39mif\u001b[39;00m timeout \u001b[39mis\u001b[39;00m \u001b[39mNone\u001b[39;00m \u001b[39melse\u001b[39;00m (blocking, timeout)\n\u001b[0;32m-> 1051\u001b[0m     \u001b[39mreturn\u001b[39;00m \u001b[39mself\u001b[39;49m\u001b[39m.\u001b[39;49m_callmethod(\u001b[39m'\u001b[39;49m\u001b[39macquire\u001b[39;49m\u001b[39m'\u001b[39;49m, args)\n",
      "File \u001b[0;32m/usr/local/lib/python3.12/multiprocessing/managers.py:821\u001b[0m, in \u001b[0;36mBaseProxy._callmethod\u001b[0;34m(self, methodname, args, kwds)\u001b[0m\n\u001b[1;32m    818\u001b[0m     conn \u001b[39m=\u001b[39m \u001b[39mself\u001b[39m\u001b[39m.\u001b[39m_tls\u001b[39m.\u001b[39mconnection\n\u001b[1;32m    820\u001b[0m conn\u001b[39m.\u001b[39msend((\u001b[39mself\u001b[39m\u001b[39m.\u001b[39m_id, methodname, args, kwds))\n\u001b[0;32m--> 821\u001b[0m kind, result \u001b[39m=\u001b[39m conn\u001b[39m.\u001b[39;49mrecv()\n\u001b[1;32m    823\u001b[0m \u001b[39mif\u001b[39;00m kind \u001b[39m==\u001b[39m \u001b[39m'\u001b[39m\u001b[39m#RETURN\u001b[39m\u001b[39m'\u001b[39m:\n\u001b[1;32m    824\u001b[0m     \u001b[39mreturn\u001b[39;00m result\n",
      "File \u001b[0;32m/usr/local/lib/python3.12/multiprocessing/connection.py:250\u001b[0m, in \u001b[0;36m_ConnectionBase.recv\u001b[0;34m(self)\u001b[0m\n\u001b[1;32m    248\u001b[0m \u001b[39mself\u001b[39m\u001b[39m.\u001b[39m_check_closed()\n\u001b[1;32m    249\u001b[0m \u001b[39mself\u001b[39m\u001b[39m.\u001b[39m_check_readable()\n\u001b[0;32m--> 250\u001b[0m buf \u001b[39m=\u001b[39m \u001b[39mself\u001b[39;49m\u001b[39m.\u001b[39;49m_recv_bytes()\n\u001b[1;32m    251\u001b[0m \u001b[39mreturn\u001b[39;00m _ForkingPickler\u001b[39m.\u001b[39mloads(buf\u001b[39m.\u001b[39mgetbuffer())\n",
      "File \u001b[0;32m/usr/local/lib/python3.12/multiprocessing/connection.py:430\u001b[0m, in \u001b[0;36mConnection._recv_bytes\u001b[0;34m(self, maxsize)\u001b[0m\n\u001b[1;32m    429\u001b[0m \u001b[39mdef\u001b[39;00m \u001b[39m_recv_bytes\u001b[39m(\u001b[39mself\u001b[39m, maxsize\u001b[39m=\u001b[39m\u001b[39mNone\u001b[39;00m):\n\u001b[0;32m--> 430\u001b[0m     buf \u001b[39m=\u001b[39m \u001b[39mself\u001b[39;49m\u001b[39m.\u001b[39;49m_recv(\u001b[39m4\u001b[39;49m)\n\u001b[1;32m    431\u001b[0m     size, \u001b[39m=\u001b[39m struct\u001b[39m.\u001b[39munpack(\u001b[39m\"\u001b[39m\u001b[39m!i\u001b[39m\u001b[39m\"\u001b[39m, buf\u001b[39m.\u001b[39mgetvalue())\n\u001b[1;32m    432\u001b[0m     \u001b[39mif\u001b[39;00m size \u001b[39m==\u001b[39m \u001b[39m-\u001b[39m\u001b[39m1\u001b[39m:\n",
      "File \u001b[0;32m/usr/local/lib/python3.12/multiprocessing/connection.py:395\u001b[0m, in \u001b[0;36mConnection._recv\u001b[0;34m(self, size, read)\u001b[0m\n\u001b[1;32m    393\u001b[0m remaining \u001b[39m=\u001b[39m size\n\u001b[1;32m    394\u001b[0m \u001b[39mwhile\u001b[39;00m remaining \u001b[39m>\u001b[39m \u001b[39m0\u001b[39m:\n\u001b[0;32m--> 395\u001b[0m     chunk \u001b[39m=\u001b[39m read(handle, remaining)\n\u001b[1;32m    396\u001b[0m     n \u001b[39m=\u001b[39m \u001b[39mlen\u001b[39m(chunk)\n\u001b[1;32m    397\u001b[0m     \u001b[39mif\u001b[39;00m n \u001b[39m==\u001b[39m \u001b[39m0\u001b[39m:\n",
      "\u001b[0;31mKeyboardInterrupt\u001b[0m: "
     ]
    }
   ],
   "source": [
    "l()"
   ]
  },
  {
   "cell_type": "code",
   "execution_count": 3,
   "metadata": {},
   "outputs": [
    {
     "data": {
      "text/plain": [
       "7.778000053804135e-06"
      ]
     },
     "execution_count": 3,
     "metadata": {},
     "output_type": "execute_result"
    }
   ],
   "source": [
    "\n",
    "import time\n",
    "from typing import Callable\n",
    "class Timer:\n",
    "    timelapsed: float\n",
    "    def __init__(self, time_func: Callable[..., float] = time.perf_counter):\n",
    "        self.time_func = time_func\n",
    "        \n",
    "    def __enter__(self):\n",
    "        self.t0 = self.time_func()\n",
    "        return self\n",
    "\n",
    "    def __exit__(self, *exc):\n",
    "        self.timelapsed = self.time_func()-self.t0\n",
    "        return False\n",
    "\n",
    "with Timer() as timer:\n",
    "    1+1\n",
    "\n",
    "timer.timelapsed"
   ]
  },
  {
   "cell_type": "code",
   "execution_count": 40,
   "metadata": {},
   "outputs": [
    {
     "data": {
      "text/plain": [
       "0.00018729500015979283"
      ]
     },
     "execution_count": 40,
     "metadata": {},
     "output_type": "execute_result"
    }
   ],
   "source": [
    "\n",
    "p = time.perf_counter\n",
    "t0 = p()\n",
    "1+1\n",
    "t1 = p()\n",
    "t1-t0"
   ]
  },
  {
   "cell_type": "code",
   "execution_count": null,
   "metadata": {},
   "outputs": [],
   "source": []
  }
 ],
 "metadata": {
  "kernelspec": {
   "display_name": ".venv",
   "language": "python",
   "name": "python3"
  },
  "language_info": {
   "codemirror_mode": {
    "name": "ipython",
    "version": 3
   },
   "file_extension": ".py",
   "mimetype": "text/x-python",
   "name": "python",
   "nbconvert_exporter": "python",
   "pygments_lexer": "ipython3",
   "version": "3.11.9"
  }
 },
 "nbformat": 4,
 "nbformat_minor": 2
}
