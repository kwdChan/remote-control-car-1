{
 "cells": [
  {
   "cell_type": "code",
   "execution_count": 1,
   "metadata": {},
   "outputs": [],
   "source": [
    "\n",
    "from typing import Callable, Tuple, TypeVar, cast, get_origin, get_args, Union, Any, Optional, Dict, List\n",
    "from components import CallChannel, ComponentStarter, numpy_sample_setup\n",
    "from utils import mon_samples\n",
    "from components.microphone import microphone as mic\n",
    "from components.microphone import wecongition as we\n",
    "\n",
    "from data_collection.data_collection import LoggerSet\n",
    "import numpy as np\n",
    "import datetime\n",
    "from multiprocessing import Manager\n",
    "\n",
    "import RPi.GPIO as GPIO\n",
    "\n",
    "from IPython.display import Audio\n",
    "\n",
    "import plotly.express as px\n",
    "GPIO.setmode(GPIO.BOARD)\n",
    "\n",
    "%load_ext autoreload\n",
    "%autoreload 2\n"
   ]
  },
  {
   "cell_type": "code",
   "execution_count": 2,
   "metadata": {},
   "outputs": [],
   "source": [
    "m = Manager()"
   ]
  },
  {
   "cell_type": "code",
   "execution_count": 42,
   "metadata": {},
   "outputs": [],
   "source": [
    "mic_com = ComponentStarter(\n",
    "    mic.MicrophoneComponent, \n",
    "    m, \n",
    "    instantiator=mic.MicrophoneComponent.entry, \n",
    "    init_kwargs = dict(\n",
    "        device_indices=[9, 10]\n",
    "    )\n",
    ")\n",
    "wecog = ComponentStarter(\n",
    "    we.Wecognition, \n",
    "    m, \n",
    "    loop_intervals=dict(main_loop=0.05),\n",
    "    init_kwargs = dict(\n",
    "        model_path='wecongition_model_v0.onnx'\n",
    "    )\n",
    ")\n"
   ]
  },
  {
   "cell_type": "code",
   "execution_count": 43,
   "metadata": {},
   "outputs": [],
   "source": [
    "wecog.register_outgoing_rpc(dict(get_signal=mic_com.incoming_rpcs['get_signal']))"
   ]
  },
  {
   "cell_type": "code",
   "execution_count": 44,
   "metadata": {},
   "outputs": [
    {
     "name": "stderr",
     "output_type": "stream",
     "text": [
      "/home/kawa/projects/car1/src/components/microphone/wecongition.py:41: RuntimeWarning: invalid value encountered in divide\n",
      "  sig /= (sig**2).sum()**(1/2)\n",
      "/home/kawa/projects/car1/src/components/syncronisation/__init__.py:224: UserWarning: the real interval is >= ideal_interval\n",
      "  warnings.warn(\"the real interval is >= ideal_interval\")\n"
     ]
    }
   ],
   "source": [
    "mic_com.start()\n",
    "wecog.start()"
   ]
  },
  {
   "cell_type": "code",
   "execution_count": 33,
   "metadata": {},
   "outputs": [],
   "source": [
    "for i in range(100):\n",
    "    (mic_com.incoming_rpcs['get_signal'].call(0)())"
   ]
  },
  {
   "cell_type": "code",
   "execution_count": 41,
   "metadata": {},
   "outputs": [
    {
     "data": {
      "text/plain": [
       "(True, array([-22., -15.,  50., ...,  -7., 265., 164.]))"
      ]
     },
     "execution_count": 41,
     "metadata": {},
     "output_type": "execute_result"
    }
   ],
   "source": [
    "(mic_com.incoming_rpcs['get_signal'].call(0)())"
   ]
  },
  {
   "cell_type": "code",
   "execution_count": 16,
   "metadata": {},
   "outputs": [
    {
     "data": {
      "text/plain": [
       "142.85714285714286"
      ]
     },
     "execution_count": 16,
     "metadata": {},
     "output_type": "execute_result"
    }
   ],
   "source": [
    "100/0.7"
   ]
  },
  {
   "cell_type": "code",
   "execution_count": 18,
   "metadata": {},
   "outputs": [
    {
     "data": {
      "text/plain": [
       "7.042253521126761"
      ]
     },
     "execution_count": 18,
     "metadata": {},
     "output_type": "execute_result"
    }
   ],
   "source": [
    "1/142*1000"
   ]
  },
  {
   "cell_type": "code",
   "execution_count": 46,
   "metadata": {},
   "outputs": [
    {
     "name": "stdout",
     "output_type": "stream",
     "text": [
      "0.005038648843765259                            \r"
     ]
    },
    {
     "ename": "KeyboardInterrupt",
     "evalue": "",
     "output_type": "error",
     "traceback": [
      "\u001b[0;31m---------------------------------------------------------------------------\u001b[0m",
      "\u001b[0;31mKeyboardInterrupt\u001b[0m                         Traceback (most recent call last)",
      "\u001b[1;32m/home/kawa/projects/car1/src/microphone_com_test copy.ipynb Cell 10\u001b[0m line \u001b[0;36m1\n\u001b[0;32m----> <a href='vscode-notebook-cell://127.0.0.1:8080/home/kawa/projects/car1/src/microphone_com_test%20copy.ipynb#X36sdnNjb2RlLXJlbW90ZQ%3D%3D?line=0'>1</a>\u001b[0m mon_samples(wecog\u001b[39m.\u001b[39;49moutgoing_samples, interval\u001b[39m=\u001b[39;49m\u001b[39m0.001\u001b[39;49m)\n",
      "File \u001b[0;32m~/projects/car1/src/utils.py:25\u001b[0m, in \u001b[0;36mmon_samples\u001b[0;34m(samples, interval)\u001b[0m\n\u001b[1;32m     23\u001b[0m     line \u001b[39m=\u001b[39m line \u001b[39m+\u001b[39m \u001b[39mstr\u001b[39m(s()) \u001b[39m+\u001b[39m \u001b[39m'\u001b[39m\u001b[39m, \u001b[39m\u001b[39m'\u001b[39m\n\u001b[1;32m     24\u001b[0m \u001b[39mprint\u001b[39m(line[:\u001b[39m-\u001b[39m\u001b[39m2\u001b[39m], end\u001b[39m=\u001b[39m\u001b[39m'\u001b[39m\u001b[39m                          \u001b[39m\u001b[39m\\r\u001b[39;00m\u001b[39m'\u001b[39m)\n\u001b[0;32m---> 25\u001b[0m time\u001b[39m.\u001b[39msleep(interval)\n",
      "\u001b[0;31mKeyboardInterrupt\u001b[0m: "
     ]
    }
   ],
   "source": [
    "mon_samples(wecog.outgoing_samples, interval=0.001)"
   ]
  },
  {
   "cell_type": "code",
   "execution_count": 32,
   "metadata": {},
   "outputs": [
    {
     "data": {
      "text/plain": [
       "<Semaphore(value=0)>"
      ]
     },
     "execution_count": 32,
     "metadata": {},
     "output_type": "execute_result"
    }
   ],
   "source": [
    "(mic_com.incoming_rpcs['get_signal'].call_semaphore)"
   ]
  },
  {
   "cell_type": "code",
   "execution_count": 7,
   "metadata": {},
   "outputs": [],
   "source": [
    "#mic_com.process_starter.terminate()\n",
    "wecog.process_starter.terminate()\n"
   ]
  },
  {
   "cell_type": "code",
   "execution_count": 27,
   "metadata": {},
   "outputs": [
    {
     "data": {
      "text/plain": [
       "6400"
      ]
     },
     "execution_count": 27,
     "metadata": {},
     "output_type": "execute_result"
    }
   ],
   "source": [
    "len(mic_com.incoming_rpcs['get_signal'].call(0)()[1])"
   ]
  },
  {
   "cell_type": "code",
   "execution_count": 22,
   "metadata": {},
   "outputs": [
    {
     "data": {
      "text/plain": [
       "13.0"
      ]
     },
     "execution_count": 22,
     "metadata": {},
     "output_type": "execute_result"
    }
   ],
   "source": [
    "6656/512"
   ]
  },
  {
   "cell_type": "code",
   "execution_count": null,
   "metadata": {},
   "outputs": [],
   "source": [
    "ComponentStarter?"
   ]
  },
  {
   "cell_type": "code",
   "execution_count": null,
   "metadata": {},
   "outputs": [],
   "source": [
    "class TempData:\n",
    "    def __init__(self):\n",
    "        self.data = {0: [], 1: []}\n",
    "\n",
    "    def append(self, idx, sig):\n",
    "        self.data[idx] += sig\n",
    "\n",
    "\n",
    "x = TempData()\n",
    "mics.start(x.append)"
   ]
  },
  {
   "cell_type": "code",
   "execution_count": null,
   "metadata": {},
   "outputs": [],
   "source": [
    "mics.stop()"
   ]
  },
  {
   "cell_type": "code",
   "execution_count": null,
   "metadata": {},
   "outputs": [],
   "source": [
    "mics.sample_rate"
   ]
  },
  {
   "cell_type": "code",
   "execution_count": null,
   "metadata": {},
   "outputs": [],
   "source": [
    "Audio(np.array(x.data[0][:])-np.array(x.data[1][:]), rate=mics.sample_rate)"
   ]
  },
  {
   "cell_type": "code",
   "execution_count": null,
   "metadata": {},
   "outputs": [],
   "source": [
    "Audio(np.array(x.data[0]), rate=mics.sample_rate)"
   ]
  },
  {
   "cell_type": "code",
   "execution_count": null,
   "metadata": {},
   "outputs": [],
   "source": [
    "x0 = np.array(x.data[0])\n",
    "x1 = np.array(x.data[1])\n",
    "\n"
   ]
  },
  {
   "cell_type": "code",
   "execution_count": null,
   "metadata": {},
   "outputs": [],
   "source": [
    "x0n = x0/(x0**2).sum()**(1/2)"
   ]
  },
  {
   "cell_type": "code",
   "execution_count": null,
   "metadata": {},
   "outputs": [],
   "source": [
    "x1n = x1/(x1**2).sum()**(1/2)"
   ]
  },
  {
   "cell_type": "code",
   "execution_count": null,
   "metadata": {},
   "outputs": [],
   "source": [
    "Audio(x1n-x0n, rate=16000)"
   ]
  },
  {
   "cell_type": "code",
   "execution_count": null,
   "metadata": {},
   "outputs": [],
   "source": [
    "Audio(x1n, rate=16000)"
   ]
  },
  {
   "cell_type": "code",
   "execution_count": null,
   "metadata": {},
   "outputs": [],
   "source": [
    "np.vector_norm"
   ]
  },
  {
   "cell_type": "code",
   "execution_count": null,
   "metadata": {},
   "outputs": [],
   "source": [
    "px.line(np.c_[x0n, x1n][10000:50000])"
   ]
  },
  {
   "cell_type": "code",
   "execution_count": null,
   "metadata": {},
   "outputs": [],
   "source": [
    "px.line((x0n-x1n)[10000:50000])"
   ]
  },
  {
   "cell_type": "code",
   "execution_count": null,
   "metadata": {},
   "outputs": [],
   "source": [
    "len(np.c_[x0, x1])"
   ]
  },
  {
   "cell_type": "code",
   "execution_count": null,
   "metadata": {},
   "outputs": [],
   "source": [
    "np.array(x.data[0][:100000])-np.array(x.data[1][:100000])"
   ]
  }
 ],
 "metadata": {
  "kernelspec": {
   "display_name": "venv3.11",
   "language": "python",
   "name": "python3"
  },
  "language_info": {
   "codemirror_mode": {
    "name": "ipython",
    "version": 3
   },
   "file_extension": ".py",
   "mimetype": "text/x-python",
   "name": "python",
   "nbconvert_exporter": "python",
   "pygments_lexer": "ipython3",
   "version": "3.11.9"
  }
 },
 "nbformat": 4,
 "nbformat_minor": 2
}
