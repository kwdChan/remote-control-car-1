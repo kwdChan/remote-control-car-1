{
 "cells": [
  {
   "cell_type": "code",
   "execution_count": 1,
   "metadata": {},
   "outputs": [],
   "source": [
    "\n",
    "from typing import Callable, Tuple, TypeVar, cast, get_origin, get_args, Union, Any, Optional, Dict, List\n",
    "from components import CallChannel, ComponentStarter\n",
    "\n",
    "from components.two_wheels import TwoWheelsV3\n",
    "from components.logger import LoggerComponent\n",
    "from components.controller.bluetooth_controller import BlueToothCarControlSPP_V2\n",
    "from components.controller.bluetooth_SPP_server import start_bluetooth_server_v2\n",
    "from components.gyroscope.gyroscope import AngularSpeedControlV3\n",
    "from components.camera import Picamera2V2\n",
    "from data_collection.data_collection import LoggerSet\n",
    "from multiprocessing import Manager\n",
    "import numpy as np\n",
    "import datetime\n",
    "import RPi.GPIO as GPIO\n",
    "GPIO.setmode(GPIO.BOARD)\n",
    "\n",
    "# from components import numpy_sample_setup\n",
    "# r, w = numpy_sample_setup(['d', 'd'], [0, 0])\n",
    "\n",
    "%load_ext autoreload\n",
    "%autoreload 2"
   ]
  },
  {
   "cell_type": "code",
   "execution_count": 2,
   "metadata": {},
   "outputs": [],
   "source": [
    "#loggerset = LoggerSet('../log/testsession'+str(datetime.datetime.now()), overwrite_ok=False)\n",
    "loggerset = LoggerSet('../log/session'+str(datetime.datetime.now()), overwrite_ok=False)\n",
    "manager = Manager()"
   ]
  },
  {
   "cell_type": "code",
   "execution_count": null,
   "metadata": {},
   "outputs": [],
   "source": []
  },
  {
   "cell_type": "code",
   "execution_count": 3,
   "metadata": {},
   "outputs": [
    {
     "name": "stdout",
     "output_type": "stream",
     "text": [
      "Making discoverable...\n"
     ]
    },
    {
     "name": "stdout",
     "output_type": "stream",
     "text": [
      "Starting Serial Port Profile...\n",
      "NewConnection(/org/bluez/hci0/dev_C8_BD_4D_BA_4F_15, 88)\n"
     ]
    }
   ],
   "source": [
    "logger_starter = ComponentStarter(\n",
    "    LoggerComponent, \n",
    "    manager, \n",
    "    init_kwargs=dict(\n",
    "        loggerset = loggerset\n",
    "    ),\n",
    "    loop_intervals={'step': 1/100},\n",
    ")\n",
    "\n",
    "two_wheel_starter = ComponentStarter(\n",
    "    TwoWheelsV3, \n",
    "    manager, \n",
    "    init_kwargs=dict(\n",
    "        left_pin = 33, \n",
    "        right_pin = 32, \n",
    "        dir_pins = (16, 18), \n",
    "        name='TwoWheelsV3'\n",
    "    ),\n",
    "    loop_intervals={'step': 1/100},\n",
    "    instantiator = TwoWheelsV3.entry\n",
    "\n",
    ")\n",
    "\n",
    "angular_speed_control_starter = ComponentStarter(\n",
    "    AngularSpeedControlV3, \n",
    "    manager, \n",
    "    init_kwargs=dict(\n",
    "        i2c_address=0x68, \n",
    "        bus_num=1,\n",
    "        name='AngularSpeedControlV3'\n",
    "    ),\n",
    "    loop_intervals={'step': 1/100},\n",
    "    instantiator = AngularSpeedControlV3.entry\n",
    ")\n",
    "\n",
    "bluetooth_control_starter = ComponentStarter(\n",
    "    BlueToothCarControlSPP_V2, \n",
    "    manager, \n",
    "    init_kwargs={},\n",
    "    loop_intervals={'step': 1/100},\n",
    ")\n",
    "\n",
    "bt_ser_out, bt_ser = start_bluetooth_server_v2(manager)\n",
    "\n",
    "\n",
    "picamera_starter = ComponentStarter(\n",
    "    Picamera2V2, \n",
    "    manager, \n",
    "    init_kwargs=dict(\n",
    "        resolution=(114, 64), \n",
    "        framerate=30,\n",
    "        name='Picamera2V2'\n",
    "    ),\n",
    "    loop_intervals={'step': 1/30},\n",
    "    sample_setup_kwargs=dict(default_values=[np.zeros((64, 114, 3), dtype=np.uint8)])\n",
    ")"
   ]
  },
  {
   "cell_type": "code",
   "execution_count": 4,
   "metadata": {},
   "outputs": [],
   "source": [
    "\n",
    "two_wheel_starter.register_outgoing_rpc(\n",
    "    dict(log=logger_starter.incoming_rpcs['log'])\n",
    ")\n",
    "\n",
    "angular_speed_control_starter.register_outgoing_rpc(\n",
    "    dict(log=logger_starter.incoming_rpcs['log'])\n",
    ")\n",
    "\n",
    "\n",
    "bluetooth_control_starter.register_outgoing_rpc(\n",
    "    dict(log=logger_starter.incoming_rpcs['log'])\n",
    ")\n",
    "\n",
    "picamera_starter.register_outgoing_rpc(\n",
    "    dict(\n",
    "        log=logger_starter.incoming_rpcs['log'],\n",
    "        setup_video_saver=logger_starter.incoming_rpcs['setup_video_saver'],\n",
    "        save_video_frame=logger_starter.incoming_rpcs['save_video_frame']\n",
    "        )\n",
    ")\n",
    "\n",
    "two_wheel_starter.register_incoming_samples(\n",
    "    angular_speed_control_starter.outgoing_sample_readers\n",
    ")\n",
    "\n",
    "angular_speed_control_starter.register_incoming_samples(\n",
    "    bluetooth_control_starter.outgoing_sample_readers\n",
    ")\n",
    "\n",
    "\n",
    "bluetooth_control_starter.register_incoming_samples(\n",
    "    bt_ser_out\n",
    ")"
   ]
  },
  {
   "cell_type": "code",
   "execution_count": 5,
   "metadata": {},
   "outputs": [
    {
     "name": "stderr",
     "output_type": "stream",
     "text": [
      "/home/kawa/projects/car1/src/components/syncronisation/__init__.py:333: UserWarning: the real interval is >= ideal_interval\n",
      "  warnings.warn(\"the real interval is >= ideal_interval\")\n"
     ]
    },
    {
     "name": "stderr",
     "output_type": "stream",
     "text": [
      "[2:18:13.407265913] [16091] \u001b[1;32m INFO \u001b[1;37mCamera \u001b[1;34mcamera_manager.cpp:313 \u001b[0mlibcamera v0.3.0+65-6ddd79b5-dirty (2024-06-24T11:13:49+10:00)\n",
      "[2:18:13.464088807] [16166] \u001b[1;33m WARN \u001b[1;37mRPiSdn \u001b[1;34msdn.cpp:40 \u001b[0mUsing legacy SDN tuning - please consider moving SDN inside rpi.denoise\n",
      "[2:18:13.467051693] [16166] \u001b[1;32m INFO \u001b[1;37mRPI \u001b[1;34mvc4.cpp:446 \u001b[0mRegistered camera /base/soc/i2c0mux/i2c@1/ov5647@36 to Unicam device /dev/media1 and ISP device /dev/media2\n",
      "[2:18:13.467345800] [16166] \u001b[1;32m INFO \u001b[1;37mRPI \u001b[1;34mpipeline_base.cpp:1104 \u001b[0mUsing configuration file '/usr/local/share/libcamera/pipeline/rpi/vc4/rpi_apps.yaml'\n",
      "[2:18:13.477770510] [16091] \u001b[1;32m INFO \u001b[1;37mCamera \u001b[1;34mcamera_manager.cpp:313 \u001b[0mlibcamera v0.3.0+65-6ddd79b5-dirty (2024-06-24T11:13:49+10:00)\n",
      "[2:18:13.512939755] [16169] \u001b[1;33m WARN \u001b[1;37mRPiSdn \u001b[1;34msdn.cpp:40 \u001b[0mUsing legacy SDN tuning - please consider moving SDN inside rpi.denoise\n",
      "[2:18:13.516418337] [16169] \u001b[1;32m INFO \u001b[1;37mRPI \u001b[1;34mvc4.cpp:446 \u001b[0mRegistered camera /base/soc/i2c0mux/i2c@1/ov5647@36 to Unicam device /dev/media1 and ISP device /dev/media2\n",
      "[2:18:13.516485521] [16169] \u001b[1;32m INFO \u001b[1;37mRPI \u001b[1;34mpipeline_base.cpp:1104 \u001b[0mUsing configuration file '/usr/local/share/libcamera/pipeline/rpi/vc4/rpi_apps.yaml'\n",
      "[2:18:13.558524876] [16091] \u001b[1;32m INFO \u001b[1;37mCamera \u001b[1;34mcamera.cpp:1183 \u001b[0mconfiguring streams: (0) 114x64-RGB888 (1) 1920x1080-SGRBG10_CSI2P\n",
      "[2:18:13.559139627] [16169] \u001b[1;32m INFO \u001b[1;37mRPI \u001b[1;34mvc4.cpp:621 \u001b[0mSensor: /base/soc/i2c0mux/i2c@1/ov5647@36 - Selected sensor format: 1920x1080-SGRBG10_1X10 - Selected unicam format: 1920x1080-pgAA\n",
      "/home/kawa/projects/car1/src/components/syncronisation/__init__.py:333: UserWarning: the real interval is >= ideal_interval\n",
      "  warnings.warn(\"the real interval is >= ideal_interval\")\n",
      "/home/kawa/projects/car1/src/components/syncronisation/__init__.py:333: UserWarning: the real interval is >= ideal_interval\n",
      "  warnings.warn(\"the real interval is >= ideal_interval\")\n",
      "/home/kawa/projects/car1/src/components/syncronisation/__init__.py:333: UserWarning: the real interval is >= ideal_interval\n",
      "  warnings.warn(\"the real interval is >= ideal_interval\")\n"
     ]
    },
    {
     "name": "stdout",
     "output_type": "stream",
     "text": [
      "saving: BlueToothCarControlSPP_V2\n",
      "saving: TwoWheelsV3\n",
      "saving: Picamera2V2\n",
      "saving: AngularSpeedControlV3\n",
      "saving: BlueToothCarControlSPP_V2\n",
      "saving: TwoWheelsV3\n",
      "saving: Picamera2V2\n",
      "saving: AngularSpeedControlV3\n",
      "saving: BlueToothCarControlSPP_V2\n",
      "saving: TwoWheelsV3\n",
      "saving: Picamera2V2\n",
      "saving: AngularSpeedControlV3\n",
      "saving: BlueToothCarControlSPP_V2\n",
      "saving: TwoWheelsV3\n",
      "saving: Picamera2V2\n",
      "saving: AngularSpeedControlV3\n",
      "saving: BlueToothCarControlSPP_V2\n",
      "saving: TwoWheelsV3\n",
      "saving: Picamera2V2\n",
      "saving: AngularSpeedControlV3\n",
      "saving: BlueToothCarControlSPP_V2\n",
      "saving: TwoWheelsV3\n",
      "saving: Picamera2V2\n",
      "saving: AngularSpeedControlV3\n"
     ]
    }
   ],
   "source": [
    "bluetooth_control_starter.start()\n",
    "logger_starter.start()\n",
    "two_wheel_starter.start()\n",
    "angular_speed_control_starter.start()\n",
    "picamera_starter.start()"
   ]
  },
  {
   "cell_type": "code",
   "execution_count": 19,
   "metadata": {},
   "outputs": [
    {
     "data": {
      "application/vnd.plotly.v1+json": {
       "config": {
        "plotlyServerURL": "https://plot.ly"
       },
       "data": [
        {
         "hovertemplate": "x: %{x}<br>y: %{y}<extra></extra>",
         "name": "0",
         "source": "data:image/png;base64,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",
         "type": "image",
         "xaxis": "x",
         "yaxis": "y"
        }
       ],
       "layout": {
        "margin": {
         "t": 60
        },
        "template": {
         "data": {
          "bar": [
           {
            "error_x": {
             "color": "#2a3f5f"
            },
            "error_y": {
             "color": "#2a3f5f"
            },
            "marker": {
             "line": {
              "color": "#E5ECF6",
              "width": 0.5
             },
             "pattern": {
              "fillmode": "overlay",
              "size": 10,
              "solidity": 0.2
             }
            },
            "type": "bar"
           }
          ],
          "barpolar": [
           {
            "marker": {
             "line": {
              "color": "#E5ECF6",
              "width": 0.5
             },
             "pattern": {
              "fillmode": "overlay",
              "size": 10,
              "solidity": 0.2
             }
            },
            "type": "barpolar"
           }
          ],
          "carpet": [
           {
            "aaxis": {
             "endlinecolor": "#2a3f5f",
             "gridcolor": "white",
             "linecolor": "white",
             "minorgridcolor": "white",
             "startlinecolor": "#2a3f5f"
            },
            "baxis": {
             "endlinecolor": "#2a3f5f",
             "gridcolor": "white",
             "linecolor": "white",
             "minorgridcolor": "white",
             "startlinecolor": "#2a3f5f"
            },
            "type": "carpet"
           }
          ],
          "choropleth": [
           {
            "colorbar": {
             "outlinewidth": 0,
             "ticks": ""
            },
            "type": "choropleth"
           }
          ],
          "contour": [
           {
            "colorbar": {
             "outlinewidth": 0,
             "ticks": ""
            },
            "colorscale": [
             [
              0,
              "#0d0887"
             ],
             [
              0.1111111111111111,
              "#46039f"
             ],
             [
              0.2222222222222222,
              "#7201a8"
             ],
             [
              0.3333333333333333,
              "#9c179e"
             ],
             [
              0.4444444444444444,
              "#bd3786"
             ],
             [
              0.5555555555555556,
              "#d8576b"
             ],
             [
              0.6666666666666666,
              "#ed7953"
             ],
             [
              0.7777777777777778,
              "#fb9f3a"
             ],
             [
              0.8888888888888888,
              "#fdca26"
             ],
             [
              1,
              "#f0f921"
             ]
            ],
            "type": "contour"
           }
          ],
          "contourcarpet": [
           {
            "colorbar": {
             "outlinewidth": 0,
             "ticks": ""
            },
            "type": "contourcarpet"
           }
          ],
          "heatmap": [
           {
            "colorbar": {
             "outlinewidth": 0,
             "ticks": ""
            },
            "colorscale": [
             [
              0,
              "#0d0887"
             ],
             [
              0.1111111111111111,
              "#46039f"
             ],
             [
              0.2222222222222222,
              "#7201a8"
             ],
             [
              0.3333333333333333,
              "#9c179e"
             ],
             [
              0.4444444444444444,
              "#bd3786"
             ],
             [
              0.5555555555555556,
              "#d8576b"
             ],
             [
              0.6666666666666666,
              "#ed7953"
             ],
             [
              0.7777777777777778,
              "#fb9f3a"
             ],
             [
              0.8888888888888888,
              "#fdca26"
             ],
             [
              1,
              "#f0f921"
             ]
            ],
            "type": "heatmap"
           }
          ],
          "heatmapgl": [
           {
            "colorbar": {
             "outlinewidth": 0,
             "ticks": ""
            },
            "colorscale": [
             [
              0,
              "#0d0887"
             ],
             [
              0.1111111111111111,
              "#46039f"
             ],
             [
              0.2222222222222222,
              "#7201a8"
             ],
             [
              0.3333333333333333,
              "#9c179e"
             ],
             [
              0.4444444444444444,
              "#bd3786"
             ],
             [
              0.5555555555555556,
              "#d8576b"
             ],
             [
              0.6666666666666666,
              "#ed7953"
             ],
             [
              0.7777777777777778,
              "#fb9f3a"
             ],
             [
              0.8888888888888888,
              "#fdca26"
             ],
             [
              1,
              "#f0f921"
             ]
            ],
            "type": "heatmapgl"
           }
          ],
          "histogram": [
           {
            "marker": {
             "pattern": {
              "fillmode": "overlay",
              "size": 10,
              "solidity": 0.2
             }
            },
            "type": "histogram"
           }
          ],
          "histogram2d": [
           {
            "colorbar": {
             "outlinewidth": 0,
             "ticks": ""
            },
            "colorscale": [
             [
              0,
              "#0d0887"
             ],
             [
              0.1111111111111111,
              "#46039f"
             ],
             [
              0.2222222222222222,
              "#7201a8"
             ],
             [
              0.3333333333333333,
              "#9c179e"
             ],
             [
              0.4444444444444444,
              "#bd3786"
             ],
             [
              0.5555555555555556,
              "#d8576b"
             ],
             [
              0.6666666666666666,
              "#ed7953"
             ],
             [
              0.7777777777777778,
              "#fb9f3a"
             ],
             [
              0.8888888888888888,
              "#fdca26"
             ],
             [
              1,
              "#f0f921"
             ]
            ],
            "type": "histogram2d"
           }
          ],
          "histogram2dcontour": [
           {
            "colorbar": {
             "outlinewidth": 0,
             "ticks": ""
            },
            "colorscale": [
             [
              0,
              "#0d0887"
             ],
             [
              0.1111111111111111,
              "#46039f"
             ],
             [
              0.2222222222222222,
              "#7201a8"
             ],
             [
              0.3333333333333333,
              "#9c179e"
             ],
             [
              0.4444444444444444,
              "#bd3786"
             ],
             [
              0.5555555555555556,
              "#d8576b"
             ],
             [
              0.6666666666666666,
              "#ed7953"
             ],
             [
              0.7777777777777778,
              "#fb9f3a"
             ],
             [
              0.8888888888888888,
              "#fdca26"
             ],
             [
              1,
              "#f0f921"
             ]
            ],
            "type": "histogram2dcontour"
           }
          ],
          "mesh3d": [
           {
            "colorbar": {
             "outlinewidth": 0,
             "ticks": ""
            },
            "type": "mesh3d"
           }
          ],
          "parcoords": [
           {
            "line": {
             "colorbar": {
              "outlinewidth": 0,
              "ticks": ""
             }
            },
            "type": "parcoords"
           }
          ],
          "pie": [
           {
            "automargin": true,
            "type": "pie"
           }
          ],
          "scatter": [
           {
            "fillpattern": {
             "fillmode": "overlay",
             "size": 10,
             "solidity": 0.2
            },
            "type": "scatter"
           }
          ],
          "scatter3d": [
           {
            "line": {
             "colorbar": {
              "outlinewidth": 0,
              "ticks": ""
             }
            },
            "marker": {
             "colorbar": {
              "outlinewidth": 0,
              "ticks": ""
             }
            },
            "type": "scatter3d"
           }
          ],
          "scattercarpet": [
           {
            "marker": {
             "colorbar": {
              "outlinewidth": 0,
              "ticks": ""
             }
            },
            "type": "scattercarpet"
           }
          ],
          "scattergeo": [
           {
            "marker": {
             "colorbar": {
              "outlinewidth": 0,
              "ticks": ""
             }
            },
            "type": "scattergeo"
           }
          ],
          "scattergl": [
           {
            "marker": {
             "colorbar": {
              "outlinewidth": 0,
              "ticks": ""
             }
            },
            "type": "scattergl"
           }
          ],
          "scattermapbox": [
           {
            "marker": {
             "colorbar": {
              "outlinewidth": 0,
              "ticks": ""
             }
            },
            "type": "scattermapbox"
           }
          ],
          "scatterpolar": [
           {
            "marker": {
             "colorbar": {
              "outlinewidth": 0,
              "ticks": ""
             }
            },
            "type": "scatterpolar"
           }
          ],
          "scatterpolargl": [
           {
            "marker": {
             "colorbar": {
              "outlinewidth": 0,
              "ticks": ""
             }
            },
            "type": "scatterpolargl"
           }
          ],
          "scatterternary": [
           {
            "marker": {
             "colorbar": {
              "outlinewidth": 0,
              "ticks": ""
             }
            },
            "type": "scatterternary"
           }
          ],
          "surface": [
           {
            "colorbar": {
             "outlinewidth": 0,
             "ticks": ""
            },
            "colorscale": [
             [
              0,
              "#0d0887"
             ],
             [
              0.1111111111111111,
              "#46039f"
             ],
             [
              0.2222222222222222,
              "#7201a8"
             ],
             [
              0.3333333333333333,
              "#9c179e"
             ],
             [
              0.4444444444444444,
              "#bd3786"
             ],
             [
              0.5555555555555556,
              "#d8576b"
             ],
             [
              0.6666666666666666,
              "#ed7953"
             ],
             [
              0.7777777777777778,
              "#fb9f3a"
             ],
             [
              0.8888888888888888,
              "#fdca26"
             ],
             [
              1,
              "#f0f921"
             ]
            ],
            "type": "surface"
           }
          ],
          "table": [
           {
            "cells": {
             "fill": {
              "color": "#EBF0F8"
             },
             "line": {
              "color": "white"
             }
            },
            "header": {
             "fill": {
              "color": "#C8D4E3"
             },
             "line": {
              "color": "white"
             }
            },
            "type": "table"
           }
          ]
         },
         "layout": {
          "annotationdefaults": {
           "arrowcolor": "#2a3f5f",
           "arrowhead": 0,
           "arrowwidth": 1
          },
          "autotypenumbers": "strict",
          "coloraxis": {
           "colorbar": {
            "outlinewidth": 0,
            "ticks": ""
           }
          },
          "colorscale": {
           "diverging": [
            [
             0,
             "#8e0152"
            ],
            [
             0.1,
             "#c51b7d"
            ],
            [
             0.2,
             "#de77ae"
            ],
            [
             0.3,
             "#f1b6da"
            ],
            [
             0.4,
             "#fde0ef"
            ],
            [
             0.5,
             "#f7f7f7"
            ],
            [
             0.6,
             "#e6f5d0"
            ],
            [
             0.7,
             "#b8e186"
            ],
            [
             0.8,
             "#7fbc41"
            ],
            [
             0.9,
             "#4d9221"
            ],
            [
             1,
             "#276419"
            ]
           ],
           "sequential": [
            [
             0,
             "#0d0887"
            ],
            [
             0.1111111111111111,
             "#46039f"
            ],
            [
             0.2222222222222222,
             "#7201a8"
            ],
            [
             0.3333333333333333,
             "#9c179e"
            ],
            [
             0.4444444444444444,
             "#bd3786"
            ],
            [
             0.5555555555555556,
             "#d8576b"
            ],
            [
             0.6666666666666666,
             "#ed7953"
            ],
            [
             0.7777777777777778,
             "#fb9f3a"
            ],
            [
             0.8888888888888888,
             "#fdca26"
            ],
            [
             1,
             "#f0f921"
            ]
           ],
           "sequentialminus": [
            [
             0,
             "#0d0887"
            ],
            [
             0.1111111111111111,
             "#46039f"
            ],
            [
             0.2222222222222222,
             "#7201a8"
            ],
            [
             0.3333333333333333,
             "#9c179e"
            ],
            [
             0.4444444444444444,
             "#bd3786"
            ],
            [
             0.5555555555555556,
             "#d8576b"
            ],
            [
             0.6666666666666666,
             "#ed7953"
            ],
            [
             0.7777777777777778,
             "#fb9f3a"
            ],
            [
             0.8888888888888888,
             "#fdca26"
            ],
            [
             1,
             "#f0f921"
            ]
           ]
          },
          "colorway": [
           "#636efa",
           "#EF553B",
           "#00cc96",
           "#ab63fa",
           "#FFA15A",
           "#19d3f3",
           "#FF6692",
           "#B6E880",
           "#FF97FF",
           "#FECB52"
          ],
          "font": {
           "color": "#2a3f5f"
          },
          "geo": {
           "bgcolor": "white",
           "lakecolor": "white",
           "landcolor": "#E5ECF6",
           "showlakes": true,
           "showland": true,
           "subunitcolor": "white"
          },
          "hoverlabel": {
           "align": "left"
          },
          "hovermode": "closest",
          "mapbox": {
           "style": "light"
          },
          "paper_bgcolor": "white",
          "plot_bgcolor": "#E5ECF6",
          "polar": {
           "angularaxis": {
            "gridcolor": "white",
            "linecolor": "white",
            "ticks": ""
           },
           "bgcolor": "#E5ECF6",
           "radialaxis": {
            "gridcolor": "white",
            "linecolor": "white",
            "ticks": ""
           }
          },
          "scene": {
           "xaxis": {
            "backgroundcolor": "#E5ECF6",
            "gridcolor": "white",
            "gridwidth": 2,
            "linecolor": "white",
            "showbackground": true,
            "ticks": "",
            "zerolinecolor": "white"
           },
           "yaxis": {
            "backgroundcolor": "#E5ECF6",
            "gridcolor": "white",
            "gridwidth": 2,
            "linecolor": "white",
            "showbackground": true,
            "ticks": "",
            "zerolinecolor": "white"
           },
           "zaxis": {
            "backgroundcolor": "#E5ECF6",
            "gridcolor": "white",
            "gridwidth": 2,
            "linecolor": "white",
            "showbackground": true,
            "ticks": "",
            "zerolinecolor": "white"
           }
          },
          "shapedefaults": {
           "line": {
            "color": "#2a3f5f"
           }
          },
          "ternary": {
           "aaxis": {
            "gridcolor": "white",
            "linecolor": "white",
            "ticks": ""
           },
           "baxis": {
            "gridcolor": "white",
            "linecolor": "white",
            "ticks": ""
           },
           "bgcolor": "#E5ECF6",
           "caxis": {
            "gridcolor": "white",
            "linecolor": "white",
            "ticks": ""
           }
          },
          "title": {
           "x": 0.05
          },
          "xaxis": {
           "automargin": true,
           "gridcolor": "white",
           "linecolor": "white",
           "ticks": "",
           "title": {
            "standoff": 15
           },
           "zerolinecolor": "white",
           "zerolinewidth": 2
          },
          "yaxis": {
           "automargin": true,
           "gridcolor": "white",
           "linecolor": "white",
           "ticks": "",
           "title": {
            "standoff": 15
           },
           "zerolinecolor": "white",
           "zerolinewidth": 2
          }
         }
        },
        "xaxis": {
         "anchor": "y",
         "domain": [
          0,
          1
         ]
        },
        "yaxis": {
         "anchor": "x",
         "domain": [
          0,
          1
         ]
        }
       }
      },
      "text/html": [
       "<div>                            <div id=\"f81fd617-ea48-4662-8881-7a8878522889\" class=\"plotly-graph-div\" style=\"height:525px; width:100%;\"></div>            <script type=\"text/javascript\">                require([\"plotly\"], function(Plotly) {                    window.PLOTLYENV=window.PLOTLYENV || {};                                    if (document.getElementById(\"f81fd617-ea48-4662-8881-7a8878522889\")) {                    Plotly.newPlot(                        \"f81fd617-ea48-4662-8881-7a8878522889\",                        [{\"name\":\"0\",\"source\":\"data:image\\u002fpng;base64,iVBORw0KGgoAAAANSUhEUgAAAHIAAABACAIAAABJDbSMAAAvHklEQVR4Xi27za5tWZKlNYaZzbnW3ufce909PCIj\\u002fyszlVJCUSVVqRA0AAmJFg3ehiYtOoh3oMEL0EKCFyioDlRJdKpUpKj8j4yMDHe\\u002f95y911rTzAYNr\\u002f7sTU2z8Zl9k\\u002f3n\\u002fwMaSKs02GYgyP\\u002fuf\\u002fzl\\u002f\\u002fF\\u002fffmd7dtn8Vx14XivsjMVV6uvFezPv\\u002fsnP\\u002fTHkL98vKp3grsTrwM+mXl9rvr+Vz88356\\u002f8ZNPv\\u002ftH\\u002f+C3Pn14vd3crOjRMAdH7j5+4zZ7OjqHG1hN\\u002f5\\u002f+5\\u002f\\u002f1X\\u002f7f\\u002f8+jz3k2gj\\u002f\\u002fyfzNb++\\u002f\\u002fY1\\u002ffNk+vYzby3zZY985qq60XP39l8d5rNsc923nUINtw5e3naPOJMu3F0cF3q7+\\u002fP35q8\\u002fH3\\u002f4qv\\u002f2DP\\u002fiv\\u002frN\\u002fqhb6SnW1jkXW8Xzmn\\u002f3Nr\\u002f\\u002fi3\\u002f3Nn\\u002f3l95\\u002fP9z\\u002f+B9\\u002f+h3\\u002f889\\u002f7zVen1uKqzh4oZB1V8q4FsQCYMR8mvI2nnmQHOOGO2KxQ13Odo1CfPt1fvZukMhZOhXOdoDlWbwxs2I63H\\u002f78F290DMauXD7MfVisumodX3\\u002f789\\u002f+vd\\u002f9Bz\\u002f72TZj7ptFnx7TWXBBWzGLz82\\u002fFOZ1WbfciX5idfDYYruOa5gn\\u002fuK78+9+ff7bscJk4YmIrgq9mI8x9hunFTmmh4YcVDtZfeEB5bGuC2\\u002fA5+M8jsy1Ntvm0H3u\\u002f8UfOwgFXW49rdKwlu9f8\\u002fH6Rz\\u002f7kz\\u002f4al32+YE\\u002f\\u002fatf\\u002fIt\\u002f9Wf\\u002fy\\u002f\\u002f23U+\\u002fHX\\u002f4m9\\u002f85OtPLy8+thnG25xXOXAku7pT+XyY65l19VkBALZgN\\u002foW4dhKpTE+D+WlvtJPXKcfSUUnijec2zf989\\u002f59Ft\\u002f+J\\u002f+IzPluTHkthRXP9fqIXx8ub18dX+d+y2SZafRPG5WTH9yZLBCJCcRYbBBA9irsb7\\u002fu2++ug2Dte\\u002fMirqVV6BEyX1xWZtoBz9H93HiLZHmPJlq4KIfrMhSEY0TLUMDAIfKMdqU9Irx+nKr8wHO8iphSKIc6DmQG33sWvtX\\u002fOrDb\\u002fzjP\\u002fnJ8xp\\u002f\\u002fpe\\u002f\\u002ftO\\u002f+OW\\u002f\\u002fpd\\u002f8\\u002f33vx5zfvPNhw9fvd7m5sGd6+9+4HmdX97fHu\\u002frwSIQsAkW0OAT4WBTer0X3NfV72jZ88B7X8d4OX\\u002f6s5dvf++rD\\u002fevXbpZYo776wstBusHmx\\u002fW17bpheDVtg\\u002f5foXcYaGgg9kbX9OJfsd0lGsEEVHXCrMVQx+++eb3f\\u002f8\\u002f+uNf1J\\u002f\\u002f6b95\\u002f\\u002fxm46zrWhil2FUOTZioDnUHebC86O+GzbqFbrgzhARONxZPIJqwvBiTrIq79GGf\\u002f+gPf3OMWRgXNu+z1A2n0cka3hleVPTQXrWE+u2fffqtn31TJdbxV39\\u002f\\u002fOlf\\u002feoXv\\u002fr15y9\\u002f+zx0e90+bPEygrf7Nx\\u002ftd8Y8SpFXk2a84DvHDeOOyN\\u002f+zUs8zjgfj7+Z8+1nP99\\u002f\\u002fvOvf\\u002fu3vnlcY5rtm4dTo+fwtv5gBm5jaXxlsQWbZ3hcgg9tiMpiOAiEmXPn0YvYTFLAb+Zhw9vdGIrb7evfwH\\u002f8n\\u002f\\u002fH\\u002f8E\\u002f+ae\\u002f\\u002fP67737xF7\\u002f8m1+eP3x3vv\\u002fw+Xwur48X4GTL63mNANlSHpVF87yBvPQwa+eWvdx2oqW0adXLOF72+1c\\u002f+fYPfs9iz9ij\\u002fW7d817wLa8zO5mW4Z7aZxcWV7pT6VXvlqtEbi8f7R\\u002fdf8f\\u002f6KftdlxugZ1slPuYOHsJyPhv\\u002f\\u002fv\\u002f88a24bzP3fw+ue23\\u002f\\u002ffP3p\\u002f2tv\\u002fs\\u002fo9\\u002f9tsffuNPPmzwa3\\u002fmZWjIpPpec2sf1mZ27bex+aBQTppe7KMRN7kz01MxtJYwGPdpVajt1brREse4T984sxfMATG3F\\u002fzWh5dffnn\\u002f9POv9ce\\u002f\\u002f3zmqjVzlfL7z18+f\\u002fd2Hl+ej+fbOnAd68qz0p7no3XLq2hh+Dq4WhnbV2ba9g\\u002f79Pu27\\u002fdvv\\u002f76ZffXuO13NL+yuMnKtGqZ8DzlpXnmKqxaUUe2XVt2RXhYzjSzr+4dbsJtItFbL0ohGtdKFIFE9Kmliv\\u002fmv\\u002f4vr8UL11nU4rHy+bhe\\u002f6j\\u002f2e\\u002f5xFBMiolm4G57OpdJ1vfiISv0NirckezJcl\\u002fGPK02Tqid4TzI2aNaiLHId7dRFMIoTu9yplqGlowDJPC3371z2dp4M1hH37YJgPXVb\\u002f7kSkP3tc7r7At6cazJ89R1rDFdx+XeM+iUrojQNTA6HxV18T6WVEPjZTeO+ThAd7VbJHNesAYGqn0bg8SkJm95bzbOMza\\u002fPOKYwZa7AR0KsFWpDOOl1SkQ+9jk8Ye\\u002fvcvkvRUnpa7Rjb9+y3\\u002fxb9628I9hf\\u002fZD7YRxN8p8OXT2cuoGloVBD8nGzuqwcYv+6DDw0vIzviiDZrQtugtLtl\\u002ft9zC6O8IIL8Aog7dTC+PTh\\u002ftvmR7PfvTVwWl2CLGV11zgZp2bffUyi43HglPm5w12XVe17jdDmtV0jvJnI3Jpe\\u002fl0pe1p9pHIMPu40cdMs91RINqHj82ZuOx6iU65EKIxZSXqwpjdVkdu2QmKHVdGKFvXorQCrYwhtF\\u002ftPCNAkvDhEYYusMWf+\\u002fzpV3vRh\\u002fiN9LyKKOryMsIO7NjXWgTy0twLj046TPV+8SrFaI+tzEWadLlVp1LG9GEtJns0NrO1XCAahCng4stO85f+gGo81qpbXkCtbh5Bg3hkh+oV+ExD6h28PS+ptpehNnHUqnUeCycYbeHhY\\u002fgdYW0I3ug\\u002fue1z72CEIdRY2SABjxu0tmKT8jrHiErvofvQyrpWpzbF02Ks5ARqhKDOYudJ0raCpocUraJu5mhEAXUdubSefK4K+UUqdFcA3Xbzpdz8oxUVP1SNl8FEyz+AZ6g5nNUUEO9nvNzS5Ydo5fTxei9zGQOwaJK4jJ\\u002fmZJACBLTAijGnx0JvlS\\u002fDu5doLbTu2WUkKb\\u002fyKv00+Lzy+yvj4\\u002f1mXWQ7cC0r83FfajV9qNuiJOsXl5lNxk4kw3RcV6IWignRapRSSA2jqMaF5kRWLev2Cyj22jrKZZpVZewas\\u002f1Jt\\u002f14xXUOz+Ejt7DXvTuqqfW2ylNiBSI+mb47+9GNVvbosKO0+cBCSb6b9rgxOQOmkqJ8kJhjR9e0HTFrtmOv7IJS5y3uqyt65BnsR3xgu7Fc04zeLABtTSGw0xiObmJAtpSsbgxHLwsfhVpoPi6uR43oT79xN0hdNaCSh20xZU5XEbHanNNUDUu1sk\\u002f12Cay7IUBn4kao06QvPpCmY\\u002fVV+eYaFKuGOYniCOLl1MoQ6O1LW9UD023eVee6ssjfG4+BmiObSfUJvhq\\u002fCc\\u002f28+rjsvyWs9HHotnUenPqj790etsdLaMHX5z9mIEvfLJsGc784HAsWxGLyzl7YwcWCdODsoSGlYrh01kM+FmHTDQhzJaq7u1traetmkfkbIhaHZboLnBWLren2W3\\u002fauX3d2VeXW71FaCm+RWLZe3pGySwsCoiLuRmWOyFvt5YBisaa3oPT1xJQLhqGVusNyiq\\u002fZ50cat4nQAEhKrLRF9OVUNtt2wKhHf\\u002f+0bgDKHx6DR5O5NfT7jbN2nbh\\u002fj25\\u002fOOUJyOY00SURrXFcf53E1rsS6VMpafL\\u002fomOr8cqiWcfLa4lM7SMpzs1VNY4o5lIrRbAPUnV3ickwQMHMqoyhabFTTuRpmBMQOWHY\\u002fZAfsjirKWgcc1sOsHF7hVBTKozpXMQ0e9C4Z0FqyQpmNUHujrZ9xsyQJo++WOQiz4CSuKpbyvLyy3BqVQ6NsNtJQsjjlhtXWA4HZURguGVywWqSsQl3293+\\u002f\\u002fs33YnU1B0HjNpxmH4fNXXNobHO7xe7w0Kcb5web44OZzNAcaBkBU5edK9ea2ddKdXFVd+OZGE0O9247ugouRnBQCUgUfQ4WzDrTYKks7yyXMkzicCxVxZgxy2\\u002fMq6uHG2GzRkCFvjC0ZD3DWhBSF2zaQW0DMjoM7a8TlZRnp2BtwLMivCTUmUZEdh+ybnMAa7tua8CSiLKMGXyqu\\u002f2FuPRksAPrqjFVKEVIgrMJlw2y1gRyc8DLvdphfcquC+cpvIN2Te8MN4HdrmeL97AtrKxs8L7xdW5OxuZb9MstZmwxABmCMg56Z69HZvdqWBONFFNZ6dnNLFxMk8ycdA+od6ejF9z6Ot1EjEQ1ALQGAoOU4AhZulMCGC+sJVIJvsLZlfljcJVOmFcaymgZ0f0BkUxEnJdJPctKaWVtPeGXNc+isIC2qG7z9rPNcru0uhRpL1AR6RqiOQGgjT719QuuFc8HcvSWBPhsnOJiR3S47ZNn0wsWXBhmDPIyX87u6\\u002fpSv\\u002fy7PDx3hM+6DVyo1mI+0\\u002fjtzT\\u002ft2\\u002f11212bmzM8EDudYRT9BqSMjm45Aagbnam11GuxsWR\\u002fsNtP34bZvN\\u002f8ubh3mwBUyRsygckSio7qk1ILpdUq2iaEN5M1OIyEL9tb5SCGOQ6aZcd2rrJV4KRTzdDFMXtNasGQhxWXBsA9soln++gKUMHRcIWzR1uZDzfc5rDIw3QDEz1YadSJt2onJVrjUKZTWbdDtptdccJetyxztsFxf\\u002fFu6WqZLaMK5rrvLyv712\\u002f69SNf3+urEdtmE0onu6FTMqGGFOYKYmAzRpgNgNosYwtj7aEPX2\\u002fdm+RG0BwNFbo61atcWb0ii+eZ6xIsQMcq5OmrARS6ib6sS1DJYEASRJkENUS\\u002fjda2KWnVJtc10Q52DeudW3TjQ3eFKF\\u002fVH3s1X8PGNAN9EsBFSasrYOGoaeOEv8ALB8Ldvr3XKi56oVeSWhYKjDDZyacVu3\\u002f5YL2n2mPU2l3GNXyoLc2BWv22DN0eug\\u002f\\u002fdJ80N2ONCMjM1eym4A1eECSlWuCzyoTqSmRfoFL62y\\u002fPq+sn9\\u002fj5a9TwW4wtRHMbHMGYNtSwIZslGk5WJ0bVS595nk8B3cpElSyZpWfWFM+lJfSqI2s2q7Os\\u002fv1pcsQkxuaa0mVbLKw60KLaYQx5MbyyMciiGTZSczAcmpY30BycLmFE7GpZDKkuqf2YBG7ua6029zHdtmhgLzCr1G1mS+\\u002fvx3X1u9AX9w9zfzVUI\\u002fN1jFR\\u002fx3U3txidNSSZy2jlHsUuarijaKoSIbqHI+Qt0IGsg+\\u002fvj\\u002f3pbyOMwy4enr06qxYwupIKHkHShMFgBq+gZfe\\u002f\\u002flf\\u002f6h\\u002f+s3\\u002fy+rLT2qBUdZm7iKLYAgoL3Sv7Ws+s98u6F5rilYsLkdfx1WKNfoxZZ5fNuI6sW0THUcuzmm2YxkK46SrDo8Z7rh9Ovx6tiY+jF2zlQjtvMNe4XEMtEE7zubHPejACqBj3obZB1O3TDauW9HZpP88IvKfY61B8CneyEAf9XqL\\u002fmHsUdV4XQaPnbFRB1jcfKp4o0eOq9FwAV14VvXGBd6mNgFdQLhdWe3cj1chq9Am5+aUslfX+7T\\u002f8d395DjzWmBuapRq2s2KET6MhqKkyh7ax3ebd6JyQAZe6GwZu1ekAlCulWln3tVbmCoswBjxmqYEWpKr2yvSzxrMyMI44C5veUkOVdYXTV2VGc+YML\\u002fF55Kfm3dExNqelGutNmAk5zq4P0+a8794iNbiZuheXvb6Ozd2DDHPAe7hmE9kMaaIvoKw7QXbYUDWCFGplX6u6oagzT1WlKmyYOryqu4ziIYW8o7qcWeDAEIzbhx3ovs4WLiE5ePZ19VWrNpAalU5bgNIy6kK\\u002fKkEbrhgxbGnYtMsWX1+NqErKMDbf7yP8xBoySGjBEZA2A7yWD9Yp2fRc9fTTNhFuylBWwkRoB9DuTz+HP3t9\\u002f1hgvTpnZF3q27Zo4yplPthH+TswJwxWiDBxkHJDa6FTp1BZYxjdDN2G9GDYpubgQK9G0X4sC9Pn\\u002fZW\\u002fndcLNKZvwevFR0OtOqqEcFwBb9lKiNS1hGq6tRJmeRQJsrJlyxXeHLQwqLPwoA\\u002fJO4\\u002fspVnqH9hMZXnEGnCzyxrVeP3h+P3fvc17Z17Po94eFRZ+NyuoMKFkSQTMjdxu8Q0s1WufPPJzzOfKyvbzoI8TVGBkF3PfuDnN\\u002fCduD\\u002fO7WCPCuYKBOpuwyHPNATcCTmiI6M6nss5rH42IQQN62sVmLqQa3DdR0T8mrU5m0WkadFa5b5k2jb3PGAEKp8wg1VnH+7ndtvAfZzhrqYlW59\\u002f+9fjm5x00KOCY8stL5qyid4ShilJO42Wl5jCDVYUgzG3gNFlY0UaZBs20yv+\\u002fv3j\\u002fjZ\\u002fuHz7MYdf+waM2wtwUM9wQq0tI1khHVL2djarPO6wxj2v6ShlgM6jQRmuPnetcqWcFveAX\\u002fWkWR27s1faw+Mikhm3hTlVJ1UblMiKm5FFQVaYiAEnpnEYOTvowqJskYLChOeSN1UXryl+\\u002fXcq13ec7cK8O2qZOlWYwPkj9BG+gTBfFUho\\u002fbx9fvcMHRTMUVGbWNiwbWsS1upNhFzpPoRreCwOZHlWfCUtDgeM4UyHOxluAZm9\\u002fnT97yZ\\u002f+Fkcr2OUIOeQBatpoGQ3I8dNKbX45f1N9rHpv+1oFs8d5Le9Xm8WE8V5m\\u002fx6NqqrD62YFt3xwUG65u9stNtS1ygdh\\u002fb7Mu9PxsedsULJpE91mapumKqh1KJlqRnnbscocZmRfKmZl4u25\\u002fMjT7R4l2gVJpl4nTFVpDLdlQNnWvdQT\\u002fumnX5uqE+2lhRyRYdOBDqS44XWEGNllKDNVayFiwayluKPeV6vNendf6ErryVa3GX\\u002f9vv7+3+bPf7oHLEgioDwWo9TqUKjVRrpWHvHZ0tv2icK+oS0sCbRPGx\\u002fnqt726u0bB\\u002fF5YQAFrHMdI4e6rlKv6y0fJ9Br33wO+3Tf5mBo+M3utw20pHQuclp0X3LJhgtmEDyAjpfYQPa6YEPeo5+rPpxN5z6xuRGhMEsVfSBFemE1no9UI9Ezums1S0cWyW1SOCtuvS6DdTtynVbUcV1OpZuZZivJEMCyYKb7BBvy4RqLF4IjK4XZqPZnr7\\u002f8lUL2stRR3vQRZGfasuoqnYqzUJUevFDj5ALSOkUsKetgHlYfXuLjzVZlnUZ1m9d1VdfL5LTAnLYujaEPXPCNoDuq3IEWly6nzbEP2rgVmLXc19kIkkHCRMzV7IUYPsNXN81oYfyw27XVy2ZtQcKoDstqdIirLOKqa0jJXn08MzqXfB\\u002fjutRVCe1Yy6e4JlXtHW0dvvcGFN1a4iopq7HghiWZ1DLgOqlijqTKYevNOtXsHlAISXoToFaJUNgsB0voDHZJeYWbHYmgnsZP0+YtAE\\u002fpbhdHOHun8wOWmIt929indSnNp20fdsWw6jPXeebb45wlvG522zQadA5PtLJJByL2iFRDqQr33aLmjG4a1mpZWVW1yWJGbcVt+jYM8KRGNVdVQ7HR3LdFApdy3zJvWM868z2b7CS8cPLUpZItKpkz8d7XSd5RG85LPNiuti61LYodIDavcCPL3Vxm9Gdr9lOLq9hLUavGCEaD6gqzQaO5T2qb8JvfqDHE9mt3OG4ebh1pcJtGM25dFoOVXDWmzZthVbU3WQMEcxUTy\\u002fp4P0v+9Ych2Xafc9q6YGZuNmS5w8XuXo1wW9cqqahcp5sd8jbwWIix3AX2cX5\\u002fdpi9tsUCUBBk8G3WVen0VjV\\u002fSHGVTl3dztM8NrfhcYOOY7F44Qq6hawE2iQHLFpvDnN7AVuWGI6GabFTZlW62r0KeTg6LUpqNarVnRXPL89lz97my0bYbLQYNDO4mrtD9wBsmoa8jcN4Uia0dAkfTc4BYhtRESg6IFcR1TDm5q6IFFYmnfS2PW4jrPGUv26xDTTMQIpL8mn3xnnVvA+uaIJDYYFhuKo\\u002fTYshICFOfho1rPaY7oZGIqsEwSfWdR2XwfjKia3X7htUvZk6gXWp19GTFzas3ihMx7mIMKN537TtXgWszJk60GB1QnVOKHwMya4eqjXYaqByzDCsgqEjjdPlq5+1EcWohKIp4yPtz9768\\u002ffPDv9msMIDMe63fSAtto1hVe3OHpS5EU5nmaFqa4Z0XXh\\u002fLO8V+3C3\\u002fYZl7uJ6NCPdrIpHbEES6s4pYNnlZu5C2\\u002fAwdpjTAMWd2XIyf2xl5BictJi+WRSw0RuU6sqet1HFq1auPmr56hGBoUs9u+dd7a+k6VqLKhDo3jOze0HkeyfWQMg3w64Jmoxan\\u002fp1dYbDuyqbVFCz1ZUNJo7hG6bF7TYivNu8S2otovJiFfXdm843EkBef7f28zr7OsOf885vbgNtX6g78nazr4IERYy5vQ7asAsWYITJ\\u002fWZM8obq7gFa2Zm5Nds7i74eBb8aplSbYOaGQetsOlcCNpzb9BxOkq0TZ6UdUnSDEA1EoBsNuMHcB7ki2pYt0KPTK1vdpLvgua7j6qEU9Ww6kq1Hcpf5ZiWPttgQWKd0JZj93m3Q5tUkk+XkoBkIXSjPcdXZ123RbptHmMGNCnMDOXerObcgxJevzo+f6xfPJrFA1BjKC2Md\\u002fKvP5wtWOq\\u002fIkfhh80Fn40s9vgvozJPq1aK9OrEPbnObqEsvt\\u002fjq6\\u002fsH7gaM+2wxu4wRx2oFzeYcThbM1IJiSLAFuKRqEC2MclkfS9eJNrklDeaEdHYD3dXqLjABA5wRw6F2EYKQ3LaPYd3rRLx0L2NIr2IhL7Wn7OKleq6x\\u002fBrglef5no\\u002fi7XW8bKjLbMPmGAPiRtWciFW524CZOo6SF7pXdQ3hQSgPdlXjfa03zYXb3Oy2z7txGxET2fzdU1lJaEDp2I26rgAWSEOuXqmjOaCRxYgrRiiz9PlXx68+Xx\\u002fd5svt9cjYx4hQ5\\u002ft19XXdIp7dZqOVYRjOOu3qGkY6JZCUcQ6S+raQzaCm26REAthVK3WctbLz6qps4cGCKHXlMsih1DSvCrtVNnmWjkqUuRUMgbHtPtXFU7Zdg55EnPOOjy\\u002fhc59fmbJCmdVXrXXmWcvUz7pUqs7I9zX3mh42XcAUa4swtGymelWfuM5enVdovC\\u002fScOMWc+63gIbnCN7J+bpVowRVXqv34EcnSmZ2px5i4AZjhEPSyjIzg97PRx7VnUGnHZCvGsENfTEoc5P7j4s8uUzhATob6nXmD896GRTtCIa6YCY1gYA5d3M0RQwMVC9UlNNUsu3fw7LB\\u002fFK5oB4wSVDWqSw0bUF9tXkjNrJjdL83bmutpp5nL4yXjd4dfrWg9QP49Q6uEWP6glV2pUDkKuoyI8Qas9aP\\u002fB3TGqcEMzbPUdJ5nhe57ZqFotKjJKLNOG+j5f\\u002fe9iU6leLbSqsyDLO8CbbtttE\\u002f3E0G0lHDxAjALrQZXn0k5EvZWAm\\u002f8jTl86AZkNl+Ptd3B9+1Pm2x7QPOrrpatGDICLI5IguGFpKNklVjJzCdmxfai5ItaXOia7X5KmY\\u002fC4Ot9KvR53n2ZQ1pvb3jc9k2IJeJfhzpYrbdNyzenmu9QNyCjuFNjIhBK+OEnI1LdnXfqPVFX+ypHEeMHXBS1NXtJqvuZw+3J6q3stXlIANW4Lpay33Axz4\\u002f0G7ZaIEGbLd7uI8YEoG2XhACSKNnq5rX1W6LwlXt0FCX+yr1Qqq78VCfxQV9uA+Ez4Fh7IgplWOtLhlapk4huwI2WA81ZWXCkc\\u002frOHKd7UO5b\\u002f6AQeiWG33w02aIqLatlmN2Wymz9WIaq8IMdV6E0rzXZbiOpKmmZ+bLZCjPxznRia3dOdRXh4\\u002fmMjiuNQlO9+GcMu+YoffVz2ffpoM9kG8naet6mgNlqjyuziqgeLtZmL2DV7u8Xz2wD\\u002fh85HmziB+B0yij0eAyVsinu4cp6OS9mySBpm9qNlpXnb0Jj7N31uY+pl2ZArr6zMqVUmZ5e1tYuwfVNBjugezKhSv97SpvM8PZ3ri56wMpLjpt6Umhu6+lXs\\u002fVK6VEtC74thWH1QgqrGtOs+iX6Xiv79BV9vfPIyoTK0Fez5sZqq14tFwDvcwbF4vCOPXF6QZZTbcSV52bJdxjcmy3md1EZps0DJW5Ezr1wNputu2TFhZGH2Z48UAg0RBwqUyWlU7CaZnLBquD274FtIwhGDONAWygNrsJFqgbSc7wcTOXt3BXyXYZQ1qtqsolsYRWwmBCVWh2zgliDDVU5\\u002fsXBr5nvKrXZgZLj43Yo6rGx1D5KKFqJWlF5KLI7mSt7rGQp0HBufuln06LLML2mHYb1pBgXRysc2E9+y37eHbNWXPsJES9MYfCUPCAjWmf3NoUdzvOeg3iZWP12mrlCfd1aGXreKZs6SKHzHaPF68xo+CM+JGrO4sKurW7WJa4vu\\u002fnBGB+VYQwbIlfChYQ++2hdH4YY79ZFYRMoFuUunGo1Wpist0IG2Vaq53m1vMWd8rcnSo50FX5Vq2rXyo\\u002ft\\u002fE4nq0TjdIPpbbnI1krV\\u002fGuEnt3su1z5nGdSU2PG2GWi9v0isT80dzELbht02zfx6i+ssetfqLYPs02V8uMTO9hyPVFqxKnOtLOAUC5u9GK5tUWGDb2MRf44VVmtgjKN9MMiB5mZydK2aJRoEmderxdR6shXkClb\\u002fvtbumYQJ1AsWKEcF29Wo9mt4eKlJsBZXR216pnQepkenINmjUqyjgtQd+t0DwK2d3AC68WTLq31uZcfg\\u002fklzhZE86JKKj69TZjs6AD7qgyNvltrcdzdV5vHve++soy5EJUKHzH1M19xaCAdgE39y+IulY+j6J38EUFH5tjocdz3S\\u002f55gHrsWJMkJF9Zn85k4Z9M76P1HW5+\\u002fR93GBS82h3sEBimikFM2TpvC7J4tP93t3reiDdoo\\u002fH+3eyOUTZHA0PnUfifOZ3X46\\u002ffu9zrd\\u002fY\\u002fPW++bQPd2bb2Ee1LOtC3KLSrNM4bbKQeqhTi8JKCgJttL5jWSelQl2Yr5ZBLqepDnnIjS2Lt8w4rNbxffLF64XKoeta3uB5xMs+7nPcbMHHNuLjfTYmxEUUhCbYl3zLtbEqtqMWxFC0DXNPoDzv4fC+iH6s1RLP88KrN8hhud7s7a0KmDZit8rVw2TjFhK4qUvujSbO47pSJKier9vHfZY7+\\u002f7NVyq1pBJW1Y+DodFqWrGG4lt\\u002f8f18174P3p3ebQ08zys7q49TpnwOavcPI\\u002fOcneccIwiE2c5YhQSxrkZDNGbzy7Lr+XzU8kYNM5n3+7tFDJQ5qwmJ+gZ5rHhnfmVjNd+O4+291t9+vwLbBN\\u002feS4P\\u002f\\u002fJ\\u002f\\u002f7ya\\u002fikmbAjNPuTmLIOiMqvrFU3UdbmMzDurlZU5HZ2RdpOYMxYR6rWXAHLZo1fpR+8uVqyVgb\\u002fOJMTwiijaCZTRZUwSt+pSGMVHsvp5FRDnv2xjT3KxkG+sgKJb6yj6u+nLkQN3DzYahVteRvc4EsE+HmK3VXfLAqsxSTzOfVrIdVYSNaNjoLFhf68vxyEUHzuHbVdmXya7Ue3Nju7fgUy0z7BwIw9VLD7Sa8Iy2deR6PuK5MLwRERbhcg0TCWsHli7Ckh+pNW9o3d3naBiz4TcM7F7VDaF2yG6bAQZTKGRAmw2uZaZqO54l4DCzq1ZrRI1t3qncZNXp3E49Lyx2eHz8ya2bTXiBILrWdb4dmdB14mQF+P6+vlw9d9OG+83M\\u002fL7biztFrXrmaW1r+kik5Bg3I0IJVPXGbladaOoelEItxtjHRwQSqHJiNbfokVwlqytXdp561IrGTN4m0zcfupN91pKPOpa1jYiqzB603rBW671ltR7NQbhGTzwrWt1oV6gKwLib3zkZZ8GH1+ql6xDreS3pfKwZdhuB4XRl4+XmNsftBbr6BKAxMyWuo95C2TboBtagj8s4PHW8n2fbcDfjCJRzDKcIJTfkuBn0k6\\u002fySLS4Bcnu1XVWW1f381xINM+4HDO8O+mflzwJ0ZHPhmAW3c4in0d9\\u002fvKMqqPW8gDAhbuvMJevOQNm7u5u2uu1ttUY1cWOQqMmq918lamHYYXH63DSzuFxItHRFnsY3Ftv7d6a0zSc0CxvKoG1FEsPnBRMIJougWa8j\\u002fjqHjAG\\u002fUcjtcxaYPdKtlqNXHU8z\\u002feEdV5vBeS4B8LN243GGQPZsNRbyhsxGS9js5B7lAt5VeWzlJnV8RKA14VhWgNtvMFvu1ebQ0utzCusheEKdMsWWLWsCjYGkKvY2vfhnNN3I0BSUu259FzXtdawnqBcSaEpqVEwdqOXvqTC1i77Yva4zmmMz88e+BEV96bZ5gQxComp8+3RXxbHvMz33ccwK+O272AagcJ1JAnrkeg9wuhNGHCkmRsmV1GtEHyj+U7DrLrvcz4ly\\u002fWSX55Ldb4fiVRTI6+x+fwwXrfhr4PEPcLDG3g7KhtzjHDTZpd82fX5cwaur27R+ySYsjOflWx3Ux4CyjfaPdZb2fdfjq68nvju+fygS27zPhwxZzyrB6Sbu8Vs3XC1x5rYzL1h7Y9OM3cqJS8VYN1NPza\\u002fDQIw4Sdmn25btWKzKtsEqM6WWdUVbo9o1CXbN0+PJbMDzwH3JdpbPW5aKcsmw8Z0WhutiUctXVRzrXSzsXHMCGMH1WqdDl+F6ube3iaLm6Tl7pnwVRpoc6\\u002fS8Xk9mZX4lcWn6NunETHNt5gCY+5AlBbC6uPu7vTWadxpY9xLVPVKd5WEi\\u002fKi57rPXj1uY91ft6hd4cG1BZ\\u002fvy6i3iz98\\u002f3adclfEdt95nzamy1i1bNUP31+C5uvWF2LJhmokuhsm8NG+D1nDoQAR7DCeY2uJnSlMwJ3hm5c+RjTZr31pkrq3ONx5X1YmEzRID7FxGa15IcCeTs9+nv32rJacmsAIwhhBm3OSHNxG7C+bU1ZK5Zl9XTo\\u002fXzFx+WAVqus6VttP7veIcRVBO65VDyGabaZOaYgYtqvPrNMtRJil+4QzFGSZmH2e28g8fb5Ung1WM\\u002f3LmUfYR\\u002fdvbvz66zgusPXlqHoedR2NlnHZZspPezQ3Xn1WNdhCHgvXeX6pEXP7YMp+lAsM3+iwcjo0m4iIrtVsDJKicnR3OLG5j6ARBEA6B1spHeIOXVV1lHnsN5Vsp9N7yHvl86isHy9R18J5YD8ep4GwUXiynvKuFCzMhtFCPsaHl20YR9BorXYxq49kkXv43GUc243iPrJXiyrCcsAvXbmamsOcMPgFdueSZLbtk8Qsi4JGtRuwWxbWStHaXwZofb9RH17PelkN6ej2oaPboxbDBR+7psPb21\\u002fWzYgmz3d5N6xWnEdlLhq3uC5z91mkN4eWyiv85tbmYSQV7EK0yrKNTMNooYRsNjr77fEFb3YLv2bsQ4A1Y9tsY4Ay9DT+qM1hmgPDfJBbFa5y9o+dKpuPReb64Jn7GLBsy1KaJdCrvqxWeENH1QZ6OIjYOEfsTt\\u002fZigaEbmCVkEIBYgO5ao+WMRxqns2ACKsx9rbETMl6dffpavQ9WvzQ3ob7M6PqslywfDQeaXPI94o2iyQ+vPbpe245og2mx7nGdZiZYNXgqHh4j21sjeUaP2pSzlUQlyVaiPAJmbE3E2KO3vbxai9LYjaqVqkbyusQvGW7vWzuHpcx3KZBjVMaoTaSYV2bUSPK+Eqg8eP6aqpNiMagp6lks2XgU31L4uTlrO7zXPl2tgMdjIJQRUMHTU5Bp0eoEEi6AKDLI1SP1VQZPKtiE+kJtyc\\u002fstfuLAzHmbiqfb032CbIboOViGHyQLGnsaOzrLZih++3223\\u002fFBsIwbrryOZqw1jkUKGsra2xAAcM9M1FD6qhME73ojdLVz0q18WuHAZO2xpt+NEDPJtfnl1a2zC6nzspW2ilDLYkkdMtmmgSgNOIcAi+STJJdNJ\\u002f\\u002fD2YbGQFgr5bNc00cGcQ1Wi4N1a3wy7ZWlcurcpH1m0AndlaGePO25kXgIjINQzO8Q4cn6\\u002fzy6r3PGd+NDzRiNgmM3nf\\u002fZl6f16eAjG+TxjJGXuN+Rjt78UrLP7ul59daeN+C5sj6I5B2DDjLeS2TfEESgjAreHetGB\\u002fubTJ2nqlCSvQlJvzm7shNtqPohJXFRONHkuP8xlolWemiMGoxvuq4V0c2xAYB+QEhRLCMJ3JSIpSw2QKoM1jFOWQzwnAQJS6xA0qKbMXcYEm6FpzYIYRPDusdbXvwlzVFxJGqVZL\\u002fqTevyTZEOS4fbJbjBHSg+9Xn+flux3v1\\u002fXI6C6x3K7rVISNK07H56XnkYqix4xwmomoOOs8OU288pQ8zG6etvtOrhjZZSqzSOc2bAfMlM1gufFqO84k6r30lriH3cxPsyzYkTGQw4oDiZv1\\u002fWY97TxxG8Iw83ge+f131+unfRiXcZhVk07QDMVmGViVUJNSWlU3i\\u002faQAkWwSQMtCEMMm6oBN7Tm1uorK1MhXZ2Q0bQPuzaHAPTIOq919ZoVxjTiq7tx23aHIDdtqgW\\u002fPdo+Ob7ldQgtW89nv6zSib5rXeJpewCdHa8OWSxWXr3OOvT0hUMWrrHF090Wm6DkZlcZltrrOquI2Z1mLjkQxrmFhwzxUWMNzcUN4M66DXS3ASB2NpThCP+w22Ysc0q3uz59yuvS88og1GaGZ4qZdCyZm1gQWiwUj+SXarFpsM5srNWWuu02hof3WUX6AEewzMduN1l23xVLqCytCpRDh7gP3GJemta5aN6WTqt+vC11PUESu4V9dGdeLXN1N0AdmgFw7tuYt3qBLowtEKvb6oJYMecYt9EFfgR\\u002ffB1UXuv5XMfu+3F\\u002foTyAUQZDGxpi2hNi5krg7bqbvewVN8TYxs6im3o3LpJkAzBo1TpzPesHdtFewmiWMCO76n6LHxWva6Ee60maN+hn67iWuaLp4Qvy7uWxoc0wujoNvdaZ72+uWjDKhxluA5lY0u4Yt7EZskETp0dLjdkQKKeJm7glTlNcaNSYJmPAoQLC1AVCBAJYx8J7Yc\\u002fGSz7Lqnzf8EKVGH2t8Mk5hlePQMONl7AuTWKnjbnfXm4cJkCd59lHAWXnSWbheZxb3ABYL1WOeFSNH573vta+y7gURRXaaeaQPCje5w5lVp1VLbJbXa3rWG9vlp25aMKZ\\u002fTLwIMbEzTzc+iog28qNbu6jvW06942xW6e5s6uVvsDrUnVV67jSrpVj69Xv1rZShosek3fB3dOmq+B9wWJw0oz1oKExSBdW+tnrUnfmj6nByHG\\u002ff3XraqiObiOq13rrkFnMfTzywpf3zJbP\\u002fb6xPeBz+rYPeKCRybza6gLdYt4jBd0D8lugT9FAI1YRlV3N8FPeX1ae6Jm3gKYZsG9g9yHO0JVQQhYNbeFE0+L+MmbDw0Su0lqNtbZVqDy6TfKtN9m7YdDMbHPDYDREc8e5mIsUi67WbVNjeKbtYbc4ku+Z47jO8C3sk+G9eImV8D5WtlgOkMyIlwDMuvrIBWmRIzA7bLPq9qqjF+UjzKSHj6rKZX1lJ4d3dPDlHvh4R9txYWb35qP4TFuPRC44SZgxOkCz0PRZITWUK2ZMD0CivQQck1QZ2WwKzcrs1tV9dsclegj9bGvAGDDsxONYb2ffN82NLVmV0dzpZA2\\u002f78PJr5Wr\\u002fWodV\\u002fL9+q5qnc8U54yvXvx12Aj76MCEw7p5SNe11rO+HB0TdLvd7T6sc3woNHq1MdDSWFjb9mrIhqm91kNxoE0m144hVbdMoKHFpC+ac8ZWNt07l8ZeSdaVL5f1YMYvfvFd+Hh5Wbf73GzMm\\u002fv0kO10a19di8iV1paoI+v4dV3HWTROG+2qBnoL+hYFbfQa\\u002fjpjbr6N0aCLIHOQbU0LdA9X05QXwCyanPw4Gsc7uSUNgwPIbhf44wSVTIlQCRcagQnativzOPuXK9\\u002fYm3URZh7hji4LOsOw3\\u002fg817aE5vHOzuJ0kW5ot2EYg9FXEw4XPcfYlTSmqk9eqEMMnViwyqPGVRVX1ZzbhmFwlAkOq91eW++G6Blrm1XqA99\\u002ff7ZfRX\\u002fdYoRPjzHDPIaXe7j7FrxZ9wHq5YKqWFedaUtcxJXLzd+t+v388quW49tPt3idw\\u002fn+3ZP7FhxfFk4RXG7x4e5V11Ftrl1+SCa7P1NueirCGq3GRC\\u002fxOvsivr5H7\\u002fa6gzOUurr3Grv6UCiLaxGZ7lejq0tPU9epGrSqv5dvp3UrqOuxdrf4NO\\u002fGHUzHIE7S1EsZl1rdBLLOwgVE2K5Rgz58CmFzqqA6lz4\\u002fK49zWi\\u002fqPHqGD28uxbeo8TIl62nbDLGPI1f6W2UcVddhIbqNeZ\\u002fuY6RCsjDDnM3bNjo7qaa8hni1a8QZz77yh+ept4d8fLiPqF48p\\u002ffeYZtM17V8lXbG7pTb6BKcWUcvKz0PPtEhzbCZepjlql8+z2UYEgX\\u002fMMNoZo\\u002fifcJvERxTWMC5ru8eGEcjePs0puH9GK+1zGEbC55pEKwWnnWYcY85bnejU+Eqc696LmDVWCu9BDE7Kp\\u002fQVF25XDrpFO6yLx7DacT9XpbH4+p19f8Plm1fDxHyQdAAAAAASUVORK5CYII=\",\"type\":\"image\",\"xaxis\":\"x\",\"yaxis\":\"y\",\"hovertemplate\":\"x: %{x}\\u003cbr\\u003ey: %{y}\\u003cextra\\u003e\\u003c\\u002fextra\\u003e\"}],                        {\"template\":{\"data\":{\"histogram2dcontour\":[{\"type\":\"histogram2dcontour\",\"colorbar\":{\"outlinewidth\":0,\"ticks\":\"\"},\"colorscale\":[[0.0,\"#0d0887\"],[0.1111111111111111,\"#46039f\"],[0.2222222222222222,\"#7201a8\"],[0.3333333333333333,\"#9c179e\"],[0.4444444444444444,\"#bd3786\"],[0.5555555555555556,\"#d8576b\"],[0.6666666666666666,\"#ed7953\"],[0.7777777777777778,\"#fb9f3a\"],[0.8888888888888888,\"#fdca26\"],[1.0,\"#f0f921\"]]}],\"choropleth\":[{\"type\":\"choropleth\",\"colorbar\":{\"outlinewidth\":0,\"ticks\":\"\"}}],\"histogram2d\":[{\"type\":\"histogram2d\",\"colorbar\":{\"outlinewidth\":0,\"ticks\":\"\"},\"colorscale\":[[0.0,\"#0d0887\"],[0.1111111111111111,\"#46039f\"],[0.2222222222222222,\"#7201a8\"],[0.3333333333333333,\"#9c179e\"],[0.4444444444444444,\"#bd3786\"],[0.5555555555555556,\"#d8576b\"],[0.6666666666666666,\"#ed7953\"],[0.7777777777777778,\"#fb9f3a\"],[0.8888888888888888,\"#fdca26\"],[1.0,\"#f0f921\"]]}],\"heatmap\":[{\"type\":\"heatmap\",\"colorbar\":{\"outlinewidth\":0,\"ticks\":\"\"},\"colorscale\":[[0.0,\"#0d0887\"],[0.1111111111111111,\"#46039f\"],[0.2222222222222222,\"#7201a8\"],[0.3333333333333333,\"#9c179e\"],[0.4444444444444444,\"#bd3786\"],[0.5555555555555556,\"#d8576b\"],[0.6666666666666666,\"#ed7953\"],[0.7777777777777778,\"#fb9f3a\"],[0.8888888888888888,\"#fdca26\"],[1.0,\"#f0f921\"]]}],\"heatmapgl\":[{\"type\":\"heatmapgl\",\"colorbar\":{\"outlinewidth\":0,\"ticks\":\"\"},\"colorscale\":[[0.0,\"#0d0887\"],[0.1111111111111111,\"#46039f\"],[0.2222222222222222,\"#7201a8\"],[0.3333333333333333,\"#9c179e\"],[0.4444444444444444,\"#bd3786\"],[0.5555555555555556,\"#d8576b\"],[0.6666666666666666,\"#ed7953\"],[0.7777777777777778,\"#fb9f3a\"],[0.8888888888888888,\"#fdca26\"],[1.0,\"#f0f921\"]]}],\"contourcarpet\":[{\"type\":\"contourcarpet\",\"colorbar\":{\"outlinewidth\":0,\"ticks\":\"\"}}],\"contour\":[{\"type\":\"contour\",\"colorbar\":{\"outlinewidth\":0,\"ticks\":\"\"},\"colorscale\":[[0.0,\"#0d0887\"],[0.1111111111111111,\"#46039f\"],[0.2222222222222222,\"#7201a8\"],[0.3333333333333333,\"#9c179e\"],[0.4444444444444444,\"#bd3786\"],[0.5555555555555556,\"#d8576b\"],[0.6666666666666666,\"#ed7953\"],[0.7777777777777778,\"#fb9f3a\"],[0.8888888888888888,\"#fdca26\"],[1.0,\"#f0f921\"]]}],\"surface\":[{\"type\":\"surface\",\"colorbar\":{\"outlinewidth\":0,\"ticks\":\"\"},\"colorscale\":[[0.0,\"#0d0887\"],[0.1111111111111111,\"#46039f\"],[0.2222222222222222,\"#7201a8\"],[0.3333333333333333,\"#9c179e\"],[0.4444444444444444,\"#bd3786\"],[0.5555555555555556,\"#d8576b\"],[0.6666666666666666,\"#ed7953\"],[0.7777777777777778,\"#fb9f3a\"],[0.8888888888888888,\"#fdca26\"],[1.0,\"#f0f921\"]]}],\"mesh3d\":[{\"type\":\"mesh3d\",\"colorbar\":{\"outlinewidth\":0,\"ticks\":\"\"}}],\"scatter\":[{\"fillpattern\":{\"fillmode\":\"overlay\",\"size\":10,\"solidity\":0.2},\"type\":\"scatter\"}],\"parcoords\":[{\"type\":\"parcoords\",\"line\":{\"colorbar\":{\"outlinewidth\":0,\"ticks\":\"\"}}}],\"scatterpolargl\":[{\"type\":\"scatterpolargl\",\"marker\":{\"colorbar\":{\"outlinewidth\":0,\"ticks\":\"\"}}}],\"bar\":[{\"error_x\":{\"color\":\"#2a3f5f\"},\"error_y\":{\"color\":\"#2a3f5f\"},\"marker\":{\"line\":{\"color\":\"#E5ECF6\",\"width\":0.5},\"pattern\":{\"fillmode\":\"overlay\",\"size\":10,\"solidity\":0.2}},\"type\":\"bar\"}],\"scattergeo\":[{\"type\":\"scattergeo\",\"marker\":{\"colorbar\":{\"outlinewidth\":0,\"ticks\":\"\"}}}],\"scatterpolar\":[{\"type\":\"scatterpolar\",\"marker\":{\"colorbar\":{\"outlinewidth\":0,\"ticks\":\"\"}}}],\"histogram\":[{\"marker\":{\"pattern\":{\"fillmode\":\"overlay\",\"size\":10,\"solidity\":0.2}},\"type\":\"histogram\"}],\"scattergl\":[{\"type\":\"scattergl\",\"marker\":{\"colorbar\":{\"outlinewidth\":0,\"ticks\":\"\"}}}],\"scatter3d\":[{\"type\":\"scatter3d\",\"line\":{\"colorbar\":{\"outlinewidth\":0,\"ticks\":\"\"}},\"marker\":{\"colorbar\":{\"outlinewidth\":0,\"ticks\":\"\"}}}],\"scattermapbox\":[{\"type\":\"scattermapbox\",\"marker\":{\"colorbar\":{\"outlinewidth\":0,\"ticks\":\"\"}}}],\"scatterternary\":[{\"type\":\"scatterternary\",\"marker\":{\"colorbar\":{\"outlinewidth\":0,\"ticks\":\"\"}}}],\"scattercarpet\":[{\"type\":\"scattercarpet\",\"marker\":{\"colorbar\":{\"outlinewidth\":0,\"ticks\":\"\"}}}],\"carpet\":[{\"aaxis\":{\"endlinecolor\":\"#2a3f5f\",\"gridcolor\":\"white\",\"linecolor\":\"white\",\"minorgridcolor\":\"white\",\"startlinecolor\":\"#2a3f5f\"},\"baxis\":{\"endlinecolor\":\"#2a3f5f\",\"gridcolor\":\"white\",\"linecolor\":\"white\",\"minorgridcolor\":\"white\",\"startlinecolor\":\"#2a3f5f\"},\"type\":\"carpet\"}],\"table\":[{\"cells\":{\"fill\":{\"color\":\"#EBF0F8\"},\"line\":{\"color\":\"white\"}},\"header\":{\"fill\":{\"color\":\"#C8D4E3\"},\"line\":{\"color\":\"white\"}},\"type\":\"table\"}],\"barpolar\":[{\"marker\":{\"line\":{\"color\":\"#E5ECF6\",\"width\":0.5},\"pattern\":{\"fillmode\":\"overlay\",\"size\":10,\"solidity\":0.2}},\"type\":\"barpolar\"}],\"pie\":[{\"automargin\":true,\"type\":\"pie\"}]},\"layout\":{\"autotypenumbers\":\"strict\",\"colorway\":[\"#636efa\",\"#EF553B\",\"#00cc96\",\"#ab63fa\",\"#FFA15A\",\"#19d3f3\",\"#FF6692\",\"#B6E880\",\"#FF97FF\",\"#FECB52\"],\"font\":{\"color\":\"#2a3f5f\"},\"hovermode\":\"closest\",\"hoverlabel\":{\"align\":\"left\"},\"paper_bgcolor\":\"white\",\"plot_bgcolor\":\"#E5ECF6\",\"polar\":{\"bgcolor\":\"#E5ECF6\",\"angularaxis\":{\"gridcolor\":\"white\",\"linecolor\":\"white\",\"ticks\":\"\"},\"radialaxis\":{\"gridcolor\":\"white\",\"linecolor\":\"white\",\"ticks\":\"\"}},\"ternary\":{\"bgcolor\":\"#E5ECF6\",\"aaxis\":{\"gridcolor\":\"white\",\"linecolor\":\"white\",\"ticks\":\"\"},\"baxis\":{\"gridcolor\":\"white\",\"linecolor\":\"white\",\"ticks\":\"\"},\"caxis\":{\"gridcolor\":\"white\",\"linecolor\":\"white\",\"ticks\":\"\"}},\"coloraxis\":{\"colorbar\":{\"outlinewidth\":0,\"ticks\":\"\"}},\"colorscale\":{\"sequential\":[[0.0,\"#0d0887\"],[0.1111111111111111,\"#46039f\"],[0.2222222222222222,\"#7201a8\"],[0.3333333333333333,\"#9c179e\"],[0.4444444444444444,\"#bd3786\"],[0.5555555555555556,\"#d8576b\"],[0.6666666666666666,\"#ed7953\"],[0.7777777777777778,\"#fb9f3a\"],[0.8888888888888888,\"#fdca26\"],[1.0,\"#f0f921\"]],\"sequentialminus\":[[0.0,\"#0d0887\"],[0.1111111111111111,\"#46039f\"],[0.2222222222222222,\"#7201a8\"],[0.3333333333333333,\"#9c179e\"],[0.4444444444444444,\"#bd3786\"],[0.5555555555555556,\"#d8576b\"],[0.6666666666666666,\"#ed7953\"],[0.7777777777777778,\"#fb9f3a\"],[0.8888888888888888,\"#fdca26\"],[1.0,\"#f0f921\"]],\"diverging\":[[0,\"#8e0152\"],[0.1,\"#c51b7d\"],[0.2,\"#de77ae\"],[0.3,\"#f1b6da\"],[0.4,\"#fde0ef\"],[0.5,\"#f7f7f7\"],[0.6,\"#e6f5d0\"],[0.7,\"#b8e186\"],[0.8,\"#7fbc41\"],[0.9,\"#4d9221\"],[1,\"#276419\"]]},\"xaxis\":{\"gridcolor\":\"white\",\"linecolor\":\"white\",\"ticks\":\"\",\"title\":{\"standoff\":15},\"zerolinecolor\":\"white\",\"automargin\":true,\"zerolinewidth\":2},\"yaxis\":{\"gridcolor\":\"white\",\"linecolor\":\"white\",\"ticks\":\"\",\"title\":{\"standoff\":15},\"zerolinecolor\":\"white\",\"automargin\":true,\"zerolinewidth\":2},\"scene\":{\"xaxis\":{\"backgroundcolor\":\"#E5ECF6\",\"gridcolor\":\"white\",\"linecolor\":\"white\",\"showbackground\":true,\"ticks\":\"\",\"zerolinecolor\":\"white\",\"gridwidth\":2},\"yaxis\":{\"backgroundcolor\":\"#E5ECF6\",\"gridcolor\":\"white\",\"linecolor\":\"white\",\"showbackground\":true,\"ticks\":\"\",\"zerolinecolor\":\"white\",\"gridwidth\":2},\"zaxis\":{\"backgroundcolor\":\"#E5ECF6\",\"gridcolor\":\"white\",\"linecolor\":\"white\",\"showbackground\":true,\"ticks\":\"\",\"zerolinecolor\":\"white\",\"gridwidth\":2}},\"shapedefaults\":{\"line\":{\"color\":\"#2a3f5f\"}},\"annotationdefaults\":{\"arrowcolor\":\"#2a3f5f\",\"arrowhead\":0,\"arrowwidth\":1},\"geo\":{\"bgcolor\":\"white\",\"landcolor\":\"#E5ECF6\",\"subunitcolor\":\"white\",\"showland\":true,\"showlakes\":true,\"lakecolor\":\"white\"},\"title\":{\"x\":0.05},\"mapbox\":{\"style\":\"light\"}}},\"xaxis\":{\"anchor\":\"y\",\"domain\":[0.0,1.0]},\"yaxis\":{\"anchor\":\"x\",\"domain\":[0.0,1.0]},\"margin\":{\"t\":60}},                        {\"responsive\": true}                    ).then(function(){\n",
       "                            \n",
       "var gd = document.getElementById('f81fd617-ea48-4662-8881-7a8878522889');\n",
       "var x = new MutationObserver(function (mutations, observer) {{\n",
       "        var display = window.getComputedStyle(gd).display;\n",
       "        if (!display || display === 'none') {{\n",
       "            console.log([gd, 'removed!']);\n",
       "            Plotly.purge(gd);\n",
       "            observer.disconnect();\n",
       "        }}\n",
       "}});\n",
       "\n",
       "// Listen for the removal of the full notebook cells\n",
       "var notebookContainer = gd.closest('#notebook-container');\n",
       "if (notebookContainer) {{\n",
       "    x.observe(notebookContainer, {childList: true});\n",
       "}}\n",
       "\n",
       "// Listen for the clearing of the current output cell\n",
       "var outputEl = gd.closest('.output');\n",
       "if (outputEl) {{\n",
       "    x.observe(outputEl, {childList: true});\n",
       "}}\n",
       "\n",
       "                        })                };                });            </script>        </div>"
      ]
     },
     "metadata": {},
     "output_type": "display_data"
    }
   ],
   "source": [
    "import plotly.express as px\n",
    "px.imshow(picamera_starter.outgoing_samples[0]()/255)"
   ]
  },
  {
   "cell_type": "code",
   "execution_count": 13,
   "metadata": {},
   "outputs": [
    {
     "data": {
      "text/plain": [
       "(3, 114, 64)"
      ]
     },
     "execution_count": 13,
     "metadata": {},
     "output_type": "execute_result"
    }
   ],
   "source": [
    "img = picamera_starter.outgoing_samples[0]()/255\n",
    "img.T.shape"
   ]
  },
  {
   "cell_type": "code",
   "execution_count": 6,
   "metadata": {},
   "outputs": [],
   "source": [
    "bt_ser.terminate()\n",
    "bluetooth_control_starter.process.terminate()\n",
    "two_wheel_starter.process.terminate()\n",
    "angular_speed_control_starter.process.terminate()\n",
    "picamera_starter.process.terminate()\n",
    "#logger_starter.process.terminate()\n"
   ]
  },
  {
   "cell_type": "markdown",
   "metadata": {},
   "source": [
    "# playground"
   ]
  },
  {
   "cell_type": "code",
   "execution_count": 8,
   "metadata": {},
   "outputs": [],
   "source": [
    "l = logger_starter.incoming_rpcs['get_logger'].call('TwoWheelsV3')"
   ]
  },
  {
   "cell_type": "code",
   "execution_count": 10,
   "metadata": {},
   "outputs": [
    {
     "ename": "KeyboardInterrupt",
     "evalue": "",
     "output_type": "error",
     "traceback": [
      "\u001b[0;31m---------------------------------------------------------------------------\u001b[0m",
      "\u001b[0;31mKeyboardInterrupt\u001b[0m                         Traceback (most recent call last)",
      "\u001b[1;32m/home/kawa/projects/car1/src/main.ipynb Cell 10\u001b[0m line \u001b[0;36m1\n\u001b[0;32m----> <a href='vscode-notebook-cell://127.0.0.1:8080/home/kawa/projects/car1/src/main.ipynb#X53sdnNjb2RlLXJlbW90ZQ%3D%3D?line=0'>1</a>\u001b[0m l()\n",
      "File \u001b[0;32m~/projects/car1/src/components/__init__.py:160\u001b[0m, in \u001b[0;36mCallChannel.call.<locals>.await_result\u001b[0;34m()\u001b[0m\n\u001b[1;32m    158\u001b[0m \u001b[39mdef\u001b[39;00m \u001b[39mawait_result\u001b[39m():\n\u001b[0;32m--> 160\u001b[0m     lock\u001b[39m.\u001b[39;49macquire()\n\u001b[1;32m    161\u001b[0m     \u001b[39mself\u001b[39m\u001b[39m.\u001b[39mresponse_locks\u001b[39m.\u001b[39mpop(this_call_id)\n\u001b[1;32m    163\u001b[0m     \u001b[39mreturn\u001b[39;00m \u001b[39mself\u001b[39m\u001b[39m.\u001b[39mres_pending\u001b[39m.\u001b[39mpop(this_call_id)\n",
      "File \u001b[0;32m/usr/local/lib/python3.12/multiprocessing/managers.py:1051\u001b[0m, in \u001b[0;36mAcquirerProxy.acquire\u001b[0;34m(self, blocking, timeout)\u001b[0m\n\u001b[1;32m   1049\u001b[0m \u001b[39mdef\u001b[39;00m \u001b[39macquire\u001b[39m(\u001b[39mself\u001b[39m, blocking\u001b[39m=\u001b[39m\u001b[39mTrue\u001b[39;00m, timeout\u001b[39m=\u001b[39m\u001b[39mNone\u001b[39;00m):\n\u001b[1;32m   1050\u001b[0m     args \u001b[39m=\u001b[39m (blocking,) \u001b[39mif\u001b[39;00m timeout \u001b[39mis\u001b[39;00m \u001b[39mNone\u001b[39;00m \u001b[39melse\u001b[39;00m (blocking, timeout)\n\u001b[0;32m-> 1051\u001b[0m     \u001b[39mreturn\u001b[39;00m \u001b[39mself\u001b[39;49m\u001b[39m.\u001b[39;49m_callmethod(\u001b[39m'\u001b[39;49m\u001b[39macquire\u001b[39;49m\u001b[39m'\u001b[39;49m, args)\n",
      "File \u001b[0;32m/usr/local/lib/python3.12/multiprocessing/managers.py:821\u001b[0m, in \u001b[0;36mBaseProxy._callmethod\u001b[0;34m(self, methodname, args, kwds)\u001b[0m\n\u001b[1;32m    818\u001b[0m     conn \u001b[39m=\u001b[39m \u001b[39mself\u001b[39m\u001b[39m.\u001b[39m_tls\u001b[39m.\u001b[39mconnection\n\u001b[1;32m    820\u001b[0m conn\u001b[39m.\u001b[39msend((\u001b[39mself\u001b[39m\u001b[39m.\u001b[39m_id, methodname, args, kwds))\n\u001b[0;32m--> 821\u001b[0m kind, result \u001b[39m=\u001b[39m conn\u001b[39m.\u001b[39;49mrecv()\n\u001b[1;32m    823\u001b[0m \u001b[39mif\u001b[39;00m kind \u001b[39m==\u001b[39m \u001b[39m'\u001b[39m\u001b[39m#RETURN\u001b[39m\u001b[39m'\u001b[39m:\n\u001b[1;32m    824\u001b[0m     \u001b[39mreturn\u001b[39;00m result\n",
      "File \u001b[0;32m/usr/local/lib/python3.12/multiprocessing/connection.py:250\u001b[0m, in \u001b[0;36m_ConnectionBase.recv\u001b[0;34m(self)\u001b[0m\n\u001b[1;32m    248\u001b[0m \u001b[39mself\u001b[39m\u001b[39m.\u001b[39m_check_closed()\n\u001b[1;32m    249\u001b[0m \u001b[39mself\u001b[39m\u001b[39m.\u001b[39m_check_readable()\n\u001b[0;32m--> 250\u001b[0m buf \u001b[39m=\u001b[39m \u001b[39mself\u001b[39;49m\u001b[39m.\u001b[39;49m_recv_bytes()\n\u001b[1;32m    251\u001b[0m \u001b[39mreturn\u001b[39;00m _ForkingPickler\u001b[39m.\u001b[39mloads(buf\u001b[39m.\u001b[39mgetbuffer())\n",
      "File \u001b[0;32m/usr/local/lib/python3.12/multiprocessing/connection.py:430\u001b[0m, in \u001b[0;36mConnection._recv_bytes\u001b[0;34m(self, maxsize)\u001b[0m\n\u001b[1;32m    429\u001b[0m \u001b[39mdef\u001b[39;00m \u001b[39m_recv_bytes\u001b[39m(\u001b[39mself\u001b[39m, maxsize\u001b[39m=\u001b[39m\u001b[39mNone\u001b[39;00m):\n\u001b[0;32m--> 430\u001b[0m     buf \u001b[39m=\u001b[39m \u001b[39mself\u001b[39;49m\u001b[39m.\u001b[39;49m_recv(\u001b[39m4\u001b[39;49m)\n\u001b[1;32m    431\u001b[0m     size, \u001b[39m=\u001b[39m struct\u001b[39m.\u001b[39munpack(\u001b[39m\"\u001b[39m\u001b[39m!i\u001b[39m\u001b[39m\"\u001b[39m, buf\u001b[39m.\u001b[39mgetvalue())\n\u001b[1;32m    432\u001b[0m     \u001b[39mif\u001b[39;00m size \u001b[39m==\u001b[39m \u001b[39m-\u001b[39m\u001b[39m1\u001b[39m:\n",
      "File \u001b[0;32m/usr/local/lib/python3.12/multiprocessing/connection.py:395\u001b[0m, in \u001b[0;36mConnection._recv\u001b[0;34m(self, size, read)\u001b[0m\n\u001b[1;32m    393\u001b[0m remaining \u001b[39m=\u001b[39m size\n\u001b[1;32m    394\u001b[0m \u001b[39mwhile\u001b[39;00m remaining \u001b[39m>\u001b[39m \u001b[39m0\u001b[39m:\n\u001b[0;32m--> 395\u001b[0m     chunk \u001b[39m=\u001b[39m read(handle, remaining)\n\u001b[1;32m    396\u001b[0m     n \u001b[39m=\u001b[39m \u001b[39mlen\u001b[39m(chunk)\n\u001b[1;32m    397\u001b[0m     \u001b[39mif\u001b[39;00m n \u001b[39m==\u001b[39m \u001b[39m0\u001b[39m:\n",
      "\u001b[0;31mKeyboardInterrupt\u001b[0m: "
     ]
    }
   ],
   "source": [
    "l()"
   ]
  },
  {
   "cell_type": "code",
   "execution_count": null,
   "metadata": {},
   "outputs": [],
   "source": []
  }
 ],
 "metadata": {
  "kernelspec": {
   "display_name": ".venv",
   "language": "python",
   "name": "python3"
  },
  "language_info": {
   "codemirror_mode": {
    "name": "ipython",
    "version": 3
   },
   "file_extension": ".py",
   "mimetype": "text/x-python",
   "name": "python",
   "nbconvert_exporter": "python",
   "pygments_lexer": "ipython3",
   "version": "3.11.9"
  }
 },
 "nbformat": 4,
 "nbformat_minor": 2
}
