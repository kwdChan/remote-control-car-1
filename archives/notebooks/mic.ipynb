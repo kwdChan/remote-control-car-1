{
 "cells": [
  {
   "cell_type": "code",
   "execution_count": 1,
   "id": "864da737-b8bf-48cf-a90d-4d634c8ff010",
   "metadata": {},
   "outputs": [
    {
     "name": "stdout",
     "output_type": "stream",
     "text": [
      "[0] Discard all samples (playback) or generate zero samples (capture)\n",
      "[1] Rate Converter Plugin Using Libav/FFmpeg Library\n",
      "[2] Rate Converter Plugin Using Samplerate Library\n",
      "[3] Rate Converter Plugin Using Speex Resampler\n",
      "[4] JACK Audio Connection Kit\n",
      "[5] Open Sound System\n",
      "[6] PulseAudio Sound Server\n",
      "[7] Plugin for channel upmix (4,6,8)\n",
      "[8] Plugin for channel downmix (stereo) with a simple spacialization\n",
      "[9] USB Device 0x46d:0x825, USB Audio\n"
     ]
    }
   ],
   "source": [
    "from pvrecorder import PvRecorder\n",
    "from scipy.fft import fft, fftfreq\n",
    "import plotly.graph_objects as go\n",
    "import plotly.express as px\n",
    "import numpy as np\n",
    "import time \n",
    "for index, device in enumerate(PvRecorder.get_available_devices()):\n",
    "    print(f\"[{index}] {device}\")\n"
   ]
  },
  {
   "cell_type": "code",
   "execution_count": null,
   "id": "55154cbc",
   "metadata": {},
   "outputs": [],
   "source": []
  },
  {
   "cell_type": "code",
   "execution_count": 2,
   "id": "eea47f87-8963-416f-b094-c4aa238375f5",
   "metadata": {},
   "outputs": [],
   "source": [
    "class MicrophoneReaderBuffer:\n",
    "    def __init__(self, device_index, frame_length, signal_nframe, sxx_nframe):\n",
    "\n",
    "        # recorder \n",
    "        recorder = PvRecorder(frame_length=frame_length, device_index=device_index)\n",
    "        recorder.start()\n",
    "        self.recorder  = recorder \n",
    "\n",
    "        # values \n",
    "        freqs = fftfreq(recorder.frame_length*signal_nframe, 1/recorder.sample_rate)\n",
    "        n_freqs = int(len(freqs) //2)\n",
    "        freqs = freqs[:n_freqs]\n",
    "        frame_duration = recorder.frame_length / recorder.sample_rate\n",
    "\n",
    "        # buffer \n",
    "        self.signal_buffer = [np.zeros(frame_length) for _ in range(signal_nframe)]\n",
    "        self.sxx_buffer = [np.zeros(n_freqs) for _ in range(sxx_nframe)]\n",
    "\n",
    "\n",
    "        # values \n",
    "        self.freqs = freqs\n",
    "        self.n_freqs = n_freqs\n",
    "        self.frame_length = frame_length\n",
    "        self.frame_duration = frame_duration\n",
    "\n",
    "\n",
    "    def sample(self):\n",
    "\n",
    "        x = self.recorder.read()\n",
    "        \n",
    "        self.signal_buffer = self.signal_buffer[1:] + [x]\n",
    "\n",
    "        y = fft(np.concatenate(self.signal_buffer))[:self.n_freqs]\n",
    "        sxx = np.log(y.real**2 + y.imag**2)\n",
    "        \n",
    "        self.sxx_buffer =  self.sxx_buffer[1:] + [sxx] \n",
    "\n"
   ]
  },
  {
   "cell_type": "code",
   "execution_count": 3,
   "id": "d118ba20-ccde-4b50-b227-4deef72b9ff1",
   "metadata": {},
   "outputs": [],
   "source": [
    "def running_spectrogram(freqs, total_frames=200):\n",
    "\n",
    "\n",
    "    data = [np.zeros(len(freqs)) for _ in range(total_frames)]\n",
    "    heatmap_fig = go.FigureWidget([go.Heatmap( y = freqs, zmin=0, zmax=6)])\n",
    "\n",
    "\n",
    "    def update_figure(sxx_frames):\n",
    "        data.pop(0)\n",
    "        data.append(sxx_frames)\n",
    "    \n",
    "        heatmap_fig.data[0].z = np.stack(data, axis=-1)\n",
    "\n",
    "    return heatmap_fig, update_figure\n",
    "\n",
    "def running_spectro_slice(freqs):\n",
    "\n",
    "    line_fig = go.FigureWidget([go.Scatter( x = freqs)])\n",
    "\n",
    "    def update_figure(value):\n",
    "        line_fig.data[0].y = value\n",
    "\n",
    "    return line_fig, update_figure\n",
    "\n",
    "def get_updating_table(columns):\n",
    "    fig = go.FigureWidget(go.Table(\n",
    "        header=dict(values=columns),\n",
    "        cells=dict(values=[[], []])\n",
    "    ))\n",
    "\n",
    "    def update_table(data_dict):\n",
    "        \"\"\"\n",
    "        take \n",
    "\n",
    "\n",
    "        fig, update_table  = get_updating_table(['a', 'b'])\n",
    "        update_table({'a':[1,2,3], 'b':[2,4,5]})\n",
    "        \"\"\"\n",
    "        values = []\n",
    "        for c in columns:\n",
    "            values.append(data_dict[c])\n",
    "        \n",
    "        fig.data[0].cells.values = values\n",
    "    return fig, update_table\n",
    "\n",
    "def get_freq_bands(values, freqs, threshold, peak_threshold):\n",
    "\n",
    "    values = np.array(values)\n",
    "    freqs = np.array(freqs)\n",
    "\n",
    "    bands = [[]]\n",
    "    for idx, v in enumerate(values):\n",
    "        if v > threshold:\n",
    "            bands[-1].append(idx)\n",
    "        elif len(bands[-1]):\n",
    "            bands.append([])\n",
    "\n",
    "    bands = [i for i in bands if len(i)>0 and len(i)<80]\n",
    "\n",
    "    freq_centres = []\n",
    "    freq_peak_powers = []\n",
    "    for each_band in bands:\n",
    "        freq_peak_power = values[each_band].max()\n",
    "        if freq_peak_power < peak_threshold:\n",
    "            continue\n",
    "        \n",
    "\n",
    "        centre_idx_idx = np.argmax(values[each_band])\n",
    "        centre_idx = each_band[centre_idx_idx]\n",
    "        freq_centre = freqs[centre_idx]\n",
    "        \n",
    "\n",
    "        freq_centres.append(freq_centre)\n",
    "        freq_peak_powers.append(freq_peak_power)\n",
    "\n",
    "    return freq_centres, freq_peak_powers\n",
    "\n",
    "\n",
    "\n",
    "def normalise(values):\n",
    "    median = np.median(values)\n",
    "    mad = np.median(abs(values-median))\n",
    "\n",
    "    return (values - median)/mad\n",
    "\n",
    "\n",
    "\n",
    "def find_peaks(normalised, freqs):\n",
    "\n",
    "\n",
    "    freq_centres, freq_peak_powers = get_freq_bands(normalised, freqs, 2, 4)\n",
    "\n",
    "    #pitches = [freq_to_pitch(f) for f in freq_centres]\n",
    "\n",
    "    \n",
    "    freq_centres = np.array([0]+[f for f in freq_centres if f > 40])\n",
    "\n",
    "    basefreq = np.nan\n",
    "    if len(freq_centres)>3:\n",
    "        gap1 = freq_centres[1:] - freq_centres[:-1]\n",
    "        #gap2 = freq_centres[2:] - freq_centres[:-2]\n",
    "\n",
    "        basefreq = np.median(np.concatenate([gap1]))\n",
    "        \n",
    "\n",
    "    return basefreq, freq_centres, freq_peak_powers\n",
    "\n",
    "\n",
    "def freq_to_pitch(freq):\n",
    "    return (np.log2(freq) % 1) * 360\n",
    "\n",
    "\n",
    "def find_peak_indices(values, threshold, eps=0.5):\n",
    "    \"\"\"\n",
    "    both rising and falling edge need to be above a threshold\n",
    "    \"\"\"\n",
    "    prev = values[0]\n",
    "    tough = values[0]\n",
    "    peak = values[0]\n",
    "    rising_edge_length = 0\n",
    "\n",
    "    rising = True\n",
    "    bands = []\n",
    "    for idx, curr in enumerate(values[1:]):\n",
    "\n",
    "        # end of rising edge\n",
    "        if rising and (prev-curr)>0:\n",
    "            rising = False \n",
    "            peak = prev + eps\n",
    "            peak_idx = idx - 1 + 1 # started from index 1\n",
    "            rising_edge_length = peak - tough\n",
    "\n",
    "        # end of falling edge\n",
    "        if (not rising) and (curr-prev)>0:\n",
    "            rising = True\n",
    "            tough = prev - eps\n",
    "        \n",
    "            falling_edge_length = peak - tough \n",
    "            if (rising_edge_length > threshold) & (falling_edge_length>threshold):\n",
    "                bands.append(peak_idx)\n",
    "        \n",
    "        prev = curr - eps if rising else curr + eps\n",
    "\n",
    "    return bands\n",
    "\n",
    "def find_basefreq(freqs):\n",
    "\n",
    "    freqs = [0] + [f for f in freqs if f > 40]\n",
    "    freqs = np.array(freqs)\n",
    "    basefreq = np.nan\n",
    "\n",
    "    if len(freqs)>3:\n",
    "        gap1 = freqs[1:] - freqs[:-1]\n",
    "        #gap2 = freqs[2:] - freqs[:-2]\n",
    "\n",
    "        gaps = np.sort(np.concatenate([gap1]))\n",
    "\n",
    "\n",
    "        basefreq = gaps[(len(gaps)+1)//2]\n",
    "        \n",
    "    return basefreq"
   ]
  },
  {
   "cell_type": "code",
   "execution_count": 11,
   "id": "afbb0226",
   "metadata": {},
   "outputs": [
    {
     "data": {
      "text/plain": [
       "0"
      ]
     },
     "execution_count": 11,
     "metadata": {},
     "output_type": "execute_result"
    }
   ],
   "source": [
    "0 and 12%0"
   ]
  },
  {
   "cell_type": "code",
   "execution_count": 4,
   "id": "8548bac7-9b9d-4a08-a4fe-adc9d693945f",
   "metadata": {},
   "outputs": [],
   "source": [
    "\n",
    "readerBuffer = MicrophoneReaderBuffer(9, 800, 5, 100)\n",
    "\n",
    "\n",
    "table, table_update = get_updating_table(['frequency', 'strength'])\n",
    "spectro_fig, spectro_update = running_spectrogram(readerBuffer.freqs)\n",
    "slice_fig, slice_update = running_spectro_slice(readerBuffer.freqs)"
   ]
  },
  {
   "cell_type": "code",
   "execution_count": 9,
   "id": "f0cc821f-d229-42bc-80f3-50af388e00a1",
   "metadata": {
    "scrolled": true
   },
   "outputs": [
    {
     "name": "stdout",
     "output_type": "stream",
     "text": [
      "244.0          \r"
     ]
    },
    {
     "ename": "KeyboardInterrupt",
     "evalue": "",
     "output_type": "error",
     "traceback": [
      "\u001b[0;31m---------------------------------------------------------------------------\u001b[0m",
      "\u001b[0;31mKeyboardInterrupt\u001b[0m                         Traceback (most recent call last)",
      "\u001b[1;32m/home/kawa/projects/car1/src/mic.ipynb Cell 5\u001b[0m line \u001b[0;36m3\n\u001b[1;32m      <a href='vscode-notebook-cell://127.0.0.1:8080/home/kawa/projects/car1/src/mic.ipynb#W4sdnNjb2RlLXJlbW90ZQ%3D%3D?line=0'>1</a>\u001b[0m i \u001b[39m=\u001b[39m \u001b[39m0\u001b[39m\n\u001b[1;32m      <a href='vscode-notebook-cell://127.0.0.1:8080/home/kawa/projects/car1/src/mic.ipynb#W4sdnNjb2RlLXJlbW90ZQ%3D%3D?line=1'>2</a>\u001b[0m \u001b[39mwhile\u001b[39;00m \u001b[39m1\u001b[39m:\n\u001b[0;32m----> <a href='vscode-notebook-cell://127.0.0.1:8080/home/kawa/projects/car1/src/mic.ipynb#W4sdnNjb2RlLXJlbW90ZQ%3D%3D?line=2'>3</a>\u001b[0m     readerBuffer\u001b[39m.\u001b[39;49msample()\n\u001b[1;32m      <a href='vscode-notebook-cell://127.0.0.1:8080/home/kawa/projects/car1/src/mic.ipynb#W4sdnNjb2RlLXJlbW90ZQ%3D%3D?line=4'>5</a>\u001b[0m     \u001b[39mif\u001b[39;00m  (\u001b[39mnot\u001b[39;00m i \u001b[39m%\u001b[39m \u001b[39m10\u001b[39m):\n\u001b[1;32m      <a href='vscode-notebook-cell://127.0.0.1:8080/home/kawa/projects/car1/src/mic.ipynb#W4sdnNjb2RlLXJlbW90ZQ%3D%3D?line=6'>7</a>\u001b[0m         \u001b[39mslice\u001b[39m \u001b[39m=\u001b[39m np\u001b[39m.\u001b[39mstack(readerBuffer\u001b[39m.\u001b[39msxx_buffer[\u001b[39m-\u001b[39m\u001b[39m3\u001b[39m:], axis\u001b[39m=\u001b[39m\u001b[39m-\u001b[39m\u001b[39m1\u001b[39m)\u001b[39m.\u001b[39mmean(\u001b[39m-\u001b[39m\u001b[39m1\u001b[39m)\n",
      "\u001b[1;32m/home/kawa/projects/car1/src/mic.ipynb Cell 5\u001b[0m line \u001b[0;36m2\n\u001b[1;32m     <a href='vscode-notebook-cell://127.0.0.1:8080/home/kawa/projects/car1/src/mic.ipynb#W4sdnNjb2RlLXJlbW90ZQ%3D%3D?line=26'>27</a>\u001b[0m \u001b[39mdef\u001b[39;00m \u001b[39msample\u001b[39m(\u001b[39mself\u001b[39m):\n\u001b[0;32m---> <a href='vscode-notebook-cell://127.0.0.1:8080/home/kawa/projects/car1/src/mic.ipynb#W4sdnNjb2RlLXJlbW90ZQ%3D%3D?line=28'>29</a>\u001b[0m     x \u001b[39m=\u001b[39m \u001b[39mself\u001b[39;49m\u001b[39m.\u001b[39;49mrecorder\u001b[39m.\u001b[39;49mread()\n\u001b[1;32m     <a href='vscode-notebook-cell://127.0.0.1:8080/home/kawa/projects/car1/src/mic.ipynb#W4sdnNjb2RlLXJlbW90ZQ%3D%3D?line=30'>31</a>\u001b[0m     \u001b[39mself\u001b[39m\u001b[39m.\u001b[39msignal_buffer \u001b[39m=\u001b[39m \u001b[39mself\u001b[39m\u001b[39m.\u001b[39msignal_buffer[\u001b[39m1\u001b[39m:] \u001b[39m+\u001b[39m [x]\n\u001b[1;32m     <a href='vscode-notebook-cell://127.0.0.1:8080/home/kawa/projects/car1/src/mic.ipynb#W4sdnNjb2RlLXJlbW90ZQ%3D%3D?line=32'>33</a>\u001b[0m     y \u001b[39m=\u001b[39m fft(np\u001b[39m.\u001b[39mconcatenate(\u001b[39mself\u001b[39m\u001b[39m.\u001b[39msignal_buffer))[:\u001b[39mself\u001b[39m\u001b[39m.\u001b[39mn_freqs]\n",
      "File \u001b[0;32m~/projects/car1/.venv/lib/python3.9/site-packages/pvrecorder/_pvrecorder.py:176\u001b[0m, in \u001b[0;36mPvRecorder.read\u001b[0;34m(self)\u001b[0m\n\u001b[1;32m    170\u001b[0m \u001b[39m\u001b[39m\u001b[39m\"\"\"Synchronous call to read a frame of audio.\u001b[39;00m\n\u001b[1;32m    171\u001b[0m \n\u001b[1;32m    172\u001b[0m \u001b[39m:return: A frame with size `frame_length` matching the value given to `__init__()`.\u001b[39;00m\n\u001b[1;32m    173\u001b[0m \u001b[39m\"\"\"\u001b[39;00m\n\u001b[1;32m    175\u001b[0m pcm \u001b[39m=\u001b[39m (c_int16 \u001b[39m*\u001b[39m \u001b[39mself\u001b[39m\u001b[39m.\u001b[39m_frame_length)()\n\u001b[0;32m--> 176\u001b[0m status \u001b[39m=\u001b[39m \u001b[39mself\u001b[39;49m\u001b[39m.\u001b[39;49m_read_func(\u001b[39mself\u001b[39;49m\u001b[39m.\u001b[39;49m_handle, pcm)\n\u001b[1;32m    177\u001b[0m \u001b[39mif\u001b[39;00m status \u001b[39mis\u001b[39;00m \u001b[39mnot\u001b[39;00m \u001b[39mself\u001b[39m\u001b[39m.\u001b[39mPvRecorderStatuses\u001b[39m.\u001b[39mSUCCESS:\n\u001b[1;32m    178\u001b[0m     \u001b[39mraise\u001b[39;00m \u001b[39mself\u001b[39m\u001b[39m.\u001b[39m_PVRECORDER_STATUS_TO_EXCEPTION[status](\u001b[39m\"\u001b[39m\u001b[39mFailed to read from device.\u001b[39m\u001b[39m\"\u001b[39m)\n",
      "File \u001b[0;32m/usr/lib/python3.9/enum.py:334\u001b[0m, in \u001b[0;36mEnumMeta.__call__\u001b[0;34m(cls, value, names, module, qualname, type, start)\u001b[0m\n\u001b[1;32m    329\u001b[0m \u001b[39m    \u001b[39m\u001b[39m\"\"\"\u001b[39;00m\n\u001b[1;32m    330\u001b[0m \u001b[39m    classes/types should always be True.\u001b[39;00m\n\u001b[1;32m    331\u001b[0m \u001b[39m    \"\"\"\u001b[39;00m\n\u001b[1;32m    332\u001b[0m     \u001b[39mreturn\u001b[39;00m \u001b[39mTrue\u001b[39;00m\n\u001b[0;32m--> 334\u001b[0m \u001b[39mdef\u001b[39;00m \u001b[39m__call__\u001b[39m(\u001b[39mcls\u001b[39m, value, names\u001b[39m=\u001b[39m\u001b[39mNone\u001b[39;00m, \u001b[39m*\u001b[39m, module\u001b[39m=\u001b[39m\u001b[39mNone\u001b[39;00m, qualname\u001b[39m=\u001b[39m\u001b[39mNone\u001b[39;00m, \u001b[39mtype\u001b[39m\u001b[39m=\u001b[39m\u001b[39mNone\u001b[39;00m, start\u001b[39m=\u001b[39m\u001b[39m1\u001b[39m):\n\u001b[1;32m    335\u001b[0m \u001b[39m    \u001b[39m\u001b[39m\"\"\"\u001b[39;00m\n\u001b[1;32m    336\u001b[0m \u001b[39m    Either returns an existing member, or creates a new enum class.\u001b[39;00m\n\u001b[1;32m    337\u001b[0m \n\u001b[0;32m   (...)\u001b[0m\n\u001b[1;32m    357\u001b[0m \u001b[39m    `type`, if set, will be mixed in as the first base class.\u001b[39;00m\n\u001b[1;32m    358\u001b[0m \u001b[39m    \"\"\"\u001b[39;00m\n\u001b[1;32m    359\u001b[0m     \u001b[39mif\u001b[39;00m names \u001b[39mis\u001b[39;00m \u001b[39mNone\u001b[39;00m:  \u001b[39m# simple value lookup\u001b[39;00m\n",
      "\u001b[0;31mKeyboardInterrupt\u001b[0m: "
     ]
    }
   ],
   "source": [
    "i = 0\n",
    "while 1:\n",
    "    readerBuffer.sample()\n",
    "\n",
    "    if  (not i % 10):\n",
    "        \n",
    "        slice = np.stack(readerBuffer.sxx_buffer[-3:], axis=-1).mean(-1)\n",
    "        slice = normalise(slice[np.where(readerBuffer.freqs < 2000) ])\n",
    "        \n",
    "        #spectro_update(slice)        \n",
    "\n",
    "        if not (i%25):\n",
    "            slice_update(slice)\n",
    "\n",
    "        #indices = find_peak_indices(slice, 5)\n",
    "\n",
    "        #freqs = readerBuffer.freqs[indices]\n",
    "        #strengths = slice[indices]\n",
    "        #basefreq = find_basefreq(freqs)\n",
    "        #pitch, freq, strength = find_peaks(slice, readerBuffer.freqs)\n",
    "\n",
    "        freqs, strengths = get_freq_bands(slice, readerBuffer.freqs, 2, 4)\n",
    "\n",
    "        basefreq = find_basefreq(np.array(freqs))\n",
    "\n",
    "        print(basefreq, end='          \\r')\n",
    "        table_update(dict(\n",
    "            frequency = freqs, \n",
    "            strength = strengths, \n",
    "        ))\n",
    "    \n",
    "    \n",
    "    i+=1\n"
   ]
  },
  {
   "cell_type": "code",
   "execution_count": 8,
   "id": "bc9eafb0-3012-46fe-ab02-0a4a41dacf45",
   "metadata": {},
   "outputs": [
    {
     "data": {
      "application/vnd.jupyter.widget-view+json": {
       "model_id": "7ee0f082788e488ea23e07defb029edd",
       "version_major": 2,
       "version_minor": 0
      },
      "text/plain": [
       "FigureWidget({\n",
       "    'data': [{'cells': {'values': [[0.0], [5.289845079932258]]},\n",
       "              'header': {'values': ['frequency', 'strength']},\n",
       "              'type': 'table',\n",
       "              'uid': '00311243-62ee-4f4a-a277-76c02bf75e1d'}],\n",
       "    'layout': {'template': '...'}\n",
       "})"
      ]
     },
     "execution_count": 8,
     "metadata": {},
     "output_type": "execute_result"
    }
   ],
   "source": [
    "table"
   ]
  },
  {
   "cell_type": "code",
   "execution_count": 7,
   "id": "b59a9ab6-4264-4efc-99d8-f826ebe36ec2",
   "metadata": {},
   "outputs": [
    {
     "data": {
      "application/vnd.jupyter.widget-view+json": {
       "model_id": "0b9b337b89f04bfa9abce2ed5a6e5aed",
       "version_major": 2,
       "version_minor": 0
      },
      "text/plain": [
       "FigureWidget({\n",
       "    'data': [{'type': 'scatter',\n",
       "              'uid': 'e099f0c9-e403-4737-9427-daec5bb240c9',\n",
       "              'x': array([0.000e+00, 4.000e+00, 8.000e+00, ..., 7.988e+03, 7.992e+03, 7.996e+03]),\n",
       "              'y': array([ 5.20076176,  0.01403737,  0.30337646, ..., -1.75371409, -1.38380922,\n",
       "                          -1.7005456 ])}],\n",
       "    'layout': {'autosize': True, 'template': '...'}\n",
       "})"
      ]
     },
     "execution_count": 7,
     "metadata": {},
     "output_type": "execute_result"
    }
   ],
   "source": [
    "slice_fig"
   ]
  },
  {
   "cell_type": "code",
   "execution_count": null,
   "id": "7f189102-5b94-4333-b360-e266cc989806",
   "metadata": {},
   "outputs": [],
   "source": [
    "spectro_fig"
   ]
  }
 ],
 "metadata": {
  "kernelspec": {
   "display_name": "Python 3 (ipykernel)",
   "language": "python",
   "name": "python3"
  },
  "language_info": {
   "codemirror_mode": {
    "name": "ipython",
    "version": 3
   },
   "file_extension": ".py",
   "mimetype": "text/x-python",
   "name": "python",
   "nbconvert_exporter": "python",
   "pygments_lexer": "ipython3",
   "version": "3.9.2"
  }
 },
 "nbformat": 4,
 "nbformat_minor": 5
}
