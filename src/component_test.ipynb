{
 "cells": [
  {
   "cell_type": "code",
   "execution_count": 1,
   "metadata": {},
   "outputs": [],
   "source": [
    "\n",
    "from components.controller.bluetooth_controller import BlueToothCarControlSPP\n",
    "from components.controller.bluetooth_SPP_server import start_bluetooth_server, start_bluetooth_server_v2\n",
    "from components.gyroscope.gyroscope import AngularSpeedControlV2\n",
    "from components.two_wheels import TwoWheelsV2\n",
    "from components.camera import PicameraV2\n",
    "#from components.controller.image_ml import ImageMLController\n",
    "from data_collection.data_collection import LoggerSet, Logger\n",
    "from multiprocessing import Manager\n",
    "\n",
    "from components import default_loop, default_loop_v2, default_component_process_starter_v2, shared_value\n",
    "\n",
    "import RPi.GPIO as GPIO\n",
    "GPIO.setmode(GPIO.BOARD)\n",
    "from ctypes import c_double\n",
    "\n",
    "\n",
    "\n",
    "%load_ext autoreload\n",
    "%autoreload 2"
   ]
  },
  {
   "cell_type": "code",
   "execution_count": 2,
   "metadata": {},
   "outputs": [],
   "source": [
    "logger_set = LoggerSet('../log/component_testing', overwrite_ok=True)\n",
    "manager = Manager()\n",
    "\n",
    "\n",
    "\n"
   ]
  },
  {
   "cell_type": "markdown",
   "metadata": {},
   "source": [
    "## Two Wheels"
   ]
  },
  {
   "cell_type": "code",
   "execution_count": 3,
   "metadata": {},
   "outputs": [],
   "source": [
    "left_pwm_r, left_pwm_w = shared_value(manager, 'd', 0)\n",
    "right_pwm_r, right_pwm_w = shared_value(manager, 'd', 0)\n",
    "\n",
    "w_out, w_starter = default_component_process_starter_v2(\n",
    "    TwoWheelsV2, \n",
    "    init_kwargs= dict(\n",
    "        left_pin=33, \n",
    "        right_pin=32, \n",
    "        dir_pins=(16, 18), \n",
    "        logger_set=logger_set, \n",
    "        name='TwoWheelsV2'\n",
    "    ), \n",
    "    mainloop = default_loop_v2, \n",
    "    main_kwargs=dict(interval=1/50),\n",
    "    manager=manager, \n",
    ")\n",
    "w = w_starter([left_pwm_r, right_pwm_r])"
   ]
  },
  {
   "cell_type": "code",
   "execution_count": 11,
   "metadata": {},
   "outputs": [],
   "source": [
    "import time\n",
    "left_pwm_w(100)\n",
    "time.sleep(0.1)\n",
    "left_pwm_w(0)"
   ]
  },
  {
   "cell_type": "code",
   "execution_count": 12,
   "metadata": {},
   "outputs": [],
   "source": [
    "w.terminate()"
   ]
  },
  {
   "cell_type": "markdown",
   "metadata": {},
   "source": [
    "# IMU"
   ]
  },
  {
   "cell_type": "code",
   "execution_count": 64,
   "metadata": {},
   "outputs": [],
   "source": [
    "speed_r, speed_w = shared_value(manager, 'd', 0)\n",
    "angular_velocity_r, angular_velocity_w = shared_value(manager, 'd', 0)\n",
    "\n",
    "imu_out, imu_starter = default_component_process_starter_v2(\n",
    "    AngularSpeedControlV2, \n",
    "    init_kwargs= dict(\n",
    "        logger_set=logger_set, \n",
    "        name='AngularSpeedControlV2'\n",
    "    ), \n",
    "    mainloop = default_loop_v2, \n",
    "    main_kwargs=dict(interval=1/50),\n",
    "    manager=manager, \n",
    ")\n",
    "imu = imu_starter([angular_velocity_r, speed_r])"
   ]
  },
  {
   "cell_type": "code",
   "execution_count": 75,
   "metadata": {},
   "outputs": [],
   "source": [
    "speed_w(60)\n",
    "angular_velocity_w(-1)"
   ]
  },
  {
   "cell_type": "code",
   "execution_count": null,
   "metadata": {},
   "outputs": [],
   "source": [
    "imu_out[0](), imu_out[1]()"
   ]
  },
  {
   "cell_type": "code",
   "execution_count": 86,
   "metadata": {},
   "outputs": [],
   "source": [
    "imu.terminate()"
   ]
  },
  {
   "cell_type": "markdown",
   "metadata": {},
   "source": [
    "# Camera"
   ]
  },
  {
   "cell_type": "code",
   "execution_count": 97,
   "metadata": {},
   "outputs": [
    {
     "name": "stderr",
     "output_type": "stream",
     "text": [
      "[2:04:53.368415880] [27621] \u001b[1;32m INFO \u001b[1;37mCamera \u001b[1;34mcamera_manager.cpp:297 \u001b[0mlibcamera v0.0.5+83-bde9b04f\n",
      "[2:04:53.432958212] [27632] \u001b[1;32m INFO \u001b[1;37mRPI \u001b[1;34mvc4.cpp:437 \u001b[0mRegistered camera /base/soc/i2c0mux/i2c@1/ov5647@36 to Unicam device /dev/media0 and ISP device /dev/media2\n",
      "[2:04:53.433228635] [27632] \u001b[1;32m INFO \u001b[1;37mRPI \u001b[1;34mpipeline_base.cpp:1101 \u001b[0mUsing configuration file '/usr/share/libcamera/pipeline/rpi/vc4/rpi_apps.yaml'\n",
      "[2:04:53.563053977] [27621] \u001b[1;32m INFO \u001b[1;37mCamera \u001b[1;34mcamera.cpp:1033 \u001b[0mconfiguring streams: (0) 114x64-RGB888 (1) 1920x1080-SGRBG10_CSI2P\n",
      "[2:04:53.563687045] [27632] \u001b[1;32m INFO \u001b[1;37mRPI \u001b[1;34mvc4.cpp:565 \u001b[0mSensor: /base/soc/i2c0mux/i2c@1/ov5647@36 - Selected sensor format: 1920x1080-SGRBG10_1X10 - Selected unicam format: 1920x1080-pgAA\n"
     ]
    }
   ],
   "source": [
    "cam_out, cam_starter = default_component_process_starter_v2(\n",
    "    PicameraV2, \n",
    "    init_kwargs= dict(\n",
    "        resolution=(114, 64), framerate=30,\n",
    "        logger_set=logger_set, \n",
    "        name='PicameraV2'\n",
    "    ), \n",
    "    mainloop = default_loop_v2, \n",
    "    main_kwargs=dict(interval=1/50),\n",
    "    manager=manager, \n",
    "    shared_outputs_kwargs=dict(resolution=(114, 64))\n",
    ")\n",
    "cam = cam_starter()"
   ]
  },
  {
   "cell_type": "code",
   "execution_count": 142,
   "metadata": {},
   "outputs": [
    {
     "data": {
      "text/plain": [
       "0.0014964109996071784"
      ]
     },
     "execution_count": 142,
     "metadata": {},
     "output_type": "execute_result"
    }
   ],
   "source": [
    "s = time.monotonic()\n",
    "cam_out[0]()\n",
    "e = time.monotonic()\n",
    "\n",
    "e-s"
   ]
  },
  {
   "cell_type": "code",
   "execution_count": 144,
   "metadata": {},
   "outputs": [],
   "source": [
    "cam.terminate()"
   ]
  },
  {
   "cell_type": "code",
   "execution_count": 146,
   "metadata": {},
   "outputs": [
    {
     "data": {
      "text/plain": [
       "False"
      ]
     },
     "execution_count": 146,
     "metadata": {},
     "output_type": "execute_result"
    }
   ],
   "source": [
    "cam.is_alive()"
   ]
  },
  {
   "cell_type": "markdown",
   "metadata": {},
   "source": [
    "# Bluetooth"
   ]
  },
  {
   "cell_type": "code",
   "execution_count": 160,
   "metadata": {},
   "outputs": [
    {
     "name": "stdout",
     "output_type": "stream",
     "text": [
      "Making discoverable...\n",
      "Starting Serial Port Profile...\n",
      "NewConnection(/org/bluez/hci0/dev_C8_BD_4D_BA_4F_15, 92)\n"
     ]
    }
   ],
   "source": [
    "bt_ser_out, bt_ser = start_bluetooth_server_v2(manager)\n"
   ]
  },
  {
   "cell_type": "code",
   "execution_count": 164,
   "metadata": {},
   "outputs": [
    {
     "data": {
      "text/plain": [
       "{'up': False}"
      ]
     },
     "execution_count": 164,
     "metadata": {},
     "output_type": "execute_result"
    }
   ],
   "source": [
    "bt_ser_out[0]()"
   ]
  },
  {
   "cell_type": "code",
   "execution_count": 159,
   "metadata": {},
   "outputs": [],
   "source": [
    "bt_ser.terminate()"
   ]
  },
  {
   "cell_type": "code",
   "execution_count": 168,
   "metadata": {},
   "outputs": [],
   "source": [
    "\n",
    "bt_out, bt_starter = default_component_process_starter_v2(\n",
    "    BlueToothCarControlSPP, \n",
    "    init_kwargs= dict(\n",
    "        logger_set=logger_set, \n",
    "        name='BlueToothCarControlSPP'\n",
    "    ), \n",
    "    mainloop=default_loop_v2, \n",
    "    main_kwargs=dict(interval=1/30), \n",
    "    manager=manager, \n",
    ")\n"
   ]
  },
  {
   "cell_type": "code",
   "execution_count": 169,
   "metadata": {},
   "outputs": [],
   "source": [
    "bt = bt_starter(bt_ser_out)"
   ]
  },
  {
   "cell_type": "code",
   "execution_count": 184,
   "metadata": {},
   "outputs": [
    {
     "data": {
      "text/plain": [
       "(0, 0)"
      ]
     },
     "execution_count": 184,
     "metadata": {},
     "output_type": "execute_result"
    }
   ],
   "source": [
    "bt_out[0](),bt_out[1]()"
   ]
  },
  {
   "cell_type": "code",
   "execution_count": 185,
   "metadata": {},
   "outputs": [],
   "source": [
    "bt.terminate()"
   ]
  },
  {
   "cell_type": "markdown",
   "metadata": {},
   "source": [
    "# ML Component\n"
   ]
  },
  {
   "cell_type": "code",
   "execution_count": 186,
   "metadata": {},
   "outputs": [],
   "source": [
    "from components.controller.image_ml import ImageMLController\n",
    "ml_out, ml_starter = default_component_process_starter_v2(\n",
    "    ImageMLController, \n",
    "    init_kwargs= dict(\n",
    "        #resolution=(114, 64), framerate=30,\n",
    "        model_path='test.keras',\n",
    "        logger_set=logger_set, \n",
    "        name='ImageMLController'\n",
    "    ), \n",
    "    mainloop=default_loop_v2, \n",
    "    main_kwargs=dict(interval=1/60), \n",
    "    manager=manager, \n",
    ")\n"
   ]
  },
  {
   "cell_type": "code",
   "execution_count": 193,
   "metadata": {},
   "outputs": [
    {
     "data": {
      "text/plain": [
       "(<tf.Tensor: shape=(), dtype=float32, numpy=1.1172317e-25>,\n",
       " <tf.Tensor: shape=(), dtype=float32, numpy=2.0058616e-26>)"
      ]
     },
     "execution_count": 193,
     "metadata": {},
     "output_type": "execute_result"
    }
   ],
   "source": [
    "ml_out[0](),ml_out[1]()"
   ]
  },
  {
   "cell_type": "code",
   "execution_count": 189,
   "metadata": {},
   "outputs": [
    {
     "name": "stderr",
     "output_type": "stream",
     "text": [
      "/home/kawa/projects/car1/.venv/lib/python3.9/site-packages/keras/src/saving/saving_lib.py:415: UserWarning: Skipping variable loading for optimizer 'adam', because it has 30 variables whereas the saved optimizer has 2 variables. \n",
      "  saveable.load_own_variables(weights_store.get(inner_path))\n"
     ]
    }
   ],
   "source": [
    "ml = ml_starter(cam_out)"
   ]
  },
  {
   "cell_type": "code",
   "execution_count": 194,
   "metadata": {},
   "outputs": [],
   "source": [
    "ml.terminate()"
   ]
  },
  {
   "cell_type": "code",
   "execution_count": null,
   "metadata": {},
   "outputs": [],
   "source": []
  }
 ],
 "metadata": {
  "kernelspec": {
   "display_name": ".venv",
   "language": "python",
   "name": "python3"
  },
  "language_info": {
   "codemirror_mode": {
    "name": "ipython",
    "version": 3
   },
   "file_extension": ".py",
   "mimetype": "text/x-python",
   "name": "python",
   "nbconvert_exporter": "python",
   "pygments_lexer": "ipython3",
   "version": "3.9.2"
  }
 },
 "nbformat": 4,
 "nbformat_minor": 2
}
