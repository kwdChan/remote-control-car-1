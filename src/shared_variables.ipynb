{
 "cells": [
  {
   "cell_type": "code",
   "execution_count": 5,
   "metadata": {},
   "outputs": [
    {
     "name": "stdout",
     "output_type": "stream",
     "text": [
      "test\n"
     ]
    }
   ],
   "source": [
    "class Base:\n",
    "    @staticmethod\n",
    "    def test():\n",
    "        print('test')\n",
    "\n",
    "class A(Base):\n",
    "    @staticmethod\n",
    "    def test2(a):\n",
    "        print('test2')\n",
    "        return 'str'\n",
    "A.test()\n"
   ]
  },
  {
   "cell_type": "code",
   "execution_count": 6,
   "metadata": {},
   "outputs": [],
   "source": [
    "from multiprocessing import Value"
   ]
  },
  {
   "cell_type": "code",
   "execution_count": 17,
   "metadata": {},
   "outputs": [],
   "source": [
    "a = Value('d', 0, lock=False)"
   ]
  },
  {
   "cell_type": "code",
   "execution_count": 18,
   "metadata": {},
   "outputs": [
    {
     "data": {
      "text/plain": [
       "ctypes.c_double"
      ]
     },
     "execution_count": 18,
     "metadata": {},
     "output_type": "execute_result"
    }
   ],
   "source": [
    "type(a)"
   ]
  },
  {
   "cell_type": "code",
   "execution_count": 12,
   "metadata": {},
   "outputs": [],
   "source": [
    "import multiprocessing.sharedctypes.Synchronized as SharedValue"
   ]
  },
  {
   "cell_type": "code",
   "execution_count": 20,
   "metadata": {},
   "outputs": [
    {
     "data": {
      "text/plain": [
       "0.0"
      ]
     },
     "execution_count": 20,
     "metadata": {},
     "output_type": "execute_result"
    }
   ],
   "source": [
    "a.value"
   ]
  },
  {
   "cell_type": "code",
   "execution_count": 21,
   "metadata": {},
   "outputs": [],
   "source": [
    "a = Value('d', 0, lock=True)"
   ]
  },
  {
   "cell_type": "code",
   "execution_count": 23,
   "metadata": {},
   "outputs": [
    {
     "data": {
      "text/plain": [
       "0.0"
      ]
     },
     "execution_count": 23,
     "metadata": {},
     "output_type": "execute_result"
    }
   ],
   "source": [
    "a.value"
   ]
  },
  {
   "cell_type": "code",
   "execution_count": 83,
   "metadata": {},
   "outputs": [
    {
     "name": "stdout",
     "output_type": "stream",
     "text": [
      "<class '__main__.A'>\n"
     ]
    },
    {
     "data": {
      "text/plain": [
       "['str']"
      ]
     },
     "execution_count": 83,
     "metadata": {},
     "output_type": "execute_result"
    }
   ],
   "source": [
    "from typing import List\n",
    "class Base:\n",
    "    @classmethod\n",
    "    def test2():\n",
    "        print('test')\n",
    "\n",
    "class A(Base):\n",
    "    @classmethod\n",
    "    def test2(a) -> None:\n",
    "        print(a)\n",
    "        return ['str']\n",
    "\n",
    "\n",
    "A.test2()"
   ]
  },
  {
   "cell_type": "code",
   "execution_count": 1,
   "metadata": {},
   "outputs": [
    {
     "ename": "NameError",
     "evalue": "name 'A' is not defined",
     "output_type": "error",
     "traceback": [
      "\u001b[0;31m---------------------------------------------------------------------------\u001b[0m",
      "\u001b[0;31mNameError\u001b[0m                                 Traceback (most recent call last)",
      "\u001b[1;32m/home/kawa/projects/car1/src/shared_variables.ipynb Cell 10\u001b[0m line \u001b[0;36m4\n\u001b[1;32m      <a href='vscode-notebook-cell://127.0.0.1:8080/home/kawa/projects/car1/src/shared_variables.ipynb#X12sdnNjb2RlLXJlbW90ZQ%3D%3D?line=0'>1</a>\u001b[0m \u001b[39mimport\u001b[39;00m \u001b[39minspect\u001b[39;00m\n\u001b[1;32m      <a href='vscode-notebook-cell://127.0.0.1:8080/home/kawa/projects/car1/src/shared_variables.ipynb#X12sdnNjb2RlLXJlbW90ZQ%3D%3D?line=1'>2</a>\u001b[0m \u001b[39mfrom\u001b[39;00m \u001b[39mtyping\u001b[39;00m \u001b[39mimport\u001b[39;00m get_origin, get_args\n\u001b[0;32m----> <a href='vscode-notebook-cell://127.0.0.1:8080/home/kawa/projects/car1/src/shared_variables.ipynb#X12sdnNjb2RlLXJlbW90ZQ%3D%3D?line=3'>4</a>\u001b[0m s \u001b[39m=\u001b[39m inspect\u001b[39m.\u001b[39msignature(A\u001b[39m.\u001b[39mtest2)\n\u001b[1;32m      <a href='vscode-notebook-cell://127.0.0.1:8080/home/kawa/projects/car1/src/shared_variables.ipynb#X12sdnNjb2RlLXJlbW90ZQ%3D%3D?line=5'>6</a>\u001b[0m s\u001b[39m.\u001b[39mreturn_annotation\n",
      "\u001b[0;31mNameError\u001b[0m: name 'A' is not defined"
     ]
    }
   ],
   "source": [
    "import inspect\n",
    "from typing import get_origin, get_args\n",
    "\n",
    "s = inspect.signature(A.test2)\n",
    "\n",
    "s.return_annotation\n",
    "\n"
   ]
  },
  {
   "cell_type": "code",
   "execution_count": 45,
   "metadata": {},
   "outputs": [
    {
     "data": {
      "text/plain": [
       "NoneType"
      ]
     },
     "execution_count": 45,
     "metadata": {},
     "output_type": "execute_result"
    }
   ],
   "source": [
    "type(None)"
   ]
  },
  {
   "cell_type": "code",
   "execution_count": 48,
   "metadata": {},
   "outputs": [
    {
     "ename": "NameError",
     "evalue": "name 'NoneType' is not defined",
     "output_type": "error",
     "traceback": [
      "\u001b[0;31m---------------------------------------------------------------------------\u001b[0m",
      "\u001b[0;31mNameError\u001b[0m                                 Traceback (most recent call last)",
      "\u001b[1;32m/home/kawa/projects/car1/src/shared_variables.ipynb Cell 12\u001b[0m line \u001b[0;36m1\n\u001b[0;32m----> <a href='vscode-notebook-cell://127.0.0.1:8080/home/kawa/projects/car1/src/shared_variables.ipynb#X14sdnNjb2RlLXJlbW90ZQ%3D%3D?line=0'>1</a>\u001b[0m \u001b[39misinstance\u001b[39m(\u001b[39mNone\u001b[39;00m, NoneType)\n",
      "\u001b[0;31mNameError\u001b[0m: name 'NoneType' is not defined"
     ]
    }
   ],
   "source": [
    "isinstance(None, NoneType)"
   ]
  },
  {
   "cell_type": "code",
   "execution_count": 80,
   "metadata": {},
   "outputs": [],
   "source": [
    "from ctypes import c_wchar_p, c_char_p, c_void_p"
   ]
  },
  {
   "cell_type": "code",
   "execution_count": 61,
   "metadata": {},
   "outputs": [
    {
     "ename": "UnpicklingError",
     "evalue": "pickle data was truncated",
     "output_type": "error",
     "traceback": [
      "\u001b[0;31m---------------------------------------------------------------------------\u001b[0m",
      "\u001b[0;31mUnpicklingError\u001b[0m                           Traceback (most recent call last)",
      "\u001b[1;32m/home/kawa/projects/car1/src/shared_variables.ipynb Cell 14\u001b[0m line \u001b[0;36m1\n\u001b[0;32m----> <a href='vscode-notebook-cell://127.0.0.1:8080/home/kawa/projects/car1/src/shared_variables.ipynb#X16sdnNjb2RlLXJlbW90ZQ%3D%3D?line=0'>1</a>\u001b[0m pickle\u001b[39m.\u001b[39;49mloads(Value(c_char_p, pickle\u001b[39m.\u001b[39;49mdumps(\u001b[39m'\u001b[39;49m\u001b[39m231dfcsdf\u001b[39;49m\u001b[39m'\u001b[39;49m))\u001b[39m.\u001b[39;49mvalue)\n",
      "\u001b[0;31mUnpicklingError\u001b[0m: pickle data was truncated"
     ]
    }
   ],
   "source": [
    "pickle.loads()"
   ]
  },
  {
   "cell_type": "code",
   "execution_count": 76,
   "metadata": {},
   "outputs": [
    {
     "data": {
      "text/plain": [
       "b'\\x80\\x04\\x95\\x05\\x00\\x00\\x00\\x00\\x00\\x00\\x00\\x8c\\x012\\x94.'"
      ]
     },
     "execution_count": 76,
     "metadata": {},
     "output_type": "execute_result"
    }
   ],
   "source": [
    "import pickle\n"
   ]
  },
  {
   "cell_type": "code",
   "execution_count": 78,
   "metadata": {},
   "outputs": [
    {
     "data": {
      "text/plain": [
       "bytes"
      ]
     },
     "execution_count": 78,
     "metadata": {},
     "output_type": "execute_result"
    }
   ],
   "source": [
    "type(pickle.dumps('2'))"
   ]
  },
  {
   "cell_type": "code",
   "execution_count": 82,
   "metadata": {},
   "outputs": [
    {
     "ename": "TypeError",
     "evalue": "unicode string or integer address expected instead of bytes instance",
     "output_type": "error",
     "traceback": [
      "\u001b[0;31m---------------------------------------------------------------------------\u001b[0m",
      "\u001b[0;31mTypeError\u001b[0m                                 Traceback (most recent call last)",
      "\u001b[1;32m/home/kawa/projects/car1/src/shared_variables.ipynb Cell 17\u001b[0m line \u001b[0;36m1\n\u001b[0;32m----> <a href='vscode-notebook-cell://127.0.0.1:8080/home/kawa/projects/car1/src/shared_variables.ipynb#X22sdnNjb2RlLXJlbW90ZQ%3D%3D?line=0'>1</a>\u001b[0m Value(c_wchar_p, pickle\u001b[39m.\u001b[39;49mdumps(\u001b[39m'\u001b[39;49m\u001b[39m2\u001b[39;49m\u001b[39m'\u001b[39;49m))\u001b[39m.\u001b[39mvalue\n",
      "File \u001b[0;32m/usr/lib/python3.9/multiprocessing/context.py:135\u001b[0m, in \u001b[0;36mBaseContext.Value\u001b[0;34m(self, typecode_or_type, lock, *args)\u001b[0m\n\u001b[1;32m    133\u001b[0m \u001b[39m\u001b[39m\u001b[39m'''Returns a synchronized shared object'''\u001b[39;00m\n\u001b[1;32m    134\u001b[0m \u001b[39mfrom\u001b[39;00m \u001b[39m.\u001b[39;00m\u001b[39msharedctypes\u001b[39;00m \u001b[39mimport\u001b[39;00m Value\n\u001b[0;32m--> 135\u001b[0m \u001b[39mreturn\u001b[39;00m Value(typecode_or_type, \u001b[39m*\u001b[39;49margs, lock\u001b[39m=\u001b[39;49mlock,\n\u001b[1;32m    136\u001b[0m              ctx\u001b[39m=\u001b[39;49m\u001b[39mself\u001b[39;49m\u001b[39m.\u001b[39;49mget_context())\n",
      "File \u001b[0;32m/usr/lib/python3.9/multiprocessing/sharedctypes.py:74\u001b[0m, in \u001b[0;36mValue\u001b[0;34m(typecode_or_type, lock, ctx, *args)\u001b[0m\n\u001b[1;32m     70\u001b[0m \u001b[39mdef\u001b[39;00m \u001b[39mValue\u001b[39m(typecode_or_type, \u001b[39m*\u001b[39margs, lock\u001b[39m=\u001b[39m\u001b[39mTrue\u001b[39;00m, ctx\u001b[39m=\u001b[39m\u001b[39mNone\u001b[39;00m):\n\u001b[1;32m     71\u001b[0m \u001b[39m    \u001b[39m\u001b[39m'''\u001b[39;00m\n\u001b[1;32m     72\u001b[0m \u001b[39m    Return a synchronization wrapper for a Value\u001b[39;00m\n\u001b[1;32m     73\u001b[0m \u001b[39m    '''\u001b[39;00m\n\u001b[0;32m---> 74\u001b[0m     obj \u001b[39m=\u001b[39m RawValue(typecode_or_type, \u001b[39m*\u001b[39;49margs)\n\u001b[1;32m     75\u001b[0m     \u001b[39mif\u001b[39;00m lock \u001b[39mis\u001b[39;00m \u001b[39mFalse\u001b[39;00m:\n\u001b[1;32m     76\u001b[0m         \u001b[39mreturn\u001b[39;00m obj\n",
      "File \u001b[0;32m/usr/lib/python3.9/multiprocessing/sharedctypes.py:51\u001b[0m, in \u001b[0;36mRawValue\u001b[0;34m(typecode_or_type, *args)\u001b[0m\n\u001b[1;32m     49\u001b[0m obj \u001b[39m=\u001b[39m _new_value(type_)\n\u001b[1;32m     50\u001b[0m ctypes\u001b[39m.\u001b[39mmemset(ctypes\u001b[39m.\u001b[39maddressof(obj), \u001b[39m0\u001b[39m, ctypes\u001b[39m.\u001b[39msizeof(obj))\n\u001b[0;32m---> 51\u001b[0m obj\u001b[39m.\u001b[39;49m\u001b[39m__init__\u001b[39;49m(\u001b[39m*\u001b[39;49margs)\n\u001b[1;32m     52\u001b[0m \u001b[39mreturn\u001b[39;00m obj\n",
      "\u001b[0;31mTypeError\u001b[0m: unicode string or integer address expected instead of bytes instance"
     ]
    }
   ],
   "source": [
    "Value(c_wchar_p, pickle.dumps('2')).value"
   ]
  },
  {
   "cell_type": "code",
   "execution_count": 67,
   "metadata": {},
   "outputs": [],
   "source": [
    "data = pickle.dumps('23df')"
   ]
  },
  {
   "cell_type": "code",
   "execution_count": 73,
   "metadata": {},
   "outputs": [
    {
     "data": {
      "text/plain": [
       "'dfgsdfsfdgndsfgsdghdsfgdsfgsdfdfgsdfsfdgndsfgsdghdsfgdsfgsdfdfgsdfsfdgndsfgsdghdsfgdsfgsdfdfgsdfsfdgndsfgsdghdsfgdsfgsdfdfgsdfsfdgndsfgsdghdsfgdsfgsdf'"
      ]
     },
     "execution_count": 73,
     "metadata": {},
     "output_type": "execute_result"
    }
   ],
   "source": [
    "Value(c_char_p, data).value\n",
    "Value(c_wchar_p, \"dfgsdfsfdgndsfgsdghdsfgdsfgsdfdfgsdfsfdgndsfgsdghdsfgdsfgsdfdfgsdfsfdgndsfgsdghdsfgdsfgsdfdfgsdfsfdgndsfgsdghdsfgdsfgsdfdfgsdfsfdgndsfgsdghdsfgdsfgsdf\").value\n",
    "\n"
   ]
  },
  {
   "cell_type": "code",
   "execution_count": 74,
   "metadata": {},
   "outputs": [
    {
     "data": {
      "text/plain": [
       "b'\\x80\\x04\\x95\\x08\\x00\\x00\\x00\\x00\\x00\\x00\\x00\\x8c\\x0423df\\x94.'"
      ]
     },
     "execution_count": 74,
     "metadata": {},
     "output_type": "execute_result"
    }
   ],
   "source": [
    "data"
   ]
  },
  {
   "cell_type": "code",
   "execution_count": 1,
   "metadata": {},
   "outputs": [],
   "source": [
    "from components.gyroscope.gyroscope import OrientationTrackerV2\n",
    "from components.gyroscope import mpu6050\n",
    "from data_collection.data_collection import LoggerSet, Logger\n",
    "\n",
    "logger_set = LoggerSet('../log/temp', overwrite_ok=True)\n",
    "%load_ext autoreload\n",
    "%autoreload 2"
   ]
  },
  {
   "cell_type": "code",
   "execution_count": 3,
   "metadata": {},
   "outputs": [],
   "source": [
    "device = mpu6050.MPU6050(0x68, 1)\n",
    "logger = logger_set.get_logger('test')\n"
   ]
  },
  {
   "cell_type": "code",
   "execution_count": 4,
   "metadata": {},
   "outputs": [],
   "source": [
    "shared_outputs, starter = OrientationTrackerV2.create(1/10, \n",
    "    entry_kwargs = dict(device=device, logger=logger))"
   ]
  }
 ],
 "metadata": {
  "kernelspec": {
   "display_name": ".venv",
   "language": "python",
   "name": "python3"
  },
  "language_info": {
   "codemirror_mode": {
    "name": "ipython",
    "version": 3
   },
   "file_extension": ".py",
   "mimetype": "text/x-python",
   "name": "python",
   "nbconvert_exporter": "python",
   "pygments_lexer": "ipython3",
   "version": "3.9.2"
  }
 },
 "nbformat": 4,
 "nbformat_minor": 2
}
